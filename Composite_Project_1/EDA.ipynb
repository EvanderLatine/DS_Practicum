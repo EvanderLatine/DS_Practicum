{
 "cells": [
  {
   "cell_type": "markdown",
   "metadata": {},
   "source": [
    "<div class=\"alert alert-success\">\n",
    "<font size=\"4\"><b>Комментарий ревьюера</b></font>\n",
    "    <br /> \n",
    "    <font size=\"3\", color = \"black\">\n",
    "<br />\n",
    "    Привет, Ярослав :) Спасибо, что прислал задание 🤝 Меня зовут Ринат Хисамов и я буду проверять твой проект. Предлагаю обращаться друг к другу на ты. Так нам будет гораздо проще и удобней общаться\n",
    "\n",
    "Мои комментарии обозначены пометкой <b>Комментарий ревьюера</b>. Далее в файле сможешь найти их в похожих ячейках (если фон комментария зелёный — всё сделано правильно (✔️), рекомендации таким же цветом. Отдельным цветом — блок ссылок (примеры ниже, 🍕). Оранжевым или светло желтым рекомендации, которые, хоть и не обязательны, но точно сделают ревью лучше. (⚠️); <u> красный комментарий</u>: код, график или вывод стоит переделать (❌)). \n",
    "\n",
    "Не удаляй все эти комментарии и постарайся учесть их в ходе выполнения данного проекта. \n",
    "Будет замечательно, если добавишь свои комментарии и пояснения✍\n",
    "        \n",
    "__Увидев у тебя неточность, в первый раз я лишь укажу на ее наличие, а ты попробуешь исправить ее самостоятельно. Но если ты пока не справишься с такой задачей — при следующей проверке я дам более подробную подсказку!__        \n",
    "        \n",
    "Поехали 🚀\n",
    "    <br />\n",
    "    </font>\n",
    "\n",
    "</div>"
   ]
  },
  {
   "cell_type": "markdown",
   "metadata": {},
   "source": [
    "<div style=\"border:solid steelblue 1px; padding: 20px\">\n",
    "    \n",
    "<font size=\"4\"><p style=\"text-align:center\"><b>Примеры комментариев </b></p></font>\n",
    "    \n",
    "<div style=\"border:solid steelblue 3px; padding: 20px\">\n",
    "<font size=\"4\"><b>🍕 Пример комментария - совета, здесь м.б. просто ссылка</b></font>\n",
    "    <br /> \n",
    "        <font size=\"3\", color = \"black\">\n",
    "<br />\n",
    "    Тут всего такого разного и вкусного :), есть способы прокачать проект визуализациями (ценит большинство \"боссов\")  <br /><br />\n",
    "        <a href=\"https://devpractice.ru/matplotlib-book/\">“Библиотека Matplotlib” доступна для скачивания БЕСПЛАТНО!</a>\n",
    "        На сайте много полезных материалов, мне самому очень помогло в свое время, до сих пор подсматриваю :)\n",
    "\n",
    "\n",
    "</div>\n",
    "    \n",
    "<div class=\"alert alert-warning\", style=\"border:solid coral 3px; padding: 20px\">\n",
    "    <font size=\"3\"><b>⚠️ Пример оформления некритичного комментария</b>\n",
    "    <br /> \n",
    "    <font size=\"2\", color = \"black\">\n",
    "<br />\n",
    "    Рекомендации, которые, хоть и не обязательны, но точно сделают ревью лучше\n",
    "    <br />\n",
    "    </font>\n",
    "\n",
    "</div>\n",
    "    \n",
    "<div class=\"alert alert-danger\">\n",
    "<font size=\"3\"><b>❌ Пример оформления комментария к блоку(строке) программного кода (или выводу), который стоит переделать</b></font>\n",
    "    <br /> \n",
    "    <font size=\"2\", color = \"black\">\n",
    "<br />\n",
    "    Отправлен не тот проект, напиши в своих комментариях, что случилось? жду — <b>это пример</b>\n",
    "    <br />\n",
    "    </font>\n",
    "\n",
    "</div>\n",
    "    \n",
    "<div class=\"alert alert-success\">\n",
    "<font size=\"4\"><b>✔️ Пример оформления комментария, который нравится большинству студентов</b></font>\n",
    "    <br /> \n",
    "    <font size=\"3\", color = \"black\">\n",
    "<br />\n",
    "    Круто, молодец, отлично, логично, или — 👌, 👍, или — выводы отвечают на все вопросы к данным и проекту\n",
    "    <br />\n",
    "    </font>\n",
    "\n",
    "</div>"
   ]
  },
  {
   "cell_type": "markdown",
   "metadata": {},
   "source": [
    "# Для твоих вопросов или комментариев оставлю такую ячейку, чтобы было удобнее взаимодействовать на проекте"
   ]
  },
  {
   "cell_type": "markdown",
   "metadata": {},
   "source": [
    "<div class=\"alert alert-info\">\n",
    "<font size=\"4\", color = \"black\"><b>✍ Комментарий студента</b></font>\n",
    "    <br /> \n",
    "    <font size=\"3\", color = \"black\">\n",
    "<br /> ... , вот мой вопрос ...\n",
    "        \n",
    "        "
   ]
  },
  {
   "cell_type": "markdown",
   "metadata": {
    "id": "-VFbjcb3Awb7"
   },
   "source": [
    "# Исследование трендов российского кинопроката\n",
    "\n",
    "Нужно изучить рынок российского кинопроката и выявить текущие тренды.\n",
    "\n",
    "Набор данных содержит информацию о прокатных удостоверениях, сборах и государственной поддержке фильмов, а также информацию с сайта КиноПоиск.\n",
    "\n",
    "## Описание данных:\n",
    "У одного фильма может быть несколько прокатных удостоверений. \n",
    "- `title` — название фильма;\n",
    "- `pu_number` — номер прокатного удостоверения;\n",
    "- `show_start_date` — дата премьеры фильма;\n",
    "- `type` — тип фильма;\n",
    "- `film_studio` — студия-производитель;\n",
    "- `production_country` — страна-производитель;\n",
    "- `director` — режиссёр;\n",
    "- `producer` — продюсер;\n",
    "- `age_restriction` — возрастная категория;\n",
    "- `refundable_support` — объём возвратных средств государственной поддержки;\n",
    "- `nonrefundable_support` — объём невозвратных средств государственной поддержки;\n",
    "- `financing_source` — источник государственного финансирования;\n",
    "- `budget` — общий бюджет фильма;\n",
    "- `ratings` — рейтинг фильма на КиноПоиске;\n",
    "- `genres` — жанр фильма.\n",
    "- `pu_number` — номер прокатного удостоверения;\n",
    "- `box_office` — сборы в рублях.\n",
    "\n",
    "Столбец `budget` уже включает в себя полный объём государственной поддержки. Данные в этом столбце указаны только для тех фильмов, которые получили государственную поддержку. \n",
    "\n",
    "Задача предполагает предобработку и EDA. На этапе предобработки наиболбшую сложность составляют преобразования типов, объединение наборов данных и фильтрация неявных дубликатов в столбце `title`.\n",
    "\n",
    "EDA описан в Сборном проекте 1 в Яндекс.Практикуме. Особую сложность составляет анализ трендов кинопроката в зависимости от государственного субсидирования т.к. эта задача свормулирована очень абстрактно и не содержит конуретных шагов по методологии выполнения."
   ]
  },
  {
   "cell_type": "markdown",
   "metadata": {},
   "source": [
    "<div class=\"alert alert-warning\", style=\"border:solid coral 3px; padding: 20px\">\n",
    "<font size=\"4\", color = \"DimGrey\"><b>⚠️ Комментарий ревьюера</b></font>\n",
    "    <br /> \n",
    "    <font size=\"3\", color = \"black\">\n",
    "<br /> Стоит добавить подробностей, без которых тяжело будет вспомнить через полгода суть проекта (без отдельного брифа проекта)"
   ]
  },
  {
   "cell_type": "markdown",
   "metadata": {},
   "source": [
    "<div class=\"alert alert-info\">\n",
    "<font size=\"4\", color = \"black\">Добавил краткое описание сути проекта.</font>\n",
    "    <br /> \n",
    "    <font size=\"3\", color = \"black\">\n",
    "<br />      \n",
    "        "
   ]
  },
  {
   "cell_type": "code",
   "execution_count": 1,
   "metadata": {
    "trusted": true
   },
   "outputs": [],
   "source": [
    "# !python -m pip install Levenshtein"
   ]
  },
  {
   "cell_type": "code",
   "execution_count": 2,
   "metadata": {
    "trusted": true
   },
   "outputs": [],
   "source": [
    "import pandas as pd\n",
    "import numpy as np\n",
    "from Levenshtein import distance\n",
    "from matplotlib import pyplot as plt\n",
    "from datetime import datetime as dt"
   ]
  },
  {
   "cell_type": "markdown",
   "metadata": {},
   "source": [
    "## Подготовка данных"
   ]
  },
  {
   "cell_type": "markdown",
   "metadata": {
    "id": "aeFLH07FAwb9"
   },
   "source": [
    "### Откроем файл с данными и изучим общую информацию"
   ]
  },
  {
   "cell_type": "code",
   "execution_count": 3,
   "metadata": {
    "id": "7MZxY65pAwb9",
    "trusted": true
   },
   "outputs": [
    {
     "name": "stdout",
     "output_type": "stream",
     "text": [
      "                                                title   puNumber  \\\n",
      "0                                    Открытый простор  221048915   \n",
      "1                                Особо важное задание  111013716   \n",
      "2                                        Особо опасен  221038416   \n",
      "3                                        Особо опасен  221026916   \n",
      "4                                        Особо опасен  221030815   \n",
      "5                                   Остановился поезд  111013816   \n",
      "6                                     Любовь и голуби  111007013   \n",
      "7                                   Любовь и сигареты  221074614   \n",
      "8                                  Отпетые мошенники.  121011416   \n",
      "9                                 Отпуск за свой счет  111019114   \n",
      "10  Превосходство Борна /По одноименной новелле Ро...  221031416   \n",
      "11                                       Ответный ход  111019014   \n",
      "12  Малышка на миллион /По мотивам рассказов Ф.Х.Т...  221011415   \n",
      "13                                 Преданный садовник  121003106   \n",
      "14            Отель /По мотивам пьесы Джона Уэбстера/  221008812   \n",
      "15                                       Председатель  111014916   \n",
      "16                                    Осенний марафон  111007513   \n",
      "17                                              Осень  111027914   \n",
      "18                                      Неподдающиеся  111003616   \n",
      "19                                         Неподсуден  111003716   \n",
      "\n",
      "             show_start_date            type  \\\n",
      "0   2015-11-27T12:00:00.000Z  Художественный   \n",
      "1   2016-09-13T12:00:00.000Z  Художественный   \n",
      "2   2016-10-10T12:00:00.000Z  Художественный   \n",
      "3   2016-06-10T12:00:00.000Z  Художественный   \n",
      "4   2015-07-29T12:00:00.000Z  Художественный   \n",
      "5   2016-09-13T12:00:00.000Z  Художественный   \n",
      "6   2013-10-18T12:00:00.000Z  Художественный   \n",
      "7   2014-12-29T12:00:00.000Z  Художественный   \n",
      "8   2016-05-05T12:00:00.000Z  Художественный   \n",
      "9   2014-12-01T12:00:00.000Z  Художественный   \n",
      "10  2016-06-29T12:00:00.000Z  Художественный   \n",
      "11  2014-12-01T12:00:00.000Z  Художественный   \n",
      "12  2015-04-03T12:00:00.000Z  Художественный   \n",
      "13  2013-08-26T12:00:00.000Z  Художественный   \n",
      "14  2012-01-27T12:00:00.000Z  Художественный   \n",
      "15  2016-09-13T12:00:00.000Z  Художественный   \n",
      "16  2013-10-18T12:00:00.000Z  Художественный   \n",
      "17  2014-12-24T12:00:00.000Z  Художественный   \n",
      "18  2016-02-12T12:00:00.000Z  Художественный   \n",
      "19  2016-02-12T12:00:00.000Z  Художественный   \n",
      "\n",
      "                                          film_studio  \\\n",
      "0   Тачстоун Пикчерз, Кобальт Пикчерз, Бикон Пикче...   \n",
      "1                               Киностудия \"Мосфильм\"   \n",
      "2   Юниверсал Пикчерз, Кикстарт Продакшнз, Марк Пл...   \n",
      "3   Юниверсал Пикчерз, Кикстарт Продакшнз, Марк Пл...   \n",
      "4   Юниверсал Пикчерз, Кикстарт Продакшнз, Марк Пл...   \n",
      "5                               Киностудия \"Мосфильм\"   \n",
      "6                               Киностудия \"Мосфильм\"   \n",
      "7   Юнайтед Артистс, Грин Стрит Филмз, Айкон Интер...   \n",
      "8                      Пульсар Продюксьон, ТФ1 Фильм    \n",
      "9              Киностудия \"Мосфильм\", Телевидение ВНР   \n",
      "10  Кеннеди/Маршал Компани, Юниверсал Пикчерз, Гип...   \n",
      "11                              Киностудия \"Мосфильм\"   \n",
      "12  Уорнер Бразерс, Лейкшор Интертейнмент, Малпасо...   \n",
      "13  Потбойлер Продакшнз, Эпсилон Моушн Пикчерз, Ск...   \n",
      "14  Кэтлей, Отель Продакшнс, Мунстоун Интертейнмен...   \n",
      "15                              Киностудия \"Мосфильм\"   \n",
      "16                              Киностудия \"Мосфильм\"   \n",
      "17                              Киностудия \"Мосфильм\"   \n",
      "18                              Киностудия \"Мосфильм\"   \n",
      "19                              Киностудия \"Мосфильм\"   \n",
      "\n",
      "         production_country                   director  \\\n",
      "0                       США              Кевин Костнер   \n",
      "1                      СССР                  Е.Матвеев   \n",
      "2                       США          Тимур Бекмамбетов   \n",
      "3                       США          Тимур Бекмамбетов   \n",
      "4                       США          Тимур Бекмамбетов   \n",
      "5                      СССР               В.Абдрашитов   \n",
      "6                      СССР                  В.Меньшов   \n",
      "7                       США              Джон Туртурро   \n",
      "8                   Франция               Эрик Беснард   \n",
      "9             СССР, Венгрия                    В.Титов   \n",
      "10                      США              Пол Грингросс   \n",
      "11                     СССР              М.Туманишвили   \n",
      "12                      США               Клинт Иствуд   \n",
      "13  Германия-Великобритания        Фернанду Мейрелльеш   \n",
      "14  Великобритания - Италия                Майк Фиггис   \n",
      "15                     СССР                 А.Салтыков   \n",
      "16                     СССР                  Г.Данелия   \n",
      "17                     СССР                  А.Смирнов   \n",
      "18                     СССР                  Ю.Чулюкин   \n",
      "19                     СССР  В.Краснопольский, В.Усков   \n",
      "\n",
      "                                             producer  \\\n",
      "0           Дэвид Валдес, Кевин Костнер, Джейк Эбертс   \n",
      "1                                                 NaN   \n",
      "2   Джим Лемли, Джейсон Нетер, Марк Е.Платт, Яйн Смит   \n",
      "3   Джим Лемли, Джейсон Нетер, Марк Е.Платт, Яйн Смит   \n",
      "4   Джим Лемли, Джейсон Нетер, Марк Е.Платт, Яйн Смит   \n",
      "5                                                 NaN   \n",
      "6                                                 NaN   \n",
      "7                         Джон Пенотти, Джон Туртурро   \n",
      "8                                         Патрис Леду   \n",
      "9                                                 NaN   \n",
      "10         Патрик Кроули, Фрэнк Маршалл, Пол Сэндберг   \n",
      "11                                                NaN   \n",
      "12  Клинт Иствуд, Том Розенберг, Альберт С.Рудди, ...   \n",
      "13                             Саймон Чэннинг Уильямс   \n",
      "14                Этчи Стро, Анни Стюарт, Майк Фиггис   \n",
      "15                                                NaN   \n",
      "16                                                NaN   \n",
      "17                                                NaN   \n",
      "18                                                NaN   \n",
      "19                                                NaN   \n",
      "\n",
      "                    age_restriction  refundable_support  \\\n",
      "0       «18+» - запрещено для детей                 NaN   \n",
      "1     «6+» - для детей старше 6 лет                 NaN   \n",
      "2       «18+» - запрещено для детей                 NaN   \n",
      "3       «18+» - запрещено для детей                 NaN   \n",
      "4       «18+» - запрещено для детей                 NaN   \n",
      "5     «6+» - для детей старше 6 лет                 NaN   \n",
      "6   «12+» - для детей старше 12 лет                 NaN   \n",
      "7       «18+» - запрещено для детей                 NaN   \n",
      "8       «18+» - запрещено для детей                 NaN   \n",
      "9   «12+» - для детей старше 12 лет                 NaN   \n",
      "10  «16+» - для детей старше 16 лет                 NaN   \n",
      "11  «12+» - для детей старше 12 лет                 NaN   \n",
      "12  «16+» - для детей старше 16 лет                 NaN   \n",
      "13  «16+» - для детей старше 16 лет                 NaN   \n",
      "14      «18+» - запрещено для детей                 NaN   \n",
      "15  «12+» - для детей старше 12 лет                 NaN   \n",
      "16  «12+» - для детей старше 12 лет                 NaN   \n",
      "17  «12+» - для детей старше 12 лет                 NaN   \n",
      "18    «6+» - для детей старше 6 лет                 NaN   \n",
      "19    «6+» - для детей старше 6 лет                 NaN   \n",
      "\n",
      "    nonrefundable_support  budget financing_source ratings  \\\n",
      "0                     NaN     NaN              NaN     7.2   \n",
      "1                     NaN     NaN              NaN     6.6   \n",
      "2                     NaN     NaN              NaN     6.8   \n",
      "3                     NaN     NaN              NaN     6.8   \n",
      "4                     NaN     NaN              NaN     6.8   \n",
      "5                     NaN     NaN              NaN     7.7   \n",
      "6                     NaN     NaN              NaN     8.3   \n",
      "7                     NaN     NaN              NaN     6.6   \n",
      "8                     NaN     NaN              NaN     8.0   \n",
      "9                     NaN     NaN              NaN     7.8   \n",
      "10                    NaN     NaN              NaN     7.7   \n",
      "11                    NaN     NaN              NaN     7.8   \n",
      "12                    NaN     NaN              NaN     8.1   \n",
      "13                    NaN     NaN              NaN     7.1   \n",
      "14                    NaN     NaN              NaN     6.0   \n",
      "15                    NaN     NaN              NaN     8.3   \n",
      "16                    NaN     NaN              NaN     8.0   \n",
      "17                    NaN     NaN              NaN     7.4   \n",
      "18                    NaN     NaN              NaN     8.0   \n",
      "19                    NaN     NaN              NaN     7.7   \n",
      "\n",
      "                       genres  \n",
      "0      боевик,драма,мелодрама  \n",
      "1               драма,военный  \n",
      "2   фантастика,боевик,триллер  \n",
      "3   фантастика,боевик,триллер  \n",
      "4   фантастика,боевик,триллер  \n",
      "5                       драма  \n",
      "6           мелодрама,комедия  \n",
      "7    мюзикл,мелодрама,комедия  \n",
      "8            комедия,криминал  \n",
      "9           мелодрама,комедия  \n",
      "10    боевик,триллер,детектив  \n",
      "11   боевик,драма,приключения  \n",
      "12                драма,спорт  \n",
      "13    триллер,драма,мелодрама  \n",
      "14          комедия,мелодрама  \n",
      "15                      драма  \n",
      "16    драма,мелодрама,комедия  \n",
      "17            драма,мелодрама  \n",
      "18          мелодрама,комедия  \n",
      "19                      драма  \n",
      "     puNumber    box_office\n",
      "0   111000113  2.450000e+03\n",
      "1   111000115  6.104000e+04\n",
      "2   111000116  1.530300e+08\n",
      "3   111000117  1.226096e+07\n",
      "4   111000118  1.636841e+08\n",
      "5   111000119  4.293650e+06\n",
      "6   111000212  2.000000e+02\n",
      "7   111000216  3.555670e+05\n",
      "8   111000313  7.100000e+02\n",
      "9   111000314  1.607970e+06\n",
      "10  111000315  3.655000e+04\n",
      "11  111000318  5.635798e+07\n",
      "12  111000319  1.948458e+08\n",
      "13  111000411  1.174000e+04\n",
      "14  111000412  1.920000e+03\n",
      "15  111000413  7.104000e+03\n",
      "16  111000415  4.461635e+08\n",
      "17  111000416  8.143063e+07\n",
      "18  111000417  1.239701e+08\n",
      "19  111000419  5.344971e+07\n"
     ]
    }
   ],
   "source": [
    "try:\n",
    "    df1 = pd.read_csv(r\"C:\\Users\\yka\\Documents\\Practicum\\DS_Practicum\\Composite_Project_1\\source\\mkrf_movies.csv\")\n",
    "    df2 = pd.read_csv(r\"C:\\Users\\yka\\Documents\\Practicum\\DS_Practicum\\Composite_Project_1\\source\\mkrf_shows.csv\")\n",
    "except:\n",
    "    df1 = pd.read_csv(\"/datasets/mkrf_movies.csv\")\n",
    "    df2 = pd.read_csv(\"/datasets/mkrf_shows.csv\")\n",
    "\n",
    "pd.set_option('display.max_columns', None)\n",
    "print(df1.head(20))\n",
    "print(df2.head(20))\n"
   ]
  },
  {
   "cell_type": "markdown",
   "metadata": {},
   "source": [
    "Преобразуем колонки к соответствующим типам данных."
   ]
  },
  {
   "cell_type": "code",
   "execution_count": 4,
   "metadata": {
    "trusted": true
   },
   "outputs": [
    {
     "name": "stdout",
     "output_type": "stream",
     "text": [
      "<class 'pandas.core.frame.DataFrame'>\n",
      "RangeIndex: 7486 entries, 0 to 7485\n",
      "Data columns (total 15 columns):\n",
      " #   Column                 Non-Null Count  Dtype  \n",
      "---  ------                 --------------  -----  \n",
      " 0   title                  7486 non-null   object \n",
      " 1   puNumber               7486 non-null   object \n",
      " 2   show_start_date        7486 non-null   object \n",
      " 3   type                   7486 non-null   object \n",
      " 4   film_studio            7468 non-null   object \n",
      " 5   production_country     7484 non-null   object \n",
      " 6   director               7477 non-null   object \n",
      " 7   producer               6918 non-null   object \n",
      " 8   age_restriction        7486 non-null   object \n",
      " 9   refundable_support     332 non-null    float64\n",
      " 10  nonrefundable_support  332 non-null    float64\n",
      " 11  budget                 332 non-null    float64\n",
      " 12  financing_source       332 non-null    object \n",
      " 13  ratings                6519 non-null   object \n",
      " 14  genres                 6510 non-null   object \n",
      "dtypes: float64(3), object(12)\n",
      "memory usage: 877.4+ KB\n"
     ]
    }
   ],
   "source": [
    "df1.info()"
   ]
  },
  {
   "cell_type": "markdown",
   "metadata": {},
   "source": [
    "Сохраним количество записей до всех преобразований."
   ]
  },
  {
   "cell_type": "code",
   "execution_count": 5,
   "metadata": {},
   "outputs": [
    {
     "name": "stdout",
     "output_type": "stream",
     "text": [
      "Записей было до начала чистки: title                    7486\n",
      "puNumber                 7486\n",
      "show_start_date          7486\n",
      "type                     7486\n",
      "film_studio              7468\n",
      "production_country       7484\n",
      "director                 7477\n",
      "producer                 6918\n",
      "age_restriction          7486\n",
      "refundable_support        332\n",
      "nonrefundable_support     332\n",
      "budget                    332\n",
      "financing_source          332\n",
      "ratings                  6519\n",
      "genres                   6510\n",
      "dtype: int64.\n"
     ]
    }
   ],
   "source": [
    "before_puring = df1.count()\n",
    "print(f\"Записей было до начала чистки: {before_puring}.\")"
   ]
  },
  {
   "cell_type": "markdown",
   "metadata": {},
   "source": [
    "<div class=\"alert alert-warning\", style=\"border:solid coral 3px; padding: 20px\">\n",
    "<font size=\"4\", color = \"DimGrey\"><b>⚠️ Комментарий ревьюера</b></font>\n",
    "    <br /> \n",
    "    <font size=\"3\", color = \"black\">\n",
    "<br /> Все  методы можно собрать в функцию и оптимизировать код вывода первичной информации\n",
    "        \n",
    "        def ...:\n",
    "            ... dataset.head()\n",
    "            ... dataset.info()"
   ]
  },
  {
   "cell_type": "markdown",
   "metadata": {},
   "source": [
    "<div class=\"alert alert-info\">\n",
    "<font size=\"4\", color = \"black\">Не вижу в этом смысла т.к. на разных этапах я хочу посмотреть конкретную информацию, которая может быть получена вызовом конкретных методов, которые я использую.</font>\n",
    "    <br /> \n",
    "    <font size=\"3\", color = \"black\">\n",
    "<br />      \n",
    "        "
   ]
  },
  {
   "cell_type": "markdown",
   "metadata": {},
   "source": [
    "Поле `pu_number` содержит недопустимые для целочисленного типа значения. Точно так же поле `ratings` содержит недопустимые для вещественного типа значения. Преобразуем эти колонки к соответствующим типам через to_numeric() и оптимизируем типы для имеемых значений этих полей."
   ]
  },
  {
   "cell_type": "code",
   "execution_count": 6,
   "metadata": {
    "trusted": true
   },
   "outputs": [
    {
     "name": "stdout",
     "output_type": "stream",
     "text": [
      "До преобразования типа колонки ratings в ней было 6519 записей. После стало 6490. Доля утерянных данных: 0.44%.\n"
     ]
    }
   ],
   "source": [
    "df1[\"puNumber\"] = pd.to_numeric(df1[\"puNumber\"], errors=\"coerce\", downcast=\"integer\")\n",
    "ratings_before = df1[\"ratings\"].count()\n",
    "df1[\"ratings\"] = pd.to_numeric(df1[\"ratings\"], errors=\"coerce\", downcast=\"float\")\n",
    "ratings_after = df1[\"ratings\"].count()\n",
    "print(f\"До преобразования типа колонки ratings в ней было {ratings_before} записей. После стало {ratings_after}. Доля утерянных данных: {(100 - (100 * ratings_after / ratings_before)):.2f}%.\")"
   ]
  },
  {
   "cell_type": "markdown",
   "metadata": {},
   "source": [
    "Оценим полноту данных до и после преобразования колонки `ratings`."
   ]
  },
  {
   "cell_type": "markdown",
   "metadata": {},
   "source": [
    "<div class=\"alert alert-warning\", style=\"border:solid coral 3px; padding: 20px\">\n",
    "<font size=\"4\", color = \"DimGrey\"><b>⚠️ Комментарий ревьюера</b></font>\n",
    "    <br />  \n",
    "    <font size=\"3\", color = \"black\">\n",
    "<br /> Стоит оценить потери в данных после кода\n",
    "        \n",
    "        df1[\"ratings\"] = pd.to_numeric(df1[\"ratings\"], errors=\"coerce\", downcast=\"float\")\n",
    "        \n",
    "и можно ли эти данные терять?        "
   ]
  },
  {
   "cell_type": "markdown",
   "metadata": {},
   "source": [
    "<div class=\"alert alert-info\">\n",
    "<font size=\"4\", color = \"black\">Количество утерянных данных невелико, качество данных улучшилось. Оставим так.</font>\n",
    "    <br /> \n",
    "    <font size=\"3\", color = \"black\">\n",
    "<br />      \n",
    "        "
   ]
  },
  {
   "cell_type": "code",
   "execution_count": 7,
   "metadata": {
    "trusted": true
   },
   "outputs": [
    {
     "name": "stdout",
     "output_type": "stream",
     "text": [
      "<class 'pandas.core.frame.DataFrame'>\n",
      "RangeIndex: 7486 entries, 0 to 7485\n",
      "Data columns (total 15 columns):\n",
      " #   Column                 Non-Null Count  Dtype         \n",
      "---  ------                 --------------  -----         \n",
      " 0   title                  7486 non-null   object        \n",
      " 1   puNumber               7485 non-null   UInt32        \n",
      " 2   show_start_date        7486 non-null   datetime64[ns]\n",
      " 3   type                   7486 non-null   object        \n",
      " 4   film_studio            7468 non-null   object        \n",
      " 5   production_country     7484 non-null   object        \n",
      " 6   director               7477 non-null   object        \n",
      " 7   producer               6918 non-null   object        \n",
      " 8   age_restriction        7486 non-null   object        \n",
      " 9   refundable_support     332 non-null    float64       \n",
      " 10  nonrefundable_support  332 non-null    float64       \n",
      " 11  budget                 332 non-null    float64       \n",
      " 12  financing_source       332 non-null    object        \n",
      " 13  ratings                6490 non-null   float32       \n",
      " 14  genres                 6510 non-null   object        \n",
      "dtypes: UInt32(1), datetime64[ns](1), float32(1), float64(3), object(9)\n",
      "memory usage: 826.2+ KB\n"
     ]
    }
   ],
   "source": [
    "df1 = df1.astype({\"puNumber\" : \"UInt32\", \"show_start_date\" : \"datetime64\"})\n",
    "df1.info()"
   ]
  },
  {
   "cell_type": "code",
   "execution_count": 8,
   "metadata": {
    "trusted": true
   },
   "outputs": [
    {
     "data": {
      "text/plain": [
       "0    2015-11-27\n",
       "Name: show_start_date, dtype: object"
      ]
     },
     "execution_count": 8,
     "metadata": {},
     "output_type": "execute_result"
    }
   ],
   "source": [
    "# check\n",
    "df1['show_start_date'] = df1['show_start_date'].dt.date\n",
    "df1['show_start_date'][:1]"
   ]
  },
  {
   "cell_type": "markdown",
   "metadata": {},
   "source": [
    "<div class=\"alert alert-warning\", style=\"border:solid coral 3px; padding: 20px\">\n",
    "<font size=\"4\", color = \"DimGrey\"><b>⚠️ Комментарий ревьюера</b></font>\n",
    "    <br /> \n",
    "    <font size=\"3\", color = \"black\">\n",
    "<br />Во время форматирования стоит избавиться от части информации, если она не несет пользу\n",
    "        \n",
    "        12:00:00+00:00"
   ]
  },
  {
   "cell_type": "markdown",
   "metadata": {},
   "source": [
    "<div class=\"alert alert-info\">\n",
    "<font size=\"4\", color = \"black\">Оставил только даты.</font>\n",
    "    <br /> \n",
    "    <font size=\"3\", color = \"black\">\n",
    "<br />      \n",
    "        "
   ]
  },
  {
   "cell_type": "markdown",
   "metadata": {},
   "source": [
    "Заметим, что поле `age_restriction` можно преобразовать к беззнаковому целыму типу. Преобразуем это поле. "
   ]
  },
  {
   "cell_type": "code",
   "execution_count": 9,
   "metadata": {
    "trusted": true
   },
   "outputs": [],
   "source": [
    "df1[\"age_restriction\"] = pd.to_numeric(df1[\"age_restriction\"] \\\n",
    "    .str.extract(r\"(«\\d*\\+»)\")[0].str.strip(\"«+»\"), errors=\"coerce\", downcast=\"unsigned\")"
   ]
  },
  {
   "cell_type": "markdown",
   "metadata": {},
   "source": [
    "Оптимизируем все строковые поля с уникальностью значений ниже 50%."
   ]
  },
  {
   "cell_type": "code",
   "execution_count": 10,
   "metadata": {
    "trusted": true
   },
   "outputs": [
    {
     "name": "stdout",
     "output_type": "stream",
     "text": [
      "title uniquness is 90.46%\n",
      "show_start_date uniquness is 26.25%\n",
      "type uniquness is 0.11%\n",
      "film_studio uniquness is 73.35%\n",
      "production_country uniquness is 12.70%\n",
      "director uniquness is 64.28%\n",
      "producer uniquness is 71.47%\n",
      "financing_source uniquness is 0.05%\n",
      "genres uniquness is 9.93%\n"
     ]
    }
   ],
   "source": [
    "columns = df1.select_dtypes(include=['object'])\n",
    "\n",
    "for col in columns:\n",
    "    num_unique_values = len(df1[col].unique())\n",
    "    num_total_values = len(df1[col])\n",
    "    uniquness = num_unique_values / num_total_values\n",
    "\n",
    "    print(col, f\"uniquness is {uniquness * 100:.2f}%\")\n",
    "\n",
    "    if uniquness < 0.5:\n",
    "        df1.loc[:,col] = df1[col].astype('category')\n",
    "    else:\n",
    "        df1.loc[:,col] = df1[col]"
   ]
  },
  {
   "cell_type": "markdown",
   "metadata": {},
   "source": [
    "Проверим результат."
   ]
  },
  {
   "cell_type": "code",
   "execution_count": 11,
   "metadata": {
    "trusted": true
   },
   "outputs": [
    {
     "name": "stdout",
     "output_type": "stream",
     "text": [
      "<class 'pandas.core.frame.DataFrame'>\n",
      "RangeIndex: 7486 entries, 0 to 7485\n",
      "Data columns (total 15 columns):\n",
      " #   Column                 Non-Null Count  Dtype   \n",
      "---  ------                 --------------  -----   \n",
      " 0   title                  7486 non-null   object  \n",
      " 1   puNumber               7485 non-null   UInt32  \n",
      " 2   show_start_date        7486 non-null   category\n",
      " 3   type                   7486 non-null   category\n",
      " 4   film_studio            7468 non-null   object  \n",
      " 5   production_country     7484 non-null   category\n",
      " 6   director               7477 non-null   object  \n",
      " 7   producer               6918 non-null   object  \n",
      " 8   age_restriction        7486 non-null   uint8   \n",
      " 9   refundable_support     332 non-null    float64 \n",
      " 10  nonrefundable_support  332 non-null    float64 \n",
      " 11  budget                 332 non-null    float64 \n",
      " 12  financing_source       332 non-null    category\n",
      " 13  ratings                6490 non-null   float32 \n",
      " 14  genres                 6510 non-null   category\n",
      "dtypes: UInt32(1), category(5), float32(1), float64(3), object(4), uint8(1)\n",
      "memory usage: 683.2+ KB\n"
     ]
    }
   ],
   "source": [
    "df1.info()"
   ]
  },
  {
   "cell_type": "markdown",
   "metadata": {},
   "source": [
    "Так же преобразуем типы во втором датасете."
   ]
  },
  {
   "cell_type": "code",
   "execution_count": 12,
   "metadata": {
    "trusted": true
   },
   "outputs": [],
   "source": [
    "df2 = df2.astype({\"puNumber\" : \"UInt32\"})"
   ]
  },
  {
   "cell_type": "code",
   "execution_count": 13,
   "metadata": {
    "trusted": true
   },
   "outputs": [
    {
     "name": "stdout",
     "output_type": "stream",
     "text": [
      "<class 'pandas.core.frame.DataFrame'>\n",
      "RangeIndex: 3158 entries, 0 to 3157\n",
      "Data columns (total 2 columns):\n",
      " #   Column      Non-Null Count  Dtype  \n",
      "---  ------      --------------  -----  \n",
      " 0   puNumber    3158 non-null   UInt32 \n",
      " 1   box_office  3158 non-null   float64\n",
      "dtypes: UInt32(1), float64(1)\n",
      "memory usage: 40.2 KB\n"
     ]
    }
   ],
   "source": [
    "df2.info()"
   ]
  },
  {
   "cell_type": "markdown",
   "metadata": {},
   "source": [
    "Объединим эти данные в один DataFrame через left join df1 к df2 т.к. во втором содежжится только часть записей первого."
   ]
  },
  {
   "cell_type": "code",
   "execution_count": 14,
   "metadata": {
    "trusted": true
   },
   "outputs": [
    {
     "name": "stdout",
     "output_type": "stream",
     "text": [
      "<class 'pandas.core.frame.DataFrame'>\n",
      "Int64Index: 7486 entries, 0 to 7485\n",
      "Data columns (total 16 columns):\n",
      " #   Column                 Non-Null Count  Dtype   \n",
      "---  ------                 --------------  -----   \n",
      " 0   title                  7486 non-null   object  \n",
      " 1   pu_number              7485 non-null   UInt32  \n",
      " 2   show_start_date        7486 non-null   category\n",
      " 3   type                   7486 non-null   category\n",
      " 4   film_studio            7468 non-null   object  \n",
      " 5   production_country     7484 non-null   category\n",
      " 6   director               7477 non-null   object  \n",
      " 7   producer               6918 non-null   object  \n",
      " 8   age_restriction        7486 non-null   uint8   \n",
      " 9   refundable_support     332 non-null    float64 \n",
      " 10  nonrefundable_support  332 non-null    float64 \n",
      " 11  budget                 332 non-null    float64 \n",
      " 12  financing_source       332 non-null    category\n",
      " 13  ratings                6490 non-null   float32 \n",
      " 14  genres                 6510 non-null   category\n",
      " 15  box_office             3158 non-null   float64 \n",
      "dtypes: UInt32(1), category(5), float32(1), float64(4), object(4), uint8(1)\n",
      "memory usage: 800.0+ KB\n"
     ]
    }
   ],
   "source": [
    "df = df1.merge(df2, on='puNumber', how='left')\n",
    "df = df.rename({\"puNumber\" : \"pu_number\"}, axis=1)\n",
    "df.info()"
   ]
  },
  {
   "cell_type": "markdown",
   "metadata": {},
   "source": [
    "После преобразований типов количество ненулевых записей в большинстве колонок не изменилось. В единственной колонке `ratings` было утеряно 0.44% данных. Также удалили запись без информации о финансировании картины с пропкуском в колонке `pu_number`. Это незначительное количество, поэтому продолжим подготовку данных дальше."
   ]
  },
  {
   "cell_type": "markdown",
   "metadata": {},
   "source": [
    "<div class=\"alert alert-warning\", style=\"border:solid coral 3px; padding: 20px\">\n",
    "<font size=\"4\", color = \"DimGrey\"><b>⚠️ Комментарий ревьюера</b></font>\n",
    "    <br />  \n",
    "    <font size=\"3\", color = \"black\">\n",
    "<br />В реальной работе, перед объединением стоит более подробно изучить данные, например на наличие полных дубликатов"
   ]
  },
  {
   "cell_type": "markdown",
   "metadata": {},
   "source": [
    "<div class=\"alert alert-info\">\n",
    "<font size=\"4\", color = \"black\">Возьму на заметку, что лучше делать в такой последовательности. Чтобы не тратить много времени на преобразования кода в этот раз менять не буду.</font>\n",
    "    <br /> \n",
    "    <font size=\"3\", color = \"black\">\n",
    "<br />      \n",
    "        "
   ]
  },
  {
   "cell_type": "markdown",
   "metadata": {},
   "source": [
    "<div class=\"alert alert-warning\", style=\"border:solid coral 3px; padding: 20px\">\n",
    "<font size=\"4\", color = \"DimGrey\"><b>⚠️ Комментарий ревьюера </b></font>\n",
    "    <br /> \n",
    "    <font size=\"3\", color = \"black\">\n",
    "<br />   Стоит применять «змеиный стиль» в названиях переменных и колонках\n",
    "        \n",
    "        ['pu_number']\n",
    "        \n",
    "        ['pu_number']        \n",
    "        \n",
    "[Для чего придуман PEP8](https://letpy.com/python-guide/pep8/?ysclid=lkvf7o0xjl57413288)         "
   ]
  },
  {
   "cell_type": "markdown",
   "metadata": {},
   "source": [
    "<div class=\"alert alert-info\">\n",
    "<font size=\"4\", color = \"black\">Переименовал поле в соответствии с PEP8.</font>\n",
    "    <br /> \n",
    "    <font size=\"3\", color = \"black\">\n",
    "<br />      \n",
    "        "
   ]
  },
  {
   "cell_type": "markdown",
   "metadata": {},
   "source": [
    "<div class=\"alert alert-success\">\n",
    "<font size=\"4\", color= \"seagreen\"><b>✔️ Комментарий ревьюера</b></font>\n",
    "    <br /> \n",
    "    <font size=\"3\", color = \"black\">\n",
    "<br /> Стоит обратить внимание на параметры, которые пандас выставляет по умолчанию при merge (для справки в join такая же «засада» по характеру, но другая по исполнению)\n",
    "        \n",
    "Использование параметров по умолчанию может привести к потере данных при объединении        \n",
    "     \n",
    "        \n",
    "[Примеры объединения таблиц, merge](https://pandas.pydata.org/pandas-docs/version/1.5/reference/api/pandas.DataFrame.merge.html?highlight=merge#pandas.DataFrame.merge)  \n",
    "        \n",
    "[Примеры объединения таблиц, join](https://pandas.pydata.org/pandas-docs/version/1.5/reference/api/pandas.DataFrame.join.html?highlight=join#pandas.DataFrame.join)          "
   ]
  },
  {
   "cell_type": "markdown",
   "metadata": {},
   "source": [
    "<div class=\"alert alert-danger\">\n",
    "<font size=\"4\"><b>❌ Комментарий ревьюера</b></font>\n",
    "    <br /> \n",
    "    <font size=\"3\", color = \"black\">\n",
    "<br />    \n",
    "Можно добавить минивывод о результатах объединения, сохранилась ли размерность таблиц (по денежным колонкам особенно), не появились ли лишние пропуски\n",
    "        \n",
    "Заказчику эта таблица ничего не расскажет, т.к. он не исследовал эти данные, он не знает, что и с чем сравнивать      \n",
    "        \n",
    " "
   ]
  },
  {
   "cell_type": "markdown",
   "metadata": {},
   "source": [
    "<div class=\"alert alert-info\">\n",
    "<font size=\"4\", color = \"black\">Добавил промежуточный вывод.</font>\n",
    "    <br /> \n",
    "    <font size=\"3\", color = \"black\">\n",
    "<br />      \n",
    "        "
   ]
  },
  {
   "cell_type": "markdown",
   "metadata": {},
   "source": [
    "### Обработаем пропуски"
   ]
  },
  {
   "cell_type": "code",
   "execution_count": 15,
   "metadata": {
    "trusted": true
   },
   "outputs": [],
   "source": [
    "# check\n",
    "# пропущенные значения бары\n",
    "\n",
    "def pass_value_barh(dfg, title):\n",
    "    try:\n",
    "        (\n",
    "            (dfg.isna().mean()*100)\n",
    "            .to_frame()\n",
    "            .rename(columns = {0:'space'})\n",
    "            .query('space > 0')\n",
    "            .sort_values(by = 'space', ascending = True)\n",
    "            .plot(kind = 'barh', figsize = (19,6), rot = -5, legend = False, fontsize = 16, grid=True)\n",
    "            .set_title(title + \"\\n\", fontsize = 22, color = 'SteelBlue')    \n",
    "        );    \n",
    "    except:\n",
    "        print('пропусков не осталось :) или произошла ошибка в первой части функции ')"
   ]
  },
  {
   "cell_type": "code",
   "execution_count": 16,
   "metadata": {
    "trusted": true
   },
   "outputs": [
    {
     "data": {
      "image/png": "[encoded data removed]",
      "text/plain": [
       "<Figure size 1900x600 with 1 Axes>"
      ]
     },
     "metadata": {},
     "output_type": "display_data"
    }
   ],
   "source": [
    "pass_value_barh(df, \"Количество пропусков\")"
   ]
  },
  {
   "cell_type": "markdown",
   "metadata": {},
   "source": [
    "<div style=\"border:solid steelblue 3px; padding: 20px\">\n",
    "<font size=\"4\">🍕<b> Комментарий ревьюера</b></font>\n",
    "<br /> \n",
    "<font size=\"3\", color = \"black\">\n",
    "<br /> Наглядность представления информации одна из важных составляющих работы дата-аналитика или дата-сайентиста\n",
    "    \n",
    "__мой график оформлен не совсем корректно, сможешь отметить, что стоило бы исправить в графике?__\n",
    "  "
   ]
  },
  {
   "cell_type": "markdown",
   "metadata": {},
   "source": [
    "<div class=\"alert alert-info\">\n",
    "<font size=\"4\", color = \"black\">Благодарю за отличный пример визуализации. Возьму себе в копилку. На мой взгляд название графика можно вынести в переменную функции, также добавить сетку для упрощения сопоставления точек на графике со значениями.</font>\n",
    "    <br /> \n",
    "    <font size=\"3\", color = \"black\">\n",
    "<br />      \n",
    "        "
   ]
  },
  {
   "cell_type": "markdown",
   "metadata": {},
   "source": [
    "Посмотрим на фильм без номера прокатного удостоверения `pu_number` чтобы принять решение о полезности этой записи."
   ]
  },
  {
   "cell_type": "code",
   "execution_count": 17,
   "metadata": {
    "trusted": true
   },
   "outputs": [
    {
     "data": {
      "text/html": [
       "<div>\n",
       "<style scoped>\n",
       "    .dataframe tbody tr th:only-of-type {\n",
       "        vertical-align: middle;\n",
       "    }\n",
       "\n",
       "    .dataframe tbody tr th {\n",
       "        vertical-align: top;\n",
       "    }\n",
       "\n",
       "    .dataframe thead th {\n",
       "        text-align: right;\n",
       "    }\n",
       "</style>\n",
       "<table border=\"1\" class=\"dataframe\">\n",
       "  <thead>\n",
       "    <tr style=\"text-align: right;\">\n",
       "      <th></th>\n",
       "      <th>title</th>\n",
       "      <th>pu_number</th>\n",
       "      <th>show_start_date</th>\n",
       "      <th>type</th>\n",
       "      <th>film_studio</th>\n",
       "      <th>production_country</th>\n",
       "      <th>director</th>\n",
       "      <th>producer</th>\n",
       "      <th>age_restriction</th>\n",
       "      <th>refundable_support</th>\n",
       "      <th>nonrefundable_support</th>\n",
       "      <th>budget</th>\n",
       "      <th>financing_source</th>\n",
       "      <th>ratings</th>\n",
       "      <th>genres</th>\n",
       "      <th>box_office</th>\n",
       "    </tr>\n",
       "  </thead>\n",
       "  <tbody>\n",
       "    <tr>\n",
       "      <th>1797</th>\n",
       "      <td>Курбан-роман. (История с жертвой)</td>\n",
       "      <td>&lt;NA&gt;</td>\n",
       "      <td>2014-05-15</td>\n",
       "      <td>Художественный</td>\n",
       "      <td>ФОНД \"ИННОВАЦИЯ\"</td>\n",
       "      <td>Россия</td>\n",
       "      <td>С.Юзеев</td>\n",
       "      <td>М.Галицкая</td>\n",
       "      <td>12</td>\n",
       "      <td>NaN</td>\n",
       "      <td>NaN</td>\n",
       "      <td>NaN</td>\n",
       "      <td>NaN</td>\n",
       "      <td>NaN</td>\n",
       "      <td>NaN</td>\n",
       "      <td>NaN</td>\n",
       "    </tr>\n",
       "  </tbody>\n",
       "</table>\n",
       "</div>"
      ],
      "text/plain": [
       "                                  title  pu_number show_start_date  \\\n",
       "1797  Курбан-роман. (История с жертвой)       <NA>      2014-05-15   \n",
       "\n",
       "                type       film_studio production_country director  \\\n",
       "1797  Художественный  ФОНД \"ИННОВАЦИЯ\"             Россия  С.Юзеев   \n",
       "\n",
       "        producer  age_restriction  refundable_support  nonrefundable_support  \\\n",
       "1797  М.Галицкая               12                 NaN                    NaN   \n",
       "\n",
       "      budget financing_source  ratings genres  box_office  \n",
       "1797     NaN              NaN      NaN    NaN         NaN  "
      ]
     },
     "execution_count": 17,
     "metadata": {},
     "output_type": "execute_result"
    }
   ],
   "source": [
    "df[df[\"pu_number\"].isna()]"
   ]
  },
  {
   "cell_type": "markdown",
   "metadata": {},
   "source": [
    "Поскольку эта запись не содержит полезной для целий аналитики данных, избавимся от неё."
   ]
  },
  {
   "cell_type": "code",
   "execution_count": 18,
   "metadata": {
    "trusted": true
   },
   "outputs": [],
   "source": [
    "df = df[df[\"pu_number\"].notna()]"
   ]
  },
  {
   "cell_type": "markdown",
   "metadata": {},
   "source": [
    "Пропуски в поле со студией-производителем `film_studio` фильма не влияют на цели анализа и не могут быть алгоритмически заполнены, поэтому оставим их."
   ]
  },
  {
   "cell_type": "markdown",
   "metadata": {},
   "source": [
    "Рассмотрим фильмы с пропуском в стране производства `production_country`."
   ]
  },
  {
   "cell_type": "code",
   "execution_count": 19,
   "metadata": {
    "trusted": true
   },
   "outputs": [
    {
     "data": {
      "text/html": [
       "<div>\n",
       "<style scoped>\n",
       "    .dataframe tbody tr th:only-of-type {\n",
       "        vertical-align: middle;\n",
       "    }\n",
       "\n",
       "    .dataframe tbody tr th {\n",
       "        vertical-align: top;\n",
       "    }\n",
       "\n",
       "    .dataframe thead th {\n",
       "        text-align: right;\n",
       "    }\n",
       "</style>\n",
       "<table border=\"1\" class=\"dataframe\">\n",
       "  <thead>\n",
       "    <tr style=\"text-align: right;\">\n",
       "      <th></th>\n",
       "      <th>title</th>\n",
       "      <th>pu_number</th>\n",
       "      <th>show_start_date</th>\n",
       "      <th>type</th>\n",
       "      <th>film_studio</th>\n",
       "      <th>production_country</th>\n",
       "      <th>director</th>\n",
       "      <th>producer</th>\n",
       "      <th>age_restriction</th>\n",
       "      <th>refundable_support</th>\n",
       "      <th>nonrefundable_support</th>\n",
       "      <th>budget</th>\n",
       "      <th>financing_source</th>\n",
       "      <th>ratings</th>\n",
       "      <th>genres</th>\n",
       "      <th>box_office</th>\n",
       "    </tr>\n",
       "  </thead>\n",
       "  <tbody>\n",
       "    <tr>\n",
       "      <th>3186</th>\n",
       "      <td>Детский юмористический киножурнал \"Ералаш. Ну ...</td>\n",
       "      <td>111001216</td>\n",
       "      <td>2016-02-09</td>\n",
       "      <td>Художественный</td>\n",
       "      <td>ООО \"Продюсерский центр ЕРАЛАШ\"</td>\n",
       "      <td>NaN</td>\n",
       "      <td>Р.Светлов, И.Магитон, А.Арутюнян, Л.Мирский, А...</td>\n",
       "      <td>ООО \"Продюсерский центр ЕРАЛАШ\"</td>\n",
       "      <td>0</td>\n",
       "      <td>NaN</td>\n",
       "      <td>NaN</td>\n",
       "      <td>NaN</td>\n",
       "      <td>NaN</td>\n",
       "      <td>7.2</td>\n",
       "      <td>детский,комедия</td>\n",
       "      <td>194527.0</td>\n",
       "    </tr>\n",
       "    <tr>\n",
       "      <th>4441</th>\n",
       "      <td>Мульт личности. Выпуск 5</td>\n",
       "      <td>214000410</td>\n",
       "      <td>2010-01-25</td>\n",
       "      <td>Художественный</td>\n",
       "      <td>NaN</td>\n",
       "      <td>NaN</td>\n",
       "      <td>NaN</td>\n",
       "      <td>NaN</td>\n",
       "      <td>0</td>\n",
       "      <td>NaN</td>\n",
       "      <td>NaN</td>\n",
       "      <td>NaN</td>\n",
       "      <td>NaN</td>\n",
       "      <td>4.0</td>\n",
       "      <td>мультфильм,комедия</td>\n",
       "      <td>NaN</td>\n",
       "    </tr>\n",
       "  </tbody>\n",
       "</table>\n",
       "</div>"
      ],
      "text/plain": [
       "                                                  title  pu_number  \\\n",
       "3186  Детский юмористический киножурнал \"Ералаш. Ну ...  111001216   \n",
       "4441                           Мульт личности. Выпуск 5  214000410   \n",
       "\n",
       "     show_start_date            type                      film_studio  \\\n",
       "3186      2016-02-09  Художественный  ООО \"Продюсерский центр ЕРАЛАШ\"   \n",
       "4441      2010-01-25  Художественный                              NaN   \n",
       "\n",
       "     production_country                                           director  \\\n",
       "3186                NaN  Р.Светлов, И.Магитон, А.Арутюнян, Л.Мирский, А...   \n",
       "4441                NaN                                                NaN   \n",
       "\n",
       "                             producer  age_restriction  refundable_support  \\\n",
       "3186  ООО \"Продюсерский центр ЕРАЛАШ\"                0                 NaN   \n",
       "4441                              NaN                0                 NaN   \n",
       "\n",
       "      nonrefundable_support  budget financing_source  ratings  \\\n",
       "3186                    NaN     NaN              NaN      7.2   \n",
       "4441                    NaN     NaN              NaN      4.0   \n",
       "\n",
       "                  genres  box_office  \n",
       "3186     детский,комедия    194527.0  \n",
       "4441  мультфильм,комедия         NaN  "
      ]
     },
     "execution_count": 19,
     "metadata": {},
     "output_type": "execute_result"
    }
   ],
   "source": [
    "df[df[\"production_country\"].isna()]"
   ]
  },
  {
   "cell_type": "code",
   "execution_count": 20,
   "metadata": {
    "trusted": true
   },
   "outputs": [
    {
     "data": {
      "text/plain": [
       "['США', 'СССР', 'Франция', 'СССР, Венгрия', 'Германия-Великобритания', ..., 'КНР - Франция', 'Дания, Норвегия, Швеция, Исландия', 'Республика Кипр, США, Россия', 'Новая Зеландия - КНР', 'Дания - Канада - Швеция - Франция - Германия ...]\n",
       "Length: 951\n",
       "Categories (950, object): ['США', 'СССР', 'Франция', 'СССР, Венгрия', ..., 'Дания, Норвегия, Швеция, Исландия', 'Республика Кипр, США, Россия', 'Новая Зеландия - КНР', 'Дания - Канада - Швеция - Франция - Германия ...]"
      ]
     },
     "execution_count": 20,
     "metadata": {},
     "output_type": "execute_result"
    }
   ],
   "source": [
    "df[\"production_country\"].unique()"
   ]
  },
  {
   "cell_type": "markdown",
   "metadata": {},
   "source": [
    "Заполним пропуски вручную т.к. понятно, что страна производства этих фильмов - РФ."
   ]
  },
  {
   "cell_type": "code",
   "execution_count": 21,
   "metadata": {
    "trusted": true
   },
   "outputs": [],
   "source": [
    "df.loc[df[\"production_country\"].isna(), \"production_country\"] = \"Россия\""
   ]
  },
  {
   "cell_type": "markdown",
   "metadata": {},
   "source": [
    "Заполним пропуски в поле `director` вручную воспользовавшись поиском."
   ]
  },
  {
   "cell_type": "code",
   "execution_count": 22,
   "metadata": {
    "trusted": true
   },
   "outputs": [
    {
     "data": {
      "text/html": [
       "<div>\n",
       "<style scoped>\n",
       "    .dataframe tbody tr th:only-of-type {\n",
       "        vertical-align: middle;\n",
       "    }\n",
       "\n",
       "    .dataframe tbody tr th {\n",
       "        vertical-align: top;\n",
       "    }\n",
       "\n",
       "    .dataframe thead th {\n",
       "        text-align: right;\n",
       "    }\n",
       "</style>\n",
       "<table border=\"1\" class=\"dataframe\">\n",
       "  <thead>\n",
       "    <tr style=\"text-align: right;\">\n",
       "      <th></th>\n",
       "      <th>title</th>\n",
       "      <th>pu_number</th>\n",
       "      <th>show_start_date</th>\n",
       "      <th>type</th>\n",
       "      <th>film_studio</th>\n",
       "      <th>production_country</th>\n",
       "      <th>director</th>\n",
       "      <th>producer</th>\n",
       "      <th>age_restriction</th>\n",
       "      <th>refundable_support</th>\n",
       "      <th>nonrefundable_support</th>\n",
       "      <th>budget</th>\n",
       "      <th>financing_source</th>\n",
       "      <th>ratings</th>\n",
       "      <th>genres</th>\n",
       "      <th>box_office</th>\n",
       "    </tr>\n",
       "  </thead>\n",
       "  <tbody>\n",
       "    <tr>\n",
       "      <th>764</th>\n",
       "      <td>Три звезды. Концерт в Waldbuhne Theater, Берли...</td>\n",
       "      <td>126003512</td>\n",
       "      <td>2012-12-04</td>\n",
       "      <td>Прочие</td>\n",
       "      <td>Райзинг Алтернатив</td>\n",
       "      <td>Великобритания</td>\n",
       "      <td>NaN</td>\n",
       "      <td>Вальдбюне Театр</td>\n",
       "      <td>0</td>\n",
       "      <td>NaN</td>\n",
       "      <td>NaN</td>\n",
       "      <td>NaN</td>\n",
       "      <td>NaN</td>\n",
       "      <td>NaN</td>\n",
       "      <td>NaN</td>\n",
       "      <td>44350.0</td>\n",
       "    </tr>\n",
       "    <tr>\n",
       "      <th>1735</th>\n",
       "      <td>Помпеи. Британский музей</td>\n",
       "      <td>126003413</td>\n",
       "      <td>2013-09-11</td>\n",
       "      <td>Прочие</td>\n",
       "      <td>МортуСкрин, Британский музей</td>\n",
       "      <td>Великобритания</td>\n",
       "      <td>NaN</td>\n",
       "      <td>Британский музей</td>\n",
       "      <td>0</td>\n",
       "      <td>NaN</td>\n",
       "      <td>NaN</td>\n",
       "      <td>NaN</td>\n",
       "      <td>NaN</td>\n",
       "      <td>NaN</td>\n",
       "      <td>NaN</td>\n",
       "      <td>NaN</td>\n",
       "    </tr>\n",
       "    <tr>\n",
       "      <th>3840</th>\n",
       "      <td>Зур концерт (Большой концерт).</td>\n",
       "      <td>217027010</td>\n",
       "      <td>2010-06-24</td>\n",
       "      <td>Художественный</td>\n",
       "      <td>ООО \"Барс Рекордс\"</td>\n",
       "      <td>Россия</td>\n",
       "      <td>NaN</td>\n",
       "      <td>NaN</td>\n",
       "      <td>12</td>\n",
       "      <td>NaN</td>\n",
       "      <td>NaN</td>\n",
       "      <td>NaN</td>\n",
       "      <td>NaN</td>\n",
       "      <td>NaN</td>\n",
       "      <td>NaN</td>\n",
       "      <td>NaN</td>\n",
       "    </tr>\n",
       "    <tr>\n",
       "      <th>4052</th>\n",
       "      <td>Ганс Сэйфуллин \"Авылым чишмэлэре. Ганс Сэйфулл...</td>\n",
       "      <td>217017310</td>\n",
       "      <td>2010-04-22</td>\n",
       "      <td>Художественный</td>\n",
       "      <td>ООО \"Барс-Рекордс\"</td>\n",
       "      <td>Россия</td>\n",
       "      <td>NaN</td>\n",
       "      <td>NaN</td>\n",
       "      <td>0</td>\n",
       "      <td>NaN</td>\n",
       "      <td>NaN</td>\n",
       "      <td>NaN</td>\n",
       "      <td>NaN</td>\n",
       "      <td>NaN</td>\n",
       "      <td>NaN</td>\n",
       "      <td>NaN</td>\n",
       "    </tr>\n",
       "    <tr>\n",
       "      <th>4298</th>\n",
       "      <td>Изге Вэли (Святой Валентин)</td>\n",
       "      <td>217020610</td>\n",
       "      <td>2010-05-20</td>\n",
       "      <td>Художественный</td>\n",
       "      <td>ООО \"Барс Рекордс\"</td>\n",
       "      <td>Россия</td>\n",
       "      <td>NaN</td>\n",
       "      <td>NaN</td>\n",
       "      <td>12</td>\n",
       "      <td>NaN</td>\n",
       "      <td>NaN</td>\n",
       "      <td>NaN</td>\n",
       "      <td>NaN</td>\n",
       "      <td>NaN</td>\n",
       "      <td>NaN</td>\n",
       "      <td>NaN</td>\n",
       "    </tr>\n",
       "    <tr>\n",
       "      <th>4415</th>\n",
       "      <td>Bon Jovi. The Circle Tour</td>\n",
       "      <td>126001710</td>\n",
       "      <td>2010-11-11</td>\n",
       "      <td>Прочие</td>\n",
       "      <td>Эншутц Интертейнмент Груп</td>\n",
       "      <td>США</td>\n",
       "      <td>NaN</td>\n",
       "      <td>Эншутц Интертейнмент Груп</td>\n",
       "      <td>0</td>\n",
       "      <td>NaN</td>\n",
       "      <td>NaN</td>\n",
       "      <td>NaN</td>\n",
       "      <td>NaN</td>\n",
       "      <td>7.9</td>\n",
       "      <td>концерт,музыка</td>\n",
       "      <td>NaN</td>\n",
       "    </tr>\n",
       "    <tr>\n",
       "      <th>4441</th>\n",
       "      <td>Мульт личности. Выпуск 5</td>\n",
       "      <td>214000410</td>\n",
       "      <td>2010-01-25</td>\n",
       "      <td>Художественный</td>\n",
       "      <td>NaN</td>\n",
       "      <td>Россия</td>\n",
       "      <td>NaN</td>\n",
       "      <td>NaN</td>\n",
       "      <td>0</td>\n",
       "      <td>NaN</td>\n",
       "      <td>NaN</td>\n",
       "      <td>NaN</td>\n",
       "      <td>NaN</td>\n",
       "      <td>4.0</td>\n",
       "      <td>мультфильм,комедия</td>\n",
       "      <td>NaN</td>\n",
       "    </tr>\n",
       "    <tr>\n",
       "      <th>4923</th>\n",
       "      <td>Георг Фридрих Гендель. Мессия. Оратория. Корол...</td>\n",
       "      <td>126001111</td>\n",
       "      <td>2011-04-25</td>\n",
       "      <td>Прочие</td>\n",
       "      <td>Опус Арт</td>\n",
       "      <td>Великобритания</td>\n",
       "      <td>NaN</td>\n",
       "      <td>Короевский колледж Кембриджа</td>\n",
       "      <td>0</td>\n",
       "      <td>NaN</td>\n",
       "      <td>NaN</td>\n",
       "      <td>NaN</td>\n",
       "      <td>NaN</td>\n",
       "      <td>NaN</td>\n",
       "      <td>NaN</td>\n",
       "      <td>NaN</td>\n",
       "    </tr>\n",
       "    <tr>\n",
       "      <th>4942</th>\n",
       "      <td>Питер Гэбриэл и New Blood Orchestra 3D</td>\n",
       "      <td>126002711</td>\n",
       "      <td>2011-11-11</td>\n",
       "      <td>Прочие</td>\n",
       "      <td>Омниверс Визион</td>\n",
       "      <td>Великобритания</td>\n",
       "      <td>NaN</td>\n",
       "      <td>Омниверс Визион</td>\n",
       "      <td>0</td>\n",
       "      <td>NaN</td>\n",
       "      <td>NaN</td>\n",
       "      <td>NaN</td>\n",
       "      <td>NaN</td>\n",
       "      <td>6.7</td>\n",
       "      <td>концерт,музыка</td>\n",
       "      <td>NaN</td>\n",
       "    </tr>\n",
       "  </tbody>\n",
       "</table>\n",
       "</div>"
      ],
      "text/plain": [
       "                                                  title  pu_number  \\\n",
       "764   Три звезды. Концерт в Waldbuhne Theater, Берли...  126003512   \n",
       "1735                           Помпеи. Британский музей  126003413   \n",
       "3840                     Зур концерт (Большой концерт).  217027010   \n",
       "4052  Ганс Сэйфуллин \"Авылым чишмэлэре. Ганс Сэйфулл...  217017310   \n",
       "4298                        Изге Вэли (Святой Валентин)  217020610   \n",
       "4415                          Bon Jovi. The Circle Tour  126001710   \n",
       "4441                           Мульт личности. Выпуск 5  214000410   \n",
       "4923  Георг Фридрих Гендель. Мессия. Оратория. Корол...  126001111   \n",
       "4942             Питер Гэбриэл и New Blood Orchestra 3D  126002711   \n",
       "\n",
       "     show_start_date            type                   film_studio  \\\n",
       "764       2012-12-04          Прочие            Райзинг Алтернатив   \n",
       "1735      2013-09-11          Прочие  МортуСкрин, Британский музей   \n",
       "3840      2010-06-24  Художественный            ООО \"Барс Рекордс\"   \n",
       "4052      2010-04-22  Художественный            ООО \"Барс-Рекордс\"   \n",
       "4298      2010-05-20  Художественный            ООО \"Барс Рекордс\"   \n",
       "4415      2010-11-11          Прочие     Эншутц Интертейнмент Груп   \n",
       "4441      2010-01-25  Художественный                           NaN   \n",
       "4923      2011-04-25          Прочие                      Опус Арт   \n",
       "4942      2011-11-11          Прочие               Омниверс Визион   \n",
       "\n",
       "     production_country director                      producer  \\\n",
       "764      Великобритания      NaN               Вальдбюне Театр   \n",
       "1735     Великобритания      NaN              Британский музей   \n",
       "3840             Россия      NaN                           NaN   \n",
       "4052             Россия      NaN                           NaN   \n",
       "4298             Россия      NaN                           NaN   \n",
       "4415                США      NaN     Эншутц Интертейнмент Груп   \n",
       "4441             Россия      NaN                           NaN   \n",
       "4923     Великобритания      NaN  Короевский колледж Кембриджа   \n",
       "4942     Великобритания      NaN               Омниверс Визион   \n",
       "\n",
       "      age_restriction  refundable_support  nonrefundable_support  budget  \\\n",
       "764                 0                 NaN                    NaN     NaN   \n",
       "1735                0                 NaN                    NaN     NaN   \n",
       "3840               12                 NaN                    NaN     NaN   \n",
       "4052                0                 NaN                    NaN     NaN   \n",
       "4298               12                 NaN                    NaN     NaN   \n",
       "4415                0                 NaN                    NaN     NaN   \n",
       "4441                0                 NaN                    NaN     NaN   \n",
       "4923                0                 NaN                    NaN     NaN   \n",
       "4942                0                 NaN                    NaN     NaN   \n",
       "\n",
       "     financing_source  ratings              genres  box_office  \n",
       "764               NaN      NaN                 NaN     44350.0  \n",
       "1735              NaN      NaN                 NaN         NaN  \n",
       "3840              NaN      NaN                 NaN         NaN  \n",
       "4052              NaN      NaN                 NaN         NaN  \n",
       "4298              NaN      NaN                 NaN         NaN  \n",
       "4415              NaN      7.9      концерт,музыка         NaN  \n",
       "4441              NaN      4.0  мультфильм,комедия         NaN  \n",
       "4923              NaN      NaN                 NaN         NaN  \n",
       "4942              NaN      6.7      концерт,музыка         NaN  "
      ]
     },
     "execution_count": 22,
     "metadata": {},
     "output_type": "execute_result"
    }
   ],
   "source": [
    "df[df[\"director\"].isna()]"
   ]
  },
  {
   "cell_type": "markdown",
   "metadata": {},
   "source": [
    "Поиск информации о режессёрах этих фильмов не дал результатов, поэтому оставим пропуски как есть."
   ]
  },
  {
   "cell_type": "markdown",
   "metadata": {},
   "source": [
    "Оставшиеся поля с пропусками не подлежат алгоритмическому заполнению. В случае с рейтингами или жанрами фильмов, их просто нет на площадке. Отсутствующая информация о финансировании означает, что проект не субсидировался."
   ]
  },
  {
   "cell_type": "markdown",
   "metadata": {},
   "source": [
    "### Обработаем дубликаты"
   ]
  },
  {
   "cell_type": "markdown",
   "metadata": {},
   "source": [
    "Проверим наличие явных дубликатов."
   ]
  },
  {
   "cell_type": "code",
   "execution_count": 23,
   "metadata": {
    "trusted": true
   },
   "outputs": [
    {
     "data": {
      "text/plain": [
       "0"
      ]
     },
     "execution_count": 23,
     "metadata": {},
     "output_type": "execute_result"
    }
   ],
   "source": [
    "df.duplicated().sum()"
   ]
  },
  {
   "cell_type": "code",
   "execution_count": 24,
   "metadata": {
    "trusted": true
   },
   "outputs": [
    {
     "data": {
      "text/plain": [
       "0"
      ]
     },
     "execution_count": 24,
     "metadata": {},
     "output_type": "execute_result"
    }
   ],
   "source": [
    "df.duplicated([\"title\", \"pu_number\"]).sum()"
   ]
  },
  {
   "cell_type": "markdown",
   "metadata": {},
   "source": [
    "Удалим дубликаты, которые отличаются случайными символами."
   ]
  },
  {
   "cell_type": "code",
   "execution_count": 25,
   "metadata": {
    "trusted": true
   },
   "outputs": [],
   "source": [
    "df[\"title\"] = df[\"title\"].str.strip(\"._- \")\n",
    "df[\"title\"] = df[\"title\"].str.replace('ё', 'e')\n",
    "df[\"title\"] = df[\"title\"].str.lower()"
   ]
  },
  {
   "cell_type": "code",
   "execution_count": 26,
   "metadata": {
    "trusted": true
   },
   "outputs": [],
   "source": [
    "df = df.drop_duplicates([\"title\", \"pu_number\"])"
   ]
  },
  {
   "cell_type": "markdown",
   "metadata": {},
   "source": [
    "Воспользуемся расстоянием Левенштайна между строками чтобы найти неявные дубликаты т.к. уникальных значений достаточно много чтобы обрабатывать их вручную и достаочно мало, чтобы алгоритм сработал за относительно непродолжительное время. "
   ]
  },
  {
   "cell_type": "markdown",
   "metadata": {},
   "source": [
    "<div class=\"alert alert-success\">\n",
    "<font size=\"4\", color= \"seagreen\"><b>✔️ Комментарий ревьюера</b></font>\n",
    "    <br /> \n",
    "    <font size=\"3\", color = \"black\">\n",
    "<br />Стоит подумать над оптимизацией алгоритма, чтобы уменьшить время выполнения, один из самых простых примеров"
   ]
  },
  {
   "cell_type": "code",
   "execution_count": 27,
   "metadata": {
    "scrolled": true,
    "trusted": true
   },
   "outputs": [
    {
     "data": {
      "text/plain": [
       "6655"
      ]
     },
     "execution_count": 27,
     "metadata": {},
     "output_type": "execute_result"
    }
   ],
   "source": [
    "df[\"title\"].nunique()"
   ]
  },
  {
   "cell_type": "code",
   "execution_count": 28,
   "metadata": {
    "scrolled": true,
    "trusted": true
   },
   "outputs": [
    {
     "name": "stdout",
     "output_type": "stream",
     "text": [
      "2024-11-07 13:54:20.477580\n"
     ]
    }
   ],
   "source": [
    "print(pd.Timestamp.now())"
   ]
  },
  {
   "cell_type": "code",
   "execution_count": 29,
   "metadata": {
    "trusted": true
   },
   "outputs": [],
   "source": [
    "for i in df[\"title\"].unique():\n",
    "    df.loc[df['title'] == i, 'title_len'] = df.loc[df['title'] == i, 'title'].str.len()"
   ]
  },
  {
   "cell_type": "code",
   "execution_count": 30,
   "metadata": {
    "scrolled": true,
    "trusted": true
   },
   "outputs": [
    {
     "name": "stdout",
     "output_type": "stream",
     "text": [
      "2024-11-07 13:54:32.169642\n"
     ]
    }
   ],
   "source": [
    "print(pd.Timestamp.now())"
   ]
  },
  {
   "cell_type": "code",
   "execution_count": 31,
   "metadata": {
    "trusted": true
   },
   "outputs": [],
   "source": [
    "df['title_len'] = df['title_len'].astype(int)"
   ]
  },
  {
   "cell_type": "code",
   "execution_count": 32,
   "metadata": {
    "trusted": true
   },
   "outputs": [],
   "source": [
    "def print_duplicates_len(strings, len_strings, dist):\n",
    "    duplicates_count = 0\n",
    "\n",
    "    for i in range(0, len(strings)):\n",
    "        for j in range(i, len(strings)):\n",
    "            \n",
    "            if abs(len_strings[i] - len_strings[j]) <= 1:\n",
    "                \n",
    "                if i == j: continue\n",
    "\n",
    "                if distance(strings.iloc[i], strings.iloc[j]) <= dist:\n",
    "                    print(f\"{i}: {strings.iloc[i]} \\t{j}: {strings.iloc[j]}\")\n",
    "                    duplicates_count += 1\n",
    "                        \n",
    "            else: continue\n",
    "            \n",
    "    print(f\"Duplicates count: {duplicates_count}\")"
   ]
  },
  {
   "cell_type": "code",
   "execution_count": 33,
   "metadata": {
    "scrolled": true,
    "trusted": true
   },
   "outputs": [
    {
     "name": "stdout",
     "output_type": "stream",
     "text": [
      "2024-11-07 13:54:32.214968\n"
     ]
    }
   ],
   "source": [
    "print(pd.Timestamp.now())"
   ]
  },
  {
   "cell_type": "code",
   "execution_count": 34,
   "metadata": {
    "trusted": true
   },
   "outputs": [],
   "source": [
    "df = df.reset_index()"
   ]
  },
  {
   "cell_type": "markdown",
   "metadata": {},
   "source": [
    "Исследуем названия фильмов с одним отличием."
   ]
  },
  {
   "cell_type": "code",
   "execution_count": 35,
   "metadata": {
    "scrolled": true,
    "trusted": true
   },
   "outputs": [
    {
     "name": "stdout",
     "output_type": "stream",
     "text": [
      "2: особо опасен \t3: особо опасен\n",
      "2: особо опасен \t4: особо опасен\n",
      "3: особо опасен \t4: особо опасен\n",
      "12: малышка на миллион /по мотивам рассказов ф.х.тула из сборника \"клейма от канатов\"/ \t4606: малышка на миллион /по мотивам рассказов ф.х.тула из сборника \"клейма от канатов\"/\n",
      "26: оружейный барон \t4609: оружейный барон\n",
      "33: перелом \t4670: перелом\n",
      "34: мисс поттер \t4605: мисс поттер\n",
      "37: молчи в тряпочку \t4587: молчи в тряпочку\n",
      "40: алекс и эмма \t41: алекс и эмма\n",
      "40: алекс и эмма \t4580: алекс и эмма\n",
      "41: алекс и эмма \t4580: алекс и эмма\n",
      "44: адъютант его превосходительства \t1474: адъютант его превосходительства\n",
      "50: асса \t93: васса\n",
      "75: борис годунов \t5220: борис годунов\n",
      "86: валентина \t6898: валентина\n",
      "89: выстрел \t6686: выстрел\n",
      "90: возмездие \t1478: возмездие\n",
      "90: возмездие \t4341: возмездие\n"
     ]
    }
   ],
   "source": [
    "print_duplicates_len(df[df[\"title\"].isin(df['title'].unique())]['title'], df[\"title_len\"], 1)"
   ]
  },
  {
   "cell_type": "markdown",
   "metadata": {},
   "source": [
    "Удалим временную колонку, созданную для оптимизации поиска дубликатов."
   ]
  },
  {
   "cell_type": "code",
   "execution_count": null,
   "metadata": {},
   "outputs": [],
   "source": [
    "df = df.drop(columns=[\"title_len\"])"
   ]
  },
  {
   "cell_type": "code",
   "execution_count": null,
   "metadata": {
    "trusted": true
   },
   "outputs": [],
   "source": [
    "print(pd.Timestamp.now())"
   ]
  },
  {
   "cell_type": "markdown",
   "metadata": {},
   "source": [
    "<div class=\"alert alert-success\">\n",
    "<font size=\"4\", color= \"seagreen\"><b>✔️ Комментарий ревьюера</b></font>\n",
    "    <br /> \n",
    "    <font size=\"3\", color = \"black\">\n",
    "<br />Скоратил время выполнения примерно на 1 минуту 30 сек."
   ]
  },
  {
   "cell_type": "markdown",
   "metadata": {},
   "source": [
    "<div class=\"alert alert-info\">\n",
    "<font size=\"4\", color = \"black\">Благодарю за дельное предложение. Фильтруем сразу по длине строк те комбинации, для которых этот жадный алгоритм будет тратить много дополнительного времени, круто.</font>\n",
    "    <br /> \n",
    "    <font size=\"3\", color = \"black\">\n",
    "<br />      \n",
    "        "
   ]
  },
  {
   "cell_type": "markdown",
   "metadata": {},
   "source": [
    "Проверим по индексам похожие на неявные дубликаты записи."
   ]
  },
  {
   "cell_type": "code",
   "execution_count": null,
   "metadata": {
    "scrolled": true,
    "trusted": true
   },
   "outputs": [],
   "source": [
    "df.iloc[[738, 2053, 762, 1360, 937, 3560, 1581, 4427, 1737, 2467, 2375, 3983, 2392, 5727, 2448, 4176, 2838, 2866, 2866, 4735, 3203, 3918, 3940, 6380, 4076, 4429, 5894, 5957]]"
   ]
  },
  {
   "cell_type": "markdown",
   "metadata": {},
   "source": [
    "На основании ручного анализа схожих записей удалим неявные дубликаты. "
   ]
  },
  {
   "cell_type": "code",
   "execution_count": null,
   "metadata": {
    "trusted": true
   },
   "outputs": [],
   "source": [
    "df = df.loc[df.index.drop([2745, 4698, 3194, 4366, 5068])]"
   ]
  },
  {
   "cell_type": "code",
   "execution_count": null,
   "metadata": {
    "trusted": true
   },
   "outputs": [],
   "source": [
    "df.duplicated([\"title\", \"pu_number\"]).sum()"
   ]
  },
  {
   "cell_type": "code",
   "execution_count": null,
   "metadata": {
    "trusted": true
   },
   "outputs": [],
   "source": [
    "# check\n",
    "df[df.duplicated(subset=['title', 'director'], keep=False)==True].sort_values('title')[['title', \n",
    "    'show_start_date','director', 'refundable_support', 'nonrefundable_support', 'budget',\n",
    "         'ratings', 'genres', 'box_office']]"
   ]
  },
  {
   "cell_type": "code",
   "execution_count": null,
   "metadata": {},
   "outputs": [],
   "source": [
    "df = df.drop_duplicates(['title', 'director'])"
   ]
  },
  {
   "cell_type": "markdown",
   "metadata": {},
   "source": [
    "<div class=\"alert alert-warning\", style=\"border:solid coral 3px; padding: 20px\">\n",
    "<font size=\"4\", color = \"DimGrey\"><b>⚠️ Комментарий ревьюера</b></font>\n",
    "    <br /> \n",
    "    <font size=\"3\", color = \"black\">\n",
    "<br /> Стоит обработать и такие дубликаты ⬆⬆"
   ]
  },
  {
   "cell_type": "markdown",
   "metadata": {},
   "source": [
    "<div class=\"alert alert-info\">\n",
    "<font size=\"4\", color = \"black\">Сделано. На будущее нужно быть внимательнее в поиске комбинаций, дающих уникальные значения.</font>\n",
    "    <br /> \n",
    "    <font size=\"3\", color = \"black\">\n",
    "<br />      \n",
    "        "
   ]
  },
  {
   "cell_type": "markdown",
   "metadata": {},
   "source": [
    "Изучим категориальные поля. Удалим лишние символы в начале и конце всех строк с категориальными значениями."
   ]
  },
  {
   "cell_type": "code",
   "execution_count": null,
   "metadata": {
    "trusted": true
   },
   "outputs": [],
   "source": [
    "df[\"type\"] = df[\"type\"].str.strip('._- ')\n",
    "df[\"type\"].value_counts()"
   ]
  },
  {
   "cell_type": "markdown",
   "metadata": {},
   "source": [
    "<div class=\"alert alert-success\">\n",
    "<font size=\"4\", color= \"seagreen\"><b>✔️ Комментарий ревьюера</b></font>\n",
    "    <br /> \n",
    "    <font size=\"3\", color = \"black\">\n",
    "<br /> От лишних пробелов избавились корректно, молодец\n",
    "        \n",
    "        "
   ]
  },
  {
   "cell_type": "code",
   "execution_count": null,
   "metadata": {
    "trusted": true
   },
   "outputs": [],
   "source": [
    "df[\"film_studio\"] = df[\"film_studio\"].str.strip('._- ')\n",
    "df[\"film_studio\"].value_counts()"
   ]
  },
  {
   "cell_type": "code",
   "execution_count": null,
   "metadata": {
    "trusted": true
   },
   "outputs": [],
   "source": [
    "df[\"production_country\"] = df[\"production_country\"].str.strip('._- ')\n",
    "df[\"production_country\"].value_counts()"
   ]
  },
  {
   "cell_type": "code",
   "execution_count": null,
   "metadata": {
    "trusted": true
   },
   "outputs": [],
   "source": [
    "df[\"director\"] = df[\"director\"].str.strip('._- ')\n",
    "df[\"director\"].value_counts()"
   ]
  },
  {
   "cell_type": "code",
   "execution_count": null,
   "metadata": {
    "trusted": true
   },
   "outputs": [],
   "source": [
    "df[\"producer\"] = df[\"producer\"].str.strip('._- ')\n",
    "df[\"producer\"].value_counts()"
   ]
  },
  {
   "cell_type": "code",
   "execution_count": null,
   "metadata": {
    "trusted": true
   },
   "outputs": [],
   "source": [
    "df[\"genres\"] = df[\"genres\"].str.strip('._- ')\n",
    "df[\"genres\"].value_counts()"
   ]
  },
  {
   "cell_type": "markdown",
   "metadata": {},
   "source": [
    "Некоторые их категориальных данных хранят вложенные списки. Преобразуем такие поля в тип массивов значений."
   ]
  },
  {
   "cell_type": "code",
   "execution_count": null,
   "metadata": {},
   "outputs": [],
   "source": [
    "df[\"film_studio\"] = df[\"film_studio\"].str.split(',')\n",
    "df[\"production_country\"] = df[\"production_country\"].str.split(',')\n",
    "df[\"director\"] = df[\"director\"].str.split(',')\n",
    "df[\"producer\"] = df[\"producer\"].str.split(',')\n",
    "df[\"genres\"] = df[\"genres\"].str.split(',')"
   ]
  },
  {
   "cell_type": "code",
   "execution_count": null,
   "metadata": {},
   "outputs": [],
   "source": [
    "df.info()"
   ]
  },
  {
   "cell_type": "markdown",
   "metadata": {},
   "source": [
    "<div class=\"alert alert-danger\">\n",
    "<font size=\"4\"><b>❌ Комментарий ревьюера</b></font>\n",
    "    <br /> \n",
    "    <font size=\"3\", color = \"black\">\n",
    "<br /> Стоит определить основную проблему в колонках с категориальными данными  "
   ]
  },
  {
   "cell_type": "markdown",
   "metadata": {},
   "source": [
    "<div class=\"alert alert-info\">\n",
    "<font size=\"4\", color = \"black\">Проблема заключается в том, что в данных есть вложенная структура, которую сделали плоской собрав значения в строку с разделителем из запятых Преобразовал к экспериментальному типу данных Pandas pandas.arrays.StringArray.</font>\n",
    "    <br /> \n",
    "    <font size=\"3\", color = \"black\">\n",
    "<br />      \n",
    "        "
   ]
  },
  {
   "cell_type": "markdown",
   "metadata": {},
   "source": [
    "Обновим индекс после чистки данных."
   ]
  },
  {
   "cell_type": "code",
   "execution_count": null,
   "metadata": {
    "trusted": true
   },
   "outputs": [],
   "source": [
    "df = df.reset_index(drop=True)"
   ]
  },
  {
   "cell_type": "markdown",
   "metadata": {},
   "source": [
    "Изучим столбцы с количественными значениями."
   ]
  },
  {
   "cell_type": "code",
   "execution_count": null,
   "metadata": {
    "trusted": true
   },
   "outputs": [],
   "source": [
    "numeric = df.select_dtypes(include=['float', 'int'])\n",
    "\n",
    "def quantitative_hist(df):\n",
    "    fig, ((ax0, ax1), (ax2, ax3)) = plt.subplots(nrows=2, ncols=2, figsize =(20, 20))\n",
    "\n",
    "    ax0.hist(df[\"refundable_support\"], 100, histtype='bar')\n",
    "    ax0.legend(prop={'size': 10})\n",
    "    ax0.set_title('Временные субсидии')\n",
    "    ax0.set_xlabel('Сумма в рублях')\n",
    "    ax0.set_ylabel('Количество записей')\n",
    "\n",
    "    ax1.hist(df[\"nonrefundable_support\"], 100, histtype='bar')\n",
    "    ax1.set_title('Безвозмездные субсидии')\n",
    "    ax1.set_xlabel('Сумма в рублях')\n",
    "    ax1.set_ylabel('Количество записей')\n",
    "\n",
    "    ax2.hist(df[\"budget\"], 100, histtype='bar')\n",
    "    ax2.set_title('Бюджет')\n",
    "    ax2.set_xlabel('Сумма в рублях')\n",
    "    ax2.set_ylabel('Количество записей')\n",
    "\n",
    "    ax3.hist(df[\"box_office\"], 100, histtype='bar')\n",
    "    ax3.set_title('Кассовые сборы')\n",
    "    ax3.set_xlabel('Сумма в рублях')\n",
    "    ax3.set_ylabel('Количество записей')\n",
    "\n",
    "    plt.show();\n",
    "\n",
    "quantitative_hist(numeric)"
   ]
  },
  {
   "cell_type": "markdown",
   "metadata": {},
   "source": [
    "Явно видно что бюджеты субсидий большинства фильмов сосредоточены в достаточно узком диапазоне. Рассмотрим каждое из полей подробнее используя wiskers."
   ]
  },
  {
   "cell_type": "markdown",
   "metadata": {},
   "source": [
    "<div class=\"alert alert-danger\">\n",
    "<font size=\"4\"><b>❌ Комментарий ревьюера</b></font>\n",
    "    <br /> \n",
    "    <font size=\"3\", color = \"black\">\n",
    "<br /> Стоит полностью оформить все графики на проекте\n",
    "\n",
    "Подписи осей на графиках и название добавят ясности и читабельности.\n",
    "Это важные элементы любой визуализации. Как добавить подписи и названия, смотри [здесь](https://proproprogs.ru/modules/matplotlib-razmeshchaem-standartnye-tekstovye-elementy-na-grafike?ysclid=l6agtioc6f299002507)"
   ]
  },
  {
   "cell_type": "markdown",
   "metadata": {},
   "source": [
    "<div class=\"alert alert-info\">\n",
    "<font size=\"4\", color = \"black\">Добавил метаданные на графики.</font>\n",
    "    <br /> \n",
    "    <font size=\"3\", color = \"black\">\n",
    "<br />      "
   ]
  },
  {
   "cell_type": "code",
   "execution_count": null,
   "metadata": {
    "scrolled": true,
    "trusted": true
   },
   "outputs": [],
   "source": [
    "def show_quantitative():\n",
    "    titles = [\"Временные субсидии\", \"Безвозмездные субсидии\", \"Бюджет\", \"Кассовые сборы\"]\n",
    "\n",
    "    for i in range(0, len(numeric.columns)):\n",
    "        fig, ax = plt.subplots(figsize =(10, 10))\n",
    "        ax.boxplot(df.loc[df[numeric.columns[i]].notna(), numeric.columns[i]]);\n",
    "        ax.set_title(titles[i])\n",
    "        ax.set_ylabel('Сумма в рублях')\n",
    "        plt.show()\n",
    "\n",
    "show_quantitative()"
   ]
  },
  {
   "cell_type": "markdown",
   "metadata": {},
   "source": [
    "Заметим, что проекты с безвозмездной поддержкой получают большие, чем остальные, субсидии. Отмасштабируем остальные финансовые поля."
   ]
  },
  {
   "cell_type": "code",
   "execution_count": null,
   "metadata": {},
   "outputs": [],
   "source": [
    "fig, ax = plt.subplots(figsize =(10, 10))\n",
    "ax.boxplot(df.loc[(df[\"refundable_support\"].notna()) & (df[\"refundable_support\"] < 100_000_000), \"refundable_support\"])\n",
    "ax.set_title(\"Временные субсидии\")\n",
    "ax.set_ylabel('Сумма в рублях')\n",
    "plt.show()"
   ]
  },
  {
   "cell_type": "code",
   "execution_count": null,
   "metadata": {},
   "outputs": [],
   "source": [
    "fig, ax = plt.subplots(figsize =(10, 10))\n",
    "ax.boxplot(df.loc[(df[\"budget\"].notna()) & (df[\"budget\"] < 100_000_000), \"budget\"])\n",
    "ax.set_title(\"Бюджет\")\n",
    "ax.set_ylabel('Сумма в рублях')\n",
    "plt.show()"
   ]
  },
  {
   "cell_type": "code",
   "execution_count": null,
   "metadata": {
    "trusted": true
   },
   "outputs": [],
   "source": [
    "fig, ax = plt.subplots(figsize =(10, 10))\n",
    "ax.boxplot(df.loc[(df[\"box_office\"].notna()) & (df[\"box_office\"] < 1_200_000), \"box_office\"])\n",
    "ax.set_title(\"Кассовые сборы\")\n",
    "ax.set_ylabel('Сумма в рублях')\n",
    "plt.show()"
   ]
  },
  {
   "cell_type": "markdown",
   "metadata": {},
   "source": [
    "Кажется, что данные искажены нулевыми значениями. Проверим описательную статистику."
   ]
  },
  {
   "cell_type": "code",
   "execution_count": null,
   "metadata": {
    "scrolled": true,
    "trusted": true
   },
   "outputs": [],
   "source": [
    "for col in numeric.columns:\n",
    "    print(df[col].describe(), '\\n')"
   ]
  },
  {
   "cell_type": "markdown",
   "metadata": {},
   "source": [
    "Заменим на None нулевые значения, чтобы анализировать только субсидируемые картины. "
   ]
  },
  {
   "cell_type": "code",
   "execution_count": null,
   "metadata": {
    "trusted": true
   },
   "outputs": [],
   "source": [
    "for col in numeric.columns:\n",
    "    print(f\"Количество нулевых значений в колонке {col}: {(df[col] == 0).sum()}\")\n",
    "    df[col] = df[col].replace(0, np.nan)"
   ]
  },
  {
   "cell_type": "markdown",
   "metadata": {},
   "source": [
    "Рассмотрим графики ещё раз после замены."
   ]
  },
  {
   "cell_type": "code",
   "execution_count": null,
   "metadata": {
    "trusted": true
   },
   "outputs": [],
   "source": [
    "show_quantitative()"
   ]
  },
  {
   "cell_type": "code",
   "execution_count": null,
   "metadata": {
    "trusted": true
   },
   "outputs": [],
   "source": [
    "quantitative_hist(numeric)"
   ]
  },
  {
   "cell_type": "markdown",
   "metadata": {},
   "source": [
    "Наблюдаем финансовую статистику с длинными хвостами. Учитывая цели исследования по нахождению трендов заметим, что выбросами можно считать значения более 100_000_000 для `refundable_support`, 75_000_000 для `nonrefundable_support`, 250_000_000 для `budget` и 40_000_000 для `box_office`. Удалять их не будем т.к. в данном иссоедовании подобные фильмы составляют интерес для анализа."
   ]
  },
  {
   "cell_type": "markdown",
   "metadata": {},
   "source": [
    "Исследуем фильмы таже с относительно малыми бюджетами более 0 , но менее 100_000_000 рублей."
   ]
  },
  {
   "cell_type": "code",
   "execution_count": null,
   "metadata": {},
   "outputs": [],
   "source": [
    "low_budget = numeric.query(\"budget < 100_000_000\")\n",
    "\n",
    "quantitative_hist(low_budget)"
   ]
  },
  {
   "cell_type": "markdown",
   "metadata": {},
   "source": [
    "Мода кассовых сборов находится в диапазоне меньшем 1_000_000 рублей. Рассмотрим его внимательнее."
   ]
  },
  {
   "cell_type": "code",
   "execution_count": null,
   "metadata": {},
   "outputs": [],
   "source": [
    "low_box_office = low_budget.query(\"box_office < 1_000_000\")\n",
    "\n",
    "fig, ax = plt.subplots(figsize =(10, 10))\n",
    "ax.hist(low_box_office[\"box_office\"], 100, histtype='bar')\n",
    "ax.legend(prop={'size': 10})\n",
    "ax.set_title('Кассовые сборы')\n",
    "ax.set_xlabel('Сумма в рублях')\n",
    "ax.set_ylabel('Количество записей')"
   ]
  },
  {
   "cell_type": "markdown",
   "metadata": {},
   "source": [
    "Проанализировав \"низкобюджетные\" фильмы делаем вывод о моде финансовых показателей. Большинство фильмов получают временное финансирование в 4_000_000 рублей, безвозмездное финансирование в 2_400_000 рублей, имеют бюджет в 3_800_000 рублей и кассовые сборы в 50_000. Исходя из этого можно сделать вывод, что большинство картин убыточны."
   ]
  },
  {
   "cell_type": "markdown",
   "metadata": {},
   "source": [
    "<div class=\"alert alert-danger\">\n",
    "<font size=\"4\"><b>❌ Комментарий ревьюера  </b></font>\n",
    "    <br /> \n",
    "    <font size=\"3\", color = \"black\">\n",
    "<br /> На этом проекте мы работаем с продажами, поэтому включается другой фактор оценки выбросов, он отличается от того, что мы применяли на проекте про недвижимость\n",
    "        \n",
    "На этом проекте выбросы — это звезды, которые мы изучаем и добавляем информацию про них в итоговый вывод        \n",
    "        \n",
    "Стоит вернуть данные       "
   ]
  },
  {
   "cell_type": "markdown",
   "metadata": {},
   "source": [
    "<div class=\"alert alert-info\">\n",
    "<font size=\"4\", color = \"black\">Удалил набор данных с фильтрацией выбросов.</font>\n",
    "    <br /> \n",
    "    <font size=\"3\", color = \"black\">\n",
    "<br />      "
   ]
  },
  {
   "cell_type": "markdown",
   "metadata": {},
   "source": [
    "Проанализируем, какую часть данных мы потеряли при подготовке."
   ]
  },
  {
   "cell_type": "code",
   "execution_count": null,
   "metadata": {},
   "outputs": [],
   "source": [
    "after_puring = df.count()\n",
    "print(f\"Записей было до начала чистки: {before_puring}.\")"
   ]
  },
  {
   "cell_type": "markdown",
   "metadata": {},
   "source": [
    "### Добавим новые столбцы"
   ]
  },
  {
   "cell_type": "code",
   "execution_count": null,
   "metadata": {},
   "outputs": [],
   "source": [
    "df[\"start_year\"] = df[\"show_start_date\"].dt.year\n",
    "df[\"main_director\"] = df[\"director\"].str[0]\n",
    "df[\"main_genre\"] = df[\"genres\"].str[0][0]\n",
    "df[\"grant_share\"] = (100 * (df[\"refundable_support\"].add(df[\"nonrefundable_support\"], fill_value=0) / df[\"budget\"])).round(2)\n",
    "\n",
    "df.head()"
   ]
  },
  {
   "cell_type": "markdown",
   "metadata": {},
   "source": [
    "## EDA"
   ]
  },
  {
   "cell_type": "markdown",
   "metadata": {},
   "source": [
    "Исследуем, сколько фильмов выходило в прокат каждый год."
   ]
  },
  {
   "cell_type": "code",
   "execution_count": null,
   "metadata": {
    "trusted": true
   },
   "outputs": [],
   "source": [
    "df.pivot_table(index=\"start_year\", values=\"title\", aggfunc=\"count\").plot(xlabel=\"Год\", \\\n",
    "    ylabel=\"Количество фильмов\", grid=True, title=\"Динамика количества новых фильмов\");"
   ]
  },
  {
   "cell_type": "markdown",
   "metadata": {},
   "source": [
    "Частота выхода фильмов меняется год от года. В 2010'х выходило много фильмов. Потом, к 2011 году, количество новых фильмов сильно сократилось и медленно росло до 2014 года. В 2015 году произошёл недолгий спад и до 2016 года количество выходящих в прокат фильмов продолжало расти. Затем количество выпускаемых фильмов начало резко сокращаться к 2017 году. В 2018 году произошёл резкий рост количества новых фильмов, который продолжился в 2019 году с чуть меньшей динамикой."
   ]
  },
  {
   "cell_type": "markdown",
   "metadata": {},
   "source": [
    "<div class=\"alert alert-warning\", style=\"border:solid coral 3px; padding: 20px\">\n",
    "<font size=\"4\", color = \"DimGrey\"><b>⚠️ Комментарий ревьюера</b></font>\n",
    "    <br />  \n",
    "    <font size=\"3\", color = \"black\">\n",
    "<br />Корректной оценке кол-ва фильмов, мешают почти 800 дублей в названиях фильмов"
   ]
  },
  {
   "cell_type": "markdown",
   "metadata": {},
   "source": [
    "<div class=\"alert alert-info\">\n",
    "<font size=\"4\", color = \"black\">Переписал замечания о динамике.</font>\n",
    "    <br /> \n",
    "    <font size=\"3\", color = \"black\">\n",
    "<br />      "
   ]
  },
  {
   "cell_type": "markdown",
   "metadata": {},
   "source": [
    "Выясним долю фильмов с указанной информацией о прокате в кинотеатрах."
   ]
  },
  {
   "cell_type": "code",
   "execution_count": null,
   "metadata": {
    "trusted": true
   },
   "outputs": [],
   "source": [
    "filled_share = 100 * df['box_office'].notna().sum() / len(df.index)\n",
    "\n",
    "print(f\"Доля фильмов с указанными кассовыми сборами: {filled_share:.2f}%\")"
   ]
  },
  {
   "cell_type": "markdown",
   "metadata": {},
   "source": [
    "### Изучим, как доля фильмов с информацией о их кассовых сборах менялась по годам"
   ]
  },
  {
   "cell_type": "code",
   "execution_count": null,
   "metadata": {
    "trusted": true
   },
   "outputs": [],
   "source": [
    "filled = df.pivot_table(index=\"start_year\", values=\"box_office\", aggfunc={\"box_office\" : [\"count\", \"size\"]})\n",
    "filled.columns = [\"count\", \"size\"]\n",
    "filled[\"percent\"] = filled[\"count\"] / filled[\"size\"]\n",
    "filled[\"percent\"].plot(xlabel=\"Год\", ylabel=\"Процент фильмов с кассовыми сборами\", grid=True, title=\"Количество информации о финансировании\");"
   ]
  },
  {
   "cell_type": "markdown",
   "metadata": {},
   "source": [
    "Количество информации о фильмах росло год от года. Наиболее полные данные представлены за 2015-2018 годы."
   ]
  },
  {
   "cell_type": "markdown",
   "metadata": {},
   "source": [
    "### Изучим как менялась динамика проката по годам"
   ]
  },
  {
   "cell_type": "code",
   "execution_count": null,
   "metadata": {
    "trusted": true
   },
   "outputs": [],
   "source": [
    "profits = df.pivot_table(index=\"start_year\", values=\"box_office\", aggfunc=\"sum\").plot(xlabel=\"Год\", \\\n",
    "    ylabel=\"Сумма кассовых сборов\", grid=True, title=\"Суммарные кассовые сборы по годам\");"
   ]
  },
  {
   "cell_type": "markdown",
   "metadata": {},
   "source": [
    "Сумма кассовых сборов увеличивалась с 2013 года и достигла максимальных значений в 2016+ годах. Наибольшие кассовые сборы со всех фильмов пришлись на 2018 год. Минимальные же сборы были в 2013, 2014 годах. После 2014 года наблюдаем значительный рост. Есть гипотеза, что это может быть связано с началом существенного госфинансирования."
   ]
  },
  {
   "cell_type": "markdown",
   "metadata": {},
   "source": [
    "<div class=\"alert alert-warning\", style=\"border:solid coral 3px; padding: 20px\">\n",
    "<font size=\"4\", color = \"DimGrey\"><b>⚠️ Комментарий ревьюера</b></font>\n",
    "    <br /> \n",
    "    <font size=\"3\", color = \"black\">\n",
    "<br /> Стоит отметить взрывной рост сборов в 2014 году, интересно с чем это может быть связано?"
   ]
  },
  {
   "cell_type": "markdown",
   "metadata": {},
   "source": [
    "<div class=\"alert alert-info\">\n",
    "<font size=\"4\", color = \"black\">Сформулировал гипотезу для дальнейшей проверки.</font>\n",
    "    <br /> \n",
    "    <font size=\"3\", color = \"black\">\n",
    "<br />      "
   ]
  },
  {
   "cell_type": "code",
   "execution_count": null,
   "metadata": {
    "trusted": true
   },
   "outputs": [],
   "source": [
    "df.pivot_table(index=\"start_year\", values=\"box_office\", aggfunc={\"box_office\" : [\"mean\", \"median\"]}) \\\n",
    "    .plot(xlabel=\"Год\", ylabel=\"Кассовые сборы\", grid=True, title=\"Средние значения кассовых сборов по годам\");"
   ]
  },
  {
   "cell_type": "markdown",
   "metadata": {},
   "source": [
    "После 2013 года средние значения кассовых сборов начали расти значительно быстрее медианных. Пик этого разрыва пришёлся на 2017 год. Из этого можно сделать вывод, что с 2013 года в прокате начали с каждым годом всё чаще появляться всё более и более успешные относительно других актуальных фильмов картины. При этом нужно отмасштабировать 2010-2013 годы для более детального анализа."
   ]
  },
  {
   "cell_type": "code",
   "execution_count": null,
   "metadata": {},
   "outputs": [],
   "source": [
    "cropped_avg_box_office = df.query(\"start_year <= 2013\").pivot_table(index=\"start_year\", values=\"box_office\", aggfunc={\"box_office\" : [\"mean\", \"median\"]})\n",
    "cropped_avg_box_office.plot(xlabel=\"Год\", ylabel=\"Кассовые сборы\", grid=True, title=\"Средние значения кассовых сборов по годам\").set_xticks(cropped_avg_box_office.index);"
   ]
  },
  {
   "cell_type": "markdown",
   "metadata": {},
   "source": [
    "С 2010 года до 2013 года средние значения также превосходили медианные. Разрыв с большего увеличивался год от года с исключением в 2011 году. "
   ]
  },
  {
   "attachments": {
    "image.png": {
     "image/png": "[encoded data removed]"
    }
   },
   "cell_type": "markdown",
   "metadata": {},
   "source": [
    "<div class=\"alert alert-danger\">\n",
    "<font size=\"4\"><b>❌ Комментарий ревьюера</b></font>\n",
    "    <br /> \n",
    "    <font size=\"3\", color = \"black\">\n",
    "<br /> Стоит поправить вывод: разница между медианой и средним значительна и в предыдущие годы, твой график скрывает эту разницу\n",
    "        \n",
    "![image.png](attachment:image.png)        "
   ]
  },
  {
   "cell_type": "markdown",
   "metadata": {},
   "source": [
    "<div class=\"alert alert-info\">\n",
    "<font size=\"4\", color = \"black\">Исправил поверхностный вывод.</font>\n",
    "    <br /> \n",
    "    <font size=\"3\", color = \"black\">\n",
    "<br />      "
   ]
  },
  {
   "cell_type": "markdown",
   "metadata": {},
   "source": [
    "### Определим влияние возрастного ограничения на сборы"
   ]
  },
  {
   "cell_type": "code",
   "execution_count": null,
   "metadata": {
    "trusted": true
   },
   "outputs": [],
   "source": [
    "age_box_office_mean = df[(df['start_year'] >= 2015) & (df['start_year'] < 2019)] \\\n",
    "    .pivot_table(index=\"start_year\", columns=\"age_restriction\", values=\"box_office\", aggfunc=\"mean\")\n",
    "age_box_office_median = df[(df['start_year'] >= 2015) & (df['start_year'] < 2019)] \\\n",
    "    .pivot_table(index=\"start_year\", columns=\"age_restriction\", values=\"box_office\", aggfunc=\"median\")\n",
    "\n",
    "fig, (ax0, ax1) = plt.subplots(ncols=2, figsize=(20, 10))\n",
    "\n",
    "# График для средних значений\n",
    "age_box_office_mean.plot(ax=ax0, xlabel=\"Год\", ylabel=\"Средние кассовые сборы\", grid=True, \n",
    "    title=\"Динамика сборов от возраста аудитории (Средние значения)\")\n",
    "ax0.set_xticks(age_box_office_mean.index)\n",
    "ax0.legend(loc='center left', bbox_to_anchor=(1, 0.5))\n",
    "\n",
    "# График для медианных значений\n",
    "age_box_office_median.plot(ax=ax1, xlabel=\"Год\", ylabel=\"Медианные кассовые сборы\", grid=True, \n",
    "    title=\"Динамика сборов от возраста аудитории (Медианные значения)\")\n",
    "ax1.set_xticks(age_box_office_median.index)\n",
    "ax1.legend(loc='center left', bbox_to_anchor=(1, 0.5))\n",
    "\n",
    "plt.tight_layout()\n",
    "plt.show()"
   ]
  },
  {
   "cell_type": "markdown",
   "metadata": {},
   "source": [
    "<div class=\"alert alert-warning\", style=\"border:solid coral 3px; padding: 20px\">\n",
    "<font size=\"4\", color = \"DimGrey\"><b>⚠️  Комментарий ревьюера</b></font>\n",
    "    <br /> \n",
    "    <font size=\"3\", color = \"black\">\n",
    "<br />\n",
    "        \n",
    "Можно подправить подписи оси х, в виде целых 2015, 2016 ..., \n",
    "        \n",
    "Для графиков, построенных при помощи библиотеки matplotlib искать тему Ticks and ticklabels\n",
    "        \n",
    "https://matplotlib.org/stable/tutorials/text/text_intro.html\n",
    "        \n",
    "или\n",
    "        \n",
    "https://dev-gang.ru/article/izmenenie-czastoty-tikov-v-matplotlib-k5x1kznn39/?ysclid=lcp5si8pky848462627\n",
    "        \n",
    "для библиотеки plotly\n",
    "        \n",
    "https://plotly.com/python/tick-formatting/             "
   ]
  },
  {
   "cell_type": "markdown",
   "metadata": {},
   "source": [
    "<div class=\"alert alert-danger\">\n",
    "<font size=\"4\"><b>❌ Комментарий ревьюера</b></font>\n",
    "    <br /> \n",
    "    <font size=\"3\", color = \"black\">\n",
    "<br /> Стоит переместить легенду за край графика"
   ]
  },
  {
   "cell_type": "markdown",
   "metadata": {},
   "source": [
    "<div class=\"alert alert-info\">\n",
    "<font size=\"4\", color = \"black\">Сделал.</font>\n",
    "    <br /> \n",
    "    <font size=\"3\", color = \"black\">\n",
    "<br />      "
   ]
  },
  {
   "cell_type": "markdown",
   "metadata": {},
   "source": [
    "<div class=\"alert alert-danger\">\n",
    "<font size=\"4\"><b>❌ Комментарий ревьюера</b></font>\n",
    "    <br /> \n",
    "    <font size=\"3\", color = \"black\">\n",
    "<br /> Стоит полностью оформить все графики на проекте, осталось добавить названия для графиков"
   ]
  },
  {
   "cell_type": "markdown",
   "metadata": {},
   "source": [
    "<div class=\"alert alert-info\">\n",
    "<font size=\"4\", color = \"black\">Улучшил восприятие графиков их расположением.</font>\n",
    "    <br /> \n",
    "    <font size=\"3\", color = \"black\">\n",
    "<br />      "
   ]
  },
  {
   "cell_type": "markdown",
   "metadata": {},
   "source": [
    "После анализа среднего и медианного значения кассовых сборов по годам в зависимости от возрастной категории фильмов очевидно, что наиболее успешны в прокате фильмы с возрастной категорией 6+. Однако, в силу демографических изменений этот тренд меняется в среднем в 2017 году т.к. в целевой аудитории 12+, вероятно, становится больше зрителей."
   ]
  },
  {
   "cell_type": "markdown",
   "metadata": {},
   "source": [
    "<div class=\"alert alert-success\">\n",
    "<font size=\"4\", color= \"seagreen\"><b>✔️ Комментарий ревьюера  </b></font>\n",
    "    <br /> \n",
    "    <font size=\"3\", color = \"black\">\n",
    "<br />Отлично — посмотрели и на средние значения сборов, и медианные. Осталось посмотреть на суммарные "
   ]
  },
  {
   "cell_type": "markdown",
   "metadata": {},
   "source": [
    "## Исследование государственного субсидирования"
   ]
  },
  {
   "cell_type": "markdown",
   "metadata": {},
   "source": [
    "### Посмотрим на динамику суммарного субсидирования по годам"
   ]
  },
  {
   "cell_type": "code",
   "execution_count": null,
   "metadata": {
    "trusted": true
   },
   "outputs": [],
   "source": [
    "subsidized = df.query(\"refundable_support.notna() or nonrefundable_support.notna()\")\n",
    "subsidized.info()"
   ]
  },
  {
   "cell_type": "markdown",
   "metadata": {},
   "source": [
    "Рассмотрим суммарные значения финансируемых безвозмездно и с возвратом проектов."
   ]
  },
  {
   "cell_type": "code",
   "execution_count": null,
   "metadata": {
    "trusted": true
   },
   "outputs": [],
   "source": [
    "subsidized = subsidized.copy()\n",
    "subsidized[\"grants\"] = subsidized[\"nonrefundable_support\"].add(subsidized[\"refundable_support\"], fill_value=0)\n",
    "avg_grants = pd.pivot_table(subsidized, index=\"start_year\", values=\"grants\", aggfunc={\"grants\" : [\"mean\", \"median\"]}) \\\n",
    "    .plot(xlabel=\"Год\", ylabel=\"Cубсидии в рублях\", grid=True, title=\"Динамика суммарных субсидий\");"
   ]
  },
  {
   "cell_type": "markdown",
   "metadata": {},
   "source": [
    "Суммарные субсидии с большего растут год от года. При этом после 2015 года больше проектов начали получать большее относительно рынка субсидирование. При этом в 2018 году разрыв сильно сократился, что может означать более аккуратное распределение бюджета субсидирования."
   ]
  },
  {
   "cell_type": "markdown",
   "metadata": {},
   "source": [
    "Рассмотрим далее подробнее динамику временных субсидий."
   ]
  },
  {
   "cell_type": "code",
   "execution_count": null,
   "metadata": {
    "trusted": true
   },
   "outputs": [],
   "source": [
    "subsidized.pivot_table(index=\"start_year\", values=\"refundable_support\", aggfunc={\"refundable_support\" : [\"mean\", \"median\"]}) \\\n",
    "    .plot(xlabel=\"Год\", ylabel=\"Временные субсидии в рублях\", grid=True, title=\"Динамика временных субсидий\");"
   ]
  },
  {
   "cell_type": "markdown",
   "metadata": {},
   "source": [
    "Заметим, что после 2013 года начали появляться проекты, которые получали больше временных субсидий, чем большинство остальных субсидируемых проектов."
   ]
  },
  {
   "cell_type": "markdown",
   "metadata": {},
   "source": [
    "Посмотрим, сколько всего субсидируемых с условием возврата денег фильмов было по годам."
   ]
  },
  {
   "cell_type": "code",
   "execution_count": null,
   "metadata": {
    "trusted": true
   },
   "outputs": [],
   "source": [
    "subsidized.pivot_table(index=\"start_year\", values=\"refundable_support\", aggfunc=\"count\") \\\n",
    ".plot(xlabel=\"Год\", ylabel=\"Количество временных субсидий\", grid=True, title=\"Количество временных субсидий по годам\");"
   ]
  },
  {
   "cell_type": "markdown",
   "metadata": {},
   "source": [
    "Заметим, что количество временных субсидий отдалённо напоминает динамику суммарных кассовых сборов, что подтверждает нашу гипотезу о взрывном росте кассовых сборов в 2015 году."
   ]
  },
  {
   "cell_type": "markdown",
   "metadata": {},
   "source": [
    "Проанализируем безвозмездные субсидии таким же образом."
   ]
  },
  {
   "cell_type": "code",
   "execution_count": null,
   "metadata": {
    "trusted": true
   },
   "outputs": [],
   "source": [
    "subsidized.pivot_table(index=\"start_year\", values=\"nonrefundable_support\", aggfunc={\"nonrefundable_support\" : [\"mean\", \"median\"]}) \\\n",
    "    .plot(xlabel=\"Год\", ylabel=\"Безвозмездные субсидии\", grid=True, title=\"Динамика безвозмездных субсидий\");"
   ]
  },
  {
   "cell_type": "markdown",
   "metadata": {},
   "source": [
    "Заметим, что безвозмездные субсидии резко падали с 2013 до 2014 года. После 2015 года начался рост безвозмездных субсидий каждый год есть проекты, которые получали безвозмездных субсидий чуть больше, чем остальные. Вероятно, такая динамика связана с реорганизацей в пользу оборонного бюджета."
   ]
  },
  {
   "cell_type": "markdown",
   "metadata": {},
   "source": [
    "Посмотрим, сколько всего безвозмездно субсидируемых фильмов было по годам."
   ]
  },
  {
   "cell_type": "code",
   "execution_count": null,
   "metadata": {
    "trusted": true
   },
   "outputs": [],
   "source": [
    "subsidized.pivot_table(index=\"start_year\", values=\"nonrefundable_support\", aggfunc=\"count\") \\\n",
    "    .plot(xlabel=\"Год\", ylabel=\"Безвозмездные субсидии\", grid=True, title=\"Количество безвозмездных субсидий по годам\");"
   ]
  },
  {
   "cell_type": "markdown",
   "metadata": {},
   "source": [
    "Динамика схожа со временными субсидиями, за исключением того, что в 2017 году безвозмездных субсидий начали давать значительно меньше, чем до этого."
   ]
  },
  {
   "cell_type": "markdown",
   "metadata": {},
   "source": [
    "### Проанализируем как субсидии влияют на коммерческую успешность проектов"
   ]
  },
  {
   "cell_type": "markdown",
   "metadata": {},
   "source": [
    "Сначала рассмотрим временные, потом безвозмездные."
   ]
  },
  {
   "cell_type": "code",
   "execution_count": null,
   "metadata": {
    "trusted": true
   },
   "outputs": [],
   "source": [
    "fig, ax = plt.subplots(figsize=(10, 10))\n",
    "\n",
    "\n",
    "ax.scatter(x=subsidized['refundable_support'], y=subsidized['box_office'], \n",
    "           s=subsidized['ratings'] ** 3 / 10, alpha=0.3)\n",
    "ax.axline((0, 0), (1, 1), color='k')\n",
    "ax.set_xlabel(\"Временные субсидии\")\n",
    "ax.set_ylabel(\"Кассовые сборы\")\n",
    "ax.set_title(\"Рейтинг определяет размер точек\")\n",
    "\n",
    "plt.show()"
   ]
  },
  {
   "cell_type": "markdown",
   "metadata": {},
   "source": [
    "Заметим, что большинство фильмов смогли превзойти размер временных субсидий кассовыми сборами. При этом рейтинг, который определяет размер точек на графике, чаще больший у фильмов, которые получили меньше прибыли либо вовсе убыточны."
   ]
  },
  {
   "cell_type": "code",
   "execution_count": null,
   "metadata": {
    "trusted": true
   },
   "outputs": [],
   "source": [
    "fig, ax = plt.subplots(figsize=(10, 10))\n",
    "\n",
    "ax.scatter(x=subsidized['nonrefundable_support'], y=subsidized['box_office'], \n",
    "           s=subsidized['ratings'] ** 3 / 10, alpha=0.3)\n",
    "ax.axline((0, 0), (1, 1), color='k')\n",
    "ax.set_xlabel(\"Безвозмездные субсидии\")\n",
    "ax.set_ylabel(\"Кассовые сборы\")\n",
    "ax.set_title(\"Рейтинг определяет размер точек\")\n",
    "plt.show()"
   ]
  },
  {
   "cell_type": "markdown",
   "metadata": {},
   "source": [
    "При безвозмездных субсидиях меньшее количество картин становится прибыльными. Также заметно, что рейтинг картин не зависит от их кассовой успешности либо объёма безвозмездного субсидирования. Большее количество картин получают субсидии в районе 25_000_000 рублей и не достигают кассовой успешности либо выходят в безубыток."
   ]
  },
  {
   "cell_type": "markdown",
   "metadata": {},
   "source": [
    "Рассмотрим схожий график для суммарных субсидий."
   ]
  },
  {
   "cell_type": "code",
   "execution_count": null,
   "metadata": {},
   "outputs": [],
   "source": [
    "fig, ax = plt.subplots(figsize=(10, 10))\n",
    "\n",
    "ax.scatter(x=subsidized['grants'], y=subsidized['box_office'], \n",
    "           s=subsidized['ratings'] ** 3 / 10, alpha=0.3)\n",
    "ax.axline((0, 0), (1, 1), color='k')\n",
    "ax.set_xlabel(\"Суммарные субсидии\")\n",
    "ax.set_ylabel(\"Кассовые сборы\")\n",
    "ax.set_title(\"Рейтинг определяет размер точек\")\n",
    "plt.show()"
   ]
  },
  {
   "cell_type": "markdown",
   "metadata": {},
   "source": [
    "Видмио, большая часть фильмов не окупает субсидии. Рассчитаем точное отношение количества субсидий к кассовым сборам."
   ]
  },
  {
   "cell_type": "code",
   "execution_count": null,
   "metadata": {},
   "outputs": [],
   "source": [
    "print(f\"Отношение суммарных субсидий к суммарным кассовым сборам субсидируемых проектов составляет: {100 * (subsidized['grants'].sum() / subsidized['box_office'].sum()):.2f}%\")"
   ]
  },
  {
   "cell_type": "markdown",
   "metadata": {},
   "source": [
    "### Рассмотрим, какими признаками обладают финансово успешные проекты"
   ]
  },
  {
   "cell_type": "markdown",
   "metadata": {},
   "source": [
    "<div class=\"alert alert-warning\", style=\"border:solid coral 3px; padding: 20px\">\n",
    "<font size=\"4\", color = \"DimGrey\"><b>⚠️ Комментарий ревьюера</b></font>\n",
    "    <br /> \n",
    "    <font size=\"3\", color = \"black\">\n",
    "<br />\n",
    "Широкие строки кода рекомендуется делить на всем проекте\n",
    "        \n",
    "<a href=\"https://qastack.ru/programming/53162/how-can-i-do-a-line-break-line-continuation-in-python\">Перенос длинных строк кода</a>. \n",
    "    \n",
    "</div>"
   ]
  },
  {
   "cell_type": "markdown",
   "metadata": {},
   "source": [
    "<div class=\"alert alert-info\">\n",
    "<font size=\"4\", color = \"black\">Постарался везде улучшить читаемость переносами кода.</font>\n",
    "    <br /> \n",
    "    <font size=\"3\", color = \"black\">\n",
    "<br />      "
   ]
  },
  {
   "cell_type": "code",
   "execution_count": null,
   "metadata": {
    "trusted": true
   },
   "outputs": [],
   "source": [
    "# subsidized"
   ]
  },
  {
   "cell_type": "code",
   "execution_count": null,
   "metadata": {
    "trusted": true
   },
   "outputs": [],
   "source": [
    "succeded_subsidized = subsidized.loc[subsidized[\"grants\"] > subsidized[\"box_office\"]]\n",
    "succeded_subsidized.info()"
   ]
  },
  {
   "cell_type": "code",
   "execution_count": null,
   "metadata": {},
   "outputs": [],
   "source": [
    "print(f\"Доля фильмов, окупивших субсидии составляет: {100 * len(succeded_subsidized.index) / len(subsidized.index):.2f}%\")"
   ]
  },
  {
   "cell_type": "markdown",
   "metadata": {},
   "source": [
    "<div class=\"alert alert-danger\">\n",
    "<font size=\"4\"><b>❌ Комментарий ревьюера</b></font>\n",
    "    <br /> \n",
    "    <font size=\"3\", color = \"black\">\n",
    "<br /> \n",
    "        \n",
    "         Рассмотрим, какими признаками обладают финансово успешные проекты\n",
    "        \n",
    "Скажи пожалуйста, получилось ли у тебя корректно отфильтровать успешные фильмы этим кодом?\n",
    "        \n",
    "        succeded_subsidized = subsidized[subsidized[\"refundable_support\"] + subsidized[\"nonrefundable_support\"] > subsidized[\"box_office\"]]\n",
    "        succeded_subsidized.info()"
   ]
  },
  {
   "cell_type": "markdown",
   "metadata": {},
   "source": [
    "<div class=\"alert alert-info\">\n",
    "<font size=\"4\", color = \"black\">Исправил баг с суммированием субсидий.</font>\n",
    "    <br /> \n",
    "    <font size=\"3\", color = \"black\">\n",
    "<br />      "
   ]
  },
  {
   "cell_type": "markdown",
   "metadata": {},
   "source": [
    "Выделим категориальные признаки, которые влияют на успешность картины. "
   ]
  },
  {
   "cell_type": "code",
   "execution_count": null,
   "metadata": {
    "trusted": true
   },
   "outputs": [],
   "source": [
    "successfull_types = succeded_subsidized[\"type\"].value_counts().loc[succeded_subsidized[\"type\"].value_counts() > 0]\n",
    "\n",
    "fig, ax = plt.subplots()\n",
    "\n",
    "successfull_types.plot.barh(ax=ax, title=\"Типы фильмов, успешных в прокате\")\n",
    "ax.set_xlabel(\"Количество фильмов\")\n",
    "ax.xaxis.get_major_locator().set_params(integer=True)\n",
    "plt.show()"
   ]
  },
  {
   "cell_type": "markdown",
   "metadata": {},
   "source": [
    "Предположим, что более успешными в прокате являются художественные фильмы. "
   ]
  },
  {
   "cell_type": "code",
   "execution_count": null,
   "metadata": {
    "trusted": true
   },
   "outputs": [],
   "source": [
    "succeded_subsidized[\"film_studio\"] = succeded_subsidized[\"film_studio\"].str[0]\n",
    "successfull_studios = succeded_subsidized[\"film_studio\"].value_counts().loc[succeded_subsidized[\"film_studio\"].value_counts() > 2]\n",
    "fig, ax = plt.subplots()\n",
    "\n",
    "successfull_studios.plot.barh(ax=ax, title=\"Студии, успешные в прокате\")\n",
    "ax.set_xlabel(\"Количество фильмов\")\n",
    "ax.xaxis.get_major_locator().set_params(integer=True)\n",
    "plt.show()"
   ]
  },
  {
   "cell_type": "markdown",
   "metadata": {},
   "source": [
    "Получили список студий, которые чаще всего добиваются коммерческого успеха при получении субсидий."
   ]
  },
  {
   "cell_type": "code",
   "execution_count": null,
   "metadata": {
    "trusted": true
   },
   "outputs": [],
   "source": [
    "successfull_directors = succeded_subsidized[\"main_director\"].value_counts().loc[succeded_subsidized[\"main_director\"].value_counts() > 2]\n",
    "fig, ax = plt.subplots()\n",
    "\n",
    "successfull_directors.plot.barh(ax=ax, title=\"Режиссёры, успешные в прокате\")\n",
    "ax.set_xlabel(\"Количество фильмов\")\n",
    "ax.xaxis.get_major_locator().set_params(integer=True)\n",
    "plt.show()"
   ]
  },
  {
   "cell_type": "markdown",
   "metadata": {},
   "source": [
    "Получили список режиссёров, которые чаще остальных делают коммерчиски успешные проекты с учётом субсидирования."
   ]
  },
  {
   "cell_type": "code",
   "execution_count": null,
   "metadata": {
    "trusted": true
   },
   "outputs": [],
   "source": [
    "successfull_genres = succeded_subsidized[\"main_genre\"].value_counts().loc[succeded_subsidized[\"main_genre\"].value_counts() > 2]\n",
    "\n",
    "fig, ax = plt.subplots()\n",
    "\n",
    "successfull_genres.plot.barh(ax=ax, title=\"Жанры фильмов, успешных в прокате\")\n",
    "ax.set_xlabel(\"Количество фильмов\")\n",
    "ax.xaxis.get_major_locator().set_params(integer=True)\n",
    "plt.show()"
   ]
  },
  {
   "cell_type": "markdown",
   "metadata": {},
   "source": [
    "Выяснили, что единственным жанром, подходящим для субсидирования с целью получения коммерчески успешной картины является боевик. Кажется, это основная зарактеристика успешности т.к. все фильмы, которые были успешны были сняты в этом жанре."
   ]
  },
  {
   "cell_type": "markdown",
   "metadata": {},
   "source": [
    "Далее проанализируем, какие проекты наоборот с большой долей вероятности не добъются коммерческого успеха. Выделим те из них, успешность которых хуже медианной."
   ]
  },
  {
   "cell_type": "code",
   "execution_count": null,
   "metadata": {
    "trusted": true
   },
   "outputs": [],
   "source": [
    "\n",
    "failed_subsidized = subsidized.loc[subsidized.index.difference(succeded_subsidized.index)]\n",
    "failed_subsidized.info()"
   ]
  },
  {
   "cell_type": "code",
   "execution_count": null,
   "metadata": {},
   "outputs": [],
   "source": [
    "fail_types = failed_subsidized[\"type\"].value_counts().loc[failed_subsidized[\"type\"].value_counts() > 0]\n",
    "\n",
    "fig, ax = plt.subplots()\n",
    "\n",
    "fail_types.plot.barh(ax=ax, title=\"Типы фильмов, провалившихся в прокате\")\n",
    "ax.set_xlabel(\"Количество фильмов\")\n",
    "ax.xaxis.get_major_locator().set_params(integer=True)\n",
    "plt.show()"
   ]
  },
  {
   "cell_type": "markdown",
   "metadata": {},
   "source": [
    "Т.к. было достаточно успешных художественных т анимационных фильмов, делаем вывод, что толлько документальные фильмы склонны к провалу в прокате."
   ]
  },
  {
   "cell_type": "code",
   "execution_count": null,
   "metadata": {},
   "outputs": [],
   "source": [
    "failed_subsidized[\"film_studio\"] = failed_subsidized[\"film_studio\"].str[0]\n",
    "fail_studios = failed_subsidized[\"film_studio\"].value_counts().loc[failed_subsidized[\"film_studio\"].value_counts() > 2]\n",
    "fig, ax = plt.subplots()\n",
    "\n",
    "fail_studios.plot.barh(ax=ax, title=\"Студии, провалившиеся в прокате\")\n",
    "ax.set_xlabel(\"Количество фильмов\")\n",
    "ax.xaxis.get_major_locator().set_params(integer=True)\n",
    "plt.show()"
   ]
  },
  {
   "cell_type": "markdown",
   "metadata": {},
   "source": [
    "Получили список студий, которые чаще всего убыточны при получении субсидий."
   ]
  },
  {
   "cell_type": "code",
   "execution_count": null,
   "metadata": {},
   "outputs": [],
   "source": [
    "fail_directors = failed_subsidized[\"main_director\"].value_counts().loc[failed_subsidized[\"main_director\"].value_counts() > 2]\n",
    "fig, ax = plt.subplots()\n",
    "\n",
    "fail_directors.plot.barh(ax=ax, title=\"Режиссёры, провалившиеся в прокате\")\n",
    "ax.set_xlabel(\"Количество фильмов\")\n",
    "ax.xaxis.get_major_locator().set_params(integer=True)\n",
    "plt.show()"
   ]
  },
  {
   "cell_type": "markdown",
   "metadata": {},
   "source": [
    "Получили список режиссёров, которые чаще остальных снимают убыточные картины."
   ]
  },
  {
   "cell_type": "code",
   "execution_count": null,
   "metadata": {},
   "outputs": [],
   "source": [
    "fail_genres = failed_subsidized[\"main_genre\"].value_counts().loc[failed_subsidized[\"main_genre\"].value_counts() > 2]\n",
    "\n",
    "fig, ax = plt.subplots()\n",
    "\n",
    "fail_genres.plot.barh(ax=ax, title=\"Жанры фильмов, провальных в прокате\")\n",
    "ax.set_xlabel(\"Количество фильмов\")\n",
    "ax.xaxis.get_major_locator().set_params(integer=True)\n",
    "plt.show()"
   ]
  },
  {
   "cell_type": "markdown",
   "metadata": {},
   "source": [
    "Т.к. боевики также являются наиболее часто встречающимся провальным жанром, опровергаем вывод о коммерческой успешности фильмов в этом жанре."
   ]
  },
  {
   "cell_type": "markdown",
   "metadata": {},
   "source": [
    "<div class=\"alert alert-danger\">\n",
    "<font size=\"4\"><b>❌ Комментарий ревьюера</b></font>\n",
    "    <br /> \n",
    "    <font size=\"3\", color = \"black\">\n",
    "<br /> Стоит полностью  поправить этот подраздел"
   ]
  },
  {
   "cell_type": "markdown",
   "metadata": {},
   "source": [
    "<div class=\"alert alert-info\">\n",
    "<font size=\"4\", color = \"black\">Улучшил качество графиков, переписал выводы после исправления бага в количестве успешных и провальных фильмов.</font>\n",
    "    <br /> \n",
    "    <font size=\"3\", color = \"black\">\n",
    "<br />      "
   ]
  },
  {
   "cell_type": "markdown",
   "metadata": {},
   "source": [
    "### Проанализируем зависимость рейтинга проектов от субсидий "
   ]
  },
  {
   "cell_type": "code",
   "execution_count": null,
   "metadata": {
    "trusted": true
   },
   "outputs": [],
   "source": [
    "fig, ax = plt.subplots(figsize=(10, 10))\n",
    "\n",
    "ax.scatter(x=subsidized[\"grants\"], y=subsidized[\"ratings\"], s=subsidized[\"budget\"] / 10 ** 7, alpha=0.3);\n",
    "ax.set_xlabel(\"Субсидии\")\n",
    "ax.set_ylabel(\"Рейтинг\")\n",
    "ax.set_title(\"Бюджет определяет размер точек\")\n",
    "plt.show()"
   ]
  },
  {
   "cell_type": "markdown",
   "metadata": {},
   "source": [
    "Делаем вывод, что влияние бюджета на рейтинг незначительно. При этом часто наилучшие показатили рейтинга встречаются у картин, размер субсидий которых менее 70_000_000 рублей. Из этого можно сделать вывод, что финансирование на большие суммы часто бывает неэффективно."
   ]
  },
  {
   "cell_type": "markdown",
   "metadata": {},
   "source": [
    "Выделим ТОП-10 успешных режиссеров, которые получили и гос поддержку, и обеспечили огромные суммы сборов."
   ]
  },
  {
   "cell_type": "code",
   "execution_count": null,
   "metadata": {},
   "outputs": [],
   "source": [
    "subsidized[\"successfulness\"] = (subsidized[\"box_office\"] / subsidized[\"grants\"]).round(2)\n",
    "\n",
    "top_success = subsidized.sort_values(\"successfulness\", ascending=False).head(10)\n",
    "top_success[\"director\"] = top_success.loc[:, \"director\"].str[0]\n",
    "\n",
    "fig, ax = plt.subplots()\n",
    "\n",
    "top_success.plot.barh(x=\"director\", y=\"successfulness\", ax=ax, title=\"ТОП-10 успешных режиссеров, получивших субсидии\")\n",
    "ax.set_xlabel(\"Отношение кассовых сборов к суммарным субсидиям\")\n",
    "ax.xaxis.get_major_locator().set_params(integer=True)\n",
    "plt.show()"
   ]
  },
  {
   "cell_type": "markdown",
   "metadata": {},
   "source": [
    "Так, стоит выдавать субсидии режиссёрам из списка учитывая их коммерческий успех."
   ]
  },
  {
   "cell_type": "markdown",
   "metadata": {},
   "source": [
    "<div class=\"alert alert-danger\">\n",
    "<font size=\"4\"><b>❌ Комментарий ревьюера</b></font>\n",
    "    <br />\n",
    "    <font size=\"3\", color = \"black\">\n",
    "<br /> Стоит отметить ТОП-10 успешных режиссеров, которые получили и гос поддержку, и обеспечили огромные суммы сборов, чтобы ответить на доп. вопрос — \"Кому выдавать деньги в следующем году?\""
   ]
  },
  {
   "cell_type": "markdown",
   "metadata": {},
   "source": [
    "<div class=\"alert alert-info\">\n",
    "<font size=\"4\", color = \"black\">Получил список успещных режиссёров и сделал вывод о необходимости их поддержки.</font>\n",
    "    <br /> \n",
    "    <font size=\"3\", color = \"black\">\n",
    "<br />      "
   ]
  },
  {
   "cell_type": "markdown",
   "metadata": {},
   "source": [
    "<div class=\"alert alert-warning\", style=\"border:solid coral 3px; padding: 20px\">\n",
    "<font size=\"4\", color = \"DimGrey\"><b>⚠️ Комментарий ревьюера</b></font>\n",
    "    <br /> \n",
    "    <font size=\"3\", color = \"black\">\n",
    "<br />\n",
    "        \n",
    "__Стоит посмотреть на антилидеров, которые принесли суперубытки — ТОП-10__"
   ]
  },
  {
   "cell_type": "markdown",
   "metadata": {},
   "source": [
    "<div class=\"alert alert-info\">\n",
    "<font size=\"4\", color = \"black\">Добавил подобное исследование.</font>\n",
    "    <br /> \n",
    "    <font size=\"3\", color = \"black\">\n",
    "<br />      "
   ]
  },
  {
   "cell_type": "markdown",
   "metadata": {
    "id": "h7VpzkIDAwb-"
   },
   "source": [
    "## Oбщий вывод"
   ]
  },
  {
   "cell_type": "markdown",
   "metadata": {
    "id": "3H4lnp_KAwb-"
   },
   "source": [
    "В исследовании была произведена подготовка данных:\n",
    " - преобразование типов данных\n",
    " - объединение источников данных в один набор\n",
    " - анализ пропусков в данных\n",
    " - устранение дубликатов\n",
    " - создан набор данных без выбросов в количественных данных \n",
    " - созданы для удобства синтетические атрибуты данных\n",
    " - проанализировано количество утраченых после подготовки данных\n",
    "\n",
    "В ходе подготовки данных ознакомились с основными количественными и качественными характеристиками данных.\n",
    "\n",
    "Анализ показал, что:\n",
    " - Количество новых фильмов часто менялось год от года.\n",
    " - Доля фильмов с указанными кассовыми сборами: 44.21%\n",
    " - Количество информации о фильмах росло год от года. Наиболее полные данные представлены за 2015-2018 годы\n",
    " - Сумма кассовых сборов увеличивалась с 2013 года и достигла максимальных значений в 2016+ годах. Наибольшие кассовые сборы со всех фильмов пришлись на 2017 год. Минимальные же сборы были в 2013, 2014 годах.\n",
    " - Наиболее успешны в прокате фильмы с возрастной категорией 6+. Однако появилась гипотеза, что в силу демографических изменений этот тренд меняется в 2017 году т.к. в целевой аудитории 12+, вероятно, становится больше зрителей.\n",
    " - Суммарные субсидии с большего растут год от года.\n",
    " - Количество субсидий позитивно влияет на количество кассовых сборов.\n",
    " - 60% фильмов смогли превзойти размер временных субсидий кассовыми сборами.\n",
    " - Удалось выделить списки студий и режиссёров, которые чаще остальных выпускают коммерчески успешные картины.\n",
    " - Влияние бюджета на рейтинг незначительно.\n",
    " - Финансирование на большие чем 70_000_000 рублей суммы часто бывает неэффективно.\n",
    " - Получен список режиссёров, которые добиваются кассового успеха."
   ]
  },
  {
   "cell_type": "markdown",
   "metadata": {},
   "source": [
    "<div class=\"alert alert-success\">\n",
    "<font size=\"4\", color= \"seagreen\"><b>✔️ Комментарий ревьюера</b></font>\n",
    "    <br /> \n",
    "    <font size=\"3\", color = \"black\">\n",
    "<br /> Выполнено исследование с интересным подходом к реализации кода и подготовке данных, молодец"
   ]
  },
  {
   "cell_type": "markdown",
   "metadata": {},
   "source": [
    "<div class=\"alert alert-danger\">\n",
    "<font size=\"4\"><b>❌ Комментарий ревьюера</b></font>\n",
    "    <br /> \n",
    "    <font size=\"3\", color = \"black\">\n",
    "<br />\n",
    "        \n",
    "Стоит перепроверить результаты и итоговый вывод после   исправления всех комментариев \n",
    "    "
   ]
  },
  {
   "cell_type": "markdown",
   "metadata": {},
   "source": [
    "<div class=\"alert alert-info\">\n",
    "<font size=\"4\", color = \"black\">Переписал вывод в соответствии с доработками в исследовании.</font>\n",
    "    <br /> \n",
    "    <font size=\"3\", color = \"black\">\n",
    "<br />      "
   ]
  },
  {
   "cell_type": "markdown",
   "metadata": {},
   "source": [
    "<div class=\"alert alert-success\">\n",
    "<font size=\"5\", color= \"seagreen\"><b>✔️ Комментарий ревьюера</b></font>\n",
    "    <br /> \n",
    "    <font size=\"3\", color = \"black\">\n",
    "<br />   \n",
    "Ты выполнил практически все пункты проекта, молодец! Проведен значительный объем исследования \n",
    "        \n",
    "        \n",
    "Критические ❌ комментарии: \n",
    "               \n",
    " + объяснить какая основная проблема категориальных данных\n",
    " + выполнить поиск аномалий в количественных данных  \n",
    " + определить успешных режиссеров на гос поддержке        \n",
    " + прочие\n",
    " + перепроверить промежуточные и итоговый выводы после всех исправлений         \n",
    "          \n",
    "        \n",
    "        \n",
    "        \n",
    "Стоит обратить внимание на ⚠️ комментарии...        \n",
    "        \n",
    "Если будут вопросы про мои комментарии - задавай, если какой-то формат взаимодействия не устраивает или есть какие-то другие пожелания - пиши :)\n",
    "\n",
    "<div class=\"alert alert-success\">\n",
    "    <font size=\"5\", color= \"seagreen\"><b>Жду твой проект и твои комментарии 🤝</b></font><br />"
   ]
  },
  {
   "cell_type": "markdown",
   "metadata": {},
   "source": [
    "<div style=\"border:solid steelblue 3px; padding: 20px\">\n",
    "<font size=\"4\">🍕<b> Комментарий ревьюера</b></font>\n",
    "<br /> \n",
    "<font size=\"3\", color = \"black\">\n",
    "<br />    Может пригодиться\n",
    "    \n",
    "[Обработка пропусков в данных](https://loginom.ru/blog/missing)\n",
    "     \n",
    "        \n",
    "[Подробное руководство по группировке и агрегированию с помощью pandas](https://dfedorov.spb.ru/pandas/%D0%9F%D0%BE%D0%B4%D1%80%D0%BE%D0%B1%D0%BD%D0%BE%D0%B5%20%D1%80%D1%83%D0%BA%D0%BE%D0%B2%D0%BE%D0%B4%D1%81%D1%82%D0%B2%D0%BE%20%D0%BF%D0%BE%20%D0%B3%D1%80%D1%83%D0%BF%D0%BF%D0%B8%D1%80%D0%BE%D0%B2%D0%BA%D0%B5%20%D0%B8%20%D0%B0%D0%B3%D1%80%D0%B5%D0%B3%D0%B8%D1%80%D0%BE%D0%B2%D0%B0%D0%BD%D0%B8%D1%8E%20%D1%81%20%D0%BF%D0%BE%D0%BC%D0%BE%D1%89%D1%8C%D1%8E%20pandas.html)\n",
    " \n",
    " \n",
    "    \n",
    "[8 способов фильтрации фреймов данных Pandas](https://questu.ru/articles/85248/)    \n",
    "    \n",
    "[Визуализация](https://dfedorov.spb.ru/pandas/%D0%AD%D1%84%D1%84%D0%B5%D0%BA%D1%82%D0%B8%D0%B2%D0%BD%D0%BE%D0%B5%20%D0%B8%D1%81%D0%BF%D0%BE%D0%BB%D1%8C%D0%B7%D0%BE%D0%B2%D0%B0%D0%BD%D0%B8%D0%B5%20Matplotlib.html)\n",
    " \n",
    "        \n",
    "[Постер «Графики, которые убеждают всех»](https://www.notion.so/6c5ae8ceb8b5411e907c93c9b5e6a44e)         "
   ]
  },
  {
   "cell_type": "markdown",
   "metadata": {},
   "source": [
    "<div class=\"alert alert-success\">\n",
    "<font size=\"4\", color= \"seagreen\"><b>✔️ Комментарий ревьюера</b></font>\n",
    "    <br /> \n",
    "    <font size=\"3\", color = \"black\">\n",
    "<br />Если добавить запятую или знак нижнего подчеркивания, будет удобнее смотреть на большие числа\n",
    "        \n",
    "        pd.options.display.float_format = '{:,.2f}'.format\n",
    "        \n",
    "        pd.options.display.float_format = '{:_.2f}'.format"
   ]
  }
 ],
 "metadata": {
  "ExecuteTimeLog": [
   {
    "duration": 1451,
    "start_time": "2024-10-17T17:21:56.727Z"
   },
   {
    "duration": 0,
    "start_time": "2024-10-17T17:21:58.183Z"
   },
   {
    "duration": 0,
    "start_time": "2024-10-17T17:21:58.184Z"
   },
   {
    "duration": 0,
    "start_time": "2024-10-17T17:21:58.198Z"
   },
   {
    "duration": 0,
    "start_time": "2024-10-17T17:21:58.199Z"
   },
   {
    "duration": 0,
    "start_time": "2024-10-17T17:21:58.200Z"
   },
   {
    "duration": 0,
    "start_time": "2024-10-17T17:21:58.201Z"
   },
   {
    "duration": 0,
    "start_time": "2024-10-17T17:21:58.202Z"
   },
   {
    "duration": 0,
    "start_time": "2024-10-17T17:21:58.203Z"
   },
   {
    "duration": 0,
    "start_time": "2024-10-17T17:21:58.205Z"
   },
   {
    "duration": 0,
    "start_time": "2024-10-17T17:21:58.205Z"
   },
   {
    "duration": 0,
    "start_time": "2024-10-17T17:21:58.206Z"
   },
   {
    "duration": 0,
    "start_time": "2024-10-17T17:21:58.207Z"
   },
   {
    "duration": 0,
    "start_time": "2024-10-17T17:21:58.208Z"
   },
   {
    "duration": 0,
    "start_time": "2024-10-17T17:21:58.210Z"
   },
   {
    "duration": 0,
    "start_time": "2024-10-17T17:21:58.212Z"
   },
   {
    "duration": 0,
    "start_time": "2024-10-17T17:21:58.213Z"
   },
   {
    "duration": 0,
    "start_time": "2024-10-17T17:21:58.215Z"
   },
   {
    "duration": 0,
    "start_time": "2024-10-17T17:21:58.216Z"
   },
   {
    "duration": 0,
    "start_time": "2024-10-17T17:21:58.217Z"
   },
   {
    "duration": 0,
    "start_time": "2024-10-17T17:21:58.218Z"
   },
   {
    "duration": 0,
    "start_time": "2024-10-17T17:21:58.219Z"
   },
   {
    "duration": 0,
    "start_time": "2024-10-17T17:21:58.220Z"
   },
   {
    "duration": 0,
    "start_time": "2024-10-17T17:21:58.223Z"
   },
   {
    "duration": 0,
    "start_time": "2024-10-17T17:21:58.224Z"
   },
   {
    "duration": 0,
    "start_time": "2024-10-17T17:21:58.225Z"
   },
   {
    "duration": 0,
    "start_time": "2024-10-17T17:21:58.226Z"
   },
   {
    "duration": 0,
    "start_time": "2024-10-17T17:21:58.227Z"
   },
   {
    "duration": 0,
    "start_time": "2024-10-17T17:21:58.229Z"
   },
   {
    "duration": 0,
    "start_time": "2024-10-17T17:21:58.231Z"
   },
   {
    "duration": 0,
    "start_time": "2024-10-17T17:21:58.232Z"
   },
   {
    "duration": 0,
    "start_time": "2024-10-17T17:21:58.233Z"
   },
   {
    "duration": 0,
    "start_time": "2024-10-17T17:21:58.235Z"
   },
   {
    "duration": 0,
    "start_time": "2024-10-17T17:21:58.236Z"
   },
   {
    "duration": 0,
    "start_time": "2024-10-17T17:21:58.298Z"
   },
   {
    "duration": 0,
    "start_time": "2024-10-17T17:21:58.299Z"
   },
   {
    "duration": 0,
    "start_time": "2024-10-17T17:21:58.300Z"
   },
   {
    "duration": 0,
    "start_time": "2024-10-17T17:21:58.301Z"
   },
   {
    "duration": 0,
    "start_time": "2024-10-17T17:21:58.302Z"
   },
   {
    "duration": 0,
    "start_time": "2024-10-17T17:21:58.304Z"
   },
   {
    "duration": 0,
    "start_time": "2024-10-17T17:21:58.305Z"
   },
   {
    "duration": 0,
    "start_time": "2024-10-17T17:21:58.306Z"
   },
   {
    "duration": 0,
    "start_time": "2024-10-17T17:21:58.307Z"
   },
   {
    "duration": 0,
    "start_time": "2024-10-17T17:21:58.308Z"
   },
   {
    "duration": 0,
    "start_time": "2024-10-17T17:21:58.309Z"
   },
   {
    "duration": 0,
    "start_time": "2024-10-17T17:21:58.311Z"
   },
   {
    "duration": 0,
    "start_time": "2024-10-17T17:21:58.312Z"
   },
   {
    "duration": 0,
    "start_time": "2024-10-17T17:21:58.313Z"
   },
   {
    "duration": 0,
    "start_time": "2024-10-17T17:21:58.315Z"
   },
   {
    "duration": 0,
    "start_time": "2024-10-17T17:21:58.316Z"
   },
   {
    "duration": 0,
    "start_time": "2024-10-17T17:21:58.317Z"
   },
   {
    "duration": 0,
    "start_time": "2024-10-17T17:21:58.318Z"
   },
   {
    "duration": 0,
    "start_time": "2024-10-17T17:21:58.319Z"
   },
   {
    "duration": 0,
    "start_time": "2024-10-17T17:21:58.320Z"
   },
   {
    "duration": 0,
    "start_time": "2024-10-17T17:21:58.322Z"
   },
   {
    "duration": 0,
    "start_time": "2024-10-17T17:21:58.323Z"
   },
   {
    "duration": 0,
    "start_time": "2024-10-17T17:21:58.324Z"
   },
   {
    "duration": 0,
    "start_time": "2024-10-17T17:21:58.325Z"
   },
   {
    "duration": 0,
    "start_time": "2024-10-17T17:21:58.326Z"
   },
   {
    "duration": 0,
    "start_time": "2024-10-17T17:21:58.328Z"
   },
   {
    "duration": 0,
    "start_time": "2024-10-17T17:21:58.329Z"
   },
   {
    "duration": 0,
    "start_time": "2024-10-17T17:21:58.330Z"
   },
   {
    "duration": 0,
    "start_time": "2024-10-17T17:21:58.331Z"
   },
   {
    "duration": 0,
    "start_time": "2024-10-17T17:21:58.332Z"
   },
   {
    "duration": 0,
    "start_time": "2024-10-17T17:21:58.333Z"
   },
   {
    "duration": 0,
    "start_time": "2024-10-17T17:21:58.334Z"
   },
   {
    "duration": 0,
    "start_time": "2024-10-17T17:21:58.335Z"
   },
   {
    "duration": 0,
    "start_time": "2024-10-17T17:21:58.336Z"
   },
   {
    "duration": 0,
    "start_time": "2024-10-17T17:21:58.398Z"
   },
   {
    "duration": 0,
    "start_time": "2024-10-17T17:21:58.399Z"
   },
   {
    "duration": 0,
    "start_time": "2024-10-17T17:21:58.400Z"
   },
   {
    "duration": 0,
    "start_time": "2024-10-17T17:21:58.402Z"
   },
   {
    "duration": 0,
    "start_time": "2024-10-17T17:21:58.403Z"
   },
   {
    "duration": 0,
    "start_time": "2024-10-17T17:21:58.403Z"
   },
   {
    "duration": 0,
    "start_time": "2024-10-17T17:21:58.405Z"
   },
   {
    "duration": 0,
    "start_time": "2024-10-17T17:21:58.406Z"
   },
   {
    "duration": 0,
    "start_time": "2024-10-17T17:21:58.407Z"
   },
   {
    "duration": 0,
    "start_time": "2024-10-17T17:21:58.408Z"
   },
   {
    "duration": 0,
    "start_time": "2024-10-17T17:21:58.409Z"
   },
   {
    "duration": 0,
    "start_time": "2024-10-17T17:21:58.410Z"
   },
   {
    "duration": 0,
    "start_time": "2024-10-17T17:21:58.411Z"
   },
   {
    "duration": 0,
    "start_time": "2024-10-17T17:21:58.412Z"
   },
   {
    "duration": 0,
    "start_time": "2024-10-17T17:21:58.413Z"
   },
   {
    "duration": 0,
    "start_time": "2024-10-17T17:21:58.414Z"
   },
   {
    "duration": 0,
    "start_time": "2024-10-17T17:21:58.415Z"
   },
   {
    "duration": 0,
    "start_time": "2024-10-17T17:21:58.416Z"
   },
   {
    "duration": 0,
    "start_time": "2024-10-17T17:21:58.417Z"
   },
   {
    "duration": 0,
    "start_time": "2024-10-17T17:21:58.418Z"
   },
   {
    "duration": 0,
    "start_time": "2024-10-17T17:21:58.419Z"
   },
   {
    "duration": 0,
    "start_time": "2024-10-17T17:21:58.420Z"
   },
   {
    "duration": 1,
    "start_time": "2024-10-17T17:21:58.421Z"
   },
   {
    "duration": 0,
    "start_time": "2024-10-17T17:21:58.422Z"
   },
   {
    "duration": 0,
    "start_time": "2024-10-17T17:21:58.423Z"
   },
   {
    "duration": 0,
    "start_time": "2024-10-17T17:21:58.424Z"
   },
   {
    "duration": 0,
    "start_time": "2024-10-17T17:21:58.425Z"
   },
   {
    "duration": 0,
    "start_time": "2024-10-17T17:21:58.426Z"
   },
   {
    "duration": 0,
    "start_time": "2024-10-17T17:21:58.428Z"
   },
   {
    "duration": 0,
    "start_time": "2024-10-17T17:21:58.429Z"
   },
   {
    "duration": 0,
    "start_time": "2024-10-17T17:21:58.430Z"
   },
   {
    "duration": 1309,
    "start_time": "2024-10-17T17:23:12.198Z"
   },
   {
    "duration": 0,
    "start_time": "2024-10-17T17:23:13.511Z"
   },
   {
    "duration": 0,
    "start_time": "2024-10-17T17:23:13.512Z"
   },
   {
    "duration": 0,
    "start_time": "2024-10-17T17:23:13.513Z"
   },
   {
    "duration": 0,
    "start_time": "2024-10-17T17:23:13.514Z"
   },
   {
    "duration": 0,
    "start_time": "2024-10-17T17:23:13.516Z"
   },
   {
    "duration": 0,
    "start_time": "2024-10-17T17:23:13.517Z"
   },
   {
    "duration": 0,
    "start_time": "2024-10-17T17:23:13.518Z"
   },
   {
    "duration": 0,
    "start_time": "2024-10-17T17:23:13.519Z"
   },
   {
    "duration": 0,
    "start_time": "2024-10-17T17:23:13.520Z"
   },
   {
    "duration": 0,
    "start_time": "2024-10-17T17:23:13.521Z"
   },
   {
    "duration": 0,
    "start_time": "2024-10-17T17:23:13.522Z"
   },
   {
    "duration": 0,
    "start_time": "2024-10-17T17:23:13.523Z"
   },
   {
    "duration": 0,
    "start_time": "2024-10-17T17:23:13.524Z"
   },
   {
    "duration": 0,
    "start_time": "2024-10-17T17:23:13.525Z"
   },
   {
    "duration": 0,
    "start_time": "2024-10-17T17:23:13.526Z"
   },
   {
    "duration": 0,
    "start_time": "2024-10-17T17:23:13.527Z"
   },
   {
    "duration": 0,
    "start_time": "2024-10-17T17:23:13.528Z"
   },
   {
    "duration": 0,
    "start_time": "2024-10-17T17:23:13.529Z"
   },
   {
    "duration": 0,
    "start_time": "2024-10-17T17:23:13.530Z"
   },
   {
    "duration": 0,
    "start_time": "2024-10-17T17:23:13.531Z"
   },
   {
    "duration": 0,
    "start_time": "2024-10-17T17:23:13.532Z"
   },
   {
    "duration": 0,
    "start_time": "2024-10-17T17:23:13.533Z"
   },
   {
    "duration": 0,
    "start_time": "2024-10-17T17:23:13.534Z"
   },
   {
    "duration": 0,
    "start_time": "2024-10-17T17:23:13.535Z"
   },
   {
    "duration": 0,
    "start_time": "2024-10-17T17:23:13.536Z"
   },
   {
    "duration": 0,
    "start_time": "2024-10-17T17:23:13.537Z"
   },
   {
    "duration": 0,
    "start_time": "2024-10-17T17:23:13.538Z"
   },
   {
    "duration": 0,
    "start_time": "2024-10-17T17:23:13.539Z"
   },
   {
    "duration": 0,
    "start_time": "2024-10-17T17:23:13.540Z"
   },
   {
    "duration": 0,
    "start_time": "2024-10-17T17:23:13.541Z"
   },
   {
    "duration": 0,
    "start_time": "2024-10-17T17:23:13.542Z"
   },
   {
    "duration": 0,
    "start_time": "2024-10-17T17:23:13.543Z"
   },
   {
    "duration": 0,
    "start_time": "2024-10-17T17:23:13.544Z"
   },
   {
    "duration": 0,
    "start_time": "2024-10-17T17:23:13.545Z"
   },
   {
    "duration": 0,
    "start_time": "2024-10-17T17:23:13.598Z"
   },
   {
    "duration": 0,
    "start_time": "2024-10-17T17:23:13.599Z"
   },
   {
    "duration": 0,
    "start_time": "2024-10-17T17:23:13.600Z"
   },
   {
    "duration": 0,
    "start_time": "2024-10-17T17:23:13.601Z"
   },
   {
    "duration": 0,
    "start_time": "2024-10-17T17:23:13.603Z"
   },
   {
    "duration": 0,
    "start_time": "2024-10-17T17:23:13.604Z"
   },
   {
    "duration": 0,
    "start_time": "2024-10-17T17:23:13.605Z"
   },
   {
    "duration": 0,
    "start_time": "2024-10-17T17:23:13.606Z"
   },
   {
    "duration": 0,
    "start_time": "2024-10-17T17:23:13.607Z"
   },
   {
    "duration": 0,
    "start_time": "2024-10-17T17:23:13.608Z"
   },
   {
    "duration": 0,
    "start_time": "2024-10-17T17:23:13.609Z"
   },
   {
    "duration": 0,
    "start_time": "2024-10-17T17:23:13.611Z"
   },
   {
    "duration": 0,
    "start_time": "2024-10-17T17:23:13.612Z"
   },
   {
    "duration": 0,
    "start_time": "2024-10-17T17:23:13.613Z"
   },
   {
    "duration": 0,
    "start_time": "2024-10-17T17:23:13.614Z"
   },
   {
    "duration": 0,
    "start_time": "2024-10-17T17:23:13.615Z"
   },
   {
    "duration": 0,
    "start_time": "2024-10-17T17:23:13.616Z"
   },
   {
    "duration": 0,
    "start_time": "2024-10-17T17:23:13.617Z"
   },
   {
    "duration": 1,
    "start_time": "2024-10-17T17:23:13.617Z"
   },
   {
    "duration": 0,
    "start_time": "2024-10-17T17:23:13.618Z"
   },
   {
    "duration": 0,
    "start_time": "2024-10-17T17:23:13.619Z"
   },
   {
    "duration": 0,
    "start_time": "2024-10-17T17:23:13.620Z"
   },
   {
    "duration": 0,
    "start_time": "2024-10-17T17:23:13.621Z"
   },
   {
    "duration": 0,
    "start_time": "2024-10-17T17:23:13.623Z"
   },
   {
    "duration": 0,
    "start_time": "2024-10-17T17:23:13.623Z"
   },
   {
    "duration": 0,
    "start_time": "2024-10-17T17:23:13.624Z"
   },
   {
    "duration": 0,
    "start_time": "2024-10-17T17:23:13.625Z"
   },
   {
    "duration": 0,
    "start_time": "2024-10-17T17:23:13.626Z"
   },
   {
    "duration": 0,
    "start_time": "2024-10-17T17:23:13.627Z"
   },
   {
    "duration": 0,
    "start_time": "2024-10-17T17:23:13.628Z"
   },
   {
    "duration": 0,
    "start_time": "2024-10-17T17:23:13.629Z"
   },
   {
    "duration": 0,
    "start_time": "2024-10-17T17:23:13.630Z"
   },
   {
    "duration": 1,
    "start_time": "2024-10-17T17:23:13.631Z"
   },
   {
    "duration": 0,
    "start_time": "2024-10-17T17:23:13.632Z"
   },
   {
    "duration": 0,
    "start_time": "2024-10-17T17:23:13.633Z"
   },
   {
    "duration": 0,
    "start_time": "2024-10-17T17:23:13.634Z"
   },
   {
    "duration": 0,
    "start_time": "2024-10-17T17:23:13.698Z"
   },
   {
    "duration": 0,
    "start_time": "2024-10-17T17:23:13.699Z"
   },
   {
    "duration": 0,
    "start_time": "2024-10-17T17:23:13.700Z"
   },
   {
    "duration": 0,
    "start_time": "2024-10-17T17:23:13.701Z"
   },
   {
    "duration": 0,
    "start_time": "2024-10-17T17:23:13.702Z"
   },
   {
    "duration": 0,
    "start_time": "2024-10-17T17:23:13.703Z"
   },
   {
    "duration": 0,
    "start_time": "2024-10-17T17:23:13.704Z"
   },
   {
    "duration": 0,
    "start_time": "2024-10-17T17:23:13.705Z"
   },
   {
    "duration": 0,
    "start_time": "2024-10-17T17:23:13.706Z"
   },
   {
    "duration": 0,
    "start_time": "2024-10-17T17:23:13.707Z"
   },
   {
    "duration": 0,
    "start_time": "2024-10-17T17:23:13.708Z"
   },
   {
    "duration": 0,
    "start_time": "2024-10-17T17:23:13.709Z"
   },
   {
    "duration": 0,
    "start_time": "2024-10-17T17:23:13.710Z"
   },
   {
    "duration": 0,
    "start_time": "2024-10-17T17:23:13.711Z"
   },
   {
    "duration": 0,
    "start_time": "2024-10-17T17:23:13.712Z"
   },
   {
    "duration": 0,
    "start_time": "2024-10-17T17:23:13.713Z"
   },
   {
    "duration": 0,
    "start_time": "2024-10-17T17:23:13.714Z"
   },
   {
    "duration": 0,
    "start_time": "2024-10-17T17:23:13.715Z"
   },
   {
    "duration": 0,
    "start_time": "2024-10-17T17:23:13.716Z"
   },
   {
    "duration": 0,
    "start_time": "2024-10-17T17:23:13.717Z"
   },
   {
    "duration": 0,
    "start_time": "2024-10-17T17:23:13.718Z"
   },
   {
    "duration": 0,
    "start_time": "2024-10-17T17:23:13.719Z"
   },
   {
    "duration": 0,
    "start_time": "2024-10-17T17:23:13.721Z"
   },
   {
    "duration": 0,
    "start_time": "2024-10-17T17:23:13.722Z"
   },
   {
    "duration": 0,
    "start_time": "2024-10-17T17:23:13.723Z"
   },
   {
    "duration": 0,
    "start_time": "2024-10-17T17:23:13.724Z"
   },
   {
    "duration": 0,
    "start_time": "2024-10-17T17:23:13.725Z"
   },
   {
    "duration": 0,
    "start_time": "2024-10-17T17:23:13.726Z"
   },
   {
    "duration": 7881,
    "start_time": "2024-10-20T12:04:48.967Z"
   },
   {
    "duration": 1414,
    "start_time": "2024-10-20T12:04:56.850Z"
   },
   {
    "duration": 16,
    "start_time": "2024-10-20T12:04:58.266Z"
   },
   {
    "duration": 1935,
    "start_time": "2024-10-20T12:04:58.284Z"
   },
   {
    "duration": 11,
    "start_time": "2024-10-20T12:05:00.221Z"
   },
   {
    "duration": 56,
    "start_time": "2024-10-20T12:05:00.233Z"
   },
   {
    "duration": 690,
    "start_time": "2024-10-20T12:05:00.290Z"
   },
   {
    "duration": 162,
    "start_time": "2024-10-20T12:05:00.981Z"
   },
   {
    "duration": 12,
    "start_time": "2024-10-20T12:05:01.144Z"
   },
   {
    "duration": 12,
    "start_time": "2024-10-20T12:05:01.159Z"
   },
   {
    "duration": 169,
    "start_time": "2024-10-20T12:05:01.173Z"
   },
   {
    "duration": 13,
    "start_time": "2024-10-20T12:05:01.344Z"
   },
   {
    "duration": 16,
    "start_time": "2024-10-20T12:05:01.359Z"
   },
   {
    "duration": 31,
    "start_time": "2024-10-20T12:05:01.377Z"
   },
   {
    "duration": 30,
    "start_time": "2024-10-20T12:05:01.410Z"
   },
   {
    "duration": 18,
    "start_time": "2024-10-20T12:05:01.442Z"
   },
   {
    "duration": 102,
    "start_time": "2024-10-20T12:05:01.462Z"
   },
   {
    "duration": 59,
    "start_time": "2024-10-20T12:05:01.566Z"
   },
   {
    "duration": 7,
    "start_time": "2024-10-20T12:05:01.627Z"
   },
   {
    "duration": 6,
    "start_time": "2024-10-20T12:05:01.636Z"
   },
   {
    "duration": 9,
    "start_time": "2024-10-20T12:05:01.643Z"
   },
   {
    "duration": 12,
    "start_time": "2024-10-20T12:05:01.653Z"
   },
   {
    "duration": 6,
    "start_time": "2024-10-20T12:05:01.667Z"
   },
   {
    "duration": 168,
    "start_time": "2024-10-20T12:05:01.674Z"
   },
   {
    "duration": 14,
    "start_time": "2024-10-20T12:05:01.844Z"
   },
   {
    "duration": 16,
    "start_time": "2024-10-20T12:05:01.860Z"
   },
   {
    "duration": 16,
    "start_time": "2024-10-20T12:05:01.878Z"
   },
   {
    "duration": 232,
    "start_time": "2024-10-20T12:05:01.898Z"
   },
   {
    "duration": 58,
    "start_time": "2024-10-20T12:05:02.132Z"
   },
   {
    "duration": 204,
    "start_time": "2024-10-20T12:05:02.192Z"
   },
   {
    "duration": 206,
    "start_time": "2024-10-20T12:05:02.398Z"
   },
   {
    "duration": 17,
    "start_time": "2024-10-20T12:05:02.606Z"
   },
   {
    "duration": 2730,
    "start_time": "2024-10-20T12:05:02.625Z"
   },
   {
    "duration": 208,
    "start_time": "2024-10-20T12:05:05.357Z"
   },
   {
    "duration": 31728,
    "start_time": "2024-10-20T12:05:05.567Z"
   },
   {
    "duration": 167,
    "start_time": "2024-10-20T12:05:37.297Z"
   },
   {
    "duration": 10,
    "start_time": "2024-10-20T12:05:37.468Z"
   },
   {
    "duration": 25,
    "start_time": "2024-10-20T12:05:37.479Z"
   },
   {
    "duration": 26,
    "start_time": "2024-10-20T12:05:37.506Z"
   },
   {
    "duration": 2270,
    "start_time": "2024-10-20T12:05:37.534Z"
   },
   {
    "duration": 7,
    "start_time": "2024-10-20T12:05:39.805Z"
   },
   {
    "duration": 12,
    "start_time": "2024-10-20T12:05:39.813Z"
   },
   {
    "duration": 385,
    "start_time": "2024-10-20T12:05:39.827Z"
   },
   {
    "duration": 316,
    "start_time": "2024-10-20T12:05:40.213Z"
   },
   {
    "duration": 306,
    "start_time": "2024-10-20T12:05:40.531Z"
   },
   {
    "duration": 323,
    "start_time": "2024-10-20T12:05:40.839Z"
   },
   {
    "duration": 7,
    "start_time": "2024-10-20T12:05:41.163Z"
   },
   {
    "duration": 8,
    "start_time": "2024-10-20T12:05:41.172Z"
   },
   {
    "duration": 7,
    "start_time": "2024-10-20T12:05:41.181Z"
   },
   {
    "duration": 7,
    "start_time": "2024-10-20T12:05:41.189Z"
   },
   {
    "duration": 373,
    "start_time": "2024-10-20T12:05:41.198Z"
   },
   {
    "duration": 7,
    "start_time": "2024-10-20T12:05:41.573Z"
   },
   {
    "duration": 3,
    "start_time": "2024-10-20T12:05:41.581Z"
   },
   {
    "duration": 231,
    "start_time": "2024-10-20T12:05:41.585Z"
   },
   {
    "duration": 663,
    "start_time": "2024-10-20T12:05:41.817Z"
   },
   {
    "duration": 9,
    "start_time": "2024-10-20T12:05:42.482Z"
   },
   {
    "duration": 6,
    "start_time": "2024-10-20T12:05:42.492Z"
   },
   {
    "duration": 258,
    "start_time": "2024-10-20T12:05:42.499Z"
   },
   {
    "duration": 438,
    "start_time": "2024-10-20T12:05:42.758Z"
   },
   {
    "duration": 5,
    "start_time": "2024-10-20T12:05:43.198Z"
   },
   {
    "duration": 6,
    "start_time": "2024-10-20T12:05:43.204Z"
   },
   {
    "duration": 232,
    "start_time": "2024-10-20T12:05:43.212Z"
   },
   {
    "duration": 426,
    "start_time": "2024-10-20T12:05:43.445Z"
   },
   {
    "duration": 5,
    "start_time": "2024-10-20T12:05:43.873Z"
   },
   {
    "duration": 9,
    "start_time": "2024-10-20T12:05:43.879Z"
   },
   {
    "duration": 259,
    "start_time": "2024-10-20T12:05:43.889Z"
   },
   {
    "duration": 684,
    "start_time": "2024-10-20T12:05:44.152Z"
   },
   {
    "duration": 5,
    "start_time": "2024-10-20T12:05:44.838Z"
   },
   {
    "duration": 108,
    "start_time": "2024-10-20T12:05:44.853Z"
   },
   {
    "duration": 111,
    "start_time": "2024-10-20T12:05:44.963Z"
   },
   {
    "duration": 4,
    "start_time": "2024-10-20T12:05:45.076Z"
   },
   {
    "duration": 28,
    "start_time": "2024-10-20T12:05:45.081Z"
   },
   {
    "duration": 283,
    "start_time": "2024-10-20T12:05:45.110Z"
   },
   {
    "duration": 6,
    "start_time": "2024-10-20T12:05:45.394Z"
   },
   {
    "duration": 16,
    "start_time": "2024-10-20T12:05:45.401Z"
   },
   {
    "duration": 243,
    "start_time": "2024-10-20T12:05:45.418Z"
   },
   {
    "duration": 468,
    "start_time": "2024-10-20T12:05:45.662Z"
   },
   {
    "duration": 7,
    "start_time": "2024-10-20T12:05:46.132Z"
   },
   {
    "duration": 99,
    "start_time": "2024-10-20T12:05:46.141Z"
   },
   {
    "duration": 19,
    "start_time": "2024-10-20T12:05:46.241Z"
   },
   {
    "duration": 23,
    "start_time": "2024-10-20T12:05:46.262Z"
   },
   {
    "duration": 501,
    "start_time": "2024-10-20T12:05:46.292Z"
   },
   {
    "duration": 229,
    "start_time": "2024-10-20T12:05:46.795Z"
   },
   {
    "duration": 487,
    "start_time": "2024-10-20T12:05:47.026Z"
   },
   {
    "duration": 240,
    "start_time": "2024-10-20T12:05:47.515Z"
   },
   {
    "duration": 260,
    "start_time": "2024-10-20T12:05:47.757Z"
   },
   {
    "duration": 6,
    "start_time": "2024-10-20T12:05:48.018Z"
   },
   {
    "duration": 9,
    "start_time": "2024-10-20T12:05:48.027Z"
   },
   {
    "duration": 15,
    "start_time": "2024-10-20T12:05:48.039Z"
   },
   {
    "duration": 288,
    "start_time": "2024-10-20T12:05:48.056Z"
   },
   {
    "duration": 13,
    "start_time": "2024-10-20T12:05:48.346Z"
   },
   {
    "duration": 353,
    "start_time": "2024-10-20T12:05:48.360Z"
   },
   {
    "duration": 13,
    "start_time": "2024-10-20T12:05:48.715Z"
   },
   {
    "duration": 474,
    "start_time": "2024-10-20T12:05:48.729Z"
   },
   {
    "duration": 390,
    "start_time": "2024-10-20T12:05:49.204Z"
   },
   {
    "duration": 775,
    "start_time": "2024-10-20T12:05:49.596Z"
   },
   {
    "duration": 746,
    "start_time": "2024-10-20T12:05:50.373Z"
   },
   {
    "duration": 36,
    "start_time": "2024-10-20T12:05:51.122Z"
   },
   {
    "duration": 18,
    "start_time": "2024-10-20T12:05:51.160Z"
   },
   {
    "duration": 150,
    "start_time": "2024-10-20T12:05:51.180Z"
   },
   {
    "duration": 9,
    "start_time": "2024-10-20T12:14:20.616Z"
   },
   {
    "duration": 91,
    "start_time": "2024-10-20T12:14:56.826Z"
   },
   {
    "duration": 8472,
    "start_time": "2024-10-29T18:28:25.110Z"
   },
   {
    "duration": 1367,
    "start_time": "2024-10-29T18:28:33.584Z"
   },
   {
    "duration": 15,
    "start_time": "2024-10-29T18:28:34.952Z"
   },
   {
    "duration": 1878,
    "start_time": "2024-10-29T18:28:34.969Z"
   },
   {
    "duration": 10,
    "start_time": "2024-10-29T18:28:36.848Z"
   },
   {
    "duration": 61,
    "start_time": "2024-10-29T18:28:36.859Z"
   },
   {
    "duration": 615,
    "start_time": "2024-10-29T18:28:36.922Z"
   },
   {
    "duration": 154,
    "start_time": "2024-10-29T18:28:37.539Z"
   },
   {
    "duration": 5,
    "start_time": "2024-10-29T18:28:37.695Z"
   },
   {
    "duration": 29,
    "start_time": "2024-10-29T18:28:37.702Z"
   },
   {
    "duration": 174,
    "start_time": "2024-10-29T18:28:37.733Z"
   },
   {
    "duration": 5,
    "start_time": "2024-10-29T18:28:37.909Z"
   },
   {
    "duration": 13,
    "start_time": "2024-10-29T18:28:37.916Z"
   },
   {
    "duration": 17,
    "start_time": "2024-10-29T18:28:37.930Z"
   },
   {
    "duration": 23,
    "start_time": "2024-10-29T18:28:37.948Z"
   },
   {
    "duration": 26,
    "start_time": "2024-10-29T18:28:37.972Z"
   },
   {
    "duration": 10,
    "start_time": "2024-10-29T18:28:37.999Z"
   },
   {
    "duration": 10,
    "start_time": "2024-10-29T18:28:38.010Z"
   },
   {
    "duration": 31,
    "start_time": "2024-10-29T18:28:38.022Z"
   },
   {
    "duration": 7,
    "start_time": "2024-10-29T18:28:38.055Z"
   },
   {
    "duration": 7,
    "start_time": "2024-10-29T18:28:38.064Z"
   },
   {
    "duration": 7,
    "start_time": "2024-10-29T18:28:38.073Z"
   },
   {
    "duration": 22,
    "start_time": "2024-10-29T18:28:38.081Z"
   },
   {
    "duration": 162,
    "start_time": "2024-10-29T18:28:38.104Z"
   },
   {
    "duration": 6,
    "start_time": "2024-10-29T18:28:38.268Z"
   },
   {
    "duration": 192,
    "start_time": "2024-10-29T18:28:38.275Z"
   },
   {
    "duration": 180,
    "start_time": "2024-10-29T18:28:38.469Z"
   },
   {
    "duration": 17,
    "start_time": "2024-10-29T18:28:38.653Z"
   },
   {
    "duration": 1477,
    "start_time": "2024-10-29T18:28:38.672Z"
   },
   {
    "duration": 194,
    "start_time": "2024-10-29T18:28:40.151Z"
   },
   {
    "duration": 10,
    "start_time": "2024-10-29T18:28:40.346Z"
   },
   {
    "duration": 42,
    "start_time": "2024-10-29T18:28:40.358Z"
   },
   {
    "duration": 24,
    "start_time": "2024-10-29T18:28:40.402Z"
   },
   {
    "duration": 2146,
    "start_time": "2024-10-29T18:28:40.430Z"
   },
   {
    "duration": 7,
    "start_time": "2024-10-29T18:28:42.578Z"
   },
   {
    "duration": 6,
    "start_time": "2024-10-29T18:28:42.587Z"
   },
   {
    "duration": 423,
    "start_time": "2024-10-29T18:28:42.594Z"
   },
   {
    "duration": 302,
    "start_time": "2024-10-29T18:28:43.018Z"
   },
   {
    "duration": 305,
    "start_time": "2024-10-29T18:28:43.322Z"
   },
   {
    "duration": 394,
    "start_time": "2024-10-29T18:28:43.628Z"
   },
   {
    "duration": 19,
    "start_time": "2024-10-29T18:28:44.023Z"
   },
   {
    "duration": 10,
    "start_time": "2024-10-29T18:28:44.044Z"
   },
   {
    "duration": 8,
    "start_time": "2024-10-29T18:28:44.056Z"
   },
   {
    "duration": 11,
    "start_time": "2024-10-29T18:28:44.065Z"
   },
   {
    "duration": 486,
    "start_time": "2024-10-29T18:28:44.078Z"
   },
   {
    "duration": 8,
    "start_time": "2024-10-29T18:28:44.566Z"
   },
   {
    "duration": 2,
    "start_time": "2024-10-29T18:28:44.575Z"
   },
   {
    "duration": 229,
    "start_time": "2024-10-29T18:28:44.578Z"
   },
   {
    "duration": 527,
    "start_time": "2024-10-29T18:28:44.808Z"
   },
   {
    "duration": 10,
    "start_time": "2024-10-29T18:28:45.337Z"
   },
   {
    "duration": 9,
    "start_time": "2024-10-29T18:28:45.349Z"
   },
   {
    "duration": 346,
    "start_time": "2024-10-29T18:28:45.360Z"
   },
   {
    "duration": 441,
    "start_time": "2024-10-29T18:28:45.707Z"
   },
   {
    "duration": 5,
    "start_time": "2024-10-29T18:28:46.149Z"
   },
   {
    "duration": 13,
    "start_time": "2024-10-29T18:28:46.155Z"
   },
   {
    "duration": 230,
    "start_time": "2024-10-29T18:28:46.170Z"
   },
   {
    "duration": 573,
    "start_time": "2024-10-29T18:28:46.402Z"
   },
   {
    "duration": 5,
    "start_time": "2024-10-29T18:28:46.977Z"
   },
   {
    "duration": 19,
    "start_time": "2024-10-29T18:28:46.984Z"
   },
   {
    "duration": 238,
    "start_time": "2024-10-29T18:28:47.005Z"
   },
   {
    "duration": 493,
    "start_time": "2024-10-29T18:28:47.245Z"
   },
   {
    "duration": 5,
    "start_time": "2024-10-29T18:28:47.742Z"
   },
   {
    "duration": 110,
    "start_time": "2024-10-29T18:28:47.749Z"
   },
   {
    "duration": 106,
    "start_time": "2024-10-29T18:28:47.861Z"
   },
   {
    "duration": 5,
    "start_time": "2024-10-29T18:28:47.969Z"
   },
   {
    "duration": 13,
    "start_time": "2024-10-29T18:28:47.975Z"
   },
   {
    "duration": 362,
    "start_time": "2024-10-29T18:28:47.990Z"
   },
   {
    "duration": 5,
    "start_time": "2024-10-29T18:28:48.354Z"
   },
   {
    "duration": 37,
    "start_time": "2024-10-29T18:28:48.360Z"
   },
   {
    "duration": 233,
    "start_time": "2024-10-29T18:28:48.399Z"
   },
   {
    "duration": 522,
    "start_time": "2024-10-29T18:28:48.634Z"
   },
   {
    "duration": 7,
    "start_time": "2024-10-29T18:28:49.157Z"
   },
   {
    "duration": 99,
    "start_time": "2024-10-29T18:28:49.165Z"
   },
   {
    "duration": 8,
    "start_time": "2024-10-29T18:28:49.265Z"
   },
   {
    "duration": 18,
    "start_time": "2024-10-29T18:28:49.274Z"
   },
   {
    "duration": 587,
    "start_time": "2024-10-29T18:28:49.294Z"
   },
   {
    "duration": 246,
    "start_time": "2024-10-29T18:28:49.883Z"
   },
   {
    "duration": 239,
    "start_time": "2024-10-29T18:28:50.131Z"
   },
   {
    "duration": 264,
    "start_time": "2024-10-29T18:28:50.371Z"
   },
   {
    "duration": 224,
    "start_time": "2024-10-29T18:28:50.637Z"
   },
   {
    "duration": 5,
    "start_time": "2024-10-29T18:28:50.863Z"
   },
   {
    "duration": 5,
    "start_time": "2024-10-29T18:28:50.874Z"
   },
   {
    "duration": 6,
    "start_time": "2024-10-29T18:28:50.880Z"
   },
   {
    "duration": 373,
    "start_time": "2024-10-29T18:28:50.888Z"
   },
   {
    "duration": 9,
    "start_time": "2024-10-29T18:28:51.263Z"
   },
   {
    "duration": 240,
    "start_time": "2024-10-29T18:28:51.273Z"
   },
   {
    "duration": 317,
    "start_time": "2024-10-29T18:28:51.515Z"
   },
   {
    "duration": 12,
    "start_time": "2024-10-29T18:28:51.833Z"
   },
   {
    "duration": 171,
    "start_time": "2024-10-29T18:28:51.847Z"
   },
   {
    "duration": 203,
    "start_time": "2024-10-29T18:28:52.020Z"
   },
   {
    "duration": 178,
    "start_time": "2024-10-29T18:28:52.224Z"
   },
   {
    "duration": 167,
    "start_time": "2024-10-29T18:28:52.403Z"
   },
   {
    "duration": 282,
    "start_time": "2024-10-29T18:28:52.572Z"
   },
   {
    "duration": 240,
    "start_time": "2024-10-29T18:28:52.856Z"
   },
   {
    "duration": 397,
    "start_time": "2024-10-29T18:28:53.098Z"
   },
   {
    "duration": 381,
    "start_time": "2024-10-29T18:28:53.496Z"
   },
   {
    "duration": 126,
    "start_time": "2024-10-29T18:28:53.879Z"
   },
   {
    "duration": 136,
    "start_time": "2024-10-29T18:28:54.007Z"
   },
   {
    "duration": 17,
    "start_time": "2024-10-29T18:29:44.106Z"
   },
   {
    "duration": 7744,
    "start_time": "2024-10-30T13:15:36.671Z"
   },
   {
    "duration": 1397,
    "start_time": "2024-10-30T13:15:44.417Z"
   },
   {
    "duration": 13,
    "start_time": "2024-10-30T13:15:45.815Z"
   },
   {
    "duration": 1635,
    "start_time": "2024-10-30T13:15:45.829Z"
   },
   {
    "duration": 8,
    "start_time": "2024-10-30T13:15:47.466Z"
   },
   {
    "duration": 48,
    "start_time": "2024-10-30T13:15:47.475Z"
   },
   {
    "duration": 577,
    "start_time": "2024-10-30T13:15:47.524Z"
   },
   {
    "duration": 127,
    "start_time": "2024-10-30T13:15:48.102Z"
   },
   {
    "duration": 5,
    "start_time": "2024-10-30T13:15:48.230Z"
   },
   {
    "duration": 83,
    "start_time": "2024-10-30T13:15:48.236Z"
   },
   {
    "duration": 162,
    "start_time": "2024-10-30T13:15:48.321Z"
   },
   {
    "duration": 5,
    "start_time": "2024-10-30T13:15:48.485Z"
   },
   {
    "duration": 5,
    "start_time": "2024-10-30T13:15:48.492Z"
   },
   {
    "duration": 4,
    "start_time": "2024-10-30T13:15:48.500Z"
   },
   {
    "duration": 11,
    "start_time": "2024-10-30T13:15:48.505Z"
   },
   {
    "duration": 8,
    "start_time": "2024-10-30T13:15:48.518Z"
   },
   {
    "duration": 4,
    "start_time": "2024-10-30T13:15:48.527Z"
   },
   {
    "duration": 6,
    "start_time": "2024-10-30T13:15:48.558Z"
   },
   {
    "duration": 9,
    "start_time": "2024-10-30T13:15:48.566Z"
   },
   {
    "duration": 7,
    "start_time": "2024-10-30T13:15:48.576Z"
   },
   {
    "duration": 11,
    "start_time": "2024-10-30T13:15:48.584Z"
   },
   {
    "duration": 11,
    "start_time": "2024-10-30T13:15:48.596Z"
   },
   {
    "duration": 6,
    "start_time": "2024-10-30T13:15:48.608Z"
   },
   {
    "duration": 180,
    "start_time": "2024-10-30T13:15:48.615Z"
   },
   {
    "duration": 6,
    "start_time": "2024-10-30T13:15:48.796Z"
   },
   {
    "duration": 176,
    "start_time": "2024-10-30T13:15:48.803Z"
   },
   {
    "duration": 148,
    "start_time": "2024-10-30T13:15:48.980Z"
   },
   {
    "duration": 27,
    "start_time": "2024-10-30T13:15:49.130Z"
   },
   {
    "duration": 1107,
    "start_time": "2024-10-30T13:15:49.159Z"
   },
   {
    "duration": 190,
    "start_time": "2024-10-30T13:15:50.357Z"
   },
   {
    "duration": 10,
    "start_time": "2024-10-30T13:15:50.548Z"
   },
   {
    "duration": 12,
    "start_time": "2024-10-30T13:15:50.559Z"
   },
   {
    "duration": 28,
    "start_time": "2024-10-30T13:15:50.573Z"
   },
   {
    "duration": 1826,
    "start_time": "2024-10-30T13:15:50.602Z"
   },
   {
    "duration": 8,
    "start_time": "2024-10-30T13:15:52.429Z"
   },
   {
    "duration": 4,
    "start_time": "2024-10-30T13:15:52.439Z"
   },
   {
    "duration": 381,
    "start_time": "2024-10-30T13:15:52.458Z"
   },
   {
    "duration": 300,
    "start_time": "2024-10-30T13:15:52.840Z"
   },
   {
    "duration": 289,
    "start_time": "2024-10-30T13:15:53.141Z"
   },
   {
    "duration": 334,
    "start_time": "2024-10-30T13:15:53.431Z"
   },
   {
    "duration": 7,
    "start_time": "2024-10-30T13:15:53.859Z"
   },
   {
    "duration": 48,
    "start_time": "2024-10-30T13:15:53.867Z"
   },
   {
    "duration": 28,
    "start_time": "2024-10-30T13:15:53.916Z"
   },
   {
    "duration": 23,
    "start_time": "2024-10-30T13:15:53.946Z"
   },
   {
    "duration": 334,
    "start_time": "2024-10-30T13:15:53.971Z"
   },
   {
    "duration": 8,
    "start_time": "2024-10-30T13:15:54.307Z"
   },
   {
    "duration": 16,
    "start_time": "2024-10-30T13:15:54.317Z"
   },
   {
    "duration": 219,
    "start_time": "2024-10-30T13:15:54.335Z"
   },
   {
    "duration": 451,
    "start_time": "2024-10-30T13:15:54.557Z"
   },
   {
    "duration": 6,
    "start_time": "2024-10-30T13:15:55.009Z"
   },
   {
    "duration": 61,
    "start_time": "2024-10-30T13:15:55.016Z"
   },
   {
    "duration": 237,
    "start_time": "2024-10-30T13:15:55.079Z"
   },
   {
    "duration": 381,
    "start_time": "2024-10-30T13:15:55.317Z"
   },
   {
    "duration": 5,
    "start_time": "2024-10-30T13:15:55.699Z"
   },
   {
    "duration": 70,
    "start_time": "2024-10-30T13:15:55.706Z"
   },
   {
    "duration": 196,
    "start_time": "2024-10-30T13:15:55.778Z"
   },
   {
    "duration": 436,
    "start_time": "2024-10-30T13:15:55.975Z"
   },
   {
    "duration": 4,
    "start_time": "2024-10-30T13:15:56.413Z"
   },
   {
    "duration": 7,
    "start_time": "2024-10-30T13:15:56.418Z"
   },
   {
    "duration": 208,
    "start_time": "2024-10-30T13:15:56.426Z"
   },
   {
    "duration": 427,
    "start_time": "2024-10-30T13:15:56.635Z"
   },
   {
    "duration": 5,
    "start_time": "2024-10-30T13:15:57.063Z"
   },
   {
    "duration": 89,
    "start_time": "2024-10-30T13:15:57.069Z"
   },
   {
    "duration": 83,
    "start_time": "2024-10-30T13:15:57.160Z"
   },
   {
    "duration": 4,
    "start_time": "2024-10-30T13:15:57.257Z"
   },
   {
    "duration": 10,
    "start_time": "2024-10-30T13:15:57.262Z"
   },
   {
    "duration": 271,
    "start_time": "2024-10-30T13:15:57.274Z"
   },
   {
    "duration": 5,
    "start_time": "2024-10-30T13:15:57.546Z"
   },
   {
    "duration": 7,
    "start_time": "2024-10-30T13:15:57.557Z"
   },
   {
    "duration": 194,
    "start_time": "2024-10-30T13:15:57.565Z"
   },
   {
    "duration": 414,
    "start_time": "2024-10-30T13:15:57.760Z"
   },
   {
    "duration": 6,
    "start_time": "2024-10-30T13:15:58.175Z"
   },
   {
    "duration": 82,
    "start_time": "2024-10-30T13:15:58.183Z"
   },
   {
    "duration": 7,
    "start_time": "2024-10-30T13:15:58.267Z"
   },
   {
    "duration": 37,
    "start_time": "2024-10-30T13:15:58.275Z"
   },
   {
    "duration": 496,
    "start_time": "2024-10-30T13:15:58.313Z"
   },
   {
    "duration": 190,
    "start_time": "2024-10-30T13:15:58.811Z"
   },
   {
    "duration": 225,
    "start_time": "2024-10-30T13:15:59.003Z"
   },
   {
    "duration": 186,
    "start_time": "2024-10-30T13:15:59.230Z"
   },
   {
    "duration": 187,
    "start_time": "2024-10-30T13:15:59.418Z"
   },
   {
    "duration": 6,
    "start_time": "2024-10-30T13:15:59.607Z"
   },
   {
    "duration": 5,
    "start_time": "2024-10-30T13:15:59.615Z"
   },
   {
    "duration": 3,
    "start_time": "2024-10-30T13:15:59.621Z"
   },
   {
    "duration": 305,
    "start_time": "2024-10-30T13:15:59.626Z"
   },
   {
    "duration": 8,
    "start_time": "2024-10-30T13:15:59.933Z"
   },
   {
    "duration": 222,
    "start_time": "2024-10-30T13:15:59.942Z"
   },
   {
    "duration": 279,
    "start_time": "2024-10-30T13:16:00.165Z"
   },
   {
    "duration": 13,
    "start_time": "2024-10-30T13:16:00.445Z"
   },
   {
    "duration": 149,
    "start_time": "2024-10-30T13:16:00.459Z"
   },
   {
    "duration": 135,
    "start_time": "2024-10-30T13:16:00.609Z"
   },
   {
    "duration": 158,
    "start_time": "2024-10-30T13:16:00.745Z"
   },
   {
    "duration": 156,
    "start_time": "2024-10-30T13:16:00.904Z"
   },
   {
    "duration": 176,
    "start_time": "2024-10-30T13:16:01.062Z"
   },
   {
    "duration": 178,
    "start_time": "2024-10-30T13:16:01.239Z"
   },
   {
    "duration": 250,
    "start_time": "2024-10-30T13:16:01.418Z"
   },
   {
    "duration": 1785,
    "start_time": "2024-10-30T13:16:01.669Z"
   },
   {
    "duration": 0,
    "start_time": "2024-10-30T13:16:03.456Z"
   },
   {
    "duration": 0,
    "start_time": "2024-10-30T13:16:03.456Z"
   },
   {
    "duration": 0,
    "start_time": "2024-10-30T13:16:03.458Z"
   },
   {
    "duration": 0,
    "start_time": "2024-10-30T13:16:03.459Z"
   },
   {
    "duration": 0,
    "start_time": "2024-10-30T13:16:03.460Z"
   },
   {
    "duration": 0,
    "start_time": "2024-10-30T13:16:03.461Z"
   },
   {
    "duration": 649,
    "start_time": "2024-11-03T11:31:59.897Z"
   },
   {
    "duration": 7448,
    "start_time": "2024-11-03T11:32:14.361Z"
   },
   {
    "duration": 649,
    "start_time": "2024-11-03T11:32:21.812Z"
   },
   {
    "duration": 169,
    "start_time": "2024-11-03T11:32:22.462Z"
   },
   {
    "duration": 15,
    "start_time": "2024-11-03T11:32:22.634Z"
   },
   {
    "duration": 25,
    "start_time": "2024-11-03T11:32:22.651Z"
   },
   {
    "duration": 43,
    "start_time": "2024-11-03T11:32:22.677Z"
   },
   {
    "duration": 20,
    "start_time": "2024-11-03T11:32:22.721Z"
   },
   {
    "duration": 59,
    "start_time": "2024-11-03T11:32:22.742Z"
   },
   {
    "duration": 28,
    "start_time": "2024-11-03T11:32:22.803Z"
   },
   {
    "duration": 31,
    "start_time": "2024-11-03T11:32:22.833Z"
   },
   {
    "duration": 81,
    "start_time": "2024-11-03T11:32:22.866Z"
   },
   {
    "duration": 95,
    "start_time": "2024-11-03T11:32:22.949Z"
   },
   {
    "duration": 10,
    "start_time": "2024-11-03T11:32:23.045Z"
   },
   {
    "duration": 30,
    "start_time": "2024-11-03T11:32:23.057Z"
   },
   {
    "duration": 13,
    "start_time": "2024-11-03T11:32:23.088Z"
   },
   {
    "duration": 35,
    "start_time": "2024-11-03T11:32:23.103Z"
   },
   {
    "duration": 20,
    "start_time": "2024-11-03T11:32:23.140Z"
   },
   {
    "duration": 20,
    "start_time": "2024-11-03T11:32:23.162Z"
   },
   {
    "duration": 50,
    "start_time": "2024-11-03T11:32:23.184Z"
   },
   {
    "duration": 51,
    "start_time": "2024-11-03T11:32:23.235Z"
   },
   {
    "duration": 18,
    "start_time": "2024-11-03T11:32:23.288Z"
   },
   {
    "duration": 40,
    "start_time": "2024-11-03T11:32:23.308Z"
   },
   {
    "duration": 26,
    "start_time": "2024-11-03T11:32:23.350Z"
   },
   {
    "duration": 16,
    "start_time": "2024-11-03T11:32:23.377Z"
   },
   {
    "duration": 251692,
    "start_time": "2024-11-03T11:32:23.395Z"
   },
   {
    "duration": 29,
    "start_time": "2024-11-03T11:36:35.088Z"
   },
   {
    "duration": 36,
    "start_time": "2024-11-03T11:36:35.119Z"
   },
   {
    "duration": 39,
    "start_time": "2024-11-03T11:36:35.159Z"
   },
   {
    "duration": 29,
    "start_time": "2024-11-03T11:36:35.199Z"
   },
   {
    "duration": 31,
    "start_time": "2024-11-03T11:36:35.229Z"
   },
   {
    "duration": 19,
    "start_time": "2024-11-03T11:36:35.261Z"
   },
   {
    "duration": 29,
    "start_time": "2024-11-03T11:36:35.282Z"
   },
   {
    "duration": 30,
    "start_time": "2024-11-03T11:36:35.312Z"
   },
   {
    "duration": 19,
    "start_time": "2024-11-03T11:36:35.344Z"
   },
   {
    "duration": 26,
    "start_time": "2024-11-03T11:36:35.365Z"
   },
   {
    "duration": 6,
    "start_time": "2024-11-03T11:36:35.392Z"
   },
   {
    "duration": 1037,
    "start_time": "2024-11-03T11:36:35.400Z"
   },
   {
    "duration": 374,
    "start_time": "2024-11-03T11:36:36.443Z"
   },
   {
    "duration": 93,
    "start_time": "2024-11-03T11:36:36.819Z"
   },
   {
    "duration": 29,
    "start_time": "2024-11-03T11:36:36.913Z"
   },
   {
    "duration": 15,
    "start_time": "2024-11-03T11:36:36.944Z"
   },
   {
    "duration": 456,
    "start_time": "2024-11-03T11:36:36.960Z"
   },
   {
    "duration": 971,
    "start_time": "2024-11-03T11:36:37.418Z"
   },
   {
    "duration": 106,
    "start_time": "2024-11-03T11:36:38.391Z"
   },
   {
    "duration": 314,
    "start_time": "2024-11-03T11:36:38.499Z"
   },
   {
    "duration": 13,
    "start_time": "2024-11-03T11:36:38.815Z"
   },
   {
    "duration": 65,
    "start_time": "2024-11-03T11:36:38.830Z"
   },
   {
    "duration": 11,
    "start_time": "2024-11-03T11:36:38.897Z"
   },
   {
    "duration": 73,
    "start_time": "2024-11-03T11:36:38.910Z"
   },
   {
    "duration": 142,
    "start_time": "2024-11-03T11:36:38.985Z"
   },
   {
    "duration": 4,
    "start_time": "2024-11-03T11:36:39.129Z"
   },
   {
    "duration": 143,
    "start_time": "2024-11-03T11:36:39.134Z"
   },
   {
    "duration": 143,
    "start_time": "2024-11-03T11:36:39.279Z"
   },
   {
    "duration": 170,
    "start_time": "2024-11-03T11:36:39.424Z"
   },
   {
    "duration": 229,
    "start_time": "2024-11-03T11:36:39.596Z"
   },
   {
    "duration": 220,
    "start_time": "2024-11-03T11:36:39.826Z"
   },
   {
    "duration": 30,
    "start_time": "2024-11-03T11:36:40.047Z"
   },
   {
    "duration": 166,
    "start_time": "2024-11-03T11:36:40.079Z"
   },
   {
    "duration": 156,
    "start_time": "2024-11-03T11:36:40.247Z"
   },
   {
    "duration": 214,
    "start_time": "2024-11-03T11:36:40.405Z"
   },
   {
    "duration": 149,
    "start_time": "2024-11-03T11:36:40.621Z"
   },
   {
    "duration": 159,
    "start_time": "2024-11-03T11:36:40.772Z"
   },
   {
    "duration": 147,
    "start_time": "2024-11-03T11:36:40.932Z"
   },
   {
    "duration": 147,
    "start_time": "2024-11-03T11:36:41.081Z"
   },
   {
    "duration": 41,
    "start_time": "2024-11-03T11:36:41.229Z"
   },
   {
    "duration": 118,
    "start_time": "2024-11-03T11:36:41.272Z"
   },
   {
    "duration": 380,
    "start_time": "2024-11-03T11:36:41.392Z"
   },
   {
    "duration": 280,
    "start_time": "2024-11-03T11:36:41.774Z"
   },
   {
    "duration": 154,
    "start_time": "2024-11-03T11:36:42.056Z"
   },
   {
    "duration": 427,
    "start_time": "2024-11-03T11:36:42.212Z"
   },
   {
    "duration": 34,
    "start_time": "2024-11-03T11:36:42.643Z"
   },
   {
    "duration": 142,
    "start_time": "2024-11-03T11:36:42.679Z"
   },
   {
    "duration": 6,
    "start_time": "2024-11-03T11:38:01.245Z"
   },
   {
    "duration": 91,
    "start_time": "2024-11-03T11:38:08.858Z"
   },
   {
    "duration": 6,
    "start_time": "2024-11-03T11:38:15.873Z"
   },
   {
    "duration": 12301,
    "start_time": "2024-11-03T11:41:23.011Z"
   },
   {
    "duration": 15,
    "start_time": "2024-11-03T11:41:50.744Z"
   },
   {
    "duration": 2,
    "start_time": "2024-11-03T11:42:10.854Z"
   },
   {
    "duration": 86,
    "start_time": "2024-11-03T11:45:18.680Z"
   },
   {
    "duration": 3,
    "start_time": "2024-11-03T11:45:24.849Z"
   },
   {
    "duration": 274857,
    "start_time": "2024-11-03T11:45:41.151Z"
   },
   {
    "duration": 4,
    "start_time": "2024-11-03T11:50:32.256Z"
   },
   {
    "duration": 158044,
    "start_time": "2024-11-03T11:50:38.963Z"
   },
   {
    "duration": 28,
    "start_time": "2024-11-03T11:53:19.234Z"
   },
   {
    "duration": 3,
    "start_time": "2024-11-03T11:54:28.490Z"
   },
   {
    "duration": 2302,
    "start_time": "2024-11-03T11:58:05.963Z"
   },
   {
    "duration": 654,
    "start_time": "2024-11-03T11:58:08.268Z"
   },
   {
    "duration": 178,
    "start_time": "2024-11-03T11:58:08.923Z"
   },
   {
    "duration": 16,
    "start_time": "2024-11-03T11:58:09.103Z"
   },
   {
    "duration": 12,
    "start_time": "2024-11-03T11:58:09.121Z"
   },
   {
    "duration": 20,
    "start_time": "2024-11-03T11:58:09.134Z"
   },
   {
    "duration": 20,
    "start_time": "2024-11-03T11:58:09.156Z"
   },
   {
    "duration": 42,
    "start_time": "2024-11-03T11:58:09.178Z"
   },
   {
    "duration": 28,
    "start_time": "2024-11-03T11:58:09.222Z"
   },
   {
    "duration": 5,
    "start_time": "2024-11-03T11:58:09.252Z"
   },
   {
    "duration": 20,
    "start_time": "2024-11-03T11:58:09.258Z"
   },
   {
    "duration": 52,
    "start_time": "2024-11-03T11:58:09.279Z"
   },
   {
    "duration": 16,
    "start_time": "2024-11-03T11:58:09.333Z"
   },
   {
    "duration": 24,
    "start_time": "2024-11-03T11:58:09.351Z"
   },
   {
    "duration": 7,
    "start_time": "2024-11-03T11:58:09.377Z"
   },
   {
    "duration": 16,
    "start_time": "2024-11-03T11:58:09.385Z"
   },
   {
    "duration": 6,
    "start_time": "2024-11-03T11:58:09.403Z"
   },
   {
    "duration": 35,
    "start_time": "2024-11-03T11:58:09.410Z"
   },
   {
    "duration": 21,
    "start_time": "2024-11-03T11:58:09.446Z"
   },
   {
    "duration": 16,
    "start_time": "2024-11-03T11:58:09.468Z"
   },
   {
    "duration": 7,
    "start_time": "2024-11-03T11:58:09.485Z"
   },
   {
    "duration": 14,
    "start_time": "2024-11-03T11:58:09.494Z"
   },
   {
    "duration": 37,
    "start_time": "2024-11-03T11:58:09.510Z"
   },
   {
    "duration": 6,
    "start_time": "2024-11-03T11:58:09.549Z"
   },
   {
    "duration": 11850,
    "start_time": "2024-11-03T11:58:09.556Z"
   },
   {
    "duration": 3,
    "start_time": "2024-11-03T11:58:21.408Z"
   },
   {
    "duration": 7,
    "start_time": "2024-11-03T11:58:21.412Z"
   },
   {
    "duration": 3,
    "start_time": "2024-11-03T11:58:21.424Z"
   },
   {
    "duration": 1552,
    "start_time": "2024-11-03T11:58:21.429Z"
   },
   {
    "duration": 0,
    "start_time": "2024-11-03T11:58:22.982Z"
   },
   {
    "duration": 0,
    "start_time": "2024-11-03T11:58:22.983Z"
   },
   {
    "duration": 0,
    "start_time": "2024-11-03T11:58:22.984Z"
   },
   {
    "duration": 0,
    "start_time": "2024-11-03T11:58:22.985Z"
   },
   {
    "duration": 0,
    "start_time": "2024-11-03T11:58:22.987Z"
   },
   {
    "duration": 0,
    "start_time": "2024-11-03T11:58:22.988Z"
   },
   {
    "duration": 0,
    "start_time": "2024-11-03T11:58:22.989Z"
   },
   {
    "duration": 0,
    "start_time": "2024-11-03T11:58:22.990Z"
   },
   {
    "duration": 0,
    "start_time": "2024-11-03T11:58:22.991Z"
   },
   {
    "duration": 0,
    "start_time": "2024-11-03T11:58:22.992Z"
   },
   {
    "duration": 0,
    "start_time": "2024-11-03T11:58:22.993Z"
   },
   {
    "duration": 0,
    "start_time": "2024-11-03T11:58:22.994Z"
   },
   {
    "duration": 0,
    "start_time": "2024-11-03T11:58:22.995Z"
   },
   {
    "duration": 0,
    "start_time": "2024-11-03T11:58:22.996Z"
   },
   {
    "duration": 0,
    "start_time": "2024-11-03T11:58:22.997Z"
   },
   {
    "duration": 0,
    "start_time": "2024-11-03T11:58:22.997Z"
   },
   {
    "duration": 0,
    "start_time": "2024-11-03T11:58:22.999Z"
   },
   {
    "duration": 0,
    "start_time": "2024-11-03T11:58:23.000Z"
   },
   {
    "duration": 0,
    "start_time": "2024-11-03T11:58:23.000Z"
   },
   {
    "duration": 0,
    "start_time": "2024-11-03T11:58:23.001Z"
   },
   {
    "duration": 0,
    "start_time": "2024-11-03T11:58:23.002Z"
   },
   {
    "duration": 0,
    "start_time": "2024-11-03T11:58:23.003Z"
   },
   {
    "duration": 0,
    "start_time": "2024-11-03T11:58:23.004Z"
   },
   {
    "duration": 0,
    "start_time": "2024-11-03T11:58:23.006Z"
   },
   {
    "duration": 0,
    "start_time": "2024-11-03T11:58:23.007Z"
   },
   {
    "duration": 0,
    "start_time": "2024-11-03T11:58:23.008Z"
   },
   {
    "duration": 0,
    "start_time": "2024-11-03T11:58:23.009Z"
   },
   {
    "duration": 0,
    "start_time": "2024-11-03T11:58:23.010Z"
   },
   {
    "duration": 0,
    "start_time": "2024-11-03T11:58:23.012Z"
   },
   {
    "duration": 0,
    "start_time": "2024-11-03T11:58:23.013Z"
   },
   {
    "duration": 0,
    "start_time": "2024-11-03T11:58:23.015Z"
   },
   {
    "duration": 0,
    "start_time": "2024-11-03T11:58:23.016Z"
   },
   {
    "duration": 0,
    "start_time": "2024-11-03T11:58:23.017Z"
   },
   {
    "duration": 0,
    "start_time": "2024-11-03T11:58:23.018Z"
   },
   {
    "duration": 0,
    "start_time": "2024-11-03T11:58:23.019Z"
   },
   {
    "duration": 0,
    "start_time": "2024-11-03T11:58:23.043Z"
   },
   {
    "duration": 0,
    "start_time": "2024-11-03T11:58:23.044Z"
   },
   {
    "duration": 0,
    "start_time": "2024-11-03T11:58:23.045Z"
   },
   {
    "duration": 0,
    "start_time": "2024-11-03T11:58:23.046Z"
   },
   {
    "duration": 0,
    "start_time": "2024-11-03T11:58:23.047Z"
   },
   {
    "duration": 0,
    "start_time": "2024-11-03T11:58:23.048Z"
   },
   {
    "duration": 0,
    "start_time": "2024-11-03T11:58:23.049Z"
   },
   {
    "duration": 0,
    "start_time": "2024-11-03T11:58:23.051Z"
   },
   {
    "duration": 0,
    "start_time": "2024-11-03T11:58:23.052Z"
   },
   {
    "duration": 0,
    "start_time": "2024-11-03T11:58:23.053Z"
   },
   {
    "duration": 0,
    "start_time": "2024-11-03T11:58:23.054Z"
   },
   {
    "duration": 0,
    "start_time": "2024-11-03T11:58:23.055Z"
   },
   {
    "duration": 0,
    "start_time": "2024-11-03T11:58:23.056Z"
   },
   {
    "duration": 0,
    "start_time": "2024-11-03T11:58:23.057Z"
   },
   {
    "duration": 0,
    "start_time": "2024-11-03T11:58:23.058Z"
   },
   {
    "duration": 0,
    "start_time": "2024-11-03T11:58:23.059Z"
   },
   {
    "duration": 0,
    "start_time": "2024-11-03T11:58:23.060Z"
   },
   {
    "duration": 0,
    "start_time": "2024-11-03T11:58:23.062Z"
   },
   {
    "duration": 4,
    "start_time": "2024-11-03T12:00:42.393Z"
   },
   {
    "duration": 205,
    "start_time": "2024-11-03T12:00:42.614Z"
   },
   {
    "duration": 5,
    "start_time": "2024-11-03T12:01:15.987Z"
   },
   {
    "duration": 25,
    "start_time": "2024-11-03T12:04:15.532Z"
   },
   {
    "duration": 2,
    "start_time": "2024-11-03T12:04:29.235Z"
   },
   {
    "duration": 1170,
    "start_time": "2024-11-03T12:05:07.049Z"
   },
   {
    "duration": 4,
    "start_time": "2024-11-03T12:05:49.207Z"
   },
   {
    "duration": 3,
    "start_time": "2024-11-03T12:05:50.291Z"
   },
   {
    "duration": 1227,
    "start_time": "2024-11-03T12:05:50.780Z"
   },
   {
    "duration": 1249,
    "start_time": "2024-11-03T12:06:08.173Z"
   },
   {
    "duration": 4,
    "start_time": "2024-11-03T12:06:38.714Z"
   },
   {
    "duration": 2,
    "start_time": "2024-11-03T12:06:40.134Z"
   },
   {
    "duration": 1538,
    "start_time": "2024-11-03T12:06:40.434Z"
   },
   {
    "duration": 5,
    "start_time": "2024-11-03T12:07:11.122Z"
   },
   {
    "duration": 4,
    "start_time": "2024-11-03T12:07:11.680Z"
   },
   {
    "duration": 1658,
    "start_time": "2024-11-03T12:07:18.394Z"
   },
   {
    "duration": 8,
    "start_time": "2024-11-03T12:07:40.225Z"
   },
   {
    "duration": 7,
    "start_time": "2024-11-03T12:07:47.874Z"
   },
   {
    "duration": 5,
    "start_time": "2024-11-03T12:08:53.858Z"
   },
   {
    "duration": 3,
    "start_time": "2024-11-03T12:08:54.668Z"
   },
   {
    "duration": 8,
    "start_time": "2024-11-03T12:08:55.185Z"
   },
   {
    "duration": 1336,
    "start_time": "2024-11-03T12:08:57.285Z"
   },
   {
    "duration": 3,
    "start_time": "2024-11-03T12:09:34.034Z"
   },
   {
    "duration": 25,
    "start_time": "2024-11-03T12:09:48.317Z"
   },
   {
    "duration": 2,
    "start_time": "2024-11-03T12:09:55.699Z"
   },
   {
    "duration": 1231,
    "start_time": "2024-11-03T12:11:38.691Z"
   },
   {
    "duration": 4,
    "start_time": "2024-11-03T12:11:50.562Z"
   },
   {
    "duration": 13,
    "start_time": "2024-11-03T12:11:55.013Z"
   },
   {
    "duration": 5,
    "start_time": "2024-11-03T12:12:33.516Z"
   },
   {
    "duration": 12,
    "start_time": "2024-11-03T12:12:34.688Z"
   },
   {
    "duration": 4,
    "start_time": "2024-11-03T12:14:14.532Z"
   },
   {
    "duration": 4,
    "start_time": "2024-11-03T12:14:20.622Z"
   },
   {
    "duration": 3,
    "start_time": "2024-11-03T12:14:21.511Z"
   },
   {
    "duration": 2,
    "start_time": "2024-11-03T12:14:22.151Z"
   },
   {
    "duration": 6,
    "start_time": "2024-11-03T12:14:23.422Z"
   },
   {
    "duration": 8,
    "start_time": "2024-11-03T12:15:26.338Z"
   },
   {
    "duration": 11662,
    "start_time": "2024-11-03T12:15:26.914Z"
   },
   {
    "duration": 4,
    "start_time": "2024-11-03T12:15:38.578Z"
   },
   {
    "duration": 8,
    "start_time": "2024-11-03T12:15:38.584Z"
   },
   {
    "duration": 23,
    "start_time": "2024-11-03T12:15:38.593Z"
   },
   {
    "duration": 3,
    "start_time": "2024-11-03T12:15:53.991Z"
   },
   {
    "duration": 14,
    "start_time": "2024-11-03T12:15:54.684Z"
   },
   {
    "duration": 3,
    "start_time": "2024-11-03T12:16:12.902Z"
   },
   {
    "duration": 2,
    "start_time": "2024-11-03T12:16:13.668Z"
   },
   {
    "duration": 4870,
    "start_time": "2024-11-03T12:16:14.027Z"
   },
   {
    "duration": 3,
    "start_time": "2024-11-03T12:18:04.052Z"
   },
   {
    "duration": 4,
    "start_time": "2024-11-03T12:19:24.716Z"
   },
   {
    "duration": 1241,
    "start_time": "2024-11-03T12:19:27.543Z"
   },
   {
    "duration": 3,
    "start_time": "2024-11-03T12:20:30.695Z"
   },
   {
    "duration": 3,
    "start_time": "2024-11-03T12:20:32.834Z"
   },
   {
    "duration": 4,
    "start_time": "2024-11-03T12:20:33.181Z"
   },
   {
    "duration": 3,
    "start_time": "2024-11-03T12:20:33.567Z"
   },
   {
    "duration": 2,
    "start_time": "2024-11-03T12:20:34.655Z"
   },
   {
    "duration": 1174,
    "start_time": "2024-11-03T12:20:35.502Z"
   },
   {
    "duration": 5,
    "start_time": "2024-11-03T12:21:59.823Z"
   },
   {
    "duration": 3,
    "start_time": "2024-11-03T12:22:00.326Z"
   },
   {
    "duration": 2,
    "start_time": "2024-11-03T12:22:00.714Z"
   },
   {
    "duration": 1285,
    "start_time": "2024-11-03T12:22:01.126Z"
   },
   {
    "duration": 5,
    "start_time": "2024-11-03T12:23:22.297Z"
   },
   {
    "duration": 4,
    "start_time": "2024-11-03T12:23:22.661Z"
   },
   {
    "duration": 2,
    "start_time": "2024-11-03T12:23:23.078Z"
   },
   {
    "duration": 1162,
    "start_time": "2024-11-03T12:23:23.465Z"
   },
   {
    "duration": 4,
    "start_time": "2024-11-03T12:23:50.923Z"
   },
   {
    "duration": 3,
    "start_time": "2024-11-03T12:23:51.694Z"
   },
   {
    "duration": 2,
    "start_time": "2024-11-03T12:23:51.912Z"
   },
   {
    "duration": 1145,
    "start_time": "2024-11-03T12:23:52.744Z"
   },
   {
    "duration": 8,
    "start_time": "2024-11-03T12:24:19.335Z"
   },
   {
    "duration": 19,
    "start_time": "2024-11-03T12:24:37.368Z"
   },
   {
    "duration": 18,
    "start_time": "2024-11-03T12:24:44.396Z"
   },
   {
    "duration": 4,
    "start_time": "2024-11-03T12:25:11.460Z"
   },
   {
    "duration": 20,
    "start_time": "2024-11-03T12:25:15.350Z"
   },
   {
    "duration": 30917,
    "start_time": "2024-11-03T12:25:30.871Z"
   },
   {
    "duration": 0,
    "start_time": "2024-11-03T12:26:01.790Z"
   },
   {
    "duration": 2462,
    "start_time": "2024-11-03T12:26:09.298Z"
   },
   {
    "duration": 671,
    "start_time": "2024-11-03T12:26:11.762Z"
   },
   {
    "duration": 1548,
    "start_time": "2024-11-03T12:26:12.435Z"
   },
   {
    "duration": 0,
    "start_time": "2024-11-03T12:26:13.987Z"
   },
   {
    "duration": 0,
    "start_time": "2024-11-03T12:26:13.989Z"
   },
   {
    "duration": 0,
    "start_time": "2024-11-03T12:26:13.990Z"
   },
   {
    "duration": 0,
    "start_time": "2024-11-03T12:26:13.990Z"
   },
   {
    "duration": 0,
    "start_time": "2024-11-03T12:26:13.991Z"
   },
   {
    "duration": 0,
    "start_time": "2024-11-03T12:26:13.993Z"
   },
   {
    "duration": 0,
    "start_time": "2024-11-03T12:26:13.994Z"
   },
   {
    "duration": 1,
    "start_time": "2024-11-03T12:26:13.994Z"
   },
   {
    "duration": 0,
    "start_time": "2024-11-03T12:26:13.995Z"
   },
   {
    "duration": 0,
    "start_time": "2024-11-03T12:26:13.997Z"
   },
   {
    "duration": 0,
    "start_time": "2024-11-03T12:26:13.998Z"
   },
   {
    "duration": 0,
    "start_time": "2024-11-03T12:26:13.999Z"
   },
   {
    "duration": 0,
    "start_time": "2024-11-03T12:26:14.000Z"
   },
   {
    "duration": 0,
    "start_time": "2024-11-03T12:26:14.000Z"
   },
   {
    "duration": 0,
    "start_time": "2024-11-03T12:26:14.001Z"
   },
   {
    "duration": 0,
    "start_time": "2024-11-03T12:26:14.002Z"
   },
   {
    "duration": 0,
    "start_time": "2024-11-03T12:26:14.003Z"
   },
   {
    "duration": 0,
    "start_time": "2024-11-03T12:26:14.005Z"
   },
   {
    "duration": 0,
    "start_time": "2024-11-03T12:26:14.006Z"
   },
   {
    "duration": 0,
    "start_time": "2024-11-03T12:26:14.007Z"
   },
   {
    "duration": 0,
    "start_time": "2024-11-03T12:26:14.008Z"
   },
   {
    "duration": 0,
    "start_time": "2024-11-03T12:26:14.010Z"
   },
   {
    "duration": 0,
    "start_time": "2024-11-03T12:26:14.011Z"
   },
   {
    "duration": 0,
    "start_time": "2024-11-03T12:26:14.013Z"
   },
   {
    "duration": 0,
    "start_time": "2024-11-03T12:26:14.014Z"
   },
   {
    "duration": 0,
    "start_time": "2024-11-03T12:26:14.015Z"
   },
   {
    "duration": 0,
    "start_time": "2024-11-03T12:26:14.017Z"
   },
   {
    "duration": 0,
    "start_time": "2024-11-03T12:26:14.018Z"
   },
   {
    "duration": 0,
    "start_time": "2024-11-03T12:26:14.019Z"
   },
   {
    "duration": 0,
    "start_time": "2024-11-03T12:26:14.020Z"
   },
   {
    "duration": 0,
    "start_time": "2024-11-03T12:26:14.021Z"
   },
   {
    "duration": 0,
    "start_time": "2024-11-03T12:26:14.043Z"
   },
   {
    "duration": 0,
    "start_time": "2024-11-03T12:26:14.044Z"
   },
   {
    "duration": 0,
    "start_time": "2024-11-03T12:26:14.046Z"
   },
   {
    "duration": 0,
    "start_time": "2024-11-03T12:26:14.047Z"
   },
   {
    "duration": 0,
    "start_time": "2024-11-03T12:26:14.049Z"
   },
   {
    "duration": 0,
    "start_time": "2024-11-03T12:26:14.050Z"
   },
   {
    "duration": 0,
    "start_time": "2024-11-03T12:26:14.051Z"
   },
   {
    "duration": 0,
    "start_time": "2024-11-03T12:26:14.052Z"
   },
   {
    "duration": 0,
    "start_time": "2024-11-03T12:26:14.054Z"
   },
   {
    "duration": 0,
    "start_time": "2024-11-03T12:26:14.055Z"
   },
   {
    "duration": 0,
    "start_time": "2024-11-03T12:26:14.056Z"
   },
   {
    "duration": 0,
    "start_time": "2024-11-03T12:26:14.058Z"
   },
   {
    "duration": 0,
    "start_time": "2024-11-03T12:26:14.059Z"
   },
   {
    "duration": 0,
    "start_time": "2024-11-03T12:26:14.060Z"
   },
   {
    "duration": 0,
    "start_time": "2024-11-03T12:26:14.061Z"
   },
   {
    "duration": 0,
    "start_time": "2024-11-03T12:26:14.063Z"
   },
   {
    "duration": 0,
    "start_time": "2024-11-03T12:26:14.064Z"
   },
   {
    "duration": 0,
    "start_time": "2024-11-03T12:26:14.065Z"
   },
   {
    "duration": 0,
    "start_time": "2024-11-03T12:26:14.066Z"
   },
   {
    "duration": 0,
    "start_time": "2024-11-03T12:26:14.067Z"
   },
   {
    "duration": 0,
    "start_time": "2024-11-03T12:26:14.068Z"
   },
   {
    "duration": 0,
    "start_time": "2024-11-03T12:26:14.069Z"
   },
   {
    "duration": 0,
    "start_time": "2024-11-03T12:26:14.070Z"
   },
   {
    "duration": 0,
    "start_time": "2024-11-03T12:26:14.071Z"
   },
   {
    "duration": 0,
    "start_time": "2024-11-03T12:26:14.072Z"
   },
   {
    "duration": 0,
    "start_time": "2024-11-03T12:26:14.072Z"
   },
   {
    "duration": 0,
    "start_time": "2024-11-03T12:26:14.073Z"
   },
   {
    "duration": 0,
    "start_time": "2024-11-03T12:26:14.074Z"
   },
   {
    "duration": 0,
    "start_time": "2024-11-03T12:26:14.075Z"
   },
   {
    "duration": 0,
    "start_time": "2024-11-03T12:26:14.076Z"
   },
   {
    "duration": 0,
    "start_time": "2024-11-03T12:26:14.077Z"
   },
   {
    "duration": 0,
    "start_time": "2024-11-03T12:26:14.078Z"
   },
   {
    "duration": 0,
    "start_time": "2024-11-03T12:26:14.079Z"
   },
   {
    "duration": 0,
    "start_time": "2024-11-03T12:26:14.080Z"
   },
   {
    "duration": 0,
    "start_time": "2024-11-03T12:26:14.080Z"
   },
   {
    "duration": 0,
    "start_time": "2024-11-03T12:26:14.081Z"
   },
   {
    "duration": 0,
    "start_time": "2024-11-03T12:26:14.144Z"
   },
   {
    "duration": 0,
    "start_time": "2024-11-03T12:26:14.145Z"
   },
   {
    "duration": 3810,
    "start_time": "2024-11-03T12:26:42.075Z"
   },
   {
    "duration": 605,
    "start_time": "2024-11-03T12:26:45.887Z"
   },
   {
    "duration": 165,
    "start_time": "2024-11-03T12:26:46.493Z"
   },
   {
    "duration": 16,
    "start_time": "2024-11-03T12:26:46.660Z"
   },
   {
    "duration": 12,
    "start_time": "2024-11-03T12:26:46.678Z"
   },
   {
    "duration": 34,
    "start_time": "2024-11-03T12:26:46.691Z"
   },
   {
    "duration": 87,
    "start_time": "2024-11-03T12:26:46.727Z"
   },
   {
    "duration": 0,
    "start_time": "2024-11-03T12:26:46.820Z"
   },
   {
    "duration": 0,
    "start_time": "2024-11-03T12:26:46.821Z"
   },
   {
    "duration": 0,
    "start_time": "2024-11-03T12:26:46.822Z"
   },
   {
    "duration": 0,
    "start_time": "2024-11-03T12:26:46.824Z"
   },
   {
    "duration": 0,
    "start_time": "2024-11-03T12:26:46.825Z"
   },
   {
    "duration": 0,
    "start_time": "2024-11-03T12:26:46.826Z"
   },
   {
    "duration": 0,
    "start_time": "2024-11-03T12:26:46.826Z"
   },
   {
    "duration": 0,
    "start_time": "2024-11-03T12:26:46.827Z"
   },
   {
    "duration": 0,
    "start_time": "2024-11-03T12:26:46.828Z"
   },
   {
    "duration": 0,
    "start_time": "2024-11-03T12:26:46.828Z"
   },
   {
    "duration": 0,
    "start_time": "2024-11-03T12:26:46.842Z"
   },
   {
    "duration": 0,
    "start_time": "2024-11-03T12:26:46.844Z"
   },
   {
    "duration": 0,
    "start_time": "2024-11-03T12:26:46.845Z"
   },
   {
    "duration": 0,
    "start_time": "2024-11-03T12:26:46.847Z"
   },
   {
    "duration": 0,
    "start_time": "2024-11-03T12:26:46.848Z"
   },
   {
    "duration": 0,
    "start_time": "2024-11-03T12:26:46.849Z"
   },
   {
    "duration": 0,
    "start_time": "2024-11-03T12:26:46.851Z"
   },
   {
    "duration": 0,
    "start_time": "2024-11-03T12:26:46.852Z"
   },
   {
    "duration": 1,
    "start_time": "2024-11-03T12:26:46.853Z"
   },
   {
    "duration": 0,
    "start_time": "2024-11-03T12:26:46.855Z"
   },
   {
    "duration": 0,
    "start_time": "2024-11-03T12:26:46.857Z"
   },
   {
    "duration": 0,
    "start_time": "2024-11-03T12:26:46.858Z"
   },
   {
    "duration": 0,
    "start_time": "2024-11-03T12:26:46.860Z"
   },
   {
    "duration": 0,
    "start_time": "2024-11-03T12:26:46.861Z"
   },
   {
    "duration": 0,
    "start_time": "2024-11-03T12:26:46.862Z"
   },
   {
    "duration": 0,
    "start_time": "2024-11-03T12:26:46.863Z"
   },
   {
    "duration": 0,
    "start_time": "2024-11-03T12:26:46.864Z"
   },
   {
    "duration": 0,
    "start_time": "2024-11-03T12:26:46.865Z"
   },
   {
    "duration": 0,
    "start_time": "2024-11-03T12:26:46.866Z"
   },
   {
    "duration": 0,
    "start_time": "2024-11-03T12:26:46.869Z"
   },
   {
    "duration": 0,
    "start_time": "2024-11-03T12:26:46.870Z"
   },
   {
    "duration": 0,
    "start_time": "2024-11-03T12:26:46.871Z"
   },
   {
    "duration": 0,
    "start_time": "2024-11-03T12:26:46.874Z"
   },
   {
    "duration": 0,
    "start_time": "2024-11-03T12:26:46.876Z"
   },
   {
    "duration": 0,
    "start_time": "2024-11-03T12:26:46.877Z"
   },
   {
    "duration": 0,
    "start_time": "2024-11-03T12:26:46.879Z"
   },
   {
    "duration": 0,
    "start_time": "2024-11-03T12:26:46.880Z"
   },
   {
    "duration": 0,
    "start_time": "2024-11-03T12:26:46.942Z"
   },
   {
    "duration": 0,
    "start_time": "2024-11-03T12:26:46.943Z"
   },
   {
    "duration": 0,
    "start_time": "2024-11-03T12:26:46.945Z"
   },
   {
    "duration": 0,
    "start_time": "2024-11-03T12:26:46.945Z"
   },
   {
    "duration": 0,
    "start_time": "2024-11-03T12:26:46.947Z"
   },
   {
    "duration": 0,
    "start_time": "2024-11-03T12:26:46.947Z"
   },
   {
    "duration": 0,
    "start_time": "2024-11-03T12:26:46.949Z"
   },
   {
    "duration": 0,
    "start_time": "2024-11-03T12:26:46.950Z"
   },
   {
    "duration": 0,
    "start_time": "2024-11-03T12:26:46.950Z"
   },
   {
    "duration": 0,
    "start_time": "2024-11-03T12:26:46.951Z"
   },
   {
    "duration": 0,
    "start_time": "2024-11-03T12:26:46.952Z"
   },
   {
    "duration": 0,
    "start_time": "2024-11-03T12:26:46.953Z"
   },
   {
    "duration": 0,
    "start_time": "2024-11-03T12:26:46.954Z"
   },
   {
    "duration": 0,
    "start_time": "2024-11-03T12:26:46.955Z"
   },
   {
    "duration": 0,
    "start_time": "2024-11-03T12:26:46.958Z"
   },
   {
    "duration": 0,
    "start_time": "2024-11-03T12:26:46.959Z"
   },
   {
    "duration": 0,
    "start_time": "2024-11-03T12:26:46.960Z"
   },
   {
    "duration": 0,
    "start_time": "2024-11-03T12:26:46.961Z"
   },
   {
    "duration": 0,
    "start_time": "2024-11-03T12:26:46.961Z"
   },
   {
    "duration": 0,
    "start_time": "2024-11-03T12:26:46.962Z"
   },
   {
    "duration": 0,
    "start_time": "2024-11-03T12:26:46.963Z"
   },
   {
    "duration": 0,
    "start_time": "2024-11-03T12:26:46.965Z"
   },
   {
    "duration": 0,
    "start_time": "2024-11-03T12:26:46.966Z"
   },
   {
    "duration": 0,
    "start_time": "2024-11-03T12:26:46.967Z"
   },
   {
    "duration": 0,
    "start_time": "2024-11-03T12:26:46.970Z"
   },
   {
    "duration": 0,
    "start_time": "2024-11-03T12:26:46.971Z"
   },
   {
    "duration": 0,
    "start_time": "2024-11-03T12:26:46.972Z"
   },
   {
    "duration": 0,
    "start_time": "2024-11-03T12:26:46.973Z"
   },
   {
    "duration": 0,
    "start_time": "2024-11-03T12:26:46.974Z"
   },
   {
    "duration": 0,
    "start_time": "2024-11-03T12:26:46.977Z"
   },
   {
    "duration": 0,
    "start_time": "2024-11-03T12:26:46.978Z"
   },
   {
    "duration": 0,
    "start_time": "2024-11-03T12:26:46.979Z"
   },
   {
    "duration": 0,
    "start_time": "2024-11-03T12:26:46.980Z"
   },
   {
    "duration": 0,
    "start_time": "2024-11-03T12:26:46.981Z"
   },
   {
    "duration": 0,
    "start_time": "2024-11-03T12:26:46.982Z"
   },
   {
    "duration": 0,
    "start_time": "2024-11-03T12:26:46.983Z"
   },
   {
    "duration": 0,
    "start_time": "2024-11-03T12:26:46.984Z"
   },
   {
    "duration": 0,
    "start_time": "2024-11-03T12:26:46.985Z"
   },
   {
    "duration": 0,
    "start_time": "2024-11-03T12:26:47.043Z"
   },
   {
    "duration": 0,
    "start_time": "2024-11-03T12:26:47.044Z"
   },
   {
    "duration": 0,
    "start_time": "2024-11-03T12:26:47.045Z"
   },
   {
    "duration": 0,
    "start_time": "2024-11-03T12:26:47.046Z"
   },
   {
    "duration": 0,
    "start_time": "2024-11-03T12:26:47.047Z"
   },
   {
    "duration": 0,
    "start_time": "2024-11-03T12:26:47.048Z"
   },
   {
    "duration": 0,
    "start_time": "2024-11-03T12:26:47.049Z"
   },
   {
    "duration": 0,
    "start_time": "2024-11-03T12:26:47.050Z"
   },
   {
    "duration": 0,
    "start_time": "2024-11-03T12:26:47.051Z"
   },
   {
    "duration": 6,
    "start_time": "2024-11-03T12:27:11.604Z"
   },
   {
    "duration": 2369,
    "start_time": "2024-11-03T12:27:15.499Z"
   },
   {
    "duration": 617,
    "start_time": "2024-11-03T12:27:17.871Z"
   },
   {
    "duration": 167,
    "start_time": "2024-11-03T12:27:18.489Z"
   },
   {
    "duration": 16,
    "start_time": "2024-11-03T12:27:18.659Z"
   },
   {
    "duration": 12,
    "start_time": "2024-11-03T12:27:18.676Z"
   },
   {
    "duration": 20,
    "start_time": "2024-11-03T12:27:18.689Z"
   },
   {
    "duration": 6,
    "start_time": "2024-11-03T12:27:18.711Z"
   },
   {
    "duration": 21,
    "start_time": "2024-11-03T12:27:18.744Z"
   },
   {
    "duration": 35,
    "start_time": "2024-11-03T12:27:18.766Z"
   },
   {
    "duration": 41,
    "start_time": "2024-11-03T12:27:18.804Z"
   },
   {
    "duration": 4,
    "start_time": "2024-11-03T12:27:18.846Z"
   },
   {
    "duration": 9,
    "start_time": "2024-11-03T12:27:18.852Z"
   },
   {
    "duration": 39,
    "start_time": "2024-11-03T12:27:18.862Z"
   },
   {
    "duration": 37,
    "start_time": "2024-11-03T12:27:18.903Z"
   },
   {
    "duration": 4,
    "start_time": "2024-11-03T12:27:18.942Z"
   },
   {
    "duration": 244,
    "start_time": "2024-11-03T12:27:18.947Z"
   },
   {
    "duration": 18,
    "start_time": "2024-11-03T12:27:19.193Z"
   },
   {
    "duration": 14,
    "start_time": "2024-11-03T12:27:19.213Z"
   },
   {
    "duration": 34,
    "start_time": "2024-11-03T12:27:19.229Z"
   },
   {
    "duration": 9,
    "start_time": "2024-11-03T12:27:19.265Z"
   },
   {
    "duration": 11,
    "start_time": "2024-11-03T12:27:19.276Z"
   },
   {
    "duration": 26,
    "start_time": "2024-11-03T12:27:19.288Z"
   },
   {
    "duration": 33,
    "start_time": "2024-11-03T12:27:19.316Z"
   },
   {
    "duration": 6,
    "start_time": "2024-11-03T12:27:19.351Z"
   },
   {
    "duration": 14,
    "start_time": "2024-11-03T12:27:19.358Z"
   },
   {
    "duration": 10,
    "start_time": "2024-11-03T12:27:19.374Z"
   },
   {
    "duration": 7,
    "start_time": "2024-11-03T12:27:19.385Z"
   },
   {
    "duration": 12489,
    "start_time": "2024-11-03T12:27:19.396Z"
   },
   {
    "duration": 2,
    "start_time": "2024-11-03T12:27:31.887Z"
   },
   {
    "duration": 6,
    "start_time": "2024-11-03T12:27:31.891Z"
   },
   {
    "duration": 7,
    "start_time": "2024-11-03T12:27:31.898Z"
   },
   {
    "duration": 5,
    "start_time": "2024-11-03T12:27:31.907Z"
   },
   {
    "duration": 7,
    "start_time": "2024-11-03T12:27:31.913Z"
   },
   {
    "duration": 26,
    "start_time": "2024-11-03T12:27:31.922Z"
   },
   {
    "duration": 11,
    "start_time": "2024-11-03T12:27:31.949Z"
   },
   {
    "duration": 9,
    "start_time": "2024-11-03T12:27:31.962Z"
   },
   {
    "duration": 19,
    "start_time": "2024-11-03T12:27:31.973Z"
   },
   {
    "duration": 161687,
    "start_time": "2024-11-03T12:27:31.994Z"
   },
   {
    "duration": 3,
    "start_time": "2024-11-03T12:30:13.683Z"
   },
   {
    "duration": 32,
    "start_time": "2024-11-03T12:30:13.687Z"
   },
   {
    "duration": 27,
    "start_time": "2024-11-03T12:30:13.720Z"
   },
   {
    "duration": 258657,
    "start_time": "2024-11-03T12:30:13.749Z"
   },
   {
    "duration": 3,
    "start_time": "2024-11-03T12:34:32.408Z"
   },
   {
    "duration": 53,
    "start_time": "2024-11-03T12:34:32.413Z"
   },
   {
    "duration": 19,
    "start_time": "2024-11-03T12:34:32.467Z"
   },
   {
    "duration": 57,
    "start_time": "2024-11-03T12:34:32.488Z"
   },
   {
    "duration": 52,
    "start_time": "2024-11-03T12:34:32.547Z"
   },
   {
    "duration": 6,
    "start_time": "2024-11-03T12:34:32.601Z"
   },
   {
    "duration": 42,
    "start_time": "2024-11-03T12:34:32.609Z"
   },
   {
    "duration": 12,
    "start_time": "2024-11-03T12:34:32.653Z"
   },
   {
    "duration": 36,
    "start_time": "2024-11-03T12:34:32.666Z"
   },
   {
    "duration": 24,
    "start_time": "2024-11-03T12:34:32.703Z"
   },
   {
    "duration": 54,
    "start_time": "2024-11-03T12:34:32.729Z"
   },
   {
    "duration": 22,
    "start_time": "2024-11-03T12:34:32.785Z"
   },
   {
    "duration": 17,
    "start_time": "2024-11-03T12:34:32.809Z"
   },
   {
    "duration": 1589,
    "start_time": "2024-11-03T12:34:32.828Z"
   },
   {
    "duration": 724,
    "start_time": "2024-11-03T12:34:34.419Z"
   },
   {
    "duration": 181,
    "start_time": "2024-11-03T12:34:35.144Z"
   },
   {
    "duration": 31,
    "start_time": "2024-11-03T12:34:35.327Z"
   },
   {
    "duration": 16,
    "start_time": "2024-11-03T12:34:35.359Z"
   },
   {
    "duration": 533,
    "start_time": "2024-11-03T12:34:35.376Z"
   },
   {
    "duration": 1569,
    "start_time": "2024-11-03T12:34:35.910Z"
   },
   {
    "duration": 95,
    "start_time": "2024-11-03T12:34:37.480Z"
   },
   {
    "duration": 223,
    "start_time": "2024-11-03T12:34:37.576Z"
   },
   {
    "duration": 11,
    "start_time": "2024-11-03T12:34:37.800Z"
   },
   {
    "duration": 103,
    "start_time": "2024-11-03T12:34:37.812Z"
   },
   {
    "duration": 8,
    "start_time": "2024-11-03T12:34:37.917Z"
   },
   {
    "duration": 74,
    "start_time": "2024-11-03T12:34:37.927Z"
   },
   {
    "duration": 141,
    "start_time": "2024-11-03T12:34:38.003Z"
   },
   {
    "duration": 4,
    "start_time": "2024-11-03T12:34:38.146Z"
   },
   {
    "duration": 251,
    "start_time": "2024-11-03T12:34:38.151Z"
   },
   {
    "duration": 135,
    "start_time": "2024-11-03T12:34:38.403Z"
   },
   {
    "duration": 157,
    "start_time": "2024-11-03T12:34:38.542Z"
   },
   {
    "duration": 219,
    "start_time": "2024-11-03T12:34:38.701Z"
   },
   {
    "duration": 199,
    "start_time": "2024-11-03T12:34:38.922Z"
   },
   {
    "duration": 33,
    "start_time": "2024-11-03T12:34:39.123Z"
   },
   {
    "duration": 161,
    "start_time": "2024-11-03T12:34:39.158Z"
   },
   {
    "duration": 170,
    "start_time": "2024-11-03T12:34:39.320Z"
   },
   {
    "duration": 157,
    "start_time": "2024-11-03T12:34:39.492Z"
   },
   {
    "duration": 163,
    "start_time": "2024-11-03T12:34:39.651Z"
   },
   {
    "duration": 179,
    "start_time": "2024-11-03T12:34:39.816Z"
   },
   {
    "duration": 146,
    "start_time": "2024-11-03T12:34:40.001Z"
   },
   {
    "duration": 216,
    "start_time": "2024-11-03T12:34:40.149Z"
   },
   {
    "duration": 26,
    "start_time": "2024-11-03T12:34:40.367Z"
   },
   {
    "duration": 118,
    "start_time": "2024-11-03T12:34:40.395Z"
   },
   {
    "duration": 401,
    "start_time": "2024-11-03T12:34:40.515Z"
   },
   {
    "duration": 302,
    "start_time": "2024-11-03T12:34:40.918Z"
   },
   {
    "duration": 152,
    "start_time": "2024-11-03T12:34:41.222Z"
   },
   {
    "duration": 348,
    "start_time": "2024-11-03T12:34:41.376Z"
   },
   {
    "duration": 41,
    "start_time": "2024-11-03T12:34:41.725Z"
   },
   {
    "duration": 120,
    "start_time": "2024-11-03T12:34:41.768Z"
   },
   {
    "duration": 72,
    "start_time": "2024-11-03T12:36:14.034Z"
   },
   {
    "duration": 67,
    "start_time": "2024-11-03T12:36:19.948Z"
   },
   {
    "duration": 67,
    "start_time": "2024-11-03T12:36:26.703Z"
   },
   {
    "duration": 14,
    "start_time": "2024-11-03T12:36:29.918Z"
   },
   {
    "duration": 73,
    "start_time": "2024-11-03T12:36:37.093Z"
   },
   {
    "duration": 6,
    "start_time": "2024-11-03T12:36:57.507Z"
   },
   {
    "duration": 8,
    "start_time": "2024-11-03T12:37:08.533Z"
   },
   {
    "duration": 2374,
    "start_time": "2024-11-03T12:39:23.764Z"
   },
   {
    "duration": 646,
    "start_time": "2024-11-03T12:39:26.140Z"
   },
   {
    "duration": 185,
    "start_time": "2024-11-03T12:39:26.787Z"
   },
   {
    "duration": 15,
    "start_time": "2024-11-03T12:39:26.974Z"
   },
   {
    "duration": 24,
    "start_time": "2024-11-03T12:39:26.990Z"
   },
   {
    "duration": 21,
    "start_time": "2024-11-03T12:39:27.016Z"
   },
   {
    "duration": 6,
    "start_time": "2024-11-03T12:39:27.038Z"
   },
   {
    "duration": 21,
    "start_time": "2024-11-03T12:39:27.045Z"
   },
   {
    "duration": 27,
    "start_time": "2024-11-03T12:39:27.068Z"
   },
   {
    "duration": 47,
    "start_time": "2024-11-03T12:39:27.098Z"
   },
   {
    "duration": 4,
    "start_time": "2024-11-03T12:39:27.147Z"
   },
   {
    "duration": 9,
    "start_time": "2024-11-03T12:39:27.153Z"
   },
   {
    "duration": 30,
    "start_time": "2024-11-03T12:39:27.163Z"
   },
   {
    "duration": 8,
    "start_time": "2024-11-03T12:39:27.195Z"
   },
   {
    "duration": 75,
    "start_time": "2024-11-03T12:39:27.204Z"
   },
   {
    "duration": 265,
    "start_time": "2024-11-03T12:39:27.280Z"
   },
   {
    "duration": 18,
    "start_time": "2024-11-03T12:39:27.547Z"
   },
   {
    "duration": 5,
    "start_time": "2024-11-03T12:39:27.566Z"
   },
   {
    "duration": 28,
    "start_time": "2024-11-03T12:39:27.573Z"
   },
   {
    "duration": 9,
    "start_time": "2024-11-03T12:39:27.602Z"
   },
   {
    "duration": 5,
    "start_time": "2024-11-03T12:39:27.612Z"
   },
   {
    "duration": 38,
    "start_time": "2024-11-03T12:39:27.618Z"
   },
   {
    "duration": 16,
    "start_time": "2024-11-03T12:39:27.657Z"
   },
   {
    "duration": 6,
    "start_time": "2024-11-03T12:39:27.674Z"
   },
   {
    "duration": 13,
    "start_time": "2024-11-03T12:39:27.682Z"
   },
   {
    "duration": 11,
    "start_time": "2024-11-03T12:39:27.697Z"
   },
   {
    "duration": 34,
    "start_time": "2024-11-03T12:39:27.709Z"
   },
   {
    "duration": 3,
    "start_time": "2024-11-03T12:39:27.748Z"
   },
   {
    "duration": 11726,
    "start_time": "2024-11-03T12:39:27.753Z"
   },
   {
    "duration": 3,
    "start_time": "2024-11-03T12:39:39.480Z"
   },
   {
    "duration": 20,
    "start_time": "2024-11-03T12:39:39.485Z"
   },
   {
    "duration": 17,
    "start_time": "2024-11-03T12:39:39.507Z"
   },
   {
    "duration": 4,
    "start_time": "2024-11-03T12:39:39.526Z"
   },
   {
    "duration": 13,
    "start_time": "2024-11-03T12:39:39.531Z"
   },
   {
    "duration": 4,
    "start_time": "2024-11-03T12:39:39.546Z"
   },
   {
    "duration": 5,
    "start_time": "2024-11-03T12:39:39.552Z"
   },
   {
    "duration": 13,
    "start_time": "2024-11-03T12:39:39.558Z"
   },
   {
    "duration": 14,
    "start_time": "2024-11-03T12:39:39.573Z"
   },
   {
    "duration": 5,
    "start_time": "2024-11-03T12:39:39.589Z"
   },
   {
    "duration": 159298,
    "start_time": "2024-11-03T12:39:39.596Z"
   },
   {
    "duration": 4,
    "start_time": "2024-11-03T12:42:18.898Z"
   },
   {
    "duration": 6,
    "start_time": "2024-11-03T12:42:18.903Z"
   },
   {
    "duration": 4,
    "start_time": "2024-11-03T12:42:18.911Z"
   },
   {
    "duration": 260575,
    "start_time": "2024-11-03T12:42:18.942Z"
   },
   {
    "duration": 3,
    "start_time": "2024-11-03T12:46:39.519Z"
   },
   {
    "duration": 41,
    "start_time": "2024-11-03T12:46:39.523Z"
   },
   {
    "duration": 6,
    "start_time": "2024-11-03T12:46:39.566Z"
   },
   {
    "duration": 15,
    "start_time": "2024-11-03T12:46:39.573Z"
   },
   {
    "duration": 28,
    "start_time": "2024-11-03T12:46:39.589Z"
   },
   {
    "duration": 26,
    "start_time": "2024-11-03T12:46:39.618Z"
   },
   {
    "duration": 14,
    "start_time": "2024-11-03T12:46:39.646Z"
   },
   {
    "duration": 13,
    "start_time": "2024-11-03T12:46:39.661Z"
   },
   {
    "duration": 19,
    "start_time": "2024-11-03T12:46:39.676Z"
   },
   {
    "duration": 14,
    "start_time": "2024-11-03T12:46:39.696Z"
   },
   {
    "duration": 17,
    "start_time": "2024-11-03T12:46:39.712Z"
   },
   {
    "duration": 9,
    "start_time": "2024-11-03T12:46:39.743Z"
   },
   {
    "duration": 15,
    "start_time": "2024-11-03T12:46:39.754Z"
   },
   {
    "duration": 1625,
    "start_time": "2024-11-03T12:46:39.771Z"
   },
   {
    "duration": 564,
    "start_time": "2024-11-03T12:46:41.397Z"
   },
   {
    "duration": 189,
    "start_time": "2024-11-03T12:46:41.962Z"
   },
   {
    "duration": 21,
    "start_time": "2024-11-03T12:46:42.153Z"
   },
   {
    "duration": 7,
    "start_time": "2024-11-03T12:46:42.176Z"
   },
   {
    "duration": 542,
    "start_time": "2024-11-03T12:46:42.184Z"
   },
   {
    "duration": 1603,
    "start_time": "2024-11-03T12:46:42.727Z"
   },
   {
    "duration": 89,
    "start_time": "2024-11-03T12:46:44.331Z"
   },
   {
    "duration": 231,
    "start_time": "2024-11-03T12:46:44.421Z"
   },
   {
    "duration": 11,
    "start_time": "2024-11-03T12:46:44.654Z"
   },
   {
    "duration": 57,
    "start_time": "2024-11-03T12:46:44.667Z"
   },
   {
    "duration": 23,
    "start_time": "2024-11-03T12:46:44.726Z"
   },
   {
    "duration": 64,
    "start_time": "2024-11-03T12:46:44.751Z"
   },
   {
    "duration": 145,
    "start_time": "2024-11-03T12:46:44.817Z"
   },
   {
    "duration": 4,
    "start_time": "2024-11-03T12:46:44.964Z"
   },
   {
    "duration": 250,
    "start_time": "2024-11-03T12:46:44.969Z"
   },
   {
    "duration": 141,
    "start_time": "2024-11-03T12:46:45.221Z"
   },
   {
    "duration": 158,
    "start_time": "2024-11-03T12:46:45.364Z"
   },
   {
    "duration": 207,
    "start_time": "2024-11-03T12:46:45.524Z"
   },
   {
    "duration": 184,
    "start_time": "2024-11-03T12:46:45.732Z"
   },
   {
    "duration": 34,
    "start_time": "2024-11-03T12:46:45.917Z"
   },
   {
    "duration": 153,
    "start_time": "2024-11-03T12:46:45.953Z"
   },
   {
    "duration": 157,
    "start_time": "2024-11-03T12:46:46.107Z"
   },
   {
    "duration": 158,
    "start_time": "2024-11-03T12:46:46.266Z"
   },
   {
    "duration": 160,
    "start_time": "2024-11-03T12:46:46.430Z"
   },
   {
    "duration": 194,
    "start_time": "2024-11-03T12:46:46.592Z"
   },
   {
    "duration": 153,
    "start_time": "2024-11-03T12:46:46.788Z"
   },
   {
    "duration": 215,
    "start_time": "2024-11-03T12:46:46.943Z"
   },
   {
    "duration": 27,
    "start_time": "2024-11-03T12:46:47.160Z"
   },
   {
    "duration": 120,
    "start_time": "2024-11-03T12:46:47.190Z"
   },
   {
    "duration": 383,
    "start_time": "2024-11-03T12:46:47.312Z"
   },
   {
    "duration": 293,
    "start_time": "2024-11-03T12:46:47.696Z"
   },
   {
    "duration": 159,
    "start_time": "2024-11-03T12:46:47.991Z"
   },
   {
    "duration": 370,
    "start_time": "2024-11-03T12:46:48.152Z"
   },
   {
    "duration": 39,
    "start_time": "2024-11-03T12:46:48.524Z"
   },
   {
    "duration": 121,
    "start_time": "2024-11-03T12:46:48.565Z"
   },
   {
    "duration": 4,
    "start_time": "2024-11-03T12:50:08.604Z"
   },
   {
    "duration": 5,
    "start_time": "2024-11-03T12:50:12.351Z"
   },
   {
    "duration": 72,
    "start_time": "2024-11-03T12:50:13.131Z"
   },
   {
    "duration": 5,
    "start_time": "2024-11-03T12:52:13.403Z"
   },
   {
    "duration": 11,
    "start_time": "2024-11-03T12:52:40.517Z"
   },
   {
    "duration": 2,
    "start_time": "2024-11-03T12:52:45.736Z"
   },
   {
    "duration": 6074,
    "start_time": "2024-11-03T12:52:49.158Z"
   },
   {
    "duration": 2389,
    "start_time": "2024-11-03T12:53:04.561Z"
   },
   {
    "duration": 650,
    "start_time": "2024-11-03T12:53:06.953Z"
   },
   {
    "duration": 205,
    "start_time": "2024-11-03T12:53:07.607Z"
   },
   {
    "duration": 15,
    "start_time": "2024-11-03T12:53:07.814Z"
   },
   {
    "duration": 30,
    "start_time": "2024-11-03T12:53:07.831Z"
   },
   {
    "duration": 69,
    "start_time": "2024-11-03T12:53:07.863Z"
   },
   {
    "duration": 14,
    "start_time": "2024-11-03T12:53:07.934Z"
   },
   {
    "duration": 26,
    "start_time": "2024-11-03T12:53:07.950Z"
   },
   {
    "duration": 29,
    "start_time": "2024-11-03T12:53:07.979Z"
   },
   {
    "duration": 34,
    "start_time": "2024-11-03T12:53:08.009Z"
   },
   {
    "duration": 5,
    "start_time": "2024-11-03T12:53:08.044Z"
   },
   {
    "duration": 18,
    "start_time": "2024-11-03T12:53:08.050Z"
   },
   {
    "duration": 37,
    "start_time": "2024-11-03T12:53:08.069Z"
   },
   {
    "duration": 9,
    "start_time": "2024-11-03T12:53:08.108Z"
   },
   {
    "duration": 8,
    "start_time": "2024-11-03T12:53:08.119Z"
   },
   {
    "duration": 249,
    "start_time": "2024-11-03T12:53:08.128Z"
   },
   {
    "duration": 17,
    "start_time": "2024-11-03T12:53:08.379Z"
   },
   {
    "duration": 5,
    "start_time": "2024-11-03T12:53:08.398Z"
   },
   {
    "duration": 16,
    "start_time": "2024-11-03T12:53:08.405Z"
   },
   {
    "duration": 27,
    "start_time": "2024-11-03T12:53:08.423Z"
   },
   {
    "duration": 7,
    "start_time": "2024-11-03T12:53:08.452Z"
   },
   {
    "duration": 22,
    "start_time": "2024-11-03T12:53:08.460Z"
   },
   {
    "duration": 23,
    "start_time": "2024-11-03T12:53:08.483Z"
   },
   {
    "duration": 8,
    "start_time": "2024-11-03T12:53:08.507Z"
   },
   {
    "duration": 36,
    "start_time": "2024-11-03T12:53:08.517Z"
   },
   {
    "duration": 70,
    "start_time": "2024-11-03T12:53:08.554Z"
   },
   {
    "duration": 13,
    "start_time": "2024-11-03T12:53:08.629Z"
   },
   {
    "duration": 10,
    "start_time": "2024-11-03T12:53:08.644Z"
   },
   {
    "duration": 11727,
    "start_time": "2024-11-03T12:53:08.656Z"
   },
   {
    "duration": 3,
    "start_time": "2024-11-03T12:53:20.385Z"
   },
   {
    "duration": 14,
    "start_time": "2024-11-03T12:53:20.389Z"
   },
   {
    "duration": 23,
    "start_time": "2024-11-03T12:53:20.404Z"
   },
   {
    "duration": 15,
    "start_time": "2024-11-03T12:53:20.428Z"
   },
   {
    "duration": 9,
    "start_time": "2024-11-03T12:53:20.445Z"
   },
   {
    "duration": 20,
    "start_time": "2024-11-03T12:53:20.455Z"
   },
   {
    "duration": 22,
    "start_time": "2024-11-03T12:53:20.477Z"
   },
   {
    "duration": 44,
    "start_time": "2024-11-03T12:53:20.500Z"
   },
   {
    "duration": 41,
    "start_time": "2024-11-03T12:53:20.545Z"
   },
   {
    "duration": 42,
    "start_time": "2024-11-03T12:53:20.588Z"
   },
   {
    "duration": 158921,
    "start_time": "2024-11-03T12:53:20.631Z"
   },
   {
    "duration": 4,
    "start_time": "2024-11-03T12:55:59.553Z"
   },
   {
    "duration": 7,
    "start_time": "2024-11-03T12:55:59.558Z"
   },
   {
    "duration": 7,
    "start_time": "2024-11-03T12:55:59.566Z"
   },
   {
    "duration": 56938,
    "start_time": "2024-11-03T12:55:59.574Z"
   },
   {
    "duration": 0,
    "start_time": "2024-11-03T12:56:56.515Z"
   },
   {
    "duration": 0,
    "start_time": "2024-11-03T12:56:56.516Z"
   },
   {
    "duration": 0,
    "start_time": "2024-11-03T12:56:56.518Z"
   },
   {
    "duration": 0,
    "start_time": "2024-11-03T12:56:56.519Z"
   },
   {
    "duration": 0,
    "start_time": "2024-11-03T12:56:56.521Z"
   },
   {
    "duration": 0,
    "start_time": "2024-11-03T12:56:56.522Z"
   },
   {
    "duration": 0,
    "start_time": "2024-11-03T12:56:56.524Z"
   },
   {
    "duration": 0,
    "start_time": "2024-11-03T12:56:56.525Z"
   },
   {
    "duration": 0,
    "start_time": "2024-11-03T12:56:56.527Z"
   },
   {
    "duration": 0,
    "start_time": "2024-11-03T12:56:56.528Z"
   },
   {
    "duration": 0,
    "start_time": "2024-11-03T12:56:56.530Z"
   },
   {
    "duration": 0,
    "start_time": "2024-11-03T12:56:56.532Z"
   },
   {
    "duration": 0,
    "start_time": "2024-11-03T12:56:56.533Z"
   },
   {
    "duration": 0,
    "start_time": "2024-11-03T12:56:56.534Z"
   },
   {
    "duration": 0,
    "start_time": "2024-11-03T12:56:56.536Z"
   },
   {
    "duration": 0,
    "start_time": "2024-11-03T12:56:56.537Z"
   },
   {
    "duration": 0,
    "start_time": "2024-11-03T12:56:56.539Z"
   },
   {
    "duration": 0,
    "start_time": "2024-11-03T12:56:56.541Z"
   },
   {
    "duration": 1,
    "start_time": "2024-11-03T12:56:56.542Z"
   },
   {
    "duration": 0,
    "start_time": "2024-11-03T12:56:56.544Z"
   },
   {
    "duration": 0,
    "start_time": "2024-11-03T12:56:56.546Z"
   },
   {
    "duration": 0,
    "start_time": "2024-11-03T12:56:56.547Z"
   },
   {
    "duration": 0,
    "start_time": "2024-11-03T12:56:56.548Z"
   },
   {
    "duration": 0,
    "start_time": "2024-11-03T12:56:56.550Z"
   },
   {
    "duration": 0,
    "start_time": "2024-11-03T12:56:56.551Z"
   },
   {
    "duration": 0,
    "start_time": "2024-11-03T12:56:56.552Z"
   },
   {
    "duration": 0,
    "start_time": "2024-11-03T12:56:56.554Z"
   },
   {
    "duration": 0,
    "start_time": "2024-11-03T12:56:56.555Z"
   },
   {
    "duration": 0,
    "start_time": "2024-11-03T12:56:56.556Z"
   },
   {
    "duration": 0,
    "start_time": "2024-11-03T12:56:56.558Z"
   },
   {
    "duration": 0,
    "start_time": "2024-11-03T12:56:56.559Z"
   },
   {
    "duration": 0,
    "start_time": "2024-11-03T12:56:56.560Z"
   },
   {
    "duration": 0,
    "start_time": "2024-11-03T12:56:56.561Z"
   },
   {
    "duration": 0,
    "start_time": "2024-11-03T12:56:56.563Z"
   },
   {
    "duration": 0,
    "start_time": "2024-11-03T12:56:56.564Z"
   },
   {
    "duration": 0,
    "start_time": "2024-11-03T12:56:56.565Z"
   },
   {
    "duration": 0,
    "start_time": "2024-11-03T12:56:56.566Z"
   },
   {
    "duration": 0,
    "start_time": "2024-11-03T12:56:56.568Z"
   },
   {
    "duration": 0,
    "start_time": "2024-11-03T12:56:56.569Z"
   },
   {
    "duration": 0,
    "start_time": "2024-11-03T12:56:56.571Z"
   },
   {
    "duration": 0,
    "start_time": "2024-11-03T12:56:56.572Z"
   },
   {
    "duration": 0,
    "start_time": "2024-11-03T12:56:56.574Z"
   },
   {
    "duration": 0,
    "start_time": "2024-11-03T12:56:56.575Z"
   },
   {
    "duration": 0,
    "start_time": "2024-11-03T12:56:56.576Z"
   },
   {
    "duration": 0,
    "start_time": "2024-11-03T12:56:56.577Z"
   },
   {
    "duration": 0,
    "start_time": "2024-11-03T12:56:56.578Z"
   },
   {
    "duration": 0,
    "start_time": "2024-11-03T12:56:56.580Z"
   },
   {
    "duration": 0,
    "start_time": "2024-11-03T12:56:56.581Z"
   },
   {
    "duration": 0,
    "start_time": "2024-11-03T12:56:56.643Z"
   },
   {
    "duration": 2345,
    "start_time": "2024-11-03T12:57:23.873Z"
   },
   {
    "duration": 675,
    "start_time": "2024-11-03T12:57:26.220Z"
   },
   {
    "duration": 172,
    "start_time": "2024-11-03T12:57:26.897Z"
   },
   {
    "duration": 14,
    "start_time": "2024-11-03T12:57:27.071Z"
   },
   {
    "duration": 21,
    "start_time": "2024-11-03T12:57:27.087Z"
   },
   {
    "duration": 38,
    "start_time": "2024-11-03T12:57:27.110Z"
   },
   {
    "duration": 5,
    "start_time": "2024-11-03T12:57:27.150Z"
   },
   {
    "duration": 29,
    "start_time": "2024-11-03T12:57:27.157Z"
   },
   {
    "duration": 33,
    "start_time": "2024-11-03T12:57:27.188Z"
   },
   {
    "duration": 24,
    "start_time": "2024-11-03T12:57:27.224Z"
   },
   {
    "duration": 31,
    "start_time": "2024-11-03T12:57:27.249Z"
   },
   {
    "duration": 50,
    "start_time": "2024-11-03T12:57:27.282Z"
   },
   {
    "duration": 46,
    "start_time": "2024-11-03T12:57:27.333Z"
   },
   {
    "duration": 37,
    "start_time": "2024-11-03T12:57:27.381Z"
   },
   {
    "duration": 22,
    "start_time": "2024-11-03T12:57:27.419Z"
   },
   {
    "duration": 235,
    "start_time": "2024-11-03T12:57:27.443Z"
   },
   {
    "duration": 18,
    "start_time": "2024-11-03T12:57:27.679Z"
   },
   {
    "duration": 10,
    "start_time": "2024-11-03T12:57:27.699Z"
   },
   {
    "duration": 36,
    "start_time": "2024-11-03T12:57:27.711Z"
   },
   {
    "duration": 25,
    "start_time": "2024-11-03T12:57:27.750Z"
   },
   {
    "duration": 26,
    "start_time": "2024-11-03T12:57:27.776Z"
   },
   {
    "duration": 45,
    "start_time": "2024-11-03T12:57:27.804Z"
   },
   {
    "duration": 44,
    "start_time": "2024-11-03T12:57:27.851Z"
   },
   {
    "duration": 51,
    "start_time": "2024-11-03T12:57:27.896Z"
   },
   {
    "duration": 23,
    "start_time": "2024-11-03T12:57:27.949Z"
   },
   {
    "duration": 40,
    "start_time": "2024-11-03T12:57:27.974Z"
   },
   {
    "duration": 20,
    "start_time": "2024-11-03T12:57:28.016Z"
   },
   {
    "duration": 18,
    "start_time": "2024-11-03T12:57:28.040Z"
   },
   {
    "duration": 11677,
    "start_time": "2024-11-03T12:57:28.060Z"
   },
   {
    "duration": 4,
    "start_time": "2024-11-03T12:57:39.739Z"
   },
   {
    "duration": 6,
    "start_time": "2024-11-03T12:57:39.744Z"
   },
   {
    "duration": 18,
    "start_time": "2024-11-03T12:57:39.752Z"
   },
   {
    "duration": 9,
    "start_time": "2024-11-03T12:57:39.771Z"
   },
   {
    "duration": 18,
    "start_time": "2024-11-03T12:57:39.782Z"
   },
   {
    "duration": 10,
    "start_time": "2024-11-03T12:57:39.802Z"
   },
   {
    "duration": 14,
    "start_time": "2024-11-03T12:57:39.814Z"
   },
   {
    "duration": 9,
    "start_time": "2024-11-03T12:57:39.830Z"
   },
   {
    "duration": 3,
    "start_time": "2024-11-03T12:57:39.841Z"
   },
   {
    "duration": 81,
    "start_time": "2024-11-03T12:57:39.846Z"
   },
   {
    "duration": 157685,
    "start_time": "2024-11-03T12:57:39.928Z"
   },
   {
    "duration": 3,
    "start_time": "2024-11-03T13:00:17.615Z"
   },
   {
    "duration": 6,
    "start_time": "2024-11-03T13:00:17.620Z"
   },
   {
    "duration": 10,
    "start_time": "2024-11-03T13:00:17.628Z"
   },
   {
    "duration": 261952,
    "start_time": "2024-11-03T13:00:17.643Z"
   },
   {
    "duration": 3,
    "start_time": "2024-11-03T13:04:39.597Z"
   },
   {
    "duration": 25,
    "start_time": "2024-11-03T13:04:39.601Z"
   },
   {
    "duration": 263456,
    "start_time": "2024-11-03T13:04:39.628Z"
   },
   {
    "duration": 3,
    "start_time": "2024-11-03T13:09:03.085Z"
   },
   {
    "duration": 36,
    "start_time": "2024-11-03T13:09:03.090Z"
   },
   {
    "duration": 18,
    "start_time": "2024-11-03T13:09:03.128Z"
   },
   {
    "duration": 22,
    "start_time": "2024-11-03T13:09:03.147Z"
   },
   {
    "duration": 47,
    "start_time": "2024-11-03T13:09:03.170Z"
   },
   {
    "duration": 7,
    "start_time": "2024-11-03T13:09:03.219Z"
   },
   {
    "duration": 20,
    "start_time": "2024-11-03T13:09:03.227Z"
   },
   {
    "duration": 11,
    "start_time": "2024-11-03T13:09:03.248Z"
   },
   {
    "duration": 36,
    "start_time": "2024-11-03T13:09:03.261Z"
   },
   {
    "duration": 44,
    "start_time": "2024-11-03T13:09:03.298Z"
   },
   {
    "duration": 33,
    "start_time": "2024-11-03T13:09:03.343Z"
   },
   {
    "duration": 10,
    "start_time": "2024-11-03T13:09:03.378Z"
   },
   {
    "duration": 35,
    "start_time": "2024-11-03T13:09:03.390Z"
   },
   {
    "duration": 1636,
    "start_time": "2024-11-03T13:09:03.427Z"
   },
   {
    "duration": 583,
    "start_time": "2024-11-03T13:09:05.065Z"
   },
   {
    "duration": 172,
    "start_time": "2024-11-03T13:09:05.650Z"
   },
   {
    "duration": 35,
    "start_time": "2024-11-03T13:09:05.824Z"
   },
   {
    "duration": 7,
    "start_time": "2024-11-03T13:09:05.861Z"
   },
   {
    "duration": 561,
    "start_time": "2024-11-03T13:09:05.870Z"
   },
   {
    "duration": 1562,
    "start_time": "2024-11-03T13:09:06.442Z"
   },
   {
    "duration": 94,
    "start_time": "2024-11-03T13:09:08.006Z"
   },
   {
    "duration": 237,
    "start_time": "2024-11-03T13:09:08.102Z"
   },
   {
    "duration": 11,
    "start_time": "2024-11-03T13:09:08.342Z"
   },
   {
    "duration": 56,
    "start_time": "2024-11-03T13:09:08.355Z"
   },
   {
    "duration": 10,
    "start_time": "2024-11-03T13:09:08.413Z"
   },
   {
    "duration": 68,
    "start_time": "2024-11-03T13:09:08.425Z"
   },
   {
    "duration": 143,
    "start_time": "2024-11-03T13:09:08.495Z"
   },
   {
    "duration": 4,
    "start_time": "2024-11-03T13:09:08.642Z"
   },
   {
    "duration": 285,
    "start_time": "2024-11-03T13:09:08.648Z"
   },
   {
    "duration": 145,
    "start_time": "2024-11-03T13:09:08.935Z"
   },
   {
    "duration": 165,
    "start_time": "2024-11-03T13:09:09.082Z"
   },
   {
    "duration": 200,
    "start_time": "2024-11-03T13:09:09.249Z"
   },
   {
    "duration": 190,
    "start_time": "2024-11-03T13:09:09.451Z"
   },
   {
    "duration": 28,
    "start_time": "2024-11-03T13:09:09.642Z"
   },
   {
    "duration": 159,
    "start_time": "2024-11-03T13:09:09.675Z"
   },
   {
    "duration": 193,
    "start_time": "2024-11-03T13:09:09.842Z"
   },
   {
    "duration": 184,
    "start_time": "2024-11-03T13:09:10.036Z"
   },
   {
    "duration": 156,
    "start_time": "2024-11-03T13:09:10.223Z"
   },
   {
    "duration": 157,
    "start_time": "2024-11-03T13:09:10.381Z"
   },
   {
    "duration": 134,
    "start_time": "2024-11-03T13:09:10.542Z"
   },
   {
    "duration": 224,
    "start_time": "2024-11-03T13:09:10.677Z"
   },
   {
    "duration": 41,
    "start_time": "2024-11-03T13:09:10.902Z"
   },
   {
    "duration": 107,
    "start_time": "2024-11-03T13:09:10.944Z"
   },
   {
    "duration": 391,
    "start_time": "2024-11-03T13:09:11.052Z"
   },
   {
    "duration": 284,
    "start_time": "2024-11-03T13:09:11.445Z"
   },
   {
    "duration": 159,
    "start_time": "2024-11-03T13:09:11.730Z"
   },
   {
    "duration": 354,
    "start_time": "2024-11-03T13:09:11.891Z"
   },
   {
    "duration": 36,
    "start_time": "2024-11-03T13:09:12.247Z"
   },
   {
    "duration": 130,
    "start_time": "2024-11-03T13:09:12.284Z"
   },
   {
    "duration": 12,
    "start_time": "2024-11-03T13:32:15.850Z"
   },
   {
    "duration": 2,
    "start_time": "2024-11-03T13:33:13.591Z"
   },
   {
    "duration": 17,
    "start_time": "2024-11-03T13:39:41.783Z"
   },
   {
    "duration": 16,
    "start_time": "2024-11-03T13:40:39.006Z"
   },
   {
    "duration": 155,
    "start_time": "2024-11-03T13:40:51.316Z"
   },
   {
    "duration": 234,
    "start_time": "2024-11-03T13:41:05.122Z"
   },
   {
    "duration": 45,
    "start_time": "2024-11-03T13:47:04.325Z"
   },
   {
    "duration": 2,
    "start_time": "2024-11-03T13:47:09.232Z"
   },
   {
    "duration": 28,
    "start_time": "2024-11-03T13:47:46.792Z"
   },
   {
    "duration": 22,
    "start_time": "2024-11-03T13:47:53.621Z"
   },
   {
    "duration": 4,
    "start_time": "2024-11-03T13:55:46.126Z"
   },
   {
    "duration": 724,
    "start_time": "2024-11-03T13:55:46.131Z"
   },
   {
    "duration": 172,
    "start_time": "2024-11-03T13:55:46.857Z"
   },
   {
    "duration": 15,
    "start_time": "2024-11-03T13:55:47.031Z"
   },
   {
    "duration": 12,
    "start_time": "2024-11-03T13:55:47.048Z"
   },
   {
    "duration": 22,
    "start_time": "2024-11-03T13:55:47.061Z"
   },
   {
    "duration": 6,
    "start_time": "2024-11-03T13:55:47.084Z"
   },
   {
    "duration": 53,
    "start_time": "2024-11-03T13:55:47.092Z"
   },
   {
    "duration": 27,
    "start_time": "2024-11-03T13:55:47.146Z"
   },
   {
    "duration": 23,
    "start_time": "2024-11-03T13:55:47.175Z"
   },
   {
    "duration": 5,
    "start_time": "2024-11-03T13:55:47.202Z"
   },
   {
    "duration": 35,
    "start_time": "2024-11-03T13:55:47.208Z"
   },
   {
    "duration": 31,
    "start_time": "2024-11-03T13:55:47.244Z"
   },
   {
    "duration": 9,
    "start_time": "2024-11-03T13:55:47.277Z"
   },
   {
    "duration": 7,
    "start_time": "2024-11-03T13:55:47.287Z"
   },
   {
    "duration": 250,
    "start_time": "2024-11-03T13:55:47.295Z"
   },
   {
    "duration": 20,
    "start_time": "2024-11-03T13:55:47.546Z"
   },
   {
    "duration": 6,
    "start_time": "2024-11-03T13:55:47.567Z"
   },
   {
    "duration": 44,
    "start_time": "2024-11-03T13:55:47.574Z"
   },
   {
    "duration": 24,
    "start_time": "2024-11-03T13:55:47.619Z"
   },
   {
    "duration": 5,
    "start_time": "2024-11-03T13:55:47.644Z"
   },
   {
    "duration": 22,
    "start_time": "2024-11-03T13:55:47.650Z"
   },
   {
    "duration": 15,
    "start_time": "2024-11-03T13:55:47.674Z"
   },
   {
    "duration": 30,
    "start_time": "2024-11-03T13:55:47.691Z"
   },
   {
    "duration": 21,
    "start_time": "2024-11-03T13:55:47.722Z"
   },
   {
    "duration": 9,
    "start_time": "2024-11-03T13:55:47.744Z"
   },
   {
    "duration": 15,
    "start_time": "2024-11-03T13:55:47.754Z"
   },
   {
    "duration": 6,
    "start_time": "2024-11-03T13:55:47.771Z"
   },
   {
    "duration": 11768,
    "start_time": "2024-11-03T13:55:47.782Z"
   },
   {
    "duration": 3,
    "start_time": "2024-11-03T13:55:59.552Z"
   },
   {
    "duration": 6,
    "start_time": "2024-11-03T13:55:59.556Z"
   },
   {
    "duration": 58,
    "start_time": "2024-11-03T13:55:59.563Z"
   },
   {
    "duration": 30,
    "start_time": "2024-11-03T13:55:59.623Z"
   },
   {
    "duration": 9,
    "start_time": "2024-11-03T13:55:59.655Z"
   },
   {
    "duration": 5,
    "start_time": "2024-11-03T13:55:59.665Z"
   },
   {
    "duration": 4,
    "start_time": "2024-11-03T13:55:59.671Z"
   },
   {
    "duration": 7,
    "start_time": "2024-11-03T13:55:59.677Z"
   },
   {
    "duration": 158472,
    "start_time": "2024-11-03T13:55:59.685Z"
   },
   {
    "duration": 3,
    "start_time": "2024-11-03T13:58:38.159Z"
   },
   {
    "duration": 10,
    "start_time": "2024-11-03T13:58:38.164Z"
   },
   {
    "duration": 8,
    "start_time": "2024-11-03T13:58:38.175Z"
   },
   {
    "duration": 261062,
    "start_time": "2024-11-03T13:58:38.184Z"
   },
   {
    "duration": 3,
    "start_time": "2024-11-03T14:02:59.248Z"
   },
   {
    "duration": 47,
    "start_time": "2024-11-03T14:02:59.252Z"
   },
   {
    "duration": 7,
    "start_time": "2024-11-03T14:02:59.300Z"
   },
   {
    "duration": 9,
    "start_time": "2024-11-03T14:02:59.308Z"
   },
   {
    "duration": 38,
    "start_time": "2024-11-03T14:02:59.318Z"
   },
   {
    "duration": 7,
    "start_time": "2024-11-03T14:02:59.358Z"
   },
   {
    "duration": 17,
    "start_time": "2024-11-03T14:02:59.366Z"
   },
   {
    "duration": 10,
    "start_time": "2024-11-03T14:02:59.385Z"
   },
   {
    "duration": 8,
    "start_time": "2024-11-03T14:02:59.397Z"
   },
   {
    "duration": 38,
    "start_time": "2024-11-03T14:02:59.406Z"
   },
   {
    "duration": 11,
    "start_time": "2024-11-03T14:02:59.446Z"
   },
   {
    "duration": 36,
    "start_time": "2024-11-03T14:02:59.459Z"
   },
   {
    "duration": 13,
    "start_time": "2024-11-03T14:02:59.496Z"
   },
   {
    "duration": 1678,
    "start_time": "2024-11-03T14:02:59.511Z"
   },
   {
    "duration": 558,
    "start_time": "2024-11-03T14:03:01.190Z"
   },
   {
    "duration": 195,
    "start_time": "2024-11-03T14:03:01.750Z"
   },
   {
    "duration": 23,
    "start_time": "2024-11-03T14:03:01.946Z"
   },
   {
    "duration": 7,
    "start_time": "2024-11-03T14:03:01.971Z"
   },
   {
    "duration": 552,
    "start_time": "2024-11-03T14:03:01.980Z"
   },
   {
    "duration": 1610,
    "start_time": "2024-11-03T14:03:02.533Z"
   },
   {
    "duration": 99,
    "start_time": "2024-11-03T14:03:04.145Z"
   },
   {
    "duration": 234,
    "start_time": "2024-11-03T14:03:04.246Z"
   },
   {
    "duration": 10,
    "start_time": "2024-11-03T14:03:04.482Z"
   },
   {
    "duration": 54,
    "start_time": "2024-11-03T14:03:04.494Z"
   },
   {
    "duration": 8,
    "start_time": "2024-11-03T14:03:04.550Z"
   },
   {
    "duration": 49,
    "start_time": "2024-11-03T14:03:04.560Z"
   },
   {
    "duration": 164,
    "start_time": "2024-11-03T14:03:04.610Z"
   },
   {
    "duration": 5,
    "start_time": "2024-11-03T14:03:04.776Z"
   },
   {
    "duration": 290,
    "start_time": "2024-11-03T14:03:04.782Z"
   },
   {
    "duration": 138,
    "start_time": "2024-11-03T14:03:05.074Z"
   },
   {
    "duration": 159,
    "start_time": "2024-11-03T14:03:05.214Z"
   },
   {
    "duration": 201,
    "start_time": "2024-11-03T14:03:05.375Z"
   },
   {
    "duration": 189,
    "start_time": "2024-11-03T14:03:05.577Z"
   },
   {
    "duration": 25,
    "start_time": "2024-11-03T14:03:05.768Z"
   },
   {
    "duration": 152,
    "start_time": "2024-11-03T14:03:05.794Z"
   },
   {
    "duration": 159,
    "start_time": "2024-11-03T14:03:05.948Z"
   },
   {
    "duration": 149,
    "start_time": "2024-11-03T14:03:06.108Z"
   },
   {
    "duration": 173,
    "start_time": "2024-11-03T14:03:06.258Z"
   },
   {
    "duration": 164,
    "start_time": "2024-11-03T14:03:06.433Z"
   },
   {
    "duration": 140,
    "start_time": "2024-11-03T14:03:06.599Z"
   },
   {
    "duration": 208,
    "start_time": "2024-11-03T14:03:06.745Z"
   },
   {
    "duration": 3,
    "start_time": "2024-11-03T14:03:06.954Z"
   },
   {
    "duration": 32,
    "start_time": "2024-11-03T14:03:06.958Z"
   },
   {
    "duration": 117,
    "start_time": "2024-11-03T14:03:06.991Z"
   },
   {
    "duration": 374,
    "start_time": "2024-11-03T14:03:07.109Z"
   },
   {
    "duration": 276,
    "start_time": "2024-11-03T14:03:07.485Z"
   },
   {
    "duration": 171,
    "start_time": "2024-11-03T14:03:07.763Z"
   },
   {
    "duration": 357,
    "start_time": "2024-11-03T14:03:07.936Z"
   },
   {
    "duration": 32,
    "start_time": "2024-11-03T14:03:08.295Z"
   },
   {
    "duration": 139,
    "start_time": "2024-11-03T14:03:08.329Z"
   }
  ],
  "colab": {
   "provenance": []
  },
  "kernelspec": {
   "display_name": "Python 3 (ipykernel)",
   "language": "python",
   "name": "python3"
  },
  "language_info": {
   "codemirror_mode": {
    "name": "ipython",
    "version": 3
   },
   "file_extension": ".py",
   "mimetype": "text/x-python",
   "name": "python",
   "nbconvert_exporter": "python",
   "pygments_lexer": "ipython3",
   "version": "3.9.19"
  },
  "toc": {
   "base_numbering": 1,
   "nav_menu": {},
   "number_sections": true,
   "sideBar": true,
   "skip_h1_title": true,
   "title_cell": "Table of Contents",
   "title_sidebar": "Contents",
   "toc_cell": false,
   "toc_position": {
    "height": "calc(100% - 180px)",
    "left": "10px",
    "top": "150px",
    "width": "305.6px"
   },
   "toc_section_display": true,
   "toc_window_display": true
  }
 },
 "nbformat": 4,
 "nbformat_minor": 1
}
