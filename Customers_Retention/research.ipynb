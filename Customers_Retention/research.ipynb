{
 "cells": [
  {
   "cell_type": "markdown",
   "id": "e2eecca8",
   "metadata": {},
   "source": [
    "# Предсказание удержания клиентов интернет-магазина\n",
    "\n",
    "Необходимо выбрать наилучшую модель для предсказания вероятности снижения покупательсткой активностьи.\n",
    "\n",
    "## Цель\n",
    "С помощью модели необходимо повысить покупательсткую активность различных каптегорий клиентов\n",
    " - выбрать и обучить модель, наилучшим образом предсказывающую покеупательскую способность пользоываелей;\n",
    " - выделить сегменты клиентов с учётом выручки бизнеса, покупательской способности и других зарактеристик пользваотелей;\n",
    " - разработать для каждого выделенного сегмента клиентов стратегии, повышаюшие удержание\n",
    "\n",
    "## Описание данных:\n",
    "### Поведение покупателя\n",
    "- `id` — уникальный идентификатор покупателя в корпоративной базе данных.\n",
    "- `Покупательская активность` — целевой признак, показывающий класс покупательской активности: «снизилась» или «прежний уровень».\n",
    "- `Тип сервиса` — уровень сервиса («премиум» или «стандарт»), зависящий от наличия подписки.\n",
    "- `Разрешить сообщать` — бинарный признак (да, нет), указывающий, можно ли присылать клиенту дополнительные предложения.\n",
    "- `Маркет_актив_6_мес` — среднемесячное количество маркетинговых коммуникаций за последние 6 месяцев (рассылки, звонки, реклама).\n",
    "- `Маркет_актив_тек_мес` — число маркетинговых коммуникаций в текущем месяце.\n",
    "- `Длительность` — количество дней с момента регистрации покупателя на сайте.\n",
    "- `Акционные_покупки` — среднемесячная доля покупок по акции от всех покупок за последние 6 месяцев.\n",
    "- `Популярная_категория` — наиболее часто покупаемая категория товаров за последние 6 месяцев.\n",
    "- `Средний_просмотр_категорий_за_визит` — среднее число категорий, просмотренных за один визит за последний месяц.\n",
    "- `Неоплаченные_продукты_штук_квартал` — количество неоплаченных товаров в корзине за последние 3 месяца.\n",
    "- `Ошибка_сервиса` — число сбоев сервиса, затронувших клиента за последние 3 месяца.\n",
    "- `Страниц_за_визит` — среднее количество страниц, просмотренных клиентом за визит за последние 3 месяца.\n",
    "### Выручка от покупателя\n",
    "- `id` — номер покупателя в корпоративной базе данных.\n",
    "- `Период` — название периода, во время которого зафиксирована выручка. Например, 'текущий_месяц' или 'предыдущий_месяц'.\n",
    "- `Выручка` — сумма выручки за период в условных единицах.\n",
    "### Время, проведённое покупателем на сайте\n",
    "- `id` — номер покупателя в корпоративной базе данных.\n",
    "- `Период` — название периода, во время которого зафиксировано общее время.\n",
    "- `минут` — значение времени, проведённого на сайте, в минутах.\n",
    "### Прибыль от покупателя\n",
    "- `id` — номер покупателя в корпоративной базе данных.\n",
    "- `Прибыль` — значение прибыли в условных единицах."
   ]
  },
  {
   "cell_type": "markdown",
   "id": "33e4d3f3",
   "metadata": {},
   "source": [
    "## План исследования"
   ]
  },
  {
   "cell_type": "markdown",
   "id": "f5bf7b29",
   "metadata": {},
   "source": [
    "1) Предобработка данных\n",
    "2) Исследовательский анализ данных\n",
    "3) Подготовка данных к ML\n",
    "4) Корреляционный анализ\n",
    "5) Построение пайплайнов для выбора лучшей модели\n",
    "6) Анализ важности признаков\n",
    "7) Сегментация покупателей\n",
    "8) Общий вывод"
   ]
  },
  {
   "cell_type": "markdown",
   "id": "d34bbcd3",
   "metadata": {},
   "source": [
    "##  Предобработка данных"
   ]
  },
  {
   "cell_type": "code",
   "execution_count": 1,
   "id": "592b4ee2",
   "metadata": {},
   "outputs": [],
   "source": [
    "import pandas as pd\n",
    "import numpy as np\n",
    "from matplotlib import pyplot as plt\n",
    "import seaborn as sns\n",
    "import phik\n",
    "import matplotlib.patches as mpatches\n",
    "from sklearn.model_selection import train_test_split\n",
    "from sklearn.linear_model import LinearRegression, LogisticRegression\n",
    "from sklearn.preprocessing import StandardScaler\n",
    "from sklearn.metrics import r2_score, mean_squared_error, mean_absolute_error, accuracy_score, precision_score, recall_score, confusion_matrix"
   ]
  },
  {
   "cell_type": "code",
   "execution_count": 2,
   "id": "19a750e4",
   "metadata": {},
   "outputs": [
    {
     "name": "stdout",
     "output_type": "stream",
     "text": [
      "Market data:\n",
      "    id       Покупательская активность   Тип сервиса   Разрешить сообщать  \\\n",
      "0   215348   Снизилась                   премиум       да                   \n",
      "1   215349   Снизилась                   премиум       да                   \n",
      "2   215350   Снизилась                   стандартт     нет                  \n",
      "3   215351   Снизилась                   стандартт     да                   \n",
      "4   215352   Снизилась                   стандартт     нет                  \n",
      "5   215353   Снизилась                   стандартт     да                   \n",
      "6   215354   Снизилась                   стандартт     да                   \n",
      "7   215355   Снизилась                   стандартт     нет                  \n",
      "8   215356   Снизилась                   стандартт     да                   \n",
      "9   215357   Снизилась                   стандартт     да                   \n",
      "10  215358   Снизилась                   стандартт     да                   \n",
      "11  215359   Снизилась                   стандарт      да                   \n",
      "12  215360   Снизилась                   премиум       да                   \n",
      "13  215361   Снизилась                   стандарт      да                   \n",
      "14  215362   Снизилась                   премиум       да                   \n",
      "15  215363   Снизилась                   стандарт      нет                  \n",
      "16  215364   Снизилась                   премиум       да                   \n",
      "17  215365   Снизилась                   стандарт      да                   \n",
      "18  215366   Снизилась                   стандарт      нет                  \n",
      "19  215367   Снизилась                   премиум       да                   \n",
      "\n",
      "     Маркет_актив_6_мес   Маркет_актив_тек_мес   Длительность  \\\n",
      "0                   3.4                      5            121   \n",
      "1                   4.4                      4            819   \n",
      "2                   4.9                      3            539   \n",
      "3                   3.2                      5            896   \n",
      "4                   5.1                      3           1064   \n",
      "5                   3.3                      4            762   \n",
      "6                   5.1                      3            431   \n",
      "7                   4.7                      4            284   \n",
      "8                   4.2                      4            192   \n",
      "9                   3.9                      5            154   \n",
      "10                  4.7                      4            450   \n",
      "11                  4.6                      5            110   \n",
      "12                  3.9                      3            623   \n",
      "13                  5.1                      4            199   \n",
      "14                  4.2                      4            438   \n",
      "15                  4.9                      4            923   \n",
      "16                  4.3                      4            708   \n",
      "17                  3.9                      4            167   \n",
      "18                  3.8                      3            209   \n",
      "19                  4.2                      4            581   \n",
      "\n",
      "     Акционные_покупки   Популярная_категория                  \\\n",
      "0                 0.00   Товары для детей                       \n",
      "1                 0.75   Товары для детей                       \n",
      "2                 0.14   Домашний текстиль                      \n",
      "3                 0.99   Товары для детей                       \n",
      "4                 0.94   Товары для детей                       \n",
      "5                 0.26   Домашний текстиль                      \n",
      "6                 0.23   Косметика и аксесуары                  \n",
      "7                 0.17   Товары для детей                       \n",
      "8                 0.14   Косметика и аксесуары                  \n",
      "9                 0.00   Техника для красоты и здоровья         \n",
      "10                0.13   Домашний текстиль                      \n",
      "11                0.00   Домашний текстиль                      \n",
      "12                0.35   Кухонная посуда                        \n",
      "13                0.23   Техника для красоты и здоровья         \n",
      "14                0.74   Домашний текстиль                      \n",
      "15                0.29   Товары для детей                       \n",
      "16                0.98   Домашний текстиль                      \n",
      "17                0.95   Техника для красоты и здоровья         \n",
      "18                0.22   Товары для детей                       \n",
      "19                0.40   Товары для детей                       \n",
      "\n",
      "     Средний_просмотр_категорий_за_визит   Неоплаченные_продукты_штук_квартал  \\\n",
      "0                                      6                                    2   \n",
      "1                                      4                                    4   \n",
      "2                                      5                                    2   \n",
      "3                                      5                                    0   \n",
      "4                                      3                                    2   \n",
      "5                                      4                                    1   \n",
      "6                                      2                                    3   \n",
      "7                                      5                                    1   \n",
      "8                                      2                                    2   \n",
      "9                                      3                                    3   \n",
      "10                                     4                                    2   \n",
      "11                                     4                                    2   \n",
      "12                                     3                                    1   \n",
      "13                                     4                                    5   \n",
      "14                                     3                                    4   \n",
      "15                                     6                                    0   \n",
      "16                                     3                                    3   \n",
      "17                                     6                                    4   \n",
      "18                                     5                                    3   \n",
      "19                                     5                                    1   \n",
      "\n",
      "     Ошибка_сервиса   Страниц_за_визит  \n",
      "0                 1                  5  \n",
      "1                 2                  5  \n",
      "2                 1                  5  \n",
      "3                 6                  4  \n",
      "4                 3                  2  \n",
      "5                 1                  4  \n",
      "6                 7                  2  \n",
      "7                 6                  4  \n",
      "8                 1                  3  \n",
      "9                 9                  5  \n",
      "10                6                  4  \n",
      "11                4                  2  \n",
      "12                4                  7  \n",
      "13                2                  3  \n",
      "14                6                  4  \n",
      "15                3                  1  \n",
      "16                3                  3  \n",
      "17                2                  5  \n",
      "18                7                  7  \n",
      "19                4                  1  \n",
      "Market revenue:\n",
      "    id       Период                Выручка\n",
      "0   215348   препредыдущий_месяц       0.0\n",
      "1   215348   текущий_месяц          3293.1\n",
      "2   215348   предыдущий_месяц          0.0\n",
      "3   215349   препредыдущий_месяц    4472.0\n",
      "4   215349   текущий_месяц          4971.6\n",
      "5   215349   предыдущий_месяц       5216.0\n",
      "6   215350   препредыдущий_месяц    4826.0\n",
      "7   215350   текущий_месяц          5058.4\n",
      "8   215350   предыдущий_месяц       5457.5\n",
      "9   215351   текущий_месяц          6610.4\n",
      "10  215351   предыдущий_месяц       6158.0\n",
      "11  215351   препредыдущий_месяц    4793.0\n",
      "12  215352   предыдущий_месяц       5807.5\n",
      "13  215352   препредыдущий_месяц    4594.0\n",
      "14  215352   текущий_месяц          5872.5\n",
      "15  215353   предыдущий_месяц       4738.5\n",
      "16  215353   препредыдущий_месяц    5124.0\n",
      "17  215353   текущий_месяц          5388.5\n",
      "18  215354   предыдущий_месяц       5685.0\n",
      "19  215354   текущий_месяц          5869.6\n",
      "Time spent on site:\n",
      "    id       Период             минут\n",
      "0   215348   текущий_месяц         14\n",
      "1   215348   предыдцщий_месяц      13\n",
      "2   215349   текущий_месяц         10\n",
      "3   215349   предыдцщий_месяц      12\n",
      "4   215350   текущий_месяц         13\n",
      "5   215350   предыдцщий_месяц       8\n",
      "6   215351   текущий_месяц         13\n",
      "7   215351   предыдцщий_месяц      11\n",
      "8   215352   текущий_месяц         11\n",
      "9   215352   предыдцщий_месяц       8\n",
      "10  215353   предыдцщий_месяц      10\n",
      "11  215353   текущий_месяц         10\n",
      "12  215354   предыдцщий_месяц      11\n",
      "13  215354   текущий_месяц         12\n",
      "14  215355   предыдцщий_месяц      12\n",
      "15  215355   текущий_месяц         10\n",
      "16  215356   предыдцщий_месяц       6\n",
      "17  215356   текущий_месяц          7\n",
      "18  215357   предыдцщий_месяц      12\n",
      "19  215357   текущий_месяц          6\n",
      "Market profit:\n",
      "    id      Прибыль\n",
      "0   215348     0,98\n",
      "1   215349     4,16\n",
      "2   215350     3,13\n",
      "3   215351     4,87\n",
      "4   215352     4,21\n",
      "5   215353     3,95\n",
      "6   215354     3,62\n",
      "7   215355     5,26\n",
      "8   215356     4,93\n",
      "9   215357     4,66\n",
      "10  215358     3,06\n",
      "11  215359     5,08\n",
      "12  215360     4,55\n",
      "13  215361     4,03\n",
      "14  215362     3,49\n",
      "15  215363     1,83\n",
      "16  215364     2,67\n",
      "17  215365     3,65\n",
      "18  215366     2,95\n",
      "19  215367     3,03\n"
     ]
    }
   ],
   "source": [
    "try:\n",
    "    market = pd.read_csv(r\".\\source\\market_file.csv\", sep=',')\n",
    "    market_revenue = pd.read_csv(r\".\\source\\market_money.csv\", sep=',')\n",
    "    market_time = pd.read_csv(r\".\\source\\market_time.csv\", sep=',')\n",
    "    profit = pd.read_csv(r\".\\source\\money.csv\", sep=';')\n",
    "except:\n",
    "    market = pd.read_csv(r\"./datasets/market_file.csv\", sep=',')\n",
    "    market_money = pd.read_csv(r\"./datasets/market_money.csv\", sep=',')\n",
    "    market_time = pd.read_csv(r\"./datasets/market_time.csv\", sep=',')\n",
    "    profit = pd.read_csv(r\"./datasets/money.csv\", sep=';')\n",
    "\n",
    "pd.set_option('display.max_columns', None)\n",
    "print(f\"Market data:\\n{market.head(20)}\")\n",
    "print(f\"Market revenue:\\n{market_revenue.head(20)}\")\n",
    "print(f\"Time spent on site:\\n{market_time.head(20)}\")\n",
    "print(f\"Market profit:\\n{profit.head(20)}\")"
   ]
  },
  {
   "cell_type": "markdown",
   "id": "642c4917",
   "metadata": {},
   "source": [
    "### Переименуем называния колонок в соостветствии с конвенциональным наименованием"
   ]
  },
  {
   "cell_type": "code",
   "execution_count": 3,
   "id": "2ceb9e58",
   "metadata": {},
   "outputs": [],
   "source": [
    "market = market.rename(columns={\"id    \": \"id\",\n",
    "                                    \" Покупательская активность\": \"покупательская_активность\",\n",
    "                                    \" Тип сервиса\": \"тип_сервиса\",\n",
    "                                    \" Разрешить сообщать\": \"разрешить_сообщать\",\n",
    "                                    \" Маркет_актив_6_мес\": \"маркет_актив_6_мес\",\n",
    "                                    \" Маркет_актив_тек_мес\": \"маркет_актив_тек_мес\",\n",
    "                                    \" Длительность\": \"длительность\",\n",
    "                                    \" Акционные_покупки\": \"акционные_покупки\",\n",
    "                                    \" Популярная_категория                \": \"популярная_категория\",\n",
    "                                    \" Средний_просмотр_категорий_за_визит\": \"средний_просмотр_категорий_за_визит\",\n",
    "                                    \" Неоплаченные_продукты_штук_квартал\": \"неоплаченные_продукты_штук_квартал\",\n",
    "                                    \" Ошибка_сервиса\": \"ошибка_сервиса\",\n",
    "                                    \" Страниц_за_визит\": \"страниц_за_визит\"})\n",
    "market_revenue = market_revenue.rename(columns={\"id    \": \"id\",\n",
    "                                    \" Период             \": \"период\",\n",
    "                                    \" Выручка\": \"выручка\"})\n",
    "market_time = market_time.rename(columns={\"id    \": \"id\",\n",
    "                                        \" Период          \": \"период\",\n",
    "                                        \" минут\": \"минут\"})\n",
    "profit = profit.rename(columns={\"id    \": \"id\",\n",
    "                                \" Прибыль\": \"прибыль\"})"
   ]
  },
  {
   "cell_type": "code",
   "execution_count": 4,
   "id": "1b108d64",
   "metadata": {},
   "outputs": [
    {
     "name": "stdout",
     "output_type": "stream",
     "text": [
      "<class 'pandas.core.frame.DataFrame'>\n",
      "RangeIndex: 1300 entries, 0 to 1299\n",
      "Data columns (total 13 columns):\n",
      " #   Column                               Non-Null Count  Dtype  \n",
      "---  ------                               --------------  -----  \n",
      " 0   id                                   1300 non-null   int64  \n",
      " 1   покупательская_активность            1300 non-null   object \n",
      " 2   тип_сервиса                          1300 non-null   object \n",
      " 3   разрешить_сообщать                   1300 non-null   object \n",
      " 4   маркет_актив_6_мес                   1300 non-null   float64\n",
      " 5   маркет_актив_тек_мес                 1300 non-null   int64  \n",
      " 6   длительность                         1300 non-null   int64  \n",
      " 7   акционные_покупки                    1300 non-null   float64\n",
      " 8   популярная_категория                 1300 non-null   object \n",
      " 9   средний_просмотр_категорий_за_визит  1300 non-null   int64  \n",
      " 10  неоплаченные_продукты_штук_квартал   1300 non-null   int64  \n",
      " 11  ошибка_сервиса                       1300 non-null   int64  \n",
      " 12  страниц_за_визит                     1300 non-null   int64  \n",
      "dtypes: float64(2), int64(7), object(4)\n",
      "memory usage: 132.2+ KB\n"
     ]
    }
   ],
   "source": [
    "market.info()"
   ]
  },
  {
   "cell_type": "code",
   "execution_count": 5,
   "id": "bb782006",
   "metadata": {},
   "outputs": [
    {
     "name": "stdout",
     "output_type": "stream",
     "text": [
      "<class 'pandas.core.frame.DataFrame'>\n",
      "RangeIndex: 3900 entries, 0 to 3899\n",
      "Data columns (total 3 columns):\n",
      " #   Column   Non-Null Count  Dtype  \n",
      "---  ------   --------------  -----  \n",
      " 0   id       3900 non-null   int64  \n",
      " 1   период   3900 non-null   object \n",
      " 2   выручка  3900 non-null   float64\n",
      "dtypes: float64(1), int64(1), object(1)\n",
      "memory usage: 91.5+ KB\n"
     ]
    }
   ],
   "source": [
    "market_revenue.info()"
   ]
  },
  {
   "cell_type": "code",
   "execution_count": 6,
   "id": "bcfc07b7",
   "metadata": {},
   "outputs": [
    {
     "name": "stdout",
     "output_type": "stream",
     "text": [
      "<class 'pandas.core.frame.DataFrame'>\n",
      "RangeIndex: 2600 entries, 0 to 2599\n",
      "Data columns (total 3 columns):\n",
      " #   Column  Non-Null Count  Dtype \n",
      "---  ------  --------------  ----- \n",
      " 0   id      2600 non-null   int64 \n",
      " 1   период  2600 non-null   object\n",
      " 2   минут   2600 non-null   int64 \n",
      "dtypes: int64(2), object(1)\n",
      "memory usage: 61.1+ KB\n"
     ]
    }
   ],
   "source": [
    "market_time.info()"
   ]
  },
  {
   "cell_type": "code",
   "execution_count": 7,
   "id": "c98f45ab",
   "metadata": {},
   "outputs": [
    {
     "name": "stdout",
     "output_type": "stream",
     "text": [
      "<class 'pandas.core.frame.DataFrame'>\n",
      "RangeIndex: 1300 entries, 0 to 1299\n",
      "Data columns (total 2 columns):\n",
      " #   Column   Non-Null Count  Dtype \n",
      "---  ------   --------------  ----- \n",
      " 0   id       1300 non-null   int64 \n",
      " 1   прибыль  1300 non-null   object\n",
      "dtypes: int64(1), object(1)\n",
      "memory usage: 20.4+ KB\n"
     ]
    }
   ],
   "source": [
    "profit.info()"
   ]
  },
  {
   "cell_type": "markdown",
   "id": "ec6f6714",
   "metadata": {},
   "source": [
    "### Проверим наличие явных дубликатов"
   ]
  },
  {
   "cell_type": "code",
   "execution_count": 8,
   "id": "5fa0e7fd",
   "metadata": {},
   "outputs": [],
   "source": [
    "def handle_duplicates(dataframe):\n",
    "    duplicates_count = dataframe.duplicated().sum()\n",
    "\n",
    "    if duplicates_count > 0:\n",
    "        dataframe.drop_duplicates(inplace=True)\n",
    "    \n",
    "    print(f\"Droped {duplicates_count} duplicates.\")"
   ]
  },
  {
   "cell_type": "code",
   "execution_count": 9,
   "id": "4c95099e",
   "metadata": {},
   "outputs": [
    {
     "name": "stdout",
     "output_type": "stream",
     "text": [
      "Droped 0 duplicates.\n",
      "Droped 0 duplicates.\n",
      "Droped 0 duplicates.\n",
      "Droped 0 duplicates.\n"
     ]
    }
   ],
   "source": [
    "handle_duplicates(market)\n",
    "handle_duplicates(market_revenue)\n",
    "handle_duplicates(market_time)\n",
    "handle_duplicates(profit)"
   ]
  },
  {
   "cell_type": "markdown",
   "id": "2b47dc52",
   "metadata": {},
   "source": [
    "### Преобразуем данные к соответствующим типам"
   ]
  },
  {
   "cell_type": "code",
   "execution_count": 10,
   "id": "66bc9779",
   "metadata": {},
   "outputs": [],
   "source": [
    "def replace_fp_delimiter(columns, df):\n",
    "    for col in columns:\n",
    "        df[col] = df[col].str.replace(\",\", \".\")"
   ]
  },
  {
   "cell_type": "code",
   "execution_count": 11,
   "id": "74dd28cd",
   "metadata": {},
   "outputs": [],
   "source": [
    "float_columns = [\"прибыль\"]\n",
    "replace_fp_delimiter(float_columns, profit)\n",
    "profit = profit.astype({\"прибыль\": \"float\"})\n",
    "market_time = market_time.astype({\"период\": \"category\"})\n",
    "market_revenue = market_revenue.astype({\"период\": \"category\"})\n",
    "market = market.astype({\"покупательская_активность\": \"category\",\n",
    "                        \"тип_сервиса\": \"category\",\n",
    "                        \"популярная_категория\": \"category\"})\n",
    "\n",
    "market[\"разрешить_сообщать\"] = pd.Series([allow == \" да                \" for allow in market[\"разрешить_сообщать\"]], dtype=\"boolean\")"
   ]
  },
  {
   "cell_type": "code",
   "execution_count": 12,
   "id": "45f8d276",
   "metadata": {},
   "outputs": [
    {
     "data": {
      "text/html": [
       "<div>\n",
       "<style scoped>\n",
       "    .dataframe tbody tr th:only-of-type {\n",
       "        vertical-align: middle;\n",
       "    }\n",
       "\n",
       "    .dataframe tbody tr th {\n",
       "        vertical-align: top;\n",
       "    }\n",
       "\n",
       "    .dataframe thead th {\n",
       "        text-align: right;\n",
       "    }\n",
       "</style>\n",
       "<table border=\"1\" class=\"dataframe\">\n",
       "  <thead>\n",
       "    <tr style=\"text-align: right;\">\n",
       "      <th></th>\n",
       "      <th>id</th>\n",
       "      <th>покупательская_активность</th>\n",
       "      <th>тип_сервиса</th>\n",
       "      <th>разрешить_сообщать</th>\n",
       "      <th>маркет_актив_6_мес</th>\n",
       "      <th>маркет_актив_тек_мес</th>\n",
       "      <th>длительность</th>\n",
       "      <th>акционные_покупки</th>\n",
       "      <th>популярная_категория</th>\n",
       "      <th>средний_просмотр_категорий_за_визит</th>\n",
       "      <th>неоплаченные_продукты_штук_квартал</th>\n",
       "      <th>ошибка_сервиса</th>\n",
       "      <th>страниц_за_визит</th>\n",
       "    </tr>\n",
       "  </thead>\n",
       "  <tbody>\n",
       "    <tr>\n",
       "      <th>0</th>\n",
       "      <td>215348</td>\n",
       "      <td>Снизилась</td>\n",
       "      <td>премиум</td>\n",
       "      <td>True</td>\n",
       "      <td>3.4</td>\n",
       "      <td>5</td>\n",
       "      <td>121</td>\n",
       "      <td>0.0</td>\n",
       "      <td>Товары для детей</td>\n",
       "      <td>6</td>\n",
       "      <td>2</td>\n",
       "      <td>1</td>\n",
       "      <td>5</td>\n",
       "    </tr>\n",
       "  </tbody>\n",
       "</table>\n",
       "</div>"
      ],
      "text/plain": [
       "       id   покупательская_активность   тип_сервиса  разрешить_сообщать  \\\n",
       "0  215348   Снизилась                   премиум                    True   \n",
       "\n",
       "   маркет_актив_6_мес  маркет_актив_тек_мес  длительность  акционные_покупки  \\\n",
       "0                 3.4                     5           121                0.0   \n",
       "\n",
       "                    популярная_категория  средний_просмотр_категорий_за_визит  \\\n",
       "0   Товары для детей                                                        6   \n",
       "\n",
       "   неоплаченные_продукты_штук_квартал  ошибка_сервиса  страниц_за_визит  \n",
       "0                                   2               1                 5  "
      ]
     },
     "execution_count": 12,
     "metadata": {},
     "output_type": "execute_result"
    }
   ],
   "source": [
    "market.head(1)"
   ]
  },
  {
   "cell_type": "code",
   "execution_count": 13,
   "id": "2b8ca7e3",
   "metadata": {},
   "outputs": [
    {
     "name": "stdout",
     "output_type": "stream",
     "text": [
      "<class 'pandas.core.frame.DataFrame'>\n",
      "RangeIndex: 1300 entries, 0 to 1299\n",
      "Data columns (total 13 columns):\n",
      " #   Column                               Non-Null Count  Dtype   \n",
      "---  ------                               --------------  -----   \n",
      " 0   id                                   1300 non-null   int64   \n",
      " 1   покупательская_активность            1300 non-null   category\n",
      " 2   тип_сервиса                          1300 non-null   category\n",
      " 3   разрешить_сообщать                   1300 non-null   boolean \n",
      " 4   маркет_актив_6_мес                   1300 non-null   float64 \n",
      " 5   маркет_актив_тек_мес                 1300 non-null   int64   \n",
      " 6   длительность                         1300 non-null   int64   \n",
      " 7   акционные_покупки                    1300 non-null   float64 \n",
      " 8   популярная_категория                 1300 non-null   category\n",
      " 9   средний_просмотр_категорий_за_визит  1300 non-null   int64   \n",
      " 10  неоплаченные_продукты_штук_квартал   1300 non-null   int64   \n",
      " 11  ошибка_сервиса                       1300 non-null   int64   \n",
      " 12  страниц_за_визит                     1300 non-null   int64   \n",
      "dtypes: boolean(1), category(3), float64(2), int64(7)\n",
      "memory usage: 98.3 KB\n"
     ]
    }
   ],
   "source": [
    "market.info()"
   ]
  },
  {
   "cell_type": "code",
   "execution_count": 14,
   "id": "0289dbd9",
   "metadata": {},
   "outputs": [
    {
     "data": {
      "text/plain": [
       "id                                     1300\n",
       "покупательская_активность                 2\n",
       "тип_сервиса                               3\n",
       "разрешить_сообщать                        2\n",
       "маркет_актив_6_мес                       41\n",
       "маркет_актив_тек_мес                      3\n",
       "длительность                            658\n",
       "акционные_покупки                        42\n",
       "популярная_категория                      6\n",
       "средний_просмотр_категорий_за_визит       6\n",
       "неоплаченные_продукты_штук_квартал       11\n",
       "ошибка_сервиса                           10\n",
       "страниц_за_визит                         20\n",
       "dtype: int64"
      ]
     },
     "execution_count": 14,
     "metadata": {},
     "output_type": "execute_result"
    }
   ],
   "source": [
    "market.nunique()"
   ]
  },
  {
   "cell_type": "code",
   "execution_count": 15,
   "id": "a051b57b",
   "metadata": {},
   "outputs": [
    {
     "data": {
      "text/html": [
       "<div>\n",
       "<style scoped>\n",
       "    .dataframe tbody tr th:only-of-type {\n",
       "        vertical-align: middle;\n",
       "    }\n",
       "\n",
       "    .dataframe tbody tr th {\n",
       "        vertical-align: top;\n",
       "    }\n",
       "\n",
       "    .dataframe thead th {\n",
       "        text-align: right;\n",
       "    }\n",
       "</style>\n",
       "<table border=\"1\" class=\"dataframe\">\n",
       "  <thead>\n",
       "    <tr style=\"text-align: right;\">\n",
       "      <th></th>\n",
       "      <th>id</th>\n",
       "      <th>период</th>\n",
       "      <th>выручка</th>\n",
       "    </tr>\n",
       "  </thead>\n",
       "  <tbody>\n",
       "    <tr>\n",
       "      <th>0</th>\n",
       "      <td>215348</td>\n",
       "      <td>препредыдущий_месяц</td>\n",
       "      <td>0.0</td>\n",
       "    </tr>\n",
       "  </tbody>\n",
       "</table>\n",
       "</div>"
      ],
      "text/plain": [
       "       id                период  выручка\n",
       "0  215348   препредыдущий_месяц      0.0"
      ]
     },
     "execution_count": 15,
     "metadata": {},
     "output_type": "execute_result"
    }
   ],
   "source": [
    "market_revenue.head(1)"
   ]
  },
  {
   "cell_type": "code",
   "execution_count": 16,
   "id": "db4999a0",
   "metadata": {},
   "outputs": [
    {
     "name": "stdout",
     "output_type": "stream",
     "text": [
      "<class 'pandas.core.frame.DataFrame'>\n",
      "RangeIndex: 3900 entries, 0 to 3899\n",
      "Data columns (total 3 columns):\n",
      " #   Column   Non-Null Count  Dtype   \n",
      "---  ------   --------------  -----   \n",
      " 0   id       3900 non-null   int64   \n",
      " 1   период   3900 non-null   category\n",
      " 2   выручка  3900 non-null   float64 \n",
      "dtypes: category(1), float64(1), int64(1)\n",
      "memory usage: 65.0 KB\n"
     ]
    }
   ],
   "source": [
    "market_revenue.info()"
   ]
  },
  {
   "cell_type": "code",
   "execution_count": 17,
   "id": "22b3c710",
   "metadata": {},
   "outputs": [
    {
     "data": {
      "text/plain": [
       "id         1300\n",
       "период        3\n",
       "выручка    2776\n",
       "dtype: int64"
      ]
     },
     "execution_count": 17,
     "metadata": {},
     "output_type": "execute_result"
    }
   ],
   "source": [
    "market_revenue.nunique()"
   ]
  },
  {
   "cell_type": "code",
   "execution_count": 18,
   "id": "88859992",
   "metadata": {},
   "outputs": [
    {
     "data": {
      "text/html": [
       "<div>\n",
       "<style scoped>\n",
       "    .dataframe tbody tr th:only-of-type {\n",
       "        vertical-align: middle;\n",
       "    }\n",
       "\n",
       "    .dataframe tbody tr th {\n",
       "        vertical-align: top;\n",
       "    }\n",
       "\n",
       "    .dataframe thead th {\n",
       "        text-align: right;\n",
       "    }\n",
       "</style>\n",
       "<table border=\"1\" class=\"dataframe\">\n",
       "  <thead>\n",
       "    <tr style=\"text-align: right;\">\n",
       "      <th></th>\n",
       "      <th>id</th>\n",
       "      <th>период</th>\n",
       "      <th>минут</th>\n",
       "    </tr>\n",
       "  </thead>\n",
       "  <tbody>\n",
       "    <tr>\n",
       "      <th>0</th>\n",
       "      <td>215348</td>\n",
       "      <td>текущий_месяц</td>\n",
       "      <td>14</td>\n",
       "    </tr>\n",
       "  </tbody>\n",
       "</table>\n",
       "</div>"
      ],
      "text/plain": [
       "       id             период  минут\n",
       "0  215348   текущий_месяц        14"
      ]
     },
     "execution_count": 18,
     "metadata": {},
     "output_type": "execute_result"
    }
   ],
   "source": [
    "market_time.head(1)"
   ]
  },
  {
   "cell_type": "code",
   "execution_count": 19,
   "id": "9986f481",
   "metadata": {},
   "outputs": [
    {
     "name": "stdout",
     "output_type": "stream",
     "text": [
      "<class 'pandas.core.frame.DataFrame'>\n",
      "RangeIndex: 2600 entries, 0 to 2599\n",
      "Data columns (total 3 columns):\n",
      " #   Column  Non-Null Count  Dtype   \n",
      "---  ------  --------------  -----   \n",
      " 0   id      2600 non-null   int64   \n",
      " 1   период  2600 non-null   category\n",
      " 2   минут   2600 non-null   int64   \n",
      "dtypes: category(1), int64(2)\n",
      "memory usage: 43.4 KB\n"
     ]
    }
   ],
   "source": [
    "market_time.info()"
   ]
  },
  {
   "cell_type": "code",
   "execution_count": 20,
   "id": "1b7e919f",
   "metadata": {},
   "outputs": [
    {
     "data": {
      "text/plain": [
       "id        1300\n",
       "период       2\n",
       "минут       20\n",
       "dtype: int64"
      ]
     },
     "execution_count": 20,
     "metadata": {},
     "output_type": "execute_result"
    }
   ],
   "source": [
    "market_time.nunique()"
   ]
  },
  {
   "cell_type": "code",
   "execution_count": 21,
   "id": "c90d0e6f",
   "metadata": {},
   "outputs": [
    {
     "data": {
      "text/html": [
       "<div>\n",
       "<style scoped>\n",
       "    .dataframe tbody tr th:only-of-type {\n",
       "        vertical-align: middle;\n",
       "    }\n",
       "\n",
       "    .dataframe tbody tr th {\n",
       "        vertical-align: top;\n",
       "    }\n",
       "\n",
       "    .dataframe thead th {\n",
       "        text-align: right;\n",
       "    }\n",
       "</style>\n",
       "<table border=\"1\" class=\"dataframe\">\n",
       "  <thead>\n",
       "    <tr style=\"text-align: right;\">\n",
       "      <th></th>\n",
       "      <th>id</th>\n",
       "      <th>прибыль</th>\n",
       "    </tr>\n",
       "  </thead>\n",
       "  <tbody>\n",
       "    <tr>\n",
       "      <th>0</th>\n",
       "      <td>215348</td>\n",
       "      <td>0.98</td>\n",
       "    </tr>\n",
       "  </tbody>\n",
       "</table>\n",
       "</div>"
      ],
      "text/plain": [
       "       id  прибыль\n",
       "0  215348     0.98"
      ]
     },
     "execution_count": 21,
     "metadata": {},
     "output_type": "execute_result"
    }
   ],
   "source": [
    "profit.head(1)"
   ]
  },
  {
   "cell_type": "markdown",
   "id": "562b6c5f",
   "metadata": {},
   "source": [
    "Заметим, что значение прибыли на 3 порядка ниже выручки, что кажется подозрительным"
   ]
  },
  {
   "cell_type": "code",
   "execution_count": 22,
   "id": "1f26993b",
   "metadata": {},
   "outputs": [
    {
     "name": "stdout",
     "output_type": "stream",
     "text": [
      "<class 'pandas.core.frame.DataFrame'>\n",
      "RangeIndex: 1300 entries, 0 to 1299\n",
      "Data columns (total 2 columns):\n",
      " #   Column   Non-Null Count  Dtype  \n",
      "---  ------   --------------  -----  \n",
      " 0   id       1300 non-null   int64  \n",
      " 1   прибыль  1300 non-null   float64\n",
      "dtypes: float64(1), int64(1)\n",
      "memory usage: 20.4 KB\n"
     ]
    }
   ],
   "source": [
    "profit.info()"
   ]
  },
  {
   "cell_type": "code",
   "execution_count": 23,
   "id": "1f9c655b",
   "metadata": {},
   "outputs": [
    {
     "data": {
      "text/plain": [
       "id         1300\n",
       "прибыль     400\n",
       "dtype: int64"
      ]
     },
     "execution_count": 23,
     "metadata": {},
     "output_type": "execute_result"
    }
   ],
   "source": [
    "profit.nunique()"
   ]
  },
  {
   "cell_type": "markdown",
   "id": "bb6ebf08",
   "metadata": {},
   "source": [
    "### Проверим наличие пропусков в данных"
   ]
  },
  {
   "cell_type": "code",
   "execution_count": 24,
   "id": "1d92806b",
   "metadata": {},
   "outputs": [
    {
     "data": {
      "text/plain": [
       "id                                     0\n",
       "покупательская_активность              0\n",
       "тип_сервиса                            0\n",
       "разрешить_сообщать                     0\n",
       "маркет_актив_6_мес                     0\n",
       "маркет_актив_тек_мес                   0\n",
       "длительность                           0\n",
       "акционные_покупки                      0\n",
       "популярная_категория                   0\n",
       "средний_просмотр_категорий_за_визит    0\n",
       "неоплаченные_продукты_штук_квартал     0\n",
       "ошибка_сервиса                         0\n",
       "страниц_за_визит                       0\n",
       "dtype: int64"
      ]
     },
     "execution_count": 24,
     "metadata": {},
     "output_type": "execute_result"
    }
   ],
   "source": [
    "market.isna().sum()"
   ]
  },
  {
   "cell_type": "code",
   "execution_count": 25,
   "id": "b2ca154b",
   "metadata": {},
   "outputs": [
    {
     "data": {
      "text/plain": [
       "id         0\n",
       "период     0\n",
       "выручка    0\n",
       "dtype: int64"
      ]
     },
     "execution_count": 25,
     "metadata": {},
     "output_type": "execute_result"
    }
   ],
   "source": [
    "market_revenue.isna().sum()"
   ]
  },
  {
   "cell_type": "code",
   "execution_count": 26,
   "id": "7ca36bb8",
   "metadata": {},
   "outputs": [
    {
     "data": {
      "text/plain": [
       "id        0\n",
       "период    0\n",
       "минут     0\n",
       "dtype: int64"
      ]
     },
     "execution_count": 26,
     "metadata": {},
     "output_type": "execute_result"
    }
   ],
   "source": [
    "market_time.isna().sum()"
   ]
  },
  {
   "cell_type": "code",
   "execution_count": 27,
   "id": "b21716f9",
   "metadata": {},
   "outputs": [
    {
     "data": {
      "text/plain": [
       "id         0\n",
       "прибыль    0\n",
       "dtype: int64"
      ]
     },
     "execution_count": 27,
     "metadata": {},
     "output_type": "execute_result"
    }
   ],
   "source": [
    "profit.isna().sum()"
   ]
  },
  {
   "cell_type": "markdown",
   "id": "2f4727bf",
   "metadata": {},
   "source": [
    "### Исправим описки в данных"
   ]
  },
  {
   "cell_type": "code",
   "execution_count": 28,
   "id": "2f604286",
   "metadata": {},
   "outputs": [],
   "source": [
    "market[\"тип_сервиса\"] = market[\"тип_сервиса\"].replace({\" стандартт  \": \"стандарт\",\n",
    "                                                       \" стандарт   \": \"стандарт\",\n",
    "                                                      \" премиум    \": \"премиум\"})\n",
    "market_time[\"период\"] = market_time[\"период\"].replace({\" предыдцщий_месяц\": \"предыдyщий_месяц\",\n",
    "                                                       \" текущий_месяц   \": \"текущий_месяц\"})\n",
    "market_revenue[\"период\"] = market_revenue[\"период\"].replace({\" препредыдущий_месяц\": \"препредыдущий_месяц\",\n",
    "                                                       \" текущий_месяц      \": \"текущий_месяц\",\n",
    "                                                       \" предыдущий_месяц   \": \"предыдущий_месяц\"})"
   ]
  },
  {
   "cell_type": "code",
   "execution_count": 29,
   "id": "ba9a6949",
   "metadata": {},
   "outputs": [
    {
     "data": {
      "text/plain": [
       "array([[215348, 'препредыдущий_месяц', 0.0],\n",
       "       [215348, 'текущий_месяц', 3293.1],\n",
       "       [215348, 'предыдущий_месяц', 0.0],\n",
       "       ...,\n",
       "       [216647, 'предыдущий_месяц', 4720.0],\n",
       "       [216647, 'препредыдущий_месяц', 5183.0],\n",
       "       [216647, 'текущий_месяц', 4448.3]], dtype=object)"
      ]
     },
     "execution_count": 29,
     "metadata": {},
     "output_type": "execute_result"
    }
   ],
   "source": [
    "market_revenue.values"
   ]
  },
  {
   "cell_type": "markdown",
   "id": "7ce171a6",
   "metadata": {},
   "source": [
    "## Исследовательский анализ данных"
   ]
  },
  {
   "cell_type": "markdown",
   "id": "77bea9e4",
   "metadata": {},
   "source": [
    "### Рассмотрим описательную статистику данных"
   ]
  },
  {
   "cell_type": "code",
   "execution_count": 30,
   "id": "774b6588",
   "metadata": {},
   "outputs": [
    {
     "data": {
      "text/html": [
       "<div>\n",
       "<style scoped>\n",
       "    .dataframe tbody tr th:only-of-type {\n",
       "        vertical-align: middle;\n",
       "    }\n",
       "\n",
       "    .dataframe tbody tr th {\n",
       "        vertical-align: top;\n",
       "    }\n",
       "\n",
       "    .dataframe thead th {\n",
       "        text-align: right;\n",
       "    }\n",
       "</style>\n",
       "<table border=\"1\" class=\"dataframe\">\n",
       "  <thead>\n",
       "    <tr style=\"text-align: right;\">\n",
       "      <th></th>\n",
       "      <th>id</th>\n",
       "      <th>маркет_актив_6_мес</th>\n",
       "      <th>маркет_актив_тек_мес</th>\n",
       "      <th>длительность</th>\n",
       "      <th>акционные_покупки</th>\n",
       "      <th>средний_просмотр_категорий_за_визит</th>\n",
       "      <th>неоплаченные_продукты_штук_квартал</th>\n",
       "      <th>ошибка_сервиса</th>\n",
       "      <th>страниц_за_визит</th>\n",
       "    </tr>\n",
       "  </thead>\n",
       "  <tbody>\n",
       "    <tr>\n",
       "      <th>count</th>\n",
       "      <td>1300.000000</td>\n",
       "      <td>1300.000000</td>\n",
       "      <td>1300.000000</td>\n",
       "      <td>1300.000000</td>\n",
       "      <td>1300.000000</td>\n",
       "      <td>1300.00000</td>\n",
       "      <td>1300.000000</td>\n",
       "      <td>1300.000000</td>\n",
       "      <td>1300.000000</td>\n",
       "    </tr>\n",
       "    <tr>\n",
       "      <th>mean</th>\n",
       "      <td>215997.500000</td>\n",
       "      <td>4.253769</td>\n",
       "      <td>4.011538</td>\n",
       "      <td>601.898462</td>\n",
       "      <td>0.319808</td>\n",
       "      <td>3.27000</td>\n",
       "      <td>2.840000</td>\n",
       "      <td>4.185385</td>\n",
       "      <td>8.176923</td>\n",
       "    </tr>\n",
       "    <tr>\n",
       "      <th>std</th>\n",
       "      <td>375.421985</td>\n",
       "      <td>1.014814</td>\n",
       "      <td>0.696868</td>\n",
       "      <td>249.856289</td>\n",
       "      <td>0.249843</td>\n",
       "      <td>1.35535</td>\n",
       "      <td>1.971451</td>\n",
       "      <td>1.955298</td>\n",
       "      <td>3.978126</td>\n",
       "    </tr>\n",
       "    <tr>\n",
       "      <th>min</th>\n",
       "      <td>215348.000000</td>\n",
       "      <td>0.900000</td>\n",
       "      <td>3.000000</td>\n",
       "      <td>110.000000</td>\n",
       "      <td>0.000000</td>\n",
       "      <td>1.00000</td>\n",
       "      <td>0.000000</td>\n",
       "      <td>0.000000</td>\n",
       "      <td>1.000000</td>\n",
       "    </tr>\n",
       "    <tr>\n",
       "      <th>25%</th>\n",
       "      <td>215672.750000</td>\n",
       "      <td>3.700000</td>\n",
       "      <td>4.000000</td>\n",
       "      <td>405.500000</td>\n",
       "      <td>0.170000</td>\n",
       "      <td>2.00000</td>\n",
       "      <td>1.000000</td>\n",
       "      <td>3.000000</td>\n",
       "      <td>5.000000</td>\n",
       "    </tr>\n",
       "    <tr>\n",
       "      <th>50%</th>\n",
       "      <td>215997.500000</td>\n",
       "      <td>4.200000</td>\n",
       "      <td>4.000000</td>\n",
       "      <td>606.000000</td>\n",
       "      <td>0.240000</td>\n",
       "      <td>3.00000</td>\n",
       "      <td>3.000000</td>\n",
       "      <td>4.000000</td>\n",
       "      <td>8.000000</td>\n",
       "    </tr>\n",
       "    <tr>\n",
       "      <th>75%</th>\n",
       "      <td>216322.250000</td>\n",
       "      <td>4.900000</td>\n",
       "      <td>4.000000</td>\n",
       "      <td>806.000000</td>\n",
       "      <td>0.300000</td>\n",
       "      <td>4.00000</td>\n",
       "      <td>4.000000</td>\n",
       "      <td>6.000000</td>\n",
       "      <td>11.000000</td>\n",
       "    </tr>\n",
       "    <tr>\n",
       "      <th>max</th>\n",
       "      <td>216647.000000</td>\n",
       "      <td>6.600000</td>\n",
       "      <td>5.000000</td>\n",
       "      <td>1079.000000</td>\n",
       "      <td>0.990000</td>\n",
       "      <td>6.00000</td>\n",
       "      <td>10.000000</td>\n",
       "      <td>9.000000</td>\n",
       "      <td>20.000000</td>\n",
       "    </tr>\n",
       "  </tbody>\n",
       "</table>\n",
       "</div>"
      ],
      "text/plain": [
       "                  id  маркет_актив_6_мес  маркет_актив_тек_мес  длительность  \\\n",
       "count    1300.000000         1300.000000           1300.000000   1300.000000   \n",
       "mean   215997.500000            4.253769              4.011538    601.898462   \n",
       "std       375.421985            1.014814              0.696868    249.856289   \n",
       "min    215348.000000            0.900000              3.000000    110.000000   \n",
       "25%    215672.750000            3.700000              4.000000    405.500000   \n",
       "50%    215997.500000            4.200000              4.000000    606.000000   \n",
       "75%    216322.250000            4.900000              4.000000    806.000000   \n",
       "max    216647.000000            6.600000              5.000000   1079.000000   \n",
       "\n",
       "       акционные_покупки  средний_просмотр_категорий_за_визит  \\\n",
       "count        1300.000000                           1300.00000   \n",
       "mean            0.319808                              3.27000   \n",
       "std             0.249843                              1.35535   \n",
       "min             0.000000                              1.00000   \n",
       "25%             0.170000                              2.00000   \n",
       "50%             0.240000                              3.00000   \n",
       "75%             0.300000                              4.00000   \n",
       "max             0.990000                              6.00000   \n",
       "\n",
       "       неоплаченные_продукты_штук_квартал  ошибка_сервиса  страниц_за_визит  \n",
       "count                         1300.000000     1300.000000       1300.000000  \n",
       "mean                             2.840000        4.185385          8.176923  \n",
       "std                              1.971451        1.955298          3.978126  \n",
       "min                              0.000000        0.000000          1.000000  \n",
       "25%                              1.000000        3.000000          5.000000  \n",
       "50%                              3.000000        4.000000          8.000000  \n",
       "75%                              4.000000        6.000000         11.000000  \n",
       "max                             10.000000        9.000000         20.000000  "
      ]
     },
     "execution_count": 30,
     "metadata": {},
     "output_type": "execute_result"
    }
   ],
   "source": [
    "market.describe()"
   ]
  },
  {
   "cell_type": "markdown",
   "id": "58215ef0",
   "metadata": {},
   "source": [
    "Большинство пользователей пользуяются сайтом более 3 месяцев, что хорошо для целей исследования. Остальная статистика выглядит адекватно и не вызывает вопросов."
   ]
  },
  {
   "cell_type": "code",
   "execution_count": 31,
   "id": "b4cadaa0",
   "metadata": {},
   "outputs": [
    {
     "data": {
      "text/html": [
       "<div>\n",
       "<style scoped>\n",
       "    .dataframe tbody tr th:only-of-type {\n",
       "        vertical-align: middle;\n",
       "    }\n",
       "\n",
       "    .dataframe tbody tr th {\n",
       "        vertical-align: top;\n",
       "    }\n",
       "\n",
       "    .dataframe thead th {\n",
       "        text-align: right;\n",
       "    }\n",
       "</style>\n",
       "<table border=\"1\" class=\"dataframe\">\n",
       "  <thead>\n",
       "    <tr style=\"text-align: right;\">\n",
       "      <th></th>\n",
       "      <th>id</th>\n",
       "      <th>выручка</th>\n",
       "    </tr>\n",
       "  </thead>\n",
       "  <tbody>\n",
       "    <tr>\n",
       "      <th>count</th>\n",
       "      <td>3900.000000</td>\n",
       "      <td>3900.000000</td>\n",
       "    </tr>\n",
       "    <tr>\n",
       "      <th>mean</th>\n",
       "      <td>215997.500000</td>\n",
       "      <td>5025.696051</td>\n",
       "    </tr>\n",
       "    <tr>\n",
       "      <th>std</th>\n",
       "      <td>375.325686</td>\n",
       "      <td>1777.704104</td>\n",
       "    </tr>\n",
       "    <tr>\n",
       "      <th>min</th>\n",
       "      <td>215348.000000</td>\n",
       "      <td>0.000000</td>\n",
       "    </tr>\n",
       "    <tr>\n",
       "      <th>25%</th>\n",
       "      <td>215672.750000</td>\n",
       "      <td>4590.150000</td>\n",
       "    </tr>\n",
       "    <tr>\n",
       "      <th>50%</th>\n",
       "      <td>215997.500000</td>\n",
       "      <td>4957.500000</td>\n",
       "    </tr>\n",
       "    <tr>\n",
       "      <th>75%</th>\n",
       "      <td>216322.250000</td>\n",
       "      <td>5363.000000</td>\n",
       "    </tr>\n",
       "    <tr>\n",
       "      <th>max</th>\n",
       "      <td>216647.000000</td>\n",
       "      <td>106862.200000</td>\n",
       "    </tr>\n",
       "  </tbody>\n",
       "</table>\n",
       "</div>"
      ],
      "text/plain": [
       "                  id        выручка\n",
       "count    3900.000000    3900.000000\n",
       "mean   215997.500000    5025.696051\n",
       "std       375.325686    1777.704104\n",
       "min    215348.000000       0.000000\n",
       "25%    215672.750000    4590.150000\n",
       "50%    215997.500000    4957.500000\n",
       "75%    216322.250000    5363.000000\n",
       "max    216647.000000  106862.200000"
      ]
     },
     "execution_count": 31,
     "metadata": {},
     "output_type": "execute_result"
    }
   ],
   "source": [
    "market_revenue.describe()"
   ]
  },
  {
   "cell_type": "markdown",
   "id": "6a4dd690",
   "metadata": {},
   "source": [
    "Пользователь, принёсший компании наибольшую выручку потратил примерно в 20 раз больше, чем тратят обычно. Стоит держать во внимании, что это можно воспринимать как аномалию и стоит рассмотреть подробнее позже."
   ]
  },
  {
   "cell_type": "code",
   "execution_count": 32,
   "id": "812ad2ce",
   "metadata": {},
   "outputs": [
    {
     "data": {
      "text/html": [
       "<div>\n",
       "<style scoped>\n",
       "    .dataframe tbody tr th:only-of-type {\n",
       "        vertical-align: middle;\n",
       "    }\n",
       "\n",
       "    .dataframe tbody tr th {\n",
       "        vertical-align: top;\n",
       "    }\n",
       "\n",
       "    .dataframe thead th {\n",
       "        text-align: right;\n",
       "    }\n",
       "</style>\n",
       "<table border=\"1\" class=\"dataframe\">\n",
       "  <thead>\n",
       "    <tr style=\"text-align: right;\">\n",
       "      <th></th>\n",
       "      <th>id</th>\n",
       "      <th>минут</th>\n",
       "    </tr>\n",
       "  </thead>\n",
       "  <tbody>\n",
       "    <tr>\n",
       "      <th>count</th>\n",
       "      <td>2600.000000</td>\n",
       "      <td>2600.000000</td>\n",
       "    </tr>\n",
       "    <tr>\n",
       "      <th>mean</th>\n",
       "      <td>215997.500000</td>\n",
       "      <td>13.336154</td>\n",
       "    </tr>\n",
       "    <tr>\n",
       "      <th>std</th>\n",
       "      <td>375.349754</td>\n",
       "      <td>4.080198</td>\n",
       "    </tr>\n",
       "    <tr>\n",
       "      <th>min</th>\n",
       "      <td>215348.000000</td>\n",
       "      <td>4.000000</td>\n",
       "    </tr>\n",
       "    <tr>\n",
       "      <th>25%</th>\n",
       "      <td>215672.750000</td>\n",
       "      <td>10.000000</td>\n",
       "    </tr>\n",
       "    <tr>\n",
       "      <th>50%</th>\n",
       "      <td>215997.500000</td>\n",
       "      <td>13.000000</td>\n",
       "    </tr>\n",
       "    <tr>\n",
       "      <th>75%</th>\n",
       "      <td>216322.250000</td>\n",
       "      <td>16.000000</td>\n",
       "    </tr>\n",
       "    <tr>\n",
       "      <th>max</th>\n",
       "      <td>216647.000000</td>\n",
       "      <td>23.000000</td>\n",
       "    </tr>\n",
       "  </tbody>\n",
       "</table>\n",
       "</div>"
      ],
      "text/plain": [
       "                  id        минут\n",
       "count    2600.000000  2600.000000\n",
       "mean   215997.500000    13.336154\n",
       "std       375.349754     4.080198\n",
       "min    215348.000000     4.000000\n",
       "25%    215672.750000    10.000000\n",
       "50%    215997.500000    13.000000\n",
       "75%    216322.250000    16.000000\n",
       "max    216647.000000    23.000000"
      ]
     },
     "execution_count": 32,
     "metadata": {},
     "output_type": "execute_result"
    }
   ],
   "source": [
    "market_time.describe()"
   ]
  },
  {
   "cell_type": "markdown",
   "id": "1e8e4aad",
   "metadata": {},
   "source": [
    "Значения времени, проведённого пользователями на сайте выглядит адекватно и не вызывает вопросов."
   ]
  },
  {
   "cell_type": "code",
   "execution_count": 33,
   "id": "b5fa1f2a",
   "metadata": {},
   "outputs": [
    {
     "data": {
      "text/html": [
       "<div>\n",
       "<style scoped>\n",
       "    .dataframe tbody tr th:only-of-type {\n",
       "        vertical-align: middle;\n",
       "    }\n",
       "\n",
       "    .dataframe tbody tr th {\n",
       "        vertical-align: top;\n",
       "    }\n",
       "\n",
       "    .dataframe thead th {\n",
       "        text-align: right;\n",
       "    }\n",
       "</style>\n",
       "<table border=\"1\" class=\"dataframe\">\n",
       "  <thead>\n",
       "    <tr style=\"text-align: right;\">\n",
       "      <th></th>\n",
       "      <th>id</th>\n",
       "      <th>прибыль</th>\n",
       "    </tr>\n",
       "  </thead>\n",
       "  <tbody>\n",
       "    <tr>\n",
       "      <th>count</th>\n",
       "      <td>1300.000000</td>\n",
       "      <td>1300.000000</td>\n",
       "    </tr>\n",
       "    <tr>\n",
       "      <th>mean</th>\n",
       "      <td>215997.500000</td>\n",
       "      <td>3.996631</td>\n",
       "    </tr>\n",
       "    <tr>\n",
       "      <th>std</th>\n",
       "      <td>375.421985</td>\n",
       "      <td>1.013722</td>\n",
       "    </tr>\n",
       "    <tr>\n",
       "      <th>min</th>\n",
       "      <td>215348.000000</td>\n",
       "      <td>0.860000</td>\n",
       "    </tr>\n",
       "    <tr>\n",
       "      <th>25%</th>\n",
       "      <td>215672.750000</td>\n",
       "      <td>3.300000</td>\n",
       "    </tr>\n",
       "    <tr>\n",
       "      <th>50%</th>\n",
       "      <td>215997.500000</td>\n",
       "      <td>4.045000</td>\n",
       "    </tr>\n",
       "    <tr>\n",
       "      <th>75%</th>\n",
       "      <td>216322.250000</td>\n",
       "      <td>4.670000</td>\n",
       "    </tr>\n",
       "    <tr>\n",
       "      <th>max</th>\n",
       "      <td>216647.000000</td>\n",
       "      <td>7.430000</td>\n",
       "    </tr>\n",
       "  </tbody>\n",
       "</table>\n",
       "</div>"
      ],
      "text/plain": [
       "                  id      прибыль\n",
       "count    1300.000000  1300.000000\n",
       "mean   215997.500000     3.996631\n",
       "std       375.421985     1.013722\n",
       "min    215348.000000     0.860000\n",
       "25%    215672.750000     3.300000\n",
       "50%    215997.500000     4.045000\n",
       "75%    216322.250000     4.670000\n",
       "max    216647.000000     7.430000"
      ]
     },
     "execution_count": 33,
     "metadata": {},
     "output_type": "execute_result"
    }
   ],
   "source": [
    "profit.describe()"
   ]
  },
  {
   "cell_type": "markdown",
   "id": "9faffffe",
   "metadata": {},
   "source": [
    "Значения прриьыли выражены в условных единицах, как и значения выручки от пользователей. Однако, они на 3 порядка меньше, чем значения выручки. Делаем вывод, что это ошибка т.к. при таких значениях маржинальности бизнес не мог бы существовать. Поэтому исправим значения увеличив их на 3 порядка."
   ]
  },
  {
   "cell_type": "code",
   "execution_count": 34,
   "id": "d896be60",
   "metadata": {},
   "outputs": [],
   "source": [
    "profit[\"прибыль\"] = profit[\"прибыль\"] * 1000"
   ]
  },
  {
   "cell_type": "markdown",
   "id": "38981f12",
   "metadata": {},
   "source": [
    "### Далее построим графики частот для количественных признаков."
   ]
  },
  {
   "cell_type": "markdown",
   "id": "52fa44e9",
   "metadata": {},
   "source": [
    "Для анализа выберем клиентов с покупательской активностью не менее трёх месяцев"
   ]
  },
  {
   "cell_type": "code",
   "execution_count": 35,
   "id": "683eb1d8",
   "metadata": {},
   "outputs": [],
   "source": [
    "market = market[market[\"длительность\"] > 90]"
   ]
  },
  {
   "cell_type": "code",
   "execution_count": 36,
   "id": "da722a0b",
   "metadata": {},
   "outputs": [
    {
     "data": {
      "image/png": "[encoded data removed]",
      "text/plain": [
       "<Figure size 1000x600 with 1 Axes>"
      ]
     },
     "metadata": {},
     "output_type": "display_data"
    }
   ],
   "source": [
    "plt.figure(figsize=(10,6))\n",
    "\n",
    "plt.hist(market[\"маркет_актив_6_мес\"], bins=30, alpha=0.5, label=\"6 месяцев\", color=\"blue\")\n",
    "plt.hist(market[\"маркет_актив_тек_мес\"], bins=30, alpha=0.5, label=\"Текущий месяц\", color=\"orange\")\n",
    "\n",
    "plt.xlabel(\"Значения активности\")\n",
    "plt.ylabel(\"Частота\")\n",
    "plt.title(\"Сравнение распределений: маркет_актив_6_мес vs маркет_актив_тек_мес\")\n",
    "plt.legend()\n",
    "plt.grid(True)\n",
    "\n",
    "plt.show()"
   ]
  },
  {
   "cell_type": "markdown",
   "id": "56f977b8",
   "metadata": {},
   "source": [
    "Частота маркетинговой активности мультимодальна с модой 4 и локальной модой вц 5.5 коммуницаций в месяц. Так же заметны значения близкие к выбросам до 2 коммуникаций в месяц."
   ]
  },
  {
   "cell_type": "code",
   "execution_count": 37,
   "id": "67f40847",
   "metadata": {},
   "outputs": [
    {
     "data": {
      "image/png": "[encoded data removed]",
      "text/plain": [
       "<Figure size 1000x600 with 1 Axes>"
      ]
     },
     "metadata": {},
     "output_type": "display_data"
    }
   ],
   "source": [
    "plt.figure(figsize=(10,6))\n",
    "\n",
    "plt.hist(market[\"длительность\"], bins=30, color=\"green\", edgecolor=\"black\", alpha=0.7)\n",
    "\n",
    "plt.xlabel(\"Дней на платформе\")\n",
    "plt.ylabel(\"Частота\")\n",
    "plt.title(\"Распределение значений 'длительность'\")\n",
    "plt.grid(True)\n",
    "\n",
    "plt.show()"
   ]
  },
  {
   "cell_type": "markdown",
   "id": "64d17b7b",
   "metadata": {},
   "source": [
    "Длительность пребывания пользователей на платформе распределена схоже с нормальным распеределением без явных выбросов и аномалий."
   ]
  },
  {
   "cell_type": "code",
   "execution_count": 38,
   "id": "51b09ab8",
   "metadata": {},
   "outputs": [
    {
     "data": {
      "image/png": "[encoded data removed]",
      "text/plain": [
       "<Figure size 1000x600 with 1 Axes>"
      ]
     },
     "metadata": {},
     "output_type": "display_data"
    }
   ],
   "source": [
    "plt.figure(figsize=(10,6))\n",
    "\n",
    "plt.hist(market[\"акционные_покупки\"], bins=30, color=\"purple\", edgecolor=\"black\", alpha=0.7)\n",
    "\n",
    "plt.xlabel(\"Доля акционных покупок\")\n",
    "plt.ylabel(\"Частота\")\n",
    "plt.title(\"Распределение значений 'акционные_покупки'\")\n",
    "plt.grid(True)\n",
    "\n",
    "plt.show()"
   ]
  },
  {
   "cell_type": "markdown",
   "id": "60fb0bcd",
   "metadata": {},
   "source": [
    "Доля акционных покупок распределена мультимодельно. Большинство пользователей покупает лишь треть покупок по акции. Но так же видно меньшее, но значимое, количество пользователей, которые стремятся покупать все товары по акции. "
   ]
  },
  {
   "cell_type": "code",
   "execution_count": 39,
   "id": "44ff143b",
   "metadata": {},
   "outputs": [
    {
     "data": {
      "image/png": "[encoded data removed]",
      "text/plain": [
       "<Figure size 1000x600 with 1 Axes>"
      ]
     },
     "metadata": {},
     "output_type": "display_data"
    }
   ],
   "source": [
    "plt.figure(figsize=(10,6))\n",
    "\n",
    "plt.hist(market[\"средний_просмотр_категорий_за_визит\"], \n",
    "         bins=range(market[\"средний_просмотр_категорий_за_визит\"].min(), \n",
    "                    market[\"средний_просмотр_категорий_за_визит\"].max() + 1), \n",
    "         align=\"left\", color=\"teal\", edgecolor=\"black\", alpha=0.7)\n",
    "\n",
    "plt.xlabel(\"Средний просмотр категорий за визит\")\n",
    "plt.ylabel(\"Частота\")\n",
    "plt.title(\"Распределение значений 'средний_просмотр_категорий_за_визит'\")\n",
    "plt.grid(True)\n",
    "\n",
    "plt.show()"
   ]
  },
  {
   "cell_type": "markdown",
   "id": "d09a345e",
   "metadata": {},
   "source": [
    "Большинство пользователей просматривает от 2 до 5 категорий за визит."
   ]
  },
  {
   "cell_type": "code",
   "execution_count": 40,
   "id": "36544738",
   "metadata": {},
   "outputs": [
    {
     "data": {
      "image/png": "[encoded data removed]",
      "text/plain": [
       "<Figure size 1000x600 with 1 Axes>"
      ]
     },
     "metadata": {},
     "output_type": "display_data"
    }
   ],
   "source": [
    "plt.figure(figsize=(10,6))\n",
    "\n",
    "plt.hist(market[\"неоплаченные_продукты_штук_квартал\"], \n",
    "         bins=range(market[\"неоплаченные_продукты_штук_квартал\"].min(), \n",
    "                    market[\"неоплаченные_продукты_штук_квартал\"].max() + 1), \n",
    "         align=\"left\", color=\"darkred\", edgecolor=\"black\", alpha=0.7)\n",
    "\n",
    "plt.xlabel(\"Количество неоплаченных продуктов за квартал\")\n",
    "plt.ylabel(\"Частота\")\n",
    "plt.title(\"Распределение значений 'неоплаченные_продукты_штук_квартал'\")\n",
    "plt.grid(True)\n",
    "\n",
    "plt.show()"
   ]
  },
  {
   "cell_type": "markdown",
   "id": "2512c6ae",
   "metadata": {},
   "source": [
    "Распределение количества оставленных в корзине без покупки товаров напоминает распределение Пуассона. Чаще всего пользователи оставляют около 2 таваров в корзине в течение 3 месяцев неоплеченными."
   ]
  },
  {
   "cell_type": "code",
   "execution_count": 41,
   "id": "a720f6bd",
   "metadata": {},
   "outputs": [
    {
     "data": {
      "image/png": "[encoded data removed]",
      "text/plain": [
       "<Figure size 1000x600 with 1 Axes>"
      ]
     },
     "metadata": {},
     "output_type": "display_data"
    }
   ],
   "source": [
    "plt.figure(figsize=(10,6))\n",
    "\n",
    "plt.hist(market[\"ошибка_сервиса\"], bins=30, color=\"orange\", edgecolor=\"black\", alpha=0.7)\n",
    "\n",
    "plt.xlabel(\"Количество ошибок сервиса\")\n",
    "plt.ylabel(\"Частота\")\n",
    "plt.title(\"Распределение значений 'ошибка_сервиса'\")\n",
    "plt.grid(True)\n",
    "\n",
    "plt.show()"
   ]
  },
  {
   "cell_type": "markdown",
   "id": "202c0680",
   "metadata": {},
   "source": [
    "Количество ошибок сервиса, с которыми сталкиваются пользователи в течение квартала при посещении сайта распределно нормально со средним значением в 4 ошибки за 3 месяца."
   ]
  },
  {
   "cell_type": "code",
   "execution_count": 42,
   "id": "684a7b2f",
   "metadata": {},
   "outputs": [
    {
     "data": {
      "image/png": "[encoded data removed]",
      "text/plain": [
       "<Figure size 1000x600 with 1 Axes>"
      ]
     },
     "metadata": {},
     "output_type": "display_data"
    }
   ],
   "source": [
    "plt.figure(figsize=(10,6))\n",
    "\n",
    "plt.hist(market[\"страниц_за_визит\"], \n",
    "         bins=range(market[\"страниц_за_визит\"].min(), \n",
    "                    market[\"страниц_за_визит\"].max() + 1), \n",
    "         align=\"left\", color=\"steelblue\", edgecolor=\"black\", alpha=0.7)\n",
    "\n",
    "plt.xlabel(\"Количество страниц за визит\")\n",
    "plt.ylabel(\"Частота\")\n",
    "plt.title(\"Распределение значений 'страниц_за_визит'\")\n",
    "plt.grid(True)\n",
    "\n",
    "plt.show()"
   ]
  },
  {
   "cell_type": "markdown",
   "id": "7706d7c7",
   "metadata": {},
   "source": [
    "Количество просмотренных пользователями страниц за визит в сервис распределно схоже с распределенгием Пуассона. Чаще всего пользователи просматривают около 6 страниц за сессию."
   ]
  },
  {
   "cell_type": "code",
   "execution_count": 43,
   "id": "d88ce5fc",
   "metadata": {},
   "outputs": [
    {
     "data": {
      "image/png": "[encoded data removed]",
      "text/plain": [
       "<Figure size 1000x600 with 1 Axes>"
      ]
     },
     "metadata": {},
     "output_type": "display_data"
    }
   ],
   "source": [
    "merged_df = pd.merge(market, market_revenue, on=\"id\", how=\"inner\")\n",
    "\n",
    "plt.figure(figsize=(10,6))\n",
    "\n",
    "plt.hist(merged_df[\"выручка\"], bins=30, color=\"darkblue\", edgecolor=\"black\", alpha=0.7)\n",
    "\n",
    "plt.xlabel(\"Выручка\")\n",
    "plt.ylabel(\"Частота\")\n",
    "plt.title(\"Распределение значений 'выручка'\")\n",
    "plt.grid(True)\n",
    "\n",
    "plt.show()"
   ]
  },
  {
   "cell_type": "markdown",
   "id": "cb21eaf0",
   "metadata": {},
   "source": [
    "Явно заметно наличие аномальных значений выручки на графике. Избавимся от них."
   ]
  },
  {
   "cell_type": "code",
   "execution_count": 44,
   "id": "97f09fb3",
   "metadata": {},
   "outputs": [
    {
     "data": {
      "image/png": "[encoded data removed]",
      "text/plain": [
       "<Figure size 1000x600 with 1 Axes>"
      ]
     },
     "metadata": {},
     "output_type": "display_data"
    }
   ],
   "source": [
    "market_revenue = market_revenue[\n",
    "    (market_revenue[\"выручка\"] <= 20_000) & \n",
    "    (market_revenue[\"выручка\"] > 10)\n",
    "]\n",
    "\n",
    "merged_df = pd.merge(market, market_revenue, on=\"id\", how=\"inner\")\n",
    "\n",
    "mean_value = merged_df[\"выручка\"].mean()\n",
    "mean_value_rounded = round(mean_value)\n",
    "\n",
    "plt.figure(figsize=(10,6))\n",
    "\n",
    "plt.hist(merged_df[\"выручка\"], bins=30, color=\"darkblue\", edgecolor=\"black\", alpha=0.7)\n",
    "plt.axvline(mean_value, color=\"red\", linestyle=\"--\", linewidth=2, label=f\"Среднее = {mean_value_rounded}\")\n",
    "plt.text(mean_value * 1.02, plt.ylim()[1]*0.9, str(mean_value_rounded), \n",
    "         color=\"red\", fontsize=12, fontweight=\"bold\")\n",
    "plt.xlabel(\"Выручка\")\n",
    "plt.ylabel(\"Частота\")\n",
    "plt.title(\"Распределение значений 'выручка'\")\n",
    "plt.grid(True)\n",
    "plt.legend()\n",
    "\n",
    "plt.show()\n"
   ]
  },
  {
   "cell_type": "markdown",
   "id": "72719f9a",
   "metadata": {},
   "source": [
    "После фильтрации выбросов распеределение выручки напоминает нормальное со средним в примерно 5000 у.е."
   ]
  },
  {
   "cell_type": "code",
   "execution_count": 45,
   "id": "69ee74e1",
   "metadata": {},
   "outputs": [
    {
     "data": {
      "image/png": "[encoded data removed]",
      "text/plain": [
       "<Figure size 1000x600 with 1 Axes>"
      ]
     },
     "metadata": {},
     "output_type": "display_data"
    }
   ],
   "source": [
    "import matplotlib.pyplot as plt\n",
    "import pandas as pd\n",
    "\n",
    "# Объединяем по id\n",
    "merged_time = pd.merge(market, market_time, on=\"id\", how=\"inner\")\n",
    "\n",
    "# Вычисляем среднее\n",
    "mean_minutes = merged_time[\"минут\"].mean()\n",
    "mean_minutes_rounded = round(mean_minutes)\n",
    "\n",
    "plt.figure(figsize=(10,6))\n",
    "\n",
    "# Гистограмма\n",
    "plt.hist(merged_time[\"минут\"], bins=30, color=\"darkgreen\", edgecolor=\"black\", alpha=0.7)\n",
    "\n",
    "# Вертикальная линия среднего значения\n",
    "plt.axvline(mean_minutes, color=\"red\", linestyle=\"--\", linewidth=2, \n",
    "            label=f\"Среднее = {mean_minutes_rounded}\")\n",
    "\n",
    "# Подпись справа сверху от линии\n",
    "plt.text(mean_minutes * 1.02, plt.ylim()[1]*0.9, str(mean_minutes_rounded),\n",
    "         color=\"red\", fontsize=12, fontweight=\"bold\")\n",
    "\n",
    "# Подписи и оформление\n",
    "plt.xlabel(\"Минуты сессии пользователя\")\n",
    "plt.ylabel(\"Частота\")\n",
    "plt.title(\"Распределение значений 'минут'\")\n",
    "plt.grid(True)\n",
    "plt.legend()\n",
    "\n",
    "plt.show()\n"
   ]
  },
  {
   "cell_type": "markdown",
   "id": "d3a88d35",
   "metadata": {},
   "source": [
    "Минуты распределены схоже с нормальным распределением со средним в 13 минут проведённых в сервисе за одну сессию. "
   ]
  },
  {
   "cell_type": "code",
   "execution_count": 46,
   "id": "8d0127bd",
   "metadata": {},
   "outputs": [
    {
     "data": {
      "image/png": "[encoded data removed]",
      "text/plain": [
       "<Figure size 1000x600 with 1 Axes>"
      ]
     },
     "metadata": {},
     "output_type": "display_data"
    }
   ],
   "source": [
    "merged_profit = pd.merge(market, profit, on=\"id\", how=\"inner\")\n",
    "\n",
    "mean_val = profit[\"прибыль\"].mean()\n",
    "mean_val_round = round(mean_val)\n",
    "\n",
    "plt.figure(figsize=(10, 6))\n",
    "\n",
    "plt.hist(profit[\"прибыль\"], bins=30, color=\"midnightblue\", edgecolor=\"black\", alpha=0.75)\n",
    "plt.axvline(mean_val, color=\"red\", linestyle=\"--\", linewidth=2, label=f\"Среднее = {mean_val_round}\")\n",
    "ymax = plt.ylim()[1]\n",
    "plt.text(mean_val * 1.02, ymax * 0.9, str(mean_val_round),\n",
    "         color=\"red\", fontweight=\"bold\", va=\"top\")\n",
    "\n",
    "plt.xlabel(\"Прибыль\")\n",
    "plt.ylabel(\"Частота\")\n",
    "plt.title(\"Распределение значений 'прибыль'\")\n",
    "plt.grid(True, axis=\"y\", alpha=0.3)\n",
    "plt.legend()\n",
    "\n",
    "plt.show()\n"
   ]
  },
  {
   "cell_type": "markdown",
   "id": "113b3d0d",
   "metadata": {},
   "source": [
    "Прибыль распределена схоже с нормальным распределениес со средним значением около 4000 у.е."
   ]
  },
  {
   "cell_type": "markdown",
   "id": "6c9c774e",
   "metadata": {},
   "source": [
    "### Рассмотрим частоты распределения качестыенных характеристик"
   ]
  },
  {
   "cell_type": "code",
   "execution_count": 47,
   "id": "e73926e8",
   "metadata": {},
   "outputs": [
    {
     "data": {
      "image/png": "[encoded data removed]",
      "text/plain": [
       "<Figure size 800x800 with 1 Axes>"
      ]
     },
     "metadata": {},
     "output_type": "display_data"
    }
   ],
   "source": [
    "activity_counts = market[\"покупательская_активность\"].value_counts()\n",
    "\n",
    "plt.figure(figsize=(8,8))\n",
    "\n",
    "plt.pie(activity_counts, \n",
    "        labels=activity_counts.index, \n",
    "        autopct='%1.1f%%', \n",
    "        startangle=90, \n",
    "        colors=plt.cm.Set2.colors)\n",
    "\n",
    "plt.title(\"Распределение 'покупательская_активность'\")\n",
    "plt.show()"
   ]
  },
  {
   "cell_type": "markdown",
   "id": "5ed591cc",
   "metadata": {},
   "source": [
    "Примерно у трети пользователей целевой признак покупательской активности снизился в последнее время"
   ]
  },
  {
   "cell_type": "code",
   "execution_count": 48,
   "id": "c9ca5715",
   "metadata": {},
   "outputs": [
    {
     "data": {
      "image/png": "[encoded data removed]",
      "text/plain": [
       "<Figure size 800x800 with 1 Axes>"
      ]
     },
     "metadata": {},
     "output_type": "display_data"
    }
   ],
   "source": [
    "service_counts = market[\"тип_сервиса\"].value_counts()\n",
    "\n",
    "plt.figure(figsize=(8,8))\n",
    "\n",
    "plt.pie(service_counts, \n",
    "        labels=service_counts.index, \n",
    "        autopct='%1.1f%%', \n",
    "        startangle=90, \n",
    "        colors=plt.cm.Paired.colors)\n",
    "\n",
    "plt.title(\"Распределение 'тип_сервиса'\")\n",
    "plt.show()"
   ]
  },
  {
   "cell_type": "markdown",
   "id": "819becd5",
   "metadata": {},
   "source": [
    "Чуть менее трети пользователей пользуются подпиской."
   ]
  },
  {
   "cell_type": "code",
   "execution_count": 49,
   "id": "2d712a88",
   "metadata": {},
   "outputs": [
    {
     "data": {
      "image/png": "[encoded data removed]",
      "text/plain": [
       "<Figure size 600x600 with 1 Axes>"
      ]
     },
     "metadata": {},
     "output_type": "display_data"
    }
   ],
   "source": [
    "allow_counts = market[\"разрешить_сообщать\"].value_counts()\n",
    "\n",
    "plt.figure(figsize=(6,6))\n",
    "\n",
    "plt.pie(allow_counts, \n",
    "        labels=[\"Разрешено\", \"Запрещено\"], \n",
    "        autopct='%1.1f%%', \n",
    "        startangle=90, \n",
    "        colors=[\"green\", \"red\"])\n",
    "\n",
    "plt.title(\"Распределение 'разрешить_сообщать'\")\n",
    "plt.show()\n"
   ]
  },
  {
   "cell_type": "markdown",
   "id": "56ef5168",
   "metadata": {},
   "source": [
    "Около четверти пользователей запретили присылать им маркетинговые сообщения."
   ]
  },
  {
   "cell_type": "code",
   "execution_count": 50,
   "id": "bb7084ef",
   "metadata": {},
   "outputs": [
    {
     "data": {
      "image/png": "[encoded data removed]",
      "text/plain": [
       "<Figure size 800x800 with 1 Axes>"
      ]
     },
     "metadata": {},
     "output_type": "display_data"
    }
   ],
   "source": [
    "popular_counts = market[\"популярная_категория\"].value_counts()\n",
    "\n",
    "plt.figure(figsize=(8,8))\n",
    "\n",
    "plt.pie(popular_counts, \n",
    "        labels=popular_counts.index, \n",
    "        autopct='%1.1f%%', \n",
    "        startangle=90, \n",
    "        colors=plt.cm.tab20.colors)  # палитра для множества категорий\n",
    "\n",
    "plt.title(\"Распределение 'популярная_категория'\")\n",
    "plt.show()\n"
   ]
  },
  {
   "cell_type": "markdown",
   "id": "32cb98f4",
   "metadata": {},
   "source": [
    "Чаще всего пользователи покупают товары из дщетской и текстильной категорий."
   ]
  },
  {
   "cell_type": "markdown",
   "id": "06a3f102",
   "metadata": {},
   "source": [
    "**Промежуточный вывод**:\n",
    "\n",
    "Провели ознакомление с данными продаж, очистили данные от выбросов и аномалий."
   ]
  },
  {
   "cell_type": "markdown",
   "id": "b6b96bba",
   "metadata": {},
   "source": [
    "## Объединим таблицы"
   ]
  },
  {
   "cell_type": "code",
   "execution_count": 51,
   "id": "3a5f9f43",
   "metadata": {},
   "outputs": [],
   "source": [
    "merged_profit = pd.merge(market, profit, on=\"id\", how=\"left\")"
   ]
  },
  {
   "cell_type": "markdown",
   "id": "e53b35dc",
   "metadata": {},
   "source": [
    "Создадим новые колонки на основании периода."
   ]
  },
  {
   "cell_type": "code",
   "execution_count": 52,
   "id": "9f66d955",
   "metadata": {},
   "outputs": [],
   "source": [
    "def add_period_columns(df, col_end):\n",
    "    for period in df[\"период\"].unique():\n",
    "        df = df.assign(**{\n",
    "            f\"{period}_{col_end}\": df.apply(lambda x: x[col_end] if x[\"период\"] == period else None, axis=1)\n",
    "        })\n",
    "    return df\n",
    "\n",
    "market_time = market_time.groupby(\"период\", group_keys=False).apply(lambda x: add_period_columns(x, \"минут\"))\n",
    "market_time.drop(\"минут\", axis = 1, inplace = True)"
   ]
  },
  {
   "cell_type": "code",
   "execution_count": 53,
   "id": "25a42b5b",
   "metadata": {},
   "outputs": [
    {
     "data": {
      "text/html": [
       "<div>\n",
       "<style scoped>\n",
       "    .dataframe tbody tr th:only-of-type {\n",
       "        vertical-align: middle;\n",
       "    }\n",
       "\n",
       "    .dataframe tbody tr th {\n",
       "        vertical-align: top;\n",
       "    }\n",
       "\n",
       "    .dataframe thead th {\n",
       "        text-align: right;\n",
       "    }\n",
       "</style>\n",
       "<table border=\"1\" class=\"dataframe\">\n",
       "  <thead>\n",
       "    <tr style=\"text-align: right;\">\n",
       "      <th></th>\n",
       "      <th>id</th>\n",
       "      <th>период</th>\n",
       "      <th>предыдyщий_месяц_минут</th>\n",
       "      <th>текущий_месяц_минут</th>\n",
       "    </tr>\n",
       "  </thead>\n",
       "  <tbody>\n",
       "    <tr>\n",
       "      <th>1</th>\n",
       "      <td>215348</td>\n",
       "      <td>предыдyщий_месяц</td>\n",
       "      <td>13.0</td>\n",
       "      <td>NaN</td>\n",
       "    </tr>\n",
       "    <tr>\n",
       "      <th>3</th>\n",
       "      <td>215349</td>\n",
       "      <td>предыдyщий_месяц</td>\n",
       "      <td>12.0</td>\n",
       "      <td>NaN</td>\n",
       "    </tr>\n",
       "    <tr>\n",
       "      <th>5</th>\n",
       "      <td>215350</td>\n",
       "      <td>предыдyщий_месяц</td>\n",
       "      <td>8.0</td>\n",
       "      <td>NaN</td>\n",
       "    </tr>\n",
       "    <tr>\n",
       "      <th>7</th>\n",
       "      <td>215351</td>\n",
       "      <td>предыдyщий_месяц</td>\n",
       "      <td>11.0</td>\n",
       "      <td>NaN</td>\n",
       "    </tr>\n",
       "    <tr>\n",
       "      <th>9</th>\n",
       "      <td>215352</td>\n",
       "      <td>предыдyщий_месяц</td>\n",
       "      <td>8.0</td>\n",
       "      <td>NaN</td>\n",
       "    </tr>\n",
       "  </tbody>\n",
       "</table>\n",
       "</div>"
      ],
      "text/plain": [
       "       id            период  предыдyщий_месяц_минут  текущий_месяц_минут\n",
       "1  215348  предыдyщий_месяц                    13.0                  NaN\n",
       "3  215349  предыдyщий_месяц                    12.0                  NaN\n",
       "5  215350  предыдyщий_месяц                     8.0                  NaN\n",
       "7  215351  предыдyщий_месяц                    11.0                  NaN\n",
       "9  215352  предыдyщий_месяц                     8.0                  NaN"
      ]
     },
     "execution_count": 53,
     "metadata": {},
     "output_type": "execute_result"
    }
   ],
   "source": [
    "market_time.head()"
   ]
  },
  {
   "cell_type": "code",
   "execution_count": 54,
   "id": "65b7a3ca",
   "metadata": {},
   "outputs": [],
   "source": [
    "merged_time = pd.merge(merged_profit, market_time, on=\"id\", how=\"left\")"
   ]
  },
  {
   "cell_type": "markdown",
   "id": "4973e4d6",
   "metadata": {},
   "source": [
    "Создадим новые колонки на основании периода."
   ]
  },
  {
   "cell_type": "code",
   "execution_count": 55,
   "id": "9fe45802",
   "metadata": {},
   "outputs": [],
   "source": [
    "market_revenue = market_revenue.groupby(\"период\", group_keys=False).apply(lambda x: add_period_columns(x, \"выручка\"))\n",
    "market_revenue.drop(\"выручка\", axis = 1, inplace = True)"
   ]
  },
  {
   "cell_type": "code",
   "execution_count": 57,
   "id": "050d3b09",
   "metadata": {},
   "outputs": [
    {
     "name": "stdout",
     "output_type": "stream",
     "text": [
      "<class 'pandas.core.frame.DataFrame'>\n",
      "Int64Index: 7786 entries, 0 to 7785\n",
      "Data columns (total 21 columns):\n",
      " #   Column                               Non-Null Count  Dtype   \n",
      "---  ------                               --------------  -----   \n",
      " 0   id                                   7786 non-null   int64   \n",
      " 1   покупательская_активность            7786 non-null   category\n",
      " 2   тип_сервиса                          7786 non-null   object  \n",
      " 3   разрешить_сообщать                   7786 non-null   boolean \n",
      " 4   маркет_актив_6_мес                   7786 non-null   float64 \n",
      " 5   маркет_актив_тек_мес                 7786 non-null   int64   \n",
      " 6   длительность                         7786 non-null   int64   \n",
      " 7   акционные_покупки                    7786 non-null   float64 \n",
      " 8   популярная_категория                 7786 non-null   category\n",
      " 9   средний_просмотр_категорий_за_визит  7786 non-null   int64   \n",
      " 10  неоплаченные_продукты_штук_квартал   7786 non-null   int64   \n",
      " 11  ошибка_сервиса                       7786 non-null   int64   \n",
      " 12  страниц_за_визит                     7786 non-null   int64   \n",
      " 13  прибыль                              7786 non-null   float64 \n",
      " 14  период_x                             7786 non-null   object  \n",
      " 15  предыдyщий_месяц_минут               3893 non-null   float64 \n",
      " 16  текущий_месяц_минут                  3893 non-null   float64 \n",
      " 17  период_y                             7786 non-null   object  \n",
      " 18  предыдущий_месяц_выручка             2594 non-null   float64 \n",
      " 19  препредыдущий_месяц_выручка          2594 non-null   float64 \n",
      " 20  текущий_месяц_выручка                2598 non-null   float64 \n",
      "dtypes: boolean(1), category(2), float64(8), int64(7), object(3)\n",
      "memory usage: 1.2+ MB\n"
     ]
    }
   ],
   "source": [
    "\n",
    "merged = pd.merge(merged_time, market_revenue, on=\"id\", how=\"left\")\n",
    "merged.info()"
   ]
  },
  {
   "cell_type": "code",
   "execution_count": null,
   "id": "476f393b",
   "metadata": {},
   "outputs": [],
   "source": [
    "own_herd = own_herd[own_herd[\"yield\"] < 15000]\n",
    "_, ax = plt.subplots()\n",
    "ax.set_title('Надой коров')\n",
    "ax.set_xlabel(\"Молока за год, кг\")\n",
    "ax.set_ylabel(\"Количество коров с таким надоем\")\n",
    "own_herd[\"yield\"].hist(bins=50)"
   ]
  },
  {
   "cell_type": "markdown",
   "id": "2b727356",
   "metadata": {},
   "source": [
    "Надой распределён унимодально. Коров, имеющих большие надои меньше. В целом, достаточно редко встречаются коровы с надоем больше 6900 кг в год."
   ]
  },
  {
   "cell_type": "code",
   "execution_count": null,
   "id": "fbf9357b",
   "metadata": {},
   "outputs": [],
   "source": [
    "_, ax = plt.subplots()\n",
    "ax.set_title('Питательность корма коров')\n",
    "ax.set_xlabel(\"Питательность корма\")\n",
    "ax.set_ylabel(\"Количество коров с соответствующим кормом\")\n",
    "own_herd[\"EFU\"].hist(bins=50)"
   ]
  },
  {
   "cell_type": "markdown",
   "id": "dd6aba81",
   "metadata": {},
   "source": [
    "На графике видно, что нескольким коровам попался корм с очень низкой энергетической ценностью. Стоит запомнить эту особенность и в дальнейшем решить, что с этим делать. Так же виден выброс, есть одна корова с крайне не питательнным кормом. Удалим её из выборки."
   ]
  },
  {
   "cell_type": "code",
   "execution_count": null,
   "id": "9f8e616a",
   "metadata": {},
   "outputs": [],
   "source": [
    "own_herd = own_herd[own_herd[\"EFU\"] > 11.5]\n",
    "_, ax = plt.subplots()\n",
    "ax.set_title('Питательность корма коров')\n",
    "ax.set_xlabel(\"Питательность корма\")\n",
    "ax.set_ylabel(\"Количество коров с соответствующим кормом\")\n",
    "own_herd[\"EFU\"].hist(bins=50)"
   ]
  },
  {
   "cell_type": "code",
   "execution_count": null,
   "id": "47c52ced",
   "metadata": {},
   "outputs": [],
   "source": [
    "_, ax = plt.subplots()\n",
    "ax.set_title('Сахаро-протеиновое соотношение корма коров')\n",
    "ax.set_xlabel(\"Отношение сахара к белкам\")\n",
    "ax.set_ylabel(\"Количество коров с соответствующим кормом\")\n",
    "own_herd[\"SPR\"].hist(bins=50)"
   ]
  },
  {
   "cell_type": "markdown",
   "id": "d42e1db5",
   "metadata": {},
   "source": [
    "Можно выделить три группы коров по сахаро-протеиновое соотношению в их корме: менее 0.87, от 0.87 до 0.91 и более 0.91. Рассмотрим как отличаются удой и вкус молока у коров из этих групп."
   ]
  },
  {
   "cell_type": "code",
   "execution_count": null,
   "id": "825250e5",
   "metadata": {},
   "outputs": [],
   "source": [
    "low_SPR = own_herd[own_herd[\"SPR\"] < 0.87]\n",
    "mid_SPR = own_herd[(own_herd[\"SPR\"] >= 0.87) & (own_herd[\"SPR\"] < 0.91)]\n",
    "high_SPR = own_herd[own_herd[\"SPR\"] >= 0.91]\n",
    "\n",
    "fig, (ax1, ax2) = plt.subplots(1, 2, figsize=(12, 4))\n",
    "line11 = ax1.hist(low_SPR[\"yield\"], bins=30, alpha = 0.4, color= 'r')\n",
    "line12 = ax1.hist(mid_SPR[\"yield\"], bins=30, alpha = 0.4, color= 'g')\n",
    "line13 = ax1.hist(high_SPR[\"yield\"], bins=30, alpha = 0.4, color= 'b')\n",
    "ax1.set_title('Надой по соотношению сахара к белку в корме')\n",
    "ax1.set_xlabel(\"Надой коров, кг\")\n",
    "ax1.set_ylabel(\"Количество коров с соответсвующим надоем\")\n",
    "ax1.legend(['Низкая питательность', 'Средняя питательность', 'Высокая питательность'])\n",
    "\n",
    "line21 = ax2.bar(1, low_SPR[low_SPR[\"is_milk_tasty\"]].shape[0] / low_SPR.shape[0], color= 'r', alpha = 0.4)\n",
    "line22 = ax2.bar(2, mid_SPR[mid_SPR[\"is_milk_tasty\"]].shape[0] / mid_SPR.shape[0], color= 'g', alpha = 0.4)\n",
    "line23 = ax2.bar(3, high_SPR[high_SPR[\"is_milk_tasty\"]].shape[0] / high_SPR.shape[0], color= 'b', alpha = 0.4)\n",
    "ax2.set_title('Вкус молока по сахара к белку в корме')\n",
    "ax2.set_ylabel(\"Вкусного молока в группе\")\n",
    "ax2.legend(['Высокая питательность', 'Средняя питательность', 'Низкая питательность'])\n",
    "\n",
    "plt.tight_layout()\n",
    "plt.show()"
   ]
  },
  {
   "cell_type": "markdown",
   "id": "c54a9109",
   "metadata": {},
   "source": [
    "Делаем вывод что питательность корма может влиять на надой. Только корм с высокими энергетическими кормовыми единицами позволяет получить большие надои. Так же делаем вывод, что корм с низкой питательностью делает молоко невкусным."
   ]
  },
  {
   "cell_type": "code",
   "execution_count": null,
   "id": "cccbd1f5",
   "metadata": {},
   "outputs": [],
   "source": [
    "_, ax = plt.subplots()\n",
    "ax.set_title('Содержание белка в корме коров')\n",
    "ax.set_xlabel(\"Содержание белка, г\")\n",
    "ax.set_ylabel(\"Количество коров с соответствующим кормом\")\n",
    "own_herd[\"raw_protein\"].hist(bins=50)"
   ]
  },
  {
   "cell_type": "markdown",
   "id": "6b34851d",
   "metadata": {},
   "source": [
    "Видно что чаще всего коровам дают около 1750 белка в корме. Однако большая чась коров получает меньше белка в корме."
   ]
  },
  {
   "cell_type": "code",
   "execution_count": null,
   "id": "56a004b3",
   "metadata": {},
   "outputs": [],
   "source": [
    "_, ax = plt.subplots()\n",
    "ax.set_title('Жирность молока коров')\n",
    "ax.set_xlabel(\"Жирность молока, %\")\n",
    "ax.set_ylabel(\"Количество коров с соответствующей жирностью молока\")\n",
    "own_herd[\"fatness\"].hist(bins=50)"
   ]
  },
  {
   "cell_type": "markdown",
   "id": "5fc3dc66",
   "metadata": {},
   "source": [
    "Видим, что значения жирности молока для большинства коров находятся в диапазоне 3.55% - 3.75%. Так же есть коровы, которые дают молоко с меньшей жирностью, но это редкость. Делаем вывод, что это не выбросы, т.к. таких коров достаточно много, а распределение этого признака, похоже, логнормальное.\n"
   ]
  },
  {
   "cell_type": "code",
   "execution_count": null,
   "id": "d4da6c9b",
   "metadata": {},
   "outputs": [],
   "source": [
    "_, ax = plt.subplots()\n",
    "ax.set_title('Количество белка в молоке коров')\n",
    "ax.set_xlabel(\"Белок, %\")\n",
    "ax.set_ylabel(\"Количество коров с соответствующим содержанием белка в молоке\")\n",
    "own_herd[\"proteins\"].hist(bins=50)"
   ]
  },
  {
   "cell_type": "markdown",
   "id": "4407f6c0",
   "metadata": {},
   "source": [
    "Содержание белка в молоке, похоже, распеределено нормально. Заметен выброс в сторону увеличения содержания белка. Т.к. выбросы составляют малую часть выборки по этому признаку, удалим их для лучшей стабилизации модели."
   ]
  },
  {
   "cell_type": "code",
   "execution_count": null,
   "id": "afe36fab",
   "metadata": {},
   "outputs": [],
   "source": [
    "\n",
    "own_herd = own_herd[own_herd[\"proteins\"] < 3.084]\n",
    "_, ax = plt.subplots()\n",
    "ax.set_title('Количество белка в молоке коров')\n",
    "ax.set_xlabel(\"Белок, %\")\n",
    "ax.set_ylabel(\"Количество коров с соответствующим содержанием белка в молоке\")\n",
    "own_herd[\"proteins\"].hist(bins=50)"
   ]
  },
  {
   "cell_type": "markdown",
   "id": "eeb05783",
   "metadata": {},
   "source": [
    "Далее рассмотрим категориальные признаки."
   ]
  },
  {
   "cell_type": "code",
   "execution_count": null,
   "id": "9a6d097a",
   "metadata": {},
   "outputs": [],
   "source": [
    "distribution = own_herd[\"breed\"].value_counts()\n",
    "fig, ax = plt.subplots()\n",
    "ax.pie(distribution, labels = distribution.index, autopct=\"%1.1f%%\")\n",
    "ax.set_title(\"Породы коров\")\n",
    "plt.show()"
   ]
  },
  {
   "cell_type": "markdown",
   "id": "18cae37e",
   "metadata": {},
   "source": [
    "В стеде фермера немного больше коров породы Вис Бик Айдиал."
   ]
  },
  {
   "cell_type": "code",
   "execution_count": null,
   "id": "79a73588",
   "metadata": {},
   "outputs": [],
   "source": [
    "distribution = own_herd[\"pasture_type\"].value_counts()\n",
    "fig, ax = plt.subplots()\n",
    "ax.pie(distribution, labels = distribution.index, autopct=\"%1.1f%%\")\n",
    "ax.set_title(\"Типы пастбищ\")\n",
    "plt.show()"
   ]
  },
  {
   "cell_type": "markdown",
   "id": "2e577c1b",
   "metadata": {},
   "source": [
    "Исправим описку и объеденим две одинаковые по сути категории."
   ]
  },
  {
   "cell_type": "code",
   "execution_count": null,
   "id": "ec53d57f",
   "metadata": {},
   "outputs": [],
   "source": [
    "own_herd[\"pasture_type\"].dtype"
   ]
  },
  {
   "cell_type": "code",
   "execution_count": null,
   "id": "2213e2cb",
   "metadata": {},
   "outputs": [],
   "source": [
    "own_herd[\"pasture_type\"] = own_herd[\"pasture_type\"].apply(lambda x: \"Равнинное\" if x == \"Равнинные\" else x)\n",
    "distribution = own_herd[\"pasture_type\"].value_counts()\n",
    "fig, ax = plt.subplots()\n",
    "ax.pie(distribution, labels = distribution.index, autopct=\"%1.1f%%\")\n",
    "ax.set_title(\"Типы пастбищ\")\n",
    "plt.show()"
   ]
  },
  {
   "cell_type": "markdown",
   "id": "68623f13",
   "metadata": {},
   "source": [
    "Незначительно больше коров паслись на холмистых пастбищах."
   ]
  },
  {
   "cell_type": "code",
   "execution_count": null,
   "id": "296647f6",
   "metadata": {},
   "outputs": [],
   "source": [
    "distribution = own_herd[\"ancestor_breed\"].value_counts()\n",
    "fig, ax = plt.subplots()\n",
    "ax.pie(distribution, labels = distribution.index, autopct=\"%1.1f%%\")\n",
    "ax.set_title(\"Порода родителя\")\n",
    "plt.show()"
   ]
  },
  {
   "cell_type": "markdown",
   "id": "38ef8ac6",
   "metadata": {},
   "source": [
    "Исправим описку и объеденим две одинаковые по сути категории."
   ]
  },
  {
   "cell_type": "code",
   "execution_count": null,
   "id": "a8a01322",
   "metadata": {},
   "outputs": [],
   "source": [
    "own_herd[\"ancestor_breed\"] = own_herd[\"ancestor_breed\"].apply(lambda x: \"Айдиал\" if x == \"Айдиалл\" else x)\n",
    "distribution = own_herd[\"ancestor_breed\"].value_counts()\n",
    "fig, ax = plt.subplots()\n",
    "ax.pie(distribution, labels = distribution.index, autopct=\"%1.1f%%\")\n",
    "ax.set_title(\"Порода родителя\")\n",
    "plt.show()"
   ]
  },
  {
   "cell_type": "markdown",
   "id": "d411d642",
   "metadata": {},
   "source": [
    "Почти одинаковое количество коров в стаде имеют происхождение Соверин и Айдиал."
   ]
  },
  {
   "cell_type": "code",
   "execution_count": null,
   "id": "a9b566a1",
   "metadata": {},
   "outputs": [],
   "source": [
    "distribution = own_herd[\"is_milk_tasty\"].value_counts()\n",
    "fig, ax = plt.subplots()\n",
    "ax.pie(distribution, labels = ['Вкусное', 'Невкусное'], autopct=\"%1.1f%%\")\n",
    "ax.set_title(\"Вкусовые качества молока\")\n",
    "plt.show()"
   ]
  },
  {
   "cell_type": "markdown",
   "id": "ea11cbcc",
   "metadata": {},
   "source": [
    "Чуть больше половины коров в стаде фермера дают вкусное по его мнению молоко. Вызывает вопросы к фермеру, зачем он держит таких коров, если считает их молоко невкусным..."
   ]
  },
  {
   "cell_type": "code",
   "execution_count": null,
   "id": "108a81eb",
   "metadata": {},
   "outputs": [],
   "source": [
    "distribution = own_herd[\"is_old\"].value_counts()\n",
    "fig, ax = plt.subplots()\n",
    "ax.pie(distribution, labels = [\"Старше 2 лет\", \"Моложе 2 лет\"], autopct=\"%1.1f%%\")\n",
    "ax.set_title(\"Возраст коровы\")\n",
    "plt.show()"
   ]
  },
  {
   "cell_type": "markdown",
   "id": "8bae32a4",
   "metadata": {},
   "source": [
    "Посмотрим на таблицу родителей коров в ферме."
   ]
  },
  {
   "cell_type": "code",
   "execution_count": null,
   "id": "5f66e473",
   "metadata": {},
   "outputs": [],
   "source": [
    "distribution = cows_ancestor[\"ancestor_name\"].value_counts()\n",
    "fig, ax = plt.subplots()\n",
    "ax.pie(distribution, labels = distribution.index, autopct=\"%1.1f%%\")\n",
    "ax.set_title(\"Отец коров\")\n",
    "plt.show()"
   ]
  },
  {
   "cell_type": "markdown",
   "id": "0bf144a2",
   "metadata": {},
   "source": [
    "Ничего особенного. Далее проанализируем данные продаваемых коров."
   ]
  },
  {
   "cell_type": "code",
   "execution_count": null,
   "id": "01db63e4",
   "metadata": {},
   "outputs": [],
   "source": [
    "_, ax = plt.subplots()\n",
    "ax.set_title('Жирность молока продаваемых коров')\n",
    "ax.set_xlabel(\"Жирность молока, %\")\n",
    "ax.set_ylabel(\"Количество коров с соответствующей жирностью молока\")\n",
    "sale_herd[\"fatness\"].hist(bins=30)"
   ]
  },
  {
   "cell_type": "markdown",
   "id": "4f14e183",
   "metadata": {},
   "source": [
    "Заметно, что у большего количества продаваемых коров жирность молока ниже средних и наиболее часто встречаемых значений стада фермера. "
   ]
  },
  {
   "cell_type": "code",
   "execution_count": null,
   "id": "a6811cc4",
   "metadata": {},
   "outputs": [],
   "source": [
    "_, ax = plt.subplots()\n",
    "ax.set_title('Количество белка в молоке продаваемых коров')\n",
    "ax.set_xlabel(\"Белок, %\")\n",
    "ax.set_ylabel(\"Количество коров с соответствующим содержанием белка в молоке\")\n",
    "sale_herd[\"proteins\"].hist(bins=30)"
   ]
  },
  {
   "cell_type": "code",
   "execution_count": null,
   "id": "3082674e",
   "metadata": {},
   "outputs": [],
   "source": [
    "distribution = sale_herd[\"breed\"].value_counts()\n",
    "fig, ax = plt.subplots()\n",
    "ax.pie(distribution, labels = distribution.index, autopct=\"%1.1f%%\")\n",
    "ax.set_title(\"Породы продаваемых коров\")\n",
    "plt.show()"
   ]
  },
  {
   "cell_type": "markdown",
   "id": "8b8c602c",
   "metadata": {},
   "source": [
    "Продаётся одинаковое количество коров с двумя разными породами."
   ]
  },
  {
   "cell_type": "code",
   "execution_count": null,
   "id": "e1593516",
   "metadata": {},
   "outputs": [],
   "source": [
    "distribution = sale_herd[\"pasture_type\"].value_counts()\n",
    "fig, ax = plt.subplots()\n",
    "ax.pie(distribution, labels = distribution.index, autopct=\"%1.1f%%\")\n",
    "ax.set_title(\"Типы пастбищ продаваемых коров\")\n",
    "plt.show()"
   ]
  },
  {
   "cell_type": "markdown",
   "id": "f3d8c941",
   "metadata": {},
   "source": [
    "Продаётся одинаковое количество коров пасущихся на двух разных типах пастбищ."
   ]
  },
  {
   "cell_type": "code",
   "execution_count": null,
   "id": "a26dfb24",
   "metadata": {},
   "outputs": [],
   "source": [
    "distribution = sale_herd[\"ancestor_breed\"].value_counts()\n",
    "fig, ax = plt.subplots()\n",
    "ax.pie(distribution, labels = distribution.index, autopct=\"%1.1f%%\")\n",
    "ax.set_title(\"Порода родителя продаваемых коров\")\n",
    "plt.show()"
   ]
  },
  {
   "cell_type": "markdown",
   "id": "a7aaded2",
   "metadata": {},
   "source": [
    "Большинство продаваемых коров породы Соверин."
   ]
  },
  {
   "cell_type": "code",
   "execution_count": null,
   "id": "3f340e1e",
   "metadata": {},
   "outputs": [],
   "source": [
    "distribution = sale_herd[\"is_old\"].value_counts()\n",
    "fig, ax = plt.subplots()\n",
    "ax.pie(distribution, labels = [\"Старше 2 лет\", \"Моложе 2 лет\"], autopct=\"%1.1f%%\")\n",
    "ax.set_title(\"Возраст продаваемых коров\")\n",
    "plt.show()"
   ]
  },
  {
   "cell_type": "markdown",
   "id": "a8a56ef7",
   "metadata": {},
   "source": [
    "В стаде продаваемых коров чуть больше молодых, с возрастом менее двух лет."
   ]
  },
  {
   "cell_type": "markdown",
   "id": "dd55335a",
   "metadata": {},
   "source": [
    "Распределение насыщенности белком молока продаваемых коров отличается от коров из стада фермера. Выборка меньше и содержит около половины коров с содержанием белка в молоке ниже, чем в стаде фермера."
   ]
  },
  {
   "cell_type": "markdown",
   "id": "733d85b8",
   "metadata": {},
   "source": [
    "В численных признаках коров фермера были устранены выбросы, в категориальных унифицированы классы.\n",
    "\n",
    "При анализе сахоро-протеинового соотношения коров фермера было выявлено три группы коров по этому признаку. Дальнейший анализ показал что низкая и средняя питательность корма негативно влияет на целевые признаки надоя и вкуса молока.\n",
    "\n",
    "Жирность молока коров фермера, похоже, распределена логнормально.\n",
    "\n",
    "Количество белка в молоке коров фермера, похоже, распределено нормально.\n",
    "\n",
    "Странным является факт, что частоты распределения родителя коров фермера и их породы различаются на 8.5%. В дальнейшем стоит постараться найти ответ, почему.\n",
    "\n",
    "Большинство коров фермера в стаде взрослые, т.е. старше двух лет.\n",
    "\n",
    "Для количественных данных имеет нужно провести стандартизацию признаков в ходе подготовки данных к обучению модели."
   ]
  },
  {
   "cell_type": "markdown",
   "id": "4e81e621",
   "metadata": {},
   "source": [
    "## Корреляционный анализ"
   ]
  },
  {
   "cell_type": "markdown",
   "id": "eebba543",
   "metadata": {},
   "source": [
    "Для начала построим кореляционную матрицу в виде тепловой карты."
   ]
  },
  {
   "cell_type": "code",
   "execution_count": null,
   "id": "6591835e",
   "metadata": {},
   "outputs": [],
   "source": [
    "ax = plt.axes()\n",
    "phi_k = own_herd.drop(\"id\", axis = 1).phik_matrix(interval_cols = [\"yield\", \"EFU\", \"raw_protein\", \"SPR\", \"fatness\", \"proteins\"])\n",
    "sns.heatmap(phi_k, cmap = \"YlGnBu\", annot = True)\n",
    "ax.set_title('Зависимость всех признаков между собой')\n",
    "plt.show()"
   ]
  },
  {
   "cell_type": "markdown",
   "id": "3076348c",
   "metadata": {},
   "source": [
    "Целевые признаки:\n",
    "1) Надой:\n",
    "    - сильно влияют на надой:\n",
    "        - возраст (старше 2 лет) коровы дают молоко\n",
    "        - питательности корма (EFU)\n",
    "        - жирность молока\n",
    "        - сахаро-протеиновое соотношение корма\n",
    "    - средне влияет на надой:\n",
    "        - порода отца коровы\n",
    "        - количество белков в корме коровы\n",
    "    - незначительно влияют на надой:\n",
    "        - тип пастбища\n",
    "        - вкусовые качества молока\n",
    "        - порода коровы\n",
    "    - почти не влияет на надой содержание белка в молоке коровы\n",
    "2) Вкус молока:\n",
    "    - вкус молока сильно зависит от:\n",
    "        - сахаро-протеинового соотношения корма\n",
    "    - в средней степени зависит от:\n",
    "        - питательности корма (EFU)\n",
    "        - тип пастбища\n",
    "        - жирность молока\n",
    "    - почти не влияют:\n",
    "        - содержание белка в корме\n",
    "        - надой\n",
    "        - возраст (старше 2 лет) коровы\n",
    "        - насыщенность молока белком\n",
    "    - совершенно не влияют:\n",
    "        - порода отца коровы\n",
    "        - порода коровы\n",
    "\n",
    "Зависимость признаков между собой:\n",
    "- возраст коровы и питательность её корма\n",
    "- жирность молока и питательность корма\n",
    "- питательность корма и сахаро-протеинового соотношение корма\n",
    "- возраст коровы и сахаро-протеинового соотношение корма\n",
    "- сахаро-протеинового соотношение корма и возраст коровы\n",
    "- жирность молока от возраста коровы\n"
   ]
  },
  {
   "cell_type": "markdown",
   "id": "5750a192",
   "metadata": {},
   "source": [
    "Делаем вывод, что для предсказания вкуса молока можно не использовать признаки, касающиеся породы коровы. Так же полезно рассмотреть типы зависимости для признаков с высокой и средней зависимостью с целевыми и так же построить зависимости выделенных выше прогнозных признаков между собой."
   ]
  },
  {
   "cell_type": "markdown",
   "id": "91cfa7a1",
   "metadata": {},
   "source": [
    "Построим наглядно зависимости целевых признаков от прогнозных."
   ]
  },
  {
   "cell_type": "code",
   "execution_count": null,
   "id": "fb202a5e",
   "metadata": {},
   "outputs": [],
   "source": [
    "features = [\n",
    "        (\"EFU\", \"Питательность корма\"), \n",
    "        (\"proteins\", \"Содержание белка в молоке\"), \n",
    "        (\"SPR\", \"Сахаро-протеиновое соотношение\"), \n",
    "        (\"raw_protein\", \"Содержание белка в корме\"), \n",
    "        (\"fatness\", \"Жирность молока\")\n",
    "    ]"
   ]
  },
  {
   "cell_type": "code",
   "execution_count": null,
   "id": "d046b46d",
   "metadata": {},
   "outputs": [],
   "source": [
    "fig, ax = plt.subplots(2, 3, figsize=(15, 10))\n",
    "for idx, (feature, feature_name) in enumerate(features):\n",
    "    color = [\"green\" if is_milk_tasty else \"red\" for is_milk_tasty in own_herd[\"is_milk_tasty\"]]\n",
    "    x = idx % 3\n",
    "    y = idx // 3\n",
    "    sct = ax[y, x].scatter(own_herd[feature].to_list(), own_herd[\"yield\"].to_list(), c=color,\n",
    "               alpha=0.3, edgecolors=\"none\")\n",
    "    ax[y, x].set_title(f\"Надой vs {feature_name}\")\n",
    "    ax[y, x].set(xlabel=feature_name, ylabel=\"Надой\")\n",
    "    legend_handles = [\n",
    "        mpatches.Patch(color=\"green\", label=\"Вкусное молоко\"),\n",
    "        mpatches.Patch(color=\"red\",   label=\"Невкусное молоко\"),\n",
    "    ]\n",
    "    ax[y, x].legend(handles=legend_handles)\n",
    "    ax[y, x].grid(True)\n",
    "ax[-1, -1].axis('off')\n",
    "\n",
    "plt.show()"
   ]
  },
  {
   "cell_type": "markdown",
   "id": "1e1dc448",
   "metadata": {},
   "source": [
    "Заметно, что надой линейно зависит от питательности корма. Так же чем выше питательность и сахаро-протеиновое соотношение корма, тем выше вкусовые качества молока. Содержание белка в молоке никак не влияет ни на жирность, ни на надой. Лучшим сахарно-протеиновым соотношением для вкуса молока являются значения выше 0.89 с исключением близким к 0.93. При этом характер зависимости сахаро-протеинового соотношения к надою нелинеен и явно показывает, что для болшьших надоев коровам стоит давать корм с соотношением выше 0.93. Содержание белка в корме почти никак не влияет на вкус и надой, что подтверждается графиком. Жирность молока положительно влияет на надой и вкус молока, но зависимость нелинейная."
   ]
  },
  {
   "cell_type": "code",
   "execution_count": null,
   "id": "3b0dbad4",
   "metadata": {},
   "outputs": [],
   "source": [
    "fig, ax = plt.subplots(2, 3, figsize=(15, 10))\n",
    "for idx, (feature, feature_name) in enumerate(features):\n",
    "    color = [\"green\" if breed == \"Вис Бик Айдиал\" else \"red\" for breed in own_herd[\"breed\"]]\n",
    "    x = idx % 3\n",
    "    y = idx // 3\n",
    "    sct = ax[y, x].scatter(own_herd[feature].to_list(), own_herd[\"yield\"].to_list(), c=color,\n",
    "               alpha=0.3, edgecolors=\"none\")\n",
    "    ax[y, x].set_title(f\"Надой vs {feature_name}\")\n",
    "    ax[y, x].set(xlabel=feature_name, ylabel=\"Надой\")\n",
    "    legend_handles = [\n",
    "        mpatches.Patch(color=\"green\", label=\"Вис Бик Айдиал\"),\n",
    "        mpatches.Patch(color=\"red\",   label=\"Рефлешн Соверинг\"),\n",
    "    ]\n",
    "    ax[y, x].legend(handles=legend_handles)\n",
    "    ax[y, x].grid(True)\n",
    "ax[-1, -1].axis('off')\n",
    "\n",
    "plt.show()"
   ]
  },
  {
   "cell_type": "markdown",
   "id": "1f1958da",
   "metadata": {},
   "source": [
    "Заметно, что содержание белка в молоке породы Вис Бик Айдиал больше. Так же молоко этой породы имеет чуть большую жирность."
   ]
  },
  {
   "cell_type": "code",
   "execution_count": null,
   "id": "fc2e580b",
   "metadata": {},
   "outputs": [],
   "source": [
    "fig, ax = plt.subplots(2, 3, figsize=(15, 10))\n",
    "for idx, (feature, feature_name) in enumerate(features):\n",
    "    color = [\"green\" if is_old else \"red\" for is_old in own_herd[\"is_old\"]]\n",
    "    x = idx % 3\n",
    "    y = idx // 3\n",
    "    sct = ax[y, x].scatter(own_herd[feature].to_list(), own_herd[\"yield\"].to_list(), c=color,\n",
    "               alpha=0.3, edgecolors=\"none\")\n",
    "    ax[y, x].set_title(f\"Надой vs {feature_name}\")\n",
    "    ax[y, x].set(xlabel=feature_name, ylabel=\"Надой\")\n",
    "    legend_handles = [\n",
    "        mpatches.Patch(color=\"green\", label=\"Взрослая\"),\n",
    "        mpatches.Patch(color=\"red\",   label=\"Не взрослая\"),\n",
    "    ]\n",
    "    ax[y, x].legend(handles=legend_handles)\n",
    "    ax[y, x].grid(True)\n",
    "ax[-1, -1].axis('off')\n",
    "\n",
    "plt.show()"
   ]
  },
  {
   "cell_type": "markdown",
   "id": "c54c0e8e",
   "metadata": {},
   "source": [
    "Возраст коров менее двух лет очевидным образом влияет на мелкие надои."
   ]
  },
  {
   "cell_type": "code",
   "execution_count": null,
   "id": "4c55a82e",
   "metadata": {},
   "outputs": [],
   "source": [
    "own_herd[\"pasture_type\"].value_counts()"
   ]
  },
  {
   "cell_type": "code",
   "execution_count": null,
   "id": "9d310275",
   "metadata": {},
   "outputs": [],
   "source": [
    "fig, ax = plt.subplots(2, 3, figsize=(15, 10))\n",
    "for idx, (feature, feature_name) in enumerate(features):\n",
    "    color = [\"green\" if pasture_type == \"Равнинное\" else \"red\" for pasture_type in own_herd[\"pasture_type\"]]\n",
    "    x = idx % 3\n",
    "    y = idx // 3\n",
    "    sct = ax[y, x].scatter(own_herd[feature].to_list(), own_herd[\"yield\"].to_list(), c=color,\n",
    "               alpha=0.3, edgecolors=\"none\")\n",
    "    ax[y, x].set_title(f\"Надой vs {feature_name}\")\n",
    "    ax[y, x].set(xlabel=feature_name, ylabel=\"Надой\")\n",
    "    legend_handles = [\n",
    "        mpatches.Patch(color=\"green\", label=\"Равнинное\"),\n",
    "        mpatches.Patch(color=\"red\",   label=\"Холмистое\"),\n",
    "    ]\n",
    "    ax[y, x].legend(handles=legend_handles)\n",
    "    ax[y, x].grid(True)\n",
    "ax[-1, -1].axis('off')\n",
    "\n",
    "plt.show()"
   ]
  },
  {
   "cell_type": "markdown",
   "id": "2013e3ce",
   "metadata": {},
   "source": [
    "Холмистый тип пастбища незначительно влияет на большую  жирность молока и большие надои."
   ]
  },
  {
   "cell_type": "markdown",
   "id": "15bc82a1",
   "metadata": {},
   "source": [
    "### Выводы о связях удоя и остальных признаков"
   ]
  },
  {
   "cell_type": "markdown",
   "id": "be3e391f",
   "metadata": {},
   "source": [
    "Для анализа мультиколлениарности визуализируем связь скоррелированного с питатьельностью признака."
   ]
  },
  {
   "cell_type": "code",
   "execution_count": null,
   "id": "ad79ec13",
   "metadata": {},
   "outputs": [],
   "source": [
    "fig, ax = plt.subplots(figsize=(10, 10))\n",
    "color = [\"green\" if is_milk_tasty else \"red\" for is_milk_tasty in own_herd[\"is_milk_tasty\"]]\n",
    "sct = ax.scatter(own_herd[\"EFU\"].to_list(), own_herd[\"fatness\"].to_list(), c=color,\n",
    "            alpha=0.3, edgecolors=\"none\")\n",
    "ax.set_title(f\"Питательность корма vs жирность молока\")\n",
    "ax.set(xlabel=\"питательность корма\", ylabel=\"жирность молока\")\n",
    "legend_handles = [\n",
    "    mpatches.Patch(color=\"green\", label=\"Вкусное молоко\"),\n",
    "    mpatches.Patch(color=\"red\",   label=\"Невкусное молоко\"),\n",
    "]\n",
    "ax.legend(handles=legend_handles)\n",
    "ax.grid(True)\n",
    "plt.show()"
   ]
  },
  {
   "cell_type": "markdown",
   "id": "a1f2abb9",
   "metadata": {},
   "source": [
    "- Связь надоя линейно зависима от питательности корма, нелинейно зависима от сахаро-протеинового соотношения и жирности молока, а для других количественных признаков несущественна. Так же на холмистых пастбищах надои незначительно выше.\n",
    "- Для жирности молока и сахаро-протеинового соотношения корма можно ввести новые категориальные признаки с 3 значениями.\n",
    "- Однозначно ответить на вопрос о мультиколлинеарности питательности корма и жирности молока не получается т.к. корреляция достаточно высокая, но диаграмма рассеяния не показывает явной связи между признаками. Вероятно, стоит дальше рассмотреть новый признак как отношение жирности молока к питательности корма т.к. питание является, вероятно, влияющим на жирность фактором. "
   ]
  },
  {
   "cell_type": "markdown",
   "id": "b1a0869f",
   "metadata": {},
   "source": [
    "## Обучение модели линейной регрессии"
   ]
  },
  {
   "cell_type": "markdown",
   "id": "b3d6037d",
   "metadata": {},
   "source": [
    "Т.к. ранее было отмечено, что только взрослые коровы могут давать большие надои и учитывая, что физиология взрослых и молодых коров различается, стоит исключить всех коров моложе двух лет из анализа."
   ]
  },
  {
   "cell_type": "code",
   "execution_count": null,
   "id": "45193daf",
   "metadata": {},
   "outputs": [],
   "source": [
    "own_herd = own_herd[own_herd[\"is_old\"] == True]"
   ]
  },
  {
   "cell_type": "markdown",
   "id": "04857cac",
   "metadata": {},
   "source": [
    "Оставим только числовые признаки для обучения модели линейной регрессии."
   ]
  },
  {
   "cell_type": "code",
   "execution_count": null,
   "id": "80ab3b75",
   "metadata": {},
   "outputs": [],
   "source": [
    "X = own_herd.drop([ \"yield\", \"id\", \"is_milk_tasty\", \"is_old\"], axis = 1)\n",
    "y = own_herd[\"yield\"]\n",
    "X_train, X_test, y_train, y_test_1 = train_test_split(X, y, test_size=0.2)\n",
    "X_train = pd.get_dummies(X_train, drop_first=True)\n",
    "X_test = pd.get_dummies(X_test, drop_first=True)\n",
    "scaler = StandardScaler()\n",
    "X_train_columns = X_train.columns\n",
    "scaler.fit(X_train)\n",
    "X_train = scaler.transform(X_train)\n",
    "X_test = scaler.transform(X_test.reindex(columns=X_train_columns, fill_value=0))\n",
    "\n",
    "model_1 = LinearRegression()\n",
    "model_1.fit(X_train, y_train)\n",
    "\n",
    "y_pred_1 = model_1.predict(X_test)\n"
   ]
  },
  {
   "cell_type": "markdown",
   "id": "a8d4ef55",
   "metadata": {},
   "source": [
    "Проанализируем качество получившейся модели."
   ]
  },
  {
   "cell_type": "code",
   "execution_count": null,
   "id": "9e1fbddf",
   "metadata": {},
   "outputs": [],
   "source": [
    "r2 = r2_score(y_test_1, y_pred_1)\n",
    "print(f\"Значение R2 первой модели: {r2}\")"
   ]
  },
  {
   "cell_type": "code",
   "execution_count": null,
   "id": "fafc8ac8",
   "metadata": {},
   "outputs": [],
   "source": [
    "residuals_1 = y_pred_1 - y_test_1\n",
    "fig, ax = plt.subplots(figsize=(10, 10))\n",
    "ax.hist(residuals_1, bins=50)\n",
    "ax.axvline(residuals_1.mean(), color='k', linestyle='dashed', linewidth=2, label=\"Средний остаток\")\n",
    "ax.text(10.2, 5 ,'Средний остаток',rotation=45, c=\"b\")\n",
    "ax.set_title(\"График остатков перовй модели\")\n",
    "ax.set(xlabel=\"Остаток модели\", ylabel=\"Частота остатка\")"
   ]
  },
  {
   "cell_type": "markdown",
   "id": "c84464f2",
   "metadata": {},
   "source": [
    "Заметны Выбросы в негативную сторону. Следовательно, модель иногда переоценивает значения надоя."
   ]
  },
  {
   "cell_type": "code",
   "execution_count": null,
   "id": "db6122d4",
   "metadata": {},
   "outputs": [],
   "source": [
    "fig, ax = plt.subplots(figsize=(10, 10))\n",
    "sct = ax.scatter(y_pred_1, residuals_1, alpha=0.6, edgecolors=\"none\")\n",
    "ax.set_title(f\"Рассеяние остатков перовй модели\")\n",
    "ax.set(xlabel=\"Прогноз модели\", ylabel=\"Остаток модели\")\n",
    "plt.show()"
   ]
  },
  {
   "cell_type": "markdown",
   "id": "1064d21c",
   "metadata": {},
   "source": [
    "Видно два кластера остатков и два выброса. Причём до 6100 литров надля в год остатки линейно зависят от надоя и ошибка предсказания модели линейно увеличивается для надоя в интервале от 5400 до 6100 литров в год. При показателях больше 6100  литров зависимость обратная и тоже похода на линейную. Следуюет выделить новые признаки и оставить те из исходных, которые лучше всего отражают линеёную связь с надоем."
   ]
  },
  {
   "cell_type": "markdown",
   "id": "38369431",
   "metadata": {},
   "source": [
    "Видно два кластера остатков и два выброса. Причём до 6100 литров надля в год остатки линейно зависят от надоя и ошибка предсказания модели линейно увеличивается для надоя в интервале от 5400 до 6100 литров в год. При показателях больше 6100  литров зависимость обратная и тоже похода на линейную. Следуюет выделить новые признаки и оставить те из исходных, которые лучше всего отражают линеёную связь с надоем."
   ]
  },
  {
   "cell_type": "markdown",
   "id": "5f5aee87",
   "metadata": {},
   "source": [
    "### Создание признаков"
   ]
  },
  {
   "cell_type": "markdown",
   "id": "b5d66cd2",
   "metadata": {},
   "source": [
    "Создадим категориальные признаки для сахаро-протеинового соотношения корма и жирности молока."
   ]
  },
  {
   "cell_type": "code",
   "execution_count": null,
   "id": "1d97e239",
   "metadata": {},
   "outputs": [],
   "source": [
    "SPR_lower_border = 0.87\n",
    "SPR_upper_border = 0.92\n",
    "own_herd[\"SPR_class\"] = own_herd[\"SPR\"].apply(lambda x: \"low\" \\\n",
    "    if x < SPR_lower_border else (\"high\" if x >= SPR_upper_border \\\n",
    "                else \"mid\"))\n",
    "\n",
    "fatness_lower_border = 3.55\n",
    "fatness_upper_border = 3.65\n",
    "own_herd[\"fatness_class\"] = own_herd[\"fatness\"].apply(lambda x: \"low\" \\\n",
    "    if x < fatness_lower_border else (\"high\" if x >= fatness_upper_border \\\n",
    "                else \"mid\"))"
   ]
  },
  {
   "cell_type": "markdown",
   "id": "1ba637cd",
   "metadata": {},
   "source": [
    "Добавим так же синтетический признак: отношение жирности молока к питательности корма. "
   ]
  },
  {
   "cell_type": "code",
   "execution_count": null,
   "id": "b9cdb6e4",
   "metadata": {},
   "outputs": [],
   "source": [
    "own_herd[\"fat_protein_ratio\"] = own_herd[\"fatness\"] / own_herd[\"proteins\"]"
   ]
  },
  {
   "cell_type": "markdown",
   "id": "fd387c3a",
   "metadata": {},
   "source": [
    "Проверим информатичность синтетического признака для предсказания надоя."
   ]
  },
  {
   "cell_type": "code",
   "execution_count": null,
   "id": "871c6887",
   "metadata": {},
   "outputs": [],
   "source": [
    "phi_k = own_herd.drop(\"id\", axis = 1).phik_matrix(interval_cols = [\"yield\", \"fat_protein_ratio\"])\n",
    "corr = phi_k[\"yield\"][\"fat_protein_ratio\"]\n",
    "print(f\"Корреляция надоя с жиро-белковым соотношением: {corr * 100:.2f}%\")"
   ]
  },
  {
   "cell_type": "code",
   "execution_count": null,
   "id": "671f98cf",
   "metadata": {},
   "outputs": [],
   "source": [
    "fig, ax = plt.subplots(figsize=(8, 8))\n",
    "sct = ax.scatter(own_herd[\"fat_protein_ratio\"], own_herd[\"yield\"], alpha=0.6, edgecolors=\"none\")\n",
    "ax.set_title(f\"Надой к жиро-белковому соотношению\")\n",
    "ax.set(xlabel=\"Отношение жира в молоке к белку в корме \", ylabel=\"Надой\")\n",
    "plt.show()"
   ]
  },
  {
   "cell_type": "markdown",
   "id": "61eef332",
   "metadata": {},
   "source": [
    "Сгенерированный признак оказался менее информативным, чем жирность молока т.к. корреляция этого признака с надоем ниже. "
   ]
  },
  {
   "cell_type": "markdown",
   "id": "a5e60591",
   "metadata": {},
   "source": [
    "Создадим новый признак \"питательность в квадрате\" (ЭКЕ в квадрате) и изучим, наскколько он информативен."
   ]
  },
  {
   "cell_type": "code",
   "execution_count": null,
   "id": "50f5707d",
   "metadata": {},
   "outputs": [],
   "source": [
    "own_herd[\"EFU_squared\"] = own_herd[\"EFU\"] ** 2\n",
    "\n",
    "phi_k = own_herd.drop(\"id\", axis = 1).phik_matrix(interval_cols = [\"yield\", \"EFU_squared\"])\n",
    "corr = phi_k[\"yield\"][\"EFU_squared\"]\n",
    "print(f\"Корреляция надоя квадратом питательности корма: {corr * 100:.2f}%\")"
   ]
  },
  {
   "cell_type": "code",
   "execution_count": null,
   "id": "4f068d54",
   "metadata": {},
   "outputs": [],
   "source": [
    "fig, ax = plt.subplots(figsize=(8, 8))\n",
    "sct = ax.scatter(own_herd[\"EFU_squared\"], own_herd[\"yield\"], alpha=0.6, edgecolors=\"none\")\n",
    "ax.set_title(f\"Надой к питательности в квадрате\")\n",
    "ax.set(xlabel=\"Питательность корма в квадрате\", ylabel=\"Надой\")\n",
    "plt.show()"
   ]
  },
  {
   "cell_type": "markdown",
   "id": "e91b53c4",
   "metadata": {},
   "source": [
    "Характер зависимости явно не изменился. Корреляция с целевым признаком уменьшилась. На изначальном графике рассеяния питательности к надою видна почти линейная зависимость признаков. Делаем вывод, что подсказка из текста задания ложная."
   ]
  },
  {
   "cell_type": "markdown",
   "id": "9196379b",
   "metadata": {},
   "source": [
    "### Вторая модель линейной регрессии"
   ]
  },
  {
   "cell_type": "code",
   "execution_count": null,
   "id": "e425b26a",
   "metadata": {},
   "outputs": [],
   "source": [
    "X = own_herd.drop([ \"yield\", \"id\", \"is_milk_tasty\", \"is_old\", \"EFU\", \"SPR\", \"proteins\", \"fatness\"], axis = 1)\n",
    "X_train, X_test, y_train, y_test_2 = train_test_split(X, y, test_size=0.2)\n",
    "X_train = pd.get_dummies(X_train, drop_first=True)\n",
    "X_test = pd.get_dummies(X_test, drop_first=True)\n",
    "scaler = StandardScaler()\n",
    "scaler.fit(X_train)\n",
    "X_train_columns = X_train.columns\n",
    "X_train = scaler.transform(X_train)\n",
    "X_test = scaler.transform(X_test.reindex(columns=X_train_columns, fill_value=0))\n",
    "\n",
    "model_2 = LinearRegression()\n",
    "model_2.fit(X_train, y_train)\n",
    "\n",
    "y_pred_2 = model_2.predict(X_test)"
   ]
  },
  {
   "cell_type": "markdown",
   "id": "8158ebc3",
   "metadata": {},
   "source": [
    "Проанализируем качество получившейся модели."
   ]
  },
  {
   "cell_type": "code",
   "execution_count": null,
   "id": "1a07edbb",
   "metadata": {},
   "outputs": [],
   "source": [
    "r2 = r2_score(y_test_2, y_pred_2)\n",
    "print(f\"Значение R2 второй модели: {r2}\")"
   ]
  },
  {
   "cell_type": "code",
   "execution_count": null,
   "id": "6fc9d910",
   "metadata": {},
   "outputs": [],
   "source": [
    "residuals_2 = y_pred_2 - y_test_2\n",
    "fig, ax = plt.subplots(figsize=(10, 10))\n",
    "ax.hist(residuals_2, bins=50)\n",
    "ax.axvline(residuals_2.mean(), color='k', linestyle='dashed', linewidth=2, label=\"Средний остаток\")\n",
    "ax.text(10.2, 5 ,'Средний остаток',rotation=45, c=\"b\")\n",
    "ax.set_title(\"График остатков второй модели\")\n",
    "ax.set(xlabel=\"Остаток модели\", ylabel=\"Частота остатка\")"
   ]
  },
  {
   "cell_type": "markdown",
   "id": "3774931e",
   "metadata": {},
   "source": [
    "Распределение остатков стало симметричным и без явно заметных выбросов."
   ]
  },
  {
   "cell_type": "code",
   "execution_count": null,
   "id": "dd2a0ae2",
   "metadata": {},
   "outputs": [],
   "source": [
    "fig, ax = plt.subplots(figsize=(10, 10))\n",
    "sct = ax.scatter(y_pred_2, residuals_2, alpha=0.6, edgecolors=\"none\")\n",
    "ax.set_title(f\"Рассеяние остатков второй модели\")\n",
    "ax.set(xlabel=\"Прогноз модели\", ylabel=\"Остаток модели\")\n",
    "plt.show()"
   ]
  },
  {
   "cell_type": "markdown",
   "id": "be0aaaf0",
   "metadata": {},
   "source": [
    "Всё ещё идно два кластера остатков. При этом разброс остатков стал чуть ниже и симметричнее для всех прогнозных значений. Модель в целом стала чуть лучше и по относительной метрике R^2 и по анализу графиков разброса остатков."
   ]
  },
  {
   "cell_type": "markdown",
   "id": "38ed5e20",
   "metadata": {},
   "source": [
    "### Третяя модель линейной регрессии"
   ]
  },
  {
   "cell_type": "markdown",
   "id": "25481c0f",
   "metadata": {},
   "source": [
    "Объединим таблицы для добавления нового признака."
   ]
  },
  {
   "cell_type": "code",
   "execution_count": null,
   "id": "89956533",
   "metadata": {},
   "outputs": [],
   "source": [
    "own_herd = pd.merge(own_herd, cows_ancestor, on=\"id\")"
   ]
  },
  {
   "cell_type": "markdown",
   "id": "4fa84557",
   "metadata": {},
   "source": [
    "Проанализируем связь нового признака с целевым."
   ]
  },
  {
   "cell_type": "code",
   "execution_count": null,
   "id": "a900d98a",
   "metadata": {},
   "outputs": [],
   "source": [
    "fig, ax = plt.subplots(figsize=(8, 8))\n",
    "sct = ax.scatter(own_herd[\"ancestor_name\"], own_herd[\"yield\"], alpha=0.6, edgecolors=\"none\")\n",
    "ax.set_title(f\"Надой к кличке родителя\")\n",
    "ax.set(xlabel=\"Кличка родителя\", ylabel=\"Надой\")\n",
    "plt.show()"
   ]
  },
  {
   "cell_type": "markdown",
   "id": "f4b71ffb",
   "metadata": {},
   "source": [
    "Подготовим данные и обучим третью модель."
   ]
  },
  {
   "cell_type": "code",
   "execution_count": null,
   "id": "1899d92f",
   "metadata": {},
   "outputs": [],
   "source": [
    "X = own_herd.drop([ \"yield\", \"id\", \"is_milk_tasty\", \"is_old\", \"EFU\", \"SPR\", \"proteins\", \"fatness\"], axis = 1)\n",
    "X_train_3, X_test, y_train_3, y_test_3 = train_test_split(X, y, test_size=0.2)\n",
    "X_train_3 = pd.get_dummies(X_train_3, drop_first=True)\n",
    "train_cols = X_train_3.columns\n",
    "X_test = pd.get_dummies(X_test, drop_first=True)\n",
    "scaler = StandardScaler()\n",
    "scaler.fit(X_train_3)\n",
    "X_train_3 = scaler.transform(X_train_3)\n",
    "X_test = scaler.transform(X_test)\n",
    "\n",
    "model_3 = LinearRegression()\n",
    "model_3.fit(X_train_3, y_train_3)\n",
    "\n",
    "y_pred_3 = model_3.predict(X_test)"
   ]
  },
  {
   "cell_type": "markdown",
   "id": "ae8f95cc",
   "metadata": {},
   "source": [
    "Проанализируем качество получившейся модели."
   ]
  },
  {
   "cell_type": "code",
   "execution_count": null,
   "id": "3a477532",
   "metadata": {},
   "outputs": [],
   "source": [
    "r2 = r2_score(y_test_3, y_pred_3)\n",
    "print(f\"Значение R2 третей модели: {r2}\")"
   ]
  },
  {
   "cell_type": "code",
   "execution_count": null,
   "id": "845b6527",
   "metadata": {},
   "outputs": [],
   "source": [
    "residuals_3 = y_pred_3 - y_test_3\n",
    "fig, ax = plt.subplots(figsize=(10, 10))\n",
    "ax.hist(residuals_3, bins=50)\n",
    "ax.axvline(residuals_3.mean(), color='k', linestyle='dashed', linewidth=2, label=\"Средний остаток\")\n",
    "ax.text(10.2, 5 ,'Средний остаток',rotation=45, c=\"b\")\n",
    "ax.set_title(\"График остатков третей модели\")\n",
    "ax.set(xlabel=\"Остаток модели\", ylabel=\"Частота остатка\")"
   ]
  },
  {
   "cell_type": "markdown",
   "id": "5355bb41",
   "metadata": {},
   "source": [
    "Среднее значение остатков не совпадает с модой, но находится очень близко к нулю. График получившейся частоты распределения напоминает нормальный, однако мода не равна среднему. Сильных выбросов нет."
   ]
  },
  {
   "cell_type": "code",
   "execution_count": null,
   "id": "7bf22e5b",
   "metadata": {},
   "outputs": [],
   "source": [
    "fig, ax = plt.subplots(figsize=(10, 10))\n",
    "sct = ax.scatter(y_pred_3, residuals_3, alpha=0.6, edgecolors=\"none\")\n",
    "ax.set_title(f\"Рассеяние остатков третей модели\")\n",
    "ax.set(xlabel=\"Прогноз модели\", ylabel=\"Остаток модели\")\n",
    "plt.show()"
   ]
  },
  {
   "cell_type": "markdown",
   "id": "e107bcae",
   "metadata": {},
   "source": [
    "Кластеры остатков незаметны. Разброс остатков стал чуть менее симметричным относительно нуля остатков. Выьросы не наблюдаются. По метрике R^2 третяя модель чуть хуже второй. В целом учитывая равномерность распределения ошибок относительно целевого признака вторая и третяя модели сопоставимы по качеству."
   ]
  },
  {
   "cell_type": "markdown",
   "id": "af74899c",
   "metadata": {},
   "source": [
    "### Сравнение метрик моделей"
   ]
  },
  {
   "cell_type": "code",
   "execution_count": null,
   "id": "a0317cb9",
   "metadata": {},
   "outputs": [],
   "source": [
    "mse = []\n",
    "mrse = []\n",
    "mae = []\n",
    "\n",
    "for i in range(1, 4):\n",
    "   mse.append(mean_squared_error(globals()[f\"y_test_{i}\"], globals()[f\"y_pred_{i}\"]))\n",
    "   mrse.append(mean_squared_error(globals()[f\"y_test_{i}\"], globals()[f\"y_pred_{i}\"], squared=False))\n",
    "   mae.append(mean_absolute_error(globals()[f\"y_test_{i}\"], globals()[f\"y_pred_{i}\"]))"
   ]
  },
  {
   "cell_type": "code",
   "execution_count": null,
   "id": "d8fce8c2",
   "metadata": {},
   "outputs": [],
   "source": [
    "metric_names = [\"Среднеквадратичная ошибка\", \"Корень среднеквадратичной ошибки\", \"Средняя абсолютная ошибка\"]\n",
    "models = ['Модель ' + str(i) for i in range(1, 4)]\n",
    "values = [mse, mrse, mae]\n",
    "\n",
    "fig, ax = plt.subplots(ncols=3, figsize=(15, 5))\n",
    "for i in range(0, 3):\n",
    "    ax[i].bar(models, values[i])\n",
    "    ax[i].set_ylabel(metric_names[i])\n",
    "    ax[i].set_title(f'{metric_names[i]} моделей')\n",
    "    ax[i].grid(True)\n",
    "\n",
    "plt.show()"
   ]
  },
  {
   "cell_type": "markdown",
   "id": "ca809a69",
   "metadata": {},
   "source": [
    "Исходя из всех доступных метрик моделей, третяя модель наилучшая по качеству."
   ]
  },
  {
   "cell_type": "markdown",
   "id": "146fa88a",
   "metadata": {},
   "source": [
    "Посчитаем доверительный интервал прогноза модели."
   ]
  },
  {
   "cell_type": "code",
   "execution_count": null,
   "id": "7aaab067",
   "metadata": {},
   "outputs": [],
   "source": [
    "fig, ax = plt.subplots()\n",
    "bp = ax.boxplot(model_3.predict(X_train_3) - y_train_3)\n",
    "q1 = bp['boxes'][0].get_path().vertices[0, 1]\n",
    "median = bp['medians'][0].get_ydata()[0]\n",
    "q3 = bp['boxes'][0].get_path().vertices[2, 1]\n",
    "lower_whisker = bp['caps'][0].get_ydata()[0]\n",
    "upper_whisker = bp['caps'][1].get_ydata()[0]\n",
    "iqr = q3 - q1\n",
    "values = [lower_whisker, q1, median, q3, upper_whisker]\n",
    "labels = [\n",
    "    f'Нижний ус: {lower_whisker:.2f}',\n",
    "    f'Q1 (25%): {q1:.2f}',\n",
    "    f'Медиана (Q2): {median:.2f}',\n",
    "    f'Q3 (75%): {q3:.2f}',\n",
    "    f'Верхний ус: {upper_whisker:.2f}'\n",
    "]\n",
    "\n",
    "for y, label in zip(values, labels):\n",
    "    ax.hlines(y, xmin=0, xmax=1, color='gray', linestyle='--')\n",
    "    ax.text(-0.1, y, label, transform=ax.get_yaxis_transform(), ha='right', va='center')\n",
    "ax.set_title('Визуализация доверительного интервала')\n",
    "plt.show()"
   ]
  },
  {
   "cell_type": "markdown",
   "id": "5c930101",
   "metadata": {},
   "source": [
    "В предсказаниях модели с остатками в отрезке [-128, 124] можно быть уверенными."
   ]
  },
  {
   "cell_type": "markdown",
   "id": "86510175",
   "metadata": {},
   "source": [
    "### Прогноз надоя продаваемых коров"
   ]
  },
  {
   "cell_type": "markdown",
   "id": "4ce1b236",
   "metadata": {},
   "source": [
    "Добавим недостающие признаки в соответствии с условием задачи."
   ]
  },
  {
   "cell_type": "code",
   "execution_count": null,
   "id": "83f0d56b",
   "metadata": {},
   "outputs": [],
   "source": [
    "new_columns = own_herd[[\"EFU\", \"raw_protein\", \"SPR\"]]\n",
    "\n",
    "for col in new_columns:\n",
    "    sale_herd[col] = new_columns[col].mean() * 1.05\n",
    "\n"
   ]
  },
  {
   "cell_type": "markdown",
   "id": "92c93e28",
   "metadata": {},
   "source": [
    "Отфильтруем не взрослых коров."
   ]
  },
  {
   "cell_type": "code",
   "execution_count": null,
   "id": "4e0c42ab",
   "metadata": {},
   "outputs": [],
   "source": [
    "regress_sale_herd = sale_herd[sale_herd[\"is_old\"]]"
   ]
  },
  {
   "cell_type": "markdown",
   "id": "84c7b827",
   "metadata": {},
   "source": [
    "Сгенерируем новые признаки."
   ]
  },
  {
   "cell_type": "code",
   "execution_count": null,
   "id": "f8d2245f",
   "metadata": {},
   "outputs": [],
   "source": [
    "SPR_lower_border = 0.87\n",
    "SPR_upper_border = 0.92\n",
    "regress_sale_herd.loc[:, \"SPR_class\"] = regress_sale_herd[\"SPR\"].apply(lambda x: \"low\" \\\n",
    "    if x < SPR_lower_border else (\"high\" if x >= SPR_upper_border \\\n",
    "                else \"mid\"))\n",
    "\n",
    "fatness_lower_border = 3.55\n",
    "fatness_upper_border = 3.65\n",
    "regress_sale_herd.loc[:, \"fatness_class\"] = regress_sale_herd[\"fatness\"].apply(lambda x: \"low\" \\\n",
    "    if x < fatness_lower_border else (\"high\" if x >= fatness_upper_border \\\n",
    "                else \"mid\"))\n",
    "regress_sale_herd.loc[:, \"fat_protein_ratio\"] = regress_sale_herd[\"fatness\"] / regress_sale_herd[\"proteins\"]\n",
    "regress_sale_herd.loc[:, \"EFU_squared\"] = regress_sale_herd[\"EFU\"] ** 2"
   ]
  },
  {
   "cell_type": "markdown",
   "id": "db6b1fef",
   "metadata": {},
   "source": [
    "Спрогнозируем надои коров лучшей моделью."
   ]
  },
  {
   "cell_type": "code",
   "execution_count": null,
   "id": "fb333cc0",
   "metadata": {},
   "outputs": [],
   "source": [
    "regress_sale_herd = regress_sale_herd.astype({\"raw_protein\": \"int64\",\n",
    "    \"pasture_type\": \"object\",\n",
    "    \"ancestor_breed\": \"object\"\n",
    "    })\n",
    "X_new_encoded = pd.get_dummies(regress_sale_herd, drop_first=True).reindex(columns=train_cols, fill_value=0)\n",
    "X_new_scaled = StandardScaler().fit_transform(X_new_encoded)\n",
    "y_pred_new = model_3.predict(X_new_scaled)"
   ]
  },
  {
   "cell_type": "code",
   "execution_count": null,
   "id": "b71e8676",
   "metadata": {},
   "outputs": [],
   "source": [
    "X_new_encoded[\"yuield_prediction\"] = y_pred_new\n",
    "y_pred_new = X_new_encoded\n",
    "y_pred_new"
   ]
  },
  {
   "cell_type": "markdown",
   "id": "3f38e842",
   "metadata": {},
   "source": [
    "## Обучение модели логистической регрессии"
   ]
  },
  {
   "cell_type": "code",
   "execution_count": null,
   "id": "0b600ca9",
   "metadata": {},
   "outputs": [],
   "source": [
    "X = own_herd.drop([ \n",
    "    \"id\", \"is_milk_tasty\", \"is_old\", \"breed\", \"ancestor_breed\", \"ancestor_name\"\n",
    "    ], axis = 1)\n",
    "y = own_herd[\"is_milk_tasty\"]\n",
    "X_train_4, X_test, y_train_4, y_test_4 = train_test_split(X, y, test_size=0.2)\n",
    "y_train_4 = y_train_4.astype(int)\n",
    "y_test_4 = y_test_4.astype(int)\n",
    "X_train_4 = pd.get_dummies(X_train_4, drop_first=True)\n",
    "log_train_cols = X_train_4.columns\n",
    "X_test = pd.get_dummies(X_test, drop_first=True)\n",
    "scaler = StandardScaler()\n",
    "scaler.fit(X_train_4)\n",
    "X_train_4 = scaler.transform(X_train_4)\n",
    "X_test = scaler.transform(X_test)\n",
    "\n",
    "clf = LogisticRegression()\n",
    "clf = clf.fit(X_train_4, y_train_4)\n",
    "y_pred = clf.predict(X_test)\n",
    "y_proba = clf.predict_proba(X_test)[:,1]"
   ]
  },
  {
   "cell_type": "markdown",
   "id": "6b96a076",
   "metadata": {},
   "source": [
    "Оценим метрики модели классификации."
   ]
  },
  {
   "cell_type": "code",
   "execution_count": null,
   "id": "7c36cde9",
   "metadata": {},
   "outputs": [],
   "source": [
    "def print_metrics(y_test, y_pred):\n",
    "    accuracy = accuracy_score(y_test, y_pred)\n",
    "    precision = precision_score(y_test, y_pred)\n",
    "    recall = recall_score(y_test, y_pred)\n",
    "    print(f\"Доля верных предсказаний: {accuracy:.3f}\\nТочность: {precision:.3f}\\nПолнота: {recall:.3f}\")\n",
    "\n",
    "print_metrics(y_test_4, y_pred)"
   ]
  },
  {
   "cell_type": "markdown",
   "id": "467ef3b5",
   "metadata": {},
   "source": [
    "Далее расспотрим матрицу ошибок."
   ]
  },
  {
   "cell_type": "code",
   "execution_count": null,
   "id": "a3589978",
   "metadata": {},
   "outputs": [],
   "source": [
    "sns.heatmap(confusion_matrix(y_test_4, y_pred), annot=True)\n",
    "plt.ylabel(\"Значение истинности\")\n",
    "plt.xlabel(\"Предсказание\")\n",
    "plt.title(\"Матрица ошибок\")"
   ]
  },
  {
   "cell_type": "markdown",
   "id": "6f9df1fc",
   "metadata": {},
   "source": [
    "Т.к. цель найти коров со вкусным молоком, нужно минимизировать ложноположительные результаты предсказания, FP, поэтому будем минимизировать ошибку первого рода, которых 20."
   ]
  },
  {
   "cell_type": "code",
   "execution_count": null,
   "id": "cef1eca9",
   "metadata": {},
   "outputs": [],
   "source": [
    "data = pd.DataFrame(zip(y_test_4, y_proba),\n",
    "                    columns = [\"y_valid\", \"y_proba\"]).sort_values(by=\"y_proba\",ascending=False)\n",
    "columns = []\n",
    "thresholds = [round(i, 2) for i in np.linspace(0.1, 1, num = 100, endpoint=False)]\n",
    "\n",
    "for i in thresholds:\n",
    "    columns.append(\"y_pred_\"+str(i))\n",
    "    data[\"y_pred_\"+str(i)] = data[\"y_proba\"].apply(lambda x: 1 if x > i else 0)\n",
    "\n",
    "total_negatives = (data[\"y_valid\"] == 0).sum()\n",
    "type_1_errors = []\n",
    "\n",
    "for thresh in thresholds:\n",
    "    predicted_positives = data[\"y_proba\"] > thresh\n",
    "    false_positives = ((predicted_positives == True) & (data[\"y_valid\"] == 0)).sum()\n",
    "    fp_rate = false_positives / total_negatives if total_negatives > 0 else 0\n",
    "    type_1_errors.append(fp_rate)\n",
    "\n",
    "optimal_threshold_index = np.argmin(type_1_errors)\n",
    "optimal_threshold = thresholds[optimal_threshold_index]\n",
    "print(f\"Оптимальный порог для минимизации ошибки первого рода: {optimal_threshold:.2f}\")\n",
    "\n",
    "plt.figure(figsize=(12, 7))\n",
    "plt.plot(thresholds, type_1_errors, linestyle='-', label=\"Ошибка первого рода\")\n",
    "plt.title(\"Зависимость ошибки первого рода от порога классификации\")\n",
    "plt.xlabel(\"Порог\")\n",
    "plt.ylabel(\"Доля ложных срабатываний\")\n",
    "plt.legend()\n",
    "plt.grid(True)\n",
    "plt.savefig('type_1_error_plot.png')"
   ]
  },
  {
   "cell_type": "markdown",
   "id": "59067259",
   "metadata": {},
   "source": [
    "Построим прогноз с оптимальным порогом и оценим метрики."
   ]
  },
  {
   "cell_type": "code",
   "execution_count": null,
   "id": "eec09842",
   "metadata": {},
   "outputs": [],
   "source": [
    "def custom_predict(X, threshold):\n",
    "    probs = clf.predict_proba(X) \n",
    "    return (probs[:, 1] > threshold).astype(int)\n",
    "\n",
    "adjusted_predicts = custom_predict(X_test, threshold=0.89)\n",
    "print_metrics(y_test_4, adjusted_predicts)"
   ]
  },
  {
   "cell_type": "code",
   "execution_count": null,
   "id": "d6004a9f",
   "metadata": {},
   "outputs": [],
   "source": [
    "sns.heatmap(confusion_matrix(y_test_4, adjusted_predicts), annot=True)\n",
    "plt.ylabel(\"Значение истинности\")\n",
    "plt.xlabel(\"Предсказание\")\n",
    "plt.title(\"Матрица ошибок\")"
   ]
  },
  {
   "cell_type": "markdown",
   "id": "7967afbe",
   "metadata": {},
   "source": [
    "Общая точность предсказания модели значительно упала, но теперь модель не допускает ошибки, при которых она ложно выбирает коров с невкусным молоком. Это соответствует запросу бизнеса. Спрогнозируем, какие из коров из стада на продажу дадут вкусное молоко."
   ]
  },
  {
   "cell_type": "markdown",
   "id": "e710d10e",
   "metadata": {},
   "source": [
    "### Предсказание модели"
   ]
  },
  {
   "cell_type": "markdown",
   "id": "965d96f3",
   "metadata": {},
   "source": [
    "Отфильтруем не взрослых коров."
   ]
  },
  {
   "cell_type": "code",
   "execution_count": null,
   "id": "468a9095",
   "metadata": {},
   "outputs": [],
   "source": [
    "log_sale_herd = sale_herd[sale_herd[\"is_old\"]]"
   ]
  },
  {
   "cell_type": "markdown",
   "id": "b5defdb1",
   "metadata": {},
   "source": [
    "Сгенерируем новые признаки."
   ]
  },
  {
   "cell_type": "code",
   "execution_count": null,
   "id": "6abf5d81",
   "metadata": {},
   "outputs": [],
   "source": [
    "SPR_lower_border = 0.87\n",
    "SPR_upper_border = 0.92\n",
    "log_sale_herd.loc[:, \"SPR_class\"] = log_sale_herd[\"SPR\"].apply(lambda x: \"low\" \\\n",
    "    if x < SPR_lower_border else (\"high\" if x > SPR_upper_border \\\n",
    "        else \"mid\"))\n",
    "\n",
    "fatness_lower_border = 3.55\n",
    "fatness_upper_border = 3.65\n",
    "log_sale_herd.loc[:, \"fatness_class\"] = log_sale_herd[\"fatness\"].apply(lambda x: \"low\" \\\n",
    "    if x < fatness_lower_border else (\"high\" if x > fatness_upper_border \\\n",
    "        else \"mid\"))\n",
    "\n",
    "log_sale_herd.loc[:, \"fat_protein_ratio\"] = log_sale_herd[\"fatness\"] / log_sale_herd[\"proteins\"]\n",
    "log_sale_herd.loc[:, \"EFU_squared\"] = log_sale_herd[\"EFU\"] ** 2"
   ]
  },
  {
   "cell_type": "markdown",
   "id": "a28c457b",
   "metadata": {},
   "source": [
    "Спрогнозируем вкус молока коров."
   ]
  },
  {
   "cell_type": "code",
   "execution_count": null,
   "id": "352bd0a0",
   "metadata": {},
   "outputs": [],
   "source": [
    "log_sale_herd = log_sale_herd.astype({\"raw_protein\": \"int64\",\n",
    "    \"pasture_type\": \"object\",\n",
    "    \"ancestor_breed\": \"object\"\n",
    "    })\n",
    "X_new_encoded = pd.get_dummies(log_sale_herd, drop_first=True).reindex(columns=log_train_cols, fill_value=0)\n",
    "X_new_scaled = StandardScaler().fit_transform(X_new_encoded)\n",
    "log_y_pred = clf.predict(X_new_scaled)"
   ]
  },
  {
   "cell_type": "code",
   "execution_count": null,
   "id": "4d9b5b1b",
   "metadata": {},
   "outputs": [],
   "source": [
    "X_new_encoded[\"is_milk_tasty_prediction\"] = log_y_pred\n",
    "log_y_pred = X_new_encoded\n",
    "log_y_pred"
   ]
  },
  {
   "cell_type": "markdown",
   "id": "bfad7482",
   "metadata": {},
   "source": [
    "## Итоговые выводы"
   ]
  },
  {
   "cell_type": "markdown",
   "id": "c3f11d14",
   "metadata": {},
   "source": [
    "Объединим прогнозы с данными из стада на продажу."
   ]
  },
  {
   "cell_type": "code",
   "execution_count": null,
   "id": "a081f0a7",
   "metadata": {},
   "outputs": [],
   "source": [
    "predicted_sale_herd = pd.merge(sale_herd[sale_herd[\"is_old\"]], y_pred_new[\"yuield_prediction\"], left_index=True, right_index=True)\n",
    "good_yield = predicted_sale_herd.query(\"yuield_prediction > 6000\")\n",
    "print(f\"Коров с подходящим надоем: {len(good_yield)}\")\n",
    "predicted_sale_herd = pd.merge(predicted_sale_herd, log_y_pred[\"is_milk_tasty_prediction\"], left_index=True, right_index=True)\n",
    "good_milk_taste = log_y_pred.query(\"is_milk_tasty_prediction == 1\")\n",
    "print(f\"Коров со вкусным молоком: {len(good_milk_taste)}\")\n",
    "predicted_sale_herd.head()"
   ]
  },
  {
   "cell_type": "markdown",
   "id": "27f644ed",
   "metadata": {},
   "source": [
    "Выберим интересных бизнесу коров."
   ]
  },
  {
   "cell_type": "code",
   "execution_count": null,
   "id": "105bbc1f",
   "metadata": {},
   "outputs": [],
   "source": [
    "to_buy = predicted_sale_herd.query(\"is_milk_tasty_prediction == 1 and yuield_prediction > 6000\")\n",
    "to_buy"
   ]
  },
  {
   "cell_type": "markdown",
   "id": "f8fbdeb2",
   "metadata": {},
   "source": [
    "## Выводы"
   ]
  },
  {
   "cell_type": "markdown",
   "id": "4a611a36",
   "metadata": {},
   "source": [
    "### Для бизнеса"
   ]
  },
  {
   "cell_type": "markdown",
   "id": "0d4f46ef",
   "metadata": {},
   "source": [
    "Для покупки с минимальными рисками коров с удоем более 6000 л. в год и вкусным молоком подходит ***три коровы*** из стада на продажу из строк ***3, 9, 15*** в стаде на продажу. Такое малое количество вариантов обусловлено тем, что молоко должно быть вкусным и надой должен быть высоким, а коров, выставленных на продажу, изначально всего 20, т.е. немного.\n",
    "\n",
    "В случае отсутствия новых поставщиков коров, стоит ослабить критерии выбора.\n",
    "\n",
    "Стоит всегда рассматривать для покупки коров старше двух лет."
   ]
  },
  {
   "cell_type": "markdown",
   "id": "501aa8c4",
   "metadata": {},
   "source": [
    "### Для аналитики"
   ]
  },
  {
   "cell_type": "markdown",
   "id": "ddf5861d",
   "metadata": {},
   "source": [
    "Модель линейной регрессии обучена с учётом анализа связей признаков в стаде фермера. При обучении лучший результат удалось добиться используя закодированные категориальные признаки и добавим новые, производные от базовых признаки. Дальнейшее улучшени е работы модели может быть связано с экспериментами по выделению новых произаодных признаков из базовых."
   ]
  },
  {
   "cell_type": "markdown",
   "id": "193d2abb",
   "metadata": {},
   "source": [
    "Модель логистической регрессии была обучена на закодированных качественных и количественных данных, а так же производных от базовых признаках. В целях улучшения качества работы модели можно экспериментировать с новыми производными признаками и оценивать рост качества модели по относительной метрике R^2. В целях анализа риков для модели классификации важно минимизировать количество ложно выбранных коров с невкусным молоком. С этой целью стоит опираться на метрику \"точность\" (precision)"
   ]
  }
 ],
 "metadata": {
  "kernelspec": {
   "display_name": "practicum",
   "language": "python",
   "name": "python3"
  },
  "language_info": {
   "codemirror_mode": {
    "name": "ipython",
    "version": 3
   },
   "file_extension": ".py",
   "mimetype": "text/x-python",
   "name": "python",
   "nbconvert_exporter": "python",
   "pygments_lexer": "ipython3",
   "version": "3.9.21"
  },
  "toc": {
   "base_numbering": 1,
   "nav_menu": {},
   "number_sections": false,
   "sideBar": true,
   "skip_h1_title": false,
   "title_cell": "Table of Contents",
   "title_sidebar": "Contents",
   "toc_cell": false,
   "toc_position": {},
   "toc_section_display": true,
   "toc_window_display": false
  },
  "varInspector": {
   "cols": {
    "lenName": 16,
    "lenType": 16,
    "lenVar": 40
   },
   "kernels_config": {
    "python": {
     "delete_cmd_postfix": "",
     "delete_cmd_prefix": "del ",
     "library": "var_list.py",
     "varRefreshCmd": "print(var_dic_list())"
    },
    "r": {
     "delete_cmd_postfix": ") ",
     "delete_cmd_prefix": "rm(",
     "library": "var_list.r",
     "varRefreshCmd": "cat(var_dic_list()) "
    }
   },
   "types_to_exclude": [
    "module",
    "function",
    "builtin_function_or_method",
    "instance",
    "_Feature"
   ],
   "window_display": false
  }
 },
 "nbformat": 4,
 "nbformat_minor": 5
}
