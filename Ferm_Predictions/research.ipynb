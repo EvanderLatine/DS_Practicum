{
 "cells": [
  {
   "cell_type": "markdown",
   "id": "e2eecca8",
   "metadata": {},
   "source": [
    "# Построение моделей предсказания надоя и качества молока коров\n",
    "\n",
    "Нужно создать модели линейной и логичтической регрессии для покупки лучших коров на ферму.\n",
    "\n",
    "## Цель\n",
    "С помощью моделей нужно отобрать коров по двум критериям:\n",
    " - средний удой за год — не менее 6000 килограммов;\n",
    " - молоко должно быть вкусным.\n",
    "\n",
    "## Описание данных:\n",
    "### Текущее стадо\n",
    "- `id` — уникальный идентификатор коровы.\n",
    "- `Удой, кг` — масса молока, которую корова даёт в год (в килограммах).\n",
    "- `ЭКЕ (Энергетическая кормовая единица)` — показатель питательности корма коровы.\n",
    "- `Сырой протеин, г` — содержание сырого протеина в корме (в граммах).\n",
    "- `СПО (Сахаро-протеиновое соотношение)` — отношение сахара к протеину в корме коровы.\n",
    "- `Порода` — порода коровы.\n",
    "- `Тип пастбища` — ландшафт лугов, на которых паслась корова.\n",
    "- `порода папы_быка` — порода папы коровы.\n",
    "- `Жирность,%` — содержание жиров в молоке (в процентах).\n",
    "- `Белок,%` — содержание белков в молоке (в процентах).\n",
    "- `Вкус молока` — оценка вкуса по личным критериям фермера, бинарный признак (вкусно, не вкусно).\n",
    "- `Возраст` — возраст коровы, бинарный признак (менее_2_лет, более_2_лет).\n",
    "### Родитель коров\n",
    "- `id` — уникальный идентификатор коровы.\n",
    "- `Имя Папы` — имя папы коровы.\n",
    "### Продаваемые коровы\n",
    "- `Порода` — порода коровы.\n",
    "- `Тип пастбища` — ландшафт лугов, на которых паслась корова.\n",
    "- `порода папы_быка` — порода папы коровы.\n",
    "- `Имя_папы` — имя папы коровы.\n",
    "- `Текущая_жирность,%` — содержание жиров в молоке (в процентах).\n",
    "- `Текущий_уровень_белок,%` — содержание белков в молоке (в процентах).\n",
    "- `Возраст` — возраст коровы, бинарный признак (менее_2_лет, более_2_лет)."
   ]
  },
  {
   "cell_type": "markdown",
   "id": "33e4d3f3",
   "metadata": {},
   "source": [
    "## План исследования"
   ]
  },
  {
   "cell_type": "markdown",
   "id": "f5bf7b29",
   "metadata": {},
   "source": [
    "1) Предобработка данных\n",
    "2) Исследовательский анализ данных\n",
    "3) Подготовка данных к ML\n",
    "4) Обучение экспериментальных моделей линейной регрессии\n",
    "5) Оценка метрик\n",
    "6) Промежуточные выводы\n",
    "7) Подготовка данных для логистической регрессии\n",
    "8) Обучение экспериментальных моделей логистической регрессии\n",
    "9) Оценка метрик\n",
    "10) Промежуточные выводы\n",
    "10) Общие выводы"
   ]
  },
  {
   "cell_type": "markdown",
   "id": "d34bbcd3",
   "metadata": {},
   "source": [
    "##  Предобработка данных"
   ]
  },
  {
   "cell_type": "code",
   "execution_count": 1,
   "id": "592b4ee2",
   "metadata": {},
   "outputs": [],
   "source": [
    "import pandas as pd\n",
    "import numpy as np\n",
    "from matplotlib import pyplot as plt\n",
    "from datetime import datetime as dt\n",
    "import math\n",
    "from scipy import stats as st"
   ]
  },
  {
   "cell_type": "code",
   "execution_count": 2,
   "id": "19a750e4",
   "metadata": {},
   "outputs": [
    {
     "name": "stdout",
     "output_type": "stream",
     "text": [
      "Own heard:\n",
      "    id  Удой, кг ЭКЕ (Энергетическая кормовая единица)  Сырой протеин, г  \\\n",
      "0    1      5863                                  14,2              1743   \n",
      "1    2      5529                                  12,8              2138   \n",
      "2    3      5810                                    14              1854   \n",
      "3    4      5895                                  12,4              2012   \n",
      "4    5      5302                                  12,8              1675   \n",
      "5    6      5254                                  12,7              1806   \n",
      "6    7      5910                                  13,2              1792   \n",
      "7    8      6179                                  14,7              1806   \n",
      "8    9      6783                                  14,2              1918   \n",
      "9   10      5339                                  13,4              1791   \n",
      "10  11      5591                                  13,7              1678   \n",
      "11  12      6563                                  16,5              2328   \n",
      "12  13      6173                                  15,4              2193   \n",
      "13  14      6131                                  14,5              1766   \n",
      "14  15      6014                                    16              1769   \n",
      "15  16      6518                                  15,6              1747   \n",
      "16  17     45616                                  11,5              1675   \n",
      "17  18      5777                                  12,4              1873   \n",
      "18  19      6461                                  15,7              2159   \n",
      "19  20      5698                                  14,3              1759   \n",
      "\n",
      "   СПО (Сахаро-протеиновое соотношение)           Порода Тип пастбища  \\\n",
      "0                                  0,89   Вис Бик Айдиал    Равнинное   \n",
      "1                                  0,89   Вис Бик Айдиал    Равнинные   \n",
      "2                                 0,885  РефлешнСоверинг    Холмистое   \n",
      "3                                 0,885  РефлешнСоверинг    Холмистое   \n",
      "4                                 0,885   Вис Бик Айдиал    Равнинные   \n",
      "5                                 0,885  РефлешнСоверинг    Холмистое   \n",
      "6                                 0,885   Вис Бик Айдиал    Равнинные   \n",
      "7                                  0,93   Вис Бик Айдиал    Равнинные   \n",
      "8                                  0,94  РефлешнСоверинг    Холмистое   \n",
      "9                                 0,895   Вис Бик Айдиал    Холмистое   \n",
      "10                                0,895  РефлешнСоверинг    Холмистое   \n",
      "11                                 0,93   Вис Бик Айдиал    Холмистое   \n",
      "12                                 0,93  РефлешнСоверинг    Холмистое   \n",
      "13                                 0,93  РефлешнСоверинг    Равнинные   \n",
      "14                                 0,93   Вис Бик Айдиал    Равнинные   \n",
      "15                                 0,93   Вис Бик Айдиал    Равнинные   \n",
      "16                                 0,93   Вис Бик Айдиал    Холмистое   \n",
      "17                                0,895   Вис Бик Айдиал    Холмистое   \n",
      "18                                 0,93  РефлешнСоверинг    Холмистое   \n",
      "19                                0,895  РефлешнСоверинг    Холмистое   \n",
      "\n",
      "   порода папы_быка Жирность,% Белок,% Вкус молока      Возраст  \n",
      "0            Айдиал       3,58   3,076      вкусно  более_2_лет  \n",
      "1           Соверин       3,54   3,079      вкусно  менее_2_лет  \n",
      "2           Соверин       3,59   3,074   не вкусно  более_2_лет  \n",
      "3            Айдиал        3,4   3,075   не вкусно  более_2_лет  \n",
      "4           Соверин       3,73   3,073      вкусно  менее_2_лет  \n",
      "5           Соверин       3,13   3,078      вкусно  менее_2_лет  \n",
      "6           Соверин       3,48   3,077      вкусно  более_2_лет  \n",
      "7            Айдиал       3,55   3,076      вкусно  более_2_лет  \n",
      "8            Айдиал       3,71   3,077      вкусно  более_2_лет  \n",
      "9           Соверин       3,13   3,075      вкусно  менее_2_лет  \n",
      "10           Айдиал       3,13   3,075      вкусно  менее_2_лет  \n",
      "11          Соверин       3,71   3,075      вкусно  более_2_лет  \n",
      "12          Соверин       3,72   3,075      вкусно  более_2_лет  \n",
      "13           Айдиал       3,61   3,076   не вкусно  более_2_лет  \n",
      "14           Айдиал       3,71   3,071   не вкусно  более_2_лет  \n",
      "15          Айдиалл       3,73   3,076      вкусно  более_2_лет  \n",
      "16          Айдиалл       3,22   3,076      вкусно  более_2_лет  \n",
      "17          Айдиалл       3,03    3,08      вкусно  более_2_лет  \n",
      "18          Соверин       3,72   3,073   не вкусно  более_2_лет  \n",
      "19          Соверин       3,49   3,072      вкусно  более_2_лет  \n",
      "Cows ancestors:\n",
      "    id  Имя Папы\n",
      "0    1    Буйный\n",
      "1    2  Соловчик\n",
      "2    3     Барин\n",
      "3    4    Буйный\n",
      "4    5     Барин\n",
      "5    6     Барин\n",
      "6    7  Соловчик\n",
      "7    8  Геркулес\n",
      "8    9    Буйный\n",
      "9   10     Барин\n",
      "10  11    Буйный\n",
      "11  12  Соловчик\n",
      "12  13     Барин\n",
      "13  14    Буйный\n",
      "14  15  Геркулес\n",
      "15  16    Буйный\n",
      "16  17    Буйный\n",
      "17  18    Буйный\n",
      "18  19  Соловчик\n",
      "19  20     Барин\n",
      "Herd for sale:\n",
      "             Порода Тип пастбища порода папы_быка  Имя_папы  \\\n",
      "0    Вис Бик Айдиал    холмистое           Айдиал  Геркулес   \n",
      "1    Вис Бик Айдиал    равнинное          Соверин    Буйный   \n",
      "2   РефлешнСоверинг    равнинное          Соверин     Барин   \n",
      "3   РефлешнСоверинг    холмистое           Айдиал    Буйный   \n",
      "4   РефлешнСоверинг    равнинное           Айдиал    Буйный   \n",
      "5   РефлешнСоверинг    равнинное          Соверин  Геркулес   \n",
      "6    Вис Бик Айдиал    холмистое           Айдиал  Геркулес   \n",
      "7    Вис Бик Айдиал    равнинное          Соверин    Буйный   \n",
      "8   РефлешнСоверинг    равнинное          Соверин     Барин   \n",
      "9   РефлешнСоверинг    холмистое           Айдиал    Буйный   \n",
      "10   Вис Бик Айдиал    холмистое          Соверин  Соловчик   \n",
      "11  РефлешнСоверинг    равнинное          Соверин  Геркулес   \n",
      "12   Вис Бик Айдиал    холмистое           Айдиал  Геркулес   \n",
      "13   Вис Бик Айдиал    холмистое          Соверин     Барин   \n",
      "14  РефлешнСоверинг    равнинное          Соверин     Барин   \n",
      "15  РефлешнСоверинг    холмистое           Айдиал    Буйный   \n",
      "16   Вис Бик Айдиал    холмистое          Соверин  Соловчик   \n",
      "17  РефлешнСоверинг    равнинное          Соверин  Геркулес   \n",
      "18   Вис Бик Айдиал    равнинное          Соверин    Буйный   \n",
      "19  РефлешнСоверинг    равнинное           Айдиал    Буйный   \n",
      "\n",
      "   Текущая_жирность,% Текущий_уровень_белок,%      Возраст  \n",
      "0                3,58                   3,076  более_2_лет  \n",
      "1                3,54                   3,081  менее_2_лет  \n",
      "2                3,59                   3,074  более_2_лет  \n",
      "3                 3,4                   3,061  более_2_лет  \n",
      "4                3,64                   3,074  более_2_лет  \n",
      "5                3,63                   3,053  менее_2_лет  \n",
      "6                3,58                   3,076  более_2_лет  \n",
      "7                3,57                   3,079  более_2_лет  \n",
      "8                3,59                   3,074  более_2_лет  \n",
      "9                 3,4                   3,079  менее_2_лет  \n",
      "10               3,73                   3,055  более_2_лет  \n",
      "11               3,73                   3,073  более_2_лет  \n",
      "12               3,68                   3,046  более_2_лет  \n",
      "13               3,42                   3,075  менее_2_лет  \n",
      "14               3,59                   3,074  более_2_лет  \n",
      "15                3,4                   3,065  более_2_лет  \n",
      "16               3,73                   3,079  более_2_лет  \n",
      "17               3,77                   3,053  менее_2_лет  \n",
      "18               3,34                   3,069  более_2_лет  \n",
      "19               3,64                   3,074  более_2_лет  \n"
     ]
    }
   ],
   "source": [
    "try:\n",
    "    own_herd = pd.read_csv(r\".\\source\\ferma_main.csv\", sep=';')\n",
    "    cows_ancestor = pd.read_csv(r\".\\source\\ferma_dad.csv\", sep=';')\n",
    "    sale_herd = pd.read_csv(r\".\\source\\cow_buy.csv\", sep=';')\n",
    "except:\n",
    "    own_herd = pd.read_csv(\"/datasets/ferma_main.csv\", sep=';')\n",
    "    cows_ancestor = pd.read_csv(\"/datasets/ferma_dad.csv\", sep=';')\n",
    "    sale_herd = pd.read_csv(\"/datasets/cow_buy.csv\", sep=';')\n",
    "\n",
    "pd.set_option('display.max_columns', None)\n",
    "print(f\"Own heard:\\n{own_herd.head(20)}\")\n",
    "print(f\"Cows ancestors:\\n{cows_ancestor.head(20)}\")\n",
    "print(f\"Herd for sale:\\n{sale_herd.head(20)}\")"
   ]
  },
  {
   "cell_type": "markdown",
   "id": "642c4917",
   "metadata": {},
   "source": [
    "Переименуем называния колонок на англоязычные, в соостветствии с конвенциональным именованием."
   ]
  },
  {
   "cell_type": "code",
   "execution_count": 3,
   "id": "2ceb9e58",
   "metadata": {},
   "outputs": [],
   "source": [
    "own_herd = own_herd.rename(columns={\"Удой, кг\": \"yield\",\n",
    "                                    \"ЭКЕ (Энергетическая кормовая единица)\": \"EFU\",\n",
    "                                    \"Сырой протеин, г\": \"raw_protein\",\n",
    "                                    \"СПО (Сахаро-протеиновое соотношение)\": \"SPR\",\n",
    "                                    \"Порода\": \"breed\",\n",
    "                                    \"Тип пастбища\": \"pasture_type\",\n",
    "                                    \"порода папы_быка\": \"ancestor_breed\",\n",
    "                                    \"Жирность,%\": \"fatness\",\n",
    "                                    \"Белок,%\": \"proteins\",\n",
    "                                    \"Вкус молока\": \"is_milk_tasty\",\n",
    "                                    \"Возраст\": \"is_old\",})\n",
    "cows_ancestor = cows_ancestor.rename(columns={\"Удой, кг\": \"yield\",\n",
    "                                    \"Имя Папы\": \"ancestor_name\"})\n",
    "sale_herd = sale_herd.rename(columns={\"Порода\": \"breed\",\n",
    "                                    \"Тип пастбища\": \"pasture_type\",\n",
    "                                    \"порода папы_быка\": \"ancestor_breed\",\n",
    "                                    \"Имя_папы\": \"ancestor_name\",\n",
    "                                    \"Текущая_жирность,%\": \"fatness\",\n",
    "                                    \"Текущий_уровень_белок,%\": \"proteins\",\n",
    "                                    \"Возраст\": \"is_old\"})"
   ]
  },
  {
   "cell_type": "code",
   "execution_count": 4,
   "id": "1b108d64",
   "metadata": {},
   "outputs": [
    {
     "name": "stdout",
     "output_type": "stream",
     "text": [
      "<class 'pandas.core.frame.DataFrame'>\n",
      "RangeIndex: 634 entries, 0 to 633\n",
      "Data columns (total 12 columns):\n",
      " #   Column          Non-Null Count  Dtype \n",
      "---  ------          --------------  ----- \n",
      " 0   id              634 non-null    int64 \n",
      " 1   yield           634 non-null    int64 \n",
      " 2   EFU             634 non-null    object\n",
      " 3   raw_protein     634 non-null    int64 \n",
      " 4   SPR             634 non-null    object\n",
      " 5   breed           634 non-null    object\n",
      " 6   pasture_type    634 non-null    object\n",
      " 7   ancestor_breed  634 non-null    object\n",
      " 8   fatness         634 non-null    object\n",
      " 9   proteins        634 non-null    object\n",
      " 10  is_milk_tasty   634 non-null    object\n",
      " 11  is_old          634 non-null    object\n",
      "dtypes: int64(3), object(9)\n",
      "memory usage: 59.6+ KB\n"
     ]
    }
   ],
   "source": [
    "own_herd.info()"
   ]
  },
  {
   "cell_type": "code",
   "execution_count": 5,
   "id": "bb782006",
   "metadata": {},
   "outputs": [
    {
     "name": "stdout",
     "output_type": "stream",
     "text": [
      "<class 'pandas.core.frame.DataFrame'>\n",
      "RangeIndex: 629 entries, 0 to 628\n",
      "Data columns (total 2 columns):\n",
      " #   Column         Non-Null Count  Dtype \n",
      "---  ------         --------------  ----- \n",
      " 0   id             629 non-null    int64 \n",
      " 1   ancestor_name  629 non-null    object\n",
      "dtypes: int64(1), object(1)\n",
      "memory usage: 10.0+ KB\n"
     ]
    }
   ],
   "source": [
    "cows_ancestor.info()"
   ]
  },
  {
   "cell_type": "code",
   "execution_count": 6,
   "id": "bcfc07b7",
   "metadata": {},
   "outputs": [
    {
     "name": "stdout",
     "output_type": "stream",
     "text": [
      "<class 'pandas.core.frame.DataFrame'>\n",
      "RangeIndex: 20 entries, 0 to 19\n",
      "Data columns (total 7 columns):\n",
      " #   Column          Non-Null Count  Dtype \n",
      "---  ------          --------------  ----- \n",
      " 0   breed           20 non-null     object\n",
      " 1   pasture_type    20 non-null     object\n",
      " 2   ancestor_breed  20 non-null     object\n",
      " 3   ancestor_name   20 non-null     object\n",
      " 4   fatness         20 non-null     object\n",
      " 5   proteins        20 non-null     object\n",
      " 6   is_old          20 non-null     object\n",
      "dtypes: object(7)\n",
      "memory usage: 1.2+ KB\n"
     ]
    }
   ],
   "source": [
    "sale_herd.info()"
   ]
  },
  {
   "cell_type": "markdown",
   "id": "ec6f6714",
   "metadata": {},
   "source": [
    "Проверим наличие явных дубликатов."
   ]
  },
  {
   "cell_type": "code",
   "execution_count": 7,
   "id": "5fa0e7fd",
   "metadata": {},
   "outputs": [],
   "source": [
    "def handle_duplicates(dataframe):\n",
    "    duplicates_count = dataframe.duplicated().sum()\n",
    "\n",
    "    if duplicates_count > 0:\n",
    "        dataframe.drop_duplicates(inplace=True)\n",
    "    \n",
    "    print(f\"Droped {duplicates_count} duplicates.\")"
   ]
  },
  {
   "cell_type": "code",
   "execution_count": 8,
   "id": "4c95099e",
   "metadata": {},
   "outputs": [
    {
     "name": "stdout",
     "output_type": "stream",
     "text": [
      "Droped 5 duplicates.\n",
      "Droped 0 duplicates.\n",
      "Droped 4 duplicates.\n"
     ]
    }
   ],
   "source": [
    "handle_duplicates(own_herd)\n",
    "handle_duplicates(cows_ancestor)\n",
    "handle_duplicates(sale_herd)"
   ]
  },
  {
   "cell_type": "markdown",
   "id": "2b47dc52",
   "metadata": {},
   "source": [
    "Преобразуем данные к соответствующим типам."
   ]
  },
  {
   "cell_type": "code",
   "execution_count": 9,
   "id": "66bc9779",
   "metadata": {},
   "outputs": [],
   "source": [
    "def replace_fp_delimiter(columns, df):\n",
    "    for col in columns:\n",
    "        df[col] = df[col].str.replace(\",\", \".\")"
   ]
  },
  {
   "cell_type": "code",
   "execution_count": 10,
   "id": "e80f8d60",
   "metadata": {},
   "outputs": [
    {
     "data": {
      "text/plain": [
       "id                629\n",
       "yield             528\n",
       "EFU                55\n",
       "raw_protein       401\n",
       "SPR                12\n",
       "breed               2\n",
       "pasture_type        3\n",
       "ancestor_breed      3\n",
       "fatness            50\n",
       "proteins           15\n",
       "is_milk_tasty       2\n",
       "is_old              2\n",
       "dtype: int64"
      ]
     },
     "execution_count": 10,
     "metadata": {},
     "output_type": "execute_result"
    }
   ],
   "source": [
    "own_herd.nunique()"
   ]
  },
  {
   "cell_type": "code",
   "execution_count": 11,
   "id": "74dd28cd",
   "metadata": {},
   "outputs": [],
   "source": [
    "float_columns = [\"EFU\", \"SPR\", \"fatness\",\"proteins\"]\n",
    "replace_fp_delimiter(float_columns, own_herd)\n",
    "own_herd = own_herd.astype({\"EFU\": \"float\",\n",
    "                            \"SPR\": \"float\",\n",
    "                            \"breed\": \"category\",\n",
    "                            \"pasture_type\": \"category\",\n",
    "                            \"ancestor_breed\": \"category\",\n",
    "                            \"fatness\": \"float\",\n",
    "                            \"proteins\": \"float\",\n",
    "                            \"is_milk_tasty\": \"category\",\n",
    "                            \"is_old\": \"category\"})\n",
    "\n",
    "own_herd[\"is_milk_tasty\"] = pd.Series([cow_milk == \"вкусно\" for cow_milk in own_herd[\"is_milk_tasty\"]], dtype=\"category\")\n",
    "own_herd[\"is_old\"] = pd.Series([cow_milk == \"более_2_лет\" for cow_milk in own_herd[\"is_old\"]], dtype=\"category\")"
   ]
  },
  {
   "cell_type": "code",
   "execution_count": 12,
   "id": "45f8d276",
   "metadata": {},
   "outputs": [
    {
     "data": {
      "text/html": [
       "<div>\n",
       "<style scoped>\n",
       "    .dataframe tbody tr th:only-of-type {\n",
       "        vertical-align: middle;\n",
       "    }\n",
       "\n",
       "    .dataframe tbody tr th {\n",
       "        vertical-align: top;\n",
       "    }\n",
       "\n",
       "    .dataframe thead th {\n",
       "        text-align: right;\n",
       "    }\n",
       "</style>\n",
       "<table border=\"1\" class=\"dataframe\">\n",
       "  <thead>\n",
       "    <tr style=\"text-align: right;\">\n",
       "      <th></th>\n",
       "      <th>id</th>\n",
       "      <th>yield</th>\n",
       "      <th>EFU</th>\n",
       "      <th>raw_protein</th>\n",
       "      <th>SPR</th>\n",
       "      <th>breed</th>\n",
       "      <th>pasture_type</th>\n",
       "      <th>ancestor_breed</th>\n",
       "      <th>fatness</th>\n",
       "      <th>proteins</th>\n",
       "      <th>is_milk_tasty</th>\n",
       "      <th>is_old</th>\n",
       "    </tr>\n",
       "  </thead>\n",
       "  <tbody>\n",
       "    <tr>\n",
       "      <th>0</th>\n",
       "      <td>1</td>\n",
       "      <td>5863</td>\n",
       "      <td>14.2</td>\n",
       "      <td>1743</td>\n",
       "      <td>0.89</td>\n",
       "      <td>Вис Бик Айдиал</td>\n",
       "      <td>Равнинное</td>\n",
       "      <td>Айдиал</td>\n",
       "      <td>3.58</td>\n",
       "      <td>3.076</td>\n",
       "      <td>True</td>\n",
       "      <td>True</td>\n",
       "    </tr>\n",
       "  </tbody>\n",
       "</table>\n",
       "</div>"
      ],
      "text/plain": [
       "   id  yield   EFU  raw_protein   SPR           breed pasture_type  \\\n",
       "0   1   5863  14.2         1743  0.89  Вис Бик Айдиал    Равнинное   \n",
       "\n",
       "  ancestor_breed  fatness  proteins is_milk_tasty is_old  \n",
       "0         Айдиал     3.58     3.076          True   True  "
      ]
     },
     "execution_count": 12,
     "metadata": {},
     "output_type": "execute_result"
    }
   ],
   "source": [
    "own_herd.head(1)"
   ]
  },
  {
   "cell_type": "code",
   "execution_count": 13,
   "id": "2b8ca7e3",
   "metadata": {},
   "outputs": [
    {
     "name": "stdout",
     "output_type": "stream",
     "text": [
      "<class 'pandas.core.frame.DataFrame'>\n",
      "Int64Index: 629 entries, 0 to 628\n",
      "Data columns (total 12 columns):\n",
      " #   Column          Non-Null Count  Dtype   \n",
      "---  ------          --------------  -----   \n",
      " 0   id              629 non-null    int64   \n",
      " 1   yield           629 non-null    int64   \n",
      " 2   EFU             629 non-null    float64 \n",
      " 3   raw_protein     629 non-null    int64   \n",
      " 4   SPR             629 non-null    float64 \n",
      " 5   breed           629 non-null    category\n",
      " 6   pasture_type    629 non-null    category\n",
      " 7   ancestor_breed  629 non-null    category\n",
      " 8   fatness         629 non-null    float64 \n",
      " 9   proteins        629 non-null    float64 \n",
      " 10  is_milk_tasty   629 non-null    category\n",
      " 11  is_old          629 non-null    category\n",
      "dtypes: category(5), float64(4), int64(3)\n",
      "memory usage: 43.0 KB\n"
     ]
    }
   ],
   "source": [
    "own_herd.info()"
   ]
  },
  {
   "cell_type": "code",
   "execution_count": 14,
   "id": "0289dbd9",
   "metadata": {},
   "outputs": [
    {
     "data": {
      "text/plain": [
       "id               629\n",
       "ancestor_name      4\n",
       "dtype: int64"
      ]
     },
     "execution_count": 14,
     "metadata": {},
     "output_type": "execute_result"
    }
   ],
   "source": [
    "cows_ancestor.nunique()"
   ]
  },
  {
   "cell_type": "code",
   "execution_count": 15,
   "id": "db4999a0",
   "metadata": {},
   "outputs": [],
   "source": [
    "cows_ancestor = cows_ancestor.astype({\"ancestor_name\": \"category\"})"
   ]
  },
  {
   "cell_type": "code",
   "execution_count": 16,
   "id": "a051b57b",
   "metadata": {},
   "outputs": [
    {
     "data": {
      "text/html": [
       "<div>\n",
       "<style scoped>\n",
       "    .dataframe tbody tr th:only-of-type {\n",
       "        vertical-align: middle;\n",
       "    }\n",
       "\n",
       "    .dataframe tbody tr th {\n",
       "        vertical-align: top;\n",
       "    }\n",
       "\n",
       "    .dataframe thead th {\n",
       "        text-align: right;\n",
       "    }\n",
       "</style>\n",
       "<table border=\"1\" class=\"dataframe\">\n",
       "  <thead>\n",
       "    <tr style=\"text-align: right;\">\n",
       "      <th></th>\n",
       "      <th>id</th>\n",
       "      <th>ancestor_name</th>\n",
       "    </tr>\n",
       "  </thead>\n",
       "  <tbody>\n",
       "    <tr>\n",
       "      <th>0</th>\n",
       "      <td>1</td>\n",
       "      <td>Буйный</td>\n",
       "    </tr>\n",
       "  </tbody>\n",
       "</table>\n",
       "</div>"
      ],
      "text/plain": [
       "   id ancestor_name\n",
       "0   1        Буйный"
      ]
     },
     "execution_count": 16,
     "metadata": {},
     "output_type": "execute_result"
    }
   ],
   "source": [
    "cows_ancestor.head(1)"
   ]
  },
  {
   "cell_type": "code",
   "execution_count": 17,
   "id": "98c69e53",
   "metadata": {},
   "outputs": [
    {
     "name": "stdout",
     "output_type": "stream",
     "text": [
      "<class 'pandas.core.frame.DataFrame'>\n",
      "RangeIndex: 629 entries, 0 to 628\n",
      "Data columns (total 2 columns):\n",
      " #   Column         Non-Null Count  Dtype   \n",
      "---  ------         --------------  -----   \n",
      " 0   id             629 non-null    int64   \n",
      " 1   ancestor_name  629 non-null    category\n",
      "dtypes: category(1), int64(1)\n",
      "memory usage: 5.9 KB\n"
     ]
    }
   ],
   "source": [
    "cows_ancestor.info()"
   ]
  },
  {
   "cell_type": "code",
   "execution_count": 18,
   "id": "b08acf13",
   "metadata": {},
   "outputs": [
    {
     "data": {
      "text/plain": [
       "breed              2\n",
       "pasture_type       2\n",
       "ancestor_breed     2\n",
       "ancestor_name      4\n",
       "fatness           12\n",
       "proteins          12\n",
       "is_old             2\n",
       "dtype: int64"
      ]
     },
     "execution_count": 18,
     "metadata": {},
     "output_type": "execute_result"
    }
   ],
   "source": [
    "sale_herd.nunique()"
   ]
  },
  {
   "cell_type": "code",
   "execution_count": 19,
   "id": "1afab8a4",
   "metadata": {},
   "outputs": [],
   "source": [
    "float_columns = [\"fatness\",\"proteins\"]\n",
    "replace_fp_delimiter(float_columns, sale_herd)\n",
    "sale_herd = sale_herd.astype({\"breed\": \"category\",\n",
    "                            \"pasture_type\": \"category\",\n",
    "                            \"ancestor_breed\": \"category\",\n",
    "                            \"ancestor_name\": \"category\",\n",
    "                            \"fatness\": \"float\",\n",
    "                            \"proteins\": \"float\",\n",
    "                            \"is_old\": \"category\"})\n",
    "\n",
    "sale_herd[\"is_old\"] = pd.Series([cow_milk == \"более_2_лет\" for cow_milk in sale_herd[\"is_old\"]], dtype=\"category\")"
   ]
  },
  {
   "cell_type": "code",
   "execution_count": 20,
   "id": "829e1e91",
   "metadata": {},
   "outputs": [
    {
     "data": {
      "text/html": [
       "<div>\n",
       "<style scoped>\n",
       "    .dataframe tbody tr th:only-of-type {\n",
       "        vertical-align: middle;\n",
       "    }\n",
       "\n",
       "    .dataframe tbody tr th {\n",
       "        vertical-align: top;\n",
       "    }\n",
       "\n",
       "    .dataframe thead th {\n",
       "        text-align: right;\n",
       "    }\n",
       "</style>\n",
       "<table border=\"1\" class=\"dataframe\">\n",
       "  <thead>\n",
       "    <tr style=\"text-align: right;\">\n",
       "      <th></th>\n",
       "      <th>breed</th>\n",
       "      <th>pasture_type</th>\n",
       "      <th>ancestor_breed</th>\n",
       "      <th>ancestor_name</th>\n",
       "      <th>fatness</th>\n",
       "      <th>proteins</th>\n",
       "      <th>is_old</th>\n",
       "    </tr>\n",
       "  </thead>\n",
       "  <tbody>\n",
       "    <tr>\n",
       "      <th>0</th>\n",
       "      <td>Вис Бик Айдиал</td>\n",
       "      <td>холмистое</td>\n",
       "      <td>Айдиал</td>\n",
       "      <td>Геркулес</td>\n",
       "      <td>3.58</td>\n",
       "      <td>3.076</td>\n",
       "      <td>True</td>\n",
       "    </tr>\n",
       "  </tbody>\n",
       "</table>\n",
       "</div>"
      ],
      "text/plain": [
       "            breed pasture_type ancestor_breed ancestor_name  fatness  \\\n",
       "0  Вис Бик Айдиал    холмистое         Айдиал      Геркулес     3.58   \n",
       "\n",
       "   proteins is_old  \n",
       "0     3.076   True  "
      ]
     },
     "execution_count": 20,
     "metadata": {},
     "output_type": "execute_result"
    }
   ],
   "source": [
    "sale_herd.head(1)"
   ]
  },
  {
   "cell_type": "code",
   "execution_count": 21,
   "id": "732a0eee",
   "metadata": {},
   "outputs": [
    {
     "name": "stdout",
     "output_type": "stream",
     "text": [
      "<class 'pandas.core.frame.DataFrame'>\n",
      "Int64Index: 16 entries, 0 to 18\n",
      "Data columns (total 7 columns):\n",
      " #   Column          Non-Null Count  Dtype   \n",
      "---  ------          --------------  -----   \n",
      " 0   breed           16 non-null     category\n",
      " 1   pasture_type    16 non-null     category\n",
      " 2   ancestor_breed  16 non-null     category\n",
      " 3   ancestor_name   16 non-null     category\n",
      " 4   fatness         16 non-null     float64 \n",
      " 5   proteins        16 non-null     float64 \n",
      " 6   is_old          13 non-null     category\n",
      "dtypes: category(5), float64(2)\n",
      "memory usage: 1.1 KB\n"
     ]
    }
   ],
   "source": [
    "sale_herd.info()"
   ]
  },
  {
   "cell_type": "markdown",
   "id": "bb6ebf08",
   "metadata": {},
   "source": [
    "Проверим наличие пропусков в данных."
   ]
  },
  {
   "cell_type": "code",
   "execution_count": 22,
   "id": "1d92806b",
   "metadata": {},
   "outputs": [
    {
     "data": {
      "text/plain": [
       "id                0\n",
       "yield             0\n",
       "EFU               0\n",
       "raw_protein       0\n",
       "SPR               0\n",
       "breed             0\n",
       "pasture_type      0\n",
       "ancestor_breed    0\n",
       "fatness           0\n",
       "proteins          0\n",
       "is_milk_tasty     0\n",
       "is_old            0\n",
       "dtype: int64"
      ]
     },
     "execution_count": 22,
     "metadata": {},
     "output_type": "execute_result"
    }
   ],
   "source": [
    "own_herd.isna().sum()"
   ]
  },
  {
   "cell_type": "code",
   "execution_count": 23,
   "id": "b2ca154b",
   "metadata": {},
   "outputs": [
    {
     "data": {
      "text/plain": [
       "id               0\n",
       "ancestor_name    0\n",
       "dtype: int64"
      ]
     },
     "execution_count": 23,
     "metadata": {},
     "output_type": "execute_result"
    }
   ],
   "source": [
    "cows_ancestor.isna().sum()"
   ]
  },
  {
   "cell_type": "code",
   "execution_count": 24,
   "id": "7ca36bb8",
   "metadata": {},
   "outputs": [
    {
     "data": {
      "text/plain": [
       "breed             0\n",
       "pasture_type      0\n",
       "ancestor_breed    0\n",
       "ancestor_name     0\n",
       "fatness           0\n",
       "proteins          0\n",
       "is_old            3\n",
       "dtype: int64"
      ]
     },
     "execution_count": 24,
     "metadata": {},
     "output_type": "execute_result"
    }
   ],
   "source": [
    "sale_herd.isna().sum()"
   ]
  },
  {
   "cell_type": "markdown",
   "id": "7ce171a6",
   "metadata": {},
   "source": [
    "## Исследовательский анализ данных"
   ]
  },
  {
   "cell_type": "markdown",
   "id": "77bea9e4",
   "metadata": {},
   "source": [
    "Рассмотрим описательную статистику данных."
   ]
  },
  {
   "cell_type": "code",
   "execution_count": 25,
   "id": "774b6588",
   "metadata": {},
   "outputs": [
    {
     "data": {
      "text/html": [
       "<div>\n",
       "<style scoped>\n",
       "    .dataframe tbody tr th:only-of-type {\n",
       "        vertical-align: middle;\n",
       "    }\n",
       "\n",
       "    .dataframe tbody tr th {\n",
       "        vertical-align: top;\n",
       "    }\n",
       "\n",
       "    .dataframe thead th {\n",
       "        text-align: right;\n",
       "    }\n",
       "</style>\n",
       "<table border=\"1\" class=\"dataframe\">\n",
       "  <thead>\n",
       "    <tr style=\"text-align: right;\">\n",
       "      <th></th>\n",
       "      <th>id</th>\n",
       "      <th>yield</th>\n",
       "      <th>EFU</th>\n",
       "      <th>raw_protein</th>\n",
       "      <th>SPR</th>\n",
       "      <th>fatness</th>\n",
       "      <th>proteins</th>\n",
       "    </tr>\n",
       "  </thead>\n",
       "  <tbody>\n",
       "    <tr>\n",
       "      <th>count</th>\n",
       "      <td>629.00000</td>\n",
       "      <td>629.000000</td>\n",
       "      <td>629.000000</td>\n",
       "      <td>629.000000</td>\n",
       "      <td>629.000000</td>\n",
       "      <td>629.000000</td>\n",
       "      <td>629.000000</td>\n",
       "    </tr>\n",
       "    <tr>\n",
       "      <th>mean</th>\n",
       "      <td>315.00000</td>\n",
       "      <td>6188.750397</td>\n",
       "      <td>14.543879</td>\n",
       "      <td>1923.364070</td>\n",
       "      <td>0.913116</td>\n",
       "      <td>3.603657</td>\n",
       "      <td>3.075671</td>\n",
       "    </tr>\n",
       "    <tr>\n",
       "      <th>std</th>\n",
       "      <td>181.72094</td>\n",
       "      <td>1644.795489</td>\n",
       "      <td>1.306408</td>\n",
       "      <td>182.956251</td>\n",
       "      <td>0.032203</td>\n",
       "      <td>0.168656</td>\n",
       "      <td>0.002549</td>\n",
       "    </tr>\n",
       "    <tr>\n",
       "      <th>min</th>\n",
       "      <td>1.00000</td>\n",
       "      <td>5204.000000</td>\n",
       "      <td>10.900000</td>\n",
       "      <td>1660.000000</td>\n",
       "      <td>0.840000</td>\n",
       "      <td>2.990000</td>\n",
       "      <td>3.069000</td>\n",
       "    </tr>\n",
       "    <tr>\n",
       "      <th>25%</th>\n",
       "      <td>158.00000</td>\n",
       "      <td>5751.000000</td>\n",
       "      <td>13.500000</td>\n",
       "      <td>1771.000000</td>\n",
       "      <td>0.890000</td>\n",
       "      <td>3.590000</td>\n",
       "      <td>3.074000</td>\n",
       "    </tr>\n",
       "    <tr>\n",
       "      <th>50%</th>\n",
       "      <td>315.00000</td>\n",
       "      <td>6133.000000</td>\n",
       "      <td>14.700000</td>\n",
       "      <td>1888.000000</td>\n",
       "      <td>0.930000</td>\n",
       "      <td>3.650000</td>\n",
       "      <td>3.076000</td>\n",
       "    </tr>\n",
       "    <tr>\n",
       "      <th>75%</th>\n",
       "      <td>472.00000</td>\n",
       "      <td>6501.000000</td>\n",
       "      <td>15.600000</td>\n",
       "      <td>2062.000000</td>\n",
       "      <td>0.940000</td>\n",
       "      <td>3.720000</td>\n",
       "      <td>3.077000</td>\n",
       "    </tr>\n",
       "    <tr>\n",
       "      <th>max</th>\n",
       "      <td>629.00000</td>\n",
       "      <td>45616.000000</td>\n",
       "      <td>16.800000</td>\n",
       "      <td>2349.000000</td>\n",
       "      <td>0.960000</td>\n",
       "      <td>3.750000</td>\n",
       "      <td>3.085000</td>\n",
       "    </tr>\n",
       "  </tbody>\n",
       "</table>\n",
       "</div>"
      ],
      "text/plain": [
       "              id         yield         EFU  raw_protein         SPR  \\\n",
       "count  629.00000    629.000000  629.000000   629.000000  629.000000   \n",
       "mean   315.00000   6188.750397   14.543879  1923.364070    0.913116   \n",
       "std    181.72094   1644.795489    1.306408   182.956251    0.032203   \n",
       "min      1.00000   5204.000000   10.900000  1660.000000    0.840000   \n",
       "25%    158.00000   5751.000000   13.500000  1771.000000    0.890000   \n",
       "50%    315.00000   6133.000000   14.700000  1888.000000    0.930000   \n",
       "75%    472.00000   6501.000000   15.600000  2062.000000    0.940000   \n",
       "max    629.00000  45616.000000   16.800000  2349.000000    0.960000   \n",
       "\n",
       "          fatness    proteins  \n",
       "count  629.000000  629.000000  \n",
       "mean     3.603657    3.075671  \n",
       "std      0.168656    0.002549  \n",
       "min      2.990000    3.069000  \n",
       "25%      3.590000    3.074000  \n",
       "50%      3.650000    3.076000  \n",
       "75%      3.720000    3.077000  \n",
       "max      3.750000    3.085000  "
      ]
     },
     "execution_count": 25,
     "metadata": {},
     "output_type": "execute_result"
    }
   ],
   "source": [
    "own_herd.describe()"
   ]
  },
  {
   "cell_type": "markdown",
   "id": "58215ef0",
   "metadata": {},
   "source": [
    "Максимальный надой нереалистично большой. Вероятно, в данных есть выбросы."
   ]
  },
  {
   "cell_type": "code",
   "execution_count": 27,
   "id": "b4cadaa0",
   "metadata": {},
   "outputs": [
    {
     "data": {
      "text/html": [
       "<div>\n",
       "<style scoped>\n",
       "    .dataframe tbody tr th:only-of-type {\n",
       "        vertical-align: middle;\n",
       "    }\n",
       "\n",
       "    .dataframe tbody tr th {\n",
       "        vertical-align: top;\n",
       "    }\n",
       "\n",
       "    .dataframe thead th {\n",
       "        text-align: right;\n",
       "    }\n",
       "</style>\n",
       "<table border=\"1\" class=\"dataframe\">\n",
       "  <thead>\n",
       "    <tr style=\"text-align: right;\">\n",
       "      <th></th>\n",
       "      <th>fatness</th>\n",
       "      <th>proteins</th>\n",
       "    </tr>\n",
       "  </thead>\n",
       "  <tbody>\n",
       "    <tr>\n",
       "      <th>count</th>\n",
       "      <td>16.000000</td>\n",
       "      <td>16.000000</td>\n",
       "    </tr>\n",
       "    <tr>\n",
       "      <th>mean</th>\n",
       "      <td>3.571875</td>\n",
       "      <td>3.068250</td>\n",
       "    </tr>\n",
       "    <tr>\n",
       "      <th>std</th>\n",
       "      <td>0.141620</td>\n",
       "      <td>0.011264</td>\n",
       "    </tr>\n",
       "    <tr>\n",
       "      <th>min</th>\n",
       "      <td>3.340000</td>\n",
       "      <td>3.046000</td>\n",
       "    </tr>\n",
       "    <tr>\n",
       "      <th>25%</th>\n",
       "      <td>3.415000</td>\n",
       "      <td>3.059500</td>\n",
       "    </tr>\n",
       "    <tr>\n",
       "      <th>50%</th>\n",
       "      <td>3.585000</td>\n",
       "      <td>3.073500</td>\n",
       "    </tr>\n",
       "    <tr>\n",
       "      <th>75%</th>\n",
       "      <td>3.692500</td>\n",
       "      <td>3.076750</td>\n",
       "    </tr>\n",
       "    <tr>\n",
       "      <th>max</th>\n",
       "      <td>3.770000</td>\n",
       "      <td>3.081000</td>\n",
       "    </tr>\n",
       "  </tbody>\n",
       "</table>\n",
       "</div>"
      ],
      "text/plain": [
       "         fatness   proteins\n",
       "count  16.000000  16.000000\n",
       "mean    3.571875   3.068250\n",
       "std     0.141620   0.011264\n",
       "min     3.340000   3.046000\n",
       "25%     3.415000   3.059500\n",
       "50%     3.585000   3.073500\n",
       "75%     3.692500   3.076750\n",
       "max     3.770000   3.081000"
      ]
     },
     "execution_count": 27,
     "metadata": {},
     "output_type": "execute_result"
    }
   ],
   "source": [
    "sale_herd.describe()"
   ]
  },
  {
   "cell_type": "markdown",
   "id": "6a4dd690",
   "metadata": {},
   "source": [
    "Для продаваемых коров количественные данные выглядят адекватно."
   ]
  },
  {
   "cell_type": "markdown",
   "id": "9f3b73c4",
   "metadata": {},
   "source": [
    "Далее рассмотрим в деталях каждый из признаков. Начнём с надоя."
   ]
  },
  {
   "cell_type": "code",
   "execution_count": null,
   "id": "da722a0b",
   "metadata": {},
   "outputs": [
    {
     "data": {
      "text/plain": [
       "<AxesSubplot:>"
      ]
     },
     "execution_count": 34,
     "metadata": {},
     "output_type": "execute_result"
    },
    {
     "data": {
      "image/png": "[encoded data removed]",
      "text/plain": [
       "<Figure size 640x480 with 1 Axes>"
      ]
     },
     "metadata": {},
     "output_type": "display_data"
    }
   ],
   "source": [
    "own_herd[\"yield\"].hist(bins=50)"
   ]
  },
  {
   "cell_type": "markdown",
   "id": "56f977b8",
   "metadata": {},
   "source": [
    "Удалим нереалистично большой выброс и построим график частот заново."
   ]
  },
  {
   "cell_type": "code",
   "execution_count": 35,
   "id": "476f393b",
   "metadata": {},
   "outputs": [
    {
     "data": {
      "text/plain": [
       "<AxesSubplot:>"
      ]
     },
     "execution_count": 35,
     "metadata": {},
     "output_type": "execute_result"
    },
    {
     "data": {
      "image/png": "[encoded data removed]",
      "text/plain": [
       "<Figure size 640x480 with 1 Axes>"
      ]
     },
     "metadata": {},
     "output_type": "display_data"
    }
   ],
   "source": [
    "own_herd = own_herd[own_herd[\"yield\"] < 15000]\n",
    "own_herd[\"yield\"].hist(bins=50)"
   ]
  },
  {
   "cell_type": "markdown",
   "id": "2b727356",
   "metadata": {},
   "source": [
    "Надоё распределён унимодально. Коров, имеющих большие надои меньше. В целом, достаточно редко встречаются коровы с надоем больше 6900 кг в год."
   ]
  },
  {
   "cell_type": "code",
   "execution_count": 32,
   "id": "96feb53c",
   "metadata": {},
   "outputs": [
    {
     "name": "stdout",
     "output_type": "stream",
     "text": [
      "<class 'pandas.core.frame.DataFrame'>\n",
      "Int64Index: 628 entries, 0 to 628\n",
      "Data columns (total 12 columns):\n",
      " #   Column          Non-Null Count  Dtype   \n",
      "---  ------          --------------  -----   \n",
      " 0   id              628 non-null    int64   \n",
      " 1   yield           628 non-null    int64   \n",
      " 2   EFU             628 non-null    float64 \n",
      " 3   raw_protein     628 non-null    int64   \n",
      " 4   SPR             628 non-null    float64 \n",
      " 5   breed           628 non-null    category\n",
      " 6   pasture_type    628 non-null    category\n",
      " 7   ancestor_breed  628 non-null    category\n",
      " 8   fatness         628 non-null    float64 \n",
      " 9   proteins        628 non-null    float64 \n",
      " 10  is_milk_tasty   628 non-null    category\n",
      " 11  is_old          628 non-null    category\n",
      "dtypes: category(5), float64(4), int64(3)\n",
      "memory usage: 42.9 KB\n"
     ]
    }
   ],
   "source": [
    "own_herd.info()"
   ]
  },
  {
   "cell_type": "code",
   "execution_count": 37,
   "id": "fbf9357b",
   "metadata": {},
   "outputs": [
    {
     "data": {
      "text/plain": [
       "<AxesSubplot:>"
      ]
     },
     "execution_count": 37,
     "metadata": {},
     "output_type": "execute_result"
    },
    {
     "data": {
      "image/png": "[encoded data removed]",
      "text/plain": [
       "<Figure size 640x480 with 1 Axes>"
      ]
     },
     "metadata": {},
     "output_type": "display_data"
    }
   ],
   "source": [
    "own_herd[\"EFU\"].hist(bins=50)"
   ]
  },
  {
   "cell_type": "markdown",
   "id": "dd6aba81",
   "metadata": {},
   "source": [
    "На графике видно, что нескольким коровам попался корм с очень низкой энергетической ценностью. Стоит запомнить эту особенность и в дальнейшем решить, что с этим делать."
   ]
  },
  {
   "cell_type": "code",
   "execution_count": 38,
   "id": "47c52ced",
   "metadata": {},
   "outputs": [
    {
     "data": {
      "text/plain": [
       "<AxesSubplot:>"
      ]
     },
     "execution_count": 38,
     "metadata": {},
     "output_type": "execute_result"
    },
    {
     "data": {
      "image/png": "[encoded data removed]",
      "text/plain": [
       "<Figure size 640x480 with 1 Axes>"
      ]
     },
     "metadata": {},
     "output_type": "display_data"
    }
   ],
   "source": [
    "own_herd[\"SPR\"].hist(bins=50)"
   ]
  },
  {
   "cell_type": "markdown",
   "id": "d42e1db5",
   "metadata": {},
   "source": [
    "Можно выделить три группы коров по сахаро-протеиновое соотношению в их корме: менее 0.87, от 0.87 до 0.91 и более 0.91. Рассмотрим как отличаются удой и вкус молока у коров из этих групп."
   ]
  },
  {
   "cell_type": "code",
   "execution_count": 88,
   "id": "825250e5",
   "metadata": {},
   "outputs": [
    {
     "data": {
      "image/png": "[encoded data removed]",
      "text/plain": [
       "<Figure size 1200x400 with 2 Axes>"
      ]
     },
     "metadata": {},
     "output_type": "display_data"
    }
   ],
   "source": [
    "low_SPR = own_herd[own_herd[\"SPR\"] < 0.87]\n",
    "mid_SPR = own_herd[(own_herd[\"SPR\"] >= 0.87) & (own_herd[\"SPR\"] < 0.91)]\n",
    "high_SPR = own_herd[own_herd[\"SPR\"] >= 0.91]\n",
    "\n",
    "fig, (ax1, ax2) = plt.subplots(1, 2, figsize=(12, 4))\n",
    "line11 = ax1.hist(low_SPR[\"yield\"], bins=30, alpha = 0.4, color= 'r')\n",
    "line12 = ax1.hist(mid_SPR[\"yield\"], bins=30, alpha = 0.4, color= 'g')\n",
    "line13 = ax1.hist(high_SPR[\"yield\"], bins=30, alpha = 0.4, color= 'b')\n",
    "ax1.set_title('Надой по питательности корма')\n",
    "ax1.set_xlabel(\"Надой коров\")\n",
    "ax1.set_ylabel(\"Количество коров с соответсвующим надоем\")\n",
    "ax1.legend(['Низкая питательность', 'Средняя питательность', 'Высокая питательность'])\n",
    "\n",
    "line21 = ax2.bar(1, low_SPR[low_SPR[\"is_milk_tasty\"]].shape[0] / low_SPR.shape[0], color= 'r', alpha = 0.4)\n",
    "line22 = ax2.bar(2, mid_SPR[mid_SPR[\"is_milk_tasty\"]].shape[0] / mid_SPR.shape[0], color= 'g', alpha = 0.4)\n",
    "line23 = ax2.bar(3, high_SPR[high_SPR[\"is_milk_tasty\"]].shape[0] / high_SPR.shape[0], color= 'b', alpha = 0.4)\n",
    "ax2.set_title('Вкус молока по питательности корма')\n",
    "ax2.set_xlabel(\"Вкус молока\")\n",
    "ax2.set_ylabel(\"Количество коров с соответсвующим вкусом\")\n",
    "ax2.legend(['Высокая питательность', 'Средняя питательность', 'Низкая питательность'])\n",
    "\n",
    "plt.tight_layout()\n",
    "plt.show()"
   ]
  },
  {
   "cell_type": "markdown",
   "id": "c54a9109",
   "metadata": {},
   "source": [
    "Делаем вывод что питательность корма может влиять на надой. Только корм с высокими энергетическими кормовыми единицами позволяет получить большие надои. Так же делаем вывод, что корм с низкой питательностью делает молоко невкусным."
   ]
  },
  {
   "cell_type": "markdown",
   "id": "641a55c1",
   "metadata": {},
   "source": [
    "## План исследования"
   ]
  },
  {
   "cell_type": "markdown",
   "id": "4d2fd80f",
   "metadata": {},
   "source": [
    "1) Подготовка и фильтрация данных\n",
    "2) Исследовательский анализ данных\n",
    "3) Подготовка данных к ML\n",
    "4) Обучение экспериментальных моделей линейной регрессии\n",
    "5) Оценка метрик\n",
    "6) Промежуточные выводы\n",
    "7) Подготовка данных для логистической регрессии\n",
    "8) Обучение экспериментальных моделей логистической регрессии\n",
    "9) Оценка метрик\n",
    "10) Промежуточные выводы\n",
    "10) Общие выводы"
   ]
  },
  {
   "cell_type": "markdown",
   "id": "a6d97b33",
   "metadata": {},
   "source": [
    "## План исследования"
   ]
  },
  {
   "cell_type": "markdown",
   "id": "fc481dde",
   "metadata": {},
   "source": [
    "1) Подготовка и фильтрация данных\n",
    "2) Исследовательский анализ данных\n",
    "3) Подготовка данных к ML\n",
    "4) Обучение экспериментальных моделей линейной регрессии\n",
    "5) Оценка метрик\n",
    "6) Промежуточные выводы\n",
    "7) Подготовка данных для логистической регрессии\n",
    "8) Обучение экспериментальных моделей логистической регрессии\n",
    "9) Оценка метрик\n",
    "10) Промежуточные выводы\n",
    "10) Общие выводы"
   ]
  },
  {
   "cell_type": "markdown",
   "id": "4e81e621",
   "metadata": {},
   "source": [
    "## Корреляционный анализ"
   ]
  },
  {
   "cell_type": "code",
   "execution_count": null,
   "id": "6591835e",
   "metadata": {},
   "outputs": [],
   "source": []
  },
  {
   "cell_type": "markdown",
   "id": "b1a0869f",
   "metadata": {},
   "source": [
    "## Обучение модели линейной регрессии"
   ]
  },
  {
   "cell_type": "code",
   "execution_count": null,
   "id": "80ab3b75",
   "metadata": {},
   "outputs": [],
   "source": []
  },
  {
   "cell_type": "markdown",
   "id": "3f38e842",
   "metadata": {},
   "source": [
    "## Обучение модели логистической регрессии"
   ]
  },
  {
   "cell_type": "code",
   "execution_count": null,
   "id": "0b600ca9",
   "metadata": {},
   "outputs": [],
   "source": []
  },
  {
   "cell_type": "markdown",
   "id": "bfad7482",
   "metadata": {},
   "source": [
    "## Итоговые выводы"
   ]
  },
  {
   "cell_type": "code",
   "execution_count": null,
   "id": "a081f0a7",
   "metadata": {},
   "outputs": [],
   "source": []
  },
  {
   "cell_type": "code",
   "execution_count": null,
   "id": "105bbc1f",
   "metadata": {},
   "outputs": [],
   "source": []
  }
 ],
 "metadata": {
  "kernelspec": {
   "display_name": "practicum",
   "language": "python",
   "name": "python3"
  },
  "language_info": {
   "codemirror_mode": {
    "name": "ipython",
    "version": 3
   },
   "file_extension": ".py",
   "mimetype": "text/x-python",
   "name": "python",
   "nbconvert_exporter": "python",
   "pygments_lexer": "ipython3",
   "version": "3.9.21"
  },
  "toc": {
   "base_numbering": 1,
   "nav_menu": {},
   "number_sections": false,
   "sideBar": true,
   "skip_h1_title": false,
   "title_cell": "Table of Contents",
   "title_sidebar": "Contents",
   "toc_cell": false,
   "toc_position": {},
   "toc_section_display": true,
   "toc_window_display": false
  },
  "varInspector": {
   "cols": {
    "lenName": 16,
    "lenType": 16,
    "lenVar": 40
   },
   "kernels_config": {
    "python": {
     "delete_cmd_postfix": "",
     "delete_cmd_prefix": "del ",
     "library": "var_list.py",
     "varRefreshCmd": "print(var_dic_list())"
    },
    "r": {
     "delete_cmd_postfix": ") ",
     "delete_cmd_prefix": "rm(",
     "library": "var_list.r",
     "varRefreshCmd": "cat(var_dic_list()) "
    }
   },
   "types_to_exclude": [
    "module",
    "function",
    "builtin_function_or_method",
    "instance",
    "_Feature"
   ],
   "window_display": false
  }
 },
 "nbformat": 4,
 "nbformat_minor": 5
}
