{
 "cells": [
  {
   "cell_type": "markdown",
   "id": "e2eecca8",
   "metadata": {},
   "source": [
    "# Предсказание увольнения сотрудника\n",
    "\n",
    "Необходимо создать модели для предсказания удовлетворённостью работой и вероятностью увольнения сотрудников.\n",
    "\n",
    "## Цель\n",
    "С помощью модели необходимо предсказывать удовлетворённость и вероятность ухода из компании сотрудников:\n",
    " - выбрать алгоритм и обучить модель регрессии, предсказвающую удовлетворённость сотрудника своим местом работы;\n",
    " - выбрать алгоритм и обучить модель классификации, предсказывающую увольнение сотрундика;\n",
    " - исследовать связь удовлетворённости рабочим местом и вероятностью его увольнения\n",
    " - построить основную уточнённую модель предсказания вероятности увольнения сотрудника \n",
    " - дать рекомендации по повышению удовлетворённости сотрудников работой и их удержанию в компании\n",
    "\n",
    "## Описание данных:\n",
    "### Характеристики сотрудника\n",
    "- `id` — уникальный идентификатор сотрудника;\n",
    "- `dept` — отдел, в котором работает сотрудник;\n",
    "- `level` — уровень занимаемой должности;\n",
    "- `workload` — уровень загруженности сотрудника;\n",
    "- `employment_years` — длительность работы в компании (в годах);\n",
    "- `last_year_promo` — показывает, было ли повышение за последний год;\n",
    "- `last_year_violations` — показывает, нарушал ли сотрудник трудовой договор за последний год;\n",
    "- `supervisor_evaluation` — оценка качества работы сотрудника, которую дал руководитель;\n",
    "- `salary` — ежемесячная зарплата сотрудника;\n",
    "- `job_satisfaction_rate` — уровень удовлетворённости сотрудника работой в компании, целевой признак.\n",
    "### Увольнение сотрудника\n",
    "- `id` — уникальный идентификатор сотрудника;\n",
    "- `quit` — признак увольнения сотрудника."
   ]
  },
  {
   "cell_type": "markdown",
   "id": "33e4d3f3",
   "metadata": {},
   "source": [
    "## План исследования"
   ]
  },
  {
   "cell_type": "markdown",
   "id": "f5bf7b29",
   "metadata": {},
   "source": [
    "1) Предобработка данных\n",
    "2) Исследовательский анализ данных\n",
    "3) Корреляционный анализ\n",
    "4) Построение пайплайнов для выбора лучшей модели регрессии\n",
    "5) Анализ важности признаков регрессии\n",
    "6) Построение основной уточнённой модели предсказания вероятности увольнения сотрудника\n",
    "7) Анализ важности признаков улучшенной модели\n",
    "8) Предложения по повышению удовлетворённости сотрудников работой и их удержанию в компании\n",
    "9) Общий вывод"
   ]
  },
  {
   "cell_type": "markdown",
   "id": "d34bbcd3",
   "metadata": {},
   "source": [
    "##  Предобработка данных"
   ]
  },
  {
   "cell_type": "markdown",
   "id": "be939b93",
   "metadata": {},
   "source": [
    "### Импорт модулей"
   ]
  },
  {
   "cell_type": "markdown",
   "id": "c6b0a984",
   "metadata": {
    "trusted": false
   },
   "source": [
    "! pip install shap\n",
    "! pip install phik"
   ]
  },
  {
   "cell_type": "code",
   "execution_count": 1,
   "id": "592b4ee2",
   "metadata": {
    "scrolled": false,
    "trusted": false
   },
   "outputs": [],
   "source": [
    "import pandas as pd\n",
    "import numpy as np\n",
    "from matplotlib import pyplot as plt\n",
    "from matplotlib import ticker as mtick\n",
    "import seaborn as sns\n",
    "from typing import Optional\n",
    "import random\n",
    "import phik\n",
    "from sklearn.model_selection import RandomizedSearchCV\n",
    "from sklearn.pipeline import Pipeline\n",
    "from sklearn.compose import ColumnTransformer\n",
    "import matplotlib.patches as mpatches\n",
    "from matplotlib.colors import LinearSegmentedColormap, Normalize\n",
    "from matplotlib.cm import ScalarMappable\n",
    "from sklearn.impute import SimpleImputer\n",
    "from sklearn.linear_model import LinearRegression, LogisticRegression, ElasticNet\n",
    "from sklearn.tree import DecisionTreeRegressor, DecisionTreeClassifier\n",
    "from sklearn.neighbors import KNeighborsRegressor, KNeighborsClassifier\n",
    "from sklearn.svm import SVR, SVC\n",
    "from sklearn.preprocessing import StandardScaler, MaxAbsScaler, RobustScaler, MinMaxScaler, OneHotEncoder, OrdinalEncoder\n",
    "from sklearn.metrics import make_scorer\n",
    "from statsmodels.stats.outliers_influence import variance_inflation_factor\n",
    "from sklearn.inspection import permutation_importance\n",
    "from statsmodels.tools.tools import add_constant"
   ]
  },
  {
   "cell_type": "markdown",
   "id": "79183826",
   "metadata": {},
   "source": [
    "Определение констант"
   ]
  },
  {
   "cell_type": "code",
   "execution_count": 2,
   "id": "b9d89c00",
   "metadata": {
    "trusted": false
   },
   "outputs": [],
   "source": [
    "RANDOM_STATE = 1"
   ]
  },
  {
   "cell_type": "markdown",
   "id": "825e5244",
   "metadata": {},
   "source": [
    "Загрузка данных"
   ]
  },
  {
   "cell_type": "code",
   "execution_count": 3,
   "id": "19a750e4",
   "metadata": {
    "trusted": false
   },
   "outputs": [
    {
     "data": {
      "text/html": [
       "<div>\n",
       "<style scoped>\n",
       "    .dataframe tbody tr th:only-of-type {\n",
       "        vertical-align: middle;\n",
       "    }\n",
       "\n",
       "    .dataframe tbody tr th {\n",
       "        vertical-align: top;\n",
       "    }\n",
       "\n",
       "    .dataframe thead th {\n",
       "        text-align: right;\n",
       "    }\n",
       "</style>\n",
       "<table border=\"1\" class=\"dataframe\">\n",
       "  <thead>\n",
       "    <tr style=\"text-align: right;\">\n",
       "      <th></th>\n",
       "      <th>id</th>\n",
       "      <th>dept</th>\n",
       "      <th>level</th>\n",
       "      <th>workload</th>\n",
       "      <th>employment_years</th>\n",
       "      <th>last_year_promo</th>\n",
       "      <th>last_year_violations</th>\n",
       "      <th>supervisor_evaluation</th>\n",
       "      <th>salary</th>\n",
       "    </tr>\n",
       "  </thead>\n",
       "  <tbody>\n",
       "    <tr>\n",
       "      <th>0</th>\n",
       "      <td>485046</td>\n",
       "      <td>marketing</td>\n",
       "      <td>junior</td>\n",
       "      <td>medium</td>\n",
       "      <td>2</td>\n",
       "      <td>no</td>\n",
       "      <td>no</td>\n",
       "      <td>5</td>\n",
       "      <td>28800</td>\n",
       "    </tr>\n",
       "    <tr>\n",
       "      <th>1</th>\n",
       "      <td>686555</td>\n",
       "      <td>hr</td>\n",
       "      <td>junior</td>\n",
       "      <td>medium</td>\n",
       "      <td>1</td>\n",
       "      <td>no</td>\n",
       "      <td>no</td>\n",
       "      <td>4</td>\n",
       "      <td>30000</td>\n",
       "    </tr>\n",
       "    <tr>\n",
       "      <th>2</th>\n",
       "      <td>467458</td>\n",
       "      <td>sales</td>\n",
       "      <td>middle</td>\n",
       "      <td>low</td>\n",
       "      <td>5</td>\n",
       "      <td>no</td>\n",
       "      <td>no</td>\n",
       "      <td>4</td>\n",
       "      <td>19200</td>\n",
       "    </tr>\n",
       "    <tr>\n",
       "      <th>3</th>\n",
       "      <td>418655</td>\n",
       "      <td>sales</td>\n",
       "      <td>middle</td>\n",
       "      <td>low</td>\n",
       "      <td>6</td>\n",
       "      <td>no</td>\n",
       "      <td>no</td>\n",
       "      <td>4</td>\n",
       "      <td>19200</td>\n",
       "    </tr>\n",
       "    <tr>\n",
       "      <th>4</th>\n",
       "      <td>789145</td>\n",
       "      <td>hr</td>\n",
       "      <td>middle</td>\n",
       "      <td>medium</td>\n",
       "      <td>5</td>\n",
       "      <td>no</td>\n",
       "      <td>no</td>\n",
       "      <td>5</td>\n",
       "      <td>40800</td>\n",
       "    </tr>\n",
       "    <tr>\n",
       "      <th>5</th>\n",
       "      <td>429973</td>\n",
       "      <td>purchasing</td>\n",
       "      <td>middle</td>\n",
       "      <td>medium</td>\n",
       "      <td>6</td>\n",
       "      <td>no</td>\n",
       "      <td>no</td>\n",
       "      <td>3</td>\n",
       "      <td>42000</td>\n",
       "    </tr>\n",
       "    <tr>\n",
       "      <th>6</th>\n",
       "      <td>850699</td>\n",
       "      <td>technology</td>\n",
       "      <td>junior</td>\n",
       "      <td>medium</td>\n",
       "      <td>3</td>\n",
       "      <td>no</td>\n",
       "      <td>no</td>\n",
       "      <td>3</td>\n",
       "      <td>26400</td>\n",
       "    </tr>\n",
       "    <tr>\n",
       "      <th>7</th>\n",
       "      <td>500791</td>\n",
       "      <td>sales</td>\n",
       "      <td>middle</td>\n",
       "      <td>high</td>\n",
       "      <td>9</td>\n",
       "      <td>no</td>\n",
       "      <td>no</td>\n",
       "      <td>4</td>\n",
       "      <td>49200</td>\n",
       "    </tr>\n",
       "    <tr>\n",
       "      <th>8</th>\n",
       "      <td>767867</td>\n",
       "      <td>marketing</td>\n",
       "      <td>middle</td>\n",
       "      <td>high</td>\n",
       "      <td>3</td>\n",
       "      <td>no</td>\n",
       "      <td>yes</td>\n",
       "      <td>4</td>\n",
       "      <td>62400</td>\n",
       "    </tr>\n",
       "    <tr>\n",
       "      <th>9</th>\n",
       "      <td>937235</td>\n",
       "      <td>sales</td>\n",
       "      <td>junior</td>\n",
       "      <td>medium</td>\n",
       "      <td>1</td>\n",
       "      <td>no</td>\n",
       "      <td>yes</td>\n",
       "      <td>3</td>\n",
       "      <td>26400</td>\n",
       "    </tr>\n",
       "    <tr>\n",
       "      <th>10</th>\n",
       "      <td>354261</td>\n",
       "      <td>technology</td>\n",
       "      <td>junior</td>\n",
       "      <td>low</td>\n",
       "      <td>3</td>\n",
       "      <td>no</td>\n",
       "      <td>no</td>\n",
       "      <td>3</td>\n",
       "      <td>14400</td>\n",
       "    </tr>\n",
       "    <tr>\n",
       "      <th>11</th>\n",
       "      <td>473072</td>\n",
       "      <td>hr</td>\n",
       "      <td>middle</td>\n",
       "      <td>medium</td>\n",
       "      <td>1</td>\n",
       "      <td>no</td>\n",
       "      <td>no</td>\n",
       "      <td>4</td>\n",
       "      <td>36000</td>\n",
       "    </tr>\n",
       "    <tr>\n",
       "      <th>12</th>\n",
       "      <td>984128</td>\n",
       "      <td>sales</td>\n",
       "      <td>middle</td>\n",
       "      <td>medium</td>\n",
       "      <td>5</td>\n",
       "      <td>no</td>\n",
       "      <td>no</td>\n",
       "      <td>3</td>\n",
       "      <td>33600</td>\n",
       "    </tr>\n",
       "    <tr>\n",
       "      <th>13</th>\n",
       "      <td>252146</td>\n",
       "      <td>marketing</td>\n",
       "      <td>middle</td>\n",
       "      <td>low</td>\n",
       "      <td>7</td>\n",
       "      <td>no</td>\n",
       "      <td>yes</td>\n",
       "      <td>1</td>\n",
       "      <td>19200</td>\n",
       "    </tr>\n",
       "    <tr>\n",
       "      <th>14</th>\n",
       "      <td>838149</td>\n",
       "      <td>technology</td>\n",
       "      <td>middle</td>\n",
       "      <td>medium</td>\n",
       "      <td>4</td>\n",
       "      <td>yes</td>\n",
       "      <td>no</td>\n",
       "      <td>2</td>\n",
       "      <td>44400</td>\n",
       "    </tr>\n",
       "    <tr>\n",
       "      <th>15</th>\n",
       "      <td>590867</td>\n",
       "      <td>marketing</td>\n",
       "      <td>junior</td>\n",
       "      <td></td>\n",
       "      <td>4</td>\n",
       "      <td>no</td>\n",
       "      <td>no</td>\n",
       "      <td>4</td>\n",
       "      <td>28800</td>\n",
       "    </tr>\n",
       "    <tr>\n",
       "      <th>16</th>\n",
       "      <td>849959</td>\n",
       "      <td>technology</td>\n",
       "      <td>middle</td>\n",
       "      <td>low</td>\n",
       "      <td>2</td>\n",
       "      <td>no</td>\n",
       "      <td>no</td>\n",
       "      <td>4</td>\n",
       "      <td>27600</td>\n",
       "    </tr>\n",
       "    <tr>\n",
       "      <th>17</th>\n",
       "      <td>780847</td>\n",
       "      <td>sales</td>\n",
       "      <td>junior</td>\n",
       "      <td>low</td>\n",
       "      <td>1</td>\n",
       "      <td>no</td>\n",
       "      <td>no</td>\n",
       "      <td>2</td>\n",
       "      <td>14400</td>\n",
       "    </tr>\n",
       "    <tr>\n",
       "      <th>18</th>\n",
       "      <td>335909</td>\n",
       "      <td>hr</td>\n",
       "      <td>junior</td>\n",
       "      <td>low</td>\n",
       "      <td>1</td>\n",
       "      <td>no</td>\n",
       "      <td>no</td>\n",
       "      <td>1</td>\n",
       "      <td>12000</td>\n",
       "    </tr>\n",
       "    <tr>\n",
       "      <th>19</th>\n",
       "      <td>179164</td>\n",
       "      <td>technology</td>\n",
       "      <td>sinior</td>\n",
       "      <td>medium</td>\n",
       "      <td>8</td>\n",
       "      <td>no</td>\n",
       "      <td>no</td>\n",
       "      <td>4</td>\n",
       "      <td>64800</td>\n",
       "    </tr>\n",
       "  </tbody>\n",
       "</table>\n",
       "</div>"
      ],
      "text/plain": [
       "        id        dept   level workload  employment_years last_year_promo  \\\n",
       "0   485046   marketing  junior   medium                 2              no   \n",
       "1   686555          hr  junior   medium                 1              no   \n",
       "2   467458       sales  middle      low                 5              no   \n",
       "3   418655       sales  middle      low                 6              no   \n",
       "4   789145          hr  middle   medium                 5              no   \n",
       "5   429973  purchasing  middle   medium                 6              no   \n",
       "6   850699  technology  junior   medium                 3              no   \n",
       "7   500791       sales  middle     high                 9              no   \n",
       "8   767867   marketing  middle     high                 3              no   \n",
       "9   937235       sales  junior   medium                 1              no   \n",
       "10  354261  technology  junior      low                 3              no   \n",
       "11  473072          hr  middle   medium                 1              no   \n",
       "12  984128       sales  middle   medium                 5              no   \n",
       "13  252146   marketing  middle      low                 7              no   \n",
       "14  838149  technology  middle   medium                 4             yes   \n",
       "15  590867   marketing  junior                          4              no   \n",
       "16  849959  technology  middle      low                 2              no   \n",
       "17  780847       sales  junior      low                 1              no   \n",
       "18  335909          hr  junior      low                 1              no   \n",
       "19  179164  technology  sinior   medium                 8              no   \n",
       "\n",
       "   last_year_violations  supervisor_evaluation  salary  \n",
       "0                    no                      5   28800  \n",
       "1                    no                      4   30000  \n",
       "2                    no                      4   19200  \n",
       "3                    no                      4   19200  \n",
       "4                    no                      5   40800  \n",
       "5                    no                      3   42000  \n",
       "6                    no                      3   26400  \n",
       "7                    no                      4   49200  \n",
       "8                   yes                      4   62400  \n",
       "9                   yes                      3   26400  \n",
       "10                   no                      3   14400  \n",
       "11                   no                      4   36000  \n",
       "12                   no                      3   33600  \n",
       "13                  yes                      1   19200  \n",
       "14                   no                      2   44400  \n",
       "15                   no                      4   28800  \n",
       "16                   no                      4   27600  \n",
       "17                   no                      2   14400  \n",
       "18                   no                      1   12000  \n",
       "19                   no                      4   64800  "
      ]
     },
     "metadata": {},
     "output_type": "display_data"
    },
    {
     "data": {
      "text/html": [
       "<div>\n",
       "<style scoped>\n",
       "    .dataframe tbody tr th:only-of-type {\n",
       "        vertical-align: middle;\n",
       "    }\n",
       "\n",
       "    .dataframe tbody tr th {\n",
       "        vertical-align: top;\n",
       "    }\n",
       "\n",
       "    .dataframe thead th {\n",
       "        text-align: right;\n",
       "    }\n",
       "</style>\n",
       "<table border=\"1\" class=\"dataframe\">\n",
       "  <thead>\n",
       "    <tr style=\"text-align: right;\">\n",
       "      <th></th>\n",
       "      <th>id</th>\n",
       "      <th>quit</th>\n",
       "    </tr>\n",
       "  </thead>\n",
       "  <tbody>\n",
       "    <tr>\n",
       "      <th>0</th>\n",
       "      <td>999029</td>\n",
       "      <td>yes</td>\n",
       "    </tr>\n",
       "    <tr>\n",
       "      <th>1</th>\n",
       "      <td>372846</td>\n",
       "      <td>no</td>\n",
       "    </tr>\n",
       "    <tr>\n",
       "      <th>2</th>\n",
       "      <td>726767</td>\n",
       "      <td>no</td>\n",
       "    </tr>\n",
       "    <tr>\n",
       "      <th>3</th>\n",
       "      <td>490105</td>\n",
       "      <td>no</td>\n",
       "    </tr>\n",
       "    <tr>\n",
       "      <th>4</th>\n",
       "      <td>416898</td>\n",
       "      <td>yes</td>\n",
       "    </tr>\n",
       "    <tr>\n",
       "      <th>5</th>\n",
       "      <td>223063</td>\n",
       "      <td>no</td>\n",
       "    </tr>\n",
       "    <tr>\n",
       "      <th>6</th>\n",
       "      <td>810370</td>\n",
       "      <td>no</td>\n",
       "    </tr>\n",
       "    <tr>\n",
       "      <th>7</th>\n",
       "      <td>998900</td>\n",
       "      <td>no</td>\n",
       "    </tr>\n",
       "    <tr>\n",
       "      <th>8</th>\n",
       "      <td>578329</td>\n",
       "      <td>no</td>\n",
       "    </tr>\n",
       "    <tr>\n",
       "      <th>9</th>\n",
       "      <td>648850</td>\n",
       "      <td>no</td>\n",
       "    </tr>\n",
       "    <tr>\n",
       "      <th>10</th>\n",
       "      <td>705199</td>\n",
       "      <td>no</td>\n",
       "    </tr>\n",
       "    <tr>\n",
       "      <th>11</th>\n",
       "      <td>867119</td>\n",
       "      <td>no</td>\n",
       "    </tr>\n",
       "    <tr>\n",
       "      <th>12</th>\n",
       "      <td>653711</td>\n",
       "      <td>no</td>\n",
       "    </tr>\n",
       "    <tr>\n",
       "      <th>13</th>\n",
       "      <td>501821</td>\n",
       "      <td>no</td>\n",
       "    </tr>\n",
       "    <tr>\n",
       "      <th>14</th>\n",
       "      <td>509518</td>\n",
       "      <td>no</td>\n",
       "    </tr>\n",
       "    <tr>\n",
       "      <th>15</th>\n",
       "      <td>605830</td>\n",
       "      <td>no</td>\n",
       "    </tr>\n",
       "    <tr>\n",
       "      <th>16</th>\n",
       "      <td>709750</td>\n",
       "      <td>yes</td>\n",
       "    </tr>\n",
       "    <tr>\n",
       "      <th>17</th>\n",
       "      <td>807221</td>\n",
       "      <td>no</td>\n",
       "    </tr>\n",
       "    <tr>\n",
       "      <th>18</th>\n",
       "      <td>644517</td>\n",
       "      <td>no</td>\n",
       "    </tr>\n",
       "    <tr>\n",
       "      <th>19</th>\n",
       "      <td>484268</td>\n",
       "      <td>no</td>\n",
       "    </tr>\n",
       "  </tbody>\n",
       "</table>\n",
       "</div>"
      ],
      "text/plain": [
       "        id quit\n",
       "0   999029  yes\n",
       "1   372846   no\n",
       "2   726767   no\n",
       "3   490105   no\n",
       "4   416898  yes\n",
       "5   223063   no\n",
       "6   810370   no\n",
       "7   998900   no\n",
       "8   578329   no\n",
       "9   648850   no\n",
       "10  705199   no\n",
       "11  867119   no\n",
       "12  653711   no\n",
       "13  501821   no\n",
       "14  509518   no\n",
       "15  605830   no\n",
       "16  709750  yes\n",
       "17  807221   no\n",
       "18  644517   no\n",
       "19  484268   no"
      ]
     },
     "metadata": {},
     "output_type": "display_data"
    },
    {
     "data": {
      "text/html": [
       "<div>\n",
       "<style scoped>\n",
       "    .dataframe tbody tr th:only-of-type {\n",
       "        vertical-align: middle;\n",
       "    }\n",
       "\n",
       "    .dataframe tbody tr th {\n",
       "        vertical-align: top;\n",
       "    }\n",
       "\n",
       "    .dataframe thead th {\n",
       "        text-align: right;\n",
       "    }\n",
       "</style>\n",
       "<table border=\"1\" class=\"dataframe\">\n",
       "  <thead>\n",
       "    <tr style=\"text-align: right;\">\n",
       "      <th></th>\n",
       "      <th>id</th>\n",
       "      <th>job_satisfaction_rate</th>\n",
       "    </tr>\n",
       "  </thead>\n",
       "  <tbody>\n",
       "    <tr>\n",
       "      <th>0</th>\n",
       "      <td>130604</td>\n",
       "      <td>0.74</td>\n",
       "    </tr>\n",
       "    <tr>\n",
       "      <th>1</th>\n",
       "      <td>825977</td>\n",
       "      <td>0.75</td>\n",
       "    </tr>\n",
       "    <tr>\n",
       "      <th>2</th>\n",
       "      <td>418490</td>\n",
       "      <td>0.60</td>\n",
       "    </tr>\n",
       "    <tr>\n",
       "      <th>3</th>\n",
       "      <td>555320</td>\n",
       "      <td>0.72</td>\n",
       "    </tr>\n",
       "    <tr>\n",
       "      <th>4</th>\n",
       "      <td>826430</td>\n",
       "      <td>0.08</td>\n",
       "    </tr>\n",
       "    <tr>\n",
       "      <th>5</th>\n",
       "      <td>817219</td>\n",
       "      <td>0.76</td>\n",
       "    </tr>\n",
       "    <tr>\n",
       "      <th>6</th>\n",
       "      <td>269033</td>\n",
       "      <td>0.64</td>\n",
       "    </tr>\n",
       "    <tr>\n",
       "      <th>7</th>\n",
       "      <td>962356</td>\n",
       "      <td>0.38</td>\n",
       "    </tr>\n",
       "    <tr>\n",
       "      <th>8</th>\n",
       "      <td>649052</td>\n",
       "      <td>0.14</td>\n",
       "    </tr>\n",
       "    <tr>\n",
       "      <th>9</th>\n",
       "      <td>532834</td>\n",
       "      <td>0.59</td>\n",
       "    </tr>\n",
       "    <tr>\n",
       "      <th>10</th>\n",
       "      <td>436938</td>\n",
       "      <td>0.91</td>\n",
       "    </tr>\n",
       "    <tr>\n",
       "      <th>11</th>\n",
       "      <td>759748</td>\n",
       "      <td>0.78</td>\n",
       "    </tr>\n",
       "    <tr>\n",
       "      <th>12</th>\n",
       "      <td>462750</td>\n",
       "      <td>0.70</td>\n",
       "    </tr>\n",
       "    <tr>\n",
       "      <th>13</th>\n",
       "      <td>120724</td>\n",
       "      <td>0.79</td>\n",
       "    </tr>\n",
       "    <tr>\n",
       "      <th>14</th>\n",
       "      <td>161234</td>\n",
       "      <td>0.74</td>\n",
       "    </tr>\n",
       "    <tr>\n",
       "      <th>15</th>\n",
       "      <td>217807</td>\n",
       "      <td>0.34</td>\n",
       "    </tr>\n",
       "    <tr>\n",
       "      <th>16</th>\n",
       "      <td>311719</td>\n",
       "      <td>0.81</td>\n",
       "    </tr>\n",
       "    <tr>\n",
       "      <th>17</th>\n",
       "      <td>377223</td>\n",
       "      <td>0.23</td>\n",
       "    </tr>\n",
       "    <tr>\n",
       "      <th>18</th>\n",
       "      <td>700796</td>\n",
       "      <td>0.23</td>\n",
       "    </tr>\n",
       "    <tr>\n",
       "      <th>19</th>\n",
       "      <td>304609</td>\n",
       "      <td>0.40</td>\n",
       "    </tr>\n",
       "  </tbody>\n",
       "</table>\n",
       "</div>"
      ],
      "text/plain": [
       "        id  job_satisfaction_rate\n",
       "0   130604                   0.74\n",
       "1   825977                   0.75\n",
       "2   418490                   0.60\n",
       "3   555320                   0.72\n",
       "4   826430                   0.08\n",
       "5   817219                   0.76\n",
       "6   269033                   0.64\n",
       "7   962356                   0.38\n",
       "8   649052                   0.14\n",
       "9   532834                   0.59\n",
       "10  436938                   0.91\n",
       "11  759748                   0.78\n",
       "12  462750                   0.70\n",
       "13  120724                   0.79\n",
       "14  161234                   0.74\n",
       "15  217807                   0.34\n",
       "16  311719                   0.81\n",
       "17  377223                   0.23\n",
       "18  700796                   0.23\n",
       "19  304609                   0.40"
      ]
     },
     "metadata": {},
     "output_type": "display_data"
    },
    {
     "data": {
      "text/html": [
       "<div>\n",
       "<style scoped>\n",
       "    .dataframe tbody tr th:only-of-type {\n",
       "        vertical-align: middle;\n",
       "    }\n",
       "\n",
       "    .dataframe tbody tr th {\n",
       "        vertical-align: top;\n",
       "    }\n",
       "\n",
       "    .dataframe thead th {\n",
       "        text-align: right;\n",
       "    }\n",
       "</style>\n",
       "<table border=\"1\" class=\"dataframe\">\n",
       "  <thead>\n",
       "    <tr style=\"text-align: right;\">\n",
       "      <th></th>\n",
       "      <th>id</th>\n",
       "      <th>dept</th>\n",
       "      <th>level</th>\n",
       "      <th>workload</th>\n",
       "      <th>employment_years</th>\n",
       "      <th>last_year_promo</th>\n",
       "      <th>last_year_violations</th>\n",
       "      <th>supervisor_evaluation</th>\n",
       "      <th>salary</th>\n",
       "      <th>job_satisfaction_rate</th>\n",
       "    </tr>\n",
       "  </thead>\n",
       "  <tbody>\n",
       "    <tr>\n",
       "      <th>0</th>\n",
       "      <td>155278</td>\n",
       "      <td>sales</td>\n",
       "      <td>junior</td>\n",
       "      <td>medium</td>\n",
       "      <td>2</td>\n",
       "      <td>no</td>\n",
       "      <td>no</td>\n",
       "      <td>1</td>\n",
       "      <td>24000</td>\n",
       "      <td>0.58</td>\n",
       "    </tr>\n",
       "    <tr>\n",
       "      <th>1</th>\n",
       "      <td>653870</td>\n",
       "      <td>hr</td>\n",
       "      <td>junior</td>\n",
       "      <td>high</td>\n",
       "      <td>2</td>\n",
       "      <td>no</td>\n",
       "      <td>no</td>\n",
       "      <td>5</td>\n",
       "      <td>38400</td>\n",
       "      <td>0.76</td>\n",
       "    </tr>\n",
       "    <tr>\n",
       "      <th>2</th>\n",
       "      <td>184592</td>\n",
       "      <td>sales</td>\n",
       "      <td>junior</td>\n",
       "      <td>low</td>\n",
       "      <td>1</td>\n",
       "      <td>no</td>\n",
       "      <td>no</td>\n",
       "      <td>2</td>\n",
       "      <td>12000</td>\n",
       "      <td>0.11</td>\n",
       "    </tr>\n",
       "    <tr>\n",
       "      <th>3</th>\n",
       "      <td>171431</td>\n",
       "      <td>technology</td>\n",
       "      <td>junior</td>\n",
       "      <td>low</td>\n",
       "      <td>4</td>\n",
       "      <td>no</td>\n",
       "      <td>no</td>\n",
       "      <td>2</td>\n",
       "      <td>18000</td>\n",
       "      <td>0.37</td>\n",
       "    </tr>\n",
       "    <tr>\n",
       "      <th>4</th>\n",
       "      <td>693419</td>\n",
       "      <td>hr</td>\n",
       "      <td>junior</td>\n",
       "      <td>medium</td>\n",
       "      <td>1</td>\n",
       "      <td>no</td>\n",
       "      <td>no</td>\n",
       "      <td>3</td>\n",
       "      <td>22800</td>\n",
       "      <td>0.20</td>\n",
       "    </tr>\n",
       "    <tr>\n",
       "      <th>5</th>\n",
       "      <td>405448</td>\n",
       "      <td>hr</td>\n",
       "      <td>middle</td>\n",
       "      <td>low</td>\n",
       "      <td>7</td>\n",
       "      <td>no</td>\n",
       "      <td>no</td>\n",
       "      <td>4</td>\n",
       "      <td>30000</td>\n",
       "      <td>0.78</td>\n",
       "    </tr>\n",
       "    <tr>\n",
       "      <th>6</th>\n",
       "      <td>857135</td>\n",
       "      <td>sales</td>\n",
       "      <td>sinior</td>\n",
       "      <td>medium</td>\n",
       "      <td>9</td>\n",
       "      <td>no</td>\n",
       "      <td>no</td>\n",
       "      <td>3</td>\n",
       "      <td>56400</td>\n",
       "      <td>0.56</td>\n",
       "    </tr>\n",
       "    <tr>\n",
       "      <th>7</th>\n",
       "      <td>400657</td>\n",
       "      <td>purchasing</td>\n",
       "      <td>middle</td>\n",
       "      <td>high</td>\n",
       "      <td>9</td>\n",
       "      <td>no</td>\n",
       "      <td>no</td>\n",
       "      <td>3</td>\n",
       "      <td>52800</td>\n",
       "      <td>0.44</td>\n",
       "    </tr>\n",
       "    <tr>\n",
       "      <th>8</th>\n",
       "      <td>198846</td>\n",
       "      <td>hr</td>\n",
       "      <td>junior</td>\n",
       "      <td>low</td>\n",
       "      <td>1</td>\n",
       "      <td>no</td>\n",
       "      <td>no</td>\n",
       "      <td>2</td>\n",
       "      <td>13200</td>\n",
       "      <td>0.14</td>\n",
       "    </tr>\n",
       "    <tr>\n",
       "      <th>9</th>\n",
       "      <td>149797</td>\n",
       "      <td>technology</td>\n",
       "      <td>middle</td>\n",
       "      <td>high</td>\n",
       "      <td>6</td>\n",
       "      <td>no</td>\n",
       "      <td>no</td>\n",
       "      <td>3</td>\n",
       "      <td>54000</td>\n",
       "      <td>0.47</td>\n",
       "    </tr>\n",
       "    <tr>\n",
       "      <th>10</th>\n",
       "      <td>964158</td>\n",
       "      <td>purchasing</td>\n",
       "      <td>junior</td>\n",
       "      <td>low</td>\n",
       "      <td>2</td>\n",
       "      <td>no</td>\n",
       "      <td>no</td>\n",
       "      <td>4</td>\n",
       "      <td>13200</td>\n",
       "      <td>0.74</td>\n",
       "    </tr>\n",
       "    <tr>\n",
       "      <th>11</th>\n",
       "      <td>784541</td>\n",
       "      <td>sales</td>\n",
       "      <td>middle</td>\n",
       "      <td>low</td>\n",
       "      <td>3</td>\n",
       "      <td>no</td>\n",
       "      <td>no</td>\n",
       "      <td>4</td>\n",
       "      <td>19200</td>\n",
       "      <td>0.42</td>\n",
       "    </tr>\n",
       "    <tr>\n",
       "      <th>12</th>\n",
       "      <td>569960</td>\n",
       "      <td>sales</td>\n",
       "      <td>middle</td>\n",
       "      <td>medium</td>\n",
       "      <td>3</td>\n",
       "      <td>no</td>\n",
       "      <td>no</td>\n",
       "      <td>3</td>\n",
       "      <td>38400</td>\n",
       "      <td>0.32</td>\n",
       "    </tr>\n",
       "    <tr>\n",
       "      <th>13</th>\n",
       "      <td>381081</td>\n",
       "      <td>marketing</td>\n",
       "      <td>junior</td>\n",
       "      <td>high</td>\n",
       "      <td>2</td>\n",
       "      <td>no</td>\n",
       "      <td>no</td>\n",
       "      <td>2</td>\n",
       "      <td>40800</td>\n",
       "      <td>0.57</td>\n",
       "    </tr>\n",
       "    <tr>\n",
       "      <th>14</th>\n",
       "      <td>581188</td>\n",
       "      <td>marketing</td>\n",
       "      <td>middle</td>\n",
       "      <td>medium</td>\n",
       "      <td>4</td>\n",
       "      <td>no</td>\n",
       "      <td>no</td>\n",
       "      <td>2</td>\n",
       "      <td>34800</td>\n",
       "      <td>0.16</td>\n",
       "    </tr>\n",
       "    <tr>\n",
       "      <th>15</th>\n",
       "      <td>798010</td>\n",
       "      <td>technology</td>\n",
       "      <td>junior</td>\n",
       "      <td>medium</td>\n",
       "      <td>3</td>\n",
       "      <td>no</td>\n",
       "      <td>no</td>\n",
       "      <td>4</td>\n",
       "      <td>27600</td>\n",
       "      <td>0.69</td>\n",
       "    </tr>\n",
       "    <tr>\n",
       "      <th>16</th>\n",
       "      <td>861046</td>\n",
       "      <td>hr</td>\n",
       "      <td>junior</td>\n",
       "      <td>medium</td>\n",
       "      <td>1</td>\n",
       "      <td>no</td>\n",
       "      <td>no</td>\n",
       "      <td>3</td>\n",
       "      <td>26400</td>\n",
       "      <td>0.33</td>\n",
       "    </tr>\n",
       "    <tr>\n",
       "      <th>17</th>\n",
       "      <td>955615</td>\n",
       "      <td>purchasing</td>\n",
       "      <td>junior</td>\n",
       "      <td>high</td>\n",
       "      <td>2</td>\n",
       "      <td>no</td>\n",
       "      <td>no</td>\n",
       "      <td>5</td>\n",
       "      <td>33600</td>\n",
       "      <td>0.64</td>\n",
       "    </tr>\n",
       "    <tr>\n",
       "      <th>18</th>\n",
       "      <td>848242</td>\n",
       "      <td>sales</td>\n",
       "      <td>middle</td>\n",
       "      <td>high</td>\n",
       "      <td>2</td>\n",
       "      <td>yes</td>\n",
       "      <td>no</td>\n",
       "      <td>1</td>\n",
       "      <td>50400</td>\n",
       "      <td>0.39</td>\n",
       "    </tr>\n",
       "    <tr>\n",
       "      <th>19</th>\n",
       "      <td>732462</td>\n",
       "      <td>sales</td>\n",
       "      <td>junior</td>\n",
       "      <td>low</td>\n",
       "      <td>2</td>\n",
       "      <td>no</td>\n",
       "      <td>yes</td>\n",
       "      <td>4</td>\n",
       "      <td>15600</td>\n",
       "      <td>0.74</td>\n",
       "    </tr>\n",
       "  </tbody>\n",
       "</table>\n",
       "</div>"
      ],
      "text/plain": [
       "        id        dept   level workload  employment_years last_year_promo  \\\n",
       "0   155278       sales  junior   medium                 2              no   \n",
       "1   653870          hr  junior     high                 2              no   \n",
       "2   184592       sales  junior      low                 1              no   \n",
       "3   171431  technology  junior      low                 4              no   \n",
       "4   693419          hr  junior   medium                 1              no   \n",
       "5   405448          hr  middle      low                 7              no   \n",
       "6   857135       sales  sinior   medium                 9              no   \n",
       "7   400657  purchasing  middle     high                 9              no   \n",
       "8   198846          hr  junior      low                 1              no   \n",
       "9   149797  technology  middle     high                 6              no   \n",
       "10  964158  purchasing  junior      low                 2              no   \n",
       "11  784541       sales  middle      low                 3              no   \n",
       "12  569960       sales  middle   medium                 3              no   \n",
       "13  381081   marketing  junior     high                 2              no   \n",
       "14  581188   marketing  middle   medium                 4              no   \n",
       "15  798010  technology  junior   medium                 3              no   \n",
       "16  861046          hr  junior   medium                 1              no   \n",
       "17  955615  purchasing  junior     high                 2              no   \n",
       "18  848242       sales  middle     high                 2             yes   \n",
       "19  732462       sales  junior      low                 2              no   \n",
       "\n",
       "   last_year_violations  supervisor_evaluation  salary  job_satisfaction_rate  \n",
       "0                    no                      1   24000                   0.58  \n",
       "1                    no                      5   38400                   0.76  \n",
       "2                    no                      2   12000                   0.11  \n",
       "3                    no                      2   18000                   0.37  \n",
       "4                    no                      3   22800                   0.20  \n",
       "5                    no                      4   30000                   0.78  \n",
       "6                    no                      3   56400                   0.56  \n",
       "7                    no                      3   52800                   0.44  \n",
       "8                    no                      2   13200                   0.14  \n",
       "9                    no                      3   54000                   0.47  \n",
       "10                   no                      4   13200                   0.74  \n",
       "11                   no                      4   19200                   0.42  \n",
       "12                   no                      3   38400                   0.32  \n",
       "13                   no                      2   40800                   0.57  \n",
       "14                   no                      2   34800                   0.16  \n",
       "15                   no                      4   27600                   0.69  \n",
       "16                   no                      3   26400                   0.33  \n",
       "17                   no                      5   33600                   0.64  \n",
       "18                   no                      1   50400                   0.39  \n",
       "19                  yes                      4   15600                   0.74  "
      ]
     },
     "metadata": {},
     "output_type": "display_data"
    },
    {
     "data": {
      "text/html": [
       "<div>\n",
       "<style scoped>\n",
       "    .dataframe tbody tr th:only-of-type {\n",
       "        vertical-align: middle;\n",
       "    }\n",
       "\n",
       "    .dataframe tbody tr th {\n",
       "        vertical-align: top;\n",
       "    }\n",
       "\n",
       "    .dataframe thead th {\n",
       "        text-align: right;\n",
       "    }\n",
       "</style>\n",
       "<table border=\"1\" class=\"dataframe\">\n",
       "  <thead>\n",
       "    <tr style=\"text-align: right;\">\n",
       "      <th></th>\n",
       "      <th>id</th>\n",
       "      <th>dept</th>\n",
       "      <th>level</th>\n",
       "      <th>workload</th>\n",
       "      <th>employment_years</th>\n",
       "      <th>last_year_promo</th>\n",
       "      <th>last_year_violations</th>\n",
       "      <th>supervisor_evaluation</th>\n",
       "      <th>salary</th>\n",
       "      <th>quit</th>\n",
       "    </tr>\n",
       "  </thead>\n",
       "  <tbody>\n",
       "    <tr>\n",
       "      <th>0</th>\n",
       "      <td>723290</td>\n",
       "      <td>sales</td>\n",
       "      <td>middle</td>\n",
       "      <td>high</td>\n",
       "      <td>2</td>\n",
       "      <td>no</td>\n",
       "      <td>no</td>\n",
       "      <td>4</td>\n",
       "      <td>54000</td>\n",
       "      <td>no</td>\n",
       "    </tr>\n",
       "    <tr>\n",
       "      <th>1</th>\n",
       "      <td>814010</td>\n",
       "      <td>sales</td>\n",
       "      <td>junior</td>\n",
       "      <td>medium</td>\n",
       "      <td>2</td>\n",
       "      <td>no</td>\n",
       "      <td>no</td>\n",
       "      <td>4</td>\n",
       "      <td>27600</td>\n",
       "      <td>no</td>\n",
       "    </tr>\n",
       "    <tr>\n",
       "      <th>2</th>\n",
       "      <td>155091</td>\n",
       "      <td>purchasing</td>\n",
       "      <td>middle</td>\n",
       "      <td>medium</td>\n",
       "      <td>5</td>\n",
       "      <td>no</td>\n",
       "      <td>no</td>\n",
       "      <td>1</td>\n",
       "      <td>37200</td>\n",
       "      <td>no</td>\n",
       "    </tr>\n",
       "    <tr>\n",
       "      <th>3</th>\n",
       "      <td>257132</td>\n",
       "      <td>sales</td>\n",
       "      <td>junior</td>\n",
       "      <td>medium</td>\n",
       "      <td>2</td>\n",
       "      <td>no</td>\n",
       "      <td>yes</td>\n",
       "      <td>3</td>\n",
       "      <td>24000</td>\n",
       "      <td>yes</td>\n",
       "    </tr>\n",
       "    <tr>\n",
       "      <th>4</th>\n",
       "      <td>910140</td>\n",
       "      <td>marketing</td>\n",
       "      <td>junior</td>\n",
       "      <td>medium</td>\n",
       "      <td>2</td>\n",
       "      <td>no</td>\n",
       "      <td>no</td>\n",
       "      <td>5</td>\n",
       "      <td>25200</td>\n",
       "      <td>no</td>\n",
       "    </tr>\n",
       "    <tr>\n",
       "      <th>5</th>\n",
       "      <td>699916</td>\n",
       "      <td>sales</td>\n",
       "      <td>junior</td>\n",
       "      <td>low</td>\n",
       "      <td>1</td>\n",
       "      <td>no</td>\n",
       "      <td>yes</td>\n",
       "      <td>3</td>\n",
       "      <td>18000</td>\n",
       "      <td>yes</td>\n",
       "    </tr>\n",
       "    <tr>\n",
       "      <th>6</th>\n",
       "      <td>417070</td>\n",
       "      <td>technology</td>\n",
       "      <td>middle</td>\n",
       "      <td>medium</td>\n",
       "      <td>8</td>\n",
       "      <td>no</td>\n",
       "      <td>no</td>\n",
       "      <td>2</td>\n",
       "      <td>44400</td>\n",
       "      <td>no</td>\n",
       "    </tr>\n",
       "    <tr>\n",
       "      <th>7</th>\n",
       "      <td>165489</td>\n",
       "      <td>sales</td>\n",
       "      <td>middle</td>\n",
       "      <td>low</td>\n",
       "      <td>4</td>\n",
       "      <td>no</td>\n",
       "      <td>no</td>\n",
       "      <td>5</td>\n",
       "      <td>19200</td>\n",
       "      <td>no</td>\n",
       "    </tr>\n",
       "    <tr>\n",
       "      <th>8</th>\n",
       "      <td>996399</td>\n",
       "      <td>marketing</td>\n",
       "      <td>middle</td>\n",
       "      <td>low</td>\n",
       "      <td>7</td>\n",
       "      <td>no</td>\n",
       "      <td>no</td>\n",
       "      <td>4</td>\n",
       "      <td>25200</td>\n",
       "      <td>no</td>\n",
       "    </tr>\n",
       "    <tr>\n",
       "      <th>9</th>\n",
       "      <td>613206</td>\n",
       "      <td>technology</td>\n",
       "      <td>middle</td>\n",
       "      <td>medium</td>\n",
       "      <td>2</td>\n",
       "      <td>no</td>\n",
       "      <td>no</td>\n",
       "      <td>3</td>\n",
       "      <td>45600</td>\n",
       "      <td>yes</td>\n",
       "    </tr>\n",
       "    <tr>\n",
       "      <th>10</th>\n",
       "      <td>832644</td>\n",
       "      <td>sales</td>\n",
       "      <td>middle</td>\n",
       "      <td>high</td>\n",
       "      <td>3</td>\n",
       "      <td>no</td>\n",
       "      <td>no</td>\n",
       "      <td>4</td>\n",
       "      <td>57600</td>\n",
       "      <td>no</td>\n",
       "    </tr>\n",
       "    <tr>\n",
       "      <th>11</th>\n",
       "      <td>260997</td>\n",
       "      <td>sales</td>\n",
       "      <td>middle</td>\n",
       "      <td>medium</td>\n",
       "      <td>5</td>\n",
       "      <td>no</td>\n",
       "      <td>no</td>\n",
       "      <td>3</td>\n",
       "      <td>33600</td>\n",
       "      <td>no</td>\n",
       "    </tr>\n",
       "    <tr>\n",
       "      <th>12</th>\n",
       "      <td>114153</td>\n",
       "      <td>marketing</td>\n",
       "      <td>junior</td>\n",
       "      <td>low</td>\n",
       "      <td>3</td>\n",
       "      <td>no</td>\n",
       "      <td>no</td>\n",
       "      <td>4</td>\n",
       "      <td>16800</td>\n",
       "      <td>no</td>\n",
       "    </tr>\n",
       "    <tr>\n",
       "      <th>13</th>\n",
       "      <td>672533</td>\n",
       "      <td>marketing</td>\n",
       "      <td>middle</td>\n",
       "      <td>medium</td>\n",
       "      <td>3</td>\n",
       "      <td>yes</td>\n",
       "      <td>yes</td>\n",
       "      <td>1</td>\n",
       "      <td>44400</td>\n",
       "      <td>no</td>\n",
       "    </tr>\n",
       "    <tr>\n",
       "      <th>14</th>\n",
       "      <td>453936</td>\n",
       "      <td>purchasing</td>\n",
       "      <td>junior</td>\n",
       "      <td>medium</td>\n",
       "      <td>2</td>\n",
       "      <td>no</td>\n",
       "      <td>no</td>\n",
       "      <td>4</td>\n",
       "      <td>22800</td>\n",
       "      <td>no</td>\n",
       "    </tr>\n",
       "    <tr>\n",
       "      <th>15</th>\n",
       "      <td>741016</td>\n",
       "      <td>technology</td>\n",
       "      <td>junior</td>\n",
       "      <td>medium</td>\n",
       "      <td>1</td>\n",
       "      <td>no</td>\n",
       "      <td>no</td>\n",
       "      <td>4</td>\n",
       "      <td>26400</td>\n",
       "      <td>no</td>\n",
       "    </tr>\n",
       "    <tr>\n",
       "      <th>16</th>\n",
       "      <td>113657</td>\n",
       "      <td>technology</td>\n",
       "      <td>sinior</td>\n",
       "      <td>high</td>\n",
       "      <td>5</td>\n",
       "      <td>yes</td>\n",
       "      <td>no</td>\n",
       "      <td>3</td>\n",
       "      <td>82800</td>\n",
       "      <td>no</td>\n",
       "    </tr>\n",
       "    <tr>\n",
       "      <th>17</th>\n",
       "      <td>458930</td>\n",
       "      <td>sales</td>\n",
       "      <td>middle</td>\n",
       "      <td>low</td>\n",
       "      <td>5</td>\n",
       "      <td>no</td>\n",
       "      <td>no</td>\n",
       "      <td>4</td>\n",
       "      <td>24000</td>\n",
       "      <td>no</td>\n",
       "    </tr>\n",
       "    <tr>\n",
       "      <th>18</th>\n",
       "      <td>999835</td>\n",
       "      <td>sales</td>\n",
       "      <td>junior</td>\n",
       "      <td>low</td>\n",
       "      <td>5</td>\n",
       "      <td>no</td>\n",
       "      <td>no</td>\n",
       "      <td>4</td>\n",
       "      <td>18000</td>\n",
       "      <td>no</td>\n",
       "    </tr>\n",
       "    <tr>\n",
       "      <th>19</th>\n",
       "      <td>120366</td>\n",
       "      <td>hr</td>\n",
       "      <td>middle</td>\n",
       "      <td>low</td>\n",
       "      <td>9</td>\n",
       "      <td>no</td>\n",
       "      <td>no</td>\n",
       "      <td>4</td>\n",
       "      <td>25200</td>\n",
       "      <td>no</td>\n",
       "    </tr>\n",
       "  </tbody>\n",
       "</table>\n",
       "</div>"
      ],
      "text/plain": [
       "        id        dept   level workload  employment_years last_year_promo  \\\n",
       "0   723290       sales  middle     high                 2              no   \n",
       "1   814010       sales  junior   medium                 2              no   \n",
       "2   155091  purchasing  middle   medium                 5              no   \n",
       "3   257132       sales  junior   medium                 2              no   \n",
       "4   910140   marketing  junior   medium                 2              no   \n",
       "5   699916       sales  junior      low                 1              no   \n",
       "6   417070  technology  middle   medium                 8              no   \n",
       "7   165489       sales  middle      low                 4              no   \n",
       "8   996399   marketing  middle      low                 7              no   \n",
       "9   613206  technology  middle   medium                 2              no   \n",
       "10  832644       sales  middle     high                 3              no   \n",
       "11  260997       sales  middle   medium                 5              no   \n",
       "12  114153   marketing  junior      low                 3              no   \n",
       "13  672533   marketing  middle   medium                 3             yes   \n",
       "14  453936  purchasing  junior   medium                 2              no   \n",
       "15  741016  technology  junior   medium                 1              no   \n",
       "16  113657  technology  sinior     high                 5             yes   \n",
       "17  458930       sales  middle      low                 5              no   \n",
       "18  999835       sales  junior      low                 5              no   \n",
       "19  120366          hr  middle      low                 9              no   \n",
       "\n",
       "   last_year_violations  supervisor_evaluation  salary quit  \n",
       "0                    no                      4   54000   no  \n",
       "1                    no                      4   27600   no  \n",
       "2                    no                      1   37200   no  \n",
       "3                   yes                      3   24000  yes  \n",
       "4                    no                      5   25200   no  \n",
       "5                   yes                      3   18000  yes  \n",
       "6                    no                      2   44400   no  \n",
       "7                    no                      5   19200   no  \n",
       "8                    no                      4   25200   no  \n",
       "9                    no                      3   45600  yes  \n",
       "10                   no                      4   57600   no  \n",
       "11                   no                      3   33600   no  \n",
       "12                   no                      4   16800   no  \n",
       "13                  yes                      1   44400   no  \n",
       "14                   no                      4   22800   no  \n",
       "15                   no                      4   26400   no  \n",
       "16                   no                      3   82800   no  \n",
       "17                   no                      4   24000   no  \n",
       "18                   no                      4   18000   no  \n",
       "19                   no                      4   25200   no  "
      ]
     },
     "metadata": {},
     "output_type": "display_data"
    }
   ],
   "source": [
    "try:\n",
    "    X_test = pd.read_csv(r\"C:\\Users\\yka\\Documents\\Practicum\\DS_Practicum\\Composite_Project_2_HR_Analytics\\source\\test_features.csv\")\n",
    "    y_test_classif = pd.read_csv(r\"C:\\Users\\yka\\Documents\\Practicum\\DS_Practicum\\Composite_Project_2_HR_Analytics\\source\\test_target_quit.csv\")\n",
    "    y_test_regress = pd.read_csv(r\"C:\\Users\\yka\\Documents\\Practicum\\DS_Practicum\\Composite_Project_2_HR_Analytics\\source\\test_target_job_satisfaction_rate.csv\")\n",
    "    X_train_js = pd.read_csv(r\"C:\\Users\\yka\\Documents\\Practicum\\DS_Practicum\\Composite_Project_2_HR_Analytics\\source\\train_job_satisfaction_rate.csv\")\n",
    "    X_train_q = pd.read_csv(r\"C:\\Users\\yka\\Documents\\Practicum\\DS_Practicum\\Composite_Project_2_HR_Analytics\\source\\train_quit.csv\")\n",
    "except:\n",
    "    X_test = pd.read_csv(r\"/datasets/test_features.csv\")\n",
    "    y_test_classif = pd.read_csv(r\"/datasets/test_target_quit.csv\")\n",
    "    y_test_regress = pd.read_csv(r\"/datasets/test_target_job_satisfaction_rate.csv\")\n",
    "    X_train_js = pd.read_csv(r\"/datasets/train_job_satisfaction_rate.csv\")\n",
    "    X_train_q = pd.read_csv(r\"/datasets/train_quit.csv\")\n",
    "\n",
    "pd.set_option('display.max_columns', None)\n",
    "\n",
    "display(X_test.head(20))\n",
    "display(y_test_classif.head(20))\n",
    "display(y_test_regress.head(20))\n",
    "display(X_train_js.head(20))\n",
    "display(X_train_q.head(20))"
   ]
  },
  {
   "cell_type": "code",
   "execution_count": 4,
   "id": "1b108d64",
   "metadata": {
    "trusted": false
   },
   "outputs": [
    {
     "name": "stdout",
     "output_type": "stream",
     "text": [
      "<class 'pandas.core.frame.DataFrame'>\n",
      "RangeIndex: 2000 entries, 0 to 1999\n",
      "Data columns (total 9 columns):\n",
      " #   Column                 Non-Null Count  Dtype \n",
      "---  ------                 --------------  ----- \n",
      " 0   id                     2000 non-null   int64 \n",
      " 1   dept                   1998 non-null   object\n",
      " 2   level                  1999 non-null   object\n",
      " 3   workload               2000 non-null   object\n",
      " 4   employment_years       2000 non-null   int64 \n",
      " 5   last_year_promo        2000 non-null   object\n",
      " 6   last_year_violations   2000 non-null   object\n",
      " 7   supervisor_evaluation  2000 non-null   int64 \n",
      " 8   salary                 2000 non-null   int64 \n",
      "dtypes: int64(4), object(5)\n",
      "memory usage: 140.8+ KB\n"
     ]
    }
   ],
   "source": [
    "X_test.info()"
   ]
  },
  {
   "cell_type": "code",
   "execution_count": 5,
   "id": "bb782006",
   "metadata": {
    "trusted": false
   },
   "outputs": [
    {
     "name": "stdout",
     "output_type": "stream",
     "text": [
      "<class 'pandas.core.frame.DataFrame'>\n",
      "RangeIndex: 2000 entries, 0 to 1999\n",
      "Data columns (total 2 columns):\n",
      " #   Column  Non-Null Count  Dtype \n",
      "---  ------  --------------  ----- \n",
      " 0   id      2000 non-null   int64 \n",
      " 1   quit    2000 non-null   object\n",
      "dtypes: int64(1), object(1)\n",
      "memory usage: 31.4+ KB\n"
     ]
    }
   ],
   "source": [
    "y_test_classif.info()"
   ]
  },
  {
   "cell_type": "code",
   "execution_count": 6,
   "id": "bcfc07b7",
   "metadata": {
    "trusted": false
   },
   "outputs": [
    {
     "name": "stdout",
     "output_type": "stream",
     "text": [
      "<class 'pandas.core.frame.DataFrame'>\n",
      "RangeIndex: 2000 entries, 0 to 1999\n",
      "Data columns (total 2 columns):\n",
      " #   Column                 Non-Null Count  Dtype  \n",
      "---  ------                 --------------  -----  \n",
      " 0   id                     2000 non-null   int64  \n",
      " 1   job_satisfaction_rate  2000 non-null   float64\n",
      "dtypes: float64(1), int64(1)\n",
      "memory usage: 31.4 KB\n"
     ]
    }
   ],
   "source": [
    "y_test_regress.info()"
   ]
  },
  {
   "cell_type": "code",
   "execution_count": 7,
   "id": "c98f45ab",
   "metadata": {
    "trusted": false
   },
   "outputs": [
    {
     "name": "stdout",
     "output_type": "stream",
     "text": [
      "<class 'pandas.core.frame.DataFrame'>\n",
      "RangeIndex: 4000 entries, 0 to 3999\n",
      "Data columns (total 10 columns):\n",
      " #   Column                 Non-Null Count  Dtype  \n",
      "---  ------                 --------------  -----  \n",
      " 0   id                     4000 non-null   int64  \n",
      " 1   dept                   3994 non-null   object \n",
      " 2   level                  3996 non-null   object \n",
      " 3   workload               4000 non-null   object \n",
      " 4   employment_years       4000 non-null   int64  \n",
      " 5   last_year_promo        4000 non-null   object \n",
      " 6   last_year_violations   4000 non-null   object \n",
      " 7   supervisor_evaluation  4000 non-null   int64  \n",
      " 8   salary                 4000 non-null   int64  \n",
      " 9   job_satisfaction_rate  4000 non-null   float64\n",
      "dtypes: float64(1), int64(4), object(5)\n",
      "memory usage: 312.6+ KB\n"
     ]
    }
   ],
   "source": [
    "X_train_js.info()"
   ]
  },
  {
   "cell_type": "code",
   "execution_count": 8,
   "id": "b1b9341c",
   "metadata": {},
   "outputs": [
    {
     "name": "stdout",
     "output_type": "stream",
     "text": [
      "<class 'pandas.core.frame.DataFrame'>\n",
      "RangeIndex: 4000 entries, 0 to 3999\n",
      "Data columns (total 10 columns):\n",
      " #   Column                 Non-Null Count  Dtype \n",
      "---  ------                 --------------  ----- \n",
      " 0   id                     4000 non-null   int64 \n",
      " 1   dept                   4000 non-null   object\n",
      " 2   level                  4000 non-null   object\n",
      " 3   workload               4000 non-null   object\n",
      " 4   employment_years       4000 non-null   int64 \n",
      " 5   last_year_promo        4000 non-null   object\n",
      " 6   last_year_violations   4000 non-null   object\n",
      " 7   supervisor_evaluation  4000 non-null   int64 \n",
      " 8   salary                 4000 non-null   int64 \n",
      " 9   quit                   4000 non-null   object\n",
      "dtypes: int64(4), object(6)\n",
      "memory usage: 312.6+ KB\n"
     ]
    }
   ],
   "source": [
    "X_train_q.info()"
   ]
  },
  {
   "cell_type": "markdown",
   "id": "ec6f6714",
   "metadata": {},
   "source": [
    "### Проверим наличие явных дубликатов"
   ]
  },
  {
   "cell_type": "code",
   "execution_count": 9,
   "id": "5fa0e7fd",
   "metadata": {
    "trusted": false
   },
   "outputs": [],
   "source": [
    "def handle_duplicates(dataframe):\n",
    "    duplicates_count = dataframe.duplicated().sum()\n",
    "\n",
    "    if duplicates_count > 0:\n",
    "        dataframe.drop_duplicates(inplace = True)\n",
    "    \n",
    "    display(f\"Droped {duplicates_count} duplicates.\")"
   ]
  },
  {
   "cell_type": "code",
   "execution_count": 10,
   "id": "4c95099e",
   "metadata": {
    "trusted": false
   },
   "outputs": [
    {
     "data": {
      "text/plain": [
       "'Droped 0 duplicates.'"
      ]
     },
     "metadata": {},
     "output_type": "display_data"
    },
    {
     "data": {
      "text/plain": [
       "'Droped 0 duplicates.'"
      ]
     },
     "metadata": {},
     "output_type": "display_data"
    },
    {
     "data": {
      "text/plain": [
       "'Droped 0 duplicates.'"
      ]
     },
     "metadata": {},
     "output_type": "display_data"
    },
    {
     "data": {
      "text/plain": [
       "'Droped 0 duplicates.'"
      ]
     },
     "metadata": {},
     "output_type": "display_data"
    },
    {
     "data": {
      "text/plain": [
       "'Droped 0 duplicates.'"
      ]
     },
     "metadata": {},
     "output_type": "display_data"
    }
   ],
   "source": [
    "handle_duplicates(X_test)\n",
    "handle_duplicates(y_test_classif)\n",
    "handle_duplicates(y_test_regress)\n",
    "handle_duplicates(X_train_js)\n",
    "handle_duplicates(X_train_q)"
   ]
  },
  {
   "cell_type": "markdown",
   "id": "2b47dc52",
   "metadata": {},
   "source": [
    "### Преобразуем данные к соответствующим типам"
   ]
  },
  {
   "cell_type": "code",
   "execution_count": 11,
   "id": "74dd28cd",
   "metadata": {
    "trusted": false
   },
   "outputs": [],
   "source": [
    "X_test = X_test.astype({\"dept\": \"category\", \"level\" : \"category\", \"workload\" : \"category\", \"last_year_promo\" : \"category\", \"last_year_violations\" : \"category\"})\n",
    "y_test_classif = y_test_classif.astype({\"quit\": \"category\"})\n",
    "X_train_js = X_train_js.astype({\"dept\": \"category\", \"level\" : \"category\", \"workload\" : \"category\", \"last_year_promo\" : \"category\", \"last_year_violations\" : \"category\"})\n",
    "X_train_q = X_train_q.astype({\"dept\": \"category\", \"level\" : \"category\", \"workload\" : \"category\", \"last_year_promo\" : \"category\", \"last_year_violations\" : \"category\", \"quit\": \"category\"})"
   ]
  },
  {
   "cell_type": "code",
   "execution_count": 12,
   "id": "2b8ca7e3",
   "metadata": {
    "trusted": false
   },
   "outputs": [
    {
     "name": "stdout",
     "output_type": "stream",
     "text": [
      "<class 'pandas.core.frame.DataFrame'>\n",
      "RangeIndex: 2000 entries, 0 to 1999\n",
      "Data columns (total 9 columns):\n",
      " #   Column                 Non-Null Count  Dtype   \n",
      "---  ------                 --------------  -----   \n",
      " 0   id                     2000 non-null   int64   \n",
      " 1   dept                   1998 non-null   category\n",
      " 2   level                  1999 non-null   category\n",
      " 3   workload               2000 non-null   category\n",
      " 4   employment_years       2000 non-null   int64   \n",
      " 5   last_year_promo        2000 non-null   category\n",
      " 6   last_year_violations   2000 non-null   category\n",
      " 7   supervisor_evaluation  2000 non-null   int64   \n",
      " 8   salary                 2000 non-null   int64   \n",
      "dtypes: category(5), int64(4)\n",
      "memory usage: 73.2 KB\n"
     ]
    }
   ],
   "source": [
    "X_test.info()"
   ]
  },
  {
   "cell_type": "code",
   "execution_count": 13,
   "id": "a051b57b",
   "metadata": {
    "trusted": false
   },
   "outputs": [
    {
     "name": "stdout",
     "output_type": "stream",
     "text": [
      "<class 'pandas.core.frame.DataFrame'>\n",
      "RangeIndex: 2000 entries, 0 to 1999\n",
      "Data columns (total 2 columns):\n",
      " #   Column  Non-Null Count  Dtype   \n",
      "---  ------  --------------  -----   \n",
      " 0   id      2000 non-null   int64   \n",
      " 1   quit    2000 non-null   category\n",
      "dtypes: category(1), int64(1)\n",
      "memory usage: 17.8 KB\n"
     ]
    }
   ],
   "source": [
    "y_test_classif.info()"
   ]
  },
  {
   "cell_type": "code",
   "execution_count": 14,
   "id": "88859992",
   "metadata": {
    "trusted": false
   },
   "outputs": [
    {
     "name": "stdout",
     "output_type": "stream",
     "text": [
      "<class 'pandas.core.frame.DataFrame'>\n",
      "RangeIndex: 4000 entries, 0 to 3999\n",
      "Data columns (total 10 columns):\n",
      " #   Column                 Non-Null Count  Dtype   \n",
      "---  ------                 --------------  -----   \n",
      " 0   id                     4000 non-null   int64   \n",
      " 1   dept                   3994 non-null   category\n",
      " 2   level                  3996 non-null   category\n",
      " 3   workload               4000 non-null   category\n",
      " 4   employment_years       4000 non-null   int64   \n",
      " 5   last_year_promo        4000 non-null   category\n",
      " 6   last_year_violations   4000 non-null   category\n",
      " 7   supervisor_evaluation  4000 non-null   int64   \n",
      " 8   salary                 4000 non-null   int64   \n",
      " 9   job_satisfaction_rate  4000 non-null   float64 \n",
      "dtypes: category(5), float64(1), int64(4)\n",
      "memory usage: 176.6 KB\n"
     ]
    }
   ],
   "source": [
    "X_train_js.info()"
   ]
  },
  {
   "cell_type": "code",
   "execution_count": 15,
   "id": "52832c69",
   "metadata": {},
   "outputs": [
    {
     "name": "stdout",
     "output_type": "stream",
     "text": [
      "<class 'pandas.core.frame.DataFrame'>\n",
      "RangeIndex: 4000 entries, 0 to 3999\n",
      "Data columns (total 10 columns):\n",
      " #   Column                 Non-Null Count  Dtype   \n",
      "---  ------                 --------------  -----   \n",
      " 0   id                     4000 non-null   int64   \n",
      " 1   dept                   4000 non-null   category\n",
      " 2   level                  4000 non-null   category\n",
      " 3   workload               4000 non-null   category\n",
      " 4   employment_years       4000 non-null   int64   \n",
      " 5   last_year_promo        4000 non-null   category\n",
      " 6   last_year_violations   4000 non-null   category\n",
      " 7   supervisor_evaluation  4000 non-null   int64   \n",
      " 8   salary                 4000 non-null   int64   \n",
      " 9   quit                   4000 non-null   category\n",
      "dtypes: category(6), int64(4)\n",
      "memory usage: 149.4 KB\n"
     ]
    }
   ],
   "source": [
    "X_train_q.info()"
   ]
  },
  {
   "cell_type": "markdown",
   "id": "bb6ebf08",
   "metadata": {},
   "source": [
    "### Проверим наличие пропусков в данных"
   ]
  },
  {
   "cell_type": "code",
   "execution_count": 17,
   "id": "1d92806b",
   "metadata": {
    "trusted": false
   },
   "outputs": [
    {
     "data": {
      "text/plain": [
       "id                       0\n",
       "dept                     6\n",
       "level                    4\n",
       "workload                 0\n",
       "employment_years         0\n",
       "last_year_promo          0\n",
       "last_year_violations     0\n",
       "supervisor_evaluation    0\n",
       "salary                   0\n",
       "job_satisfaction_rate    0\n",
       "dtype: int64"
      ]
     },
     "execution_count": 17,
     "metadata": {},
     "output_type": "execute_result"
    }
   ],
   "source": [
    "X_train_js.isna().sum()"
   ]
  },
  {
   "cell_type": "markdown",
   "id": "1c5161c8",
   "metadata": {},
   "source": [
    "Устраним пропуски воспользовавшись пайплайном. Заполним качественные данные наиболее часто встречающимся значением, а количественные средним значением."
   ]
  },
  {
   "cell_type": "code",
   "execution_count": 19,
   "id": "3ff61edb",
   "metadata": {},
   "outputs": [
    {
     "name": "stdout",
     "output_type": "stream",
     "text": [
      "<class 'pandas.core.frame.DataFrame'>\n",
      "RangeIndex: 4000 entries, 0 to 3999\n",
      "Data columns (total 10 columns):\n",
      " #   Column                 Non-Null Count  Dtype   \n",
      "---  ------                 --------------  -----   \n",
      " 0   dept                   4000 non-null   category\n",
      " 1   level                  4000 non-null   category\n",
      " 2   workload               4000 non-null   category\n",
      " 3   last_year_promo        4000 non-null   category\n",
      " 4   last_year_violations   4000 non-null   category\n",
      " 5   employment_years       4000 non-null   int32   \n",
      " 6   supervisor_evaluation  4000 non-null   int32   \n",
      " 7   salary                 4000 non-null   int32   \n",
      " 8   job_satisfaction_rate  4000 non-null   float64 \n",
      " 9   id                     4000 non-null   int32   \n",
      "dtypes: category(5), float64(1), int32(4)\n",
      "memory usage: 114.1 KB\n"
     ]
    }
   ],
   "source": [
    "X_train_js_unproc = X_train_js.copy()\n",
    "X_train_js = X_train_js.drop([\"job_satisfaction_rate\", \"id\"], axis=1)\n",
    "cat_columns = X_train_js.select_dtypes(include = [\"category\"]).columns.tolist()\n",
    "numeric_columns = X_train_js.select_dtypes(include = [\"number\"]).columns.tolist()\n",
    "proc_columns = X_train_js.columns\n",
    "\n",
    "impute_str_pipe = Pipeline(\n",
    "        [(\"impute_str\", SimpleImputer(strategy = \"most_frequent\"))]\n",
    "    )\n",
    "impute_num_pipe = Pipeline(\n",
    "        [(\"impute_num\", SimpleImputer(strategy = \"mean\"))]\n",
    "    )\n",
    "data_imputer = ColumnTransformer(\n",
    "    [(\"impute_str\", impute_str_pipe, cat_columns),\n",
    "     (\"impute_num\", impute_num_pipe, numeric_columns)\n",
    "    ], \n",
    "    remainder = \"passthrough\"\n",
    ")\n",
    "\n",
    "X_train_js = data_imputer.fit_transform(X_train_js)\n",
    "X_train_js = pd.DataFrame(X_train_js, X_train_js_unproc.index,\n",
    "    columns = [str(i).replace(\"impute_str__\", '').replace(\"impute_num__\", '') for i in data_imputer.get_feature_names_out().tolist()]) \\\n",
    "    .astype({\"dept\": \"category\", \"level\" : \"category\", \"workload\" : \"category\", \"last_year_promo\" : \"category\",\n",
    "        \"last_year_violations\" : \"category\", \"employment_years\" : \"int\", \"supervisor_evaluation\" : \"int\",\n",
    "        \"salary\" : \"int\"})\n",
    "X_train_js[\"job_satisfaction_rate\"] = X_train_js_unproc[\"job_satisfaction_rate\"]\n",
    "X_train_js[\"id\"] = X_train_js_unproc[\"id\"].astype({\"id\" : \"int\"})\n",
    "X_train_js.info()"
   ]
  },
  {
   "cell_type": "code",
   "execution_count": 20,
   "id": "35195deb",
   "metadata": {},
   "outputs": [
    {
     "data": {
      "text/html": [
       "<div>\n",
       "<style scoped>\n",
       "    .dataframe tbody tr th:only-of-type {\n",
       "        vertical-align: middle;\n",
       "    }\n",
       "\n",
       "    .dataframe tbody tr th {\n",
       "        vertical-align: top;\n",
       "    }\n",
       "\n",
       "    .dataframe thead th {\n",
       "        text-align: right;\n",
       "    }\n",
       "</style>\n",
       "<table border=\"1\" class=\"dataframe\">\n",
       "  <thead>\n",
       "    <tr style=\"text-align: right;\">\n",
       "      <th></th>\n",
       "      <th>dept</th>\n",
       "      <th>level</th>\n",
       "      <th>workload</th>\n",
       "      <th>last_year_promo</th>\n",
       "      <th>last_year_violations</th>\n",
       "      <th>employment_years</th>\n",
       "      <th>supervisor_evaluation</th>\n",
       "      <th>salary</th>\n",
       "      <th>job_satisfaction_rate</th>\n",
       "      <th>id</th>\n",
       "    </tr>\n",
       "  </thead>\n",
       "  <tbody>\n",
       "    <tr>\n",
       "      <th>0</th>\n",
       "      <td>sales</td>\n",
       "      <td>junior</td>\n",
       "      <td>medium</td>\n",
       "      <td>no</td>\n",
       "      <td>no</td>\n",
       "      <td>2</td>\n",
       "      <td>1</td>\n",
       "      <td>24000</td>\n",
       "      <td>0.58</td>\n",
       "      <td>155278</td>\n",
       "    </tr>\n",
       "    <tr>\n",
       "      <th>1</th>\n",
       "      <td>hr</td>\n",
       "      <td>junior</td>\n",
       "      <td>high</td>\n",
       "      <td>no</td>\n",
       "      <td>no</td>\n",
       "      <td>2</td>\n",
       "      <td>5</td>\n",
       "      <td>38400</td>\n",
       "      <td>0.76</td>\n",
       "      <td>653870</td>\n",
       "    </tr>\n",
       "    <tr>\n",
       "      <th>2</th>\n",
       "      <td>sales</td>\n",
       "      <td>junior</td>\n",
       "      <td>low</td>\n",
       "      <td>no</td>\n",
       "      <td>no</td>\n",
       "      <td>1</td>\n",
       "      <td>2</td>\n",
       "      <td>12000</td>\n",
       "      <td>0.11</td>\n",
       "      <td>184592</td>\n",
       "    </tr>\n",
       "    <tr>\n",
       "      <th>3</th>\n",
       "      <td>technology</td>\n",
       "      <td>junior</td>\n",
       "      <td>low</td>\n",
       "      <td>no</td>\n",
       "      <td>no</td>\n",
       "      <td>4</td>\n",
       "      <td>2</td>\n",
       "      <td>18000</td>\n",
       "      <td>0.37</td>\n",
       "      <td>171431</td>\n",
       "    </tr>\n",
       "    <tr>\n",
       "      <th>4</th>\n",
       "      <td>hr</td>\n",
       "      <td>junior</td>\n",
       "      <td>medium</td>\n",
       "      <td>no</td>\n",
       "      <td>no</td>\n",
       "      <td>1</td>\n",
       "      <td>3</td>\n",
       "      <td>22800</td>\n",
       "      <td>0.20</td>\n",
       "      <td>693419</td>\n",
       "    </tr>\n",
       "  </tbody>\n",
       "</table>\n",
       "</div>"
      ],
      "text/plain": [
       "         dept   level workload last_year_promo last_year_violations  \\\n",
       "0       sales  junior   medium              no                   no   \n",
       "1          hr  junior     high              no                   no   \n",
       "2       sales  junior      low              no                   no   \n",
       "3  technology  junior      low              no                   no   \n",
       "4          hr  junior   medium              no                   no   \n",
       "\n",
       "   employment_years  supervisor_evaluation  salary  job_satisfaction_rate  \\\n",
       "0                 2                      1   24000                   0.58   \n",
       "1                 2                      5   38400                   0.76   \n",
       "2                 1                      2   12000                   0.11   \n",
       "3                 4                      2   18000                   0.37   \n",
       "4                 1                      3   22800                   0.20   \n",
       "\n",
       "       id  \n",
       "0  155278  \n",
       "1  653870  \n",
       "2  184592  \n",
       "3  171431  \n",
       "4  693419  "
      ]
     },
     "execution_count": 20,
     "metadata": {},
     "output_type": "execute_result"
    }
   ],
   "source": [
    "X_train_js.head()"
   ]
  },
  {
   "cell_type": "code",
   "execution_count": 21,
   "id": "01cb0b9b",
   "metadata": {},
   "outputs": [
    {
     "data": {
      "text/plain": [
       "id                       0\n",
       "dept                     0\n",
       "level                    0\n",
       "workload                 0\n",
       "employment_years         0\n",
       "last_year_promo          0\n",
       "last_year_violations     0\n",
       "supervisor_evaluation    0\n",
       "salary                   0\n",
       "quit                     0\n",
       "dtype: int64"
      ]
     },
     "execution_count": 21,
     "metadata": {},
     "output_type": "execute_result"
    }
   ],
   "source": [
    "X_train_q.isna().sum()"
   ]
  },
  {
   "cell_type": "code",
   "execution_count": 22,
   "id": "b2ca154b",
   "metadata": {
    "trusted": false
   },
   "outputs": [
    {
     "data": {
      "text/plain": [
       "id                       0\n",
       "dept                     2\n",
       "level                    1\n",
       "workload                 0\n",
       "employment_years         0\n",
       "last_year_promo          0\n",
       "last_year_violations     0\n",
       "supervisor_evaluation    0\n",
       "salary                   0\n",
       "dtype: int64"
      ]
     },
     "execution_count": 22,
     "metadata": {},
     "output_type": "execute_result"
    }
   ],
   "source": [
    "X_test.isna().sum()"
   ]
  },
  {
   "cell_type": "markdown",
   "id": "579081b0",
   "metadata": {},
   "source": [
    "Заполним пропуски воспользовавшись пайплайном."
   ]
  },
  {
   "cell_type": "code",
   "execution_count": 23,
   "id": "3bfadb68",
   "metadata": {},
   "outputs": [
    {
     "name": "stdout",
     "output_type": "stream",
     "text": [
      "<class 'pandas.core.frame.DataFrame'>\n",
      "RangeIndex: 2000 entries, 0 to 1999\n",
      "Data columns (total 9 columns):\n",
      " #   Column                 Non-Null Count  Dtype   \n",
      "---  ------                 --------------  -----   \n",
      " 0   dept                   2000 non-null   category\n",
      " 1   level                  2000 non-null   category\n",
      " 2   workload               2000 non-null   category\n",
      " 3   last_year_promo        2000 non-null   category\n",
      " 4   last_year_violations   2000 non-null   category\n",
      " 5   employment_years       2000 non-null   int32   \n",
      " 6   supervisor_evaluation  2000 non-null   int32   \n",
      " 7   salary                 2000 non-null   int32   \n",
      " 8   id                     2000 non-null   int32   \n",
      "dtypes: category(5), int32(4)\n",
      "memory usage: 41.9 KB\n"
     ]
    }
   ],
   "source": [
    "X_test_unproc = X_test.copy()\n",
    "X_test = data_imputer.transform(X_test)\n",
    "X_test = pd.DataFrame(X_test, X_test_unproc.index,\n",
    "     columns = [str(i).replace(\"impute_str__\", '').replace(\"impute_num__\", '') for i in data_imputer.get_feature_names_out().tolist()])\\\n",
    "    .astype({\"dept\": \"category\", \"level\" : \"category\", \"workload\" : \"category\", \"last_year_promo\" : \"category\",\n",
    "        \"last_year_violations\" : \"category\", \"employment_years\" : \"int\", \"supervisor_evaluation\" : \"int\",\n",
    "        \"salary\" : \"int\"})\n",
    "X_test[\"id\"] = X_test_unproc[\"id\"].astype({\"id\" : \"int\"})\n",
    "X_test.info()"
   ]
  },
  {
   "cell_type": "code",
   "execution_count": 24,
   "id": "7ca36bb8",
   "metadata": {
    "trusted": false
   },
   "outputs": [
    {
     "data": {
      "text/plain": [
       "id                       0\n",
       "job_satisfaction_rate    0\n",
       "dtype: int64"
      ]
     },
     "execution_count": 24,
     "metadata": {},
     "output_type": "execute_result"
    }
   ],
   "source": [
    "y_test_regress.isna().sum()"
   ]
  },
  {
   "cell_type": "code",
   "execution_count": 25,
   "id": "b21716f9",
   "metadata": {
    "trusted": false
   },
   "outputs": [
    {
     "data": {
      "text/plain": [
       "id      0\n",
       "quit    0\n",
       "dtype: int64"
      ]
     },
     "execution_count": 25,
     "metadata": {},
     "output_type": "execute_result"
    }
   ],
   "source": [
    "y_test_classif.isna().sum()"
   ]
  },
  {
   "cell_type": "markdown",
   "id": "2f4727bf",
   "metadata": {},
   "source": [
    "### Исправим описки в данных"
   ]
  },
  {
   "cell_type": "markdown",
   "id": "43e6759f",
   "metadata": {},
   "source": [
    "Проверим данные на наличие описок:"
   ]
  },
  {
   "cell_type": "code",
   "execution_count": 27,
   "id": "0195d7c6",
   "metadata": {},
   "outputs": [
    {
     "data": {
      "text/plain": [
       "\"dept: ['sales', 'hr', 'technology', 'purchasing', 'marketing']\\nCategories (5, object): ['sales', 'hr', 'technology', 'purchasing', 'marketing']\""
      ]
     },
     "metadata": {},
     "output_type": "display_data"
    },
    {
     "data": {
      "text/plain": [
       "\"level: ['junior', 'middle', 'sinior']\\nCategories (3, object): ['junior', 'middle', 'sinior']\""
      ]
     },
     "metadata": {},
     "output_type": "display_data"
    },
    {
     "data": {
      "text/plain": [
       "\"workload: ['medium', 'high', 'low']\\nCategories (3, object): ['medium', 'high', 'low']\""
      ]
     },
     "metadata": {},
     "output_type": "display_data"
    },
    {
     "data": {
      "text/plain": [
       "\"last_year_promo: ['no', 'yes']\\nCategories (2, object): ['no', 'yes']\""
      ]
     },
     "metadata": {},
     "output_type": "display_data"
    },
    {
     "data": {
      "text/plain": [
       "\"last_year_violations: ['no', 'yes']\\nCategories (2, object): ['no', 'yes']\""
      ]
     },
     "metadata": {},
     "output_type": "display_data"
    },
    {
     "data": {
      "text/plain": [
       "'employment_years: [ 2  1  4  7  9  6  3 10  8  5]'"
      ]
     },
     "metadata": {},
     "output_type": "display_data"
    },
    {
     "data": {
      "text/plain": [
       "'supervisor_evaluation: [1 5 2 3 4]'"
      ]
     },
     "metadata": {},
     "output_type": "display_data"
    },
    {
     "data": {
      "text/plain": [
       "'salary: [24000 38400 12000 18000 22800 30000 56400 52800 13200 54000 19200 40800\\n 34800 27600 26400 33600 50400 15600 14400 25200 72000 31200 32400 48000\\n 43200 46800 58800 84000 44400 39600 37200 21600 28800 62400 60000 42000\\n 49200 55200 57600 68400 45600 51600 64800 80400 20400 61200 76800 69600\\n 16800 36000 63600 81600 66000 74400 67200 70800 73200 75600 79200 94800\\n 78000 88800 92400 85200 91200 98400 96000 97200]'"
      ]
     },
     "metadata": {},
     "output_type": "display_data"
    },
    {
     "data": {
      "text/plain": [
       "'job_satisfaction_rate: [0.58 0.76 0.11 0.37 0.2  0.78 0.56 0.44 0.14 0.47 0.74 0.42 0.32 0.57\\n 0.16 0.69 0.33 0.64 0.39 0.8  0.79 0.17 0.65 0.18 0.19 0.49 0.63 0.22\\n 0.23 0.5  0.35 0.3  0.77 0.88 0.59 0.21 0.36 0.85 0.7  0.48 0.6  0.1\\n 0.27 0.71 0.86 0.54 0.73 0.46 0.31 0.72 0.51 0.61 0.81 0.99 0.15 0.91\\n 0.68 0.4  0.89 0.67 0.75 0.98 0.26 0.45 0.92 0.82 0.66 0.55 0.38 0.53\\n 0.84 0.52 0.24 0.62 0.41 0.28 0.09 0.97 0.83 0.25 0.43 0.04 0.13 0.29\\n 0.95 0.93 0.87 0.08 0.94 0.07 0.34 0.9  0.12 0.06 0.96 0.05 1.   0.03]'"
      ]
     },
     "metadata": {},
     "output_type": "display_data"
    },
    {
     "data": {
      "text/plain": [
       "'id: [155278 653870 184592 ... 533318 706868 338347]'"
      ]
     },
     "metadata": {},
     "output_type": "display_data"
    }
   ],
   "source": [
    "for col in X_train_js.columns:\n",
    "    vals = X_train_js[col].unique()\n",
    "    display(f\"{col}: {vals}\")"
   ]
  },
  {
   "cell_type": "markdown",
   "id": "f95c16da",
   "metadata": {},
   "source": [
    "В обучающей выборке с удовлетворённостью работой описок не обранужено."
   ]
  },
  {
   "cell_type": "code",
   "execution_count": 28,
   "id": "c9c77710",
   "metadata": {},
   "outputs": [
    {
     "data": {
      "text/plain": [
       "'id: [723290 814010 155091 ... 536432 692133 853842]'"
      ]
     },
     "metadata": {},
     "output_type": "display_data"
    },
    {
     "data": {
      "text/plain": [
       "\"dept: ['sales', 'purchasing', 'marketing', 'technology', 'hr']\\nCategories (5, object): ['sales', 'purchasing', 'marketing', 'technology', 'hr']\""
      ]
     },
     "metadata": {},
     "output_type": "display_data"
    },
    {
     "data": {
      "text/plain": [
       "\"level: ['middle', 'junior', 'sinior']\\nCategories (3, object): ['middle', 'junior', 'sinior']\""
      ]
     },
     "metadata": {},
     "output_type": "display_data"
    },
    {
     "data": {
      "text/plain": [
       "\"workload: ['high', 'medium', 'low']\\nCategories (3, object): ['high', 'medium', 'low']\""
      ]
     },
     "metadata": {},
     "output_type": "display_data"
    },
    {
     "data": {
      "text/plain": [
       "'employment_years: [ 2  5  1  8  4  7  3  9  6 10]'"
      ]
     },
     "metadata": {},
     "output_type": "display_data"
    },
    {
     "data": {
      "text/plain": [
       "\"last_year_promo: ['no', 'yes']\\nCategories (2, object): ['no', 'yes']\""
      ]
     },
     "metadata": {},
     "output_type": "display_data"
    },
    {
     "data": {
      "text/plain": [
       "\"last_year_violations: ['no', 'yes']\\nCategories (2, object): ['no', 'yes']\""
      ]
     },
     "metadata": {},
     "output_type": "display_data"
    },
    {
     "data": {
      "text/plain": [
       "'supervisor_evaluation: [4 1 3 5 2]'"
      ]
     },
     "metadata": {},
     "output_type": "display_data"
    },
    {
     "data": {
      "text/plain": [
       "'salary: [54000 27600 37200 24000 25200 18000 44400 19200 45600 57600 33600 16800\\n 22800 26400 82800 32400 39600 30000 46800 12000 15600 58800 60000 66000\\n 21600 38400 62400 40800 56400 34800 28800 52800 20400 36000 61200 48000\\n 43200 73200 31200 78000 64800 72000 94800 96000 63600 79200 55200 42000\\n 49200 50400 14400 13200 51600 67200 88800 68400 69600 70800 84000 81600\\n 87600 75600 91200 76800 74400 80400 85200 86400 92400]'"
      ]
     },
     "metadata": {},
     "output_type": "display_data"
    },
    {
     "data": {
      "text/plain": [
       "\"quit: ['no', 'yes']\\nCategories (2, object): ['no', 'yes']\""
      ]
     },
     "metadata": {},
     "output_type": "display_data"
    }
   ],
   "source": [
    "for col in X_train_q.columns:\n",
    "    vals = X_train_q[col].unique()\n",
    "    display(f\"{col}: {vals}\")"
   ]
  },
  {
   "cell_type": "markdown",
   "id": "2c7f11eb",
   "metadata": {},
   "source": [
    "В обучающей выборке с покинувшими работу описок не обранужено."
   ]
  },
  {
   "cell_type": "code",
   "execution_count": 29,
   "id": "933d8aba",
   "metadata": {},
   "outputs": [
    {
     "data": {
      "text/plain": [
       "\"dept: ['marketing', 'hr', 'sales', 'purchasing', 'technology', ' ']\\nCategories (6, object): ['marketing', 'hr', 'sales', 'purchasing', 'technology', ' ']\""
      ]
     },
     "metadata": {},
     "output_type": "display_data"
    },
    {
     "data": {
      "text/plain": [
       "\"level: ['junior', 'middle', 'sinior']\\nCategories (3, object): ['junior', 'middle', 'sinior']\""
      ]
     },
     "metadata": {},
     "output_type": "display_data"
    },
    {
     "data": {
      "text/plain": [
       "\"workload: ['medium', 'low', 'high', ' ']\\nCategories (4, object): ['medium', 'low', 'high', ' ']\""
      ]
     },
     "metadata": {},
     "output_type": "display_data"
    },
    {
     "data": {
      "text/plain": [
       "\"last_year_promo: ['no', 'yes']\\nCategories (2, object): ['no', 'yes']\""
      ]
     },
     "metadata": {},
     "output_type": "display_data"
    },
    {
     "data": {
      "text/plain": [
       "\"last_year_violations: ['no', 'yes']\\nCategories (2, object): ['no', 'yes']\""
      ]
     },
     "metadata": {},
     "output_type": "display_data"
    },
    {
     "data": {
      "text/plain": [
       "'employment_years: [ 2  1  5  6  3  9  7  4  8 10]'"
      ]
     },
     "metadata": {},
     "output_type": "display_data"
    },
    {
     "data": {
      "text/plain": [
       "'supervisor_evaluation: [5 4 3 1 2]'"
      ]
     },
     "metadata": {},
     "output_type": "display_data"
    },
    {
     "data": {
      "text/plain": [
       "'salary: [28800 30000 19200 40800 42000 26400 49200 62400 14400 36000 33600 44400\\n 27600 12000 64800 20400 34800 15600 18000 50400 31200 51600 16800 43200\\n 52800 32400 37200 58800 24000 21600 48000 45600 25200 63600 61200 56400\\n 38400 46800 55200 13200 39600 54000 57600 68400 22800 72000 81600 60000\\n 66000 67200 70800 76800 79200 69600 94800 82800 80400 87600 86400 96000\\n 78000 75600 73200 84000 88800 92400]'"
      ]
     },
     "metadata": {},
     "output_type": "display_data"
    },
    {
     "data": {
      "text/plain": [
       "'id: [485046 686555 467458 ... 305653 160233 771859]'"
      ]
     },
     "metadata": {},
     "output_type": "display_data"
    }
   ],
   "source": [
    "for col in X_test.columns:\n",
    "    vals = X_test[col].unique()\n",
    "    display(f\"{col}: {vals}\")"
   ]
  },
  {
   "cell_type": "markdown",
   "id": "c0add5ba",
   "metadata": {},
   "source": [
    "В тестовой выборке обнаружены помимо пропусков ещё и пустые строки. Уточним, сколько таких строк."
   ]
  },
  {
   "cell_type": "code",
   "execution_count": 30,
   "id": "2432d25e",
   "metadata": {},
   "outputs": [
    {
     "data": {
      "text/plain": [
       "2"
      ]
     },
     "execution_count": 30,
     "metadata": {},
     "output_type": "execute_result"
    }
   ],
   "source": [
    "X_test[(X_test[\"dept\"] == ' ') | (X_test[\"workload\"] == ' ')][\"id\"].count()"
   ]
  },
  {
   "cell_type": "markdown",
   "id": "7c060564",
   "metadata": {},
   "source": [
    "Т.к. изменять тестовую выборку запрещено, обработаем эти пропуски в пайплайне в последствии."
   ]
  },
  {
   "cell_type": "markdown",
   "id": "d05c9d09",
   "metadata": {},
   "source": [
    "### Объединим данные"
   ]
  },
  {
   "cell_type": "markdown",
   "id": "3653c876",
   "metadata": {},
   "source": [
    "Проверим, что обе обучающие выборки содержат одинаковых сотрундников."
   ]
  },
  {
   "cell_type": "code",
   "execution_count": 31,
   "id": "dbf82849",
   "metadata": {},
   "outputs": [
    {
     "data": {
      "text/plain": [
       "0"
      ]
     },
     "execution_count": 31,
     "metadata": {},
     "output_type": "execute_result"
    }
   ],
   "source": [
    "(X_train_js[\"id\"] == X_train_q[\"id\"]).sum()"
   ]
  },
  {
   "cell_type": "markdown",
   "id": "50877ce8",
   "metadata": {},
   "source": [
    "Объединим все данные в один набор чтобы провести исследовательский анализ"
   ]
  },
  {
   "cell_type": "code",
   "execution_count": null,
   "id": "1aa187f2",
   "metadata": {},
   "outputs": [],
   "source": [
    "test = pd.merge(X_test, y_test_regress, on = \"id\", how = \"inner\")\n",
    "test.info()"
   ]
  },
  {
   "cell_type": "markdown",
   "id": "b595967a",
   "metadata": {},
   "source": [
    "Проверим пересечение работников из тестовой и обучающей выборок."
   ]
  },
  {
   "cell_type": "code",
   "execution_count": null,
   "id": "cad89fcc",
   "metadata": {},
   "outputs": [],
   "source": [
    "test[test[\"id\"].isin(X_train[\"id\"])][\"id\"].count()"
   ]
  },
  {
   "cell_type": "code",
   "execution_count": null,
   "id": "113b80c0",
   "metadata": {},
   "outputs": [],
   "source": [
    "df = pd.concat([test, X_train])\n",
    "df.info()"
   ]
  },
  {
   "cell_type": "code",
   "execution_count": null,
   "id": "13577921",
   "metadata": {},
   "outputs": [],
   "source": [
    "df = pd.merge(df, y_test_classif, on = \"id\", how = \"left\")\n",
    "df.reset_index(inplace = True, drop = True)\n",
    "df.info()"
   ]
  },
  {
   "cell_type": "markdown",
   "id": "a3cbbb27",
   "metadata": {},
   "source": [
    "Приведём изменившиеся типы обратно к категориям."
   ]
  },
  {
   "cell_type": "code",
   "execution_count": null,
   "id": "ac14ab5b",
   "metadata": {},
   "outputs": [],
   "source": [
    "df = df.astype({\"dept\": \"category\", \"workload\" : \"category\", \"quit\" : \"category\"})\n",
    "df.info()"
   ]
  },
  {
   "cell_type": "markdown",
   "id": "a5850576",
   "metadata": {},
   "source": [
    "### Выводы подготовки данных"
   ]
  },
  {
   "cell_type": "markdown",
   "id": "45082880",
   "metadata": {},
   "source": [
    "- Импортированы модули, фреймворки и библиотеки\n",
    "- Проверено наличие явных дубликатов\n",
    "- Преобразованы типы данных к наиболее подходящим\n",
    "- С помощью пайплайна найдены и устранены пропуски в данных\n",
    "- Данные проверены на наличие описок\n",
    "- Данные обхединены в один набор\n",
    "\n",
    "Был подготовлен набор чистых данных для исследовательского анализа."
   ]
  },
  {
   "cell_type": "markdown",
   "id": "7ce171a6",
   "metadata": {},
   "source": [
    "## Исследовательский анализ данных"
   ]
  },
  {
   "cell_type": "markdown",
   "id": "77bea9e4",
   "metadata": {},
   "source": [
    "### Рассмотрим описательную статистику данных"
   ]
  },
  {
   "cell_type": "code",
   "execution_count": null,
   "id": "5ad37572",
   "metadata": {},
   "outputs": [],
   "source": [
    "df.describe()"
   ]
  },
  {
   "cell_type": "markdown",
   "id": "856e407b",
   "metadata": {},
   "source": [
    "- Заметим, что руководители оценивают сотрудников чаще хорошо по пятибальной системе\n",
    "- Есть сотрудники получающие чуть менее чем в 2 и почти в 3 раза больше средней зарплаты по компании\n",
    "- Сотрудники в среднем работают в компании чуть менее 4 лет\n",
    "- Распеределение удовлетворённости рабочим местом по описательной статистике походит на нормальное со средним значением чуть выше нейтрального уровня удовлетворённости\n",
    "\n",
    "Явных выбросов и аномалий при этом не замечено"
   ]
  },
  {
   "cell_type": "markdown",
   "id": "38981f12",
   "metadata": {},
   "source": [
    "### Рассмотрим распределения для количественных признаков."
   ]
  },
  {
   "cell_type": "code",
   "execution_count": null,
   "id": "dec6d655",
   "metadata": {
    "trusted": false
   },
   "outputs": [],
   "source": [
    "def plot_numerical_distribution(df: pd.DataFrame, \n",
    "                                numerical_feature: str, \n",
    "                                target_feature: str = \"job_satisfaction_rate\",\n",
    "                                title: str = None):\n",
    "    quit_vals = df[\"quit\"].dropna().unique()\n",
    "    val_left = quit_vals[0]\n",
    "    colors = pd.Series(\"red\", index=df.index)\n",
    "    colors[df[\"quit\"] == val_left] = \"green\"\n",
    "    colors[df[\"quit\"].isnull()] = \"grey\"\n",
    "    alphas = pd.Series(0.6, index = df.index)\n",
    "    alphas[colors == \"grey\"] = 0.1\n",
    "\n",
    "    fig, ax = plt.subplots(figsize = (12, 7))\n",
    "    ax.scatter(df[numerical_feature], df[target_feature], c = colors, alpha = alphas, s = 50, edgecolors = 'w', linewidth = 0.5)\n",
    "    \n",
    "    plot_title = title if title else f'Зависимость \"{target_feature}\" от \"{numerical_feature}\"'\n",
    "    ax.set_title(plot_title, fontsize = 16, pad = 20)\n",
    "    ax.set_xlabel(numerical_feature.replace('_', ' ').capitalize(), fontsize = 12)\n",
    "    ax.set_ylabel(target_feature.replace('_', ' ').capitalize(), fontsize = 12)\n",
    "    legend_patches = [\n",
    "        mpatches.Patch(color = \"red\", label = \"Покинул\"),\n",
    "        mpatches.Patch(color = \"green\", label = \"Остался\"),\n",
    "        mpatches.Patch(color = \"grey\", label = \"Пропуск\")\n",
    "    ]\n",
    "    ax.legend(handles = legend_patches, title = \"Статус сотрудника\", loc = \"upper right\")\n",
    "    \n",
    "    plt.show()"
   ]
  },
  {
   "cell_type": "code",
   "execution_count": null,
   "id": "683eb1d8",
   "metadata": {
    "trusted": false
   },
   "outputs": [],
   "source": [
    "plot_numerical_distribution(\n",
    "    df, \n",
    "    \"employment_years\", \n",
    "    title = \"Анализ удовлетворенности сотрудников в зависимости от стажа\"\n",
    ")"
   ]
  },
  {
   "cell_type": "markdown",
   "id": "f2e7666b",
   "metadata": {},
   "source": [
    "- Сотрудники, которые работают в компании более 5 лет очень редко катастрофически неудовлетворены своим рабочим местом.\n",
    "- При этом заметно, что большое количество сотрудников начинают покидать компанию до 3 лет работы в ней."
   ]
  },
  {
   "cell_type": "code",
   "execution_count": null,
   "id": "4e53f891",
   "metadata": {
    "trusted": false
   },
   "outputs": [],
   "source": [
    "plot_numerical_distribution(\n",
    "    df, \n",
    "    \"supervisor_evaluation\", \n",
    "    title = \"Анализ удовлетворенности сотрудников в зависимости от оценки руководителя\"\n",
    ")"
   ]
  },
  {
   "cell_type": "markdown",
   "id": "f6968733",
   "metadata": {},
   "source": [
    "- Сотрудники с низкими оценками руководителей менее всего были довольны своей работой и чаще остальных покидали её.\n",
    "- Для оценок от 3 и выше наблюдается прямая зависимость между удовлетворённостью сотрудника работой и оценкой его руководителя.\n",
    "- Заметна логичная особенность \"сотрудников-хорошистов\" с 3 и 4 баллами по оценкам руководителей: при низкой их удовлетворённостю рабочим местом и относительно высоких оценках сотрудники чаще уходили из компании. При высокой же удовлетворённости и таких же оценках руководства \"хорошисты\" чащё оставались в компании. \n",
    "\n",
    "Можно предположить, что позитивные оценки руководства мотивируют сотрудников продолжать работать в компании далее, а негативные воспринимаются как токсичность.\n"
   ]
  },
  {
   "cell_type": "code",
   "execution_count": null,
   "id": "c00e2c51",
   "metadata": {},
   "outputs": [],
   "source": [
    "plot_numerical_distribution(\n",
    "    df, \n",
    "    \"salary\", \n",
    "    title = \"Анализ удовлетворенности сотрудников в зависимости от заработной платы\"\n",
    ")"
   ]
  },
  {
   "cell_type": "markdown",
   "id": "ae0ee617",
   "metadata": {},
   "source": [
    "- Заметно, что сотрудники с высокой удовлетворённостью рабочим местом чаще всего продолжают работу вне зависимости от их оплаты труда\n",
    "- Низкая и умеренно-высокая удовлетворённость сотрудников работой в компании при условии оплаты труда менее 40_000 у.е. повышают риски того, что сотрудник прекратит работу в компании\n",
    "- Заметно, что удовлетворённость сотрудников работой не зависит линейно от оплаты труда"
   ]
  },
  {
   "cell_type": "code",
   "execution_count": null,
   "id": "7e4e4190",
   "metadata": {},
   "outputs": [],
   "source": [
    "NUM_BINS = 60  \n",
    "\n",
    "data = df[[\"job_satisfaction_rate\", \"quit\"]].dropna(subset = [\"job_satisfaction_rate\", \"quit\"])\n",
    "data[\"quit_bin\"] = data[\"quit\"].map({\"no\": 0.0, \"yes\": 1.0}).astype(\"float\")\n",
    "\n",
    "x_min, x_max = data[\"job_satisfaction_rate\"].min(), data[\"job_satisfaction_rate\"].max()\n",
    "bins = np.linspace(x_min, x_max, NUM_BINS + 1)\n",
    "bin_widths = np.diff(bins)\n",
    "bin_centers = (bins[:-1] + bins[1:]) / 2\n",
    "\n",
    "bin_idx = np.digitize(data[\"job_satisfaction_rate\"].to_numpy(), bins, right = False) - 1\n",
    "bin_idx = np.clip(bin_idx, 0, NUM_BINS - 1)\n",
    "\n",
    "counts = np.zeros(NUM_BINS, dtype = int)\n",
    "quit_mean = np.full(NUM_BINS, np.nan, dtype = float)\n",
    "\n",
    "for i in range(NUM_BINS):\n",
    "    mask = (bin_idx == i)\n",
    "    if np.any(mask):\n",
    "        counts[i] = mask.sum()\n",
    "        quit_mean[i] = data.loc[mask, \"quit_bin\"].mean()\n",
    "\n",
    "traffic_cmap = LinearSegmentedColormap.from_list(\"traffic\", [\"green\", \"yellow\", \"red\"], N = 256)\n",
    "norm = Normalize(vmin = 0.0, vmax = 1.0)\n",
    "\n",
    "colors = traffic_cmap(norm(np.nan_to_num(quit_mean, nan = 0.5)))  \n",
    "\n",
    "plt.figure(figsize = (12, 5))\n",
    "plt.bar(bin_centers, counts, width = bin_widths * 0.98, color = colors, edgecolor = \"none\")\n",
    "\n",
    "plt.xlabel(\"Уровень удовлетворённости\")\n",
    "plt.ylabel(\"Число сотрудников в диапазоне\")\n",
    "plt.title(\"Распределение удовлетворённости с «светофорной» долей увольнений в диапазонах\")\n",
    "plt.grid(axis = \"y\", linestyle = \":\", linewidth = 0.7, alpha = 0.6)\n",
    "\n",
    "sm = plt.cm.ScalarMappable(norm = norm, cmap = traffic_cmap)\n",
    "sm.set_array([])\n",
    "cbar = plt.colorbar(sm, pad = 0.01)\n",
    "cbar.set_label(\"Доля уволившихся в корзине (0 → зелёный, 1 → красный)\")\n",
    "\n",
    "plt.tight_layout()\n",
    "plt.show()\n"
   ]
  },
  {
   "cell_type": "markdown",
   "id": "c7492b6a",
   "metadata": {},
   "source": [
    "- Удовлетворённость сотрудника рабочим местом напрямую влияет на прололжение его работы в компании\n",
    "- Вероятность ухода сотрудника резко падает при удовлетворённости ниже среднего\n",
    "- График распределения частот удовлетворённости сотрудников мультимодален: неудовлетворённость сотрудников увеливичается до ~0.38 и далее падает до нейтрального уровня удовлетворённости. После нейтрального уровня удовлетворённость сотрудников резко повышается до ~0.7 и далее так же падает\n",
    "- Чаще всего сотрудники умеренно удовлетворены своим рабочим местом"
   ]
  },
  {
   "cell_type": "markdown",
   "id": "d5ea2714",
   "metadata": {},
   "source": [
    "### Рассмотрим распределения для качественных признаков."
   ]
  },
  {
   "cell_type": "code",
   "execution_count": null,
   "id": "45078ad1",
   "metadata": {},
   "outputs": [],
   "source": [
    "def plot_category_pie_with_satisfaction_rate(\n",
    "    df: pd.DataFrame,\n",
    "    category_col: str = \"dept\",\n",
    "    satisfaction_col: str = \"job_satisfaction_rate\",\n",
    "    top_n: int = 8,\n",
    "    title: str = \"Удовлетворённость работой по департаментам\",\n",
    "    red_hex: str = \"#E74C3C\",\n",
    "    green_hex: str = \"#2ECC71\",\n",
    "    others_label: str = \"Другие\",\n",
    "    others_color: str = \"#B0BEC5\",\n",
    "    explode_value: float = 0.05\n",
    "):\n",
    "    category_counts = df[category_col].value_counts()\n",
    "    top_categories = category_counts.head(top_n)\n",
    "    other_count = int(category_counts.iloc[top_n:].sum())\n",
    "    has_others = other_count > 0\n",
    "\n",
    "    if has_others:\n",
    "        top_categories[others_label] = other_count\n",
    "\n",
    "    satisfaction_by_cat = (\n",
    "        df[[category_col, satisfaction_col]]\n",
    "        .groupby(category_col)[satisfaction_col]\n",
    "        .mean()\n",
    "    )\n",
    "    real_top_cats = [c for c in top_categories.index if c != others_label]\n",
    "    real_means = satisfaction_by_cat.reindex(real_top_cats)\n",
    "    vmin = float(np.nanmin(real_means.values)) if len(real_means) else 0.0\n",
    "    vmax = float(np.nanmax(real_means.values)) if len(real_means) else 1.0\n",
    "\n",
    "    if np.isclose(vmin, vmax):\n",
    "        vmin -= 0.5\n",
    "        vmax += 0.5\n",
    "\n",
    "    norm = Normalize(vmin = vmin, vmax = vmax)\n",
    "    cmap = LinearSegmentedColormap.from_list(\"satisfaction_cmap\", [\"#F39C12\", \"#F7DC6F\", \"#D4E157\"])\n",
    "\n",
    "    colors = []\n",
    "    for cat in top_categories.index:\n",
    "        if cat == others_label:\n",
    "            colors.append(others_color)\n",
    "        else:\n",
    "            mean_val = satisfaction_by_cat.get(cat, np.nan)\n",
    "            colors.append(cmap(norm(mean_val)))\n",
    "\n",
    "    total = len(df)\n",
    "    labels = []\n",
    "    for cat, count in top_categories.items():\n",
    "        pct = 100 * count / total if total > 0 else 0\n",
    "        if cat == others_label:\n",
    "            labels.append(f\"{cat}\\n({count} чел., {pct:.1f}%)\")\n",
    "        else:\n",
    "            mean_val = satisfaction_by_cat.get(cat, np.nan)\n",
    "            sat_txt = \"н/д\" if pd.isna(mean_val) else f\"{mean_val:,.2f}\".replace(\",\", \" \")\n",
    "            labels.append(f\"{cat}\\n({count} чел., {pct:.1f}% | ср. удовл.: {sat_txt})\")\n",
    "\n",
    "    explode = [explode_value] * len(top_categories)\n",
    "\n",
    "    fig, ax = plt.subplots(figsize = (18, 10))\n",
    "    wedges, texts, autotexts = ax.pie(\n",
    "        top_categories.values,\n",
    "        labels = labels,\n",
    "        colors = colors,\n",
    "        autopct = \"%1.1f%%\",\n",
    "        startangle = 90,\n",
    "        explode = explode,\n",
    "        shadow = True,\n",
    "        textprops = {\"fontsize\": 10, \"fontweight\": \"bold\"},\n",
    "        wedgeprops = dict(linewidth = 1, edgecolor = \"white\")\n",
    "    )\n",
    "    ax.set_title(title, fontsize = 14, fontweight = \"bold\", pad = 20)\n",
    "    ax.axis(\"equal\")\n",
    "\n",
    "    sm = ScalarMappable(norm = norm, cmap = cmap)\n",
    "    sm.set_array([])\n",
    "    cbar = plt.colorbar(sm, ax = ax, fraction = 0.046, pad = 0.04, format = mtick.PercentFormatter(1, decimals = 1))\n",
    "    cbar.set_label(\"Средняя удовлетворённость сотрудников (по департаменту)\", fontsize = 11)\n",
    "\n",
    "    plt.show()\n"
   ]
  },
  {
   "cell_type": "code",
   "execution_count": null,
   "id": "374a0688",
   "metadata": {},
   "outputs": [],
   "source": [
    "display(df.dept.value_counts())"
   ]
  },
  {
   "cell_type": "code",
   "execution_count": null,
   "id": "72cf8be5",
   "metadata": {},
   "outputs": [],
   "source": [
    "plot_category_pie_with_satisfaction_rate(df)"
   ]
  },
  {
   "cell_type": "markdown",
   "id": "19e5ac82",
   "metadata": {},
   "source": [
    "- Значения удовлетворённости сотрудников во всех департаментах незначительно выше среднего\n",
    "- Колебания средней удовлетворённости в зависимости от отдела не более 2%\n",
    "- Наименее удовлетворены работники технологического отдела\n",
    "- Наиболее удовелетворены работники отдела закупок\n",
    "- Больше трети сотрудников работают в отделе продаж\n",
    "- Больше пятой части сотрудников работают в технологическом отделе\n",
    "- В остальных отделах работает приблизительно равное количество сотрудников\n",
    "- Наблюдаем пропуски в данных из тестовой выборки, которые будет в последующем устранёны в пайплайне\n",
    "\n",
    "В целом ясно, что компания занимается продажей товаров т.к. есть отдел закупок. Компания сосредоточила человеческие ресурсы на продажах и IT инфраструктуре для ведения бизнеса. Значительных различий в комфортности работы в различных департаментах не наблюдается"
   ]
  },
  {
   "cell_type": "code",
   "execution_count": null,
   "id": "028190a5",
   "metadata": {},
   "outputs": [],
   "source": [
    "def plot_quit_grouped_bars(\n",
    "    df: pd.DataFrame,\n",
    "    category_col: str = \"dept\",\n",
    "    ordered_categories: Optional[list] = None,\n",
    "    quit_col: str = \"quit\",\n",
    "    title: str = \"Статус сотрудников по категориям\",\n",
    "    x_label: str = \"Категория\",\n",
    "    green_hex: str = \"#2ECC71\",\n",
    "    red_hex: str = \"#E74C3C\",\n",
    "    alpha: float = 0.60,\n",
    "    width: float = 0.42,\n",
    "    rotation: int = 0\n",
    "):\n",
    "    tmp = df[[category_col, quit_col]].copy()\n",
    "    tmp[\"status\"] = tmp[quit_col].map({\"no\": \"Остались\", \"yes\": \"Ушли\"})\n",
    "    tmp = tmp.dropna(subset = [\"status\", category_col])\n",
    "\n",
    "    g = (\n",
    "        tmp.groupby([category_col, \"status\"]).size()\n",
    "        .unstack(\"status\")\n",
    "        .reindex(columns = [\"Остались\", \"Ушли\"])\n",
    "    )\n",
    "    if ordered_categories is not None:\n",
    "        g = g.reindex(ordered_categories)\n",
    "    g = g.fillna(0).astype(int)\n",
    "\n",
    "    depts = g.index.tolist()\n",
    "    stayed_counts = g[\"Остались\"].values if \"Остались\" in g.columns else np.zeros(len(g))\n",
    "    quit_counts = g[\"Ушли\"].values if \"Ушли\" in g.columns else np.zeros(len(g))\n",
    "    totals = stayed_counts + quit_counts\n",
    "    stay_share = np.divide(stayed_counts, totals, out = np.zeros_like(stayed_counts, dtype = float), where = totals > 0) * 100.0\n",
    "    quit_share = np.divide(quit_counts, totals, out = np.zeros_like(quit_counts, dtype = float), where = totals > 0) * 100.0\n",
    "    x = np.arange(len(depts))\n",
    "\n",
    "    fig, ax = plt.subplots(figsize = (18, 9))\n",
    "    bars_stay = ax.bar(x - width / 2, stayed_counts, width, label = \"Остались\", color = green_hex, alpha = alpha)\n",
    "    bars_quit = ax.bar(x + width / 2, quit_counts, width, label = \"Ушли\", color = red_hex, alpha = alpha)\n",
    "\n",
    "    ax.bar_label(bars_stay, labels = [f\"{v:.1f}%\" for v in stay_share], padding = 3, fontsize = 9, fontweight = \"bold\")\n",
    "    ax.bar_label(bars_quit, labels = [f\"{v:.1f}%\" for v in quit_share], padding = 3, fontsize = 9, fontweight = \"bold\")\n",
    "    ax.set_xticks(x)\n",
    "    ax.set_xticklabels(depts, rotation = rotation, ha = \"center\")\n",
    "    ax.set_xlabel(x_label, fontsize = 12)\n",
    "    ax.set_ylabel(\"Количество сотрудников\", fontsize = 12)\n",
    "    ax.set_title(title, fontsize = 14, fontweight = \"bold\", pad = 12)\n",
    "    ax.grid(axis = \"x\", linestyle = \"--\", linewidth = 0.8, alpha = 0.8)\n",
    "    ax.legend(frameon = False)\n",
    "\n",
    "    fig.tight_layout()\n",
    "    plt.show()\n"
   ]
  },
  {
   "cell_type": "code",
   "execution_count": null,
   "id": "1aa50ac8",
   "metadata": {},
   "outputs": [],
   "source": [
    "plot_quit_grouped_bars(df,\n",
    "    title = \"Статус сотрудников по департаментам\",\n",
    "    x_label = \"Департамент\")"
   ]
  },
  {
   "cell_type": "markdown",
   "id": "76b0b199",
   "metadata": {},
   "source": [
    "- Больше всего сотрудников уходит и в абсолютном (200+ человек) и в относительном (29.5%) смысле из отдела продаж\n",
    "- Меньше всего сотрудников в относительном смысле уходит из отдела маркетинга (24.1%)\n",
    "- В любом из отделов примерно каждый четвёртый сотрудник покидает команду\n",
    "- Разница между долей покинувших рабочее место сотрудников в лучшем и худшем департаменте составляет 5.4%\n",
    "- Наблюдаем пропуски в данных из тестовой выборки, которые будет в последующем устранёны в пайплайне\n",
    "\n",
    "Текучка кадров в отделе продаж на допустимом уровне и на мой взгляд обусловлена спецификой работы в продажах."
   ]
  },
  {
   "cell_type": "code",
   "execution_count": null,
   "id": "40839936",
   "metadata": {},
   "outputs": [],
   "source": [
    "def plot_ordered_category_bars(\n",
    "    df: pd.DataFrame,\n",
    "    category_col: str,\n",
    "    ordered_categories: list,\n",
    "    satisfaction_col: str = \"job_satisfaction_rate\",\n",
    "    title: str = \"Распределение сотрудников по категориям и удовлетворённости\",\n",
    "    x_label: str = \"Категория\",\n",
    "    greenish_yellow_hex: str = \"#D4E157\",\n",
    "    yellow_hex: str = \"#F7DC6F\",\n",
    "    reddish_yellow_hex: str = \"#F39C12\",\n",
    "    width: float = 0.7,\n",
    "    alpha: float = 0.8,\n",
    "    show_colorbar: bool = True\n",
    "):\n",
    "    counts = df.groupby(category_col).size().reindex(ordered_categories, fill_value = 0)\n",
    "    means = df.groupby(category_col)[satisfaction_col].mean().reindex(ordered_categories)\n",
    "    vals = means.values.astype(float)\n",
    "    if np.all(np.isnan(vals)):\n",
    "        vmin, vmax = 0.0, 1.0\n",
    "    else:\n",
    "        vmin = float(np.nanmin(vals))\n",
    "        vmax = float(np.nanmax(vals))\n",
    "    if np.isclose(vmin, vmax):\n",
    "        vmin -= 0.5\n",
    "        vmax += 0.5\n",
    "\n",
    "    norm = Normalize(vmin = vmin, vmax = vmax)\n",
    "    cmap = LinearSegmentedColormap.from_list(\"yellow_satisfaction\", [reddish_yellow_hex, yellow_hex, greenish_yellow_hex])\n",
    "\n",
    "    colors = []\n",
    "    for m in means.values:\n",
    "        if pd.isna(m):\n",
    "            colors.append(yellow_hex)\n",
    "        else:\n",
    "            colors.append(cmap(norm(m)))\n",
    "\n",
    "    total = float(counts.sum())\n",
    "    pct_share = (counts.values.astype(float) / total * 100.0) if total > 0 else np.zeros_like(counts.values, dtype = float)\n",
    "\n",
    "    x = np.arange(len(ordered_categories))\n",
    "    fig, ax = plt.subplots(figsize = (16, 9))\n",
    "    bars = ax.bar(x, counts.values.astype(float), width = width, color = colors, edgecolor = \"white\", linewidth = 1, alpha = alpha)\n",
    "\n",
    "    ax.bar_label(bars, labels = [f\"{v:.1f}%\" for v in pct_share], padding = 3, fontsize = 9, fontweight = \"bold\")\n",
    "    ax.set_xticks(x)\n",
    "    ax.set_xticklabels(ordered_categories)\n",
    "    ax.set_xlabel(x_label, fontsize = 12)\n",
    "    ax.set_ylabel(\"Количество сотрудников\", fontsize = 12)\n",
    "    ax.set_title(title, fontsize = 14, fontweight = \"bold\", pad = 14)\n",
    "    ax.grid(axis = \"y\", linestyle = \"--\", linewidth = 0.8, alpha = 0.5)\n",
    "    ax.margins(x = 0.02)\n",
    "\n",
    "    if show_colorbar:\n",
    "        sm = ScalarMappable(norm = norm, cmap = cmap)\n",
    "        sm.set_array([])\n",
    "        cbar = plt.colorbar(sm, ax = ax, fraction = 0.046, pad = 0.04, format = mtick.PercentFormatter(1, decimals = 1))\n",
    "        cbar.set_label(\"Средняя удовлетворённость (по категории)\", fontsize = 11)\n",
    "\n",
    "    fig.tight_layout()\n",
    "    plt.show()\n"
   ]
  },
  {
   "cell_type": "code",
   "execution_count": null,
   "id": "dcb8245a",
   "metadata": {},
   "outputs": [],
   "source": [
    "plot_ordered_category_bars(df,\n",
    "    category_col = \"level\",\n",
    "    ordered_categories = [\"junior\", \"middle\", \"sinior\"],\n",
    "    title = \"Удовлетворённость сотрудников по опыту\",\n",
    "    x_label = \"Опыт сотрудников\")"
   ]
  },
  {
   "cell_type": "markdown",
   "id": "3d64c427",
   "metadata": {},
   "source": [
    "- Опытных сотрудников в компании более чем в 10 раз меньше, чем новичков и бывалых\n",
    "- Новичков незначительно больше чем бывалых сотрудников\n",
    "- Меньше всего довольны рабочими местами новички\n",
    "\n",
    "Стоит лучше продумать процесс адаптации новых сотрудников т.к. среди них больше всего недовольных работой людей"
   ]
  },
  {
   "cell_type": "code",
   "execution_count": null,
   "id": "0a418b2d",
   "metadata": {},
   "outputs": [],
   "source": [
    "plot_quit_grouped_bars(df,\n",
    "    category_col = \"level\",\n",
    "    ordered_categories = [\"junior\", \"middle\", \"sinior\"],\n",
    "    title = \"Статус сотрудников по опыту работы\",\n",
    "    x_label = \"Опыт работы\")"
   ]
  },
  {
   "cell_type": "markdown",
   "id": "40ad8c5a",
   "metadata": {},
   "source": [
    "- Чуть более половины новичков в профессии покидает компанию\n",
    "- Доля опытных специалистов покидающих компанию более чем в 7 раз меньше и составляет чуть более 7%\n",
    "\n",
    "В целом, адекватные показатели текучки с учётом испытательных сроков и низкой текучки опытных сотрудников"
   ]
  },
  {
   "cell_type": "code",
   "execution_count": null,
   "id": "73e3245c",
   "metadata": {},
   "outputs": [],
   "source": [
    "plot_ordered_category_bars(df,\n",
    "    category_col = \"workload\",\n",
    "    ordered_categories = [\"low\", \"medium\", \"high\"],\n",
    "    title = \"Удовлетворённость сотрудников по нагрузке\",\n",
    "    x_label = \"Рабочая нагрузка\")"
   ]
  },
  {
   "cell_type": "markdown",
   "id": "fd14778f",
   "metadata": {},
   "source": [
    "- Парадоксально, но ~20% сотрудников, оценивших свою нагрузку как высокую более довольны своим местом работы в среднем\n",
    "- ~50% сотрудников, имеющих среднюю нагрузку в среднем меньше всего довольны своим местом работы\n",
    "- ~30% сотрудников недогружены, есть потенциал к повышению производительности труда"
   ]
  },
  {
   "cell_type": "code",
   "execution_count": null,
   "id": "5f35b2b1",
   "metadata": {},
   "outputs": [],
   "source": [
    "plot_quit_grouped_bars(df,\n",
    "    category_col = \"workload\",\n",
    "    ordered_categories = [\"low\", \"medium\", \"high\"],\n",
    "    title = \"Статус сотрудников по рабочей нагрузке\",\n",
    "    x_label = \"Рабочая нагрузка\")"
   ]
  },
  {
   "cell_type": "markdown",
   "id": "9548c9ec",
   "metadata": {},
   "source": [
    "Схожая с удовлетворённостью ситуация:\n",
    "\n",
    "- Работники с низким уровнем нагрузки в 40% случаев покидают работу\n",
    "- Работники с высоким уровнем нагрузки в 2 реже покидают работу, чем малонагруженные коллеги\n",
    "- Четверть сотрудников со средним уровнем нагрузки покидает компанию\n",
    "\n",
    "Высокий уровень нагрузки, вероятно, воспринимается сотрудниками как интересные вызовы и возможность развития, HR департаменту стоит детальнее изучить этот вопрос в рамках компании"
   ]
  },
  {
   "cell_type": "code",
   "execution_count": null,
   "id": "842d4ba2",
   "metadata": {},
   "outputs": [],
   "source": [
    "plot_ordered_category_bars(df,\n",
    "    category_col = \"last_year_promo\",\n",
    "    ordered_categories = [\"no\", \"yes\"],\n",
    "    title = \"Удовлетворённость сотрудников в зависимости от повышения за последний год\",\n",
    "    x_label = \"Было ли повышение\")"
   ]
  },
  {
   "cell_type": "markdown",
   "id": "ad90b367",
   "metadata": {},
   "source": [
    "- Сотрудников, получивших повышение в 33 раза меньше\n",
    "- Повышение значительно влияет на удовлетворённость сотрудников работой "
   ]
  },
  {
   "cell_type": "code",
   "execution_count": null,
   "id": "265525f2",
   "metadata": {},
   "outputs": [],
   "source": [
    "plot_quit_grouped_bars(df,\n",
    "    category_col = \"last_year_promo\",\n",
    "    title = \"Статус сотрудников в зависимости от повышения за последний год\",\n",
    "    x_label = \"Было ли повышение\")"
   ]
  },
  {
   "cell_type": "markdown",
   "id": "863c5987",
   "metadata": {},
   "source": [
    "- Большинство сотрудников не получали повышения\n",
    "- Повышение в 6 раз уменьшает вероятность покидания сотрудником рабочего места\n",
    "\n",
    "Есть смысл чаще мотивировать сотрудников, давая им незначительные повышения, как одну из стратегий удержания человеческого капитала в компании"
   ]
  },
  {
   "cell_type": "code",
   "execution_count": null,
   "id": "e47c41d4",
   "metadata": {},
   "outputs": [],
   "source": [
    "plot_ordered_category_bars(df,\n",
    "    category_col = \"last_year_violations\",\n",
    "    ordered_categories = [\"no\", \"yes\"],\n",
    "    title = \"Удовлетворённость сотрудников в зависимости от нарушения трудового договора\",\n",
    "    x_label = \"Было ли нарушение трудового договора\")"
   ]
  },
  {
   "cell_type": "markdown",
   "id": "75fe0c5a",
   "metadata": {},
   "source": [
    "- Нарушивших трудовой договор более чем в раз меньше\n",
    "- Удовлетворённость работой нарушивших трудовой договор значительно меньше, чем у остальных сотрудников"
   ]
  },
  {
   "cell_type": "code",
   "execution_count": null,
   "id": "97a7a7a5",
   "metadata": {},
   "outputs": [],
   "source": [
    "plot_quit_grouped_bars(df,\n",
    "    category_col = \"last_year_violations\",\n",
    "    title = \"Статус сотрудников в зависимости от нарушения трудового договора\",\n",
    "    x_label = \"Было ли нарушение трудового договора\")"
   ]
  },
  {
   "cell_type": "markdown",
   "id": "80063ced",
   "metadata": {},
   "source": [
    "- Сотрудники, нарушившие трудовой договор почти в 2 раза чаще покидали компанию\n",
    "\n",
    "Возможно, HR отделу стоит внимательнее изучить причинно-следственную связь между нарушением трудового договора и удовлетворённостью рабочим местом сотрудников компании. Появилась гипотеза, что низкая удовлетворённость работой в компании может быть причиной нарушения трудового договора и последующего покидания рабочего места в некоторых случаях"
   ]
  },
  {
   "cell_type": "markdown",
   "id": "4fae6383",
   "metadata": {},
   "source": [
    "### Выводы EDA"
   ]
  },
  {
   "cell_type": "markdown",
   "id": "06a3f102",
   "metadata": {},
   "source": [
    "**Промежуточный вывод**:\n",
    "\n",
    "Провели ознакомление с данными сотрудников, значительных выбросов и аномалий найдено не было, сделали выводы о влиянии признаков на целевые показатели.\n",
    "\n",
    "Замечания по связи с удовлетворённостью и вероятностью продолжения работы сотрудников:\n",
    "\n",
    "- Сотрудники реже увольняются после 4 лет работы в компании\n",
    "- Позитивные оценки руководства выше среднего позитивно влияют на удовлетворённость работой сотрудников\n",
    "- Сотрудникам с высокой удовлетворённостью рабочим местом можно не повышать ЗП т.к. они с высокой вероятностью останутся. При этом недовольные сотрудники с ЗП ниже 40_000 скорее всего уйдут\n",
    "- Важно следить за тем, чтобы удовлетворённость сотрудника работой оставалась выше 50% т.к. это резко понижает шансы ухода\n",
    "- Значительных различий в комфортности работы в различных департаментах не наблюдается\n",
    "- Стоит обратить внимание на текучку кадров в отделе продаж \n",
    "- Стоит лучше продумать процесс адаптации новых сотрудников т.к. среди них больше всего недовольных работой людей\n",
    "- Сотрудникам стоит давать более сложные задачи т.к. это понижает вероятность ухода и одновременно может повысить производительность труда\n",
    "- Появилась гипотеза, что низкая удовлетворённость работой в компании может быть причиной нарушения трудового договора и последующего покидания рабочего места в некоторых случаях. HR отделу стоит детальнее изучить этот процес в динамике\n",
    "- Есть смысл чаще мотивировать сотрудников, давая им незначительные повышения, как одну из стратегий удержания человеческого капитала в компании"
   ]
  },
  {
   "cell_type": "markdown",
   "id": "4e81e621",
   "metadata": {},
   "source": [
    "## Корреляционный анализ"
   ]
  },
  {
   "cell_type": "markdown",
   "id": "e14ce514",
   "metadata": {},
   "source": [
    "### Корреляционная матрица"
   ]
  },
  {
   "cell_type": "markdown",
   "id": "eebba543",
   "metadata": {},
   "source": [
    "Для начала построим кореляционную матрицу в виде тепловой карты."
   ]
  },
  {
   "cell_type": "code",
   "execution_count": null,
   "id": "6591835e",
   "metadata": {
    "trusted": false
   },
   "outputs": [],
   "source": [
    "numeric_columns = df.select_dtypes(include = [\"number\"]).columns.tolist()\n",
    "numeric_columns.remove(\"id\")\n",
    "fig, ax = plt.subplots(figsize=(10,10))  \n",
    "phi_k = df.drop(\"id\", axis = 1).phik_matrix()\n",
    "sns.heatmap(phi_k, cmap = \"YlGnBu\", annot = True)\n",
    "ax.set_title(\"Зависимость всех признаков между собой\")\n",
    "plt.show()"
   ]
  },
  {
   "cell_type": "markdown",
   "id": "06aec972",
   "metadata": {},
   "source": [
    "### VIF (коэффициент инфляции дисперсии)"
   ]
  },
  {
   "cell_type": "markdown",
   "id": "46c6b9d5",
   "metadata": {},
   "source": [
    "Оценим мультиколлинеарность каждого не содержащего пропусков численного признака в данных при помощи рассчёта коэффициента инфляции дисперсии"
   ]
  },
  {
   "cell_type": "code",
   "execution_count": null,
   "id": "6117bd28",
   "metadata": {
    "trusted": false
   },
   "outputs": [],
   "source": [
    "X = add_constant(df[numeric_columns])\n",
    "VIFs = pd.DataFrame()\n",
    "VIFs[\"Variable\"] = X.columns\n",
    "VIFs[\"VIF\"] = [variance_inflation_factor(X.values, i) for i in range(X.shape[1])]\n",
    "\n",
    "display(VIFs.sort_values(by = \"VIF\", ascending = False))"
   ]
  },
  {
   "cell_type": "markdown",
   "id": "249a6338",
   "metadata": {},
   "source": [
    "Исходя из корелляционной матрицы и анализа VIF делаем вывод, что мультиколлинеарность в количественных данных отсутствует. Наиболее скоррелированным с целевым признаком является оценка руководителя.\n",
    "\n",
    "Заметим, что наиболее скореллированы с уходом из компании стаж и удовлетворённость рабочим местом сотрудников. При этом связь удовлетворённости и вероятности ухода, как заметили ранее в EDA, не линейна."
   ]
  },
  {
   "cell_type": "markdown",
   "id": "f6654ae3",
   "metadata": {},
   "source": [
    "## Построение пайплайна регрессии"
   ]
  },
  {
   "cell_type": "markdown",
   "id": "cf73d747",
   "metadata": {},
   "source": [
    "### Подготовка данных"
   ]
  },
  {
   "cell_type": "markdown",
   "id": "ecf7b2c2",
   "metadata": {},
   "source": [
    "На данном этапе в подготовке данных к ML нужно учитывать, что в данных могут присутствовать некорректные категории. Например, символ пробела, встреченный во время предобработки или иные. Для обработки таких значениё без искажения предсказаний будем игнорировать такие значения и присваивать им нулевые веса."
   ]
  },
  {
   "cell_type": "code",
   "execution_count": null,
   "id": "323fd69a",
   "metadata": {
    "trusted": false
   },
   "outputs": [],
   "source": [
    "y_train = X_train[\"job_satisfaction_rate\"]\n",
    "X_train = X_train.drop([\"id\", \"job_satisfaction_rate\"], axis = 1)\n",
    "\n",
    "ohe_columns = [\"dept\", \"last_year_promo\", \"last_year_violations\"]\n",
    "ord_columns = [\"level\", \"workload\"]\n",
    "numeric_columns = X_train.select_dtypes(include = [\"number\"]).columns.tolist()\n",
    "\n",
    "cat_ohe_pipe = Pipeline([\n",
    "    (\"impute\", SimpleImputer(strategy = \"most_frequent\")),\n",
    "    (\"ohe\", OneHotEncoder(drop = \"if_binary\",\n",
    "                          handle_unknown = \"ignore\"))\n",
    "])\n",
    "\n",
    "cat_ord_pipe = Pipeline([\n",
    "    (\"impute\", SimpleImputer(strategy = \"most_frequent\")),\n",
    "    (\"ord\", OrdinalEncoder(handle_unknown = \"use_encoded_value\",\n",
    "                           unknown_value = 3))\n",
    "])\n",
    "\n",
    "num_pipe = Pipeline([\n",
    "    (\"impute\", SimpleImputer(strategy = \"mean\")),\n",
    "    (\"scale\", MinMaxScaler())\n",
    "])\n",
    "\n",
    "data_preprocessor = ColumnTransformer(\n",
    "    transformers=[\n",
    "        (\"cat_ohe\", cat_ohe_pipe, ohe_columns),\n",
    "        (\"cat_ord\", cat_ord_pipe, ord_columns),\n",
    "        (\"num\", num_pipe, numeric_columns),\n",
    "    ],\n",
    "    remainder=\"passthrough\"\n",
    ")"
   ]
  },
  {
   "cell_type": "markdown",
   "id": "280120e3",
   "metadata": {},
   "source": [
    "### Cоздаём итоговый пайплайн: перебор методов подготовки данных и моделей регрессии с разными гиперпараметрами"
   ]
  },
  {
   "cell_type": "code",
   "execution_count": null,
   "id": "43636b02",
   "metadata": {
    "trusted": false
   },
   "outputs": [],
   "source": [
    "regress_pipe = Pipeline([\n",
    "    (\"preprocessor\", data_preprocessor),\n",
    "    (\"models\", LinearRegression(n_jobs = -1))\n",
    "])\n",
    "\n",
    "param_grid = [\n",
    "    {\n",
    "        'models': [LinearRegression(n_jobs = -1)],\n",
    "        'preprocessor__num__scale': [StandardScaler(), MinMaxScaler(), RobustScaler(), MaxAbsScaler(), 'passthrough']  \n",
    "    },\n",
    "    {\n",
    "        \"models\": [KNeighborsRegressor(n_jobs = -1)],\n",
    "        \"models__n_neighbors\": range(2, 7),\n",
    "        \"models__weights\": [\"uniform\", \"distance\"],\n",
    "        \"models__algorithm\": [\"ball_tree\", \"kd_tree\"],\n",
    "        \"models__leaf_size\": range(2, 51, 3),\n",
    "        \"models__metric\": [\"euclidean\", \"manhattan\"],\n",
    "        \"preprocessor__num__scale\": [StandardScaler(), MinMaxScaler(), RobustScaler(), MaxAbsScaler(), \"passthrough\"]   \n",
    "    },\n",
    "    {\n",
    "        \"models\": [ElasticNet(\n",
    "            random_state=RANDOM_STATE\n",
    "        )],\n",
    "        \"models__alpha\": [.5, 1, 2, 5, 10],\n",
    "        \"models__l1_ratio\": [.4, .5, .6],\n",
    "        \"preprocessor__num__scale\": [StandardScaler(), MinMaxScaler(), RobustScaler(), MaxAbsScaler(), \"passthrough\"]  \n",
    "    },\n",
    "    {\n",
    "        \"models\": [SVR()],\n",
    "        \"models__C\": [1, 2, 4, 8, 16, 32],\n",
    "        \"models__kernel\": [\"linear\", \"poly\", \"rbf\", \"sigmoid\"],\n",
    "        \"models__degree\": [2, 3, 4, 5],\n",
    "        \"models__gamma\": [\"scale\", \"auto\"],\n",
    "        \"preprocessor__num__scale\": [StandardScaler(), MinMaxScaler(), RobustScaler(), MaxAbsScaler(), \"passthrough\"]  \n",
    "    },\n",
    "    {\n",
    "        \"models\": [DecisionTreeRegressor(\n",
    "            random_state=RANDOM_STATE\n",
    "        )],\n",
    "        \"models__criterion\": [\"squared_error\", \"friedman_mse\", \"absolute_error\", \"poisson\"],\n",
    "        \"models__max_depth\": range(2, 11),\n",
    "        \"models__min_samples_split\": range(2, 10),\n",
    "        \"models__min_samples_leaf\": range(2, 51, 2),\n",
    "        \"models__max_features\": [\"sqrt\", \"log2\"],\n",
    "        \"preprocessor__num__scale\": [StandardScaler(), MinMaxScaler(), RobustScaler(), MaxAbsScaler(), \"passthrough\"]  \n",
    "    }\n",
    "]\n",
    "\n",
    "def smape(y_true, y_pred):\n",
    "    y_true = np.asarray(y_true, dtype = float)\n",
    "    y_pred = np.asarray(y_pred, dtype = float)\n",
    "    denom = np.abs(y_true) + np.abs(y_pred)\n",
    "    ratio = np.where(denom == 0.0, 0.0, np.abs(y_true - y_pred) / (denom / 2.0))\n",
    "    return 100.0 * np.sum(ratio) / len(y_true)\n",
    "\n",
    "smape_scorer = make_scorer(smape, greater_is_better = False) \n",
    "randomized_search = RandomizedSearchCV(\n",
    "    regress_pipe, \n",
    "    param_grid,\n",
    "    n_iter = 250,\n",
    "    cv = 5,\n",
    "    scoring = smape_scorer,\n",
    "    random_state = RANDOM_STATE,\n",
    "    n_jobs = -1\n",
    ")\n",
    "randomized_search.fit(X_train, y_train)"
   ]
  },
  {
   "cell_type": "markdown",
   "id": "8f4c174c",
   "metadata": {},
   "source": [
    "### Выбор метрики"
   ]
  },
  {
   "cell_type": "markdown",
   "id": "d8850322",
   "metadata": {},
   "source": [
    "Сопоставим индексы признаков тестовой выборки."
   ]
  },
  {
   "cell_type": "code",
   "execution_count": null,
   "id": "58748b20",
   "metadata": {},
   "outputs": [],
   "source": [
    "test = pd.merge(X_test, y_test_regress, on = \"id\")\n",
    "X_test = test.drop([\"id\", \"job_satisfaction_rate\"], axis = 1)\n",
    "y_test = test[\"job_satisfaction_rate\"]"
   ]
  },
  {
   "cell_type": "markdown",
   "id": "91cfa7a1",
   "metadata": {},
   "source": [
    "Для задачи выбрана метрика SMAPE по желанию заказчика."
   ]
  },
  {
   "cell_type": "code",
   "execution_count": null,
   "id": "1e45344c",
   "metadata": {
    "trusted": false
   },
   "outputs": [],
   "source": [
    "display(\"Лучшая модель и её параметры:\", randomized_search.best_estimator_)\n",
    "display(\"Метрика лучшей модели на тренировочной выборке:\", abs(randomized_search.best_score_))\n",
    "display(f\"Метрика SMAPE на тестовой выборке: {abs(smape_scorer(randomized_search.best_estimator_, X_test, y_test))}\")"
   ]
  },
  {
   "cell_type": "code",
   "execution_count": null,
   "id": "4a5d164d",
   "metadata": {},
   "outputs": [],
   "source": [
    "randomized_search.best_estimator_.get_params()"
   ]
  },
  {
   "cell_type": "markdown",
   "id": "d83299f0",
   "metadata": {},
   "source": [
    "### Вывод подбора модели"
   ]
  },
  {
   "cell_type": "markdown",
   "id": "7e28db0e",
   "metadata": {},
   "source": [
    "**Наилучшей** моделью оказалась **модель опорных векторов** с параметром C = 1 и нелинейным ядром 4 степени **SMAPE близок к 15** на тестовой выборке. Такое значение точности выглядит правдоподобным и удовлетворительным"
   ]
  },
  {
   "cell_type": "markdown",
   "id": "b1a0869f",
   "metadata": {},
   "source": [
    "## Анализ важности признаков регрессии"
   ]
  },
  {
   "cell_type": "markdown",
   "id": "b3d6037d",
   "metadata": {},
   "source": [
    "Т.к. лучшей оказалась нелинейная модель, используем метод важности перестановки признаков для анализа их значимости"
   ]
  },
  {
   "cell_type": "code",
   "execution_count": null,
   "id": "45193daf",
   "metadata": {
    "trusted": false
   },
   "outputs": [],
   "source": [
    "r = permutation_importance(randomized_search.best_estimator_, X_test, y_test,\n",
    "                           n_repeats = 30,\n",
    "                           random_state = RANDOM_STATE)\n",
    "\n",
    "for i in r.importances_mean.argsort()[::-1]:\n",
    "    if r.importances_mean[i] - 2 * r.importances_std[i] > 0:\n",
    "        display(f\"{X_test.columns.to_list()[i]:<8}\"\n",
    "              f\"{r.importances_mean[i]:.3f}\"\n",
    "              f\" +/- {r.importances_std[i]:.3f}\")"
   ]
  },
  {
   "cell_type": "markdown",
   "id": "680fe327",
   "metadata": {},
   "source": [
    "Больше всего на уровень удовлетворённости сотрудника влияют:\n",
    "1) Уровень заработной платы\n",
    "2) Опыт работы сотрудника\n",
    "3) Оценка эффективности сотрудника руководством\n",
    "\n",
    "Меньше всего на удовлетворённость влияют:\n",
    "1) Повышение за последний год\n",
    "2) Нарушения трудового договора за последний год\n",
    "3) Принадлежность к департаменту"
   ]
  },
  {
   "cell_type": "markdown",
   "id": "f02b7ca7",
   "metadata": {},
   "source": [
    "## Построение пайплайна классификации"
   ]
  },
  {
   "cell_type": "markdown",
   "id": "4d432570",
   "metadata": {},
   "source": [
    "### Изучение связи удовлетворённости и ухода с работы"
   ]
  },
  {
   "cell_type": "markdown",
   "id": "8edad2d5",
   "metadata": {},
   "source": [
    "Ранее уже была выявлена и проанализирована связь между удовлетворённостью работой и уходом сотрудников. Напомним"
   ]
  },
  {
   "cell_type": "code",
   "execution_count": null,
   "id": "5c301cf2",
   "metadata": {},
   "outputs": [],
   "source": [
    "data = df[[\"job_satisfaction_rate\", \"quit\"]].dropna(subset = [\"job_satisfaction_rate\", \"quit\"])\n",
    "data[\"quit_bin\"] = data[\"quit\"].map({\"no\": 0.0, \"yes\": 1.0}).astype(\"float\")\n",
    "\n",
    "x_min, x_max = data[\"job_satisfaction_rate\"].min(), data[\"job_satisfaction_rate\"].max()\n",
    "bins = np.linspace(x_min, x_max, NUM_BINS + 1)\n",
    "bin_widths = np.diff(bins)\n",
    "bin_centers = (bins[:-1] + bins[1:]) / 2\n",
    "\n",
    "bin_idx = np.digitize(data[\"job_satisfaction_rate\"].to_numpy(), bins, right = False) - 1\n",
    "bin_idx = np.clip(bin_idx, 0, NUM_BINS - 1)\n",
    "\n",
    "counts = np.zeros(NUM_BINS, dtype = int)\n",
    "quit_mean = np.full(NUM_BINS, np.nan, dtype = float)\n",
    "\n",
    "for i in range(NUM_BINS):\n",
    "    mask = (bin_idx == i)\n",
    "    if np.any(mask):\n",
    "        counts[i] = mask.sum()\n",
    "        quit_mean[i] = data.loc[mask, \"quit_bin\"].mean()\n",
    "\n",
    "traffic_cmap = LinearSegmentedColormap.from_list(\"traffic\", [\"green\", \"yellow\", \"red\"], N = 256)\n",
    "norm = Normalize(vmin = 0.0, vmax = 1.0)\n",
    "\n",
    "colors = traffic_cmap(norm(np.nan_to_num(quit_mean, nan = 0.5)))  \n",
    "\n",
    "plt.figure(figsize = (12, 5))\n",
    "plt.bar(bin_centers, counts, width = bin_widths * 0.98, color = colors, edgecolor = \"none\")\n",
    "\n",
    "plt.xlabel(\"Уровень удовлетворённости\")\n",
    "plt.ylabel(\"Число сотрудников в диапазоне\")\n",
    "plt.title(\"Распределение удовлетворённости с «светофорной» долей увольнений в диапазонах\")\n",
    "plt.grid(axis = \"y\", linestyle = \":\", linewidth = 0.7, alpha = 0.6)\n",
    "\n",
    "sm = plt.cm.ScalarMappable(norm = norm, cmap = traffic_cmap)\n",
    "sm.set_array([])\n",
    "cbar = plt.colorbar(sm, pad = 0.01)\n",
    "cbar.set_label(\"Доля уволившихся в корзине (0 → зелёный, 1 → красный)\")\n",
    "\n",
    "plt.tight_layout()\n",
    "plt.show()\n"
   ]
  },
  {
   "cell_type": "markdown",
   "id": "1bc634a1",
   "metadata": {},
   "source": [
    "- **Удовлетворённость** сотрудника рабочим местом **напрямую влияет на прололжение его работы в компании**\n",
    "- Вероятность ухода сотрудника резко падает при удовлетворённости ниже среднего\n",
    "- График распределения частот удовлетворённости сотрудников мультимодален: неудовлетворённость сотрудников увеливичается до ~0.38 и далее падает до нейтрального уровня удовлетворённости. После нейтрального уровня удовлетворённость сотрудников резко повышается до ~0.7 и далее так же падает\n",
    "- Чаще всего сотрудники умеренно удовлетворены своим рабочим местом"
   ]
  },
  {
   "cell_type": "markdown",
   "id": "db8000bd",
   "metadata": {},
   "source": [
    "Добавим предсказания удовлетворённостью рабочим местов в набор признаков."
   ]
  },
  {
   "cell_type": "code",
   "execution_count": null,
   "id": "940c22fe",
   "metadata": {},
   "outputs": [],
   "source": [
    "X_train[\"job_satisfaction_rate\"] = randomized_search.best_estimator_.predict(X_train)\n",
    "X_train.info()"
   ]
  },
  {
   "cell_type": "markdown",
   "id": "b9f36470",
   "metadata": {},
   "source": [
    "Сопоставим индексы признаков тестовой выборки."
   ]
  },
  {
   "cell_type": "markdown",
   "id": "ce2b4870",
   "metadata": {},
   "source": [
    "Выберем рандомным поиском наилучшую модель классификации и гиперпараметры и улучшим её качество адаптивным бустингом."
   ]
  },
  {
   "cell_type": "code",
   "execution_count": null,
   "id": "82af5323",
   "metadata": {},
   "outputs": [],
   "source": [
    "ohe_columns = [\"dept\", \"last_year_promo\", \"last_year_violations\"]\n",
    "ord_columns = [\"level\", \"workload\"]\n",
    "numeric_columns = X_train.select_dtypes(include = [\"number\"]).columns.tolist()\n",
    "\n",
    "cat_ohe_pipe = Pipeline([\n",
    "    (\"impute\", SimpleImputer(strategy = \"most_frequent\")),\n",
    "    (\"ohe\", OneHotEncoder(drop = \"if_binary\",\n",
    "                          handle_unknown = \"ignore\"))\n",
    "])\n",
    "\n",
    "cat_ord_pipe = Pipeline([\n",
    "    (\"impute\", SimpleImputer(strategy = \"most_frequent\")),\n",
    "    (\"ord\", OrdinalEncoder(handle_unknown = \"use_encoded_value\",\n",
    "                           unknown_value = 3))\n",
    "])\n",
    "\n",
    "num_pipe = Pipeline([\n",
    "    (\"impute\", SimpleImputer(strategy = \"mean\")),\n",
    "    (\"scale\", MinMaxScaler())\n",
    "])\n",
    "\n",
    "data_preprocessor = ColumnTransformer(\n",
    "    transformers=[\n",
    "        (\"cat_ohe\", cat_ohe_pipe, ohe_columns),\n",
    "        (\"cat_ord\", cat_ord_pipe, ord_columns),\n",
    "        (\"num\", num_pipe, numeric_columns),\n",
    "    ],\n",
    "    remainder=\"passthrough\"\n",
    ")\n",
    "\n",
    "classif_pipeline = Pipeline([\n",
    "    ('preprocessor', preprocessor),\n",
    "    ('classifier', AdaBoostClassifier(random_state=0))\n",
    "])\n",
    "\n",
    "param_distributions = [\n",
    "    {\n",
    "        'classifier__base_estimator': [DecisionTreeClassifier(random_state=0)],\n",
    "        'classifier__base_estimator__max_depth': [1, 3, 5],\n",
    "        'classifier__base_estimator__min_samples_leaf': [1, 5, 10],\n",
    "        'classifier__n_estimators': [50, 100, 200],\n",
    "        'preprocessor__num__scaler': [StandardScaler(), MinMaxScaler()]\n",
    "    },\n",
    "    {\n",
    "        'classifier__base_estimator': [LogisticRegression(penalty='l2', solver='lbfgs', max_iter=1000, random_state=0)],\n",
    "        'classifier__base_estimator__C': [0.1, 1.0, 10.0],\n",
    "        'classifier__n_estimators': [50, 100, 200],\n",
    "        'preprocessor__num__scaler': [StandardScaler(), MinMaxScaler()]\n",
    "    },\n",
    "    {\n",
    "        'classifier__base_estimator': [SVC(probability=True, kernel='rbf', random_state=0)],\n",
    "        'classifier__base_estimator__C': [0.1, 1.0, 10.0],\n",
    "        'classifier__base_estimator__kernel': ['linear', 'rbf'],\n",
    "        'classifier__base_estimator__gamma': ['scale', 0.1, 1.0],\n",
    "        'classifier__n_estimators': [50, 100],\n",
    "        'preprocessor__num__scaler': [StandardScaler(), MinMaxScaler()]\n",
    "    }\n",
    "]\n",
    "\n",
    "search = RandomizedSearchCV(\n",
    "    estimator = classif_pipeline,\n",
    "    param_distributions = param_distributions,\n",
    "    n_iter = 100,\n",
    "    cv = 5,\n",
    "    scoring = \"roc_auc\",\n",
    "    n_jobs = -1,\n",
    "    random_state = RANDOM_STATE\n",
    ")\n",
    "\n",
    "# Проведение поиска (предполагается, что X_train, y_train подготовлены заранее)\n",
    "search.fit(X_train, y_train)\n",
    "\n",
    "print(\"Лучшие параметры:\", search.best_params_)\n",
    "print(\"Лучший результат CV:\", search.best_score_)"
   ]
  },
  {
   "cell_type": "markdown",
   "id": "7930d6c9",
   "metadata": {},
   "source": [
    "<div class=\"alert alert-warning\">\n",
    "<h2> Комментарий ревьюера <a class=\"tocSkip\"> </h2>\n",
    "    \n",
    "<b>Некоторые замечания и рекомендации💡:</b> \n",
    "\n",
    "В самом начале было бы логично прописать, како сегмент и почему мы выбрали для анализа.\n",
    "    \n",
    "Логика может быть следующей: выше мы исследовали, чем активные клиенты различаются с клиентами, чья активность снижается. Проанализировали все закономерности итд, а здесь мы на основе анализа выбираем группу, активность которой нам выгоднее удерживать в первую очередь. Или группу, исследование которой может уточнить наши выводы о данных.\n",
    "\n"
   ]
  },
  {
   "cell_type": "markdown",
   "id": "5d5757b2",
   "metadata": {},
   "source": [
    "<br/>\n",
    "<div class=\"alert alert-info\">\n",
    "Это уже было сделано, соответствующий код и график ниже.\n",
    "</div>"
   ]
  },
  {
   "cell_type": "code",
   "execution_count": null,
   "id": "56062618",
   "metadata": {
    "trusted": false
   },
   "outputs": [],
   "source": [
    "X_full = preproc_merged.drop([\"id\", \"покупательская_активность\"], axis = 1)\n",
    "\n",
    "predictions = randomized_search.best_estimator_.predict_proba(X_full)[:, 1]\n",
    "\n",
    "segmented = merged.copy()\n",
    "segmented[\"нужно_удержание\"] = predictions"
   ]
  },
  {
   "cell_type": "markdown",
   "id": "67d4433b",
   "metadata": {},
   "source": [
    "Рассмотрим распределение вероятностей необходимости удержания клиентов."
   ]
  },
  {
   "cell_type": "code",
   "execution_count": null,
   "id": "9f9c5a86",
   "metadata": {
    "trusted": false
   },
   "outputs": [],
   "source": [
    "plt.hist(predictions)"
   ]
  },
  {
   "cell_type": "markdown",
   "id": "7d9d0f5c",
   "metadata": {},
   "source": [
    "Видно, что модель присваивает абсолютные значения вероятности для большинства клиентов."
   ]
  },
  {
   "cell_type": "markdown",
   "id": "04857cac",
   "metadata": {},
   "source": [
    "Сегментируем покупателей по прибыли от них и необходимости действой по удержанию."
   ]
  },
  {
   "cell_type": "code",
   "execution_count": null,
   "id": "80ab3b75",
   "metadata": {
    "trusted": false
   },
   "outputs": [],
   "source": [
    "clustering_features = [\"масштабированная_прибыль\", \"нужно_удержание\"]\n",
    "X_cluster = segmented[clustering_features].fillna(segmented[clustering_features].mean())\n",
    "scaler = StandardScaler()\n",
    "X_cluster_scaled = scaler.fit_transform(X_cluster)\n",
    "\n",
    "kmeans = KMeans(n_clusters=4, random_state=RANDOM_STATE)\n",
    "segmented['segment'] = kmeans.fit_predict(X_cluster_scaled)\n"
   ]
  },
  {
   "cell_type": "code",
   "execution_count": null,
   "id": "65c3b2c8",
   "metadata": {
    "trusted": false
   },
   "outputs": [],
   "source": [
    "segmented.describe()"
   ]
  },
  {
   "cell_type": "markdown",
   "id": "342aa1ed",
   "metadata": {},
   "source": [
    "Описательная статистика выглядит адекватно. Явных аномалий не замечено."
   ]
  },
  {
   "cell_type": "markdown",
   "id": "67aeee8a",
   "metadata": {},
   "source": [
    "### Квадранты сегментации клиентов"
   ]
  },
  {
   "cell_type": "markdown",
   "id": "6c1b14e0",
   "metadata": {},
   "source": [
    "Разделение по вероятности снижения активности клиента будем делать по 0.5 т.к. логично рассматривать этот признак как бинарный. \n",
    "\n",
    "Для значений прибыльности клиентов сделаем раздиление по средней прибыльности т.к. ранее мы наблюдали нормальное распределение для этого признака."
   ]
  },
  {
   "cell_type": "code",
   "execution_count": null,
   "id": "66df802b",
   "metadata": {
    "trusted": false
   },
   "outputs": [],
   "source": [
    "retention_threshold = 0.5\n",
    "profit_threshold = segmented[\"масштабированная_прибыль\"].mean()\n",
    "\n",
    "display(f\"Порог для удержания: {retention_threshold}\")\n",
    "display(f\"Порог для прибыли: {profit_threshold:.2f}\")\n",
    "display(f\"Количество пользователей в каждом сегменте:\")\n",
    "display(segmented[\"segment\"].value_counts())\n",
    "\n",
    "plt.figure(figsize = (12, 10))\n",
    "\n",
    "colors = [\"red\", \"blue\", \"green\", \"orange\"]\n",
    "segment_names = [\"Сегмент 1\", \"Сегмент 2\", \"Сегмент 3\", \"Сегмент 4\"]\n",
    "\n",
    "for segment_id in range(4):\n",
    "    segment_data = segmented[segmented[\"segment\"] == segment_id]\n",
    "    plt.scatter(segment_data[\"нужно_удержание\"],\n",
    "                segment_data[\"масштабированная_прибыль\"],\n",
    "                c = colors[segment_id],\n",
    "                alpha = 0.6,\n",
    "                s = 50,\n",
    "                label = f\"{segment_names[segment_id]} (n = {len(segment_data)})\")\n",
    "\n",
    "plt.axhline(y = profit_threshold, color = \"black\", linestyle = \"--\", linewidth = 2, alpha = 0.7)\n",
    "plt.axvline(x = retention_threshold, color = \"black\", linestyle = \"--\", linewidth = 2, alpha = 0.7)\n",
    "\n",
    "plt.xlabel(\"Вероятность необходимости удержания\", fontsize = 12, fontweight = \"bold\")\n",
    "plt.ylabel(\"Прибыль (у.е.)\", fontsize = 12, fontweight = \"bold\")\n",
    "plt.title(\"Сегментация пользователей: Удержание vs Прибыль\", fontsize = 14, fontweight = \"bold\")\n",
    "\n",
    "\n",
    "\n",
    "plt.legend(bbox_to_anchor = (1.05, 1), loc = \"upper left\")\n",
    "plt.grid(True, alpha = 0.3)\n",
    "\n",
    "\n",
    "plt.tight_layout()\n",
    "plt.show()"
   ]
  },
  {
   "cell_type": "markdown",
   "id": "6d6ee8ed",
   "metadata": {},
   "source": [
    "Для бизнеса в первую очередь стоит сфокусировать внимание на клиентах с высокой прибыльностью, которые теряют активность. На графике это 3 сегмент, обозначенный зелёным цветом."
   ]
  },
  {
   "cell_type": "markdown",
   "id": "537e9599",
   "metadata": {},
   "source": [
    "### Анализ распределения по квадрантам"
   ]
  },
  {
   "cell_type": "code",
   "execution_count": null,
   "id": "49b19d34",
   "metadata": {
    "trusted": false
   },
   "outputs": [],
   "source": [
    "def get_quadrant(row):\n",
    "    retention = row[\"нужно_удержание\"]\n",
    "    profit = row[\"масштабированная_прибыль\"]\n",
    "\n",
    "    if retention >= retention_threshold and profit >= profit_threshold:\n",
    "        return \"Квадрант 1: Нужно удержание + Высокая прибыль\"\n",
    "    elif retention < retention_threshold and profit >= profit_threshold:\n",
    "        return \"Квадрант 2: Не нужно удержание + Высокая прибыль\"\n",
    "    elif retention < retention_threshold and profit < profit_threshold:\n",
    "        return \"Квадрант 3: Не нужно удержание + Низкая прибыль\"\n",
    "    else:\n",
    "        return \"Квадрант 4: Нужно удержание + Низкая прибыль\"\n",
    "\n",
    "segmented[\"quadrant\"] = segmented.apply(get_quadrant, axis=1)\n",
    "\n",
    "quadrant_counts = segmented[\"quadrant\"].value_counts()\n",
    "display(\"Распределение пользователей по квадрантам:\")\n",
    "display(quadrant_counts)\n",
    "display(\"\\nПроцентное распределение:\")\n",
    "display(f\"{(quadrant_counts / len(segmented) * 100).round(1)} %\")"
   ]
  },
  {
   "cell_type": "markdown",
   "id": "9b1cc4e1",
   "metadata": {},
   "source": [
    "Пользователей, на которых в первую очередь стоит обратить внимание в текущем наборе данных примерно пятая часть."
   ]
  },
  {
   "cell_type": "markdown",
   "id": "0a8eb908",
   "metadata": {},
   "source": [
    "<div class=\"alert alert-block alert-danger\">\n",
    "<h2> Комментарий ревьюера <a class=\"tocSkip\"></h2>\n",
    "  \n",
    "<b>На доработку🤔:</b>\n",
    " \n",
    "`8.1 Выполните сегментацию покупателей. Используйте результаты моделирования и данные о прибыльности покупателей.`\n",
    "\n",
    "Попробую описать, что мы должны сделать:\n",
    "    \n",
    "Самое важное − мы должны по заданию выбрать некоторый сегмент пользователей, обосновать выбор сегмента, обосновать то, как мы этот сегмент определяем (почему выбираем такие значения признаков для отбора пользователей в сегмент), а дальше исследовать только этот сегмент.\n",
    "    \n",
    "1) Под результатами моделирования здесь мы понимаем предсказания нашей модели, то есть, вероятности классов. Мы можем ранжировать клиентов по вероятности снижения активности и таким образом использовать эту информацию как одну из осей скаттерплота (для примера). Второй осью тогда будет какая-то категория, которая будет логичной после выбора сегмента. Например, если выбираем сегмент с высокой вероятностью снижения активности и высокой выручкой, то второй шкалой в скаттерплоте будет выручка.\n",
    "\n",
    "    \n",
    "2) Важно аргументировать выбор границ и для вероятности снижения активности, и для прибыльности. Как раз это будет удобно сделать, солавшись на график (думаю, скаттерплот тут в качестве типа визуализации будет выигрывать).\n",
    "    \n",
    "    \n",
    "Дальше следует провести исследование для выбранного сегмента: посмотреть на данные в разрезе периодов, в разрезе категорий товаров, акций итд. Нужно выявить факторы, которые сильнее всего влияют на снижение активности и предложить решения для минимизации негативного воздействия этих факторов.\n",
    "\n",
    "</div>\n",
    "\n",
    "\n",
    "\n"
   ]
  },
  {
   "cell_type": "code",
   "execution_count": null,
   "id": "f92982f5",
   "metadata": {
    "trusted": false
   },
   "outputs": [],
   "source": [
    "premium = segmented[segmented[\"quadrant\"] == \"Квадрант 1: Нужно удержание + Высокая прибыль\"]"
   ]
  },
  {
   "cell_type": "markdown",
   "id": "f12a0013",
   "metadata": {},
   "source": [
    "<br/>\n",
    "<div class=\"alert alert-info\">\n",
    "Сегмент для исследования выбран в соответствии с заданием данного раздела проекта\n",
    "</div>"
   ]
  },
  {
   "cell_type": "markdown",
   "id": "853b5f12",
   "metadata": {},
   "source": [
    "### Идеи удержания пользователей"
   ]
  },
  {
   "cell_type": "markdown",
   "id": "ec568e5a",
   "metadata": {},
   "source": [
    "Проверим возможности предоставить пользователям скидки."
   ]
  },
  {
   "cell_type": "code",
   "execution_count": null,
   "id": "4eb1b2a1",
   "metadata": {
    "trusted": false
   },
   "outputs": [],
   "source": [
    "promo_active_threshold = 0.2\n",
    "\n",
    "promo_users = premium[premium[\"акционные_покупки\"] > promo_active_threshold]\n",
    "non_promo_users = premium[premium[\"акционные_покупки\"] <= promo_active_threshold]\n",
    "\n",
    "promo_counts = [len(promo_users), len(non_promo_users)]\n",
    "promo_labels = [\n",
    "    f\"Активно пользуются акциями\\n({len(promo_users)} чел., {len(promo_users)/len(premium)*100:.1f}%)\",\n",
    "    f\"Редко/не пользуются акциями\\n({len(non_promo_users)} чел., {len(non_promo_users)/len(premium)*100:.1f}%)\"\n",
    "]\n",
    "\n",
    "plt.figure(figsize = (10, 8))\n",
    "colors = [\"#FF6B6B\", \"#4ECDC4\"]\n",
    "\n",
    "plt.pie(promo_counts,\n",
    "        labels = promo_labels,\n",
    "        colors = colors,\n",
    "        autopct = \"%1.1f%%\",\n",
    "        startangle = 90,\n",
    "        explode = (0.1, 0),\n",
    "        shadow = True,\n",
    "        textprops = {\"fontsize\": 12, \"fontweight\": \"bold\"})\n",
    "\n",
    "plt.title(\"Использование акционных покупок в приоритетном сегменте\\n(Высокая прибыль + Высокая необходимость удержания)\",\n",
    "          fontsize = 14, fontweight = \"bold\", pad = 20)\n",
    "\n",
    "plt.axis(\"equal\")\n",
    "plt.tight_layout()\n",
    "plt.show()"
   ]
  },
  {
   "cell_type": "markdown",
   "id": "5498baed",
   "metadata": {},
   "source": [
    "Пользователям, которые совершают менее 20% покупок по акции можно чаще предоставлять скидки. Но таких пользователей меньшенство, около 10%, что не приведёт к значительному повышени. удержания клиентов."
   ]
  },
  {
   "cell_type": "markdown",
   "id": "f667f17b",
   "metadata": {},
   "source": [
    "Проверим количество ошибок сервиса, с которыми сталкиваются премиальные пользователи."
   ]
  },
  {
   "cell_type": "code",
   "execution_count": null,
   "id": "cb050775",
   "metadata": {
    "trusted": false
   },
   "outputs": [],
   "source": [
    "def categorize_service_errors(errors_count):\n",
    "    if errors_count == 0:\n",
    "        return \"Без ошибок\"\n",
    "    elif errors_count <= 2:\n",
    "        return \"1-2 ошибки\"\n",
    "    elif errors_count <= 5:\n",
    "        return \"3-5 ошибок\"\n",
    "    else:\n",
    "        return \"6+ ошибок\"\n",
    "\n",
    "premium[\"service_error_category\"] = premium[\"ошибка_сервиса\"].apply(categorize_service_errors)\n",
    "error_categories = premium[\"service_error_category\"].value_counts().sort_index()\n",
    "\n",
    "plt.figure(figsize = (12, 9))\n",
    "\n",
    "colors = [\"#2E8B57\", \"#FFD700\", \"#FF6347\", \"#DC143C\"]\n",
    "\n",
    "plt.pie(error_categories.values,\n",
    "        labels = [f\"{cat}\\\\n({count} чел., {count/len(premium)*100:.1f}%)\"\n",
    "                for cat, count in error_categories.items()],\n",
    "        colors = colors,\n",
    "        autopct = \"%1.1f%%\",\n",
    "        startangle = 90,\n",
    "        shadow = True,\n",
    "        textprops = {\"fontsize\": 11, \"fontweight\": \"bold\"})\n",
    "\n",
    "plt.title(\"Распределение ошибок сервиса в приоритетном сегменте\\n(Высокая прибыль + Высокая необходимость удержания)\",\n",
    "          fontsize = 14, fontweight = \"bold\", pad = 20)\n",
    "\n",
    "stats_text = f\"Среднее количество ошибок: {premium['ошибка_сервиса'].mean():.2f}\\n\" \\\n",
    "             f\"Медиана: {premium['ошибка_сервиса'].median():.0f}\\n\" \\\n",
    "             f\"Максимум: {premium['ошибка_сервиса'].max()}\\n\" \\\n",
    "             f\"Всего пользователей: {len(premium)}\"\n",
    "\n",
    "plt.text(-1.8, -1.3, stats_text,\n",
    "         fontsize = 10, bbox = dict(boxstyle = \"round,pad=0.5\", facecolor = \"lightblue\", alpha = 0.8))\n",
    "\n",
    "plt.axis(\"equal\")\n",
    "plt.tight_layout()\n",
    "plt.show()"
   ]
  },
  {
   "cell_type": "markdown",
   "id": "0db750d1",
   "metadata": {},
   "source": [
    "Для премиальных пользователей количество ошибок не сильно отличается от общего распределения для всех клиентов. Вряд ли можно как-то повлиять на их удержание исходя из этого показателя."
   ]
  },
  {
   "cell_type": "markdown",
   "id": "57604b71",
   "metadata": {},
   "source": [
    "Рассмотрим распределение премиальных пользователей по типам сервиса."
   ]
  },
  {
   "cell_type": "code",
   "execution_count": null,
   "id": "7a16a518",
   "metadata": {
    "trusted": false
   },
   "outputs": [],
   "source": [
    "service_type_counts = premium[\"тип_сервиса\"].value_counts()\n",
    "\n",
    "plt.figure(figsize = (10, 8))\n",
    "\n",
    "colors = [\"#FFD700\", \"#C0C0C0\"]\n",
    "\n",
    "plt.pie(service_type_counts.values,\n",
    "        labels = [f\"{service_type}\\n({count} чел., {count/len(premium)*100:.1f}%)\"\n",
    "                for service_type, count in service_type_counts.items()],\n",
    "        colors = colors,\n",
    "        autopct = \"%1.1f%%\",\n",
    "        startangle = 90,\n",
    "        explode = (0.1, 0),\n",
    "        shadow = True,\n",
    "        textprops = {\"fontsize\": 12, \"fontweight\": \"bold\"})\n",
    "\n",
    "plt.title(\"Распределение типов сервиса в приоритетном сегменте\\n(Высокая прибыль + Высокая необходимость удержания)\",\n",
    "          fontsize = 14, fontweight = \"bold\", pad = 20)\n",
    "\n",
    "plt.axis(\"equal\")\n",
    "plt.tight_layout()\n",
    "plt.show()"
   ]
  },
  {
   "cell_type": "markdown",
   "id": "1c5ad5ad",
   "metadata": {},
   "source": [
    "Среди премиальных клиентов схожее с общим распределение покупки подписок. Только треть пользуется подпиской на сервис. **Можно продумать специальное предложение подписки на сервис премиальным клиентам для повышения их удержания**, т.к. такой шаг будет актуален для большинства премиальных клиентов в силу отсутствия у них подписки."
   ]
  },
  {
   "cell_type": "markdown",
   "id": "dc9fcc08",
   "metadata": {},
   "source": [
    "Проанализируем популярные среди премиальных пользователей категории и среднюю прибыльность для бизнеса каждой из них."
   ]
  },
  {
   "cell_type": "code",
   "execution_count": null,
   "id": "c44cca54",
   "metadata": {
    "trusted": false
   },
   "outputs": [],
   "source": [
    "\n",
    "\n",
    "def plot_category_pie_with_profit_gradient(\n",
    "    df: pd.DataFrame,\n",
    "    category_col: str = \"популярная_категория\",\n",
    "    profit_col: str = \"масштабированная_прибыль\",\n",
    "    top_n: int = 8,\n",
    "    title: str = \"Популярные категории товаров в приоритетном сегменте\\n(Высокая прибыль + Высокая необходимость удержания)\",\n",
    "    yellow_hex: str = \"#F7DC6F\",\n",
    "    green_hex: str = \"#2ECC71\",\n",
    "    others_label: str = \"Другие\",\n",
    "    others_color: str = \"#B0BEC5\",\n",
    "    explode_value: float = 0.05\n",
    "):\n",
    "    category_counts = df[category_col].value_counts()\n",
    "    top_categories = category_counts.head(top_n)\n",
    "    other_count = int(category_counts.iloc[top_n:].sum())\n",
    "    has_others = other_count > 0\n",
    "\n",
    "    if has_others:\n",
    "        top_categories[others_label] = other_count\n",
    "\n",
    "    profit_by_cat = (\n",
    "        df[[category_col, profit_col]]\n",
    "        .groupby(category_col)[profit_col]\n",
    "        .mean()\n",
    "    )\n",
    "    real_top_cats = [c for c in top_categories.index if c != others_label]\n",
    "    real_means = profit_by_cat.reindex(real_top_cats)\n",
    "    vmin = float(np.nanmin(real_means.values)) if len(real_means) else 0.0\n",
    "    vmax = float(np.nanmax(real_means.values)) if len(real_means) else 1.0\n",
    "\n",
    "    if np.isclose(vmin, vmax):\n",
    "        vmin -= 0.5\n",
    "        vmax += 0.5\n",
    "\n",
    "    norm = Normalize(vmin = vmin, vmax = vmax)\n",
    "    cmap = LinearSegmentedColormap.from_list(\"profit_cmap\", [yellow_hex, green_hex])\n",
    "\n",
    "    colors = []\n",
    "    for cat in top_categories.index:\n",
    "        if cat == others_label:\n",
    "            colors.append(others_color)\n",
    "        else:\n",
    "            mean_profit = profit_by_cat.get(cat, np.nan)\n",
    "            colors.append(cmap(norm(mean_profit)))\n",
    "\n",
    "    total = len(df)\n",
    "    labels = []\n",
    "    \n",
    "    for cat, count in top_categories.items():\n",
    "        pct = 100 * count / total if total > 0 else 0\n",
    "        if cat == others_label:\n",
    "            labels.append(f\"{cat}\\n({count} чел., {pct:.1f}%)\")\n",
    "        else:\n",
    "            mean_profit = profit_by_cat.get(cat, np.nan)\n",
    "            profit_txt = \"н/д\" if pd.isna(mean_profit) else f\"{mean_profit:,.2f}\".replace(\",\", \" \")\n",
    "            labels.append(f\"{cat}\\n({count} чел, {pct:.1f}% | ср. прибыль: {profit_txt})\")\n",
    "\n",
    "    explode = [explode_value] * len(top_categories)\n",
    "\n",
    "    fig, ax = plt.subplots(figsize=(18, 10))\n",
    "    wedges, texts, autotexts = ax.pie(\n",
    "        top_categories.values,\n",
    "        labels = labels,\n",
    "        colors = colors,\n",
    "        autopct = \"%1.1f%%\",\n",
    "        startangle = 90,\n",
    "        explode = explode,\n",
    "        shadow = True,\n",
    "        textprops = {\"fontsize\": 10, \"fontweight\": \"bold\"},\n",
    "        wedgeprops = dict(linewidth = 1, edgecolor = \"white\")\n",
    "    )\n",
    "    ax.set_title(title, fontsize = 14, fontweight = \"bold\", pad = 20)\n",
    "    ax.axis(\"equal\")\n",
    "\n",
    "    sm = ScalarMappable(norm = norm, cmap = cmap)\n",
    "    sm.set_array([])\n",
    "    cbar = plt.colorbar(sm, ax = ax, fraction = 0.046, pad = 0.04)\n",
    "    cbar.set_label(\"Среднее значение на пользователя (по категории) в у.е.\", fontsize = 11)\n",
    "\n",
    "    plt.show()"
   ]
  },
  {
   "cell_type": "code",
   "execution_count": null,
   "id": "435875d7",
   "metadata": {
    "trusted": false
   },
   "outputs": [],
   "source": [
    "plot_category_pie_with_profit_gradient(\n",
    "    df = premium,\n",
    "    category_col = \"популярная_категория\",\n",
    "    profit_col = \"масштабированная_прибыль\",\n",
    "    top_n = 8\n",
    ")"
   ]
  },
  {
   "cell_type": "markdown",
   "id": "98a5b793",
   "metadata": {},
   "source": [
    "Схожие со всеми остальными пользователями значения популярности категорий товаров. Заметно, какие категории товаров в премиальном сегменте пользователей приносят наибольшую прибыльность компании:\n",
    "1) Косметика и аксессуары\n",
    "2) Товары для детей и дома\n",
    "3) Техника для красоты и здоровья"
   ]
  },
  {
   "cell_type": "markdown",
   "id": "9089bc2a",
   "metadata": {},
   "source": [
    "Далее рассмотрим на динамику выручки в разных категориях товаров от премиальных пользователей по последним месяцам."
   ]
  },
  {
   "cell_type": "code",
   "execution_count": null,
   "id": "f2d180ad",
   "metadata": {
    "trusted": false
   },
   "outputs": [],
   "source": [
    "plot_category_pie_with_profit_gradient(\n",
    "    df = premium,\n",
    "    category_col = \"популярная_категория\",\n",
    "    profit_col = \"препредыдущий_месяц_выручка\",\n",
    "    top_n = 8,\n",
    "    title = \"Популярные категории товаров в приоритетном сегменте с выручкой за препредыдущий месяц\\n(Высокая прибыль + Высокая необходимость удержания)\"\n",
    ")"
   ]
  },
  {
   "cell_type": "code",
   "execution_count": null,
   "id": "5c304310",
   "metadata": {
    "trusted": false
   },
   "outputs": [],
   "source": [
    "premium.info()"
   ]
  },
  {
   "cell_type": "code",
   "execution_count": null,
   "id": "df9a3d10",
   "metadata": {
    "trusted": false
   },
   "outputs": [],
   "source": [
    "plot_category_pie_with_profit_gradient(\n",
    "    df = premium,\n",
    "    category_col = \"популярная_категория\",\n",
    "    profit_col = \"предыдущий_месяц_выручка\",\n",
    "    top_n = 8,\n",
    "    title = \"Популярные категории товаров в приоритетном сегменте с выручкой за предыдущий месяц\\n(Высокая прибыль + Высокая необходимость удержания)\"\n",
    ")"
   ]
  },
  {
   "cell_type": "code",
   "execution_count": null,
   "id": "fd50cc4b",
   "metadata": {
    "trusted": false
   },
   "outputs": [],
   "source": [
    "plot_category_pie_with_profit_gradient(\n",
    "    df = premium,\n",
    "    category_col = \"популярная_категория\",\n",
    "    profit_col = \"текущий_месяц_выручка\",\n",
    "    top_n = 8,\n",
    "    title = \"Популярные категории товаров в приоритетном сегменте с выручкой за текущий месяц\\n(Высокая прибыль + Высокая необходимость удержания)\"\n",
    ")"
   ]
  },
  {
   "cell_type": "markdown",
   "id": "ac1f11ad",
   "metadata": {},
   "source": [
    "- Стабильно высокая выручка от премиальных пользователей в сегментах кухонной посуды и косметики и аксессуаров\n",
    "- За последние два месяца упала выручка в сегментах техники для красоты и здоровья, товаров для детей\n",
    "- За последние 2 месяца повысилась выручка в сегментах мелкой бытовой техники и электроники, домашнего текстиля"
   ]
  },
  {
   "cell_type": "markdown",
   "id": "261fc86b",
   "metadata": {},
   "source": [
    "\n",
    "<div class=\"alert alert-warning\">\n",
    "<h2> Комментарий ревьюера <a class=\"tocSkip\"> </h2>\n",
    "    \n",
    "<b>Некоторые замечания и рекомендации💡:</b> \n",
    "\n",
    "Сейчас смотришь категории по всем периодам. Хорошо бы посмотреть разницу в выручке между периодами для разных категорий. Так увидим, в какой категории динамика выручки положительная, а где - отрицательная. Это очень важная для нас информация, нужно исправлять отрицательную динамику.\n",
    "       \n",
    "</div> \t\n"
   ]
  },
  {
   "cell_type": "markdown",
   "id": "e6fe83f8",
   "metadata": {},
   "source": [
    "<br/>\n",
    "<div class=\"alert alert-info\">\n",
    "Добавил визуализации прибыльности и выручки на график распределения сегментов и сделал выводы о динамике и прибыльности сегментов\n",
    "</div>"
   ]
  },
  {
   "cell_type": "markdown",
   "id": "b8607192",
   "metadata": {},
   "source": [
    "Проанализируем частоту маркетинговых активностей для премиальных пользователей за последние 6 месяцев."
   ]
  },
  {
   "cell_type": "code",
   "execution_count": null,
   "id": "b5132857",
   "metadata": {
    "trusted": false
   },
   "outputs": [],
   "source": [
    "def categorize_marketing_activity(activity_level):\n",
    "    if activity_level <= 2:\n",
    "        return \"Низкая активность (0-2)\"\n",
    "    elif activity_level <= 4:\n",
    "        return \"Средняя активность (3-4)\"\n",
    "    elif activity_level <= 6:\n",
    "        return \"Высокая активность (5-6)\"\n",
    "    else:\n",
    "        return \"Очень высокая активность (7+)\"\n",
    "\n",
    "premium[\"marketing_category\"] = premium[\"маркет_актив_6_мес\"].apply(categorize_marketing_activity)\n",
    "marketing_categories = premium[\"marketing_category\"].value_counts().sort_index()\n",
    "\n",
    "\n",
    "plt.figure(figsize = (12, 9))\n",
    "\n",
    "colors = [\"#E3F2FD\", \"#2196F3\", \"#0D47A1\", \"#001B5E\"]\n",
    "\n",
    "plt.pie(marketing_categories.values,\n",
    "        labels = [f\"{cat}\\n({count} чел., {count/len(premium)*100:.1f}%)\"\n",
    "                for cat, count in marketing_categories.items()],\n",
    "        colors = colors,\n",
    "        autopct = \"%1.1f%%\",\n",
    "        startangle = 90,\n",
    "        explode = (0.05, 0.05, 0.05, 0.05),\n",
    "        shadow = True,\n",
    "        textprops = {\"fontsize\": 11, \"fontweight\": \"bold\"})\n",
    "\n",
    "plt.title(\"Уровень маркетинговой активности в приоритетном сегменте\\n(Высокая прибыль + Высокая необходимость удержания)\",\n",
    "          fontsize = 14, fontweight = \"bold\", pad = 20)\n",
    "\n",
    "avg_activity = premium[\"маркет_актив_6_мес\"].mean()\n",
    "median_activity = premium[\"маркет_актив_6_мес\"].median()\n",
    "max_activity = premium[\"маркет_актив_6_мес\"].max()\n",
    "\n",
    "stats_text = f\"Средняя активность: {avg_activity:.2f}\\n\" \\\n",
    "             f\"Медиана: {median_activity:.1f}\\n\" \\\n",
    "             f\"Максимум: {max_activity:.1f}\\n\" \\\n",
    "             f\"Всего пользователей: {len(premium)}\"\n",
    "\n",
    "plt.text(-1.8, -1.3, stats_text,\n",
    "         fontsize = 10, bbox = dict(boxstyle = \"round,pad=0.5\", facecolor = \"lightblue\", alpha = 0.8))\n",
    "\n",
    "plt.axis(\"equal\")\n",
    "plt.tight_layout()\n",
    "plt.show()"
   ]
  },
  {
   "cell_type": "markdown",
   "id": "9aefc1c6",
   "metadata": {},
   "source": [
    "Для большинства пользователей из премиальной категории с высокой вероятноситью снижения активности за последние 6 месяцев наблюдалась высокая либо средняя маркетинговая активность. Вероятно, пользователям надоедает излишне назойливая реклама. Есть смысл подумать об изменениях маркетиинговой статегии для премиальных пользователей."
   ]
  },
  {
   "cell_type": "code",
   "execution_count": null,
   "id": "eb323ea2",
   "metadata": {
    "trusted": false
   },
   "outputs": [],
   "source": [
    "col = \"неоплаченные_продукты_штук_квартал\"\n",
    "x = pd.to_numeric(premium[col], errors=\"coerce\").copy()\n",
    "x = x.clip(lower = 0)\n",
    "\n",
    "def categorize_unpurchased(n):\n",
    "    if n == 0:\n",
    "        return \"0\"\n",
    "    elif n <= 2:\n",
    "        return \"1–2\"\n",
    "    elif n <= 5:\n",
    "        return \"3–5\"\n",
    "    elif n <= 10:\n",
    "        return \"6–10\"\n",
    "    else:\n",
    "        return \"11+\"\n",
    "\n",
    "premium[\"unpaid_category\"] = x.apply(categorize_unpurchased)\n",
    "\n",
    "order = [\"0\", \"1–2\", \"3–5\", \"6–10\", \"11+\"]\n",
    "counts = premium[\"unpaid_category\"].value_counts().reindex(order, fill_value=0)\n",
    "\n",
    "avg = x.mean()\n",
    "median = x.median()\n",
    "p90 = x.quantile(0.90)\n",
    "maxv = x.max()\n",
    "n_total = len(x)\n",
    "n_na = premium[col].isna().sum()\n",
    "\n",
    "plt.figure(figsize = (12, 9))\n",
    "\n",
    "colors = [\"#E3F2FD\", \"#90CAF9\", \"#42A5F5\", \"#1E88E5\", \"#0D47A1\"]\n",
    "labels = [\n",
    "    f\"{cat}\\n({cnt} чел., {cnt/len(premium)*100:.1f}%)\"\n",
    "    for cat, cnt in counts.items()\n",
    "]\n",
    "\n",
    "plt.pie(\n",
    "    counts.values,\n",
    "    labels = labels,\n",
    "    colors = colors,\n",
    "    autopct = \"%1.1f%%\",\n",
    "    startangle = 90,\n",
    "    explode = (0.05, 0.05, 0.05, 0.05, 0.05),\n",
    "    shadow = True,\n",
    "    textprops = {\"fontsize\": 11, \"fontweight\": \"bold\"}\n",
    ")\n",
    "\n",
    "plt.title(\n",
    "    \"Невыкупленные товары из корзины за квартал\\n(распределение по числу позиций, шт.)\",\n",
    "    fontsize = 14, fontweight = \"bold\", pad = 20\n",
    ")\n",
    "\n",
    "stats_text = (\n",
    "    f\"Среднее: {avg:.2f}\\n\"\n",
    "    f\"Медиана: {median:.1f}\\n\"\n",
    "    f\"90-й перцентиль: {p90:.1f}\\n\"\n",
    "    f\"Максимум: {maxv:.0f}\\n\"\n",
    "    f\"Всего наблюдений: {n_total}\\n\"\n",
    "    f\"Пустых значений: {n_na}\"\n",
    ")\n",
    "\n",
    "plt.text(\n",
    "    -1.9, -1.35, stats_text,\n",
    "    fontsize=10,\n",
    "    bbox = dict(boxstyle = \"round,pad=0.5\", facecolor = \"lightblue\", alpha = 0.8)\n",
    ")\n",
    "\n",
    "plt.axis(\"equal\")\n",
    "plt.tight_layout()\n",
    "plt.show()\n"
   ]
  },
  {
   "cell_type": "markdown",
   "id": "f2f086a8",
   "metadata": {},
   "source": [
    "У большинства премиальных пользователей много невыкупленных товаров в карзине за последние месяцы. Вероятно, стоит продумать методы напоминаний и поощрений покупки невыкупленных товаров."
   ]
  },
  {
   "cell_type": "markdown",
   "id": "bfad7482",
   "metadata": {},
   "source": [
    "## Итоговые выводы"
   ]
  },
  {
   "cell_type": "markdown",
   "id": "38c40a52",
   "metadata": {},
   "source": [
    "### Задача"
   ]
  },
  {
   "cell_type": "markdown",
   "id": "6b0cce33",
   "metadata": {},
   "source": [
    "Была поставлена **задача** построения модели для **предсказания покупательской активности** клиентов и выяснения **способов их удержания**."
   ]
  },
  {
   "cell_type": "markdown",
   "id": "7c7e7494",
   "metadata": {},
   "source": [
    "### Подготовка данных"
   ]
  },
  {
   "cell_type": "markdown",
   "id": "aef1f93d",
   "metadata": {},
   "source": [
    "Были получены и подготовлены 4 файла с данными:\n",
    "- унификация называний признаков\n",
    "- фильтрация дубликатов\n",
    "- преобразования типов данных\n",
    "- обработаны пропуски\n",
    "- исправлены описки\n",
    "- расспотрена описательная статистика\n",
    "- построены графики частот для количественных и качественных признаков\n",
    "- обхеденены наборы данных из 4 файлов"
   ]
  },
  {
   "cell_type": "markdown",
   "id": "e8562e9c",
   "metadata": {},
   "source": [
    "### Поиск модели"
   ]
  },
  {
   "cell_type": "markdown",
   "id": "22975f34",
   "metadata": {},
   "source": [
    "Для поиска модели были **опробованы 4 алгоритма** классификации **с разными наборами** целесообразных **гиперпараметров** случайным образом."
   ]
  },
  {
   "cell_type": "markdown",
   "id": "e530fa7d",
   "metadata": {},
   "source": [
    "### Лучшая модель классификации"
   ]
  },
  {
   "cell_type": "markdown",
   "id": "d1a57d92",
   "metadata": {},
   "source": [
    "В качестве **лучшей модели предсказания активности** клиента была получена модель **ближайших соседей с точностью** ROC AUC близкой к **идеальной**."
   ]
  },
  {
   "cell_type": "markdown",
   "id": "7a1cc2d9",
   "metadata": {},
   "source": [
    "### **Идеи удержания клиентов**"
   ]
  },
  {
   "cell_type": "markdown",
   "id": "9b1c0562",
   "metadata": {},
   "source": [
    "В качестве основного для бизнеса был выделен **\"премиальный\" сегмент клиентов** с относительно высокой прибылью для бизнеса (~ 19% от всех пользователей), **теряющих интерес** к сервису.\n",
    "\n",
    "**Замечания для маркетологов**:\n",
    "\n",
    "Динамика выручки:\n",
    "- Стабильно высокая выручка от премиальных пользователей в сегментах кухонной посуды и косметики и аксессуаров\n",
    "- За последние два месяца упала выручка в сегментах техники для красоты и здоровья, товаров для детей\n",
    "- За последние 2 месяца повысилась выручка в сегментах мелкой бытовой техники и электроники, домашнего текстиля\n",
    "\n",
    "Категории товаров в премиальном сегменте пользователей приносящие наибольшую прибыль компании:\n",
    "1) Косметика и аксессуары\n",
    "2) Товары для детей и дома\n",
    "3) Техника для красоты и здоровья\n",
    "\n",
    "**Рекомендации**:\n",
    "- **Можно продумать специальное предложение подписки на сервис премиальным клиентам для повышения их удержания**, т.к. такой шаг будет актуален для большинства премиальных клиентов в силу отсутствия у них подписки.\n",
    "- Предоставить **временную повышенную скидку** на все товары **для пользователей**, которые **покупают меньше 20% товаров со скидкой** с целью **возвращения их интереса к сервису**\n",
    "- Возможно, стоит реже показывать премиальным пользователям маркетинговые сообщения т.к. они им надоедают. Стоит провести дополнительное исследование этой гипотезы.\n",
    "- Стоит продумать методы напоминаний и поощрений покупки невыкупленных товаров.\n",
    "- Детальнее продумать маркетинговую стратегию для \"премиального\" сегмента пользователей"
   ]
  },
  {
   "cell_type": "markdown",
   "id": "fa896b49",
   "metadata": {},
   "source": [
    "<div class=\"alert alert-block alert-danger\">\n",
    "<h2> Комментарий ревьюера <a class=\"tocSkip\"></h2>\n",
    "  \n",
    "<b>На доработку🤔:</b>\n",
    "    \n",
    "Нужно будет провести анализ данных, выбрать сегмент, уточниться по анализу сегмента.\n",
    "    \n",
    "А зачем нам делать скидку тем клиентам, вероятность снижения активности которых и так низкая?\n",
    "    \n",
    "Второй пункт рекомендаций нужно развернуть - уточнить аргументацию. Какая проблема сейчас с премиальным сегментом? \n",
    "    \n",
    "***\n",
    "    \n",
    "Например, если бы мы выбрали сегментом для анализа клиентов с высокой долей акционных покупок и высоким риском снижения активности, наш анализ мог бы выглядеть так:\n",
    "    \n",
    "Мы видим, что у нас есть группа клиентов, которая практически все покупала только по акции. Выше я описал, что еси бы доступ к акциям был равный, то и распределение доли акционных покупок было близкое к нормальному, но точно не бимодальным, как мы наблюдаем. Следовательно, у нас есть группа, которую привлекли специальными акциями на определенные товары.\n",
    "    \n",
    "Это может объяснять, почему «акционщики» просматривают сильно меньше страниц и проводят меньше времени на сайте − они приходят за конкретными товарами и не сильно заинтересованы в исследовании остального ассортимента.\n",
    "    \n",
    "Можно предположить, что в какой-то момент акции для этой группы закончились. Это объясняет, почему клиенты со сниженной активностью имеют много неоплаченных товаров в корзине (цена изменилась, покупка отложилась).\n",
    "    \n",
    "Тогда можно посмотреть: а какова выручка у таких клиентов? Выгодно ли нам продлевать акции. Видим, что еще как выгодно. Тогда логично будет уточнить, а какие категории товаров популярны у нашего сегмента.\n",
    "    \n",
    "Для этого мы можем посмотреть суммарную выручку с группировкой по категориям товаров и с разбивкой по периодам (будут три периода). Можно реализовать это с помощью сводных таблиц и визуализировать. \n",
    "    \n",
    "Для каждого из популярных товаров мы увидим динамику для нашего сегмента. Увидим, какие товары были популярны и снизили популярность. Если это товары длительного потребления (для примера - фены или утюги), то вряд ли клиентам будет нужно снова покупать ровно эти товары, тогда логично предложить им акции на что-то смежное.\n",
    "    \n",
    "Дополнительно важно проанализировать потенциально влияющие на отток признаки, которые у нас есть:\n",
    "    \n",
    "* количество ошибок на сайте - различается ли оно у активных и снижающих активность клиентов? Есть ли какие-то аномалии именно для нашего сегмента?\n",
    "    \n",
    "* премиум подписка - влияет ли на активность, а должна ли влиять? Если нет, то возомжно это потенциально полезный инструмент удержания, который почему-то пока не работает. \n",
    "</div>\n",
    "\n",
    "\n"
   ]
  },
  {
   "cell_type": "markdown",
   "id": "13263a71",
   "metadata": {},
   "source": [
    "<br/>\n",
    "<div class=\"alert alert-info\">\n",
    "Переписал выводы на основании более детального анализа премиального сегмента пользователей после использвания валидной модели оценки активности \n",
    "</div>"
   ]
  },
  {
   "cell_type": "markdown",
   "id": "74a5d3a1",
   "metadata": {},
   "source": [
    "<div style=\"border:solid Chocolate 2px; padding: 40px\">\n",
    "\n",
    "**Общий вывод по проекту**\n",
    "    \n",
    "Спасибо за твой проект! Эта работа также была достаточно объемной и требовала концентрации внимания. По структуре проекта, логичности действий и общему подходу все замечательно.\n",
    "    \n",
    "**Отмечу положительные моменты проекта🚀**\n",
    "    \n",
    "* Хорошие решения в коде, есть пояснения и аргументации.\n",
    "* Корректное обучение моделей, использование пайплайнов.\n",
    "\n",
    "    \n",
    "**На что стоит обратить внимание🤔**\n",
    "    \n",
    "* Важно уточниться по неактивным клиентам.\n",
    "* Нужно поправить по объединению таблиц. В результирующей таблице должно быть 1296 строк. Все id в строках должны быть уникальными, важно избежать дублирований.\n",
    "* Важно в исследовательском анализе рассмотреть отдельно подвыборки для клиентов со снижающейся и с постоянной активностью (делим по целевому признаку).\n",
    "* Не стоит удалять признаки из периодов. Эти признаки нужны. При корреляции до 0.9 можно оставить оба признака.\n",
    "* Нужно поправить по анализу shap.\n",
    "* Необходимо определить сегмент для анализа по результатам модели - вероятностям классов.\n",
    "* Рекомендую также углубить и исследование сегмента: там, где можем, смотрим на динамику в категориях товаров. Я бы посмотрел на данные в разрезе акции. Думаю, как минимум, это подтвердит наши выводы, ну и возможно как-то их уточнит.\n",
    "* Эти и остальные замечания я также написал по ходу проекта.    \n",
    "\n",
    "**Желаю удачи и жду твой проект на повторное ревью!**😉\n",
    "    \n",
    "    \n",
    "</div>\n"
   ]
  },
  {
   "cell_type": "markdown",
   "id": "ff162918",
   "metadata": {},
   "source": [
    "<div style=\"border:solid Chocolate 2px; padding: 40px\">\n",
    "\n",
    "**Комментарий ко второй проверке**\n",
    "\n",
    "Спасибо за качественную доработку. Практически все верно. Однако еще кое-что осталось.\n",
    "\n",
    "Важно поправить по загрузке датасетов. Также оставл несколько «желтых» комментариев-рекомендаций.\n",
    "\n",
    "**Желаю удачи и жду твой проект на повторное ревью!**😉\n",
    "</div>\n"
   ]
  },
  {
   "cell_type": "markdown",
   "id": "dddb27b9",
   "metadata": {},
   "source": [
    "<div style=\"border:solid Chocolate 2px; padding: 40px\">\n",
    "\n",
    "**Комментарий к третьей проверке**\n",
    "\n",
    "* Нужно поправить по выводу датасетов в начале проекта. \n",
    "* Важно реализовать корректный способ расчета важности признаков и визуализировать его на графике. Используй любой удобный и известные тебе способ.\n",
    "    \n",
    "**Желаю удачи и жду твой проект на повторное ревью!**😉\n",
    "</div>\n"
   ]
  }
 ],
 "metadata": {
  "ExecuteTimeLog": [
   {
    "duration": 2341,
    "start_time": "2025-09-12T15:38:29.609Z"
   },
   {
    "duration": 2,
    "start_time": "2025-09-12T15:38:31.953Z"
   },
   {
    "duration": 242,
    "start_time": "2025-09-12T15:38:31.957Z"
   },
   {
    "duration": 0,
    "start_time": "2025-09-12T15:38:32.205Z"
   },
   {
    "duration": 0,
    "start_time": "2025-09-12T15:38:32.207Z"
   },
   {
    "duration": 0,
    "start_time": "2025-09-12T15:38:32.208Z"
   },
   {
    "duration": 0,
    "start_time": "2025-09-12T15:38:32.212Z"
   },
   {
    "duration": 0,
    "start_time": "2025-09-12T15:38:32.213Z"
   },
   {
    "duration": 0,
    "start_time": "2025-09-12T15:38:32.215Z"
   },
   {
    "duration": 0,
    "start_time": "2025-09-12T15:38:32.216Z"
   },
   {
    "duration": 1,
    "start_time": "2025-09-12T15:38:32.218Z"
   },
   {
    "duration": 0,
    "start_time": "2025-09-12T15:38:32.220Z"
   },
   {
    "duration": 0,
    "start_time": "2025-09-12T15:38:32.222Z"
   },
   {
    "duration": 0,
    "start_time": "2025-09-12T15:38:32.223Z"
   },
   {
    "duration": 0,
    "start_time": "2025-09-12T15:38:32.226Z"
   },
   {
    "duration": 0,
    "start_time": "2025-09-12T15:38:32.228Z"
   },
   {
    "duration": 0,
    "start_time": "2025-09-12T15:38:32.230Z"
   },
   {
    "duration": 0,
    "start_time": "2025-09-12T15:38:32.231Z"
   },
   {
    "duration": 0,
    "start_time": "2025-09-12T15:38:32.233Z"
   },
   {
    "duration": 0,
    "start_time": "2025-09-12T15:38:32.234Z"
   },
   {
    "duration": 0,
    "start_time": "2025-09-12T15:38:32.235Z"
   },
   {
    "duration": 0,
    "start_time": "2025-09-12T15:38:32.236Z"
   },
   {
    "duration": 0,
    "start_time": "2025-09-12T15:38:32.237Z"
   },
   {
    "duration": 0,
    "start_time": "2025-09-12T15:38:32.238Z"
   },
   {
    "duration": 1,
    "start_time": "2025-09-12T15:38:32.239Z"
   },
   {
    "duration": 0,
    "start_time": "2025-09-12T15:38:32.241Z"
   },
   {
    "duration": 0,
    "start_time": "2025-09-12T15:38:32.242Z"
   },
   {
    "duration": 0,
    "start_time": "2025-09-12T15:38:32.243Z"
   },
   {
    "duration": 0,
    "start_time": "2025-09-12T15:38:32.244Z"
   },
   {
    "duration": 0,
    "start_time": "2025-09-12T15:38:32.304Z"
   },
   {
    "duration": 0,
    "start_time": "2025-09-12T15:38:32.307Z"
   },
   {
    "duration": 0,
    "start_time": "2025-09-12T15:38:32.309Z"
   },
   {
    "duration": 0,
    "start_time": "2025-09-12T15:38:32.311Z"
   },
   {
    "duration": 0,
    "start_time": "2025-09-12T15:38:32.312Z"
   },
   {
    "duration": 0,
    "start_time": "2025-09-12T15:38:32.313Z"
   },
   {
    "duration": 0,
    "start_time": "2025-09-12T15:38:32.314Z"
   },
   {
    "duration": 0,
    "start_time": "2025-09-12T15:38:32.314Z"
   },
   {
    "duration": 0,
    "start_time": "2025-09-12T15:38:32.315Z"
   },
   {
    "duration": 0,
    "start_time": "2025-09-12T15:38:32.317Z"
   },
   {
    "duration": 0,
    "start_time": "2025-09-12T15:38:32.317Z"
   },
   {
    "duration": 0,
    "start_time": "2025-09-12T15:38:32.318Z"
   },
   {
    "duration": 0,
    "start_time": "2025-09-12T15:38:32.322Z"
   },
   {
    "duration": 0,
    "start_time": "2025-09-12T15:38:32.323Z"
   },
   {
    "duration": 0,
    "start_time": "2025-09-12T15:38:32.325Z"
   },
   {
    "duration": 0,
    "start_time": "2025-09-12T15:38:32.326Z"
   },
   {
    "duration": 0,
    "start_time": "2025-09-12T15:38:32.328Z"
   },
   {
    "duration": 0,
    "start_time": "2025-09-12T15:38:32.329Z"
   },
   {
    "duration": 0,
    "start_time": "2025-09-12T15:38:32.330Z"
   },
   {
    "duration": 0,
    "start_time": "2025-09-12T15:38:32.331Z"
   },
   {
    "duration": 0,
    "start_time": "2025-09-12T15:38:32.332Z"
   },
   {
    "duration": 0,
    "start_time": "2025-09-12T15:38:32.333Z"
   },
   {
    "duration": 0,
    "start_time": "2025-09-12T15:38:32.334Z"
   },
   {
    "duration": 0,
    "start_time": "2025-09-12T15:38:32.335Z"
   },
   {
    "duration": 0,
    "start_time": "2025-09-12T15:38:32.336Z"
   },
   {
    "duration": 0,
    "start_time": "2025-09-12T15:38:32.338Z"
   },
   {
    "duration": 0,
    "start_time": "2025-09-12T15:38:32.339Z"
   },
   {
    "duration": 0,
    "start_time": "2025-09-12T15:38:32.340Z"
   },
   {
    "duration": 0,
    "start_time": "2025-09-12T15:38:32.341Z"
   },
   {
    "duration": 0,
    "start_time": "2025-09-12T15:38:32.342Z"
   },
   {
    "duration": 0,
    "start_time": "2025-09-12T15:38:32.344Z"
   },
   {
    "duration": 0,
    "start_time": "2025-09-12T15:38:32.345Z"
   },
   {
    "duration": 0,
    "start_time": "2025-09-12T15:38:32.346Z"
   },
   {
    "duration": 0,
    "start_time": "2025-09-12T15:38:32.406Z"
   },
   {
    "duration": 0,
    "start_time": "2025-09-12T15:38:32.407Z"
   },
   {
    "duration": 0,
    "start_time": "2025-09-12T15:38:32.408Z"
   },
   {
    "duration": 0,
    "start_time": "2025-09-12T15:38:32.409Z"
   },
   {
    "duration": 0,
    "start_time": "2025-09-12T15:38:32.410Z"
   },
   {
    "duration": 156,
    "start_time": "2025-09-12T15:43:08.883Z"
   },
   {
    "duration": 1383,
    "start_time": "2025-09-13T22:36:13.376Z"
   },
   {
    "duration": 0,
    "start_time": "2025-09-13T22:36:14.764Z"
   },
   {
    "duration": 0,
    "start_time": "2025-09-13T22:36:14.765Z"
   },
   {
    "duration": 0,
    "start_time": "2025-09-13T22:36:14.766Z"
   },
   {
    "duration": 0,
    "start_time": "2025-09-13T22:36:14.767Z"
   },
   {
    "duration": 0,
    "start_time": "2025-09-13T22:36:14.768Z"
   },
   {
    "duration": 0,
    "start_time": "2025-09-13T22:36:14.769Z"
   },
   {
    "duration": 0,
    "start_time": "2025-09-13T22:36:14.770Z"
   },
   {
    "duration": 0,
    "start_time": "2025-09-13T22:36:14.771Z"
   },
   {
    "duration": 0,
    "start_time": "2025-09-13T22:36:14.773Z"
   },
   {
    "duration": 0,
    "start_time": "2025-09-13T22:36:14.774Z"
   },
   {
    "duration": 0,
    "start_time": "2025-09-13T22:36:14.775Z"
   },
   {
    "duration": 0,
    "start_time": "2025-09-13T22:36:14.776Z"
   },
   {
    "duration": 0,
    "start_time": "2025-09-13T22:36:14.777Z"
   },
   {
    "duration": 0,
    "start_time": "2025-09-13T22:36:14.778Z"
   },
   {
    "duration": 0,
    "start_time": "2025-09-13T22:36:14.779Z"
   },
   {
    "duration": 0,
    "start_time": "2025-09-13T22:36:14.780Z"
   },
   {
    "duration": 0,
    "start_time": "2025-09-13T22:36:14.781Z"
   },
   {
    "duration": 0,
    "start_time": "2025-09-13T22:36:14.782Z"
   },
   {
    "duration": 0,
    "start_time": "2025-09-13T22:36:14.783Z"
   },
   {
    "duration": 0,
    "start_time": "2025-09-13T22:36:14.784Z"
   },
   {
    "duration": 0,
    "start_time": "2025-09-13T22:36:14.786Z"
   },
   {
    "duration": 0,
    "start_time": "2025-09-13T22:36:14.787Z"
   },
   {
    "duration": 0,
    "start_time": "2025-09-13T22:36:14.788Z"
   },
   {
    "duration": 0,
    "start_time": "2025-09-13T22:36:14.789Z"
   },
   {
    "duration": 0,
    "start_time": "2025-09-13T22:36:14.790Z"
   },
   {
    "duration": 0,
    "start_time": "2025-09-13T22:36:14.838Z"
   },
   {
    "duration": 0,
    "start_time": "2025-09-13T22:36:14.840Z"
   },
   {
    "duration": 0,
    "start_time": "2025-09-13T22:36:14.842Z"
   },
   {
    "duration": 0,
    "start_time": "2025-09-13T22:36:14.843Z"
   },
   {
    "duration": 0,
    "start_time": "2025-09-13T22:36:14.844Z"
   },
   {
    "duration": 0,
    "start_time": "2025-09-13T22:36:14.846Z"
   },
   {
    "duration": 0,
    "start_time": "2025-09-13T22:36:14.847Z"
   },
   {
    "duration": 0,
    "start_time": "2025-09-13T22:36:14.849Z"
   },
   {
    "duration": 0,
    "start_time": "2025-09-13T22:36:14.850Z"
   },
   {
    "duration": 0,
    "start_time": "2025-09-13T22:36:14.852Z"
   },
   {
    "duration": 0,
    "start_time": "2025-09-13T22:36:14.853Z"
   },
   {
    "duration": 0,
    "start_time": "2025-09-13T22:36:14.854Z"
   },
   {
    "duration": 0,
    "start_time": "2025-09-13T22:36:14.856Z"
   },
   {
    "duration": 0,
    "start_time": "2025-09-13T22:36:14.857Z"
   },
   {
    "duration": 0,
    "start_time": "2025-09-13T22:36:14.859Z"
   },
   {
    "duration": 0,
    "start_time": "2025-09-13T22:36:14.860Z"
   },
   {
    "duration": 0,
    "start_time": "2025-09-13T22:36:14.861Z"
   },
   {
    "duration": 0,
    "start_time": "2025-09-13T22:36:14.863Z"
   },
   {
    "duration": 0,
    "start_time": "2025-09-13T22:36:14.864Z"
   },
   {
    "duration": 0,
    "start_time": "2025-09-13T22:36:14.866Z"
   },
   {
    "duration": 0,
    "start_time": "2025-09-13T22:36:14.867Z"
   },
   {
    "duration": 0,
    "start_time": "2025-09-13T22:36:14.868Z"
   },
   {
    "duration": 0,
    "start_time": "2025-09-13T22:36:14.870Z"
   },
   {
    "duration": 0,
    "start_time": "2025-09-13T22:36:14.871Z"
   },
   {
    "duration": 0,
    "start_time": "2025-09-13T22:36:14.872Z"
   },
   {
    "duration": 0,
    "start_time": "2025-09-13T22:36:14.874Z"
   },
   {
    "duration": 0,
    "start_time": "2025-09-13T22:36:14.875Z"
   },
   {
    "duration": 0,
    "start_time": "2025-09-13T22:36:14.877Z"
   },
   {
    "duration": 0,
    "start_time": "2025-09-13T22:36:14.878Z"
   },
   {
    "duration": 0,
    "start_time": "2025-09-13T22:36:14.940Z"
   },
   {
    "duration": 0,
    "start_time": "2025-09-13T22:36:14.941Z"
   },
   {
    "duration": 1,
    "start_time": "2025-09-13T22:36:14.942Z"
   },
   {
    "duration": 0,
    "start_time": "2025-09-13T22:36:14.944Z"
   },
   {
    "duration": 0,
    "start_time": "2025-09-13T22:36:14.945Z"
   },
   {
    "duration": 0,
    "start_time": "2025-09-13T22:36:14.947Z"
   },
   {
    "duration": 0,
    "start_time": "2025-09-13T22:36:14.948Z"
   },
   {
    "duration": 0,
    "start_time": "2025-09-13T22:36:14.950Z"
   },
   {
    "duration": 0,
    "start_time": "2025-09-13T22:36:14.951Z"
   },
   {
    "duration": 0,
    "start_time": "2025-09-13T22:36:14.952Z"
   },
   {
    "duration": 0,
    "start_time": "2025-09-13T22:36:14.954Z"
   },
   {
    "duration": 0,
    "start_time": "2025-09-13T22:36:14.955Z"
   },
   {
    "duration": 0,
    "start_time": "2025-09-13T22:36:14.956Z"
   },
   {
    "duration": 0,
    "start_time": "2025-09-13T22:36:14.957Z"
   },
   {
    "duration": 0,
    "start_time": "2025-09-13T22:36:14.958Z"
   },
   {
    "duration": 0,
    "start_time": "2025-09-13T22:36:14.960Z"
   },
   {
    "duration": 0,
    "start_time": "2025-09-13T22:36:14.961Z"
   },
   {
    "duration": 0,
    "start_time": "2025-09-13T22:36:14.962Z"
   },
   {
    "duration": 0,
    "start_time": "2025-09-13T22:36:14.963Z"
   },
   {
    "duration": 0,
    "start_time": "2025-09-13T22:36:14.965Z"
   },
   {
    "duration": 0,
    "start_time": "2025-09-13T22:36:14.966Z"
   },
   {
    "duration": 0,
    "start_time": "2025-09-13T22:36:14.967Z"
   },
   {
    "duration": 0,
    "start_time": "2025-09-13T22:36:14.968Z"
   },
   {
    "duration": 0,
    "start_time": "2025-09-13T22:36:14.969Z"
   },
   {
    "duration": 0,
    "start_time": "2025-09-13T22:36:14.970Z"
   },
   {
    "duration": 0,
    "start_time": "2025-09-13T22:36:14.972Z"
   },
   {
    "duration": 0,
    "start_time": "2025-09-13T22:36:14.973Z"
   },
   {
    "duration": 0,
    "start_time": "2025-09-13T22:36:14.974Z"
   },
   {
    "duration": 0,
    "start_time": "2025-09-13T22:36:14.975Z"
   },
   {
    "duration": 0,
    "start_time": "2025-09-13T22:36:14.976Z"
   },
   {
    "duration": 0,
    "start_time": "2025-09-13T22:36:14.977Z"
   },
   {
    "duration": 0,
    "start_time": "2025-09-13T22:36:14.978Z"
   },
   {
    "duration": 0,
    "start_time": "2025-09-13T22:36:15.040Z"
   },
   {
    "duration": 0,
    "start_time": "2025-09-13T22:36:15.041Z"
   },
   {
    "duration": 3826,
    "start_time": "2025-09-13T22:37:48.338Z"
   },
   {
    "duration": 1966,
    "start_time": "2025-09-13T22:38:05.354Z"
   },
   {
    "duration": 0,
    "start_time": "2025-09-13T22:38:07.325Z"
   },
   {
    "duration": 0,
    "start_time": "2025-09-13T22:38:07.326Z"
   },
   {
    "duration": 0,
    "start_time": "2025-09-13T22:38:07.328Z"
   },
   {
    "duration": 0,
    "start_time": "2025-09-13T22:38:07.329Z"
   },
   {
    "duration": 0,
    "start_time": "2025-09-13T22:38:07.330Z"
   },
   {
    "duration": 0,
    "start_time": "2025-09-13T22:38:07.331Z"
   },
   {
    "duration": 0,
    "start_time": "2025-09-13T22:38:07.332Z"
   },
   {
    "duration": 0,
    "start_time": "2025-09-13T22:38:07.339Z"
   },
   {
    "duration": 0,
    "start_time": "2025-09-13T22:38:07.340Z"
   },
   {
    "duration": 0,
    "start_time": "2025-09-13T22:38:07.341Z"
   },
   {
    "duration": 0,
    "start_time": "2025-09-13T22:38:07.342Z"
   },
   {
    "duration": 0,
    "start_time": "2025-09-13T22:38:07.343Z"
   },
   {
    "duration": 0,
    "start_time": "2025-09-13T22:38:07.344Z"
   },
   {
    "duration": 1,
    "start_time": "2025-09-13T22:38:07.345Z"
   },
   {
    "duration": 0,
    "start_time": "2025-09-13T22:38:07.346Z"
   },
   {
    "duration": 0,
    "start_time": "2025-09-13T22:38:07.347Z"
   },
   {
    "duration": 0,
    "start_time": "2025-09-13T22:38:07.349Z"
   },
   {
    "duration": 0,
    "start_time": "2025-09-13T22:38:07.349Z"
   },
   {
    "duration": 0,
    "start_time": "2025-09-13T22:38:07.351Z"
   },
   {
    "duration": 0,
    "start_time": "2025-09-13T22:38:07.353Z"
   },
   {
    "duration": 0,
    "start_time": "2025-09-13T22:38:07.354Z"
   },
   {
    "duration": 0,
    "start_time": "2025-09-13T22:38:07.355Z"
   },
   {
    "duration": 0,
    "start_time": "2025-09-13T22:38:07.356Z"
   },
   {
    "duration": 0,
    "start_time": "2025-09-13T22:38:07.357Z"
   },
   {
    "duration": 0,
    "start_time": "2025-09-13T22:38:07.358Z"
   },
   {
    "duration": 0,
    "start_time": "2025-09-13T22:38:07.359Z"
   },
   {
    "duration": 0,
    "start_time": "2025-09-13T22:38:07.360Z"
   },
   {
    "duration": 0,
    "start_time": "2025-09-13T22:38:07.362Z"
   },
   {
    "duration": 0,
    "start_time": "2025-09-13T22:38:07.363Z"
   },
   {
    "duration": 0,
    "start_time": "2025-09-13T22:38:07.364Z"
   },
   {
    "duration": 0,
    "start_time": "2025-09-13T22:38:07.365Z"
   },
   {
    "duration": 0,
    "start_time": "2025-09-13T22:38:07.366Z"
   },
   {
    "duration": 0,
    "start_time": "2025-09-13T22:38:07.367Z"
   },
   {
    "duration": 0,
    "start_time": "2025-09-13T22:38:07.368Z"
   },
   {
    "duration": 0,
    "start_time": "2025-09-13T22:38:07.369Z"
   },
   {
    "duration": 0,
    "start_time": "2025-09-13T22:38:07.370Z"
   },
   {
    "duration": 0,
    "start_time": "2025-09-13T22:38:07.371Z"
   },
   {
    "duration": 0,
    "start_time": "2025-09-13T22:38:07.372Z"
   },
   {
    "duration": 0,
    "start_time": "2025-09-13T22:38:07.373Z"
   },
   {
    "duration": 0,
    "start_time": "2025-09-13T22:38:07.374Z"
   },
   {
    "duration": 0,
    "start_time": "2025-09-13T22:38:07.439Z"
   },
   {
    "duration": 0,
    "start_time": "2025-09-13T22:38:07.440Z"
   },
   {
    "duration": 0,
    "start_time": "2025-09-13T22:38:07.441Z"
   },
   {
    "duration": 0,
    "start_time": "2025-09-13T22:38:07.442Z"
   },
   {
    "duration": 0,
    "start_time": "2025-09-13T22:38:07.443Z"
   },
   {
    "duration": 0,
    "start_time": "2025-09-13T22:38:07.444Z"
   },
   {
    "duration": 0,
    "start_time": "2025-09-13T22:38:07.445Z"
   },
   {
    "duration": 0,
    "start_time": "2025-09-13T22:38:07.446Z"
   },
   {
    "duration": 0,
    "start_time": "2025-09-13T22:38:07.447Z"
   },
   {
    "duration": 0,
    "start_time": "2025-09-13T22:38:07.448Z"
   },
   {
    "duration": 0,
    "start_time": "2025-09-13T22:38:07.449Z"
   },
   {
    "duration": 0,
    "start_time": "2025-09-13T22:38:07.450Z"
   },
   {
    "duration": 0,
    "start_time": "2025-09-13T22:38:07.451Z"
   },
   {
    "duration": 0,
    "start_time": "2025-09-13T22:38:07.452Z"
   },
   {
    "duration": 0,
    "start_time": "2025-09-13T22:38:07.453Z"
   },
   {
    "duration": 0,
    "start_time": "2025-09-13T22:38:07.454Z"
   },
   {
    "duration": 0,
    "start_time": "2025-09-13T22:38:07.455Z"
   },
   {
    "duration": 0,
    "start_time": "2025-09-13T22:38:07.456Z"
   },
   {
    "duration": 0,
    "start_time": "2025-09-13T22:38:07.456Z"
   },
   {
    "duration": 0,
    "start_time": "2025-09-13T22:38:07.457Z"
   },
   {
    "duration": 0,
    "start_time": "2025-09-13T22:38:07.458Z"
   },
   {
    "duration": 0,
    "start_time": "2025-09-13T22:38:07.459Z"
   },
   {
    "duration": 0,
    "start_time": "2025-09-13T22:38:07.460Z"
   },
   {
    "duration": 0,
    "start_time": "2025-09-13T22:38:07.461Z"
   },
   {
    "duration": 0,
    "start_time": "2025-09-13T22:38:07.462Z"
   },
   {
    "duration": 0,
    "start_time": "2025-09-13T22:38:07.463Z"
   },
   {
    "duration": 0,
    "start_time": "2025-09-13T22:38:07.463Z"
   },
   {
    "duration": 0,
    "start_time": "2025-09-13T22:38:07.464Z"
   },
   {
    "duration": 0,
    "start_time": "2025-09-13T22:38:07.465Z"
   },
   {
    "duration": 0,
    "start_time": "2025-09-13T22:38:07.466Z"
   },
   {
    "duration": 0,
    "start_time": "2025-09-13T22:38:07.467Z"
   },
   {
    "duration": 0,
    "start_time": "2025-09-13T22:38:07.468Z"
   },
   {
    "duration": 0,
    "start_time": "2025-09-13T22:38:07.469Z"
   },
   {
    "duration": 0,
    "start_time": "2025-09-13T22:38:07.470Z"
   },
   {
    "duration": 0,
    "start_time": "2025-09-13T22:38:07.471Z"
   },
   {
    "duration": 1,
    "start_time": "2025-09-13T22:38:07.471Z"
   },
   {
    "duration": 0,
    "start_time": "2025-09-13T22:38:07.473Z"
   },
   {
    "duration": 0,
    "start_time": "2025-09-13T22:38:07.473Z"
   },
   {
    "duration": 0,
    "start_time": "2025-09-13T22:38:07.474Z"
   },
   {
    "duration": 0,
    "start_time": "2025-09-13T22:38:07.475Z"
   },
   {
    "duration": 0,
    "start_time": "2025-09-13T22:38:07.476Z"
   },
   {
    "duration": 0,
    "start_time": "2025-09-13T22:38:07.477Z"
   },
   {
    "duration": 0,
    "start_time": "2025-09-13T22:38:07.539Z"
   },
   {
    "duration": 0,
    "start_time": "2025-09-13T22:38:07.541Z"
   },
   {
    "duration": 0,
    "start_time": "2025-09-13T22:38:07.542Z"
   },
   {
    "duration": 0,
    "start_time": "2025-09-13T22:38:07.544Z"
   },
   {
    "duration": 0,
    "start_time": "2025-09-13T22:38:07.546Z"
   },
   {
    "duration": 0,
    "start_time": "2025-09-13T22:38:07.548Z"
   },
   {
    "duration": 0,
    "start_time": "2025-09-13T22:38:07.550Z"
   },
   {
    "duration": 1205,
    "start_time": "2025-09-13T22:38:37.167Z"
   },
   {
    "duration": 5176,
    "start_time": "2025-09-13T22:38:48.956Z"
   },
   {
    "duration": 4713,
    "start_time": "2025-09-13T22:39:26.536Z"
   },
   {
    "duration": 1790,
    "start_time": "2025-09-13T22:39:31.251Z"
   },
   {
    "duration": 2,
    "start_time": "2025-09-13T22:39:33.043Z"
   },
   {
    "duration": 122,
    "start_time": "2025-09-13T22:39:33.047Z"
   },
   {
    "duration": 6,
    "start_time": "2025-09-13T22:39:33.171Z"
   },
   {
    "duration": 29,
    "start_time": "2025-09-13T22:39:33.178Z"
   },
   {
    "duration": 27,
    "start_time": "2025-09-13T22:39:33.209Z"
   },
   {
    "duration": 22,
    "start_time": "2025-09-13T22:39:33.238Z"
   },
   {
    "duration": 16,
    "start_time": "2025-09-13T22:39:33.262Z"
   },
   {
    "duration": 4,
    "start_time": "2025-09-13T22:39:33.280Z"
   },
   {
    "duration": 17,
    "start_time": "2025-09-13T22:39:33.285Z"
   },
   {
    "duration": 36,
    "start_time": "2025-09-13T22:39:33.303Z"
   },
   {
    "duration": 14,
    "start_time": "2025-09-13T22:39:33.340Z"
   },
   {
    "duration": 24,
    "start_time": "2025-09-13T22:39:33.355Z"
   },
   {
    "duration": 18,
    "start_time": "2025-09-13T22:39:33.381Z"
   },
   {
    "duration": 8,
    "start_time": "2025-09-13T22:39:33.400Z"
   },
   {
    "duration": 15,
    "start_time": "2025-09-13T22:39:33.409Z"
   },
   {
    "duration": 7,
    "start_time": "2025-09-13T22:39:33.439Z"
   },
   {
    "duration": 21,
    "start_time": "2025-09-13T22:39:33.448Z"
   },
   {
    "duration": 27,
    "start_time": "2025-09-13T22:39:33.471Z"
   },
   {
    "duration": 11,
    "start_time": "2025-09-13T22:39:33.500Z"
   },
   {
    "duration": 6,
    "start_time": "2025-09-13T22:39:33.513Z"
   },
   {
    "duration": 38,
    "start_time": "2025-09-13T22:39:33.520Z"
   },
   {
    "duration": 28,
    "start_time": "2025-09-13T22:39:33.559Z"
   },
   {
    "duration": 6,
    "start_time": "2025-09-13T22:39:33.588Z"
   },
   {
    "duration": 5,
    "start_time": "2025-09-13T22:39:33.595Z"
   },
   {
    "duration": 8,
    "start_time": "2025-09-13T22:39:33.602Z"
   },
   {
    "duration": 89,
    "start_time": "2025-09-13T22:39:33.614Z"
   },
   {
    "duration": 97,
    "start_time": "2025-09-13T22:39:33.705Z"
   },
   {
    "duration": 63,
    "start_time": "2025-09-13T22:39:33.804Z"
   },
   {
    "duration": 63,
    "start_time": "2025-09-13T22:39:33.868Z"
   },
   {
    "duration": 32,
    "start_time": "2025-09-13T22:39:33.932Z"
   },
   {
    "duration": 27,
    "start_time": "2025-09-13T22:39:33.966Z"
   },
   {
    "duration": 18,
    "start_time": "2025-09-13T22:39:33.994Z"
   },
   {
    "duration": 17,
    "start_time": "2025-09-13T22:39:34.013Z"
   },
   {
    "duration": 6,
    "start_time": "2025-09-13T22:39:34.032Z"
   },
   {
    "duration": 23,
    "start_time": "2025-09-13T22:39:34.039Z"
   },
   {
    "duration": 366,
    "start_time": "2025-09-13T22:39:34.064Z"
   },
   {
    "duration": 18,
    "start_time": "2025-09-13T22:39:34.432Z"
   },
   {
    "duration": 483,
    "start_time": "2025-09-13T22:39:34.451Z"
   },
   {
    "duration": 6,
    "start_time": "2025-09-13T22:39:34.935Z"
   },
   {
    "duration": 271,
    "start_time": "2025-09-13T22:39:34.942Z"
   },
   {
    "duration": 380,
    "start_time": "2025-09-13T22:39:35.214Z"
   },
   {
    "duration": 211,
    "start_time": "2025-09-13T22:39:35.596Z"
   },
   {
    "duration": 232,
    "start_time": "2025-09-13T22:39:35.809Z"
   },
   {
    "duration": 223,
    "start_time": "2025-09-13T22:39:36.042Z"
   },
   {
    "duration": 252,
    "start_time": "2025-09-13T22:39:36.267Z"
   },
   {
    "duration": 32,
    "start_time": "2025-09-13T22:39:36.521Z"
   },
   {
    "duration": 1130,
    "start_time": "2025-09-13T22:39:36.555Z"
   },
   {
    "duration": 392,
    "start_time": "2025-09-13T22:39:37.687Z"
   },
   {
    "duration": 285,
    "start_time": "2025-09-13T22:39:38.081Z"
   },
   {
    "duration": 94,
    "start_time": "2025-09-13T22:39:38.368Z"
   },
   {
    "duration": 7,
    "start_time": "2025-09-13T22:39:38.464Z"
   },
   {
    "duration": 180,
    "start_time": "2025-09-13T22:39:38.473Z"
   },
   {
    "duration": 191,
    "start_time": "2025-09-13T22:39:38.655Z"
   },
   {
    "duration": 272,
    "start_time": "2025-09-13T22:39:38.848Z"
   },
   {
    "duration": 8,
    "start_time": "2025-09-13T22:39:39.121Z"
   },
   {
    "duration": 17,
    "start_time": "2025-09-13T22:39:39.130Z"
   },
   {
    "duration": 8,
    "start_time": "2025-09-13T22:39:39.148Z"
   },
   {
    "duration": 13,
    "start_time": "2025-09-13T22:39:39.157Z"
   },
   {
    "duration": 20,
    "start_time": "2025-09-13T22:39:39.172Z"
   },
   {
    "duration": 2186,
    "start_time": "2025-09-13T22:39:39.194Z"
   },
   {
    "duration": 561,
    "start_time": "2025-09-13T22:39:41.381Z"
   },
   {
    "duration": 95,
    "start_time": "2025-09-13T22:39:41.944Z"
   },
   {
    "duration": 25,
    "start_time": "2025-09-13T22:39:42.041Z"
   },
   {
    "duration": 2961,
    "start_time": "2025-09-13T22:39:42.068Z"
   },
   {
    "duration": 33,
    "start_time": "2025-09-13T22:39:45.038Z"
   },
   {
    "duration": 58083,
    "start_time": "2025-09-13T22:39:45.072Z"
   },
   {
    "duration": 830,
    "start_time": "2025-09-13T22:40:43.240Z"
   },
   {
    "duration": 0,
    "start_time": "2025-09-13T22:40:44.072Z"
   },
   {
    "duration": 0,
    "start_time": "2025-09-13T22:40:44.073Z"
   },
   {
    "duration": 0,
    "start_time": "2025-09-13T22:40:44.074Z"
   },
   {
    "duration": 0,
    "start_time": "2025-09-13T22:40:44.075Z"
   },
   {
    "duration": 0,
    "start_time": "2025-09-13T22:40:44.076Z"
   },
   {
    "duration": 0,
    "start_time": "2025-09-13T22:40:44.077Z"
   },
   {
    "duration": 0,
    "start_time": "2025-09-13T22:40:44.079Z"
   },
   {
    "duration": 0,
    "start_time": "2025-09-13T22:40:44.079Z"
   },
   {
    "duration": 0,
    "start_time": "2025-09-13T22:40:44.080Z"
   },
   {
    "duration": 0,
    "start_time": "2025-09-13T22:40:44.081Z"
   },
   {
    "duration": 0,
    "start_time": "2025-09-13T22:40:44.082Z"
   },
   {
    "duration": 0,
    "start_time": "2025-09-13T22:40:44.083Z"
   },
   {
    "duration": 0,
    "start_time": "2025-09-13T22:40:44.085Z"
   },
   {
    "duration": 0,
    "start_time": "2025-09-13T22:40:44.086Z"
   },
   {
    "duration": 0,
    "start_time": "2025-09-13T22:40:44.087Z"
   },
   {
    "duration": 0,
    "start_time": "2025-09-13T22:40:44.088Z"
   },
   {
    "duration": 0,
    "start_time": "2025-09-13T22:40:44.089Z"
   },
   {
    "duration": 0,
    "start_time": "2025-09-13T22:40:44.090Z"
   },
   {
    "duration": 0,
    "start_time": "2025-09-13T22:40:44.091Z"
   },
   {
    "duration": 0,
    "start_time": "2025-09-13T22:40:44.092Z"
   },
   {
    "duration": 0,
    "start_time": "2025-09-13T22:40:44.094Z"
   },
   {
    "duration": 7495,
    "start_time": "2025-09-14T04:58:41.986Z"
   },
   {
    "duration": 3731,
    "start_time": "2025-09-14T04:58:49.484Z"
   },
   {
    "duration": 3,
    "start_time": "2025-09-14T04:58:53.217Z"
   },
   {
    "duration": 148,
    "start_time": "2025-09-14T04:58:53.221Z"
   },
   {
    "duration": 20,
    "start_time": "2025-09-14T04:58:54.904Z"
   }
  ],
  "kernelspec": {
   "display_name": "Python 3",
   "language": "python",
   "name": "python3"
  },
  "language_info": {
   "codemirror_mode": {
    "name": "ipython",
    "version": 3
   },
   "file_extension": ".py",
   "mimetype": "text/x-python",
   "name": "python",
   "nbconvert_exporter": "python",
   "pygments_lexer": "ipython3",
   "version": "3.9.21"
  },
  "toc": {
   "base_numbering": 1,
   "nav_menu": {},
   "number_sections": false,
   "sideBar": true,
   "skip_h1_title": false,
   "title_cell": "Table of Contents",
   "title_sidebar": "Contents",
   "toc_cell": false,
   "toc_position": {},
   "toc_section_display": true,
   "toc_window_display": false
  },
  "varInspector": {
   "cols": {
    "lenName": 16,
    "lenType": 16,
    "lenVar": 40
   },
   "kernels_config": {
    "python": {
     "delete_cmd_postfix": "",
     "delete_cmd_prefix": "del ",
     "library": "var_list.py",
     "varRefreshCmd": "print(var_dic_list())"
    },
    "r": {
     "delete_cmd_postfix": ") ",
     "delete_cmd_prefix": "rm(",
     "library": "var_list.r",
     "varRefreshCmd": "cat(var_dic_list()) "
    }
   },
   "types_to_exclude": [
    "module",
    "function",
    "builtin_function_or_method",
    "instance",
    "_Feature"
   ],
   "window_display": false
  }
 },
 "nbformat": 4,
 "nbformat_minor": 5
}
