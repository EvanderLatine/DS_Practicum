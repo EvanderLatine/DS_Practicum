{
 "cells": [
  {
   "cell_type": "markdown",
   "metadata": {},
   "source": [
    "<font color='DarkBlue' size=+2><b>Комментарий ревьюера</b></font><br>\n",
    "<font color='DarkBlue'>Привет, Ярослав! <br>Меня зовут Олег Мазуренко, и я буду проверять этот проект. Спасибо за проделанную работу! <br>Ко мне можно обращаться на «ты». Как мне обращаться, напиши.</font><br>\n",
    "<font color='DarkBlue'>Я буду использовать различные цвета, чтобы было удобнее воспринимать мои комментарии:</font><br>\n",
    "<font color='DarkBlue'>Синий текст &mdash; просто текст комментария.</font><br>\n",
    "<font color='DarkGreen'>👌 Зеленый текст &mdash; все отлично.</font><br>\n",
    "<font color='DarkMagenta'>👉 Фиолетовый текст &mdash; сделано все правильно, однако есть рекомендации, на что стоит обратить внимание. Реализованные рекомендации позволят нам наработать опыт решения задачи разными способами или посмотреть на задачу под иным углом.</font><br>\n",
    "<font color='Red'>🛠 Красный текст &mdash; есть недочеты, они иногда бывают. </font><br><font color='DarkBlue'>Любая ошибка это возможность посмотреть на задачу с другой стороны и освоить новые знания, по этому не надо расстраиваться, если они есть.</font><br>\n",
    "<font color='DarkBlue'>Обращаю внимание, что комментарии ревьюера после проверки удалять нельзя они помогают отследить логику исправления или изменения проекта. Это дополнительный навык при обучении. Свой исправляемый код лучше тоже не удалять, а ремить #, это позволит акцентировать изменения в ходе подготовки окончательного варианта проекта.<br>\n",
    "Ответы на мои комментарии лучше тоже помечать. \n",
    "Например: </font><font color='Blue'><b>Комментарий студента</b></font><br>\n",
    "<font color='DarkBlue'><b>Теперь посмотрим, что получилось!</b></font>"
   ]
  },
  {
   "cell_type": "markdown",
   "metadata": {
    "id": "-VFbjcb3Awb7"
   },
   "source": [
    "# Проверка гипотез о выручке проката самокатов\n",
    "\n",
    "Нужно изучить модели монетизации сервиса аренды электросамокатов по подписке и без подписки.\n",
    "\n",
    "## Цель\n",
    "Сформулировать полезные для повышения выручки выводы.\n",
    "\n",
    "## Описание данных:\n",
    "### Пользователь\n",
    "- `user_id` — уникальный идентификатор пользователя\n",
    "- `name` — имя пользователя\n",
    "- `age` — возраст\n",
    "- `city`— город\n",
    "- `subscription_type` — тип подписки (free, ultra)\n",
    "### Поездки \n",
    "- `user_id` — уникальный идентификатор пользователя\n",
    "- `distance` — расстояние, которое пользователь проехал в текущей сессии (в метрах)\n",
    "- `duration` — продолжительность сессии (в минутах) — время с того момента, как пользователь нажал кнопку «Начать поездку» до момента, как он нажал кнопку «Завершить поездку»\n",
    "- `date` — дата совершения поездки\n",
    "### Подписки\n",
    "- `subscription_type` — тип подписки\n",
    "- `minute_price` — стоимость одной минуты поездки по данной подписке\n",
    "- `start_ride_price` — стоимость начала поездки\n",
    "- `subscription_fee` — стоимость ежемесячного платежа"
   ]
  },
  {
   "cell_type": "markdown",
   "metadata": {},
   "source": [
    "<font color='DarkBlue'><b>Комментарий ревьюера</b></font><br>\n",
    "<font color='DarkMagenta'>👉 Было бы правильно добавить план исследования в описание проекта.</font>"
   ]
  },
  {
   "cell_type": "markdown",
   "metadata": {},
   "source": [
    "## План исследования"
   ]
  },
  {
   "cell_type": "markdown",
   "metadata": {},
   "source": [
    "</font><font color='Blue'><b>Комментарий студента</b></font><br>\n",
    "1) Подготовка и фильтрация данных\n",
    "2) Объединение данных в удобные для анализа срезы\n",
    "3) Исследовательский анализ пользователей по различным группам: город, тип подписки, расстаяние и продолжительность поездки и т.п. для знакомства с данными\n",
    "4) Проверка гипотез об использовании сервиса\n",
    "5) Общие выводы на основании проверенных гипотез и аналитики"
   ]
  },
  {
   "cell_type": "code",
   "execution_count": 2,
   "metadata": {},
   "outputs": [],
   "source": [
    "\n",
    "import pandas as pd\n",
    "import numpy as np\n",
    "from matplotlib import pyplot as plt\n",
    "from datetime import datetime as dt\n",
    "import math\n",
    "from scipy import stats as st"
   ]
  },
  {
   "cell_type": "markdown",
   "metadata": {},
   "source": [
    "## Подготовка данных"
   ]
  },
  {
   "cell_type": "markdown",
   "metadata": {
    "id": "aeFLH07FAwb9"
   },
   "source": [
    "### Откроем файлы с данными и изучим общую информацию"
   ]
  },
  {
   "cell_type": "code",
   "execution_count": 3,
   "metadata": {
    "id": "7MZxY65pAwb9"
   },
   "outputs": [
    {
     "name": "stdout",
     "output_type": "stream",
     "text": [
      "Users:\n",
      "    user_id        name  age            city subscription_type\n",
      "0         1        Кира   22          Тюмень             ultra\n",
      "1         2   Станислав   31            Омск             ultra\n",
      "2         3     Алексей   20          Москва             ultra\n",
      "3         4  Константин   26  Ростов-на-Дону             ultra\n",
      "4         5       Адель   28            Омск             ultra\n",
      "5         6      Регина   25       Краснодар             ultra\n",
      "6         7       Игорь   23            Омск             ultra\n",
      "7         8        Юрий   23       Краснодар             ultra\n",
      "8         9          Ян   21       Пятигорск             ultra\n",
      "9        10     Валерий   18    Екатеринбург             ultra\n",
      "10       11       Агата   31       Краснодар             ultra\n",
      "11       12        Марк   27          Тюмень             ultra\n",
      "12       13         Ева   24       Краснодар             ultra\n",
      "13       14    Антонина   18       Пятигорск             ultra\n",
      "14       15     Валерия   24          Тюмень             ultra\n",
      "15       16      Амалия   27       Краснодар             ultra\n",
      "16       17      Даниил   29          Москва             ultra\n",
      "17       18     Аделина   24            Сочи             ultra\n",
      "18       19      Регина   32          Тюмень             ultra\n",
      "19       20       Игорь   23            Омск             ultra\n",
      "Rides:\n",
      "    user_id     distance   duration        date\n",
      "0         1  4409.919140  25.599769  2021-01-01\n",
      "1         1  2617.592153  15.816871  2021-01-18\n",
      "2         1   754.159807   6.232113  2021-04-20\n",
      "3         1  2694.783254  18.511000  2021-08-11\n",
      "4         1  4028.687306  26.265803  2021-08-28\n",
      "5         1  2770.890808  16.650138  2021-10-09\n",
      "6         1  3039.020292  14.927879  2021-10-19\n",
      "7         1  2842.118050  23.117468  2021-11-06\n",
      "8         1  3412.690668  15.238072  2021-11-14\n",
      "9         1   748.690645  15.041884  2021-11-22\n",
      "10        1  4031.020195  17.674448  2021-12-14\n",
      "11        1  2720.609748   9.529463  2021-12-22\n",
      "12        2  3105.086678  24.307514  2021-03-15\n",
      "13        2  3053.519401  11.543256  2021-03-18\n",
      "14        2  4029.116927  25.109188  2021-03-23\n",
      "15        2  2805.786329  20.652145  2021-04-08\n",
      "16        2  3358.595495  18.396489  2021-04-13\n",
      "17        2  3255.338202  13.851127  2021-06-20\n",
      "18        2  3942.817648  20.142725  2021-07-02\n",
      "19        2  2837.905316  26.027432  2021-07-18\n",
      "Subscriptions:\n",
      "  subscription_type  minute_price  start_ride_price  subscription_fee\n",
      "0              free             8                50                 0\n",
      "1             ultra             6                 0               199\n"
     ]
    }
   ],
   "source": [
    "try:\n",
    "    users = pd.read_csv(r\".\\source\\users_go.csv\")\n",
    "    rides = pd.read_csv(r\".\\source\\rides_go.csv\")\n",
    "    subscriptions = pd.read_csv(r\".\\source\\subscriptions_go.csv\")\n",
    "except:\n",
    "    users = pd.read_csv(\"/datasets/users_go.csv\")\n",
    "    rides = pd.read_csv(\"/datasets/rides_go.csv\")\n",
    "    subscriptions = pd.read_csv(\"/datasets/subscriptions_go.csv\")\n",
    "\n",
    "pd.set_option('display.max_columns', None)\n",
    "print(f\"Users:\\n{users  .head(20)}\")\n",
    "print(f\"Rides:\\n{rides.head(20)}\")\n",
    "print(f\"Subscriptions:\\n{subscriptions.head(20)}\")"
   ]
  },
  {
   "cell_type": "markdown",
   "metadata": {},
   "source": [
    "<font color='DarkBlue'><b>Комментарий ревьюера</b></font><br>\n",
    "<font color='DarkGreen'>👌 Очень хорошо, что используется код двойной загрузки, локально и с сервера. Часто в проектах возникают ошибки именно из-за не правильного пути к датасетам.</font>"
   ]
  },
  {
   "cell_type": "markdown",
   "metadata": {},
   "source": [
    "Преобразуем колонки к соответствующим типам данных."
   ]
  },
  {
   "cell_type": "code",
   "execution_count": 4,
   "metadata": {},
   "outputs": [
    {
     "name": "stdout",
     "output_type": "stream",
     "text": [
      "<class 'pandas.core.frame.DataFrame'>\n",
      "RangeIndex: 1565 entries, 0 to 1564\n",
      "Data columns (total 5 columns):\n",
      " #   Column             Non-Null Count  Dtype \n",
      "---  ------             --------------  ----- \n",
      " 0   user_id            1565 non-null   int64 \n",
      " 1   name               1565 non-null   object\n",
      " 2   age                1565 non-null   int64 \n",
      " 3   city               1565 non-null   object\n",
      " 4   subscription_type  1565 non-null   object\n",
      "dtypes: int64(2), object(3)\n",
      "memory usage: 61.3+ KB\n",
      "<class 'pandas.core.frame.DataFrame'>\n",
      "RangeIndex: 18068 entries, 0 to 18067\n",
      "Data columns (total 4 columns):\n",
      " #   Column    Non-Null Count  Dtype  \n",
      "---  ------    --------------  -----  \n",
      " 0   user_id   18068 non-null  int64  \n",
      " 1   distance  18068 non-null  float64\n",
      " 2   duration  18068 non-null  float64\n",
      " 3   date      18068 non-null  object \n",
      "dtypes: float64(2), int64(1), object(1)\n",
      "memory usage: 564.8+ KB\n",
      "<class 'pandas.core.frame.DataFrame'>\n",
      "RangeIndex: 2 entries, 0 to 1\n",
      "Data columns (total 4 columns):\n",
      " #   Column             Non-Null Count  Dtype \n",
      "---  ------             --------------  ----- \n",
      " 0   subscription_type  2 non-null      object\n",
      " 1   minute_price       2 non-null      int64 \n",
      " 2   start_ride_price   2 non-null      int64 \n",
      " 3   subscription_fee   2 non-null      int64 \n",
      "dtypes: int64(3), object(1)\n",
      "memory usage: 192.0+ bytes\n"
     ]
    }
   ],
   "source": [
    "def print_info():\n",
    "    users.info()\n",
    "    rides.info()\n",
    "    subscriptions.info()\n",
    "\n",
    "print_info()"
   ]
  },
  {
   "cell_type": "markdown",
   "metadata": {},
   "source": [
    "<font color='DarkBlue'><b>Комментарий ревьюера</b></font><br>\n",
    "<font color='DarkMagenta'>👉 Следовало сделать краткое резюме по загруженным и проанализированным датасетам.</font>"
   ]
  },
  {
   "cell_type": "markdown",
   "metadata": {},
   "source": [
    "</font><font color='Blue'><b>Комментарий студента</b></font><br>\n",
    "Данные в нормализованном виде. Для удобства анализа может быть полезно их объединить в будущем после подготовки. Объём занимаемой данными памяти очень низкий, поэтому оптимизацию типов можно пропустить."
   ]
  },
  {
   "cell_type": "markdown",
   "metadata": {},
   "source": [
    "Приведём date в таблице поездок к типу даты."
   ]
  },
  {
   "cell_type": "code",
   "execution_count": 5,
   "metadata": {},
   "outputs": [
    {
     "name": "stdout",
     "output_type": "stream",
     "text": [
      "<class 'pandas.core.frame.DataFrame'>\n",
      "RangeIndex: 1565 entries, 0 to 1564\n",
      "Data columns (total 5 columns):\n",
      " #   Column             Non-Null Count  Dtype \n",
      "---  ------             --------------  ----- \n",
      " 0   user_id            1565 non-null   int64 \n",
      " 1   name               1565 non-null   object\n",
      " 2   age                1565 non-null   int64 \n",
      " 3   city               1565 non-null   object\n",
      " 4   subscription_type  1565 non-null   object\n",
      "dtypes: int64(2), object(3)\n",
      "memory usage: 61.3+ KB\n",
      "<class 'pandas.core.frame.DataFrame'>\n",
      "RangeIndex: 18068 entries, 0 to 18067\n",
      "Data columns (total 4 columns):\n",
      " #   Column    Non-Null Count  Dtype         \n",
      "---  ------    --------------  -----         \n",
      " 0   user_id   18068 non-null  int64         \n",
      " 1   distance  18068 non-null  float64       \n",
      " 2   duration  18068 non-null  float64       \n",
      " 3   date      18068 non-null  datetime64[ns]\n",
      "dtypes: datetime64[ns](1), float64(2), int64(1)\n",
      "memory usage: 564.8 KB\n",
      "<class 'pandas.core.frame.DataFrame'>\n",
      "RangeIndex: 2 entries, 0 to 1\n",
      "Data columns (total 4 columns):\n",
      " #   Column             Non-Null Count  Dtype \n",
      "---  ------             --------------  ----- \n",
      " 0   subscription_type  2 non-null      object\n",
      " 1   minute_price       2 non-null      int64 \n",
      " 2   start_ride_price   2 non-null      int64 \n",
      " 3   subscription_fee   2 non-null      int64 \n",
      "dtypes: int64(3), object(1)\n",
      "memory usage: 192.0+ bytes\n"
     ]
    }
   ],
   "source": [
    "rides = rides.astype({\"date\" : \"datetime64[ns]\"})\n",
    "print_info()"
   ]
  },
  {
   "cell_type": "markdown",
   "metadata": {},
   "source": [
    "<font color='DarkBlue'><b>Комментарий ревьюера</b></font><br>\n",
    "<font color='DarkGreen'>👌 Хорошо, преобразовали колонку `['date']` в дату.</font>"
   ]
  },
  {
   "cell_type": "markdown",
   "metadata": {},
   "source": [
    "Создадим столбец с номером месяца для удобства."
   ]
  },
  {
   "cell_type": "markdown",
   "metadata": {},
   "source": [
    "<font color='DarkBlue'><b>Комментарий ревьюера</b></font><br>\n",
    "<font color='DarkMagenta'>👉 Следовало проверить за какой период данные в датасете. Если данные за несколько лет, то номера месяцев будут в разных годах одинаковыми.</font>"
   ]
  },
  {
   "cell_type": "markdown",
   "metadata": {},
   "source": [
    "</font><font color='Blue'><b>Комментарий студента</b></font><br>\n",
    "В последующих шагах я в связанной с номерами месяцов задаче сделал такой анализ. Вручную проанализировал файл с датами поездок через поиск по номеру года в IDE. Комментарий об этом я не добавлял т.к. на мой взгляд это скорее влияет на реализацию анализа в коде, нежели на полезные для бизнеса выводы. Однако на данном этапе мне не ясно, нужны ли индексы месяцев для сезонного анализа или ID для каждого отдельного месяца (с учётом года), поэтому тут я ничего явно не указал и не проверил программно."
   ]
  },
  {
   "cell_type": "code",
   "execution_count": 6,
   "metadata": {},
   "outputs": [],
   "source": [
    "rides[\"month_number\"] = rides[\"date\"].dt.month"
   ]
  },
  {
   "cell_type": "markdown",
   "metadata": {},
   "source": [
    "<font color='DarkBlue'><b>Комментарий ревьюера</b></font><br>\n",
    "<font color='DarkGreen'>👌 Правильно выполнено задание по созданию столбца с номером месяца.</font>\n",
    "<br><font color='DarkMagenta'>👉 Следовало посмотреть результат преобразований.</font>"
   ]
  },
  {
   "cell_type": "code",
   "execution_count": 7,
   "metadata": {},
   "outputs": [
    {
     "data": {
      "text/html": [
       "<div>\n",
       "<style scoped>\n",
       "    .dataframe tbody tr th:only-of-type {\n",
       "        vertical-align: middle;\n",
       "    }\n",
       "\n",
       "    .dataframe tbody tr th {\n",
       "        vertical-align: top;\n",
       "    }\n",
       "\n",
       "    .dataframe thead th {\n",
       "        text-align: right;\n",
       "    }\n",
       "</style>\n",
       "<table border=\"1\" class=\"dataframe\">\n",
       "  <thead>\n",
       "    <tr style=\"text-align: right;\">\n",
       "      <th></th>\n",
       "      <th>user_id</th>\n",
       "      <th>distance</th>\n",
       "      <th>duration</th>\n",
       "      <th>date</th>\n",
       "      <th>month_number</th>\n",
       "    </tr>\n",
       "  </thead>\n",
       "  <tbody>\n",
       "    <tr>\n",
       "      <th>0</th>\n",
       "      <td>1</td>\n",
       "      <td>4409.919140</td>\n",
       "      <td>25.599769</td>\n",
       "      <td>2021-01-01</td>\n",
       "      <td>1</td>\n",
       "    </tr>\n",
       "    <tr>\n",
       "      <th>1</th>\n",
       "      <td>1</td>\n",
       "      <td>2617.592153</td>\n",
       "      <td>15.816871</td>\n",
       "      <td>2021-01-18</td>\n",
       "      <td>1</td>\n",
       "    </tr>\n",
       "    <tr>\n",
       "      <th>2</th>\n",
       "      <td>1</td>\n",
       "      <td>754.159807</td>\n",
       "      <td>6.232113</td>\n",
       "      <td>2021-04-20</td>\n",
       "      <td>4</td>\n",
       "    </tr>\n",
       "    <tr>\n",
       "      <th>3</th>\n",
       "      <td>1</td>\n",
       "      <td>2694.783254</td>\n",
       "      <td>18.511000</td>\n",
       "      <td>2021-08-11</td>\n",
       "      <td>8</td>\n",
       "    </tr>\n",
       "    <tr>\n",
       "      <th>4</th>\n",
       "      <td>1</td>\n",
       "      <td>4028.687306</td>\n",
       "      <td>26.265803</td>\n",
       "      <td>2021-08-28</td>\n",
       "      <td>8</td>\n",
       "    </tr>\n",
       "  </tbody>\n",
       "</table>\n",
       "</div>"
      ],
      "text/plain": [
       "   user_id     distance   duration       date  month_number\n",
       "0        1  4409.919140  25.599769 2021-01-01             1\n",
       "1        1  2617.592153  15.816871 2021-01-18             1\n",
       "2        1   754.159807   6.232113 2021-04-20             4\n",
       "3        1  2694.783254  18.511000 2021-08-11             8\n",
       "4        1  4028.687306  26.265803 2021-08-28             8"
      ]
     },
     "execution_count": 7,
     "metadata": {},
     "output_type": "execute_result"
    }
   ],
   "source": [
    "rides.head()"
   ]
  },
  {
   "cell_type": "markdown",
   "metadata": {},
   "source": [
    "### Обработаем пропуски"
   ]
  },
  {
   "cell_type": "code",
   "execution_count": 8,
   "metadata": {},
   "outputs": [
    {
     "name": "stdout",
     "output_type": "stream",
     "text": [
      "Пропуски в данных о пользователях:\n",
      "user_id              0\n",
      "name                 0\n",
      "age                  0\n",
      "city                 0\n",
      "subscription_type    0\n",
      "dtype: int64\n"
     ]
    }
   ],
   "source": [
    "print(f\"Пропуски в данных о пользователях:\\n{users.isna().sum()}\")"
   ]
  },
  {
   "cell_type": "markdown",
   "metadata": {},
   "source": [
    "<font color='DarkBlue'><b>Комментарий ревьюера</b></font><br>\n",
    "<font color='DarkMagenta'>👉 Зачем выводить пустые графики? Достаточно вывести пропуски строчкой кода, тем более их нет.</font>"
   ]
  },
  {
   "cell_type": "markdown",
   "metadata": {},
   "source": [
    "</font><font color='Blue'><b>Комментарий студента</b></font><br>\n",
    "Согласен, отрефакторил."
   ]
  },
  {
   "cell_type": "code",
   "execution_count": 9,
   "metadata": {},
   "outputs": [
    {
     "name": "stdout",
     "output_type": "stream",
     "text": [
      "Пропуски в данных о поездках:\n",
      "user_id         0\n",
      "distance        0\n",
      "duration        0\n",
      "date            0\n",
      "month_number    0\n",
      "dtype: int64\n"
     ]
    }
   ],
   "source": [
    "print(f\"Пропуски в данных о поездках:\\n{rides.isna().sum()}\")"
   ]
  },
  {
   "cell_type": "code",
   "execution_count": 10,
   "metadata": {},
   "outputs": [
    {
     "name": "stdout",
     "output_type": "stream",
     "text": [
      "Пропуски в данных о подписках:\n",
      "subscription_type    0\n",
      "minute_price         0\n",
      "start_ride_price     0\n",
      "subscription_fee     0\n",
      "dtype: int64\n"
     ]
    }
   ],
   "source": [
    "print(f\"Пропуски в данных о подписках:\\n{subscriptions.isna().sum()}\")"
   ]
  },
  {
   "cell_type": "markdown",
   "metadata": {},
   "source": [
    "### Обработаем дубликаты"
   ]
  },
  {
   "cell_type": "markdown",
   "metadata": {},
   "source": [
    "Проверим наличие явных дубликатов."
   ]
  },
  {
   "cell_type": "code",
   "execution_count": 11,
   "metadata": {},
   "outputs": [
    {
     "data": {
      "text/plain": [
       "31"
      ]
     },
     "execution_count": 11,
     "metadata": {},
     "output_type": "execute_result"
    }
   ],
   "source": [
    "users.duplicated().sum()"
   ]
  },
  {
   "cell_type": "markdown",
   "metadata": {},
   "source": [
    "Удалим явные убликаты для пользователей и обновим индекс."
   ]
  },
  {
   "cell_type": "code",
   "execution_count": 12,
   "metadata": {},
   "outputs": [],
   "source": [
    "users.drop_duplicates(inplace=True)\n"
   ]
  },
  {
   "cell_type": "markdown",
   "metadata": {},
   "source": [
    "<font color='DarkBlue'><b>Комментарий ревьюера</b></font><br>\n",
    "<font color='Red'>🛠 Не удалены дубликаты, см. код ниже. </font>"
   ]
  },
  {
   "cell_type": "markdown",
   "metadata": {},
   "source": [
    "</font><font color='Blue'><b>Комментарий студента</b></font><br>\n",
    "Обновил код"
   ]
  },
  {
   "cell_type": "code",
   "execution_count": 13,
   "metadata": {},
   "outputs": [
    {
     "data": {
      "text/plain": [
       "0"
      ]
     },
     "execution_count": 13,
     "metadata": {},
     "output_type": "execute_result"
    }
   ],
   "source": [
    "# Комментарий ревьюера\n",
    "users.duplicated().sum()"
   ]
  },
  {
   "cell_type": "code",
   "execution_count": 14,
   "metadata": {},
   "outputs": [],
   "source": [
    "users = users.reset_index(drop=True)"
   ]
  },
  {
   "cell_type": "code",
   "execution_count": 15,
   "metadata": {},
   "outputs": [
    {
     "data": {
      "text/plain": [
       "0"
      ]
     },
     "execution_count": 15,
     "metadata": {},
     "output_type": "execute_result"
    }
   ],
   "source": [
    "rides.duplicated().sum()"
   ]
  },
  {
   "cell_type": "code",
   "execution_count": 16,
   "metadata": {},
   "outputs": [
    {
     "data": {
      "text/plain": [
       "0"
      ]
     },
     "execution_count": 16,
     "metadata": {},
     "output_type": "execute_result"
    }
   ],
   "source": [
    "subscriptions.duplicated().sum()"
   ]
  },
  {
   "cell_type": "markdown",
   "metadata": {},
   "source": [
    "<font color='DarkBlue'><b>Комментарий ревьюера</b></font><br>\n",
    "<font color='Red'>🛠 Здесь ожидаются обобщающие выводы по разделу первичного анализа и предобработки данных.</font>"
   ]
  },
  {
   "cell_type": "markdown",
   "metadata": {},
   "source": [
    "</font><font color='Blue'><b>Комментарий студента</b></font><br>\n",
    "Данные относительно чистые. Удалены явные дубликаты и исправлен тип данных на дату для колонки date. Создана колонка с индексом месяца."
   ]
  },
  {
   "cell_type": "markdown",
   "metadata": {},
   "source": [
    "## EDA"
   ]
  },
  {
   "cell_type": "markdown",
   "metadata": {},
   "source": [
    "### Ознакомимся с пользователями."
   ]
  },
  {
   "cell_type": "markdown",
   "metadata": {},
   "source": [
    "<font color='DarkBlue'><b>Комментарий ревьюера</b></font><br>\n",
    "<font color='DarkMagenta'>👉 Правильно было бы посмотреть сводную статистику  методом `describe()`.</font>"
   ]
  },
  {
   "cell_type": "code",
   "execution_count": 17,
   "metadata": {},
   "outputs": [
    {
     "data": {
      "text/html": [
       "<div>\n",
       "<style scoped>\n",
       "    .dataframe tbody tr th:only-of-type {\n",
       "        vertical-align: middle;\n",
       "    }\n",
       "\n",
       "    .dataframe tbody tr th {\n",
       "        vertical-align: top;\n",
       "    }\n",
       "\n",
       "    .dataframe thead th {\n",
       "        text-align: right;\n",
       "    }\n",
       "</style>\n",
       "<table border=\"1\" class=\"dataframe\">\n",
       "  <thead>\n",
       "    <tr style=\"text-align: right;\">\n",
       "      <th></th>\n",
       "      <th>user_id</th>\n",
       "      <th>age</th>\n",
       "    </tr>\n",
       "  </thead>\n",
       "  <tbody>\n",
       "    <tr>\n",
       "      <th>count</th>\n",
       "      <td>1534.000000</td>\n",
       "      <td>1534.000000</td>\n",
       "    </tr>\n",
       "    <tr>\n",
       "      <th>mean</th>\n",
       "      <td>767.500000</td>\n",
       "      <td>24.903520</td>\n",
       "    </tr>\n",
       "    <tr>\n",
       "      <th>std</th>\n",
       "      <td>442.971971</td>\n",
       "      <td>4.572367</td>\n",
       "    </tr>\n",
       "    <tr>\n",
       "      <th>min</th>\n",
       "      <td>1.000000</td>\n",
       "      <td>12.000000</td>\n",
       "    </tr>\n",
       "    <tr>\n",
       "      <th>25%</th>\n",
       "      <td>384.250000</td>\n",
       "      <td>22.000000</td>\n",
       "    </tr>\n",
       "    <tr>\n",
       "      <th>50%</th>\n",
       "      <td>767.500000</td>\n",
       "      <td>25.000000</td>\n",
       "    </tr>\n",
       "    <tr>\n",
       "      <th>75%</th>\n",
       "      <td>1150.750000</td>\n",
       "      <td>28.000000</td>\n",
       "    </tr>\n",
       "    <tr>\n",
       "      <th>max</th>\n",
       "      <td>1534.000000</td>\n",
       "      <td>43.000000</td>\n",
       "    </tr>\n",
       "  </tbody>\n",
       "</table>\n",
       "</div>"
      ],
      "text/plain": [
       "           user_id          age\n",
       "count  1534.000000  1534.000000\n",
       "mean    767.500000    24.903520\n",
       "std     442.971971     4.572367\n",
       "min       1.000000    12.000000\n",
       "25%     384.250000    22.000000\n",
       "50%     767.500000    25.000000\n",
       "75%    1150.750000    28.000000\n",
       "max    1534.000000    43.000000"
      ]
     },
     "execution_count": 17,
     "metadata": {},
     "output_type": "execute_result"
    }
   ],
   "source": [
    "users.describe()"
   ]
  },
  {
   "cell_type": "markdown",
   "metadata": {},
   "source": [
    "Средний возраст пользователей сервисом 25 лет. При этом есть пользователи сильно моложе, которым нужно запретить официальное использование сервиса. Пенсионеры и пожилые люди вовсе не пользуются сервисом."
   ]
  },
  {
   "cell_type": "code",
   "execution_count": 18,
   "metadata": {},
   "outputs": [
    {
     "data": {
      "image/png": "[encoded data removed]",
      "text/plain": [
       "<Figure size 640x480 with 1 Axes>"
      ]
     },
     "metadata": {},
     "output_type": "display_data"
    }
   ],
   "source": [
    "users[\"age\"].hist(bins=30)\n",
    "plt.title(\"Возраст пользователей сервиса\")\n",
    "plt.xlabel(\"Возраст\")\n",
    "plt.ylabel(\"Количество пользователей\")\n",
    "plt.show()"
   ]
  },
  {
   "cell_type": "markdown",
   "metadata": {},
   "source": [
    "<font color='DarkBlue'><b>Комментарий ревьюера</b></font><br>\n",
    "<font color='Red'>🛠 Визуализация данных графиками и диаграммами подразумевает подписи всех осей и название графика  на русском языке, при необходимости наличие меток. Это относится ко всем графикам/диаграммам проекта и является критической ошибкой.</font>"
   ]
  },
  {
   "cell_type": "markdown",
   "metadata": {},
   "source": [
    "</font><font color='Blue'><b>Комментарий студента</b></font><br>\n",
    "Добавил метаданные на графики."
   ]
  },
  {
   "cell_type": "markdown",
   "metadata": {},
   "source": [
    "Чаще всего арендой электросамокатов пользуется молодёжь от 20 до 30 лет. 25 лет — самый популярный возраст."
   ]
  },
  {
   "cell_type": "markdown",
   "metadata": {},
   "source": [
    "<font color='DarkBlue'><b>Комментарий ревьюера</b></font><br>\n",
    "<font color='DarkMagenta'>👉 Следовало отметить, что среди пользователей некоторым менее 18 лет, именно с этого возраста разрешен прокат самокатов. В некоторых компаниях и регионах разрешено с 14 лет, но при письменном согласии родителей. В датасете минимальный возраст 12 лет, это явное нарушение существующих норм.</font>"
   ]
  },
  {
   "cell_type": "markdown",
   "metadata": {},
   "source": [
    "</font><font color='Blue'><b>Комментарий студента</b></font><br>\n",
    "Добавил этот вывод выше после анализа описательной статистики."
   ]
  },
  {
   "cell_type": "code",
   "execution_count": 19,
   "metadata": {},
   "outputs": [
    {
     "data": {
      "image/png": "[encoded data removed]",
      "text/plain": [
       "<Figure size 640x480 with 1 Axes>"
      ]
     },
     "metadata": {},
     "output_type": "display_data"
    }
   ],
   "source": [
    "distribution = users[\"city\"].value_counts()\n",
    "fig, ax = plt.subplots()\n",
    "ax.pie(distribution, labels = distribution.index, autopct=\"%1.1f%%\")\n",
    "ax.set_title(\"Распределене пользователей по городам\")\n",
    "plt.show()"
   ]
  },
  {
   "cell_type": "markdown",
   "metadata": {},
   "source": [
    "Пользователи распределены по городам относительно \"равномерно\"."
   ]
  },
  {
   "cell_type": "code",
   "execution_count": 20,
   "metadata": {},
   "outputs": [
    {
     "data": {
      "image/png": "[encoded data removed]",
      "text/plain": [
       "<Figure size 640x480 with 1 Axes>"
      ]
     },
     "metadata": {},
     "output_type": "display_data"
    }
   ],
   "source": [
    "distribution = users[\"subscription_type\"].value_counts()\n",
    "fig, ax = plt.subplots()\n",
    "ax.pie(distribution, labels = distribution.index, autopct=\"%1.1f%%\")\n",
    "ax.set_title(\"Распределене пользователей по типам подписок\")\n",
    "plt.show()"
   ]
  },
  {
   "cell_type": "markdown",
   "metadata": {},
   "source": [
    "Немного больше, около 10% разницы, пользователей, которые пользуются сервисом аренды без подписки."
   ]
  },
  {
   "cell_type": "markdown",
   "metadata": {},
   "source": [
    "<font color='DarkBlue'><b>Комментарий ревьюера</b></font><br>\n",
    "<font color='DarkGreen'>👌 Хорошо сделан анализ и сформулирован промежуточный вывод.</font>"
   ]
  },
  {
   "cell_type": "markdown",
   "metadata": {},
   "source": [
    "### Ознакомимся с поездками"
   ]
  },
  {
   "cell_type": "markdown",
   "metadata": {},
   "source": [
    "Рассмотрим расстояние, которое пользователи проезжают за одну поездку."
   ]
  },
  {
   "cell_type": "code",
   "execution_count": 21,
   "metadata": {},
   "outputs": [],
   "source": [
    "def rides_frequencies(df):\n",
    "    fig, (ax1, ax2) = plt.subplots(1, 2, figsize=(12, 4))\n",
    "    ax1.hist(df[\"distance\"], bins=30)\n",
    "    ax1.set_title('Частота расстояния поездки')\n",
    "    ax1.set_xlabel(\"Расстояние в метрах\")\n",
    "    ax1.set_ylabel(\"Количество пользователей\")\n",
    "\n",
    "    ax2.hist(df[\"duration\"], bins=30)\n",
    "    ax2.set_title('Частота длительности поездки')\n",
    "    ax2.set_xlabel(\"Продолжительность в минутах\")\n",
    "    ax2.set_ylabel(\"Количество пользователей\")\n",
    "\n",
    "    plt.tight_layout()\n",
    "    plt.show()"
   ]
  },
  {
   "cell_type": "markdown",
   "metadata": {},
   "source": [
    "Рассмотрим продолжительность поездок по времени и расстоянию."
   ]
  },
  {
   "cell_type": "markdown",
   "metadata": {},
   "source": [
    "<font color='DarkBlue'><b>Комментарий ревьюера</b></font><br>\n",
    "<font color='DarkMagenta'>👉 Правильно было бы посмотреть сводную статистику расстояний и времени поездок  методом `describe()`.</font>"
   ]
  },
  {
   "cell_type": "code",
   "execution_count": 22,
   "metadata": {},
   "outputs": [
    {
     "data": {
      "text/html": [
       "<div>\n",
       "<style scoped>\n",
       "    .dataframe tbody tr th:only-of-type {\n",
       "        vertical-align: middle;\n",
       "    }\n",
       "\n",
       "    .dataframe tbody tr th {\n",
       "        vertical-align: top;\n",
       "    }\n",
       "\n",
       "    .dataframe thead th {\n",
       "        text-align: right;\n",
       "    }\n",
       "</style>\n",
       "<table border=\"1\" class=\"dataframe\">\n",
       "  <thead>\n",
       "    <tr style=\"text-align: right;\">\n",
       "      <th></th>\n",
       "      <th>distance</th>\n",
       "      <th>duration</th>\n",
       "    </tr>\n",
       "  </thead>\n",
       "  <tbody>\n",
       "    <tr>\n",
       "      <th>count</th>\n",
       "      <td>18068.000000</td>\n",
       "      <td>18068.000000</td>\n",
       "    </tr>\n",
       "    <tr>\n",
       "      <th>mean</th>\n",
       "      <td>3070.659976</td>\n",
       "      <td>17.805011</td>\n",
       "    </tr>\n",
       "    <tr>\n",
       "      <th>std</th>\n",
       "      <td>1116.831209</td>\n",
       "      <td>6.091051</td>\n",
       "    </tr>\n",
       "    <tr>\n",
       "      <th>min</th>\n",
       "      <td>0.855683</td>\n",
       "      <td>0.500000</td>\n",
       "    </tr>\n",
       "    <tr>\n",
       "      <th>25%</th>\n",
       "      <td>2543.226360</td>\n",
       "      <td>13.597563</td>\n",
       "    </tr>\n",
       "    <tr>\n",
       "      <th>50%</th>\n",
       "      <td>3133.609994</td>\n",
       "      <td>17.678395</td>\n",
       "    </tr>\n",
       "    <tr>\n",
       "      <th>75%</th>\n",
       "      <td>3776.222735</td>\n",
       "      <td>21.724800</td>\n",
       "    </tr>\n",
       "    <tr>\n",
       "      <th>max</th>\n",
       "      <td>7211.007745</td>\n",
       "      <td>40.823963</td>\n",
       "    </tr>\n",
       "  </tbody>\n",
       "</table>\n",
       "</div>"
      ],
      "text/plain": [
       "           distance      duration\n",
       "count  18068.000000  18068.000000\n",
       "mean    3070.659976     17.805011\n",
       "std     1116.831209      6.091051\n",
       "min        0.855683      0.500000\n",
       "25%     2543.226360     13.597563\n",
       "50%     3133.609994     17.678395\n",
       "75%     3776.222735     21.724800\n",
       "max     7211.007745     40.823963"
      ]
     },
     "execution_count": 22,
     "metadata": {},
     "output_type": "execute_result"
    }
   ],
   "source": [
    "rides[[\"distance\", \"duration\"]].describe()"
   ]
  },
  {
   "cell_type": "markdown",
   "metadata": {},
   "source": [
    "Видим что пользователи в в среднем проезжают около 3 км и поездка длится около 18 минут."
   ]
  },
  {
   "cell_type": "code",
   "execution_count": 23,
   "metadata": {},
   "outputs": [
    {
     "data": {
      "image/png": "[encoded data removed]",
      "text/plain": [
       "<Figure size 1200x400 with 2 Axes>"
      ]
     },
     "metadata": {},
     "output_type": "display_data"
    }
   ],
   "source": [
    "rides_frequencies(rides)"
   ]
  },
  {
   "cell_type": "markdown",
   "metadata": {},
   "source": [
    "Обратим внимание, что график частот расстояния поездок мультимодальный. Пользователи проезжают либо около 600 метров, либо значительно больше, около 3100 метров."
   ]
  },
  {
   "cell_type": "markdown",
   "metadata": {},
   "source": [
    "<font color='DarkBlue'><b>Комментарий ревьюера</b></font><br>\n",
    "<font color='DarkGreen'>👌 Хорошо сделан анализ расстояния поездок и обращено внимание на короткие поездки и дальние поездки.</font>"
   ]
  },
  {
   "cell_type": "markdown",
   "metadata": {},
   "source": [
    "График частот времени поездок тоже мультимодальный. Пользователи едут либо около 1 минуты, либо значительно больше, около 19 минут. При этом заметно, что дисперсия графика по продолжительности поездки выше, чем по расстоянию."
   ]
  },
  {
   "cell_type": "markdown",
   "metadata": {},
   "source": [
    "<font color='DarkBlue'><b>Комментарий ревьюера</b></font><br>\n",
    "<font color='DarkGreen'>👌 Хорошо, что отмечена аномалия. Только при длительности поездки 0,5 минуты расстояние более 4000 метров.<br>\n",
    "Не смотря на такую низкую продолжительность поездки, эти данные удалять не рекомендуется, так как в дальнейшем производится расчет выручки, которая определяет финансовый результат Сервиса аранды самокатов. Например, пользователь без подписки оплачивает фиксированную сумму только за старт поездки. Более того, в таблице видно, что эти аномально низкие поездки имеют достаточное расстояние поездки, которое то же будет анализироваться далее. А вот данный факт аномальных значений следует отметить в итоговом выводе для дальнейшей диагностики средств контроля времени поездки.</font>\n",
    "<br><font color='DarkMagenta'>👉 При удалении данных надо всегда иметь ввиду, что удаляются полностью строки датасета, которые содержат другие данные значимые для последующего анализа.</font>"
   ]
  },
  {
   "cell_type": "code",
   "execution_count": 24,
   "metadata": {},
   "outputs": [
    {
     "data": {
      "text/html": [
       "<div>\n",
       "<style scoped>\n",
       "    .dataframe tbody tr th:only-of-type {\n",
       "        vertical-align: middle;\n",
       "    }\n",
       "\n",
       "    .dataframe tbody tr th {\n",
       "        vertical-align: top;\n",
       "    }\n",
       "\n",
       "    .dataframe thead th {\n",
       "        text-align: right;\n",
       "    }\n",
       "</style>\n",
       "<table border=\"1\" class=\"dataframe\">\n",
       "  <thead>\n",
       "    <tr style=\"text-align: right;\">\n",
       "      <th></th>\n",
       "      <th>distance</th>\n",
       "      <th>duration</th>\n",
       "    </tr>\n",
       "  </thead>\n",
       "  <tbody>\n",
       "    <tr>\n",
       "      <th>count</th>\n",
       "      <td>95.000000</td>\n",
       "      <td>95.0</td>\n",
       "    </tr>\n",
       "    <tr>\n",
       "      <th>mean</th>\n",
       "      <td>5113.176549</td>\n",
       "      <td>0.5</td>\n",
       "    </tr>\n",
       "    <tr>\n",
       "      <th>std</th>\n",
       "      <td>658.254104</td>\n",
       "      <td>0.0</td>\n",
       "    </tr>\n",
       "    <tr>\n",
       "      <th>min</th>\n",
       "      <td>4030.308008</td>\n",
       "      <td>0.5</td>\n",
       "    </tr>\n",
       "    <tr>\n",
       "      <th>25%</th>\n",
       "      <td>4611.510820</td>\n",
       "      <td>0.5</td>\n",
       "    </tr>\n",
       "    <tr>\n",
       "      <th>50%</th>\n",
       "      <td>5052.769411</td>\n",
       "      <td>0.5</td>\n",
       "    </tr>\n",
       "    <tr>\n",
       "      <th>75%</th>\n",
       "      <td>5488.459099</td>\n",
       "      <td>0.5</td>\n",
       "    </tr>\n",
       "    <tr>\n",
       "      <th>max</th>\n",
       "      <td>7211.007745</td>\n",
       "      <td>0.5</td>\n",
       "    </tr>\n",
       "  </tbody>\n",
       "</table>\n",
       "</div>"
      ],
      "text/plain": [
       "          distance  duration\n",
       "count    95.000000      95.0\n",
       "mean   5113.176549       0.5\n",
       "std     658.254104       0.0\n",
       "min    4030.308008       0.5\n",
       "25%    4611.510820       0.5\n",
       "50%    5052.769411       0.5\n",
       "75%    5488.459099       0.5\n",
       "max    7211.007745       0.5"
      ]
     },
     "execution_count": 24,
     "metadata": {},
     "output_type": "execute_result"
    }
   ],
   "source": [
    "rides[rides[\"duration\"] < 2][[\"distance\", \"duration\"]].describe()"
   ]
  },
  {
   "cell_type": "markdown",
   "metadata": {},
   "source": [
    "</font><font color='Blue'><b>Комментарий студента</b></font><br>\n",
    "Более детальный анализ непродолжительных поездок показал, что в датасете есть аномалия. Пользователи проезжают невозможно большое расстояние за полминуты."
   ]
  },
  {
   "cell_type": "markdown",
   "metadata": {},
   "source": [
    "<font color='DarkBlue'><b>Комментарий ревьюера</b></font><br>\n",
    "<font color='Red'>🛠 Раздел исследовательского анализа данных должен заканчиваться обобщающим выводом.</font>"
   ]
  },
  {
   "cell_type": "markdown",
   "metadata": {},
   "source": [
    "</font><font color='Blue'><b>Комментарий студента</b></font><br>\n",
    "- Делаем вывод, что при необходимости сравнительного анализа по городам данные могут быть использованы т.к. для каждого города их достаточно.\n",
    "- Для обоих типов подписки собраны данные достаточного количества пользователей чтобы анализировать эти группы между собой.\n",
    "- Расстояние поездки имеет меньший разброс данных вокруг мод нежели время поездки.\n",
    "- В данных содержится аномалия. Существуют нереалистично короткие поездки для их расстояния."
   ]
  },
  {
   "cell_type": "markdown",
   "metadata": {},
   "source": [
    "### Объединим части данных"
   ]
  },
  {
   "cell_type": "code",
   "execution_count": 25,
   "metadata": {},
   "outputs": [
    {
     "name": "stdout",
     "output_type": "stream",
     "text": [
      "<class 'pandas.core.frame.DataFrame'>\n",
      "Int64Index: 18068 entries, 0 to 18067\n",
      "Data columns (total 12 columns):\n",
      " #   Column             Non-Null Count  Dtype         \n",
      "---  ------             --------------  -----         \n",
      " 0   user_id            18068 non-null  int64         \n",
      " 1   distance           18068 non-null  float64       \n",
      " 2   duration           18068 non-null  float64       \n",
      " 3   date               18068 non-null  datetime64[ns]\n",
      " 4   month_number       18068 non-null  int64         \n",
      " 5   name               18068 non-null  object        \n",
      " 6   age                18068 non-null  int64         \n",
      " 7   city               18068 non-null  object        \n",
      " 8   subscription_type  18068 non-null  object        \n",
      " 9   minute_price       18068 non-null  int64         \n",
      " 10  start_ride_price   18068 non-null  int64         \n",
      " 11  subscription_fee   18068 non-null  int64         \n",
      "dtypes: datetime64[ns](1), float64(2), int64(6), object(3)\n",
      "memory usage: 1.8+ MB\n"
     ]
    }
   ],
   "source": [
    "df = rides.merge(users, on='user_id', how='left').merge(subscriptions, on='subscription_type', how='left')\n",
    "df.info()"
   ]
  },
  {
   "cell_type": "markdown",
   "metadata": {},
   "source": [
    "Добавим два датафрейма с пользователями у которых есть и отсутствует подписка для удобства. "
   ]
  },
  {
   "cell_type": "code",
   "execution_count": 26,
   "metadata": {},
   "outputs": [
    {
     "name": "stdout",
     "output_type": "stream",
     "text": [
      "<class 'pandas.core.frame.DataFrame'>\n",
      "RangeIndex: 6500 entries, 0 to 6499\n",
      "Data columns (total 12 columns):\n",
      " #   Column             Non-Null Count  Dtype         \n",
      "---  ------             --------------  -----         \n",
      " 0   user_id            6500 non-null   int64         \n",
      " 1   distance           6500 non-null   float64       \n",
      " 2   duration           6500 non-null   float64       \n",
      " 3   date               6500 non-null   datetime64[ns]\n",
      " 4   month_number       6500 non-null   int64         \n",
      " 5   name               6500 non-null   object        \n",
      " 6   age                6500 non-null   int64         \n",
      " 7   city               6500 non-null   object        \n",
      " 8   subscription_type  6500 non-null   object        \n",
      " 9   minute_price       6500 non-null   int64         \n",
      " 10  start_ride_price   6500 non-null   int64         \n",
      " 11  subscription_fee   6500 non-null   int64         \n",
      "dtypes: datetime64[ns](1), float64(2), int64(6), object(3)\n",
      "memory usage: 609.5+ KB\n"
     ]
    }
   ],
   "source": [
    "subscribed = df[df[\"subscription_type\"] == \"ultra\"].reset_index(drop=True)\n",
    "subscribed.info()"
   ]
  },
  {
   "cell_type": "code",
   "execution_count": 27,
   "metadata": {},
   "outputs": [
    {
     "name": "stdout",
     "output_type": "stream",
     "text": [
      "<class 'pandas.core.frame.DataFrame'>\n",
      "RangeIndex: 11568 entries, 0 to 11567\n",
      "Data columns (total 12 columns):\n",
      " #   Column             Non-Null Count  Dtype         \n",
      "---  ------             --------------  -----         \n",
      " 0   user_id            11568 non-null  int64         \n",
      " 1   distance           11568 non-null  float64       \n",
      " 2   duration           11568 non-null  float64       \n",
      " 3   date               11568 non-null  datetime64[ns]\n",
      " 4   month_number       11568 non-null  int64         \n",
      " 5   name               11568 non-null  object        \n",
      " 6   age                11568 non-null  int64         \n",
      " 7   city               11568 non-null  object        \n",
      " 8   subscription_type  11568 non-null  object        \n",
      " 9   minute_price       11568 non-null  int64         \n",
      " 10  start_ride_price   11568 non-null  int64         \n",
      " 11  subscription_fee   11568 non-null  int64         \n",
      "dtypes: datetime64[ns](1), float64(2), int64(6), object(3)\n",
      "memory usage: 1.1+ MB\n"
     ]
    }
   ],
   "source": [
    "unsubscribed = df.loc[df.index.difference(subscribed.index)].reset_index(drop=True)\n",
    "unsubscribed.info()"
   ]
  },
  {
   "cell_type": "markdown",
   "metadata": {},
   "source": [
    "<font color='DarkBlue'><b>Комментарий ревьюера</b></font><br>\n",
    "<font color='DarkMagenta'>👉 После создания двух новых датасетов следовало вывести по несколько строк каждого.</font>"
   ]
  },
  {
   "cell_type": "code",
   "execution_count": 28,
   "metadata": {},
   "outputs": [
    {
     "data": {
      "text/html": [
       "<div>\n",
       "<style scoped>\n",
       "    .dataframe tbody tr th:only-of-type {\n",
       "        vertical-align: middle;\n",
       "    }\n",
       "\n",
       "    .dataframe tbody tr th {\n",
       "        vertical-align: top;\n",
       "    }\n",
       "\n",
       "    .dataframe thead th {\n",
       "        text-align: right;\n",
       "    }\n",
       "</style>\n",
       "<table border=\"1\" class=\"dataframe\">\n",
       "  <thead>\n",
       "    <tr style=\"text-align: right;\">\n",
       "      <th></th>\n",
       "      <th>user_id</th>\n",
       "      <th>distance</th>\n",
       "      <th>duration</th>\n",
       "      <th>date</th>\n",
       "      <th>month_number</th>\n",
       "      <th>name</th>\n",
       "      <th>age</th>\n",
       "      <th>city</th>\n",
       "      <th>subscription_type</th>\n",
       "      <th>minute_price</th>\n",
       "      <th>start_ride_price</th>\n",
       "      <th>subscription_fee</th>\n",
       "    </tr>\n",
       "  </thead>\n",
       "  <tbody>\n",
       "    <tr>\n",
       "      <th>0</th>\n",
       "      <td>1</td>\n",
       "      <td>4409.919140</td>\n",
       "      <td>25.599769</td>\n",
       "      <td>2021-01-01</td>\n",
       "      <td>1</td>\n",
       "      <td>Кира</td>\n",
       "      <td>22</td>\n",
       "      <td>Тюмень</td>\n",
       "      <td>ultra</td>\n",
       "      <td>6</td>\n",
       "      <td>0</td>\n",
       "      <td>199</td>\n",
       "    </tr>\n",
       "    <tr>\n",
       "      <th>1</th>\n",
       "      <td>1</td>\n",
       "      <td>2617.592153</td>\n",
       "      <td>15.816871</td>\n",
       "      <td>2021-01-18</td>\n",
       "      <td>1</td>\n",
       "      <td>Кира</td>\n",
       "      <td>22</td>\n",
       "      <td>Тюмень</td>\n",
       "      <td>ultra</td>\n",
       "      <td>6</td>\n",
       "      <td>0</td>\n",
       "      <td>199</td>\n",
       "    </tr>\n",
       "    <tr>\n",
       "      <th>2</th>\n",
       "      <td>1</td>\n",
       "      <td>754.159807</td>\n",
       "      <td>6.232113</td>\n",
       "      <td>2021-04-20</td>\n",
       "      <td>4</td>\n",
       "      <td>Кира</td>\n",
       "      <td>22</td>\n",
       "      <td>Тюмень</td>\n",
       "      <td>ultra</td>\n",
       "      <td>6</td>\n",
       "      <td>0</td>\n",
       "      <td>199</td>\n",
       "    </tr>\n",
       "    <tr>\n",
       "      <th>3</th>\n",
       "      <td>1</td>\n",
       "      <td>2694.783254</td>\n",
       "      <td>18.511000</td>\n",
       "      <td>2021-08-11</td>\n",
       "      <td>8</td>\n",
       "      <td>Кира</td>\n",
       "      <td>22</td>\n",
       "      <td>Тюмень</td>\n",
       "      <td>ultra</td>\n",
       "      <td>6</td>\n",
       "      <td>0</td>\n",
       "      <td>199</td>\n",
       "    </tr>\n",
       "    <tr>\n",
       "      <th>4</th>\n",
       "      <td>1</td>\n",
       "      <td>4028.687306</td>\n",
       "      <td>26.265803</td>\n",
       "      <td>2021-08-28</td>\n",
       "      <td>8</td>\n",
       "      <td>Кира</td>\n",
       "      <td>22</td>\n",
       "      <td>Тюмень</td>\n",
       "      <td>ultra</td>\n",
       "      <td>6</td>\n",
       "      <td>0</td>\n",
       "      <td>199</td>\n",
       "    </tr>\n",
       "  </tbody>\n",
       "</table>\n",
       "</div>"
      ],
      "text/plain": [
       "   user_id     distance   duration       date  month_number  name  age  \\\n",
       "0        1  4409.919140  25.599769 2021-01-01             1  Кира   22   \n",
       "1        1  2617.592153  15.816871 2021-01-18             1  Кира   22   \n",
       "2        1   754.159807   6.232113 2021-04-20             4  Кира   22   \n",
       "3        1  2694.783254  18.511000 2021-08-11             8  Кира   22   \n",
       "4        1  4028.687306  26.265803 2021-08-28             8  Кира   22   \n",
       "\n",
       "     city subscription_type  minute_price  start_ride_price  subscription_fee  \n",
       "0  Тюмень             ultra             6                 0               199  \n",
       "1  Тюмень             ultra             6                 0               199  \n",
       "2  Тюмень             ultra             6                 0               199  \n",
       "3  Тюмень             ultra             6                 0               199  \n",
       "4  Тюмень             ultra             6                 0               199  "
      ]
     },
     "execution_count": 28,
     "metadata": {},
     "output_type": "execute_result"
    }
   ],
   "source": [
    "subscribed.head()"
   ]
  },
  {
   "cell_type": "code",
   "execution_count": 29,
   "metadata": {},
   "outputs": [
    {
     "data": {
      "text/html": [
       "<div>\n",
       "<style scoped>\n",
       "    .dataframe tbody tr th:only-of-type {\n",
       "        vertical-align: middle;\n",
       "    }\n",
       "\n",
       "    .dataframe tbody tr th {\n",
       "        vertical-align: top;\n",
       "    }\n",
       "\n",
       "    .dataframe thead th {\n",
       "        text-align: right;\n",
       "    }\n",
       "</style>\n",
       "<table border=\"1\" class=\"dataframe\">\n",
       "  <thead>\n",
       "    <tr style=\"text-align: right;\">\n",
       "      <th></th>\n",
       "      <th>user_id</th>\n",
       "      <th>distance</th>\n",
       "      <th>duration</th>\n",
       "      <th>date</th>\n",
       "      <th>month_number</th>\n",
       "      <th>name</th>\n",
       "      <th>age</th>\n",
       "      <th>city</th>\n",
       "      <th>subscription_type</th>\n",
       "      <th>minute_price</th>\n",
       "      <th>start_ride_price</th>\n",
       "      <th>subscription_fee</th>\n",
       "    </tr>\n",
       "  </thead>\n",
       "  <tbody>\n",
       "    <tr>\n",
       "      <th>0</th>\n",
       "      <td>700</td>\n",
       "      <td>2515.690719</td>\n",
       "      <td>14.944286</td>\n",
       "      <td>2021-01-02</td>\n",
       "      <td>1</td>\n",
       "      <td>Айдар</td>\n",
       "      <td>22</td>\n",
       "      <td>Омск</td>\n",
       "      <td>free</td>\n",
       "      <td>8</td>\n",
       "      <td>50</td>\n",
       "      <td>0</td>\n",
       "    </tr>\n",
       "    <tr>\n",
       "      <th>1</th>\n",
       "      <td>700</td>\n",
       "      <td>846.932642</td>\n",
       "      <td>16.234663</td>\n",
       "      <td>2021-02-01</td>\n",
       "      <td>2</td>\n",
       "      <td>Айдар</td>\n",
       "      <td>22</td>\n",
       "      <td>Омск</td>\n",
       "      <td>free</td>\n",
       "      <td>8</td>\n",
       "      <td>50</td>\n",
       "      <td>0</td>\n",
       "    </tr>\n",
       "    <tr>\n",
       "      <th>2</th>\n",
       "      <td>700</td>\n",
       "      <td>4004.434142</td>\n",
       "      <td>20.016628</td>\n",
       "      <td>2021-02-04</td>\n",
       "      <td>2</td>\n",
       "      <td>Айдар</td>\n",
       "      <td>22</td>\n",
       "      <td>Омск</td>\n",
       "      <td>free</td>\n",
       "      <td>8</td>\n",
       "      <td>50</td>\n",
       "      <td>0</td>\n",
       "    </tr>\n",
       "    <tr>\n",
       "      <th>3</th>\n",
       "      <td>700</td>\n",
       "      <td>1205.911290</td>\n",
       "      <td>9.782872</td>\n",
       "      <td>2021-02-10</td>\n",
       "      <td>2</td>\n",
       "      <td>Айдар</td>\n",
       "      <td>22</td>\n",
       "      <td>Омск</td>\n",
       "      <td>free</td>\n",
       "      <td>8</td>\n",
       "      <td>50</td>\n",
       "      <td>0</td>\n",
       "    </tr>\n",
       "    <tr>\n",
       "      <th>4</th>\n",
       "      <td>700</td>\n",
       "      <td>3047.379435</td>\n",
       "      <td>17.427673</td>\n",
       "      <td>2021-02-14</td>\n",
       "      <td>2</td>\n",
       "      <td>Айдар</td>\n",
       "      <td>22</td>\n",
       "      <td>Омск</td>\n",
       "      <td>free</td>\n",
       "      <td>8</td>\n",
       "      <td>50</td>\n",
       "      <td>0</td>\n",
       "    </tr>\n",
       "  </tbody>\n",
       "</table>\n",
       "</div>"
      ],
      "text/plain": [
       "   user_id     distance   duration       date  month_number   name  age  city  \\\n",
       "0      700  2515.690719  14.944286 2021-01-02             1  Айдар   22  Омск   \n",
       "1      700   846.932642  16.234663 2021-02-01             2  Айдар   22  Омск   \n",
       "2      700  4004.434142  20.016628 2021-02-04             2  Айдар   22  Омск   \n",
       "3      700  1205.911290   9.782872 2021-02-10             2  Айдар   22  Омск   \n",
       "4      700  3047.379435  17.427673 2021-02-14             2  Айдар   22  Омск   \n",
       "\n",
       "  subscription_type  minute_price  start_ride_price  subscription_fee  \n",
       "0              free             8                50                 0  \n",
       "1              free             8                50                 0  \n",
       "2              free             8                50                 0  \n",
       "3              free             8                50                 0  \n",
       "4              free             8                50                 0  "
      ]
     },
     "execution_count": 29,
     "metadata": {},
     "output_type": "execute_result"
    }
   ],
   "source": [
    "unsubscribed.head()"
   ]
  },
  {
   "cell_type": "markdown",
   "metadata": {},
   "source": [
    "### Изучим, какие частоты у расстояния поездок и времени поездок для пользователей с подписками и без"
   ]
  },
  {
   "cell_type": "code",
   "execution_count": 30,
   "metadata": {},
   "outputs": [
    {
     "name": "stdout",
     "output_type": "stream",
     "text": [
      "Пользователи с подпиской\n"
     ]
    },
    {
     "data": {
      "image/png": "[encoded data removed]",
      "text/plain": [
       "<Figure size 1200x400 with 2 Axes>"
      ]
     },
     "metadata": {},
     "output_type": "display_data"
    }
   ],
   "source": [
    "print(\"Пользователи с подпиской\")\n",
    "rides_frequencies(subscribed)"
   ]
  },
  {
   "cell_type": "code",
   "execution_count": 31,
   "metadata": {},
   "outputs": [
    {
     "name": "stdout",
     "output_type": "stream",
     "text": [
      "Пользователи без подписки\n"
     ]
    },
    {
     "data": {
      "image/png": "[encoded data removed]",
      "text/plain": [
       "<Figure size 1200x400 with 2 Axes>"
      ]
     },
     "metadata": {},
     "output_type": "display_data"
    }
   ],
   "source": [
    "print(\"Пользователи без подписки\")\n",
    "rides_frequencies(unsubscribed)"
   ]
  },
  {
   "attachments": {
    "image.png": {
     "image/png": "[encoded data removed]"
    }
   },
   "cell_type": "markdown",
   "metadata": {},
   "source": [
    "<font color='DarkBlue'><b>Комментарий ревьюера</b></font><br>\n",
    "<font color='DarkMagenta'>👉 Следовало разместить графики на одной координатной сетке, так как проводится сравнительный анализ. Примерно вот так:</font>\n",
    "![image.png](attachment:image.png)"
   ]
  },
  {
   "cell_type": "code",
   "execution_count": 32,
   "metadata": {},
   "outputs": [
    {
     "data": {
      "image/png": "[encoded data removed]",
      "text/plain": [
       "<Figure size 1600x600 with 1 Axes>"
      ]
     },
     "metadata": {},
     "output_type": "display_data"
    }
   ],
   "source": [
    "fig, ax1 = plt.subplots(1, 1, figsize=(16, 6))\n",
    "ax1.hist([subscribed[\"distance\"], unsubscribed[\"distance\"]], bins = \"auto\", label=['Подписанные', 'Без подписки'], stacked = True, alpha = 0.8)\n",
    "ax1.set_title('Расстояния поездок')\n",
    "ax1.set_xlabel(\"Расстояние в метрах\")\n",
    "ax1.set_ylabel(\"Количество пользователей\")\n",
    "ax1.axvline(x=subscribed[\"distance\"].median(), c=\"blue\", label = \"Медиана подписанных\", ls = '--', lw = 2)\n",
    "ax1.axvline(x=unsubscribed[\"distance\"].median(), c=\"orange\", label = \"Медиана без подписки\", ls = '--', lw = 2)\n",
    "ax1.legend(loc='upper right')\n",
    "\n",
    "plt.show()"
   ]
  },
  {
   "cell_type": "markdown",
   "metadata": {},
   "source": [
    "Пользователи без подписки раньше заканчивают непродолжительные, менее 2 км, поездки. И чаще ездят на большие, более 5 км, расстояния."
   ]
  },
  {
   "cell_type": "code",
   "execution_count": 33,
   "metadata": {},
   "outputs": [
    {
     "data": {
      "image/png": "[encoded data removed]",
      "text/plain": [
       "<Figure size 1600x600 with 1 Axes>"
      ]
     },
     "metadata": {},
     "output_type": "display_data"
    }
   ],
   "source": [
    "fig, ax1 = plt.subplots(1, 1, figsize=(16, 6))\n",
    "ax1.hist([subscribed[\"duration\"], unsubscribed[\"duration\"]], bins = \"auto\", label=['Подписанные', 'Без подписки'], stacked = True, alpha = 0.8)\n",
    "ax1.set_title('Продолжительность поездок')\n",
    "ax1.set_xlabel(\"Время в минутах\")\n",
    "ax1.set_ylabel(\"Количество пользователей\")\n",
    "ax1.axvline(x=subscribed[\"duration\"].median(), c=\"blue\", label = \"Медиана подписанных\", ls = '--', lw = 2)\n",
    "ax1.axvline(x=unsubscribed[\"duration\"].median(), c=\"orange\", label = \"Медиана без подписки\", ls = '--', lw = 2)\n",
    "ax1.legend(loc='upper right')\n",
    "\n",
    "plt.show()"
   ]
  },
  {
   "cell_type": "markdown",
   "metadata": {},
   "source": [
    "Продолжительность поездок имеет аномалию для пользователей без подписки. Подписанные пользователи немного чаще едут дольше и при этом их продолжительность поездки имеет большую дисперсию. Так же пользователи без подписки крайне редкоездят более 36 минут за поездку, что нельзя сказать про пользователей с подпиской."
   ]
  },
  {
   "cell_type": "markdown",
   "metadata": {},
   "source": [
    "<font color='DarkBlue'><b>Комментарий ревьюера</b></font><br>\n",
    "<font color='Red'>🛠 Каким образом \"пользователи без подписки чаще заканчивают поездку на первой минуте\"? Таках пользователей всего 95, а максимум находится в районе 19 минут.</font>"
   ]
  },
  {
   "cell_type": "markdown",
   "metadata": {},
   "source": [
    "</font><font color='Blue'><b>Комментарий студента</b></font><br>\n",
    "Изменил выводы выше."
   ]
  },
  {
   "cell_type": "markdown",
   "metadata": {},
   "source": [
    "## Подсчёт выручки"
   ]
  },
  {
   "cell_type": "markdown",
   "metadata": {},
   "source": [
    "<font color='DarkBlue'><b>Комментарий ревьюера</b></font><br>\n",
    "<font color='Red'>🛠 Согласно заданию длительность каждой поездки должна быть округлена до целой минуты до суммирования за месяц.</font>"
   ]
  },
  {
   "cell_type": "markdown",
   "metadata": {},
   "source": [
    "</font><font color='Blue'><b>Комментарий студента</b></font><br>\n",
    "Изменил код."
   ]
  },
  {
   "cell_type": "code",
   "execution_count": 34,
   "metadata": {},
   "outputs": [
    {
     "data": {
      "text/html": [
       "<div>\n",
       "<style scoped>\n",
       "    .dataframe tbody tr th:only-of-type {\n",
       "        vertical-align: middle;\n",
       "    }\n",
       "\n",
       "    .dataframe tbody tr th {\n",
       "        vertical-align: top;\n",
       "    }\n",
       "\n",
       "    .dataframe thead th {\n",
       "        text-align: right;\n",
       "    }\n",
       "</style>\n",
       "<table border=\"1\" class=\"dataframe\">\n",
       "  <thead>\n",
       "    <tr style=\"text-align: right;\">\n",
       "      <th></th>\n",
       "      <th>user_id</th>\n",
       "      <th>month_number</th>\n",
       "      <th>total_distance</th>\n",
       "      <th>rides_count</th>\n",
       "      <th>total_duration</th>\n",
       "    </tr>\n",
       "  </thead>\n",
       "  <tbody>\n",
       "    <tr>\n",
       "      <th>0</th>\n",
       "      <td>1</td>\n",
       "      <td>1</td>\n",
       "      <td>7027.511294</td>\n",
       "      <td>2</td>\n",
       "      <td>42.0</td>\n",
       "    </tr>\n",
       "    <tr>\n",
       "      <th>1</th>\n",
       "      <td>1</td>\n",
       "      <td>4</td>\n",
       "      <td>754.159807</td>\n",
       "      <td>1</td>\n",
       "      <td>7.0</td>\n",
       "    </tr>\n",
       "    <tr>\n",
       "      <th>2</th>\n",
       "      <td>1</td>\n",
       "      <td>8</td>\n",
       "      <td>6723.470560</td>\n",
       "      <td>2</td>\n",
       "      <td>46.0</td>\n",
       "    </tr>\n",
       "    <tr>\n",
       "      <th>3</th>\n",
       "      <td>1</td>\n",
       "      <td>10</td>\n",
       "      <td>5809.911100</td>\n",
       "      <td>2</td>\n",
       "      <td>32.0</td>\n",
       "    </tr>\n",
       "    <tr>\n",
       "      <th>4</th>\n",
       "      <td>1</td>\n",
       "      <td>11</td>\n",
       "      <td>7003.499363</td>\n",
       "      <td>3</td>\n",
       "      <td>56.0</td>\n",
       "    </tr>\n",
       "  </tbody>\n",
       "</table>\n",
       "</div>"
      ],
      "text/plain": [
       "   user_id  month_number  total_distance  rides_count  total_duration\n",
       "0        1             1     7027.511294            2            42.0\n",
       "1        1             4      754.159807            1             7.0\n",
       "2        1             8     6723.470560            2            46.0\n",
       "3        1            10     5809.911100            2            32.0\n",
       "4        1            11     7003.499363            3            56.0"
      ]
     },
     "execution_count": 34,
     "metadata": {},
     "output_type": "execute_result"
    }
   ],
   "source": [
    "df[\"duration\"] = np.ceil(df[\"duration\"])\n",
    "user_stats = df.groupby([\"user_id\", \"month_number\"]).agg(\n",
    "    total_distance = (\"distance\", \"sum\"),\n",
    "    rides_count = (\"distance\", \"count\"),\n",
    "    total_duration = (\"duration\", \"sum\")\n",
    ").reset_index()\n",
    "user_stats.head()"
   ]
  },
  {
   "attachments": {
    "image.png": {
     "image/png": "[encoded data removed]"
    }
   },
   "cell_type": "markdown",
   "metadata": {},
   "source": [
    "<font color='DarkBlue'><b>Комментарий ревьюера</b></font><br>\n",
    "<font color='Red'>🛠 Не правильно создана таблица, агрегирование должно быть проведено по месяцам.</font>\n",
    "![image.png](attachment:image.png)"
   ]
  },
  {
   "cell_type": "code",
   "execution_count": 54,
   "metadata": {},
   "outputs": [
    {
     "data": {
      "text/html": [
       "<div>\n",
       "<style scoped>\n",
       "    .dataframe tbody tr th:only-of-type {\n",
       "        vertical-align: middle;\n",
       "    }\n",
       "\n",
       "    .dataframe tbody tr th {\n",
       "        vertical-align: top;\n",
       "    }\n",
       "\n",
       "    .dataframe thead th {\n",
       "        text-align: right;\n",
       "    }\n",
       "</style>\n",
       "<table border=\"1\" class=\"dataframe\">\n",
       "  <thead>\n",
       "    <tr style=\"text-align: right;\">\n",
       "      <th></th>\n",
       "      <th>user_id</th>\n",
       "      <th>month_number</th>\n",
       "      <th>total_distance</th>\n",
       "      <th>rides_count</th>\n",
       "      <th>total_duration</th>\n",
       "      <th>revenue</th>\n",
       "    </tr>\n",
       "  </thead>\n",
       "  <tbody>\n",
       "    <tr>\n",
       "      <th>0</th>\n",
       "      <td>1</td>\n",
       "      <td>1</td>\n",
       "      <td>7027.511294</td>\n",
       "      <td>2</td>\n",
       "      <td>42.0</td>\n",
       "      <td>451</td>\n",
       "    </tr>\n",
       "    <tr>\n",
       "      <th>1</th>\n",
       "      <td>1</td>\n",
       "      <td>4</td>\n",
       "      <td>754.159807</td>\n",
       "      <td>1</td>\n",
       "      <td>7.0</td>\n",
       "      <td>241</td>\n",
       "    </tr>\n",
       "    <tr>\n",
       "      <th>2</th>\n",
       "      <td>1</td>\n",
       "      <td>8</td>\n",
       "      <td>6723.470560</td>\n",
       "      <td>2</td>\n",
       "      <td>46.0</td>\n",
       "      <td>475</td>\n",
       "    </tr>\n",
       "    <tr>\n",
       "      <th>3</th>\n",
       "      <td>1</td>\n",
       "      <td>10</td>\n",
       "      <td>5809.911100</td>\n",
       "      <td>2</td>\n",
       "      <td>32.0</td>\n",
       "      <td>391</td>\n",
       "    </tr>\n",
       "    <tr>\n",
       "      <th>4</th>\n",
       "      <td>1</td>\n",
       "      <td>11</td>\n",
       "      <td>7003.499363</td>\n",
       "      <td>3</td>\n",
       "      <td>56.0</td>\n",
       "      <td>535</td>\n",
       "    </tr>\n",
       "  </tbody>\n",
       "</table>\n",
       "</div>"
      ],
      "text/plain": [
       "   user_id  month_number  total_distance  rides_count  total_duration  revenue\n",
       "0        1             1     7027.511294            2            42.0      451\n",
       "1        1             4      754.159807            1             7.0      241\n",
       "2        1             8     6723.470560            2            46.0      475\n",
       "3        1            10     5809.911100            2            32.0      391\n",
       "4        1            11     7003.499363            3            56.0      535"
      ]
     },
     "execution_count": 54,
     "metadata": {},
     "output_type": "execute_result"
    }
   ],
   "source": [
    "free = subscriptions[subscriptions[\"subscription_type\"] == \"free\"].iloc[0]\n",
    "sub = subscriptions[subscriptions[\"subscription_type\"] == \"ultra\"].iloc[0]\n",
    "\n",
    "def calculate_revenue(row):\n",
    "    if users[users[\"user_id\"] == row[\"user_id\"]].iloc[0][\"subscription_type\"] == \"free\":\n",
    "        return int(free[\"minute_price\"] * math.ceil(row[\"total_duration\"]) + free[\"start_ride_price\"] * row[\"rides_count\"] + free[\"subscription_fee\"])\n",
    "    else:\n",
    "        return int(sub[\"minute_price\"] * math.ceil(row[\"total_duration\"]) + sub[\"start_ride_price\"] * row[\"rides_count\"] + sub[\"subscription_fee\"])\n",
    "\n",
    "user_stats[\"revenue\"] = user_stats.apply(calculate_revenue, axis=1)\n",
    "user_stats.head()"
   ]
  },
  {
   "cell_type": "markdown",
   "metadata": {},
   "source": [
    "<font color='DarkBlue'><b>Комментарий ревьюера</b></font><br>\n",
    "<font color='Red'>🛠 Неправильно сделан расчет выручки.</font>"
   ]
  },
  {
   "cell_type": "markdown",
   "metadata": {},
   "source": [
    "</font><font color='Blue'><b>Комментарий студента</b></font><br>\n",
    "Изменил код."
   ]
  },
  {
   "cell_type": "code",
   "execution_count": 55,
   "metadata": {},
   "outputs": [
    {
     "name": "stdout",
     "output_type": "stream",
     "text": [
      "Правильное значение суммы выручки 3878641, сумма выручки расчитанная в таблице: 3878641\n"
     ]
    }
   ],
   "source": [
    "# Комментарий ревьюера\n",
    "# Контроль суммы выручки\n",
    "tmp, col_rev = user_stats.copy(), 'revenue'\n",
    "print(\"Правильное значение суммы выручки 3878641, сумма выручки расчитанная в таблице:\", tmp[col_rev].sum())"
   ]
  },
  {
   "cell_type": "markdown",
   "metadata": {},
   "source": [
    "Создадим два датафрейма со статистикой по подписанными и не подписанным пользователям."
   ]
  },
  {
   "cell_type": "code",
   "execution_count": 37,
   "metadata": {},
   "outputs": [
    {
     "name": "stdout",
     "output_type": "stream",
     "text": [
      "Подписанных пользователей: 4533\n",
      "Пользователей без подписки: 6798\n"
     ]
    }
   ],
   "source": [
    "sub_user_stats = user_stats[user_stats[\"user_id\"].isin(subscribed[\"user_id\"])]\n",
    "free_user_stats = user_stats.loc[user_stats.index.difference(sub_user_stats.index)]\n",
    "\n",
    "print(f\"Подписанных пользователей: {sub_user_stats['user_id'].count()}\", f\"Пользователей без подписки: {free_user_stats['user_id'].count()}\", sep=\"\\n\")"
   ]
  },
  {
   "cell_type": "markdown",
   "metadata": {},
   "source": [
    "### Гипотеза о длительности поездки"
   ]
  },
  {
   "cell_type": "markdown",
   "metadata": {},
   "source": [
    "Т.к. пользователи с подпиской и без подписки не зависят друг от друга, проведём проверку гипотезы, что пользователи с подпиской и без неё тратят в среднем одинаковое время на поездки для них целиком. \n",
    "\n",
    "Нулевой гипотезой будем считать, что пользователи с подпиской и без неё тратят в среднем одинаковое количество времени на поездку.\n",
    "\n",
    "Альтернативной гипотезой будем считать что пользователи с подпиской тратят на поездки больше времени. \n",
    "\n",
    "Установим уровень статистической значимости в 5%."
   ]
  },
  {
   "cell_type": "markdown",
   "metadata": {},
   "source": [
    "<font color='DarkBlue'><b>Комментарий ревьюера</b></font><br>\n",
    "<font color='DarkMagenta'>👉 Необходимо отдельно формулировать нулевую гипотезу и отдельно альтернативную.</font>"
   ]
  },
  {
   "cell_type": "markdown",
   "metadata": {},
   "source": [
    "</font><font color='Blue'><b>Комментарий студента</b></font><br>\n",
    "Исправил текстовый блок."
   ]
  },
  {
   "cell_type": "code",
   "execution_count": 56,
   "metadata": {},
   "outputs": [
    {
     "name": "stdout",
     "output_type": "stream",
     "text": [
      "p-значение: 1.2804098316645613e-34\n",
      "Отвергаем нулевую гипотезу\n"
     ]
    }
   ],
   "source": [
    "alpha = .05\n",
    "\n",
    "results = st.ttest_ind(subscribed[\"duration\"], unsubscribed[\"duration\"], alternative='greater')\n",
    "\n",
    "print('p-значение:', results.pvalue)\n",
    "\n",
    "if results.pvalue < alpha:\n",
    "    print('Отвергаем нулевую гипотезу')\n",
    "else:\n",
    "    print('Не получилось отвергнуть нулевую гипотезу')"
   ]
  },
  {
   "cell_type": "markdown",
   "metadata": {},
   "source": [
    "<font color='DarkBlue'><b>Комментарий ревьюера</b></font><br>\n",
    "<font color='Red'>🛠 Не правильно проводится тестирование, тестироваться должны выборки по времени каждой поездки пользователей, а не сумма за год. Почему не смущает результат теста равный 1?</font>"
   ]
  },
  {
   "cell_type": "markdown",
   "metadata": {},
   "source": [
    "</font><font color='Blue'><b>Комментарий студента</b></font><br>\n",
    "Пересчитал гипотезу для плавильных срезов данных пользователей с учётом что каждая отдельная поездка это эксперимент. Значение равное единице не смутило из-за неопытности. Никогда раньше не проверел гипотезы. По сути значение 1 значит что статистика выборки, для которой рассматривается гипотеза, всегда принимает близкие к нулевой гипотезе значения, как я понимаю. Это значение имеет смысл в общем случае. Если бы у меня получилось значение больше 1 я бы точно смутился т.к. это невозможно. Но в данном случае я просто принял, что проверенная мной нулевая гипотеза не может быть отвержена."
   ]
  },
  {
   "cell_type": "code",
   "execution_count": 39,
   "metadata": {},
   "outputs": [
    {
     "data": {
      "text/plain": [
       "0       42.0\n",
       "1        7.0\n",
       "2       46.0\n",
       "3       32.0\n",
       "4       56.0\n",
       "        ... \n",
       "4528    17.0\n",
       "4529    45.0\n",
       "4530    31.0\n",
       "4531    16.0\n",
       "4532    26.0\n",
       "Name: total_duration, Length: 4533, dtype: float64"
      ]
     },
     "execution_count": 39,
     "metadata": {},
     "output_type": "execute_result"
    }
   ],
   "source": [
    "# Комментарий ревьюера\n",
    "sub_user_stats[\"total_duration\"]"
   ]
  },
  {
   "cell_type": "markdown",
   "metadata": {},
   "source": [
    "Делаем вывод, что пользователи с подпиской тратят больше времени на поездки, чем с подпиской."
   ]
  },
  {
   "cell_type": "markdown",
   "metadata": {},
   "source": [
    "### Гипотеза о расстоянии поездки"
   ]
  },
  {
   "cell_type": "markdown",
   "metadata": {},
   "source": [
    "Чтобы проверить, какое расстояние в среднем проезжают пользователи с подпиской, будем считать что пользователь проезжает не больше 3130 метров за поездку нулевой гипотезой. Альтернативной гипотезой будем считать что пользователи проезжают в среднем более 3130 метров. Установим уровень статистической значимости в 5%."
   ]
  },
  {
   "cell_type": "markdown",
   "metadata": {},
   "source": [
    "<font color='DarkBlue'><b>Комментарий ревьюера</b></font><br>\n",
    "<font color='Red'>🛠 Неправильно сформулированы нулевая и альтернативная гипотезы.</font>"
   ]
  },
  {
   "cell_type": "markdown",
   "metadata": {},
   "source": [
    "</font><font color='Blue'><b>Комментарий студента</b></font><br>\n",
    "Переписал формулировку."
   ]
  },
  {
   "cell_type": "code",
   "execution_count": 60,
   "metadata": {},
   "outputs": [
    {
     "name": "stdout",
     "output_type": "stream",
     "text": [
      "p-значение: 0.9195368847849785\n",
      "Не получилось отвергнуть нулевую гипотезу\n"
     ]
    }
   ],
   "source": [
    "alpha = .05\n",
    "optimal_distance = 3130\n",
    "\n",
    "results = st.ttest_1samp(subscribed[\"distance\"], optimal_distance, alternative='greater')\n",
    "\n",
    "print('p-значение:', results.pvalue)\n",
    "\n",
    "if results.pvalue < alpha:\n",
    "    print('Отвергаем нулевую гипотезу')\n",
    "else:\n",
    "    print('Не получилось отвергнуть нулевую гипотезу')"
   ]
  },
  {
   "cell_type": "markdown",
   "metadata": {},
   "source": [
    "<font color='DarkBlue'><b>Комментарий ревьюера</b></font><br>\n",
    "<font color='Red'>🛠 Не правильно проводится тестирование, тестироваться должна выборка по расстоянию каждой поездки пользователей.</font>"
   ]
  },
  {
   "cell_type": "markdown",
   "metadata": {},
   "source": [
    "</font><font color='Blue'><b>Комментарий студента</b></font><br>\n",
    "Исправил код проверки гипотезы."
   ]
  },
  {
   "cell_type": "markdown",
   "metadata": {},
   "source": [
    "Делаем вывод, что пользователи с подпиской проезжают в среднем не более 3130 метров."
   ]
  },
  {
   "cell_type": "markdown",
   "metadata": {},
   "source": [
    "### Гипотеза о выручке"
   ]
  },
  {
   "cell_type": "markdown",
   "metadata": {},
   "source": [
    "Для начала подготовим два среза данных со средними значениями выручки по месяцам для двух групп пользователей."
   ]
  },
  {
   "cell_type": "markdown",
   "metadata": {},
   "source": [
    "Т.к. пользователи с подпиской не зависят от пользователей без подписки и наоборот, используем статистический тест для двух независимых выборок.\n",
    "\n",
    "Сформулируем нулевую гипотезу как равенство месячных выручек для обеих групп пользователей.\n",
    "\n",
    "Альтернативная гипотеза предполагает что выручка от пользоватей с подпиской выше, чем от пользователей без подписки. \n",
    "\n",
    "Предположем также что разброс выручки одинаков для обоих групп пользователей. Установим уровень статистической значимости в 5%."
   ]
  },
  {
   "cell_type": "code",
   "execution_count": 63,
   "metadata": {},
   "outputs": [
    {
     "name": "stdout",
     "output_type": "stream",
     "text": [
      "p-значение: 1.8850394384715216e-31\n",
      "Отвергаем нулевую гипотезу\n"
     ]
    }
   ],
   "source": [
    "alpha = .05\n",
    "\n",
    "results = st.ttest_ind(sub_user_stats[\"revenue\"], free_user_stats[\"revenue\"], alternative='greater')\n",
    "\n",
    "print('p-значение:', results.pvalue)\n",
    "\n",
    "if results.pvalue < alpha:\n",
    "    print('Отвергаем нулевую гипотезу')\n",
    "else:\n",
    "    print('Не получилось отвергнуть нулевую гипотезу')"
   ]
  },
  {
   "cell_type": "markdown",
   "metadata": {},
   "source": [
    "<font color='DarkBlue'><b>Комментарий ревьюера</b></font><br>\n",
    "<font color='Red'>🛠 Не правильно проводится тестирование, тестироваться должны выборки по месячной выручке каждого пользователя, а не суммарная выручка всех пользователей за месяц.</font>"
   ]
  },
  {
   "cell_type": "markdown",
   "metadata": {},
   "source": [
    "</font><font color='Blue'><b>Комментарий студента</b></font><br>\n",
    "Переписал формулировку. Исправил код тестирования гипотезы и вывод."
   ]
  },
  {
   "cell_type": "code",
   "execution_count": 44,
   "metadata": {},
   "outputs": [
    {
     "data": {
      "text/html": [
       "<div>\n",
       "<style scoped>\n",
       "    .dataframe tbody tr th:only-of-type {\n",
       "        vertical-align: middle;\n",
       "    }\n",
       "\n",
       "    .dataframe tbody tr th {\n",
       "        vertical-align: top;\n",
       "    }\n",
       "\n",
       "    .dataframe thead th {\n",
       "        text-align: right;\n",
       "    }\n",
       "</style>\n",
       "<table border=\"1\" class=\"dataframe\">\n",
       "  <thead>\n",
       "    <tr style=\"text-align: right;\">\n",
       "      <th></th>\n",
       "      <th>ride_cost</th>\n",
       "    </tr>\n",
       "    <tr>\n",
       "      <th>month_number</th>\n",
       "      <th></th>\n",
       "    </tr>\n",
       "  </thead>\n",
       "  <tbody>\n",
       "    <tr>\n",
       "      <th>1</th>\n",
       "      <td>66697</td>\n",
       "    </tr>\n",
       "    <tr>\n",
       "      <th>2</th>\n",
       "      <td>54325</td>\n",
       "    </tr>\n",
       "    <tr>\n",
       "      <th>3</th>\n",
       "      <td>64003</td>\n",
       "    </tr>\n",
       "    <tr>\n",
       "      <th>4</th>\n",
       "      <td>63091</td>\n",
       "    </tr>\n",
       "    <tr>\n",
       "      <th>5</th>\n",
       "      <td>68839</td>\n",
       "    </tr>\n",
       "    <tr>\n",
       "      <th>6</th>\n",
       "      <td>64831</td>\n",
       "    </tr>\n",
       "    <tr>\n",
       "      <th>7</th>\n",
       "      <td>66055</td>\n",
       "    </tr>\n",
       "    <tr>\n",
       "      <th>8</th>\n",
       "      <td>62317</td>\n",
       "    </tr>\n",
       "    <tr>\n",
       "      <th>9</th>\n",
       "      <td>58891</td>\n",
       "    </tr>\n",
       "    <tr>\n",
       "      <th>10</th>\n",
       "      <td>60103</td>\n",
       "    </tr>\n",
       "    <tr>\n",
       "      <th>11</th>\n",
       "      <td>56299</td>\n",
       "    </tr>\n",
       "    <tr>\n",
       "      <th>12</th>\n",
       "      <td>59407</td>\n",
       "    </tr>\n",
       "  </tbody>\n",
       "</table>\n",
       "</div>"
      ],
      "text/plain": [
       "              ride_cost\n",
       "month_number           \n",
       "1                 66697\n",
       "2                 54325\n",
       "3                 64003\n",
       "4                 63091\n",
       "5                 68839\n",
       "6                 64831\n",
       "7                 66055\n",
       "8                 62317\n",
       "9                 58891\n",
       "10                60103\n",
       "11                56299\n",
       "12                59407"
      ]
     },
     "execution_count": 44,
     "metadata": {},
     "output_type": "execute_result"
    }
   ],
   "source": [
    "# Комментарий ревьюера\n",
    "# sub_month_revenue"
   ]
  },
  {
   "cell_type": "markdown",
   "metadata": {},
   "source": [
    "Делаем вывод, что пользователи с подпиской приносят большую выручку компании."
   ]
  },
  {
   "cell_type": "markdown",
   "metadata": {},
   "source": [
    "### Гепотеза об обращениях в техподдержку"
   ]
  },
  {
   "cell_type": "markdown",
   "metadata": {},
   "source": [
    "Т.к. выборки зависимы между собой (пользователи одни и те же), я бы выбрал проверку гепотезы о равенстве среднего значения генеральной совокупности до и после изменения и метод ttest_rel. Я бы выбрал в качестве альтернативной гипотезы то, что выборка обращений после изменений имеет меньшее среднее значение и проверял левостороннюю альтернативную гипотезу."
   ]
  },
  {
   "cell_type": "markdown",
   "metadata": {},
   "source": [
    "<font color='DarkBlue'><b>Комментарий ревьюера</b></font><br>\n",
    "<font color='DarkMagenta'>👉 Это односторонняя или двусторонняя гипотеза?</font>"
   ]
  },
  {
   "cell_type": "markdown",
   "metadata": {},
   "source": [
    "</font><font color='Blue'><b>Комментарий студента</b></font><br>\n",
    "Добавил предложение об альтернативной гипотезе и её направленности в ответ на вопрос."
   ]
  },
  {
   "cell_type": "markdown",
   "metadata": {},
   "source": [
    "## Распределения"
   ]
  },
  {
   "cell_type": "markdown",
   "metadata": {},
   "source": [
    "### Промо акция"
   ]
  },
  {
   "cell_type": "markdown",
   "metadata": {},
   "source": [
    "Т.к. у нас серия испытаний Бернулли, нужно брать биномиальное распределение для с.в. Подберём перебором такое количество экспериментов (выданных промокодов), при котором вероятность получить 100 подписчиков равна 5%."
   ]
  },
  {
   "cell_type": "code",
   "execution_count": 45,
   "metadata": {},
   "outputs": [
    {
     "name": "stdout",
     "output_type": "stream",
     "text": [
      "1172 промокодов нужно для выполнения плана.\n"
     ]
    }
   ],
   "source": [
    "subscription_prob = .1\n",
    "plan_failure = .05\n",
    "subscribers_count = 100\n",
    "\n",
    "accuracy = math.inf\n",
    "needed_promocodes_count = 0\n",
    "\n",
    "for promocodes_count in range(100, 10000):\n",
    "    difference = abs(plan_failure - st.binom.cdf(k = subscribers_count, n = promocodes_count, p = subscription_prob))\n",
    "    if difference < accuracy:\n",
    "        accuracy = difference\n",
    "        needed_promocodes_count = promocodes_count\n",
    "\n",
    "print(f\"{needed_promocodes_count} промокодов нужно для выполнения плана.\")\n",
    "\n"
   ]
  },
  {
   "cell_type": "markdown",
   "metadata": {},
   "source": [
    "### Уведомления"
   ]
  },
  {
   "cell_type": "markdown",
   "metadata": {},
   "source": [
    "Проверим условия аппроксимации распределением Пуассона. Значение вероятности успеха нельзя считать малым т.к. оно 40%. Поэтому проверим условие применимости аппроксимации нормальным распределением."
   ]
  },
  {
   "cell_type": "code",
   "execution_count": 46,
   "metadata": {},
   "outputs": [
    {
     "name": "stdout",
     "output_type": "stream",
     "text": [
      "Можно аппроксимировать нормальным распределением.\n"
     ]
    }
   ],
   "source": [
    "notifications_count = 1_000_000\n",
    "ctr = .4\n",
    "engaged_users = 399_500\n",
    "\n",
    "three_std = notifications_count * ctr - 3 * math.sqrt(notifications_count * ctr * (1 - ctr))\n",
    "\n",
    "if three_std >= 0 and three_std <= notifications_count:\n",
    "    print(\"Можно аппроксимировать нормальным распределением.\")\n",
    "else:\n",
    "    print(\"Нельзя аппроксимировать нормальным распределением.\")"
   ]
  },
  {
   "cell_type": "markdown",
   "metadata": {},
   "source": [
    "Построим график приближённого распределения."
   ]
  },
  {
   "cell_type": "code",
   "execution_count": 47,
   "metadata": {},
   "outputs": [
    {
     "data": {
      "text/plain": [
       "[<matplotlib.lines.Line2D at 0x21fb97cf0d0>]"
      ]
     },
     "execution_count": 47,
     "metadata": {},
     "output_type": "execute_result"
    },
    {
     "data": {
      "image/png": "[encoded data removed]",
      "text/plain": [
       "<Figure size 640x480 with 1 Axes>"
      ]
     },
     "metadata": {},
     "output_type": "display_data"
    }
   ],
   "source": [
    "left = notifications_count * ctr - 2000\n",
    "right = notifications_count * ctr + 2000\n",
    "\n",
    "x = np.linspace(left, right, 1_000)\n",
    "\n",
    "plt.plot(x, st.norm.pdf(x, notifications_count * ctr, math.sqrt(notifications_count * ctr * (1 - ctr))))"
   ]
  },
  {
   "cell_type": "markdown",
   "metadata": {},
   "source": [
    "Посчитаем вероятность количества кликов меньшего чем 399_500."
   ]
  },
  {
   "cell_type": "code",
   "execution_count": 48,
   "metadata": {},
   "outputs": [
    {
     "name": "stdout",
     "output_type": "stream",
     "text": [
      "Вероятность что не более 399500 пользователей откроют уведомление равна 15.37%\n"
     ]
    }
   ],
   "source": [
    "prob = st.norm(notifications_count * ctr, math.sqrt(notifications_count * ctr * (1 - ctr))).cdf(engaged_users)\n",
    "\n",
    "print(f\"Вероятность что не более {engaged_users} пользователей откроют уведомление равна {prob * 100:.2f}%\")"
   ]
  },
  {
   "cell_type": "markdown",
   "metadata": {},
   "source": [
    "<font color='DarkBlue'><b>Комментарий ревьюера</b></font><br>\n",
    "<font color='DarkGreen'>👌 Молодец, справились с необязательным заданием.</font>"
   ]
  },
  {
   "cell_type": "markdown",
   "metadata": {},
   "source": [
    "<font color='DarkBlue'><b>Комментарий ревьюера</b></font><br>\n",
    "<font color='Red'>🛠 Нет общего вывода исследования, он должен обобщать весь проект, включая анализ и предобработку данных, и кратко суммировать промежуточные выводы разделов всего исследования.</font>"
   ]
  },
  {
   "cell_type": "markdown",
   "metadata": {},
   "source": [
    "</font><font color='Blue'><b>Комментарий студента</b></font><br>\n",
    "Добавил общий вывод исходя из целей исследования."
   ]
  },
  {
   "cell_type": "markdown",
   "metadata": {},
   "source": [
    "## Вывод работы"
   ]
  },
  {
   "cell_type": "markdown",
   "metadata": {},
   "source": [
    "- Аналитикам стоит проверить аномалию для пользователей без подписки, которые за полминуты проезжают большие расстояния\n",
    "- Т.к. в ходе проверок гипотез было выяснено, что пользователи с подпиской в среднем ездят дольше, проезжают при этом в среднем оптимальное с точки зрения обслуживания самокатов расстояние и в среднем приносят большую выручку, стоит заниматься маркетиногвыми активностями, которые повысят долю пользователей с подпиской.\n",
    "- Для увеличения пользовательской базы подписчиков на 100 пользователей с вероятностью 95% можно раздавать по 1172 промокодов пользователям без подписки в месяц."
   ]
  },
  {
   "cell_type": "markdown",
   "metadata": {},
   "source": [
    "<font color='DarkBlue'><b>Заключительный комментарий ревьюера</b></font><br><br>\n",
    "<font color='DarkGreen'>👌 Ярослав, проект очень хорошо и детально проработан. И дальше так держать!<br></font>\n",
    "<font color='Red'>🛠 Что бы еще лучше сделать проект надо:</font><br>\n",
    "<font color='Red'>🛠 Удалить дубликаты в датасетах. Сделать выводы по разделу предобработки данных. Графики и диаграммы необходимо оформить подписями осей и названием графика/диаграммы на русском языке. Написать выводы по разделу исследовательского анализа данных. Переделать промежуточные выводы по визуализации информации о времени поездок для пользователей обеих категорий. Сделать округление длительность каждой поездки до целой минуты перед суммированием длительности за месяц. Правильно создать датафрейм с агрегированными данными о поездках. Переделать расчет выручки. Переделать задание по тестированию гипотез по продолжительности поездок пользователям с подпиской. Переделать формулирование гипотез по среднему расстоянию проезжающему пользователями с подпиской. Переделать задание по тестированию гипотез по среднему расстоянию проезжающему пользователями с подпиской. Переделать задание по тестированию гипотез по выручке пользователей с подпиской. Сформулировать расширенный общий вывод проекта. <br></font>\n",
    "<font color='DarkMagenta'>👉 При исправлении ошибок и недочетов приобретем дополнительный опыт и навыки!</font><br>\n",
    "<font color='DarkGreen'>👌 Жду окончательный вариант! Удачи. </font>"
   ]
  }
 ],
 "metadata": {
  "ExecuteTimeLog": [
   {
    "duration": 1451,
    "start_time": "2024-10-17T17:21:56.727Z"
   },
   {
    "duration": 0,
    "start_time": "2024-10-17T17:21:58.183Z"
   },
   {
    "duration": 0,
    "start_time": "2024-10-17T17:21:58.184Z"
   },
   {
    "duration": 0,
    "start_time": "2024-10-17T17:21:58.198Z"
   },
   {
    "duration": 0,
    "start_time": "2024-10-17T17:21:58.199Z"
   },
   {
    "duration": 0,
    "start_time": "2024-10-17T17:21:58.200Z"
   },
   {
    "duration": 0,
    "start_time": "2024-10-17T17:21:58.201Z"
   },
   {
    "duration": 0,
    "start_time": "2024-10-17T17:21:58.202Z"
   },
   {
    "duration": 0,
    "start_time": "2024-10-17T17:21:58.203Z"
   },
   {
    "duration": 0,
    "start_time": "2024-10-17T17:21:58.205Z"
   },
   {
    "duration": 0,
    "start_time": "2024-10-17T17:21:58.205Z"
   },
   {
    "duration": 0,
    "start_time": "2024-10-17T17:21:58.206Z"
   },
   {
    "duration": 0,
    "start_time": "2024-10-17T17:21:58.207Z"
   },
   {
    "duration": 0,
    "start_time": "2024-10-17T17:21:58.208Z"
   },
   {
    "duration": 0,
    "start_time": "2024-10-17T17:21:58.210Z"
   },
   {
    "duration": 0,
    "start_time": "2024-10-17T17:21:58.212Z"
   },
   {
    "duration": 0,
    "start_time": "2024-10-17T17:21:58.213Z"
   },
   {
    "duration": 0,
    "start_time": "2024-10-17T17:21:58.215Z"
   },
   {
    "duration": 0,
    "start_time": "2024-10-17T17:21:58.216Z"
   },
   {
    "duration": 0,
    "start_time": "2024-10-17T17:21:58.217Z"
   },
   {
    "duration": 0,
    "start_time": "2024-10-17T17:21:58.218Z"
   },
   {
    "duration": 0,
    "start_time": "2024-10-17T17:21:58.219Z"
   },
   {
    "duration": 0,
    "start_time": "2024-10-17T17:21:58.220Z"
   },
   {
    "duration": 0,
    "start_time": "2024-10-17T17:21:58.223Z"
   },
   {
    "duration": 0,
    "start_time": "2024-10-17T17:21:58.224Z"
   },
   {
    "duration": 0,
    "start_time": "2024-10-17T17:21:58.225Z"
   },
   {
    "duration": 0,
    "start_time": "2024-10-17T17:21:58.226Z"
   },
   {
    "duration": 0,
    "start_time": "2024-10-17T17:21:58.227Z"
   },
   {
    "duration": 0,
    "start_time": "2024-10-17T17:21:58.229Z"
   },
   {
    "duration": 0,
    "start_time": "2024-10-17T17:21:58.231Z"
   },
   {
    "duration": 0,
    "start_time": "2024-10-17T17:21:58.232Z"
   },
   {
    "duration": 0,
    "start_time": "2024-10-17T17:21:58.233Z"
   },
   {
    "duration": 0,
    "start_time": "2024-10-17T17:21:58.235Z"
   },
   {
    "duration": 0,
    "start_time": "2024-10-17T17:21:58.236Z"
   },
   {
    "duration": 0,
    "start_time": "2024-10-17T17:21:58.298Z"
   },
   {
    "duration": 0,
    "start_time": "2024-10-17T17:21:58.299Z"
   },
   {
    "duration": 0,
    "start_time": "2024-10-17T17:21:58.300Z"
   },
   {
    "duration": 0,
    "start_time": "2024-10-17T17:21:58.301Z"
   },
   {
    "duration": 0,
    "start_time": "2024-10-17T17:21:58.302Z"
   },
   {
    "duration": 0,
    "start_time": "2024-10-17T17:21:58.304Z"
   },
   {
    "duration": 0,
    "start_time": "2024-10-17T17:21:58.305Z"
   },
   {
    "duration": 0,
    "start_time": "2024-10-17T17:21:58.306Z"
   },
   {
    "duration": 0,
    "start_time": "2024-10-17T17:21:58.307Z"
   },
   {
    "duration": 0,
    "start_time": "2024-10-17T17:21:58.308Z"
   },
   {
    "duration": 0,
    "start_time": "2024-10-17T17:21:58.309Z"
   },
   {
    "duration": 0,
    "start_time": "2024-10-17T17:21:58.311Z"
   },
   {
    "duration": 0,
    "start_time": "2024-10-17T17:21:58.312Z"
   },
   {
    "duration": 0,
    "start_time": "2024-10-17T17:21:58.313Z"
   },
   {
    "duration": 0,
    "start_time": "2024-10-17T17:21:58.315Z"
   },
   {
    "duration": 0,
    "start_time": "2024-10-17T17:21:58.316Z"
   },
   {
    "duration": 0,
    "start_time": "2024-10-17T17:21:58.317Z"
   },
   {
    "duration": 0,
    "start_time": "2024-10-17T17:21:58.318Z"
   },
   {
    "duration": 0,
    "start_time": "2024-10-17T17:21:58.319Z"
   },
   {
    "duration": 0,
    "start_time": "2024-10-17T17:21:58.320Z"
   },
   {
    "duration": 0,
    "start_time": "2024-10-17T17:21:58.322Z"
   },
   {
    "duration": 0,
    "start_time": "2024-10-17T17:21:58.323Z"
   },
   {
    "duration": 0,
    "start_time": "2024-10-17T17:21:58.324Z"
   },
   {
    "duration": 0,
    "start_time": "2024-10-17T17:21:58.325Z"
   },
   {
    "duration": 0,
    "start_time": "2024-10-17T17:21:58.326Z"
   },
   {
    "duration": 0,
    "start_time": "2024-10-17T17:21:58.328Z"
   },
   {
    "duration": 0,
    "start_time": "2024-10-17T17:21:58.329Z"
   },
   {
    "duration": 0,
    "start_time": "2024-10-17T17:21:58.330Z"
   },
   {
    "duration": 0,
    "start_time": "2024-10-17T17:21:58.331Z"
   },
   {
    "duration": 0,
    "start_time": "2024-10-17T17:21:58.332Z"
   },
   {
    "duration": 0,
    "start_time": "2024-10-17T17:21:58.333Z"
   },
   {
    "duration": 0,
    "start_time": "2024-10-17T17:21:58.334Z"
   },
   {
    "duration": 0,
    "start_time": "2024-10-17T17:21:58.335Z"
   },
   {
    "duration": 0,
    "start_time": "2024-10-17T17:21:58.336Z"
   },
   {
    "duration": 0,
    "start_time": "2024-10-17T17:21:58.398Z"
   },
   {
    "duration": 0,
    "start_time": "2024-10-17T17:21:58.399Z"
   },
   {
    "duration": 0,
    "start_time": "2024-10-17T17:21:58.400Z"
   },
   {
    "duration": 0,
    "start_time": "2024-10-17T17:21:58.402Z"
   },
   {
    "duration": 0,
    "start_time": "2024-10-17T17:21:58.403Z"
   },
   {
    "duration": 0,
    "start_time": "2024-10-17T17:21:58.403Z"
   },
   {
    "duration": 0,
    "start_time": "2024-10-17T17:21:58.405Z"
   },
   {
    "duration": 0,
    "start_time": "2024-10-17T17:21:58.406Z"
   },
   {
    "duration": 0,
    "start_time": "2024-10-17T17:21:58.407Z"
   },
   {
    "duration": 0,
    "start_time": "2024-10-17T17:21:58.408Z"
   },
   {
    "duration": 0,
    "start_time": "2024-10-17T17:21:58.409Z"
   },
   {
    "duration": 0,
    "start_time": "2024-10-17T17:21:58.410Z"
   },
   {
    "duration": 0,
    "start_time": "2024-10-17T17:21:58.411Z"
   },
   {
    "duration": 0,
    "start_time": "2024-10-17T17:21:58.412Z"
   },
   {
    "duration": 0,
    "start_time": "2024-10-17T17:21:58.413Z"
   },
   {
    "duration": 0,
    "start_time": "2024-10-17T17:21:58.414Z"
   },
   {
    "duration": 0,
    "start_time": "2024-10-17T17:21:58.415Z"
   },
   {
    "duration": 0,
    "start_time": "2024-10-17T17:21:58.416Z"
   },
   {
    "duration": 0,
    "start_time": "2024-10-17T17:21:58.417Z"
   },
   {
    "duration": 0,
    "start_time": "2024-10-17T17:21:58.418Z"
   },
   {
    "duration": 0,
    "start_time": "2024-10-17T17:21:58.419Z"
   },
   {
    "duration": 0,
    "start_time": "2024-10-17T17:21:58.420Z"
   },
   {
    "duration": 1,
    "start_time": "2024-10-17T17:21:58.421Z"
   },
   {
    "duration": 0,
    "start_time": "2024-10-17T17:21:58.422Z"
   },
   {
    "duration": 0,
    "start_time": "2024-10-17T17:21:58.423Z"
   },
   {
    "duration": 0,
    "start_time": "2024-10-17T17:21:58.424Z"
   },
   {
    "duration": 0,
    "start_time": "2024-10-17T17:21:58.425Z"
   },
   {
    "duration": 0,
    "start_time": "2024-10-17T17:21:58.426Z"
   },
   {
    "duration": 0,
    "start_time": "2024-10-17T17:21:58.428Z"
   },
   {
    "duration": 0,
    "start_time": "2024-10-17T17:21:58.429Z"
   },
   {
    "duration": 0,
    "start_time": "2024-10-17T17:21:58.430Z"
   },
   {
    "duration": 1309,
    "start_time": "2024-10-17T17:23:12.198Z"
   },
   {
    "duration": 0,
    "start_time": "2024-10-17T17:23:13.511Z"
   },
   {
    "duration": 0,
    "start_time": "2024-10-17T17:23:13.512Z"
   },
   {
    "duration": 0,
    "start_time": "2024-10-17T17:23:13.513Z"
   },
   {
    "duration": 0,
    "start_time": "2024-10-17T17:23:13.514Z"
   },
   {
    "duration": 0,
    "start_time": "2024-10-17T17:23:13.516Z"
   },
   {
    "duration": 0,
    "start_time": "2024-10-17T17:23:13.517Z"
   },
   {
    "duration": 0,
    "start_time": "2024-10-17T17:23:13.518Z"
   },
   {
    "duration": 0,
    "start_time": "2024-10-17T17:23:13.519Z"
   },
   {
    "duration": 0,
    "start_time": "2024-10-17T17:23:13.520Z"
   },
   {
    "duration": 0,
    "start_time": "2024-10-17T17:23:13.521Z"
   },
   {
    "duration": 0,
    "start_time": "2024-10-17T17:23:13.522Z"
   },
   {
    "duration": 0,
    "start_time": "2024-10-17T17:23:13.523Z"
   },
   {
    "duration": 0,
    "start_time": "2024-10-17T17:23:13.524Z"
   },
   {
    "duration": 0,
    "start_time": "2024-10-17T17:23:13.525Z"
   },
   {
    "duration": 0,
    "start_time": "2024-10-17T17:23:13.526Z"
   },
   {
    "duration": 0,
    "start_time": "2024-10-17T17:23:13.527Z"
   },
   {
    "duration": 0,
    "start_time": "2024-10-17T17:23:13.528Z"
   },
   {
    "duration": 0,
    "start_time": "2024-10-17T17:23:13.529Z"
   },
   {
    "duration": 0,
    "start_time": "2024-10-17T17:23:13.530Z"
   },
   {
    "duration": 0,
    "start_time": "2024-10-17T17:23:13.531Z"
   },
   {
    "duration": 0,
    "start_time": "2024-10-17T17:23:13.532Z"
   },
   {
    "duration": 0,
    "start_time": "2024-10-17T17:23:13.533Z"
   },
   {
    "duration": 0,
    "start_time": "2024-10-17T17:23:13.534Z"
   },
   {
    "duration": 0,
    "start_time": "2024-10-17T17:23:13.535Z"
   },
   {
    "duration": 0,
    "start_time": "2024-10-17T17:23:13.536Z"
   },
   {
    "duration": 0,
    "start_time": "2024-10-17T17:23:13.537Z"
   },
   {
    "duration": 0,
    "start_time": "2024-10-17T17:23:13.538Z"
   },
   {
    "duration": 0,
    "start_time": "2024-10-17T17:23:13.539Z"
   },
   {
    "duration": 0,
    "start_time": "2024-10-17T17:23:13.540Z"
   },
   {
    "duration": 0,
    "start_time": "2024-10-17T17:23:13.541Z"
   },
   {
    "duration": 0,
    "start_time": "2024-10-17T17:23:13.542Z"
   },
   {
    "duration": 0,
    "start_time": "2024-10-17T17:23:13.543Z"
   },
   {
    "duration": 0,
    "start_time": "2024-10-17T17:23:13.544Z"
   },
   {
    "duration": 0,
    "start_time": "2024-10-17T17:23:13.545Z"
   },
   {
    "duration": 0,
    "start_time": "2024-10-17T17:23:13.598Z"
   },
   {
    "duration": 0,
    "start_time": "2024-10-17T17:23:13.599Z"
   },
   {
    "duration": 0,
    "start_time": "2024-10-17T17:23:13.600Z"
   },
   {
    "duration": 0,
    "start_time": "2024-10-17T17:23:13.601Z"
   },
   {
    "duration": 0,
    "start_time": "2024-10-17T17:23:13.603Z"
   },
   {
    "duration": 0,
    "start_time": "2024-10-17T17:23:13.604Z"
   },
   {
    "duration": 0,
    "start_time": "2024-10-17T17:23:13.605Z"
   },
   {
    "duration": 0,
    "start_time": "2024-10-17T17:23:13.606Z"
   },
   {
    "duration": 0,
    "start_time": "2024-10-17T17:23:13.607Z"
   },
   {
    "duration": 0,
    "start_time": "2024-10-17T17:23:13.608Z"
   },
   {
    "duration": 0,
    "start_time": "2024-10-17T17:23:13.609Z"
   },
   {
    "duration": 0,
    "start_time": "2024-10-17T17:23:13.611Z"
   },
   {
    "duration": 0,
    "start_time": "2024-10-17T17:23:13.612Z"
   },
   {
    "duration": 0,
    "start_time": "2024-10-17T17:23:13.613Z"
   },
   {
    "duration": 0,
    "start_time": "2024-10-17T17:23:13.614Z"
   },
   {
    "duration": 0,
    "start_time": "2024-10-17T17:23:13.615Z"
   },
   {
    "duration": 0,
    "start_time": "2024-10-17T17:23:13.616Z"
   },
   {
    "duration": 0,
    "start_time": "2024-10-17T17:23:13.617Z"
   },
   {
    "duration": 1,
    "start_time": "2024-10-17T17:23:13.617Z"
   },
   {
    "duration": 0,
    "start_time": "2024-10-17T17:23:13.618Z"
   },
   {
    "duration": 0,
    "start_time": "2024-10-17T17:23:13.619Z"
   },
   {
    "duration": 0,
    "start_time": "2024-10-17T17:23:13.620Z"
   },
   {
    "duration": 0,
    "start_time": "2024-10-17T17:23:13.621Z"
   },
   {
    "duration": 0,
    "start_time": "2024-10-17T17:23:13.623Z"
   },
   {
    "duration": 0,
    "start_time": "2024-10-17T17:23:13.623Z"
   },
   {
    "duration": 0,
    "start_time": "2024-10-17T17:23:13.624Z"
   },
   {
    "duration": 0,
    "start_time": "2024-10-17T17:23:13.625Z"
   },
   {
    "duration": 0,
    "start_time": "2024-10-17T17:23:13.626Z"
   },
   {
    "duration": 0,
    "start_time": "2024-10-17T17:23:13.627Z"
   },
   {
    "duration": 0,
    "start_time": "2024-10-17T17:23:13.628Z"
   },
   {
    "duration": 0,
    "start_time": "2024-10-17T17:23:13.629Z"
   },
   {
    "duration": 0,
    "start_time": "2024-10-17T17:23:13.630Z"
   },
   {
    "duration": 1,
    "start_time": "2024-10-17T17:23:13.631Z"
   },
   {
    "duration": 0,
    "start_time": "2024-10-17T17:23:13.632Z"
   },
   {
    "duration": 0,
    "start_time": "2024-10-17T17:23:13.633Z"
   },
   {
    "duration": 0,
    "start_time": "2024-10-17T17:23:13.634Z"
   },
   {
    "duration": 0,
    "start_time": "2024-10-17T17:23:13.698Z"
   },
   {
    "duration": 0,
    "start_time": "2024-10-17T17:23:13.699Z"
   },
   {
    "duration": 0,
    "start_time": "2024-10-17T17:23:13.700Z"
   },
   {
    "duration": 0,
    "start_time": "2024-10-17T17:23:13.701Z"
   },
   {
    "duration": 0,
    "start_time": "2024-10-17T17:23:13.702Z"
   },
   {
    "duration": 0,
    "start_time": "2024-10-17T17:23:13.703Z"
   },
   {
    "duration": 0,
    "start_time": "2024-10-17T17:23:13.704Z"
   },
   {
    "duration": 0,
    "start_time": "2024-10-17T17:23:13.705Z"
   },
   {
    "duration": 0,
    "start_time": "2024-10-17T17:23:13.706Z"
   },
   {
    "duration": 0,
    "start_time": "2024-10-17T17:23:13.707Z"
   },
   {
    "duration": 0,
    "start_time": "2024-10-17T17:23:13.708Z"
   },
   {
    "duration": 0,
    "start_time": "2024-10-17T17:23:13.709Z"
   },
   {
    "duration": 0,
    "start_time": "2024-10-17T17:23:13.710Z"
   },
   {
    "duration": 0,
    "start_time": "2024-10-17T17:23:13.711Z"
   },
   {
    "duration": 0,
    "start_time": "2024-10-17T17:23:13.712Z"
   },
   {
    "duration": 0,
    "start_time": "2024-10-17T17:23:13.713Z"
   },
   {
    "duration": 0,
    "start_time": "2024-10-17T17:23:13.714Z"
   },
   {
    "duration": 0,
    "start_time": "2024-10-17T17:23:13.715Z"
   },
   {
    "duration": 0,
    "start_time": "2024-10-17T17:23:13.716Z"
   },
   {
    "duration": 0,
    "start_time": "2024-10-17T17:23:13.717Z"
   },
   {
    "duration": 0,
    "start_time": "2024-10-17T17:23:13.718Z"
   },
   {
    "duration": 0,
    "start_time": "2024-10-17T17:23:13.719Z"
   },
   {
    "duration": 0,
    "start_time": "2024-10-17T17:23:13.721Z"
   },
   {
    "duration": 0,
    "start_time": "2024-10-17T17:23:13.722Z"
   },
   {
    "duration": 0,
    "start_time": "2024-10-17T17:23:13.723Z"
   },
   {
    "duration": 0,
    "start_time": "2024-10-17T17:23:13.724Z"
   },
   {
    "duration": 0,
    "start_time": "2024-10-17T17:23:13.725Z"
   },
   {
    "duration": 0,
    "start_time": "2024-10-17T17:23:13.726Z"
   },
   {
    "duration": 7881,
    "start_time": "2024-10-20T12:04:48.967Z"
   },
   {
    "duration": 1414,
    "start_time": "2024-10-20T12:04:56.850Z"
   },
   {
    "duration": 16,
    "start_time": "2024-10-20T12:04:58.266Z"
   },
   {
    "duration": 1935,
    "start_time": "2024-10-20T12:04:58.284Z"
   },
   {
    "duration": 11,
    "start_time": "2024-10-20T12:05:00.221Z"
   },
   {
    "duration": 56,
    "start_time": "2024-10-20T12:05:00.233Z"
   },
   {
    "duration": 690,
    "start_time": "2024-10-20T12:05:00.290Z"
   },
   {
    "duration": 162,
    "start_time": "2024-10-20T12:05:00.981Z"
   },
   {
    "duration": 12,
    "start_time": "2024-10-20T12:05:01.144Z"
   },
   {
    "duration": 12,
    "start_time": "2024-10-20T12:05:01.159Z"
   },
   {
    "duration": 169,
    "start_time": "2024-10-20T12:05:01.173Z"
   },
   {
    "duration": 13,
    "start_time": "2024-10-20T12:05:01.344Z"
   },
   {
    "duration": 16,
    "start_time": "2024-10-20T12:05:01.359Z"
   },
   {
    "duration": 31,
    "start_time": "2024-10-20T12:05:01.377Z"
   },
   {
    "duration": 30,
    "start_time": "2024-10-20T12:05:01.410Z"
   },
   {
    "duration": 18,
    "start_time": "2024-10-20T12:05:01.442Z"
   },
   {
    "duration": 102,
    "start_time": "2024-10-20T12:05:01.462Z"
   },
   {
    "duration": 59,
    "start_time": "2024-10-20T12:05:01.566Z"
   },
   {
    "duration": 7,
    "start_time": "2024-10-20T12:05:01.627Z"
   },
   {
    "duration": 6,
    "start_time": "2024-10-20T12:05:01.636Z"
   },
   {
    "duration": 9,
    "start_time": "2024-10-20T12:05:01.643Z"
   },
   {
    "duration": 12,
    "start_time": "2024-10-20T12:05:01.653Z"
   },
   {
    "duration": 6,
    "start_time": "2024-10-20T12:05:01.667Z"
   },
   {
    "duration": 168,
    "start_time": "2024-10-20T12:05:01.674Z"
   },
   {
    "duration": 14,
    "start_time": "2024-10-20T12:05:01.844Z"
   },
   {
    "duration": 16,
    "start_time": "2024-10-20T12:05:01.860Z"
   },
   {
    "duration": 16,
    "start_time": "2024-10-20T12:05:01.878Z"
   },
   {
    "duration": 232,
    "start_time": "2024-10-20T12:05:01.898Z"
   },
   {
    "duration": 58,
    "start_time": "2024-10-20T12:05:02.132Z"
   },
   {
    "duration": 204,
    "start_time": "2024-10-20T12:05:02.192Z"
   },
   {
    "duration": 206,
    "start_time": "2024-10-20T12:05:02.398Z"
   },
   {
    "duration": 17,
    "start_time": "2024-10-20T12:05:02.606Z"
   },
   {
    "duration": 2730,
    "start_time": "2024-10-20T12:05:02.625Z"
   },
   {
    "duration": 208,
    "start_time": "2024-10-20T12:05:05.357Z"
   },
   {
    "duration": 31728,
    "start_time": "2024-10-20T12:05:05.567Z"
   },
   {
    "duration": 167,
    "start_time": "2024-10-20T12:05:37.297Z"
   },
   {
    "duration": 10,
    "start_time": "2024-10-20T12:05:37.468Z"
   },
   {
    "duration": 25,
    "start_time": "2024-10-20T12:05:37.479Z"
   },
   {
    "duration": 26,
    "start_time": "2024-10-20T12:05:37.506Z"
   },
   {
    "duration": 2270,
    "start_time": "2024-10-20T12:05:37.534Z"
   },
   {
    "duration": 7,
    "start_time": "2024-10-20T12:05:39.805Z"
   },
   {
    "duration": 12,
    "start_time": "2024-10-20T12:05:39.813Z"
   },
   {
    "duration": 385,
    "start_time": "2024-10-20T12:05:39.827Z"
   },
   {
    "duration": 316,
    "start_time": "2024-10-20T12:05:40.213Z"
   },
   {
    "duration": 306,
    "start_time": "2024-10-20T12:05:40.531Z"
   },
   {
    "duration": 323,
    "start_time": "2024-10-20T12:05:40.839Z"
   },
   {
    "duration": 7,
    "start_time": "2024-10-20T12:05:41.163Z"
   },
   {
    "duration": 8,
    "start_time": "2024-10-20T12:05:41.172Z"
   },
   {
    "duration": 7,
    "start_time": "2024-10-20T12:05:41.181Z"
   },
   {
    "duration": 7,
    "start_time": "2024-10-20T12:05:41.189Z"
   },
   {
    "duration": 373,
    "start_time": "2024-10-20T12:05:41.198Z"
   },
   {
    "duration": 7,
    "start_time": "2024-10-20T12:05:41.573Z"
   },
   {
    "duration": 3,
    "start_time": "2024-10-20T12:05:41.581Z"
   },
   {
    "duration": 231,
    "start_time": "2024-10-20T12:05:41.585Z"
   },
   {
    "duration": 663,
    "start_time": "2024-10-20T12:05:41.817Z"
   },
   {
    "duration": 9,
    "start_time": "2024-10-20T12:05:42.482Z"
   },
   {
    "duration": 6,
    "start_time": "2024-10-20T12:05:42.492Z"
   },
   {
    "duration": 258,
    "start_time": "2024-10-20T12:05:42.499Z"
   },
   {
    "duration": 438,
    "start_time": "2024-10-20T12:05:42.758Z"
   },
   {
    "duration": 5,
    "start_time": "2024-10-20T12:05:43.198Z"
   },
   {
    "duration": 6,
    "start_time": "2024-10-20T12:05:43.204Z"
   },
   {
    "duration": 232,
    "start_time": "2024-10-20T12:05:43.212Z"
   },
   {
    "duration": 426,
    "start_time": "2024-10-20T12:05:43.445Z"
   },
   {
    "duration": 5,
    "start_time": "2024-10-20T12:05:43.873Z"
   },
   {
    "duration": 9,
    "start_time": "2024-10-20T12:05:43.879Z"
   },
   {
    "duration": 259,
    "start_time": "2024-10-20T12:05:43.889Z"
   },
   {
    "duration": 684,
    "start_time": "2024-10-20T12:05:44.152Z"
   },
   {
    "duration": 5,
    "start_time": "2024-10-20T12:05:44.838Z"
   },
   {
    "duration": 108,
    "start_time": "2024-10-20T12:05:44.853Z"
   },
   {
    "duration": 111,
    "start_time": "2024-10-20T12:05:44.963Z"
   },
   {
    "duration": 4,
    "start_time": "2024-10-20T12:05:45.076Z"
   },
   {
    "duration": 28,
    "start_time": "2024-10-20T12:05:45.081Z"
   },
   {
    "duration": 283,
    "start_time": "2024-10-20T12:05:45.110Z"
   },
   {
    "duration": 6,
    "start_time": "2024-10-20T12:05:45.394Z"
   },
   {
    "duration": 16,
    "start_time": "2024-10-20T12:05:45.401Z"
   },
   {
    "duration": 243,
    "start_time": "2024-10-20T12:05:45.418Z"
   },
   {
    "duration": 468,
    "start_time": "2024-10-20T12:05:45.662Z"
   },
   {
    "duration": 7,
    "start_time": "2024-10-20T12:05:46.132Z"
   },
   {
    "duration": 99,
    "start_time": "2024-10-20T12:05:46.141Z"
   },
   {
    "duration": 19,
    "start_time": "2024-10-20T12:05:46.241Z"
   },
   {
    "duration": 23,
    "start_time": "2024-10-20T12:05:46.262Z"
   },
   {
    "duration": 501,
    "start_time": "2024-10-20T12:05:46.292Z"
   },
   {
    "duration": 229,
    "start_time": "2024-10-20T12:05:46.795Z"
   },
   {
    "duration": 487,
    "start_time": "2024-10-20T12:05:47.026Z"
   },
   {
    "duration": 240,
    "start_time": "2024-10-20T12:05:47.515Z"
   },
   {
    "duration": 260,
    "start_time": "2024-10-20T12:05:47.757Z"
   },
   {
    "duration": 6,
    "start_time": "2024-10-20T12:05:48.018Z"
   },
   {
    "duration": 9,
    "start_time": "2024-10-20T12:05:48.027Z"
   },
   {
    "duration": 15,
    "start_time": "2024-10-20T12:05:48.039Z"
   },
   {
    "duration": 288,
    "start_time": "2024-10-20T12:05:48.056Z"
   },
   {
    "duration": 13,
    "start_time": "2024-10-20T12:05:48.346Z"
   },
   {
    "duration": 353,
    "start_time": "2024-10-20T12:05:48.360Z"
   },
   {
    "duration": 13,
    "start_time": "2024-10-20T12:05:48.715Z"
   },
   {
    "duration": 474,
    "start_time": "2024-10-20T12:05:48.729Z"
   },
   {
    "duration": 390,
    "start_time": "2024-10-20T12:05:49.204Z"
   },
   {
    "duration": 775,
    "start_time": "2024-10-20T12:05:49.596Z"
   },
   {
    "duration": 746,
    "start_time": "2024-10-20T12:05:50.373Z"
   },
   {
    "duration": 36,
    "start_time": "2024-10-20T12:05:51.122Z"
   },
   {
    "duration": 18,
    "start_time": "2024-10-20T12:05:51.160Z"
   },
   {
    "duration": 150,
    "start_time": "2024-10-20T12:05:51.180Z"
   },
   {
    "duration": 9,
    "start_time": "2024-10-20T12:14:20.616Z"
   },
   {
    "duration": 91,
    "start_time": "2024-10-20T12:14:56.826Z"
   },
   {
    "duration": 8472,
    "start_time": "2024-10-29T18:28:25.110Z"
   },
   {
    "duration": 1367,
    "start_time": "2024-10-29T18:28:33.584Z"
   },
   {
    "duration": 15,
    "start_time": "2024-10-29T18:28:34.952Z"
   },
   {
    "duration": 1878,
    "start_time": "2024-10-29T18:28:34.969Z"
   },
   {
    "duration": 10,
    "start_time": "2024-10-29T18:28:36.848Z"
   },
   {
    "duration": 61,
    "start_time": "2024-10-29T18:28:36.859Z"
   },
   {
    "duration": 615,
    "start_time": "2024-10-29T18:28:36.922Z"
   },
   {
    "duration": 154,
    "start_time": "2024-10-29T18:28:37.539Z"
   },
   {
    "duration": 5,
    "start_time": "2024-10-29T18:28:37.695Z"
   },
   {
    "duration": 29,
    "start_time": "2024-10-29T18:28:37.702Z"
   },
   {
    "duration": 174,
    "start_time": "2024-10-29T18:28:37.733Z"
   },
   {
    "duration": 5,
    "start_time": "2024-10-29T18:28:37.909Z"
   },
   {
    "duration": 13,
    "start_time": "2024-10-29T18:28:37.916Z"
   },
   {
    "duration": 17,
    "start_time": "2024-10-29T18:28:37.930Z"
   },
   {
    "duration": 23,
    "start_time": "2024-10-29T18:28:37.948Z"
   },
   {
    "duration": 26,
    "start_time": "2024-10-29T18:28:37.972Z"
   },
   {
    "duration": 10,
    "start_time": "2024-10-29T18:28:37.999Z"
   },
   {
    "duration": 10,
    "start_time": "2024-10-29T18:28:38.010Z"
   },
   {
    "duration": 31,
    "start_time": "2024-10-29T18:28:38.022Z"
   },
   {
    "duration": 7,
    "start_time": "2024-10-29T18:28:38.055Z"
   },
   {
    "duration": 7,
    "start_time": "2024-10-29T18:28:38.064Z"
   },
   {
    "duration": 7,
    "start_time": "2024-10-29T18:28:38.073Z"
   },
   {
    "duration": 22,
    "start_time": "2024-10-29T18:28:38.081Z"
   },
   {
    "duration": 162,
    "start_time": "2024-10-29T18:28:38.104Z"
   },
   {
    "duration": 6,
    "start_time": "2024-10-29T18:28:38.268Z"
   },
   {
    "duration": 192,
    "start_time": "2024-10-29T18:28:38.275Z"
   },
   {
    "duration": 180,
    "start_time": "2024-10-29T18:28:38.469Z"
   },
   {
    "duration": 17,
    "start_time": "2024-10-29T18:28:38.653Z"
   },
   {
    "duration": 1477,
    "start_time": "2024-10-29T18:28:38.672Z"
   },
   {
    "duration": 194,
    "start_time": "2024-10-29T18:28:40.151Z"
   },
   {
    "duration": 10,
    "start_time": "2024-10-29T18:28:40.346Z"
   },
   {
    "duration": 42,
    "start_time": "2024-10-29T18:28:40.358Z"
   },
   {
    "duration": 24,
    "start_time": "2024-10-29T18:28:40.402Z"
   },
   {
    "duration": 2146,
    "start_time": "2024-10-29T18:28:40.430Z"
   },
   {
    "duration": 7,
    "start_time": "2024-10-29T18:28:42.578Z"
   },
   {
    "duration": 6,
    "start_time": "2024-10-29T18:28:42.587Z"
   },
   {
    "duration": 423,
    "start_time": "2024-10-29T18:28:42.594Z"
   },
   {
    "duration": 302,
    "start_time": "2024-10-29T18:28:43.018Z"
   },
   {
    "duration": 305,
    "start_time": "2024-10-29T18:28:43.322Z"
   },
   {
    "duration": 394,
    "start_time": "2024-10-29T18:28:43.628Z"
   },
   {
    "duration": 19,
    "start_time": "2024-10-29T18:28:44.023Z"
   },
   {
    "duration": 10,
    "start_time": "2024-10-29T18:28:44.044Z"
   },
   {
    "duration": 8,
    "start_time": "2024-10-29T18:28:44.056Z"
   },
   {
    "duration": 11,
    "start_time": "2024-10-29T18:28:44.065Z"
   },
   {
    "duration": 486,
    "start_time": "2024-10-29T18:28:44.078Z"
   },
   {
    "duration": 8,
    "start_time": "2024-10-29T18:28:44.566Z"
   },
   {
    "duration": 2,
    "start_time": "2024-10-29T18:28:44.575Z"
   },
   {
    "duration": 229,
    "start_time": "2024-10-29T18:28:44.578Z"
   },
   {
    "duration": 527,
    "start_time": "2024-10-29T18:28:44.808Z"
   },
   {
    "duration": 10,
    "start_time": "2024-10-29T18:28:45.337Z"
   },
   {
    "duration": 9,
    "start_time": "2024-10-29T18:28:45.349Z"
   },
   {
    "duration": 346,
    "start_time": "2024-10-29T18:28:45.360Z"
   },
   {
    "duration": 441,
    "start_time": "2024-10-29T18:28:45.707Z"
   },
   {
    "duration": 5,
    "start_time": "2024-10-29T18:28:46.149Z"
   },
   {
    "duration": 13,
    "start_time": "2024-10-29T18:28:46.155Z"
   },
   {
    "duration": 230,
    "start_time": "2024-10-29T18:28:46.170Z"
   },
   {
    "duration": 573,
    "start_time": "2024-10-29T18:28:46.402Z"
   },
   {
    "duration": 5,
    "start_time": "2024-10-29T18:28:46.977Z"
   },
   {
    "duration": 19,
    "start_time": "2024-10-29T18:28:46.984Z"
   },
   {
    "duration": 238,
    "start_time": "2024-10-29T18:28:47.005Z"
   },
   {
    "duration": 493,
    "start_time": "2024-10-29T18:28:47.245Z"
   },
   {
    "duration": 5,
    "start_time": "2024-10-29T18:28:47.742Z"
   },
   {
    "duration": 110,
    "start_time": "2024-10-29T18:28:47.749Z"
   },
   {
    "duration": 106,
    "start_time": "2024-10-29T18:28:47.861Z"
   },
   {
    "duration": 5,
    "start_time": "2024-10-29T18:28:47.969Z"
   },
   {
    "duration": 13,
    "start_time": "2024-10-29T18:28:47.975Z"
   },
   {
    "duration": 362,
    "start_time": "2024-10-29T18:28:47.990Z"
   },
   {
    "duration": 5,
    "start_time": "2024-10-29T18:28:48.354Z"
   },
   {
    "duration": 37,
    "start_time": "2024-10-29T18:28:48.360Z"
   },
   {
    "duration": 233,
    "start_time": "2024-10-29T18:28:48.399Z"
   },
   {
    "duration": 522,
    "start_time": "2024-10-29T18:28:48.634Z"
   },
   {
    "duration": 7,
    "start_time": "2024-10-29T18:28:49.157Z"
   },
   {
    "duration": 99,
    "start_time": "2024-10-29T18:28:49.165Z"
   },
   {
    "duration": 8,
    "start_time": "2024-10-29T18:28:49.265Z"
   },
   {
    "duration": 18,
    "start_time": "2024-10-29T18:28:49.274Z"
   },
   {
    "duration": 587,
    "start_time": "2024-10-29T18:28:49.294Z"
   },
   {
    "duration": 246,
    "start_time": "2024-10-29T18:28:49.883Z"
   },
   {
    "duration": 239,
    "start_time": "2024-10-29T18:28:50.131Z"
   },
   {
    "duration": 264,
    "start_time": "2024-10-29T18:28:50.371Z"
   },
   {
    "duration": 224,
    "start_time": "2024-10-29T18:28:50.637Z"
   },
   {
    "duration": 5,
    "start_time": "2024-10-29T18:28:50.863Z"
   },
   {
    "duration": 5,
    "start_time": "2024-10-29T18:28:50.874Z"
   },
   {
    "duration": 6,
    "start_time": "2024-10-29T18:28:50.880Z"
   },
   {
    "duration": 373,
    "start_time": "2024-10-29T18:28:50.888Z"
   },
   {
    "duration": 9,
    "start_time": "2024-10-29T18:28:51.263Z"
   },
   {
    "duration": 240,
    "start_time": "2024-10-29T18:28:51.273Z"
   },
   {
    "duration": 317,
    "start_time": "2024-10-29T18:28:51.515Z"
   },
   {
    "duration": 12,
    "start_time": "2024-10-29T18:28:51.833Z"
   },
   {
    "duration": 171,
    "start_time": "2024-10-29T18:28:51.847Z"
   },
   {
    "duration": 203,
    "start_time": "2024-10-29T18:28:52.020Z"
   },
   {
    "duration": 178,
    "start_time": "2024-10-29T18:28:52.224Z"
   },
   {
    "duration": 167,
    "start_time": "2024-10-29T18:28:52.403Z"
   },
   {
    "duration": 282,
    "start_time": "2024-10-29T18:28:52.572Z"
   },
   {
    "duration": 240,
    "start_time": "2024-10-29T18:28:52.856Z"
   },
   {
    "duration": 397,
    "start_time": "2024-10-29T18:28:53.098Z"
   },
   {
    "duration": 381,
    "start_time": "2024-10-29T18:28:53.496Z"
   },
   {
    "duration": 126,
    "start_time": "2024-10-29T18:28:53.879Z"
   },
   {
    "duration": 136,
    "start_time": "2024-10-29T18:28:54.007Z"
   },
   {
    "duration": 17,
    "start_time": "2024-10-29T18:29:44.106Z"
   },
   {
    "duration": 7744,
    "start_time": "2024-10-30T13:15:36.671Z"
   },
   {
    "duration": 1397,
    "start_time": "2024-10-30T13:15:44.417Z"
   },
   {
    "duration": 13,
    "start_time": "2024-10-30T13:15:45.815Z"
   },
   {
    "duration": 1635,
    "start_time": "2024-10-30T13:15:45.829Z"
   },
   {
    "duration": 8,
    "start_time": "2024-10-30T13:15:47.466Z"
   },
   {
    "duration": 48,
    "start_time": "2024-10-30T13:15:47.475Z"
   },
   {
    "duration": 577,
    "start_time": "2024-10-30T13:15:47.524Z"
   },
   {
    "duration": 127,
    "start_time": "2024-10-30T13:15:48.102Z"
   },
   {
    "duration": 5,
    "start_time": "2024-10-30T13:15:48.230Z"
   },
   {
    "duration": 83,
    "start_time": "2024-10-30T13:15:48.236Z"
   },
   {
    "duration": 162,
    "start_time": "2024-10-30T13:15:48.321Z"
   },
   {
    "duration": 5,
    "start_time": "2024-10-30T13:15:48.485Z"
   },
   {
    "duration": 5,
    "start_time": "2024-10-30T13:15:48.492Z"
   },
   {
    "duration": 4,
    "start_time": "2024-10-30T13:15:48.500Z"
   },
   {
    "duration": 11,
    "start_time": "2024-10-30T13:15:48.505Z"
   },
   {
    "duration": 8,
    "start_time": "2024-10-30T13:15:48.518Z"
   },
   {
    "duration": 4,
    "start_time": "2024-10-30T13:15:48.527Z"
   },
   {
    "duration": 6,
    "start_time": "2024-10-30T13:15:48.558Z"
   },
   {
    "duration": 9,
    "start_time": "2024-10-30T13:15:48.566Z"
   },
   {
    "duration": 7,
    "start_time": "2024-10-30T13:15:48.576Z"
   },
   {
    "duration": 11,
    "start_time": "2024-10-30T13:15:48.584Z"
   },
   {
    "duration": 11,
    "start_time": "2024-10-30T13:15:48.596Z"
   },
   {
    "duration": 6,
    "start_time": "2024-10-30T13:15:48.608Z"
   },
   {
    "duration": 180,
    "start_time": "2024-10-30T13:15:48.615Z"
   },
   {
    "duration": 6,
    "start_time": "2024-10-30T13:15:48.796Z"
   },
   {
    "duration": 176,
    "start_time": "2024-10-30T13:15:48.803Z"
   },
   {
    "duration": 148,
    "start_time": "2024-10-30T13:15:48.980Z"
   },
   {
    "duration": 27,
    "start_time": "2024-10-30T13:15:49.130Z"
   },
   {
    "duration": 1107,
    "start_time": "2024-10-30T13:15:49.159Z"
   },
   {
    "duration": 190,
    "start_time": "2024-10-30T13:15:50.357Z"
   },
   {
    "duration": 10,
    "start_time": "2024-10-30T13:15:50.548Z"
   },
   {
    "duration": 12,
    "start_time": "2024-10-30T13:15:50.559Z"
   },
   {
    "duration": 28,
    "start_time": "2024-10-30T13:15:50.573Z"
   },
   {
    "duration": 1826,
    "start_time": "2024-10-30T13:15:50.602Z"
   },
   {
    "duration": 8,
    "start_time": "2024-10-30T13:15:52.429Z"
   },
   {
    "duration": 4,
    "start_time": "2024-10-30T13:15:52.439Z"
   },
   {
    "duration": 381,
    "start_time": "2024-10-30T13:15:52.458Z"
   },
   {
    "duration": 300,
    "start_time": "2024-10-30T13:15:52.840Z"
   },
   {
    "duration": 289,
    "start_time": "2024-10-30T13:15:53.141Z"
   },
   {
    "duration": 334,
    "start_time": "2024-10-30T13:15:53.431Z"
   },
   {
    "duration": 7,
    "start_time": "2024-10-30T13:15:53.859Z"
   },
   {
    "duration": 48,
    "start_time": "2024-10-30T13:15:53.867Z"
   },
   {
    "duration": 28,
    "start_time": "2024-10-30T13:15:53.916Z"
   },
   {
    "duration": 23,
    "start_time": "2024-10-30T13:15:53.946Z"
   },
   {
    "duration": 334,
    "start_time": "2024-10-30T13:15:53.971Z"
   },
   {
    "duration": 8,
    "start_time": "2024-10-30T13:15:54.307Z"
   },
   {
    "duration": 16,
    "start_time": "2024-10-30T13:15:54.317Z"
   },
   {
    "duration": 219,
    "start_time": "2024-10-30T13:15:54.335Z"
   },
   {
    "duration": 451,
    "start_time": "2024-10-30T13:15:54.557Z"
   },
   {
    "duration": 6,
    "start_time": "2024-10-30T13:15:55.009Z"
   },
   {
    "duration": 61,
    "start_time": "2024-10-30T13:15:55.016Z"
   },
   {
    "duration": 237,
    "start_time": "2024-10-30T13:15:55.079Z"
   },
   {
    "duration": 381,
    "start_time": "2024-10-30T13:15:55.317Z"
   },
   {
    "duration": 5,
    "start_time": "2024-10-30T13:15:55.699Z"
   },
   {
    "duration": 70,
    "start_time": "2024-10-30T13:15:55.706Z"
   },
   {
    "duration": 196,
    "start_time": "2024-10-30T13:15:55.778Z"
   },
   {
    "duration": 436,
    "start_time": "2024-10-30T13:15:55.975Z"
   },
   {
    "duration": 4,
    "start_time": "2024-10-30T13:15:56.413Z"
   },
   {
    "duration": 7,
    "start_time": "2024-10-30T13:15:56.418Z"
   },
   {
    "duration": 208,
    "start_time": "2024-10-30T13:15:56.426Z"
   },
   {
    "duration": 427,
    "start_time": "2024-10-30T13:15:56.635Z"
   },
   {
    "duration": 5,
    "start_time": "2024-10-30T13:15:57.063Z"
   },
   {
    "duration": 89,
    "start_time": "2024-10-30T13:15:57.069Z"
   },
   {
    "duration": 83,
    "start_time": "2024-10-30T13:15:57.160Z"
   },
   {
    "duration": 4,
    "start_time": "2024-10-30T13:15:57.257Z"
   },
   {
    "duration": 10,
    "start_time": "2024-10-30T13:15:57.262Z"
   },
   {
    "duration": 271,
    "start_time": "2024-10-30T13:15:57.274Z"
   },
   {
    "duration": 5,
    "start_time": "2024-10-30T13:15:57.546Z"
   },
   {
    "duration": 7,
    "start_time": "2024-10-30T13:15:57.557Z"
   },
   {
    "duration": 194,
    "start_time": "2024-10-30T13:15:57.565Z"
   },
   {
    "duration": 414,
    "start_time": "2024-10-30T13:15:57.760Z"
   },
   {
    "duration": 6,
    "start_time": "2024-10-30T13:15:58.175Z"
   },
   {
    "duration": 82,
    "start_time": "2024-10-30T13:15:58.183Z"
   },
   {
    "duration": 7,
    "start_time": "2024-10-30T13:15:58.267Z"
   },
   {
    "duration": 37,
    "start_time": "2024-10-30T13:15:58.275Z"
   },
   {
    "duration": 496,
    "start_time": "2024-10-30T13:15:58.313Z"
   },
   {
    "duration": 190,
    "start_time": "2024-10-30T13:15:58.811Z"
   },
   {
    "duration": 225,
    "start_time": "2024-10-30T13:15:59.003Z"
   },
   {
    "duration": 186,
    "start_time": "2024-10-30T13:15:59.230Z"
   },
   {
    "duration": 187,
    "start_time": "2024-10-30T13:15:59.418Z"
   },
   {
    "duration": 6,
    "start_time": "2024-10-30T13:15:59.607Z"
   },
   {
    "duration": 5,
    "start_time": "2024-10-30T13:15:59.615Z"
   },
   {
    "duration": 3,
    "start_time": "2024-10-30T13:15:59.621Z"
   },
   {
    "duration": 305,
    "start_time": "2024-10-30T13:15:59.626Z"
   },
   {
    "duration": 8,
    "start_time": "2024-10-30T13:15:59.933Z"
   },
   {
    "duration": 222,
    "start_time": "2024-10-30T13:15:59.942Z"
   },
   {
    "duration": 279,
    "start_time": "2024-10-30T13:16:00.165Z"
   },
   {
    "duration": 13,
    "start_time": "2024-10-30T13:16:00.445Z"
   },
   {
    "duration": 149,
    "start_time": "2024-10-30T13:16:00.459Z"
   },
   {
    "duration": 135,
    "start_time": "2024-10-30T13:16:00.609Z"
   },
   {
    "duration": 158,
    "start_time": "2024-10-30T13:16:00.745Z"
   },
   {
    "duration": 156,
    "start_time": "2024-10-30T13:16:00.904Z"
   },
   {
    "duration": 176,
    "start_time": "2024-10-30T13:16:01.062Z"
   },
   {
    "duration": 178,
    "start_time": "2024-10-30T13:16:01.239Z"
   },
   {
    "duration": 250,
    "start_time": "2024-10-30T13:16:01.418Z"
   },
   {
    "duration": 1785,
    "start_time": "2024-10-30T13:16:01.669Z"
   },
   {
    "duration": 0,
    "start_time": "2024-10-30T13:16:03.456Z"
   },
   {
    "duration": 0,
    "start_time": "2024-10-30T13:16:03.456Z"
   },
   {
    "duration": 0,
    "start_time": "2024-10-30T13:16:03.458Z"
   },
   {
    "duration": 0,
    "start_time": "2024-10-30T13:16:03.459Z"
   },
   {
    "duration": 0,
    "start_time": "2024-10-30T13:16:03.460Z"
   },
   {
    "duration": 0,
    "start_time": "2024-10-30T13:16:03.461Z"
   },
   {
    "duration": 649,
    "start_time": "2024-11-03T11:31:59.897Z"
   },
   {
    "duration": 7448,
    "start_time": "2024-11-03T11:32:14.361Z"
   },
   {
    "duration": 649,
    "start_time": "2024-11-03T11:32:21.812Z"
   },
   {
    "duration": 169,
    "start_time": "2024-11-03T11:32:22.462Z"
   },
   {
    "duration": 15,
    "start_time": "2024-11-03T11:32:22.634Z"
   },
   {
    "duration": 25,
    "start_time": "2024-11-03T11:32:22.651Z"
   },
   {
    "duration": 43,
    "start_time": "2024-11-03T11:32:22.677Z"
   },
   {
    "duration": 20,
    "start_time": "2024-11-03T11:32:22.721Z"
   },
   {
    "duration": 59,
    "start_time": "2024-11-03T11:32:22.742Z"
   },
   {
    "duration": 28,
    "start_time": "2024-11-03T11:32:22.803Z"
   },
   {
    "duration": 31,
    "start_time": "2024-11-03T11:32:22.833Z"
   },
   {
    "duration": 81,
    "start_time": "2024-11-03T11:32:22.866Z"
   },
   {
    "duration": 95,
    "start_time": "2024-11-03T11:32:22.949Z"
   },
   {
    "duration": 10,
    "start_time": "2024-11-03T11:32:23.045Z"
   },
   {
    "duration": 30,
    "start_time": "2024-11-03T11:32:23.057Z"
   },
   {
    "duration": 13,
    "start_time": "2024-11-03T11:32:23.088Z"
   },
   {
    "duration": 35,
    "start_time": "2024-11-03T11:32:23.103Z"
   },
   {
    "duration": 20,
    "start_time": "2024-11-03T11:32:23.140Z"
   },
   {
    "duration": 20,
    "start_time": "2024-11-03T11:32:23.162Z"
   },
   {
    "duration": 50,
    "start_time": "2024-11-03T11:32:23.184Z"
   },
   {
    "duration": 51,
    "start_time": "2024-11-03T11:32:23.235Z"
   },
   {
    "duration": 18,
    "start_time": "2024-11-03T11:32:23.288Z"
   },
   {
    "duration": 40,
    "start_time": "2024-11-03T11:32:23.308Z"
   },
   {
    "duration": 26,
    "start_time": "2024-11-03T11:32:23.350Z"
   },
   {
    "duration": 16,
    "start_time": "2024-11-03T11:32:23.377Z"
   },
   {
    "duration": 251692,
    "start_time": "2024-11-03T11:32:23.395Z"
   },
   {
    "duration": 29,
    "start_time": "2024-11-03T11:36:35.088Z"
   },
   {
    "duration": 36,
    "start_time": "2024-11-03T11:36:35.119Z"
   },
   {
    "duration": 39,
    "start_time": "2024-11-03T11:36:35.159Z"
   },
   {
    "duration": 29,
    "start_time": "2024-11-03T11:36:35.199Z"
   },
   {
    "duration": 31,
    "start_time": "2024-11-03T11:36:35.229Z"
   },
   {
    "duration": 19,
    "start_time": "2024-11-03T11:36:35.261Z"
   },
   {
    "duration": 29,
    "start_time": "2024-11-03T11:36:35.282Z"
   },
   {
    "duration": 30,
    "start_time": "2024-11-03T11:36:35.312Z"
   },
   {
    "duration": 19,
    "start_time": "2024-11-03T11:36:35.344Z"
   },
   {
    "duration": 26,
    "start_time": "2024-11-03T11:36:35.365Z"
   },
   {
    "duration": 6,
    "start_time": "2024-11-03T11:36:35.392Z"
   },
   {
    "duration": 1037,
    "start_time": "2024-11-03T11:36:35.400Z"
   },
   {
    "duration": 374,
    "start_time": "2024-11-03T11:36:36.443Z"
   },
   {
    "duration": 93,
    "start_time": "2024-11-03T11:36:36.819Z"
   },
   {
    "duration": 29,
    "start_time": "2024-11-03T11:36:36.913Z"
   },
   {
    "duration": 15,
    "start_time": "2024-11-03T11:36:36.944Z"
   },
   {
    "duration": 456,
    "start_time": "2024-11-03T11:36:36.960Z"
   },
   {
    "duration": 971,
    "start_time": "2024-11-03T11:36:37.418Z"
   },
   {
    "duration": 106,
    "start_time": "2024-11-03T11:36:38.391Z"
   },
   {
    "duration": 314,
    "start_time": "2024-11-03T11:36:38.499Z"
   },
   {
    "duration": 13,
    "start_time": "2024-11-03T11:36:38.815Z"
   },
   {
    "duration": 65,
    "start_time": "2024-11-03T11:36:38.830Z"
   },
   {
    "duration": 11,
    "start_time": "2024-11-03T11:36:38.897Z"
   },
   {
    "duration": 73,
    "start_time": "2024-11-03T11:36:38.910Z"
   },
   {
    "duration": 142,
    "start_time": "2024-11-03T11:36:38.985Z"
   },
   {
    "duration": 4,
    "start_time": "2024-11-03T11:36:39.129Z"
   },
   {
    "duration": 143,
    "start_time": "2024-11-03T11:36:39.134Z"
   },
   {
    "duration": 143,
    "start_time": "2024-11-03T11:36:39.279Z"
   },
   {
    "duration": 170,
    "start_time": "2024-11-03T11:36:39.424Z"
   },
   {
    "duration": 229,
    "start_time": "2024-11-03T11:36:39.596Z"
   },
   {
    "duration": 220,
    "start_time": "2024-11-03T11:36:39.826Z"
   },
   {
    "duration": 30,
    "start_time": "2024-11-03T11:36:40.047Z"
   },
   {
    "duration": 166,
    "start_time": "2024-11-03T11:36:40.079Z"
   },
   {
    "duration": 156,
    "start_time": "2024-11-03T11:36:40.247Z"
   },
   {
    "duration": 214,
    "start_time": "2024-11-03T11:36:40.405Z"
   },
   {
    "duration": 149,
    "start_time": "2024-11-03T11:36:40.621Z"
   },
   {
    "duration": 159,
    "start_time": "2024-11-03T11:36:40.772Z"
   },
   {
    "duration": 147,
    "start_time": "2024-11-03T11:36:40.932Z"
   },
   {
    "duration": 147,
    "start_time": "2024-11-03T11:36:41.081Z"
   },
   {
    "duration": 41,
    "start_time": "2024-11-03T11:36:41.229Z"
   },
   {
    "duration": 118,
    "start_time": "2024-11-03T11:36:41.272Z"
   },
   {
    "duration": 380,
    "start_time": "2024-11-03T11:36:41.392Z"
   },
   {
    "duration": 280,
    "start_time": "2024-11-03T11:36:41.774Z"
   },
   {
    "duration": 154,
    "start_time": "2024-11-03T11:36:42.056Z"
   },
   {
    "duration": 427,
    "start_time": "2024-11-03T11:36:42.212Z"
   },
   {
    "duration": 34,
    "start_time": "2024-11-03T11:36:42.643Z"
   },
   {
    "duration": 142,
    "start_time": "2024-11-03T11:36:42.679Z"
   },
   {
    "duration": 6,
    "start_time": "2024-11-03T11:38:01.245Z"
   },
   {
    "duration": 91,
    "start_time": "2024-11-03T11:38:08.858Z"
   },
   {
    "duration": 6,
    "start_time": "2024-11-03T11:38:15.873Z"
   },
   {
    "duration": 12301,
    "start_time": "2024-11-03T11:41:23.011Z"
   },
   {
    "duration": 15,
    "start_time": "2024-11-03T11:41:50.744Z"
   },
   {
    "duration": 2,
    "start_time": "2024-11-03T11:42:10.854Z"
   },
   {
    "duration": 86,
    "start_time": "2024-11-03T11:45:18.680Z"
   },
   {
    "duration": 3,
    "start_time": "2024-11-03T11:45:24.849Z"
   },
   {
    "duration": 274857,
    "start_time": "2024-11-03T11:45:41.151Z"
   },
   {
    "duration": 4,
    "start_time": "2024-11-03T11:50:32.256Z"
   },
   {
    "duration": 158044,
    "start_time": "2024-11-03T11:50:38.963Z"
   },
   {
    "duration": 28,
    "start_time": "2024-11-03T11:53:19.234Z"
   },
   {
    "duration": 3,
    "start_time": "2024-11-03T11:54:28.490Z"
   },
   {
    "duration": 2302,
    "start_time": "2024-11-03T11:58:05.963Z"
   },
   {
    "duration": 654,
    "start_time": "2024-11-03T11:58:08.268Z"
   },
   {
    "duration": 178,
    "start_time": "2024-11-03T11:58:08.923Z"
   },
   {
    "duration": 16,
    "start_time": "2024-11-03T11:58:09.103Z"
   },
   {
    "duration": 12,
    "start_time": "2024-11-03T11:58:09.121Z"
   },
   {
    "duration": 20,
    "start_time": "2024-11-03T11:58:09.134Z"
   },
   {
    "duration": 20,
    "start_time": "2024-11-03T11:58:09.156Z"
   },
   {
    "duration": 42,
    "start_time": "2024-11-03T11:58:09.178Z"
   },
   {
    "duration": 28,
    "start_time": "2024-11-03T11:58:09.222Z"
   },
   {
    "duration": 5,
    "start_time": "2024-11-03T11:58:09.252Z"
   },
   {
    "duration": 20,
    "start_time": "2024-11-03T11:58:09.258Z"
   },
   {
    "duration": 52,
    "start_time": "2024-11-03T11:58:09.279Z"
   },
   {
    "duration": 16,
    "start_time": "2024-11-03T11:58:09.333Z"
   },
   {
    "duration": 24,
    "start_time": "2024-11-03T11:58:09.351Z"
   },
   {
    "duration": 7,
    "start_time": "2024-11-03T11:58:09.377Z"
   },
   {
    "duration": 16,
    "start_time": "2024-11-03T11:58:09.385Z"
   },
   {
    "duration": 6,
    "start_time": "2024-11-03T11:58:09.403Z"
   },
   {
    "duration": 35,
    "start_time": "2024-11-03T11:58:09.410Z"
   },
   {
    "duration": 21,
    "start_time": "2024-11-03T11:58:09.446Z"
   },
   {
    "duration": 16,
    "start_time": "2024-11-03T11:58:09.468Z"
   },
   {
    "duration": 7,
    "start_time": "2024-11-03T11:58:09.485Z"
   },
   {
    "duration": 14,
    "start_time": "2024-11-03T11:58:09.494Z"
   },
   {
    "duration": 37,
    "start_time": "2024-11-03T11:58:09.510Z"
   },
   {
    "duration": 6,
    "start_time": "2024-11-03T11:58:09.549Z"
   },
   {
    "duration": 11850,
    "start_time": "2024-11-03T11:58:09.556Z"
   },
   {
    "duration": 3,
    "start_time": "2024-11-03T11:58:21.408Z"
   },
   {
    "duration": 7,
    "start_time": "2024-11-03T11:58:21.412Z"
   },
   {
    "duration": 3,
    "start_time": "2024-11-03T11:58:21.424Z"
   },
   {
    "duration": 1552,
    "start_time": "2024-11-03T11:58:21.429Z"
   },
   {
    "duration": 0,
    "start_time": "2024-11-03T11:58:22.982Z"
   },
   {
    "duration": 0,
    "start_time": "2024-11-03T11:58:22.983Z"
   },
   {
    "duration": 0,
    "start_time": "2024-11-03T11:58:22.984Z"
   },
   {
    "duration": 0,
    "start_time": "2024-11-03T11:58:22.985Z"
   },
   {
    "duration": 0,
    "start_time": "2024-11-03T11:58:22.987Z"
   },
   {
    "duration": 0,
    "start_time": "2024-11-03T11:58:22.988Z"
   },
   {
    "duration": 0,
    "start_time": "2024-11-03T11:58:22.989Z"
   },
   {
    "duration": 0,
    "start_time": "2024-11-03T11:58:22.990Z"
   },
   {
    "duration": 0,
    "start_time": "2024-11-03T11:58:22.991Z"
   },
   {
    "duration": 0,
    "start_time": "2024-11-03T11:58:22.992Z"
   },
   {
    "duration": 0,
    "start_time": "2024-11-03T11:58:22.993Z"
   },
   {
    "duration": 0,
    "start_time": "2024-11-03T11:58:22.994Z"
   },
   {
    "duration": 0,
    "start_time": "2024-11-03T11:58:22.995Z"
   },
   {
    "duration": 0,
    "start_time": "2024-11-03T11:58:22.996Z"
   },
   {
    "duration": 0,
    "start_time": "2024-11-03T11:58:22.997Z"
   },
   {
    "duration": 0,
    "start_time": "2024-11-03T11:58:22.997Z"
   },
   {
    "duration": 0,
    "start_time": "2024-11-03T11:58:22.999Z"
   },
   {
    "duration": 0,
    "start_time": "2024-11-03T11:58:23.000Z"
   },
   {
    "duration": 0,
    "start_time": "2024-11-03T11:58:23.000Z"
   },
   {
    "duration": 0,
    "start_time": "2024-11-03T11:58:23.001Z"
   },
   {
    "duration": 0,
    "start_time": "2024-11-03T11:58:23.002Z"
   },
   {
    "duration": 0,
    "start_time": "2024-11-03T11:58:23.003Z"
   },
   {
    "duration": 0,
    "start_time": "2024-11-03T11:58:23.004Z"
   },
   {
    "duration": 0,
    "start_time": "2024-11-03T11:58:23.006Z"
   },
   {
    "duration": 0,
    "start_time": "2024-11-03T11:58:23.007Z"
   },
   {
    "duration": 0,
    "start_time": "2024-11-03T11:58:23.008Z"
   },
   {
    "duration": 0,
    "start_time": "2024-11-03T11:58:23.009Z"
   },
   {
    "duration": 0,
    "start_time": "2024-11-03T11:58:23.010Z"
   },
   {
    "duration": 0,
    "start_time": "2024-11-03T11:58:23.012Z"
   },
   {
    "duration": 0,
    "start_time": "2024-11-03T11:58:23.013Z"
   },
   {
    "duration": 0,
    "start_time": "2024-11-03T11:58:23.015Z"
   },
   {
    "duration": 0,
    "start_time": "2024-11-03T11:58:23.016Z"
   },
   {
    "duration": 0,
    "start_time": "2024-11-03T11:58:23.017Z"
   },
   {
    "duration": 0,
    "start_time": "2024-11-03T11:58:23.018Z"
   },
   {
    "duration": 0,
    "start_time": "2024-11-03T11:58:23.019Z"
   },
   {
    "duration": 0,
    "start_time": "2024-11-03T11:58:23.043Z"
   },
   {
    "duration": 0,
    "start_time": "2024-11-03T11:58:23.044Z"
   },
   {
    "duration": 0,
    "start_time": "2024-11-03T11:58:23.045Z"
   },
   {
    "duration": 0,
    "start_time": "2024-11-03T11:58:23.046Z"
   },
   {
    "duration": 0,
    "start_time": "2024-11-03T11:58:23.047Z"
   },
   {
    "duration": 0,
    "start_time": "2024-11-03T11:58:23.048Z"
   },
   {
    "duration": 0,
    "start_time": "2024-11-03T11:58:23.049Z"
   },
   {
    "duration": 0,
    "start_time": "2024-11-03T11:58:23.051Z"
   },
   {
    "duration": 0,
    "start_time": "2024-11-03T11:58:23.052Z"
   },
   {
    "duration": 0,
    "start_time": "2024-11-03T11:58:23.053Z"
   },
   {
    "duration": 0,
    "start_time": "2024-11-03T11:58:23.054Z"
   },
   {
    "duration": 0,
    "start_time": "2024-11-03T11:58:23.055Z"
   },
   {
    "duration": 0,
    "start_time": "2024-11-03T11:58:23.056Z"
   },
   {
    "duration": 0,
    "start_time": "2024-11-03T11:58:23.057Z"
   },
   {
    "duration": 0,
    "start_time": "2024-11-03T11:58:23.058Z"
   },
   {
    "duration": 0,
    "start_time": "2024-11-03T11:58:23.059Z"
   },
   {
    "duration": 0,
    "start_time": "2024-11-03T11:58:23.060Z"
   },
   {
    "duration": 0,
    "start_time": "2024-11-03T11:58:23.062Z"
   },
   {
    "duration": 4,
    "start_time": "2024-11-03T12:00:42.393Z"
   },
   {
    "duration": 205,
    "start_time": "2024-11-03T12:00:42.614Z"
   },
   {
    "duration": 5,
    "start_time": "2024-11-03T12:01:15.987Z"
   },
   {
    "duration": 25,
    "start_time": "2024-11-03T12:04:15.532Z"
   },
   {
    "duration": 2,
    "start_time": "2024-11-03T12:04:29.235Z"
   },
   {
    "duration": 1170,
    "start_time": "2024-11-03T12:05:07.049Z"
   },
   {
    "duration": 4,
    "start_time": "2024-11-03T12:05:49.207Z"
   },
   {
    "duration": 3,
    "start_time": "2024-11-03T12:05:50.291Z"
   },
   {
    "duration": 1227,
    "start_time": "2024-11-03T12:05:50.780Z"
   },
   {
    "duration": 1249,
    "start_time": "2024-11-03T12:06:08.173Z"
   },
   {
    "duration": 4,
    "start_time": "2024-11-03T12:06:38.714Z"
   },
   {
    "duration": 2,
    "start_time": "2024-11-03T12:06:40.134Z"
   },
   {
    "duration": 1538,
    "start_time": "2024-11-03T12:06:40.434Z"
   },
   {
    "duration": 5,
    "start_time": "2024-11-03T12:07:11.122Z"
   },
   {
    "duration": 4,
    "start_time": "2024-11-03T12:07:11.680Z"
   },
   {
    "duration": 1658,
    "start_time": "2024-11-03T12:07:18.394Z"
   },
   {
    "duration": 8,
    "start_time": "2024-11-03T12:07:40.225Z"
   },
   {
    "duration": 7,
    "start_time": "2024-11-03T12:07:47.874Z"
   },
   {
    "duration": 5,
    "start_time": "2024-11-03T12:08:53.858Z"
   },
   {
    "duration": 3,
    "start_time": "2024-11-03T12:08:54.668Z"
   },
   {
    "duration": 8,
    "start_time": "2024-11-03T12:08:55.185Z"
   },
   {
    "duration": 1336,
    "start_time": "2024-11-03T12:08:57.285Z"
   },
   {
    "duration": 3,
    "start_time": "2024-11-03T12:09:34.034Z"
   },
   {
    "duration": 25,
    "start_time": "2024-11-03T12:09:48.317Z"
   },
   {
    "duration": 2,
    "start_time": "2024-11-03T12:09:55.699Z"
   },
   {
    "duration": 1231,
    "start_time": "2024-11-03T12:11:38.691Z"
   },
   {
    "duration": 4,
    "start_time": "2024-11-03T12:11:50.562Z"
   },
   {
    "duration": 13,
    "start_time": "2024-11-03T12:11:55.013Z"
   },
   {
    "duration": 5,
    "start_time": "2024-11-03T12:12:33.516Z"
   },
   {
    "duration": 12,
    "start_time": "2024-11-03T12:12:34.688Z"
   },
   {
    "duration": 4,
    "start_time": "2024-11-03T12:14:14.532Z"
   },
   {
    "duration": 4,
    "start_time": "2024-11-03T12:14:20.622Z"
   },
   {
    "duration": 3,
    "start_time": "2024-11-03T12:14:21.511Z"
   },
   {
    "duration": 2,
    "start_time": "2024-11-03T12:14:22.151Z"
   },
   {
    "duration": 6,
    "start_time": "2024-11-03T12:14:23.422Z"
   },
   {
    "duration": 8,
    "start_time": "2024-11-03T12:15:26.338Z"
   },
   {
    "duration": 11662,
    "start_time": "2024-11-03T12:15:26.914Z"
   },
   {
    "duration": 4,
    "start_time": "2024-11-03T12:15:38.578Z"
   },
   {
    "duration": 8,
    "start_time": "2024-11-03T12:15:38.584Z"
   },
   {
    "duration": 23,
    "start_time": "2024-11-03T12:15:38.593Z"
   },
   {
    "duration": 3,
    "start_time": "2024-11-03T12:15:53.991Z"
   },
   {
    "duration": 14,
    "start_time": "2024-11-03T12:15:54.684Z"
   },
   {
    "duration": 3,
    "start_time": "2024-11-03T12:16:12.902Z"
   },
   {
    "duration": 2,
    "start_time": "2024-11-03T12:16:13.668Z"
   },
   {
    "duration": 4870,
    "start_time": "2024-11-03T12:16:14.027Z"
   },
   {
    "duration": 3,
    "start_time": "2024-11-03T12:18:04.052Z"
   },
   {
    "duration": 4,
    "start_time": "2024-11-03T12:19:24.716Z"
   },
   {
    "duration": 1241,
    "start_time": "2024-11-03T12:19:27.543Z"
   },
   {
    "duration": 3,
    "start_time": "2024-11-03T12:20:30.695Z"
   },
   {
    "duration": 3,
    "start_time": "2024-11-03T12:20:32.834Z"
   },
   {
    "duration": 4,
    "start_time": "2024-11-03T12:20:33.181Z"
   },
   {
    "duration": 3,
    "start_time": "2024-11-03T12:20:33.567Z"
   },
   {
    "duration": 2,
    "start_time": "2024-11-03T12:20:34.655Z"
   },
   {
    "duration": 1174,
    "start_time": "2024-11-03T12:20:35.502Z"
   },
   {
    "duration": 5,
    "start_time": "2024-11-03T12:21:59.823Z"
   },
   {
    "duration": 3,
    "start_time": "2024-11-03T12:22:00.326Z"
   },
   {
    "duration": 2,
    "start_time": "2024-11-03T12:22:00.714Z"
   },
   {
    "duration": 1285,
    "start_time": "2024-11-03T12:22:01.126Z"
   },
   {
    "duration": 5,
    "start_time": "2024-11-03T12:23:22.297Z"
   },
   {
    "duration": 4,
    "start_time": "2024-11-03T12:23:22.661Z"
   },
   {
    "duration": 2,
    "start_time": "2024-11-03T12:23:23.078Z"
   },
   {
    "duration": 1162,
    "start_time": "2024-11-03T12:23:23.465Z"
   },
   {
    "duration": 4,
    "start_time": "2024-11-03T12:23:50.923Z"
   },
   {
    "duration": 3,
    "start_time": "2024-11-03T12:23:51.694Z"
   },
   {
    "duration": 2,
    "start_time": "2024-11-03T12:23:51.912Z"
   },
   {
    "duration": 1145,
    "start_time": "2024-11-03T12:23:52.744Z"
   },
   {
    "duration": 8,
    "start_time": "2024-11-03T12:24:19.335Z"
   },
   {
    "duration": 19,
    "start_time": "2024-11-03T12:24:37.368Z"
   },
   {
    "duration": 18,
    "start_time": "2024-11-03T12:24:44.396Z"
   },
   {
    "duration": 4,
    "start_time": "2024-11-03T12:25:11.460Z"
   },
   {
    "duration": 20,
    "start_time": "2024-11-03T12:25:15.350Z"
   },
   {
    "duration": 30917,
    "start_time": "2024-11-03T12:25:30.871Z"
   },
   {
    "duration": 0,
    "start_time": "2024-11-03T12:26:01.790Z"
   },
   {
    "duration": 2462,
    "start_time": "2024-11-03T12:26:09.298Z"
   },
   {
    "duration": 671,
    "start_time": "2024-11-03T12:26:11.762Z"
   },
   {
    "duration": 1548,
    "start_time": "2024-11-03T12:26:12.435Z"
   },
   {
    "duration": 0,
    "start_time": "2024-11-03T12:26:13.987Z"
   },
   {
    "duration": 0,
    "start_time": "2024-11-03T12:26:13.989Z"
   },
   {
    "duration": 0,
    "start_time": "2024-11-03T12:26:13.990Z"
   },
   {
    "duration": 0,
    "start_time": "2024-11-03T12:26:13.990Z"
   },
   {
    "duration": 0,
    "start_time": "2024-11-03T12:26:13.991Z"
   },
   {
    "duration": 0,
    "start_time": "2024-11-03T12:26:13.993Z"
   },
   {
    "duration": 0,
    "start_time": "2024-11-03T12:26:13.994Z"
   },
   {
    "duration": 1,
    "start_time": "2024-11-03T12:26:13.994Z"
   },
   {
    "duration": 0,
    "start_time": "2024-11-03T12:26:13.995Z"
   },
   {
    "duration": 0,
    "start_time": "2024-11-03T12:26:13.997Z"
   },
   {
    "duration": 0,
    "start_time": "2024-11-03T12:26:13.998Z"
   },
   {
    "duration": 0,
    "start_time": "2024-11-03T12:26:13.999Z"
   },
   {
    "duration": 0,
    "start_time": "2024-11-03T12:26:14.000Z"
   },
   {
    "duration": 0,
    "start_time": "2024-11-03T12:26:14.000Z"
   },
   {
    "duration": 0,
    "start_time": "2024-11-03T12:26:14.001Z"
   },
   {
    "duration": 0,
    "start_time": "2024-11-03T12:26:14.002Z"
   },
   {
    "duration": 0,
    "start_time": "2024-11-03T12:26:14.003Z"
   },
   {
    "duration": 0,
    "start_time": "2024-11-03T12:26:14.005Z"
   },
   {
    "duration": 0,
    "start_time": "2024-11-03T12:26:14.006Z"
   },
   {
    "duration": 0,
    "start_time": "2024-11-03T12:26:14.007Z"
   },
   {
    "duration": 0,
    "start_time": "2024-11-03T12:26:14.008Z"
   },
   {
    "duration": 0,
    "start_time": "2024-11-03T12:26:14.010Z"
   },
   {
    "duration": 0,
    "start_time": "2024-11-03T12:26:14.011Z"
   },
   {
    "duration": 0,
    "start_time": "2024-11-03T12:26:14.013Z"
   },
   {
    "duration": 0,
    "start_time": "2024-11-03T12:26:14.014Z"
   },
   {
    "duration": 0,
    "start_time": "2024-11-03T12:26:14.015Z"
   },
   {
    "duration": 0,
    "start_time": "2024-11-03T12:26:14.017Z"
   },
   {
    "duration": 0,
    "start_time": "2024-11-03T12:26:14.018Z"
   },
   {
    "duration": 0,
    "start_time": "2024-11-03T12:26:14.019Z"
   },
   {
    "duration": 0,
    "start_time": "2024-11-03T12:26:14.020Z"
   },
   {
    "duration": 0,
    "start_time": "2024-11-03T12:26:14.021Z"
   },
   {
    "duration": 0,
    "start_time": "2024-11-03T12:26:14.043Z"
   },
   {
    "duration": 0,
    "start_time": "2024-11-03T12:26:14.044Z"
   },
   {
    "duration": 0,
    "start_time": "2024-11-03T12:26:14.046Z"
   },
   {
    "duration": 0,
    "start_time": "2024-11-03T12:26:14.047Z"
   },
   {
    "duration": 0,
    "start_time": "2024-11-03T12:26:14.049Z"
   },
   {
    "duration": 0,
    "start_time": "2024-11-03T12:26:14.050Z"
   },
   {
    "duration": 0,
    "start_time": "2024-11-03T12:26:14.051Z"
   },
   {
    "duration": 0,
    "start_time": "2024-11-03T12:26:14.052Z"
   },
   {
    "duration": 0,
    "start_time": "2024-11-03T12:26:14.054Z"
   },
   {
    "duration": 0,
    "start_time": "2024-11-03T12:26:14.055Z"
   },
   {
    "duration": 0,
    "start_time": "2024-11-03T12:26:14.056Z"
   },
   {
    "duration": 0,
    "start_time": "2024-11-03T12:26:14.058Z"
   },
   {
    "duration": 0,
    "start_time": "2024-11-03T12:26:14.059Z"
   },
   {
    "duration": 0,
    "start_time": "2024-11-03T12:26:14.060Z"
   },
   {
    "duration": 0,
    "start_time": "2024-11-03T12:26:14.061Z"
   },
   {
    "duration": 0,
    "start_time": "2024-11-03T12:26:14.063Z"
   },
   {
    "duration": 0,
    "start_time": "2024-11-03T12:26:14.064Z"
   },
   {
    "duration": 0,
    "start_time": "2024-11-03T12:26:14.065Z"
   },
   {
    "duration": 0,
    "start_time": "2024-11-03T12:26:14.066Z"
   },
   {
    "duration": 0,
    "start_time": "2024-11-03T12:26:14.067Z"
   },
   {
    "duration": 0,
    "start_time": "2024-11-03T12:26:14.068Z"
   },
   {
    "duration": 0,
    "start_time": "2024-11-03T12:26:14.069Z"
   },
   {
    "duration": 0,
    "start_time": "2024-11-03T12:26:14.070Z"
   },
   {
    "duration": 0,
    "start_time": "2024-11-03T12:26:14.071Z"
   },
   {
    "duration": 0,
    "start_time": "2024-11-03T12:26:14.072Z"
   },
   {
    "duration": 0,
    "start_time": "2024-11-03T12:26:14.072Z"
   },
   {
    "duration": 0,
    "start_time": "2024-11-03T12:26:14.073Z"
   },
   {
    "duration": 0,
    "start_time": "2024-11-03T12:26:14.074Z"
   },
   {
    "duration": 0,
    "start_time": "2024-11-03T12:26:14.075Z"
   },
   {
    "duration": 0,
    "start_time": "2024-11-03T12:26:14.076Z"
   },
   {
    "duration": 0,
    "start_time": "2024-11-03T12:26:14.077Z"
   },
   {
    "duration": 0,
    "start_time": "2024-11-03T12:26:14.078Z"
   },
   {
    "duration": 0,
    "start_time": "2024-11-03T12:26:14.079Z"
   },
   {
    "duration": 0,
    "start_time": "2024-11-03T12:26:14.080Z"
   },
   {
    "duration": 0,
    "start_time": "2024-11-03T12:26:14.080Z"
   },
   {
    "duration": 0,
    "start_time": "2024-11-03T12:26:14.081Z"
   },
   {
    "duration": 0,
    "start_time": "2024-11-03T12:26:14.144Z"
   },
   {
    "duration": 0,
    "start_time": "2024-11-03T12:26:14.145Z"
   },
   {
    "duration": 3810,
    "start_time": "2024-11-03T12:26:42.075Z"
   },
   {
    "duration": 605,
    "start_time": "2024-11-03T12:26:45.887Z"
   },
   {
    "duration": 165,
    "start_time": "2024-11-03T12:26:46.493Z"
   },
   {
    "duration": 16,
    "start_time": "2024-11-03T12:26:46.660Z"
   },
   {
    "duration": 12,
    "start_time": "2024-11-03T12:26:46.678Z"
   },
   {
    "duration": 34,
    "start_time": "2024-11-03T12:26:46.691Z"
   },
   {
    "duration": 87,
    "start_time": "2024-11-03T12:26:46.727Z"
   },
   {
    "duration": 0,
    "start_time": "2024-11-03T12:26:46.820Z"
   },
   {
    "duration": 0,
    "start_time": "2024-11-03T12:26:46.821Z"
   },
   {
    "duration": 0,
    "start_time": "2024-11-03T12:26:46.822Z"
   },
   {
    "duration": 0,
    "start_time": "2024-11-03T12:26:46.824Z"
   },
   {
    "duration": 0,
    "start_time": "2024-11-03T12:26:46.825Z"
   },
   {
    "duration": 0,
    "start_time": "2024-11-03T12:26:46.826Z"
   },
   {
    "duration": 0,
    "start_time": "2024-11-03T12:26:46.826Z"
   },
   {
    "duration": 0,
    "start_time": "2024-11-03T12:26:46.827Z"
   },
   {
    "duration": 0,
    "start_time": "2024-11-03T12:26:46.828Z"
   },
   {
    "duration": 0,
    "start_time": "2024-11-03T12:26:46.828Z"
   },
   {
    "duration": 0,
    "start_time": "2024-11-03T12:26:46.842Z"
   },
   {
    "duration": 0,
    "start_time": "2024-11-03T12:26:46.844Z"
   },
   {
    "duration": 0,
    "start_time": "2024-11-03T12:26:46.845Z"
   },
   {
    "duration": 0,
    "start_time": "2024-11-03T12:26:46.847Z"
   },
   {
    "duration": 0,
    "start_time": "2024-11-03T12:26:46.848Z"
   },
   {
    "duration": 0,
    "start_time": "2024-11-03T12:26:46.849Z"
   },
   {
    "duration": 0,
    "start_time": "2024-11-03T12:26:46.851Z"
   },
   {
    "duration": 0,
    "start_time": "2024-11-03T12:26:46.852Z"
   },
   {
    "duration": 1,
    "start_time": "2024-11-03T12:26:46.853Z"
   },
   {
    "duration": 0,
    "start_time": "2024-11-03T12:26:46.855Z"
   },
   {
    "duration": 0,
    "start_time": "2024-11-03T12:26:46.857Z"
   },
   {
    "duration": 0,
    "start_time": "2024-11-03T12:26:46.858Z"
   },
   {
    "duration": 0,
    "start_time": "2024-11-03T12:26:46.860Z"
   },
   {
    "duration": 0,
    "start_time": "2024-11-03T12:26:46.861Z"
   },
   {
    "duration": 0,
    "start_time": "2024-11-03T12:26:46.862Z"
   },
   {
    "duration": 0,
    "start_time": "2024-11-03T12:26:46.863Z"
   },
   {
    "duration": 0,
    "start_time": "2024-11-03T12:26:46.864Z"
   },
   {
    "duration": 0,
    "start_time": "2024-11-03T12:26:46.865Z"
   },
   {
    "duration": 0,
    "start_time": "2024-11-03T12:26:46.866Z"
   },
   {
    "duration": 0,
    "start_time": "2024-11-03T12:26:46.869Z"
   },
   {
    "duration": 0,
    "start_time": "2024-11-03T12:26:46.870Z"
   },
   {
    "duration": 0,
    "start_time": "2024-11-03T12:26:46.871Z"
   },
   {
    "duration": 0,
    "start_time": "2024-11-03T12:26:46.874Z"
   },
   {
    "duration": 0,
    "start_time": "2024-11-03T12:26:46.876Z"
   },
   {
    "duration": 0,
    "start_time": "2024-11-03T12:26:46.877Z"
   },
   {
    "duration": 0,
    "start_time": "2024-11-03T12:26:46.879Z"
   },
   {
    "duration": 0,
    "start_time": "2024-11-03T12:26:46.880Z"
   },
   {
    "duration": 0,
    "start_time": "2024-11-03T12:26:46.942Z"
   },
   {
    "duration": 0,
    "start_time": "2024-11-03T12:26:46.943Z"
   },
   {
    "duration": 0,
    "start_time": "2024-11-03T12:26:46.945Z"
   },
   {
    "duration": 0,
    "start_time": "2024-11-03T12:26:46.945Z"
   },
   {
    "duration": 0,
    "start_time": "2024-11-03T12:26:46.947Z"
   },
   {
    "duration": 0,
    "start_time": "2024-11-03T12:26:46.947Z"
   },
   {
    "duration": 0,
    "start_time": "2024-11-03T12:26:46.949Z"
   },
   {
    "duration": 0,
    "start_time": "2024-11-03T12:26:46.950Z"
   },
   {
    "duration": 0,
    "start_time": "2024-11-03T12:26:46.950Z"
   },
   {
    "duration": 0,
    "start_time": "2024-11-03T12:26:46.951Z"
   },
   {
    "duration": 0,
    "start_time": "2024-11-03T12:26:46.952Z"
   },
   {
    "duration": 0,
    "start_time": "2024-11-03T12:26:46.953Z"
   },
   {
    "duration": 0,
    "start_time": "2024-11-03T12:26:46.954Z"
   },
   {
    "duration": 0,
    "start_time": "2024-11-03T12:26:46.955Z"
   },
   {
    "duration": 0,
    "start_time": "2024-11-03T12:26:46.958Z"
   },
   {
    "duration": 0,
    "start_time": "2024-11-03T12:26:46.959Z"
   },
   {
    "duration": 0,
    "start_time": "2024-11-03T12:26:46.960Z"
   },
   {
    "duration": 0,
    "start_time": "2024-11-03T12:26:46.961Z"
   },
   {
    "duration": 0,
    "start_time": "2024-11-03T12:26:46.961Z"
   },
   {
    "duration": 0,
    "start_time": "2024-11-03T12:26:46.962Z"
   },
   {
    "duration": 0,
    "start_time": "2024-11-03T12:26:46.963Z"
   },
   {
    "duration": 0,
    "start_time": "2024-11-03T12:26:46.965Z"
   },
   {
    "duration": 0,
    "start_time": "2024-11-03T12:26:46.966Z"
   },
   {
    "duration": 0,
    "start_time": "2024-11-03T12:26:46.967Z"
   },
   {
    "duration": 0,
    "start_time": "2024-11-03T12:26:46.970Z"
   },
   {
    "duration": 0,
    "start_time": "2024-11-03T12:26:46.971Z"
   },
   {
    "duration": 0,
    "start_time": "2024-11-03T12:26:46.972Z"
   },
   {
    "duration": 0,
    "start_time": "2024-11-03T12:26:46.973Z"
   },
   {
    "duration": 0,
    "start_time": "2024-11-03T12:26:46.974Z"
   },
   {
    "duration": 0,
    "start_time": "2024-11-03T12:26:46.977Z"
   },
   {
    "duration": 0,
    "start_time": "2024-11-03T12:26:46.978Z"
   },
   {
    "duration": 0,
    "start_time": "2024-11-03T12:26:46.979Z"
   },
   {
    "duration": 0,
    "start_time": "2024-11-03T12:26:46.980Z"
   },
   {
    "duration": 0,
    "start_time": "2024-11-03T12:26:46.981Z"
   },
   {
    "duration": 0,
    "start_time": "2024-11-03T12:26:46.982Z"
   },
   {
    "duration": 0,
    "start_time": "2024-11-03T12:26:46.983Z"
   },
   {
    "duration": 0,
    "start_time": "2024-11-03T12:26:46.984Z"
   },
   {
    "duration": 0,
    "start_time": "2024-11-03T12:26:46.985Z"
   },
   {
    "duration": 0,
    "start_time": "2024-11-03T12:26:47.043Z"
   },
   {
    "duration": 0,
    "start_time": "2024-11-03T12:26:47.044Z"
   },
   {
    "duration": 0,
    "start_time": "2024-11-03T12:26:47.045Z"
   },
   {
    "duration": 0,
    "start_time": "2024-11-03T12:26:47.046Z"
   },
   {
    "duration": 0,
    "start_time": "2024-11-03T12:26:47.047Z"
   },
   {
    "duration": 0,
    "start_time": "2024-11-03T12:26:47.048Z"
   },
   {
    "duration": 0,
    "start_time": "2024-11-03T12:26:47.049Z"
   },
   {
    "duration": 0,
    "start_time": "2024-11-03T12:26:47.050Z"
   },
   {
    "duration": 0,
    "start_time": "2024-11-03T12:26:47.051Z"
   },
   {
    "duration": 6,
    "start_time": "2024-11-03T12:27:11.604Z"
   },
   {
    "duration": 2369,
    "start_time": "2024-11-03T12:27:15.499Z"
   },
   {
    "duration": 617,
    "start_time": "2024-11-03T12:27:17.871Z"
   },
   {
    "duration": 167,
    "start_time": "2024-11-03T12:27:18.489Z"
   },
   {
    "duration": 16,
    "start_time": "2024-11-03T12:27:18.659Z"
   },
   {
    "duration": 12,
    "start_time": "2024-11-03T12:27:18.676Z"
   },
   {
    "duration": 20,
    "start_time": "2024-11-03T12:27:18.689Z"
   },
   {
    "duration": 6,
    "start_time": "2024-11-03T12:27:18.711Z"
   },
   {
    "duration": 21,
    "start_time": "2024-11-03T12:27:18.744Z"
   },
   {
    "duration": 35,
    "start_time": "2024-11-03T12:27:18.766Z"
   },
   {
    "duration": 41,
    "start_time": "2024-11-03T12:27:18.804Z"
   },
   {
    "duration": 4,
    "start_time": "2024-11-03T12:27:18.846Z"
   },
   {
    "duration": 9,
    "start_time": "2024-11-03T12:27:18.852Z"
   },
   {
    "duration": 39,
    "start_time": "2024-11-03T12:27:18.862Z"
   },
   {
    "duration": 37,
    "start_time": "2024-11-03T12:27:18.903Z"
   },
   {
    "duration": 4,
    "start_time": "2024-11-03T12:27:18.942Z"
   },
   {
    "duration": 244,
    "start_time": "2024-11-03T12:27:18.947Z"
   },
   {
    "duration": 18,
    "start_time": "2024-11-03T12:27:19.193Z"
   },
   {
    "duration": 14,
    "start_time": "2024-11-03T12:27:19.213Z"
   },
   {
    "duration": 34,
    "start_time": "2024-11-03T12:27:19.229Z"
   },
   {
    "duration": 9,
    "start_time": "2024-11-03T12:27:19.265Z"
   },
   {
    "duration": 11,
    "start_time": "2024-11-03T12:27:19.276Z"
   },
   {
    "duration": 26,
    "start_time": "2024-11-03T12:27:19.288Z"
   },
   {
    "duration": 33,
    "start_time": "2024-11-03T12:27:19.316Z"
   },
   {
    "duration": 6,
    "start_time": "2024-11-03T12:27:19.351Z"
   },
   {
    "duration": 14,
    "start_time": "2024-11-03T12:27:19.358Z"
   },
   {
    "duration": 10,
    "start_time": "2024-11-03T12:27:19.374Z"
   },
   {
    "duration": 7,
    "start_time": "2024-11-03T12:27:19.385Z"
   },
   {
    "duration": 12489,
    "start_time": "2024-11-03T12:27:19.396Z"
   },
   {
    "duration": 2,
    "start_time": "2024-11-03T12:27:31.887Z"
   },
   {
    "duration": 6,
    "start_time": "2024-11-03T12:27:31.891Z"
   },
   {
    "duration": 7,
    "start_time": "2024-11-03T12:27:31.898Z"
   },
   {
    "duration": 5,
    "start_time": "2024-11-03T12:27:31.907Z"
   },
   {
    "duration": 7,
    "start_time": "2024-11-03T12:27:31.913Z"
   },
   {
    "duration": 26,
    "start_time": "2024-11-03T12:27:31.922Z"
   },
   {
    "duration": 11,
    "start_time": "2024-11-03T12:27:31.949Z"
   },
   {
    "duration": 9,
    "start_time": "2024-11-03T12:27:31.962Z"
   },
   {
    "duration": 19,
    "start_time": "2024-11-03T12:27:31.973Z"
   },
   {
    "duration": 161687,
    "start_time": "2024-11-03T12:27:31.994Z"
   },
   {
    "duration": 3,
    "start_time": "2024-11-03T12:30:13.683Z"
   },
   {
    "duration": 32,
    "start_time": "2024-11-03T12:30:13.687Z"
   },
   {
    "duration": 27,
    "start_time": "2024-11-03T12:30:13.720Z"
   },
   {
    "duration": 258657,
    "start_time": "2024-11-03T12:30:13.749Z"
   },
   {
    "duration": 3,
    "start_time": "2024-11-03T12:34:32.408Z"
   },
   {
    "duration": 53,
    "start_time": "2024-11-03T12:34:32.413Z"
   },
   {
    "duration": 19,
    "start_time": "2024-11-03T12:34:32.467Z"
   },
   {
    "duration": 57,
    "start_time": "2024-11-03T12:34:32.488Z"
   },
   {
    "duration": 52,
    "start_time": "2024-11-03T12:34:32.547Z"
   },
   {
    "duration": 6,
    "start_time": "2024-11-03T12:34:32.601Z"
   },
   {
    "duration": 42,
    "start_time": "2024-11-03T12:34:32.609Z"
   },
   {
    "duration": 12,
    "start_time": "2024-11-03T12:34:32.653Z"
   },
   {
    "duration": 36,
    "start_time": "2024-11-03T12:34:32.666Z"
   },
   {
    "duration": 24,
    "start_time": "2024-11-03T12:34:32.703Z"
   },
   {
    "duration": 54,
    "start_time": "2024-11-03T12:34:32.729Z"
   },
   {
    "duration": 22,
    "start_time": "2024-11-03T12:34:32.785Z"
   },
   {
    "duration": 17,
    "start_time": "2024-11-03T12:34:32.809Z"
   },
   {
    "duration": 1589,
    "start_time": "2024-11-03T12:34:32.828Z"
   },
   {
    "duration": 724,
    "start_time": "2024-11-03T12:34:34.419Z"
   },
   {
    "duration": 181,
    "start_time": "2024-11-03T12:34:35.144Z"
   },
   {
    "duration": 31,
    "start_time": "2024-11-03T12:34:35.327Z"
   },
   {
    "duration": 16,
    "start_time": "2024-11-03T12:34:35.359Z"
   },
   {
    "duration": 533,
    "start_time": "2024-11-03T12:34:35.376Z"
   },
   {
    "duration": 1569,
    "start_time": "2024-11-03T12:34:35.910Z"
   },
   {
    "duration": 95,
    "start_time": "2024-11-03T12:34:37.480Z"
   },
   {
    "duration": 223,
    "start_time": "2024-11-03T12:34:37.576Z"
   },
   {
    "duration": 11,
    "start_time": "2024-11-03T12:34:37.800Z"
   },
   {
    "duration": 103,
    "start_time": "2024-11-03T12:34:37.812Z"
   },
   {
    "duration": 8,
    "start_time": "2024-11-03T12:34:37.917Z"
   },
   {
    "duration": 74,
    "start_time": "2024-11-03T12:34:37.927Z"
   },
   {
    "duration": 141,
    "start_time": "2024-11-03T12:34:38.003Z"
   },
   {
    "duration": 4,
    "start_time": "2024-11-03T12:34:38.146Z"
   },
   {
    "duration": 251,
    "start_time": "2024-11-03T12:34:38.151Z"
   },
   {
    "duration": 135,
    "start_time": "2024-11-03T12:34:38.403Z"
   },
   {
    "duration": 157,
    "start_time": "2024-11-03T12:34:38.542Z"
   },
   {
    "duration": 219,
    "start_time": "2024-11-03T12:34:38.701Z"
   },
   {
    "duration": 199,
    "start_time": "2024-11-03T12:34:38.922Z"
   },
   {
    "duration": 33,
    "start_time": "2024-11-03T12:34:39.123Z"
   },
   {
    "duration": 161,
    "start_time": "2024-11-03T12:34:39.158Z"
   },
   {
    "duration": 170,
    "start_time": "2024-11-03T12:34:39.320Z"
   },
   {
    "duration": 157,
    "start_time": "2024-11-03T12:34:39.492Z"
   },
   {
    "duration": 163,
    "start_time": "2024-11-03T12:34:39.651Z"
   },
   {
    "duration": 179,
    "start_time": "2024-11-03T12:34:39.816Z"
   },
   {
    "duration": 146,
    "start_time": "2024-11-03T12:34:40.001Z"
   },
   {
    "duration": 216,
    "start_time": "2024-11-03T12:34:40.149Z"
   },
   {
    "duration": 26,
    "start_time": "2024-11-03T12:34:40.367Z"
   },
   {
    "duration": 118,
    "start_time": "2024-11-03T12:34:40.395Z"
   },
   {
    "duration": 401,
    "start_time": "2024-11-03T12:34:40.515Z"
   },
   {
    "duration": 302,
    "start_time": "2024-11-03T12:34:40.918Z"
   },
   {
    "duration": 152,
    "start_time": "2024-11-03T12:34:41.222Z"
   },
   {
    "duration": 348,
    "start_time": "2024-11-03T12:34:41.376Z"
   },
   {
    "duration": 41,
    "start_time": "2024-11-03T12:34:41.725Z"
   },
   {
    "duration": 120,
    "start_time": "2024-11-03T12:34:41.768Z"
   },
   {
    "duration": 72,
    "start_time": "2024-11-03T12:36:14.034Z"
   },
   {
    "duration": 67,
    "start_time": "2024-11-03T12:36:19.948Z"
   },
   {
    "duration": 67,
    "start_time": "2024-11-03T12:36:26.703Z"
   },
   {
    "duration": 14,
    "start_time": "2024-11-03T12:36:29.918Z"
   },
   {
    "duration": 73,
    "start_time": "2024-11-03T12:36:37.093Z"
   },
   {
    "duration": 6,
    "start_time": "2024-11-03T12:36:57.507Z"
   },
   {
    "duration": 8,
    "start_time": "2024-11-03T12:37:08.533Z"
   },
   {
    "duration": 2374,
    "start_time": "2024-11-03T12:39:23.764Z"
   },
   {
    "duration": 646,
    "start_time": "2024-11-03T12:39:26.140Z"
   },
   {
    "duration": 185,
    "start_time": "2024-11-03T12:39:26.787Z"
   },
   {
    "duration": 15,
    "start_time": "2024-11-03T12:39:26.974Z"
   },
   {
    "duration": 24,
    "start_time": "2024-11-03T12:39:26.990Z"
   },
   {
    "duration": 21,
    "start_time": "2024-11-03T12:39:27.016Z"
   },
   {
    "duration": 6,
    "start_time": "2024-11-03T12:39:27.038Z"
   },
   {
    "duration": 21,
    "start_time": "2024-11-03T12:39:27.045Z"
   },
   {
    "duration": 27,
    "start_time": "2024-11-03T12:39:27.068Z"
   },
   {
    "duration": 47,
    "start_time": "2024-11-03T12:39:27.098Z"
   },
   {
    "duration": 4,
    "start_time": "2024-11-03T12:39:27.147Z"
   },
   {
    "duration": 9,
    "start_time": "2024-11-03T12:39:27.153Z"
   },
   {
    "duration": 30,
    "start_time": "2024-11-03T12:39:27.163Z"
   },
   {
    "duration": 8,
    "start_time": "2024-11-03T12:39:27.195Z"
   },
   {
    "duration": 75,
    "start_time": "2024-11-03T12:39:27.204Z"
   },
   {
    "duration": 265,
    "start_time": "2024-11-03T12:39:27.280Z"
   },
   {
    "duration": 18,
    "start_time": "2024-11-03T12:39:27.547Z"
   },
   {
    "duration": 5,
    "start_time": "2024-11-03T12:39:27.566Z"
   },
   {
    "duration": 28,
    "start_time": "2024-11-03T12:39:27.573Z"
   },
   {
    "duration": 9,
    "start_time": "2024-11-03T12:39:27.602Z"
   },
   {
    "duration": 5,
    "start_time": "2024-11-03T12:39:27.612Z"
   },
   {
    "duration": 38,
    "start_time": "2024-11-03T12:39:27.618Z"
   },
   {
    "duration": 16,
    "start_time": "2024-11-03T12:39:27.657Z"
   },
   {
    "duration": 6,
    "start_time": "2024-11-03T12:39:27.674Z"
   },
   {
    "duration": 13,
    "start_time": "2024-11-03T12:39:27.682Z"
   },
   {
    "duration": 11,
    "start_time": "2024-11-03T12:39:27.697Z"
   },
   {
    "duration": 34,
    "start_time": "2024-11-03T12:39:27.709Z"
   },
   {
    "duration": 3,
    "start_time": "2024-11-03T12:39:27.748Z"
   },
   {
    "duration": 11726,
    "start_time": "2024-11-03T12:39:27.753Z"
   },
   {
    "duration": 3,
    "start_time": "2024-11-03T12:39:39.480Z"
   },
   {
    "duration": 20,
    "start_time": "2024-11-03T12:39:39.485Z"
   },
   {
    "duration": 17,
    "start_time": "2024-11-03T12:39:39.507Z"
   },
   {
    "duration": 4,
    "start_time": "2024-11-03T12:39:39.526Z"
   },
   {
    "duration": 13,
    "start_time": "2024-11-03T12:39:39.531Z"
   },
   {
    "duration": 4,
    "start_time": "2024-11-03T12:39:39.546Z"
   },
   {
    "duration": 5,
    "start_time": "2024-11-03T12:39:39.552Z"
   },
   {
    "duration": 13,
    "start_time": "2024-11-03T12:39:39.558Z"
   },
   {
    "duration": 14,
    "start_time": "2024-11-03T12:39:39.573Z"
   },
   {
    "duration": 5,
    "start_time": "2024-11-03T12:39:39.589Z"
   },
   {
    "duration": 159298,
    "start_time": "2024-11-03T12:39:39.596Z"
   },
   {
    "duration": 4,
    "start_time": "2024-11-03T12:42:18.898Z"
   },
   {
    "duration": 6,
    "start_time": "2024-11-03T12:42:18.903Z"
   },
   {
    "duration": 4,
    "start_time": "2024-11-03T12:42:18.911Z"
   },
   {
    "duration": 260575,
    "start_time": "2024-11-03T12:42:18.942Z"
   },
   {
    "duration": 3,
    "start_time": "2024-11-03T12:46:39.519Z"
   },
   {
    "duration": 41,
    "start_time": "2024-11-03T12:46:39.523Z"
   },
   {
    "duration": 6,
    "start_time": "2024-11-03T12:46:39.566Z"
   },
   {
    "duration": 15,
    "start_time": "2024-11-03T12:46:39.573Z"
   },
   {
    "duration": 28,
    "start_time": "2024-11-03T12:46:39.589Z"
   },
   {
    "duration": 26,
    "start_time": "2024-11-03T12:46:39.618Z"
   },
   {
    "duration": 14,
    "start_time": "2024-11-03T12:46:39.646Z"
   },
   {
    "duration": 13,
    "start_time": "2024-11-03T12:46:39.661Z"
   },
   {
    "duration": 19,
    "start_time": "2024-11-03T12:46:39.676Z"
   },
   {
    "duration": 14,
    "start_time": "2024-11-03T12:46:39.696Z"
   },
   {
    "duration": 17,
    "start_time": "2024-11-03T12:46:39.712Z"
   },
   {
    "duration": 9,
    "start_time": "2024-11-03T12:46:39.743Z"
   },
   {
    "duration": 15,
    "start_time": "2024-11-03T12:46:39.754Z"
   },
   {
    "duration": 1625,
    "start_time": "2024-11-03T12:46:39.771Z"
   },
   {
    "duration": 564,
    "start_time": "2024-11-03T12:46:41.397Z"
   },
   {
    "duration": 189,
    "start_time": "2024-11-03T12:46:41.962Z"
   },
   {
    "duration": 21,
    "start_time": "2024-11-03T12:46:42.153Z"
   },
   {
    "duration": 7,
    "start_time": "2024-11-03T12:46:42.176Z"
   },
   {
    "duration": 542,
    "start_time": "2024-11-03T12:46:42.184Z"
   },
   {
    "duration": 1603,
    "start_time": "2024-11-03T12:46:42.727Z"
   },
   {
    "duration": 89,
    "start_time": "2024-11-03T12:46:44.331Z"
   },
   {
    "duration": 231,
    "start_time": "2024-11-03T12:46:44.421Z"
   },
   {
    "duration": 11,
    "start_time": "2024-11-03T12:46:44.654Z"
   },
   {
    "duration": 57,
    "start_time": "2024-11-03T12:46:44.667Z"
   },
   {
    "duration": 23,
    "start_time": "2024-11-03T12:46:44.726Z"
   },
   {
    "duration": 64,
    "start_time": "2024-11-03T12:46:44.751Z"
   },
   {
    "duration": 145,
    "start_time": "2024-11-03T12:46:44.817Z"
   },
   {
    "duration": 4,
    "start_time": "2024-11-03T12:46:44.964Z"
   },
   {
    "duration": 250,
    "start_time": "2024-11-03T12:46:44.969Z"
   },
   {
    "duration": 141,
    "start_time": "2024-11-03T12:46:45.221Z"
   },
   {
    "duration": 158,
    "start_time": "2024-11-03T12:46:45.364Z"
   },
   {
    "duration": 207,
    "start_time": "2024-11-03T12:46:45.524Z"
   },
   {
    "duration": 184,
    "start_time": "2024-11-03T12:46:45.732Z"
   },
   {
    "duration": 34,
    "start_time": "2024-11-03T12:46:45.917Z"
   },
   {
    "duration": 153,
    "start_time": "2024-11-03T12:46:45.953Z"
   },
   {
    "duration": 157,
    "start_time": "2024-11-03T12:46:46.107Z"
   },
   {
    "duration": 158,
    "start_time": "2024-11-03T12:46:46.266Z"
   },
   {
    "duration": 160,
    "start_time": "2024-11-03T12:46:46.430Z"
   },
   {
    "duration": 194,
    "start_time": "2024-11-03T12:46:46.592Z"
   },
   {
    "duration": 153,
    "start_time": "2024-11-03T12:46:46.788Z"
   },
   {
    "duration": 215,
    "start_time": "2024-11-03T12:46:46.943Z"
   },
   {
    "duration": 27,
    "start_time": "2024-11-03T12:46:47.160Z"
   },
   {
    "duration": 120,
    "start_time": "2024-11-03T12:46:47.190Z"
   },
   {
    "duration": 383,
    "start_time": "2024-11-03T12:46:47.312Z"
   },
   {
    "duration": 293,
    "start_time": "2024-11-03T12:46:47.696Z"
   },
   {
    "duration": 159,
    "start_time": "2024-11-03T12:46:47.991Z"
   },
   {
    "duration": 370,
    "start_time": "2024-11-03T12:46:48.152Z"
   },
   {
    "duration": 39,
    "start_time": "2024-11-03T12:46:48.524Z"
   },
   {
    "duration": 121,
    "start_time": "2024-11-03T12:46:48.565Z"
   },
   {
    "duration": 4,
    "start_time": "2024-11-03T12:50:08.604Z"
   },
   {
    "duration": 5,
    "start_time": "2024-11-03T12:50:12.351Z"
   },
   {
    "duration": 72,
    "start_time": "2024-11-03T12:50:13.131Z"
   },
   {
    "duration": 5,
    "start_time": "2024-11-03T12:52:13.403Z"
   },
   {
    "duration": 11,
    "start_time": "2024-11-03T12:52:40.517Z"
   },
   {
    "duration": 2,
    "start_time": "2024-11-03T12:52:45.736Z"
   },
   {
    "duration": 6074,
    "start_time": "2024-11-03T12:52:49.158Z"
   },
   {
    "duration": 2389,
    "start_time": "2024-11-03T12:53:04.561Z"
   },
   {
    "duration": 650,
    "start_time": "2024-11-03T12:53:06.953Z"
   },
   {
    "duration": 205,
    "start_time": "2024-11-03T12:53:07.607Z"
   },
   {
    "duration": 15,
    "start_time": "2024-11-03T12:53:07.814Z"
   },
   {
    "duration": 30,
    "start_time": "2024-11-03T12:53:07.831Z"
   },
   {
    "duration": 69,
    "start_time": "2024-11-03T12:53:07.863Z"
   },
   {
    "duration": 14,
    "start_time": "2024-11-03T12:53:07.934Z"
   },
   {
    "duration": 26,
    "start_time": "2024-11-03T12:53:07.950Z"
   },
   {
    "duration": 29,
    "start_time": "2024-11-03T12:53:07.979Z"
   },
   {
    "duration": 34,
    "start_time": "2024-11-03T12:53:08.009Z"
   },
   {
    "duration": 5,
    "start_time": "2024-11-03T12:53:08.044Z"
   },
   {
    "duration": 18,
    "start_time": "2024-11-03T12:53:08.050Z"
   },
   {
    "duration": 37,
    "start_time": "2024-11-03T12:53:08.069Z"
   },
   {
    "duration": 9,
    "start_time": "2024-11-03T12:53:08.108Z"
   },
   {
    "duration": 8,
    "start_time": "2024-11-03T12:53:08.119Z"
   },
   {
    "duration": 249,
    "start_time": "2024-11-03T12:53:08.128Z"
   },
   {
    "duration": 17,
    "start_time": "2024-11-03T12:53:08.379Z"
   },
   {
    "duration": 5,
    "start_time": "2024-11-03T12:53:08.398Z"
   },
   {
    "duration": 16,
    "start_time": "2024-11-03T12:53:08.405Z"
   },
   {
    "duration": 27,
    "start_time": "2024-11-03T12:53:08.423Z"
   },
   {
    "duration": 7,
    "start_time": "2024-11-03T12:53:08.452Z"
   },
   {
    "duration": 22,
    "start_time": "2024-11-03T12:53:08.460Z"
   },
   {
    "duration": 23,
    "start_time": "2024-11-03T12:53:08.483Z"
   },
   {
    "duration": 8,
    "start_time": "2024-11-03T12:53:08.507Z"
   },
   {
    "duration": 36,
    "start_time": "2024-11-03T12:53:08.517Z"
   },
   {
    "duration": 70,
    "start_time": "2024-11-03T12:53:08.554Z"
   },
   {
    "duration": 13,
    "start_time": "2024-11-03T12:53:08.629Z"
   },
   {
    "duration": 10,
    "start_time": "2024-11-03T12:53:08.644Z"
   },
   {
    "duration": 11727,
    "start_time": "2024-11-03T12:53:08.656Z"
   },
   {
    "duration": 3,
    "start_time": "2024-11-03T12:53:20.385Z"
   },
   {
    "duration": 14,
    "start_time": "2024-11-03T12:53:20.389Z"
   },
   {
    "duration": 23,
    "start_time": "2024-11-03T12:53:20.404Z"
   },
   {
    "duration": 15,
    "start_time": "2024-11-03T12:53:20.428Z"
   },
   {
    "duration": 9,
    "start_time": "2024-11-03T12:53:20.445Z"
   },
   {
    "duration": 20,
    "start_time": "2024-11-03T12:53:20.455Z"
   },
   {
    "duration": 22,
    "start_time": "2024-11-03T12:53:20.477Z"
   },
   {
    "duration": 44,
    "start_time": "2024-11-03T12:53:20.500Z"
   },
   {
    "duration": 41,
    "start_time": "2024-11-03T12:53:20.545Z"
   },
   {
    "duration": 42,
    "start_time": "2024-11-03T12:53:20.588Z"
   },
   {
    "duration": 158921,
    "start_time": "2024-11-03T12:53:20.631Z"
   },
   {
    "duration": 4,
    "start_time": "2024-11-03T12:55:59.553Z"
   },
   {
    "duration": 7,
    "start_time": "2024-11-03T12:55:59.558Z"
   },
   {
    "duration": 7,
    "start_time": "2024-11-03T12:55:59.566Z"
   },
   {
    "duration": 56938,
    "start_time": "2024-11-03T12:55:59.574Z"
   },
   {
    "duration": 0,
    "start_time": "2024-11-03T12:56:56.515Z"
   },
   {
    "duration": 0,
    "start_time": "2024-11-03T12:56:56.516Z"
   },
   {
    "duration": 0,
    "start_time": "2024-11-03T12:56:56.518Z"
   },
   {
    "duration": 0,
    "start_time": "2024-11-03T12:56:56.519Z"
   },
   {
    "duration": 0,
    "start_time": "2024-11-03T12:56:56.521Z"
   },
   {
    "duration": 0,
    "start_time": "2024-11-03T12:56:56.522Z"
   },
   {
    "duration": 0,
    "start_time": "2024-11-03T12:56:56.524Z"
   },
   {
    "duration": 0,
    "start_time": "2024-11-03T12:56:56.525Z"
   },
   {
    "duration": 0,
    "start_time": "2024-11-03T12:56:56.527Z"
   },
   {
    "duration": 0,
    "start_time": "2024-11-03T12:56:56.528Z"
   },
   {
    "duration": 0,
    "start_time": "2024-11-03T12:56:56.530Z"
   },
   {
    "duration": 0,
    "start_time": "2024-11-03T12:56:56.532Z"
   },
   {
    "duration": 0,
    "start_time": "2024-11-03T12:56:56.533Z"
   },
   {
    "duration": 0,
    "start_time": "2024-11-03T12:56:56.534Z"
   },
   {
    "duration": 0,
    "start_time": "2024-11-03T12:56:56.536Z"
   },
   {
    "duration": 0,
    "start_time": "2024-11-03T12:56:56.537Z"
   },
   {
    "duration": 0,
    "start_time": "2024-11-03T12:56:56.539Z"
   },
   {
    "duration": 0,
    "start_time": "2024-11-03T12:56:56.541Z"
   },
   {
    "duration": 1,
    "start_time": "2024-11-03T12:56:56.542Z"
   },
   {
    "duration": 0,
    "start_time": "2024-11-03T12:56:56.544Z"
   },
   {
    "duration": 0,
    "start_time": "2024-11-03T12:56:56.546Z"
   },
   {
    "duration": 0,
    "start_time": "2024-11-03T12:56:56.547Z"
   },
   {
    "duration": 0,
    "start_time": "2024-11-03T12:56:56.548Z"
   },
   {
    "duration": 0,
    "start_time": "2024-11-03T12:56:56.550Z"
   },
   {
    "duration": 0,
    "start_time": "2024-11-03T12:56:56.551Z"
   },
   {
    "duration": 0,
    "start_time": "2024-11-03T12:56:56.552Z"
   },
   {
    "duration": 0,
    "start_time": "2024-11-03T12:56:56.554Z"
   },
   {
    "duration": 0,
    "start_time": "2024-11-03T12:56:56.555Z"
   },
   {
    "duration": 0,
    "start_time": "2024-11-03T12:56:56.556Z"
   },
   {
    "duration": 0,
    "start_time": "2024-11-03T12:56:56.558Z"
   },
   {
    "duration": 0,
    "start_time": "2024-11-03T12:56:56.559Z"
   },
   {
    "duration": 0,
    "start_time": "2024-11-03T12:56:56.560Z"
   },
   {
    "duration": 0,
    "start_time": "2024-11-03T12:56:56.561Z"
   },
   {
    "duration": 0,
    "start_time": "2024-11-03T12:56:56.563Z"
   },
   {
    "duration": 0,
    "start_time": "2024-11-03T12:56:56.564Z"
   },
   {
    "duration": 0,
    "start_time": "2024-11-03T12:56:56.565Z"
   },
   {
    "duration": 0,
    "start_time": "2024-11-03T12:56:56.566Z"
   },
   {
    "duration": 0,
    "start_time": "2024-11-03T12:56:56.568Z"
   },
   {
    "duration": 0,
    "start_time": "2024-11-03T12:56:56.569Z"
   },
   {
    "duration": 0,
    "start_time": "2024-11-03T12:56:56.571Z"
   },
   {
    "duration": 0,
    "start_time": "2024-11-03T12:56:56.572Z"
   },
   {
    "duration": 0,
    "start_time": "2024-11-03T12:56:56.574Z"
   },
   {
    "duration": 0,
    "start_time": "2024-11-03T12:56:56.575Z"
   },
   {
    "duration": 0,
    "start_time": "2024-11-03T12:56:56.576Z"
   },
   {
    "duration": 0,
    "start_time": "2024-11-03T12:56:56.577Z"
   },
   {
    "duration": 0,
    "start_time": "2024-11-03T12:56:56.578Z"
   },
   {
    "duration": 0,
    "start_time": "2024-11-03T12:56:56.580Z"
   },
   {
    "duration": 0,
    "start_time": "2024-11-03T12:56:56.581Z"
   },
   {
    "duration": 0,
    "start_time": "2024-11-03T12:56:56.643Z"
   },
   {
    "duration": 2345,
    "start_time": "2024-11-03T12:57:23.873Z"
   },
   {
    "duration": 675,
    "start_time": "2024-11-03T12:57:26.220Z"
   },
   {
    "duration": 172,
    "start_time": "2024-11-03T12:57:26.897Z"
   },
   {
    "duration": 14,
    "start_time": "2024-11-03T12:57:27.071Z"
   },
   {
    "duration": 21,
    "start_time": "2024-11-03T12:57:27.087Z"
   },
   {
    "duration": 38,
    "start_time": "2024-11-03T12:57:27.110Z"
   },
   {
    "duration": 5,
    "start_time": "2024-11-03T12:57:27.150Z"
   },
   {
    "duration": 29,
    "start_time": "2024-11-03T12:57:27.157Z"
   },
   {
    "duration": 33,
    "start_time": "2024-11-03T12:57:27.188Z"
   },
   {
    "duration": 24,
    "start_time": "2024-11-03T12:57:27.224Z"
   },
   {
    "duration": 31,
    "start_time": "2024-11-03T12:57:27.249Z"
   },
   {
    "duration": 50,
    "start_time": "2024-11-03T12:57:27.282Z"
   },
   {
    "duration": 46,
    "start_time": "2024-11-03T12:57:27.333Z"
   },
   {
    "duration": 37,
    "start_time": "2024-11-03T12:57:27.381Z"
   },
   {
    "duration": 22,
    "start_time": "2024-11-03T12:57:27.419Z"
   },
   {
    "duration": 235,
    "start_time": "2024-11-03T12:57:27.443Z"
   },
   {
    "duration": 18,
    "start_time": "2024-11-03T12:57:27.679Z"
   },
   {
    "duration": 10,
    "start_time": "2024-11-03T12:57:27.699Z"
   },
   {
    "duration": 36,
    "start_time": "2024-11-03T12:57:27.711Z"
   },
   {
    "duration": 25,
    "start_time": "2024-11-03T12:57:27.750Z"
   },
   {
    "duration": 26,
    "start_time": "2024-11-03T12:57:27.776Z"
   },
   {
    "duration": 45,
    "start_time": "2024-11-03T12:57:27.804Z"
   },
   {
    "duration": 44,
    "start_time": "2024-11-03T12:57:27.851Z"
   },
   {
    "duration": 51,
    "start_time": "2024-11-03T12:57:27.896Z"
   },
   {
    "duration": 23,
    "start_time": "2024-11-03T12:57:27.949Z"
   },
   {
    "duration": 40,
    "start_time": "2024-11-03T12:57:27.974Z"
   },
   {
    "duration": 20,
    "start_time": "2024-11-03T12:57:28.016Z"
   },
   {
    "duration": 18,
    "start_time": "2024-11-03T12:57:28.040Z"
   },
   {
    "duration": 11677,
    "start_time": "2024-11-03T12:57:28.060Z"
   },
   {
    "duration": 4,
    "start_time": "2024-11-03T12:57:39.739Z"
   },
   {
    "duration": 6,
    "start_time": "2024-11-03T12:57:39.744Z"
   },
   {
    "duration": 18,
    "start_time": "2024-11-03T12:57:39.752Z"
   },
   {
    "duration": 9,
    "start_time": "2024-11-03T12:57:39.771Z"
   },
   {
    "duration": 18,
    "start_time": "2024-11-03T12:57:39.782Z"
   },
   {
    "duration": 10,
    "start_time": "2024-11-03T12:57:39.802Z"
   },
   {
    "duration": 14,
    "start_time": "2024-11-03T12:57:39.814Z"
   },
   {
    "duration": 9,
    "start_time": "2024-11-03T12:57:39.830Z"
   },
   {
    "duration": 3,
    "start_time": "2024-11-03T12:57:39.841Z"
   },
   {
    "duration": 81,
    "start_time": "2024-11-03T12:57:39.846Z"
   },
   {
    "duration": 157685,
    "start_time": "2024-11-03T12:57:39.928Z"
   },
   {
    "duration": 3,
    "start_time": "2024-11-03T13:00:17.615Z"
   },
   {
    "duration": 6,
    "start_time": "2024-11-03T13:00:17.620Z"
   },
   {
    "duration": 10,
    "start_time": "2024-11-03T13:00:17.628Z"
   },
   {
    "duration": 261952,
    "start_time": "2024-11-03T13:00:17.643Z"
   },
   {
    "duration": 3,
    "start_time": "2024-11-03T13:04:39.597Z"
   },
   {
    "duration": 25,
    "start_time": "2024-11-03T13:04:39.601Z"
   },
   {
    "duration": 263456,
    "start_time": "2024-11-03T13:04:39.628Z"
   },
   {
    "duration": 3,
    "start_time": "2024-11-03T13:09:03.085Z"
   },
   {
    "duration": 36,
    "start_time": "2024-11-03T13:09:03.090Z"
   },
   {
    "duration": 18,
    "start_time": "2024-11-03T13:09:03.128Z"
   },
   {
    "duration": 22,
    "start_time": "2024-11-03T13:09:03.147Z"
   },
   {
    "duration": 47,
    "start_time": "2024-11-03T13:09:03.170Z"
   },
   {
    "duration": 7,
    "start_time": "2024-11-03T13:09:03.219Z"
   },
   {
    "duration": 20,
    "start_time": "2024-11-03T13:09:03.227Z"
   },
   {
    "duration": 11,
    "start_time": "2024-11-03T13:09:03.248Z"
   },
   {
    "duration": 36,
    "start_time": "2024-11-03T13:09:03.261Z"
   },
   {
    "duration": 44,
    "start_time": "2024-11-03T13:09:03.298Z"
   },
   {
    "duration": 33,
    "start_time": "2024-11-03T13:09:03.343Z"
   },
   {
    "duration": 10,
    "start_time": "2024-11-03T13:09:03.378Z"
   },
   {
    "duration": 35,
    "start_time": "2024-11-03T13:09:03.390Z"
   },
   {
    "duration": 1636,
    "start_time": "2024-11-03T13:09:03.427Z"
   },
   {
    "duration": 583,
    "start_time": "2024-11-03T13:09:05.065Z"
   },
   {
    "duration": 172,
    "start_time": "2024-11-03T13:09:05.650Z"
   },
   {
    "duration": 35,
    "start_time": "2024-11-03T13:09:05.824Z"
   },
   {
    "duration": 7,
    "start_time": "2024-11-03T13:09:05.861Z"
   },
   {
    "duration": 561,
    "start_time": "2024-11-03T13:09:05.870Z"
   },
   {
    "duration": 1562,
    "start_time": "2024-11-03T13:09:06.442Z"
   },
   {
    "duration": 94,
    "start_time": "2024-11-03T13:09:08.006Z"
   },
   {
    "duration": 237,
    "start_time": "2024-11-03T13:09:08.102Z"
   },
   {
    "duration": 11,
    "start_time": "2024-11-03T13:09:08.342Z"
   },
   {
    "duration": 56,
    "start_time": "2024-11-03T13:09:08.355Z"
   },
   {
    "duration": 10,
    "start_time": "2024-11-03T13:09:08.413Z"
   },
   {
    "duration": 68,
    "start_time": "2024-11-03T13:09:08.425Z"
   },
   {
    "duration": 143,
    "start_time": "2024-11-03T13:09:08.495Z"
   },
   {
    "duration": 4,
    "start_time": "2024-11-03T13:09:08.642Z"
   },
   {
    "duration": 285,
    "start_time": "2024-11-03T13:09:08.648Z"
   },
   {
    "duration": 145,
    "start_time": "2024-11-03T13:09:08.935Z"
   },
   {
    "duration": 165,
    "start_time": "2024-11-03T13:09:09.082Z"
   },
   {
    "duration": 200,
    "start_time": "2024-11-03T13:09:09.249Z"
   },
   {
    "duration": 190,
    "start_time": "2024-11-03T13:09:09.451Z"
   },
   {
    "duration": 28,
    "start_time": "2024-11-03T13:09:09.642Z"
   },
   {
    "duration": 159,
    "start_time": "2024-11-03T13:09:09.675Z"
   },
   {
    "duration": 193,
    "start_time": "2024-11-03T13:09:09.842Z"
   },
   {
    "duration": 184,
    "start_time": "2024-11-03T13:09:10.036Z"
   },
   {
    "duration": 156,
    "start_time": "2024-11-03T13:09:10.223Z"
   },
   {
    "duration": 157,
    "start_time": "2024-11-03T13:09:10.381Z"
   },
   {
    "duration": 134,
    "start_time": "2024-11-03T13:09:10.542Z"
   },
   {
    "duration": 224,
    "start_time": "2024-11-03T13:09:10.677Z"
   },
   {
    "duration": 41,
    "start_time": "2024-11-03T13:09:10.902Z"
   },
   {
    "duration": 107,
    "start_time": "2024-11-03T13:09:10.944Z"
   },
   {
    "duration": 391,
    "start_time": "2024-11-03T13:09:11.052Z"
   },
   {
    "duration": 284,
    "start_time": "2024-11-03T13:09:11.445Z"
   },
   {
    "duration": 159,
    "start_time": "2024-11-03T13:09:11.730Z"
   },
   {
    "duration": 354,
    "start_time": "2024-11-03T13:09:11.891Z"
   },
   {
    "duration": 36,
    "start_time": "2024-11-03T13:09:12.247Z"
   },
   {
    "duration": 130,
    "start_time": "2024-11-03T13:09:12.284Z"
   },
   {
    "duration": 12,
    "start_time": "2024-11-03T13:32:15.850Z"
   },
   {
    "duration": 2,
    "start_time": "2024-11-03T13:33:13.591Z"
   },
   {
    "duration": 17,
    "start_time": "2024-11-03T13:39:41.783Z"
   },
   {
    "duration": 16,
    "start_time": "2024-11-03T13:40:39.006Z"
   },
   {
    "duration": 155,
    "start_time": "2024-11-03T13:40:51.316Z"
   },
   {
    "duration": 234,
    "start_time": "2024-11-03T13:41:05.122Z"
   },
   {
    "duration": 45,
    "start_time": "2024-11-03T13:47:04.325Z"
   },
   {
    "duration": 2,
    "start_time": "2024-11-03T13:47:09.232Z"
   },
   {
    "duration": 28,
    "start_time": "2024-11-03T13:47:46.792Z"
   },
   {
    "duration": 22,
    "start_time": "2024-11-03T13:47:53.621Z"
   },
   {
    "duration": 4,
    "start_time": "2024-11-03T13:55:46.126Z"
   },
   {
    "duration": 724,
    "start_time": "2024-11-03T13:55:46.131Z"
   },
   {
    "duration": 172,
    "start_time": "2024-11-03T13:55:46.857Z"
   },
   {
    "duration": 15,
    "start_time": "2024-11-03T13:55:47.031Z"
   },
   {
    "duration": 12,
    "start_time": "2024-11-03T13:55:47.048Z"
   },
   {
    "duration": 22,
    "start_time": "2024-11-03T13:55:47.061Z"
   },
   {
    "duration": 6,
    "start_time": "2024-11-03T13:55:47.084Z"
   },
   {
    "duration": 53,
    "start_time": "2024-11-03T13:55:47.092Z"
   },
   {
    "duration": 27,
    "start_time": "2024-11-03T13:55:47.146Z"
   },
   {
    "duration": 23,
    "start_time": "2024-11-03T13:55:47.175Z"
   },
   {
    "duration": 5,
    "start_time": "2024-11-03T13:55:47.202Z"
   },
   {
    "duration": 35,
    "start_time": "2024-11-03T13:55:47.208Z"
   },
   {
    "duration": 31,
    "start_time": "2024-11-03T13:55:47.244Z"
   },
   {
    "duration": 9,
    "start_time": "2024-11-03T13:55:47.277Z"
   },
   {
    "duration": 7,
    "start_time": "2024-11-03T13:55:47.287Z"
   },
   {
    "duration": 250,
    "start_time": "2024-11-03T13:55:47.295Z"
   },
   {
    "duration": 20,
    "start_time": "2024-11-03T13:55:47.546Z"
   },
   {
    "duration": 6,
    "start_time": "2024-11-03T13:55:47.567Z"
   },
   {
    "duration": 44,
    "start_time": "2024-11-03T13:55:47.574Z"
   },
   {
    "duration": 24,
    "start_time": "2024-11-03T13:55:47.619Z"
   },
   {
    "duration": 5,
    "start_time": "2024-11-03T13:55:47.644Z"
   },
   {
    "duration": 22,
    "start_time": "2024-11-03T13:55:47.650Z"
   },
   {
    "duration": 15,
    "start_time": "2024-11-03T13:55:47.674Z"
   },
   {
    "duration": 30,
    "start_time": "2024-11-03T13:55:47.691Z"
   },
   {
    "duration": 21,
    "start_time": "2024-11-03T13:55:47.722Z"
   },
   {
    "duration": 9,
    "start_time": "2024-11-03T13:55:47.744Z"
   },
   {
    "duration": 15,
    "start_time": "2024-11-03T13:55:47.754Z"
   },
   {
    "duration": 6,
    "start_time": "2024-11-03T13:55:47.771Z"
   },
   {
    "duration": 11768,
    "start_time": "2024-11-03T13:55:47.782Z"
   },
   {
    "duration": 3,
    "start_time": "2024-11-03T13:55:59.552Z"
   },
   {
    "duration": 6,
    "start_time": "2024-11-03T13:55:59.556Z"
   },
   {
    "duration": 58,
    "start_time": "2024-11-03T13:55:59.563Z"
   },
   {
    "duration": 30,
    "start_time": "2024-11-03T13:55:59.623Z"
   },
   {
    "duration": 9,
    "start_time": "2024-11-03T13:55:59.655Z"
   },
   {
    "duration": 5,
    "start_time": "2024-11-03T13:55:59.665Z"
   },
   {
    "duration": 4,
    "start_time": "2024-11-03T13:55:59.671Z"
   },
   {
    "duration": 7,
    "start_time": "2024-11-03T13:55:59.677Z"
   },
   {
    "duration": 158472,
    "start_time": "2024-11-03T13:55:59.685Z"
   },
   {
    "duration": 3,
    "start_time": "2024-11-03T13:58:38.159Z"
   },
   {
    "duration": 10,
    "start_time": "2024-11-03T13:58:38.164Z"
   },
   {
    "duration": 8,
    "start_time": "2024-11-03T13:58:38.175Z"
   },
   {
    "duration": 261062,
    "start_time": "2024-11-03T13:58:38.184Z"
   },
   {
    "duration": 3,
    "start_time": "2024-11-03T14:02:59.248Z"
   },
   {
    "duration": 47,
    "start_time": "2024-11-03T14:02:59.252Z"
   },
   {
    "duration": 7,
    "start_time": "2024-11-03T14:02:59.300Z"
   },
   {
    "duration": 9,
    "start_time": "2024-11-03T14:02:59.308Z"
   },
   {
    "duration": 38,
    "start_time": "2024-11-03T14:02:59.318Z"
   },
   {
    "duration": 7,
    "start_time": "2024-11-03T14:02:59.358Z"
   },
   {
    "duration": 17,
    "start_time": "2024-11-03T14:02:59.366Z"
   },
   {
    "duration": 10,
    "start_time": "2024-11-03T14:02:59.385Z"
   },
   {
    "duration": 8,
    "start_time": "2024-11-03T14:02:59.397Z"
   },
   {
    "duration": 38,
    "start_time": "2024-11-03T14:02:59.406Z"
   },
   {
    "duration": 11,
    "start_time": "2024-11-03T14:02:59.446Z"
   },
   {
    "duration": 36,
    "start_time": "2024-11-03T14:02:59.459Z"
   },
   {
    "duration": 13,
    "start_time": "2024-11-03T14:02:59.496Z"
   },
   {
    "duration": 1678,
    "start_time": "2024-11-03T14:02:59.511Z"
   },
   {
    "duration": 558,
    "start_time": "2024-11-03T14:03:01.190Z"
   },
   {
    "duration": 195,
    "start_time": "2024-11-03T14:03:01.750Z"
   },
   {
    "duration": 23,
    "start_time": "2024-11-03T14:03:01.946Z"
   },
   {
    "duration": 7,
    "start_time": "2024-11-03T14:03:01.971Z"
   },
   {
    "duration": 552,
    "start_time": "2024-11-03T14:03:01.980Z"
   },
   {
    "duration": 1610,
    "start_time": "2024-11-03T14:03:02.533Z"
   },
   {
    "duration": 99,
    "start_time": "2024-11-03T14:03:04.145Z"
   },
   {
    "duration": 234,
    "start_time": "2024-11-03T14:03:04.246Z"
   },
   {
    "duration": 10,
    "start_time": "2024-11-03T14:03:04.482Z"
   },
   {
    "duration": 54,
    "start_time": "2024-11-03T14:03:04.494Z"
   },
   {
    "duration": 8,
    "start_time": "2024-11-03T14:03:04.550Z"
   },
   {
    "duration": 49,
    "start_time": "2024-11-03T14:03:04.560Z"
   },
   {
    "duration": 164,
    "start_time": "2024-11-03T14:03:04.610Z"
   },
   {
    "duration": 5,
    "start_time": "2024-11-03T14:03:04.776Z"
   },
   {
    "duration": 290,
    "start_time": "2024-11-03T14:03:04.782Z"
   },
   {
    "duration": 138,
    "start_time": "2024-11-03T14:03:05.074Z"
   },
   {
    "duration": 159,
    "start_time": "2024-11-03T14:03:05.214Z"
   },
   {
    "duration": 201,
    "start_time": "2024-11-03T14:03:05.375Z"
   },
   {
    "duration": 189,
    "start_time": "2024-11-03T14:03:05.577Z"
   },
   {
    "duration": 25,
    "start_time": "2024-11-03T14:03:05.768Z"
   },
   {
    "duration": 152,
    "start_time": "2024-11-03T14:03:05.794Z"
   },
   {
    "duration": 159,
    "start_time": "2024-11-03T14:03:05.948Z"
   },
   {
    "duration": 149,
    "start_time": "2024-11-03T14:03:06.108Z"
   },
   {
    "duration": 173,
    "start_time": "2024-11-03T14:03:06.258Z"
   },
   {
    "duration": 164,
    "start_time": "2024-11-03T14:03:06.433Z"
   },
   {
    "duration": 140,
    "start_time": "2024-11-03T14:03:06.599Z"
   },
   {
    "duration": 208,
    "start_time": "2024-11-03T14:03:06.745Z"
   },
   {
    "duration": 3,
    "start_time": "2024-11-03T14:03:06.954Z"
   },
   {
    "duration": 32,
    "start_time": "2024-11-03T14:03:06.958Z"
   },
   {
    "duration": 117,
    "start_time": "2024-11-03T14:03:06.991Z"
   },
   {
    "duration": 374,
    "start_time": "2024-11-03T14:03:07.109Z"
   },
   {
    "duration": 276,
    "start_time": "2024-11-03T14:03:07.485Z"
   },
   {
    "duration": 171,
    "start_time": "2024-11-03T14:03:07.763Z"
   },
   {
    "duration": 357,
    "start_time": "2024-11-03T14:03:07.936Z"
   },
   {
    "duration": 32,
    "start_time": "2024-11-03T14:03:08.295Z"
   },
   {
    "duration": 139,
    "start_time": "2024-11-03T14:03:08.329Z"
   },
   {
    "duration": 3,
    "start_time": "2024-11-07T15:37:39.841Z"
   },
   {
    "duration": 478,
    "start_time": "2024-11-07T15:37:39.846Z"
   },
   {
    "duration": 0,
    "start_time": "2024-11-07T15:37:40.329Z"
   },
   {
    "duration": 0,
    "start_time": "2024-11-07T15:37:40.331Z"
   },
   {
    "duration": 0,
    "start_time": "2024-11-07T15:37:40.332Z"
   },
   {
    "duration": 0,
    "start_time": "2024-11-07T15:37:40.334Z"
   },
   {
    "duration": 0,
    "start_time": "2024-11-07T15:37:40.335Z"
   },
   {
    "duration": 0,
    "start_time": "2024-11-07T15:37:40.336Z"
   },
   {
    "duration": 0,
    "start_time": "2024-11-07T15:37:40.337Z"
   },
   {
    "duration": 0,
    "start_time": "2024-11-07T15:37:40.338Z"
   },
   {
    "duration": 0,
    "start_time": "2024-11-07T15:37:40.339Z"
   },
   {
    "duration": 0,
    "start_time": "2024-11-07T15:37:40.340Z"
   },
   {
    "duration": 0,
    "start_time": "2024-11-07T15:37:40.341Z"
   },
   {
    "duration": 0,
    "start_time": "2024-11-07T15:37:40.342Z"
   },
   {
    "duration": 0,
    "start_time": "2024-11-07T15:37:40.343Z"
   },
   {
    "duration": 0,
    "start_time": "2024-11-07T15:37:40.344Z"
   },
   {
    "duration": 0,
    "start_time": "2024-11-07T15:37:40.345Z"
   },
   {
    "duration": 0,
    "start_time": "2024-11-07T15:37:40.347Z"
   },
   {
    "duration": 0,
    "start_time": "2024-11-07T15:37:40.347Z"
   },
   {
    "duration": 0,
    "start_time": "2024-11-07T15:37:40.349Z"
   },
   {
    "duration": 0,
    "start_time": "2024-11-07T15:37:40.349Z"
   },
   {
    "duration": 0,
    "start_time": "2024-11-07T15:37:40.350Z"
   },
   {
    "duration": 0,
    "start_time": "2024-11-07T15:37:40.351Z"
   },
   {
    "duration": 0,
    "start_time": "2024-11-07T15:37:40.352Z"
   },
   {
    "duration": 0,
    "start_time": "2024-11-07T15:37:40.353Z"
   },
   {
    "duration": 0,
    "start_time": "2024-11-07T15:37:40.355Z"
   },
   {
    "duration": 0,
    "start_time": "2024-11-07T15:37:40.356Z"
   },
   {
    "duration": 0,
    "start_time": "2024-11-07T15:37:40.357Z"
   },
   {
    "duration": 0,
    "start_time": "2024-11-07T15:37:40.358Z"
   },
   {
    "duration": 0,
    "start_time": "2024-11-07T15:37:40.359Z"
   },
   {
    "duration": 0,
    "start_time": "2024-11-07T15:37:40.360Z"
   },
   {
    "duration": 0,
    "start_time": "2024-11-07T15:37:40.361Z"
   },
   {
    "duration": 0,
    "start_time": "2024-11-07T15:37:40.362Z"
   },
   {
    "duration": 0,
    "start_time": "2024-11-07T15:37:40.363Z"
   },
   {
    "duration": 0,
    "start_time": "2024-11-07T15:37:40.364Z"
   },
   {
    "duration": 0,
    "start_time": "2024-11-07T15:37:40.365Z"
   },
   {
    "duration": 0,
    "start_time": "2024-11-07T15:37:40.421Z"
   },
   {
    "duration": 0,
    "start_time": "2024-11-07T15:37:40.422Z"
   },
   {
    "duration": 0,
    "start_time": "2024-11-07T15:37:40.424Z"
   },
   {
    "duration": 0,
    "start_time": "2024-11-07T15:37:40.425Z"
   },
   {
    "duration": 0,
    "start_time": "2024-11-07T15:37:40.426Z"
   },
   {
    "duration": 0,
    "start_time": "2024-11-07T15:37:40.427Z"
   },
   {
    "duration": 0,
    "start_time": "2024-11-07T15:37:40.429Z"
   },
   {
    "duration": 0,
    "start_time": "2024-11-07T15:37:40.430Z"
   },
   {
    "duration": 0,
    "start_time": "2024-11-07T15:37:40.431Z"
   },
   {
    "duration": 0,
    "start_time": "2024-11-07T15:37:40.432Z"
   },
   {
    "duration": 0,
    "start_time": "2024-11-07T15:37:40.433Z"
   },
   {
    "duration": 0,
    "start_time": "2024-11-07T15:37:40.435Z"
   },
   {
    "duration": 0,
    "start_time": "2024-11-07T15:37:40.436Z"
   },
   {
    "duration": 0,
    "start_time": "2024-11-07T15:37:40.438Z"
   },
   {
    "duration": 0,
    "start_time": "2024-11-07T15:37:40.439Z"
   },
   {
    "duration": 0,
    "start_time": "2024-11-07T15:37:40.442Z"
   },
   {
    "duration": 0,
    "start_time": "2024-11-07T15:37:40.444Z"
   },
   {
    "duration": 0,
    "start_time": "2024-11-07T15:37:40.445Z"
   },
   {
    "duration": 0,
    "start_time": "2024-11-07T15:37:40.447Z"
   },
   {
    "duration": 0,
    "start_time": "2024-11-07T15:37:40.449Z"
   },
   {
    "duration": 0,
    "start_time": "2024-11-07T15:37:40.450Z"
   },
   {
    "duration": 0,
    "start_time": "2024-11-07T15:37:40.451Z"
   },
   {
    "duration": 0,
    "start_time": "2024-11-07T15:37:40.452Z"
   },
   {
    "duration": 0,
    "start_time": "2024-11-07T15:37:40.454Z"
   },
   {
    "duration": 0,
    "start_time": "2024-11-07T15:37:40.455Z"
   },
   {
    "duration": 0,
    "start_time": "2024-11-07T15:37:40.457Z"
   },
   {
    "duration": 0,
    "start_time": "2024-11-07T15:37:40.521Z"
   },
   {
    "duration": 0,
    "start_time": "2024-11-07T15:37:40.524Z"
   },
   {
    "duration": 0,
    "start_time": "2024-11-07T15:37:40.525Z"
   },
   {
    "duration": 0,
    "start_time": "2024-11-07T15:37:40.527Z"
   },
   {
    "duration": 0,
    "start_time": "2024-11-07T15:37:40.530Z"
   },
   {
    "duration": 0,
    "start_time": "2024-11-07T15:37:40.531Z"
   },
   {
    "duration": 0,
    "start_time": "2024-11-07T15:37:40.532Z"
   },
   {
    "duration": 0,
    "start_time": "2024-11-07T15:37:40.534Z"
   },
   {
    "duration": 0,
    "start_time": "2024-11-07T15:37:40.535Z"
   },
   {
    "duration": 0,
    "start_time": "2024-11-07T15:37:40.537Z"
   },
   {
    "duration": 0,
    "start_time": "2024-11-07T15:37:40.538Z"
   },
   {
    "duration": 0,
    "start_time": "2024-11-07T15:37:40.539Z"
   },
   {
    "duration": 0,
    "start_time": "2024-11-07T15:37:40.541Z"
   },
   {
    "duration": 1,
    "start_time": "2024-11-07T15:37:40.542Z"
   },
   {
    "duration": 0,
    "start_time": "2024-11-07T15:37:40.544Z"
   },
   {
    "duration": 0,
    "start_time": "2024-11-07T15:37:40.545Z"
   },
   {
    "duration": 0,
    "start_time": "2024-11-07T15:37:40.546Z"
   },
   {
    "duration": 0,
    "start_time": "2024-11-07T15:37:40.547Z"
   },
   {
    "duration": 0,
    "start_time": "2024-11-07T15:37:40.548Z"
   },
   {
    "duration": 0,
    "start_time": "2024-11-07T15:37:40.549Z"
   },
   {
    "duration": 0,
    "start_time": "2024-11-07T15:37:40.550Z"
   },
   {
    "duration": 0,
    "start_time": "2024-11-07T15:37:40.551Z"
   },
   {
    "duration": 0,
    "start_time": "2024-11-07T15:37:40.551Z"
   },
   {
    "duration": 0,
    "start_time": "2024-11-07T15:37:40.553Z"
   },
   {
    "duration": 0,
    "start_time": "2024-11-07T15:37:40.554Z"
   },
   {
    "duration": 0,
    "start_time": "2024-11-07T15:37:40.555Z"
   },
   {
    "duration": 0,
    "start_time": "2024-11-07T15:37:40.556Z"
   },
   {
    "duration": 0,
    "start_time": "2024-11-07T15:37:40.557Z"
   },
   {
    "duration": 0,
    "start_time": "2024-11-07T15:37:40.621Z"
   },
   {
    "duration": 0,
    "start_time": "2024-11-07T15:37:40.622Z"
   },
   {
    "duration": 0,
    "start_time": "2024-11-07T15:37:40.623Z"
   },
   {
    "duration": 0,
    "start_time": "2024-11-07T15:37:40.624Z"
   },
   {
    "duration": 0,
    "start_time": "2024-11-07T15:37:40.625Z"
   },
   {
    "duration": 0,
    "start_time": "2024-11-07T15:37:40.626Z"
   },
   {
    "duration": 7731,
    "start_time": "2024-11-07T15:37:55.027Z"
   },
   {
    "duration": 747,
    "start_time": "2024-11-07T15:38:02.760Z"
   },
   {
    "duration": 445,
    "start_time": "2024-11-07T15:38:03.509Z"
   },
   {
    "duration": 15,
    "start_time": "2024-11-07T15:38:03.956Z"
   },
   {
    "duration": 10,
    "start_time": "2024-11-07T15:38:03.973Z"
   },
   {
    "duration": 14,
    "start_time": "2024-11-07T15:38:03.985Z"
   },
   {
    "duration": 28,
    "start_time": "2024-11-07T15:38:04.001Z"
   },
   {
    "duration": 10,
    "start_time": "2024-11-07T15:38:04.031Z"
   },
   {
    "duration": 39,
    "start_time": "2024-11-07T15:38:04.042Z"
   },
   {
    "duration": 52,
    "start_time": "2024-11-07T15:38:04.083Z"
   },
   {
    "duration": 27,
    "start_time": "2024-11-07T15:38:04.137Z"
   },
   {
    "duration": 5,
    "start_time": "2024-11-07T15:38:04.165Z"
   },
   {
    "duration": 27,
    "start_time": "2024-11-07T15:38:04.171Z"
   },
   {
    "duration": 76,
    "start_time": "2024-11-07T15:38:04.200Z"
   },
   {
    "duration": 22,
    "start_time": "2024-11-07T15:38:04.277Z"
   },
   {
    "duration": 279,
    "start_time": "2024-11-07T15:38:04.300Z"
   },
   {
    "duration": 18,
    "start_time": "2024-11-07T15:38:04.581Z"
   },
   {
    "duration": 22,
    "start_time": "2024-11-07T15:38:04.601Z"
   },
   {
    "duration": 31,
    "start_time": "2024-11-07T15:38:04.625Z"
   },
   {
    "duration": 16,
    "start_time": "2024-11-07T15:38:04.658Z"
   },
   {
    "duration": 76,
    "start_time": "2024-11-07T15:38:04.676Z"
   },
   {
    "duration": 40,
    "start_time": "2024-11-07T15:38:04.753Z"
   },
   {
    "duration": 36,
    "start_time": "2024-11-07T15:38:04.794Z"
   },
   {
    "duration": 9,
    "start_time": "2024-11-07T15:38:04.832Z"
   },
   {
    "duration": 32,
    "start_time": "2024-11-07T15:38:04.842Z"
   },
   {
    "duration": 24,
    "start_time": "2024-11-07T15:38:04.876Z"
   },
   {
    "duration": 7,
    "start_time": "2024-11-07T15:38:04.901Z"
   },
   {
    "duration": 16,
    "start_time": "2024-11-07T15:38:04.912Z"
   },
   {
    "duration": 11941,
    "start_time": "2024-11-07T15:38:04.929Z"
   },
   {
    "duration": 3,
    "start_time": "2024-11-07T15:38:16.871Z"
   },
   {
    "duration": 11,
    "start_time": "2024-11-07T15:38:16.875Z"
   },
   {
    "duration": 16,
    "start_time": "2024-11-07T15:38:16.887Z"
   },
   {
    "duration": 7,
    "start_time": "2024-11-07T15:38:16.905Z"
   },
   {
    "duration": 6,
    "start_time": "2024-11-07T15:38:16.913Z"
   },
   {
    "duration": 176977,
    "start_time": "2024-11-07T15:38:16.920Z"
   },
   {
    "duration": 4,
    "start_time": "2024-11-07T15:41:13.899Z"
   },
   {
    "duration": 13,
    "start_time": "2024-11-07T15:41:13.904Z"
   },
   {
    "duration": 39,
    "start_time": "2024-11-07T15:41:13.921Z"
   },
   {
    "duration": 6,
    "start_time": "2024-11-07T15:41:13.961Z"
   },
   {
    "duration": 8,
    "start_time": "2024-11-07T15:41:13.968Z"
   },
   {
    "duration": 44,
    "start_time": "2024-11-07T15:41:13.977Z"
   },
   {
    "duration": 9,
    "start_time": "2024-11-07T15:41:14.023Z"
   },
   {
    "duration": 8,
    "start_time": "2024-11-07T15:41:14.033Z"
   },
   {
    "duration": 15,
    "start_time": "2024-11-07T15:41:14.042Z"
   },
   {
    "duration": 9,
    "start_time": "2024-11-07T15:41:14.058Z"
   },
   {
    "duration": 10,
    "start_time": "2024-11-07T15:41:14.068Z"
   },
   {
    "duration": 42,
    "start_time": "2024-11-07T15:41:14.080Z"
   },
   {
    "duration": 9,
    "start_time": "2024-11-07T15:41:14.124Z"
   },
   {
    "duration": 87,
    "start_time": "2024-11-07T15:41:14.134Z"
   },
   {
    "duration": 16,
    "start_time": "2024-11-07T15:41:14.222Z"
   },
   {
    "duration": 20,
    "start_time": "2024-11-07T15:41:14.240Z"
   },
   {
    "duration": 1091,
    "start_time": "2024-11-07T15:41:14.262Z"
   },
   {
    "duration": 811,
    "start_time": "2024-11-07T15:41:15.355Z"
   },
   {
    "duration": 0,
    "start_time": "2024-11-07T15:41:16.169Z"
   },
   {
    "duration": 0,
    "start_time": "2024-11-07T15:41:16.170Z"
   },
   {
    "duration": 0,
    "start_time": "2024-11-07T15:41:16.172Z"
   },
   {
    "duration": 0,
    "start_time": "2024-11-07T15:41:16.173Z"
   },
   {
    "duration": 0,
    "start_time": "2024-11-07T15:41:16.175Z"
   },
   {
    "duration": 0,
    "start_time": "2024-11-07T15:41:16.176Z"
   },
   {
    "duration": 0,
    "start_time": "2024-11-07T15:41:16.177Z"
   },
   {
    "duration": 0,
    "start_time": "2024-11-07T15:41:16.179Z"
   },
   {
    "duration": 0,
    "start_time": "2024-11-07T15:41:16.180Z"
   },
   {
    "duration": 0,
    "start_time": "2024-11-07T15:41:16.182Z"
   },
   {
    "duration": 0,
    "start_time": "2024-11-07T15:41:16.183Z"
   },
   {
    "duration": 0,
    "start_time": "2024-11-07T15:41:16.185Z"
   },
   {
    "duration": 1,
    "start_time": "2024-11-07T15:41:16.221Z"
   },
   {
    "duration": 0,
    "start_time": "2024-11-07T15:41:16.224Z"
   },
   {
    "duration": 0,
    "start_time": "2024-11-07T15:41:16.225Z"
   },
   {
    "duration": 0,
    "start_time": "2024-11-07T15:41:16.226Z"
   },
   {
    "duration": 0,
    "start_time": "2024-11-07T15:41:16.228Z"
   },
   {
    "duration": 0,
    "start_time": "2024-11-07T15:41:16.229Z"
   },
   {
    "duration": 0,
    "start_time": "2024-11-07T15:41:16.230Z"
   },
   {
    "duration": 0,
    "start_time": "2024-11-07T15:41:16.232Z"
   },
   {
    "duration": 0,
    "start_time": "2024-11-07T15:41:16.233Z"
   },
   {
    "duration": 0,
    "start_time": "2024-11-07T15:41:16.235Z"
   },
   {
    "duration": 0,
    "start_time": "2024-11-07T15:41:16.236Z"
   },
   {
    "duration": 1,
    "start_time": "2024-11-07T15:41:16.237Z"
   },
   {
    "duration": 0,
    "start_time": "2024-11-07T15:41:16.239Z"
   },
   {
    "duration": 0,
    "start_time": "2024-11-07T15:41:16.240Z"
   },
   {
    "duration": 0,
    "start_time": "2024-11-07T15:41:16.242Z"
   },
   {
    "duration": 0,
    "start_time": "2024-11-07T15:41:16.244Z"
   },
   {
    "duration": 0,
    "start_time": "2024-11-07T15:41:16.245Z"
   },
   {
    "duration": 0,
    "start_time": "2024-11-07T15:41:16.246Z"
   },
   {
    "duration": 1,
    "start_time": "2024-11-07T15:41:16.247Z"
   },
   {
    "duration": 0,
    "start_time": "2024-11-07T15:41:16.249Z"
   },
   {
    "duration": 0,
    "start_time": "2024-11-07T15:41:16.250Z"
   },
   {
    "duration": 0,
    "start_time": "2024-11-07T15:41:16.252Z"
   },
   {
    "duration": 0,
    "start_time": "2024-11-07T15:41:16.253Z"
   },
   {
    "duration": 0,
    "start_time": "2024-11-07T15:41:16.254Z"
   },
   {
    "duration": 0,
    "start_time": "2024-11-07T15:41:16.255Z"
   },
   {
    "duration": 0,
    "start_time": "2024-11-07T15:41:16.256Z"
   },
   {
    "duration": 1,
    "start_time": "2024-11-07T15:41:16.256Z"
   },
   {
    "duration": 0,
    "start_time": "2024-11-07T15:41:16.257Z"
   },
   {
    "duration": 0,
    "start_time": "2024-11-07T15:41:16.258Z"
   },
   {
    "duration": 0,
    "start_time": "2024-11-07T15:41:16.321Z"
   },
   {
    "duration": 0,
    "start_time": "2024-11-07T15:41:16.322Z"
   },
   {
    "duration": 961,
    "start_time": "2024-11-07T15:43:45.916Z"
   },
   {
    "duration": 693,
    "start_time": "2024-11-07T15:43:53.354Z"
   },
   {
    "duration": 123,
    "start_time": "2024-11-07T15:44:46.093Z"
   },
   {
    "duration": 107,
    "start_time": "2024-11-07T15:44:49.661Z"
   },
   {
    "duration": 123,
    "start_time": "2024-11-07T15:44:50.662Z"
   },
   {
    "duration": 19,
    "start_time": "2024-11-07T15:44:52.020Z"
   },
   {
    "duration": 11,
    "start_time": "2024-11-07T15:44:53.077Z"
   },
   {
    "duration": 584,
    "start_time": "2024-11-07T15:44:54.892Z"
   },
   {
    "duration": 988,
    "start_time": "2024-11-07T15:44:55.710Z"
   },
   {
    "duration": 1057,
    "start_time": "2024-11-07T15:44:57.397Z"
   },
   {
    "duration": 413,
    "start_time": "2024-11-07T15:44:58.678Z"
   },
   {
    "duration": 9,
    "start_time": "2024-11-07T15:45:12.246Z"
   },
   {
    "duration": 35,
    "start_time": "2024-11-07T15:45:20.758Z"
   },
   {
    "duration": 135,
    "start_time": "2024-11-07T15:45:25.742Z"
   },
   {
    "duration": 5,
    "start_time": "2024-11-07T15:45:29.724Z"
   },
   {
    "duration": 173,
    "start_time": "2024-11-07T15:46:27.230Z"
   },
   {
    "duration": 138,
    "start_time": "2024-11-07T15:46:29.823Z"
   },
   {
    "duration": 158,
    "start_time": "2024-11-07T15:47:40.643Z"
   },
   {
    "duration": 161,
    "start_time": "2024-11-07T15:47:44.908Z"
   },
   {
    "duration": 527,
    "start_time": "2024-11-07T15:48:41.073Z"
   },
   {
    "duration": 19,
    "start_time": "2024-11-07T15:49:05.775Z"
   },
   {
    "duration": 163,
    "start_time": "2024-11-07T15:49:06.646Z"
   },
   {
    "duration": 156,
    "start_time": "2024-11-07T15:49:08.583Z"
   },
   {
    "duration": 145,
    "start_time": "2024-11-07T15:49:10.181Z"
   },
   {
    "duration": 230,
    "start_time": "2024-11-07T15:49:11.410Z"
   },
   {
    "duration": 174,
    "start_time": "2024-11-07T15:49:12.853Z"
   },
   {
    "duration": 160,
    "start_time": "2024-11-07T15:49:14.654Z"
   },
   {
    "duration": 164,
    "start_time": "2024-11-07T15:49:16.334Z"
   },
   {
    "duration": 162,
    "start_time": "2024-11-07T15:49:17.646Z"
   },
   {
    "duration": 4,
    "start_time": "2024-11-07T15:49:18.879Z"
   },
   {
    "duration": 2,
    "start_time": "2024-11-07T15:49:25.271Z"
   },
   {
    "duration": 2046,
    "start_time": "2024-11-07T15:49:37.480Z"
   },
   {
    "duration": 55,
    "start_time": "2024-11-07T15:49:44.257Z"
   },
   {
    "duration": 59,
    "start_time": "2024-11-07T15:49:49.858Z"
   },
   {
    "duration": 52,
    "start_time": "2024-11-07T15:50:08.010Z"
   },
   {
    "duration": 44,
    "start_time": "2024-11-07T15:50:13.978Z"
   },
   {
    "duration": 4,
    "start_time": "2024-11-07T15:51:08.260Z"
   },
   {
    "duration": 69,
    "start_time": "2024-11-07T15:51:33.148Z"
   },
   {
    "duration": 68,
    "start_time": "2024-11-07T15:51:45.956Z"
   },
   {
    "duration": 44,
    "start_time": "2024-11-07T15:51:59.879Z"
   },
   {
    "duration": 46,
    "start_time": "2024-11-07T15:52:04.611Z"
   },
   {
    "duration": 4,
    "start_time": "2024-11-07T15:52:26.041Z"
   },
   {
    "duration": 8,
    "start_time": "2024-11-07T15:52:46.411Z"
   },
   {
    "duration": 3,
    "start_time": "2024-11-07T15:52:54.442Z"
   },
   {
    "duration": 45,
    "start_time": "2024-11-07T15:53:08.353Z"
   },
   {
    "duration": 4,
    "start_time": "2024-11-07T15:53:13.374Z"
   },
   {
    "duration": 4,
    "start_time": "2024-11-07T15:53:22.224Z"
   },
   {
    "duration": 8,
    "start_time": "2024-11-07T15:53:28.554Z"
   },
   {
    "duration": 50,
    "start_time": "2024-11-07T15:55:12.789Z"
   },
   {
    "duration": 4,
    "start_time": "2024-11-07T15:55:26.423Z"
   },
   {
    "duration": 4,
    "start_time": "2024-11-07T15:55:36.551Z"
   },
   {
    "duration": 55,
    "start_time": "2024-11-07T15:55:52.997Z"
   },
   {
    "duration": 46,
    "start_time": "2024-11-07T15:56:36.281Z"
   },
   {
    "duration": 63,
    "start_time": "2024-11-07T15:56:42.183Z"
   },
   {
    "duration": 57,
    "start_time": "2024-11-07T15:56:53.272Z"
   },
   {
    "duration": 52,
    "start_time": "2024-11-07T15:57:00.610Z"
   },
   {
    "duration": 45,
    "start_time": "2024-11-07T15:57:04.874Z"
   },
   {
    "duration": 46,
    "start_time": "2024-11-07T15:57:44.660Z"
   },
   {
    "duration": 44,
    "start_time": "2024-11-07T15:58:02.203Z"
   },
   {
    "duration": 44,
    "start_time": "2024-11-07T15:58:10.741Z"
   },
   {
    "duration": 4,
    "start_time": "2024-11-07T15:58:19.588Z"
   },
   {
    "duration": 47,
    "start_time": "2024-11-07T15:58:39.716Z"
   },
   {
    "duration": 46,
    "start_time": "2024-11-07T15:58:54.189Z"
   },
   {
    "duration": 56,
    "start_time": "2024-11-07T15:59:01.830Z"
   },
   {
    "duration": 45,
    "start_time": "2024-11-07T15:59:18.206Z"
   },
   {
    "duration": 44,
    "start_time": "2024-11-07T15:59:24.270Z"
   },
   {
    "duration": 4,
    "start_time": "2024-11-07T15:59:30.919Z"
   },
   {
    "duration": 69,
    "start_time": "2024-11-07T15:59:38.144Z"
   },
   {
    "duration": 4,
    "start_time": "2024-11-07T16:01:30.740Z"
   },
   {
    "duration": 4,
    "start_time": "2024-11-07T16:01:46.251Z"
   },
   {
    "duration": 4,
    "start_time": "2024-11-07T16:01:53.605Z"
   },
   {
    "duration": 4,
    "start_time": "2024-11-07T16:01:58.631Z"
   },
   {
    "duration": 50,
    "start_time": "2024-11-07T16:02:23.814Z"
   },
   {
    "duration": 49,
    "start_time": "2024-11-07T16:02:37.701Z"
   },
   {
    "duration": 4,
    "start_time": "2024-11-07T16:02:57.438Z"
   },
   {
    "duration": 15,
    "start_time": "2024-11-07T16:03:16.758Z"
   },
   {
    "duration": 15,
    "start_time": "2024-11-07T16:03:17.214Z"
   },
   {
    "duration": 3,
    "start_time": "2024-11-07T16:03:17.902Z"
   },
   {
    "duration": 109,
    "start_time": "2024-11-07T16:03:28.437Z"
   },
   {
    "duration": 131,
    "start_time": "2024-11-07T16:03:29.638Z"
   },
   {
    "duration": 104,
    "start_time": "2024-11-07T16:03:30.861Z"
   },
   {
    "duration": 109,
    "start_time": "2024-11-07T16:03:31.919Z"
   },
   {
    "duration": 16,
    "start_time": "2024-11-07T16:03:33.271Z"
   },
   {
    "duration": 114,
    "start_time": "2024-11-07T16:03:33.734Z"
   },
   {
    "duration": 139,
    "start_time": "2024-11-07T16:03:34.703Z"
   },
   {
    "duration": 107,
    "start_time": "2024-11-07T16:03:35.502Z"
   },
   {
    "duration": 102,
    "start_time": "2024-11-07T16:03:36.583Z"
   },
   {
    "duration": 5,
    "start_time": "2024-11-07T16:04:33.616Z"
   },
   {
    "duration": 823,
    "start_time": "2024-11-07T16:04:40.522Z"
   },
   {
    "duration": 39,
    "start_time": "2024-11-07T16:04:47.225Z"
   },
   {
    "duration": 865,
    "start_time": "2024-11-07T16:05:07.538Z"
   },
   {
    "duration": 6,
    "start_time": "2024-11-07T16:06:22.508Z"
   },
   {
    "duration": 11,
    "start_time": "2024-11-07T16:06:42.167Z"
   },
   {
    "duration": 306,
    "start_time": "2024-11-07T16:06:57.655Z"
   },
   {
    "duration": 7,
    "start_time": "2024-11-07T16:07:45.598Z"
   },
   {
    "duration": 24,
    "start_time": "2024-11-07T16:10:16.245Z"
   },
   {
    "duration": 37,
    "start_time": "2024-11-07T16:11:12.843Z"
   },
   {
    "duration": 157,
    "start_time": "2024-11-07T16:12:13.209Z"
   },
   {
    "duration": 269,
    "start_time": "2024-11-07T16:12:15.571Z"
   },
   {
    "duration": 2379,
    "start_time": "2024-11-07T16:18:03.693Z"
   },
   {
    "duration": 597,
    "start_time": "2024-11-07T16:18:06.075Z"
   },
   {
    "duration": 198,
    "start_time": "2024-11-07T16:18:06.673Z"
   },
   {
    "duration": 19,
    "start_time": "2024-11-07T16:18:06.878Z"
   },
   {
    "duration": 62,
    "start_time": "2024-11-07T16:18:06.899Z"
   },
   {
    "duration": 30,
    "start_time": "2024-11-07T16:18:06.963Z"
   },
   {
    "duration": 22,
    "start_time": "2024-11-07T16:18:06.995Z"
   },
   {
    "duration": 19,
    "start_time": "2024-11-07T16:18:07.019Z"
   },
   {
    "duration": 36,
    "start_time": "2024-11-07T16:18:07.040Z"
   },
   {
    "duration": 44,
    "start_time": "2024-11-07T16:18:07.079Z"
   },
   {
    "duration": 24,
    "start_time": "2024-11-07T16:18:07.125Z"
   },
   {
    "duration": 4,
    "start_time": "2024-11-07T16:18:07.151Z"
   },
   {
    "duration": 18,
    "start_time": "2024-11-07T16:18:07.157Z"
   },
   {
    "duration": 45,
    "start_time": "2024-11-07T16:18:07.176Z"
   },
   {
    "duration": 4,
    "start_time": "2024-11-07T16:18:07.222Z"
   },
   {
    "duration": 303,
    "start_time": "2024-11-07T16:18:07.228Z"
   },
   {
    "duration": 26,
    "start_time": "2024-11-07T16:18:07.533Z"
   },
   {
    "duration": 6,
    "start_time": "2024-11-07T16:18:07.561Z"
   },
   {
    "duration": 31,
    "start_time": "2024-11-07T16:18:07.569Z"
   },
   {
    "duration": 20,
    "start_time": "2024-11-07T16:18:07.601Z"
   },
   {
    "duration": 5,
    "start_time": "2024-11-07T16:18:07.623Z"
   },
   {
    "duration": 34,
    "start_time": "2024-11-07T16:18:07.629Z"
   },
   {
    "duration": 26,
    "start_time": "2024-11-07T16:18:07.665Z"
   },
   {
    "duration": 7,
    "start_time": "2024-11-07T16:18:07.692Z"
   },
   {
    "duration": 14,
    "start_time": "2024-11-07T16:18:07.701Z"
   },
   {
    "duration": 9,
    "start_time": "2024-11-07T16:18:07.720Z"
   },
   {
    "duration": 7,
    "start_time": "2024-11-07T16:18:07.731Z"
   },
   {
    "duration": 14,
    "start_time": "2024-11-07T16:18:07.742Z"
   },
   {
    "duration": 12003,
    "start_time": "2024-11-07T16:18:07.757Z"
   },
   {
    "duration": 3,
    "start_time": "2024-11-07T16:18:19.762Z"
   },
   {
    "duration": 5,
    "start_time": "2024-11-07T16:18:19.766Z"
   },
   {
    "duration": 4,
    "start_time": "2024-11-07T16:18:19.773Z"
   },
   {
    "duration": 6,
    "start_time": "2024-11-07T16:18:19.778Z"
   },
   {
    "duration": 5,
    "start_time": "2024-11-07T16:18:19.785Z"
   },
   {
    "duration": 163157,
    "start_time": "2024-11-07T16:18:19.791Z"
   },
   {
    "duration": 5,
    "start_time": "2024-11-07T16:21:02.949Z"
   },
   {
    "duration": 27,
    "start_time": "2024-11-07T16:21:02.955Z"
   },
   {
    "duration": 35,
    "start_time": "2024-11-07T16:21:02.983Z"
   },
   {
    "duration": 7,
    "start_time": "2024-11-07T16:21:03.019Z"
   },
   {
    "duration": 10,
    "start_time": "2024-11-07T16:21:03.028Z"
   },
   {
    "duration": 42,
    "start_time": "2024-11-07T16:21:03.039Z"
   },
   {
    "duration": 8,
    "start_time": "2024-11-07T16:21:03.082Z"
   },
   {
    "duration": 8,
    "start_time": "2024-11-07T16:21:03.092Z"
   },
   {
    "duration": 23,
    "start_time": "2024-11-07T16:21:03.101Z"
   },
   {
    "duration": 26,
    "start_time": "2024-11-07T16:21:03.125Z"
   },
   {
    "duration": 18,
    "start_time": "2024-11-07T16:21:03.153Z"
   },
   {
    "duration": 16,
    "start_time": "2024-11-07T16:21:03.172Z"
   },
   {
    "duration": 9,
    "start_time": "2024-11-07T16:21:03.189Z"
   },
   {
    "duration": 74,
    "start_time": "2024-11-07T16:21:03.199Z"
   },
   {
    "duration": 16,
    "start_time": "2024-11-07T16:21:03.275Z"
   },
   {
    "duration": 17,
    "start_time": "2024-11-07T16:21:03.293Z"
   },
   {
    "duration": 980,
    "start_time": "2024-11-07T16:21:03.311Z"
   },
   {
    "duration": 747,
    "start_time": "2024-11-07T16:21:04.292Z"
   },
   {
    "duration": 0,
    "start_time": "2024-11-07T16:21:05.041Z"
   },
   {
    "duration": 0,
    "start_time": "2024-11-07T16:21:05.042Z"
   },
   {
    "duration": 0,
    "start_time": "2024-11-07T16:21:05.043Z"
   },
   {
    "duration": 1,
    "start_time": "2024-11-07T16:21:05.043Z"
   },
   {
    "duration": 0,
    "start_time": "2024-11-07T16:21:05.045Z"
   },
   {
    "duration": 0,
    "start_time": "2024-11-07T16:21:05.046Z"
   },
   {
    "duration": 0,
    "start_time": "2024-11-07T16:21:05.047Z"
   },
   {
    "duration": 0,
    "start_time": "2024-11-07T16:21:05.047Z"
   },
   {
    "duration": 0,
    "start_time": "2024-11-07T16:21:05.049Z"
   },
   {
    "duration": 0,
    "start_time": "2024-11-07T16:21:05.050Z"
   },
   {
    "duration": 0,
    "start_time": "2024-11-07T16:21:05.050Z"
   },
   {
    "duration": 0,
    "start_time": "2024-11-07T16:21:05.051Z"
   },
   {
    "duration": 0,
    "start_time": "2024-11-07T16:21:05.053Z"
   },
   {
    "duration": 0,
    "start_time": "2024-11-07T16:21:05.053Z"
   },
   {
    "duration": 0,
    "start_time": "2024-11-07T16:21:05.054Z"
   },
   {
    "duration": 0,
    "start_time": "2024-11-07T16:21:05.055Z"
   },
   {
    "duration": 0,
    "start_time": "2024-11-07T16:21:05.057Z"
   },
   {
    "duration": 0,
    "start_time": "2024-11-07T16:21:05.057Z"
   },
   {
    "duration": 0,
    "start_time": "2024-11-07T16:21:05.058Z"
   },
   {
    "duration": 0,
    "start_time": "2024-11-07T16:21:05.059Z"
   },
   {
    "duration": 0,
    "start_time": "2024-11-07T16:21:05.060Z"
   },
   {
    "duration": 0,
    "start_time": "2024-11-07T16:21:05.061Z"
   },
   {
    "duration": 0,
    "start_time": "2024-11-07T16:21:05.062Z"
   },
   {
    "duration": 0,
    "start_time": "2024-11-07T16:21:05.063Z"
   },
   {
    "duration": 0,
    "start_time": "2024-11-07T16:21:05.064Z"
   },
   {
    "duration": 0,
    "start_time": "2024-11-07T16:21:05.065Z"
   },
   {
    "duration": 0,
    "start_time": "2024-11-07T16:21:05.066Z"
   },
   {
    "duration": 0,
    "start_time": "2024-11-07T16:21:05.067Z"
   },
   {
    "duration": 0,
    "start_time": "2024-11-07T16:21:05.068Z"
   },
   {
    "duration": 0,
    "start_time": "2024-11-07T16:21:05.121Z"
   },
   {
    "duration": 0,
    "start_time": "2024-11-07T16:21:05.122Z"
   },
   {
    "duration": 0,
    "start_time": "2024-11-07T16:21:05.123Z"
   },
   {
    "duration": 0,
    "start_time": "2024-11-07T16:21:05.124Z"
   },
   {
    "duration": 0,
    "start_time": "2024-11-07T16:21:05.125Z"
   },
   {
    "duration": 0,
    "start_time": "2024-11-07T16:21:05.126Z"
   },
   {
    "duration": 0,
    "start_time": "2024-11-07T16:21:05.127Z"
   },
   {
    "duration": 0,
    "start_time": "2024-11-07T16:21:05.128Z"
   },
   {
    "duration": 0,
    "start_time": "2024-11-07T16:21:05.129Z"
   },
   {
    "duration": 0,
    "start_time": "2024-11-07T16:21:05.130Z"
   },
   {
    "duration": 0,
    "start_time": "2024-11-07T16:21:05.131Z"
   },
   {
    "duration": 0,
    "start_time": "2024-11-07T16:21:05.132Z"
   },
   {
    "duration": 0,
    "start_time": "2024-11-07T16:21:05.133Z"
   },
   {
    "duration": 0,
    "start_time": "2024-11-07T16:21:05.134Z"
   },
   {
    "duration": 0,
    "start_time": "2024-11-07T16:21:05.135Z"
   },
   {
    "duration": 0,
    "start_time": "2024-11-07T16:21:05.136Z"
   },
   {
    "duration": 5,
    "start_time": "2024-11-07T16:24:53.832Z"
   },
   {
    "duration": 127,
    "start_time": "2024-11-07T16:24:57.479Z"
   },
   {
    "duration": 109,
    "start_time": "2024-11-07T16:25:00.487Z"
   },
   {
    "duration": 123,
    "start_time": "2024-11-07T16:25:01.407Z"
   },
   {
    "duration": 19,
    "start_time": "2024-11-07T16:25:02.964Z"
   },
   {
    "duration": 11,
    "start_time": "2024-11-07T16:25:07.998Z"
   },
   {
    "duration": 598,
    "start_time": "2024-11-07T16:25:09.064Z"
   },
   {
    "duration": 1038,
    "start_time": "2024-11-07T16:25:10.056Z"
   },
   {
    "duration": 1030,
    "start_time": "2024-11-07T16:25:16.152Z"
   },
   {
    "duration": 366,
    "start_time": "2024-11-07T16:25:18.409Z"
   },
   {
    "duration": 9,
    "start_time": "2024-11-07T16:25:20.793Z"
   },
   {
    "duration": 34,
    "start_time": "2024-11-07T16:25:21.696Z"
   },
   {
    "duration": 8,
    "start_time": "2024-11-07T16:25:22.305Z"
   },
   {
    "duration": 138,
    "start_time": "2024-11-07T16:25:26.886Z"
   },
   {
    "duration": 5,
    "start_time": "2024-11-07T16:25:29.678Z"
   },
   {
    "duration": 135,
    "start_time": "2024-11-07T16:25:30.696Z"
   },
   {
    "duration": 147,
    "start_time": "2024-11-07T16:25:32.530Z"
   },
   {
    "duration": 156,
    "start_time": "2024-11-07T16:25:34.712Z"
   },
   {
    "duration": 2346,
    "start_time": "2024-11-07T16:25:39.486Z"
   },
   {
    "duration": 614,
    "start_time": "2024-11-07T16:25:41.834Z"
   },
   {
    "duration": 169,
    "start_time": "2024-11-07T16:25:42.450Z"
   },
   {
    "duration": 16,
    "start_time": "2024-11-07T16:25:42.620Z"
   },
   {
    "duration": 12,
    "start_time": "2024-11-07T16:25:42.638Z"
   },
   {
    "duration": 22,
    "start_time": "2024-11-07T16:25:42.652Z"
   },
   {
    "duration": 22,
    "start_time": "2024-11-07T16:25:42.675Z"
   },
   {
    "duration": 23,
    "start_time": "2024-11-07T16:25:42.699Z"
   },
   {
    "duration": 37,
    "start_time": "2024-11-07T16:25:42.723Z"
   },
   {
    "duration": 31,
    "start_time": "2024-11-07T16:25:42.762Z"
   },
   {
    "duration": 35,
    "start_time": "2024-11-07T16:25:42.795Z"
   },
   {
    "duration": 3,
    "start_time": "2024-11-07T16:25:42.832Z"
   },
   {
    "duration": 11,
    "start_time": "2024-11-07T16:25:42.837Z"
   },
   {
    "duration": 39,
    "start_time": "2024-11-07T16:25:42.851Z"
   },
   {
    "duration": 5,
    "start_time": "2024-11-07T16:25:42.892Z"
   },
   {
    "duration": 265,
    "start_time": "2024-11-07T16:25:42.921Z"
   },
   {
    "duration": 34,
    "start_time": "2024-11-07T16:25:43.188Z"
   },
   {
    "duration": 7,
    "start_time": "2024-11-07T16:25:43.223Z"
   },
   {
    "duration": 18,
    "start_time": "2024-11-07T16:25:43.231Z"
   },
   {
    "duration": 10,
    "start_time": "2024-11-07T16:25:43.250Z"
   },
   {
    "duration": 15,
    "start_time": "2024-11-07T16:25:43.261Z"
   },
   {
    "duration": 27,
    "start_time": "2024-11-07T16:25:43.277Z"
   },
   {
    "duration": 33,
    "start_time": "2024-11-07T16:25:43.305Z"
   },
   {
    "duration": 8,
    "start_time": "2024-11-07T16:25:43.339Z"
   },
   {
    "duration": 16,
    "start_time": "2024-11-07T16:25:43.349Z"
   },
   {
    "duration": 10,
    "start_time": "2024-11-07T16:25:43.367Z"
   },
   {
    "duration": 15,
    "start_time": "2024-11-07T16:25:43.379Z"
   },
   {
    "duration": 4,
    "start_time": "2024-11-07T16:25:43.395Z"
   },
   {
    "duration": 11900,
    "start_time": "2024-11-07T16:25:43.420Z"
   },
   {
    "duration": 3,
    "start_time": "2024-11-07T16:25:55.322Z"
   },
   {
    "duration": 17,
    "start_time": "2024-11-07T16:25:55.327Z"
   },
   {
    "duration": 5,
    "start_time": "2024-11-07T16:25:55.345Z"
   },
   {
    "duration": 8,
    "start_time": "2024-11-07T16:25:55.351Z"
   },
   {
    "duration": 30,
    "start_time": "2024-11-07T16:25:55.360Z"
   },
   {
    "duration": 163316,
    "start_time": "2024-11-07T16:25:55.391Z"
   },
   {
    "duration": 5,
    "start_time": "2024-11-07T16:28:38.708Z"
   },
   {
    "duration": 3,
    "start_time": "2024-11-07T16:28:38.721Z"
   },
   {
    "duration": 33,
    "start_time": "2024-11-07T16:28:38.725Z"
   },
   {
    "duration": 6,
    "start_time": "2024-11-07T16:28:38.760Z"
   },
   {
    "duration": 12,
    "start_time": "2024-11-07T16:28:38.767Z"
   },
   {
    "duration": 45,
    "start_time": "2024-11-07T16:28:38.785Z"
   },
   {
    "duration": 8,
    "start_time": "2024-11-07T16:28:38.832Z"
   },
   {
    "duration": 7,
    "start_time": "2024-11-07T16:28:38.842Z"
   },
   {
    "duration": 11,
    "start_time": "2024-11-07T16:28:38.850Z"
   },
   {
    "duration": 8,
    "start_time": "2024-11-07T16:28:38.863Z"
   },
   {
    "duration": 13,
    "start_time": "2024-11-07T16:28:38.872Z"
   },
   {
    "duration": 45,
    "start_time": "2024-11-07T16:28:38.886Z"
   },
   {
    "duration": 8,
    "start_time": "2024-11-07T16:28:38.932Z"
   },
   {
    "duration": 93,
    "start_time": "2024-11-07T16:28:38.941Z"
   },
   {
    "duration": 17,
    "start_time": "2024-11-07T16:28:39.035Z"
   },
   {
    "duration": 4,
    "start_time": "2024-11-07T16:28:39.054Z"
   },
   {
    "duration": 977,
    "start_time": "2024-11-07T16:28:39.060Z"
   },
   {
    "duration": 3,
    "start_time": "2024-11-07T16:28:40.038Z"
   },
   {
    "duration": 145,
    "start_time": "2024-11-07T16:28:40.042Z"
   },
   {
    "duration": 110,
    "start_time": "2024-11-07T16:28:40.188Z"
   },
   {
    "duration": 139,
    "start_time": "2024-11-07T16:28:40.300Z"
   },
   {
    "duration": 18,
    "start_time": "2024-11-07T16:28:40.441Z"
   },
   {
    "duration": 21,
    "start_time": "2024-11-07T16:28:40.460Z"
   },
   {
    "duration": 86,
    "start_time": "2024-11-07T16:28:40.482Z"
   },
   {
    "duration": 0,
    "start_time": "2024-11-07T16:28:40.569Z"
   },
   {
    "duration": 0,
    "start_time": "2024-11-07T16:28:40.571Z"
   },
   {
    "duration": 0,
    "start_time": "2024-11-07T16:28:40.572Z"
   },
   {
    "duration": 0,
    "start_time": "2024-11-07T16:28:40.573Z"
   },
   {
    "duration": 0,
    "start_time": "2024-11-07T16:28:40.574Z"
   },
   {
    "duration": 0,
    "start_time": "2024-11-07T16:28:40.575Z"
   },
   {
    "duration": 0,
    "start_time": "2024-11-07T16:28:40.576Z"
   },
   {
    "duration": 0,
    "start_time": "2024-11-07T16:28:40.577Z"
   },
   {
    "duration": 0,
    "start_time": "2024-11-07T16:28:40.578Z"
   },
   {
    "duration": 0,
    "start_time": "2024-11-07T16:28:40.579Z"
   },
   {
    "duration": 0,
    "start_time": "2024-11-07T16:28:40.580Z"
   },
   {
    "duration": 0,
    "start_time": "2024-11-07T16:28:40.581Z"
   },
   {
    "duration": 0,
    "start_time": "2024-11-07T16:28:40.582Z"
   },
   {
    "duration": 0,
    "start_time": "2024-11-07T16:28:40.583Z"
   },
   {
    "duration": 0,
    "start_time": "2024-11-07T16:28:40.584Z"
   },
   {
    "duration": 0,
    "start_time": "2024-11-07T16:28:40.586Z"
   },
   {
    "duration": 0,
    "start_time": "2024-11-07T16:28:40.587Z"
   },
   {
    "duration": 0,
    "start_time": "2024-11-07T16:28:40.587Z"
   },
   {
    "duration": 0,
    "start_time": "2024-11-07T16:28:40.589Z"
   },
   {
    "duration": 0,
    "start_time": "2024-11-07T16:28:40.590Z"
   },
   {
    "duration": 0,
    "start_time": "2024-11-07T16:28:40.621Z"
   },
   {
    "duration": 0,
    "start_time": "2024-11-07T16:28:40.622Z"
   },
   {
    "duration": 0,
    "start_time": "2024-11-07T16:28:40.623Z"
   },
   {
    "duration": 0,
    "start_time": "2024-11-07T16:28:40.624Z"
   },
   {
    "duration": 0,
    "start_time": "2024-11-07T16:28:40.625Z"
   },
   {
    "duration": 0,
    "start_time": "2024-11-07T16:28:40.626Z"
   },
   {
    "duration": 0,
    "start_time": "2024-11-07T16:28:40.627Z"
   },
   {
    "duration": 0,
    "start_time": "2024-11-07T16:28:40.628Z"
   },
   {
    "duration": 0,
    "start_time": "2024-11-07T16:28:40.629Z"
   },
   {
    "duration": 0,
    "start_time": "2024-11-07T16:28:40.630Z"
   },
   {
    "duration": 0,
    "start_time": "2024-11-07T16:28:40.631Z"
   },
   {
    "duration": 1,
    "start_time": "2024-11-07T16:28:40.631Z"
   },
   {
    "duration": 0,
    "start_time": "2024-11-07T16:28:40.633Z"
   },
   {
    "duration": 0,
    "start_time": "2024-11-07T16:28:40.634Z"
   },
   {
    "duration": 0,
    "start_time": "2024-11-07T16:28:40.635Z"
   },
   {
    "duration": 0,
    "start_time": "2024-11-07T16:28:40.636Z"
   },
   {
    "duration": 0,
    "start_time": "2024-11-07T16:28:40.637Z"
   },
   {
    "duration": 0,
    "start_time": "2024-11-07T16:28:40.638Z"
   },
   {
    "duration": 0,
    "start_time": "2024-11-07T16:28:40.639Z"
   },
   {
    "duration": 4,
    "start_time": "2024-11-07T16:29:49.754Z"
   },
   {
    "duration": 1058,
    "start_time": "2024-11-07T16:30:16.753Z"
   },
   {
    "duration": 2360,
    "start_time": "2024-11-07T16:30:53.867Z"
   },
   {
    "duration": 635,
    "start_time": "2024-11-07T16:30:56.229Z"
   },
   {
    "duration": 172,
    "start_time": "2024-11-07T16:30:56.866Z"
   },
   {
    "duration": 16,
    "start_time": "2024-11-07T16:30:57.040Z"
   },
   {
    "duration": 9,
    "start_time": "2024-11-07T16:30:57.058Z"
   },
   {
    "duration": 28,
    "start_time": "2024-11-07T16:30:57.069Z"
   },
   {
    "duration": 27,
    "start_time": "2024-11-07T16:30:57.099Z"
   },
   {
    "duration": 9,
    "start_time": "2024-11-07T16:30:57.127Z"
   },
   {
    "duration": 20,
    "start_time": "2024-11-07T16:30:57.138Z"
   },
   {
    "duration": 31,
    "start_time": "2024-11-07T16:30:57.160Z"
   },
   {
    "duration": 49,
    "start_time": "2024-11-07T16:30:57.193Z"
   },
   {
    "duration": 4,
    "start_time": "2024-11-07T16:30:57.243Z"
   },
   {
    "duration": 11,
    "start_time": "2024-11-07T16:30:57.248Z"
   },
   {
    "duration": 69,
    "start_time": "2024-11-07T16:30:57.262Z"
   },
   {
    "duration": 5,
    "start_time": "2024-11-07T16:30:57.334Z"
   },
   {
    "duration": 248,
    "start_time": "2024-11-07T16:30:57.341Z"
   },
   {
    "duration": 18,
    "start_time": "2024-11-07T16:30:57.591Z"
   },
   {
    "duration": 8,
    "start_time": "2024-11-07T16:30:57.621Z"
   },
   {
    "duration": 38,
    "start_time": "2024-11-07T16:30:57.631Z"
   },
   {
    "duration": 10,
    "start_time": "2024-11-07T16:30:57.671Z"
   },
   {
    "duration": 9,
    "start_time": "2024-11-07T16:30:57.682Z"
   },
   {
    "duration": 20,
    "start_time": "2024-11-07T16:30:57.692Z"
   },
   {
    "duration": 30,
    "start_time": "2024-11-07T16:30:57.713Z"
   },
   {
    "duration": 11,
    "start_time": "2024-11-07T16:30:57.745Z"
   },
   {
    "duration": 17,
    "start_time": "2024-11-07T16:30:57.757Z"
   },
   {
    "duration": 22,
    "start_time": "2024-11-07T16:30:57.775Z"
   },
   {
    "duration": 9,
    "start_time": "2024-11-07T16:30:57.799Z"
   },
   {
    "duration": 5,
    "start_time": "2024-11-07T16:30:57.809Z"
   },
   {
    "duration": 11809,
    "start_time": "2024-11-07T16:30:57.816Z"
   },
   {
    "duration": 4,
    "start_time": "2024-11-07T16:31:09.626Z"
   },
   {
    "duration": 13,
    "start_time": "2024-11-07T16:31:09.631Z"
   },
   {
    "duration": 6,
    "start_time": "2024-11-07T16:31:09.645Z"
   },
   {
    "duration": 7,
    "start_time": "2024-11-07T16:31:09.653Z"
   },
   {
    "duration": 17,
    "start_time": "2024-11-07T16:31:09.661Z"
   },
   {
    "duration": 160311,
    "start_time": "2024-11-07T16:31:09.679Z"
   },
   {
    "duration": 4,
    "start_time": "2024-11-07T16:33:49.992Z"
   },
   {
    "duration": 22,
    "start_time": "2024-11-07T16:33:49.997Z"
   },
   {
    "duration": 46,
    "start_time": "2024-11-07T16:33:50.020Z"
   },
   {
    "duration": 28,
    "start_time": "2024-11-07T16:33:50.068Z"
   },
   {
    "duration": 32,
    "start_time": "2024-11-07T16:33:50.097Z"
   },
   {
    "duration": 41,
    "start_time": "2024-11-07T16:33:50.134Z"
   },
   {
    "duration": 8,
    "start_time": "2024-11-07T16:33:50.177Z"
   },
   {
    "duration": 21,
    "start_time": "2024-11-07T16:33:50.187Z"
   },
   {
    "duration": 20,
    "start_time": "2024-11-07T16:33:50.210Z"
   },
   {
    "duration": 24,
    "start_time": "2024-11-07T16:33:50.231Z"
   },
   {
    "duration": 34,
    "start_time": "2024-11-07T16:33:50.256Z"
   },
   {
    "duration": 14,
    "start_time": "2024-11-07T16:33:50.292Z"
   },
   {
    "duration": 20,
    "start_time": "2024-11-07T16:33:50.307Z"
   },
   {
    "duration": 82,
    "start_time": "2024-11-07T16:33:50.329Z"
   },
   {
    "duration": 17,
    "start_time": "2024-11-07T16:33:50.413Z"
   },
   {
    "duration": 27,
    "start_time": "2024-11-07T16:33:50.431Z"
   },
   {
    "duration": 1018,
    "start_time": "2024-11-07T16:33:50.459Z"
   },
   {
    "duration": 4,
    "start_time": "2024-11-07T16:33:51.479Z"
   },
   {
    "duration": 149,
    "start_time": "2024-11-07T16:33:51.484Z"
   },
   {
    "duration": 117,
    "start_time": "2024-11-07T16:33:51.635Z"
   },
   {
    "duration": 136,
    "start_time": "2024-11-07T16:33:51.754Z"
   },
   {
    "duration": 29,
    "start_time": "2024-11-07T16:33:51.892Z"
   },
   {
    "duration": 11,
    "start_time": "2024-11-07T16:33:51.922Z"
   },
   {
    "duration": 8,
    "start_time": "2024-11-07T16:33:51.934Z"
   },
   {
    "duration": 1087,
    "start_time": "2024-11-07T16:33:51.943Z"
   },
   {
    "duration": 1082,
    "start_time": "2024-11-07T16:33:53.032Z"
   },
   {
    "duration": 369,
    "start_time": "2024-11-07T16:33:54.120Z"
   },
   {
    "duration": 9,
    "start_time": "2024-11-07T16:33:54.490Z"
   },
   {
    "duration": 49,
    "start_time": "2024-11-07T16:33:54.501Z"
   },
   {
    "duration": 7,
    "start_time": "2024-11-07T16:33:54.552Z"
   },
   {
    "duration": 148,
    "start_time": "2024-11-07T16:33:54.561Z"
   },
   {
    "duration": 10,
    "start_time": "2024-11-07T16:33:54.711Z"
   },
   {
    "duration": 147,
    "start_time": "2024-11-07T16:33:54.723Z"
   },
   {
    "duration": 139,
    "start_time": "2024-11-07T16:33:54.872Z"
   },
   {
    "duration": 161,
    "start_time": "2024-11-07T16:33:55.021Z"
   },
   {
    "duration": 163,
    "start_time": "2024-11-07T16:33:55.184Z"
   },
   {
    "duration": 532,
    "start_time": "2024-11-07T16:33:55.349Z"
   },
   {
    "duration": 20,
    "start_time": "2024-11-07T16:33:55.883Z"
   },
   {
    "duration": 163,
    "start_time": "2024-11-07T16:33:55.904Z"
   },
   {
    "duration": 172,
    "start_time": "2024-11-07T16:33:56.068Z"
   },
   {
    "duration": 220,
    "start_time": "2024-11-07T16:33:56.241Z"
   },
   {
    "duration": 178,
    "start_time": "2024-11-07T16:33:56.462Z"
   },
   {
    "duration": 173,
    "start_time": "2024-11-07T16:33:56.641Z"
   },
   {
    "duration": 174,
    "start_time": "2024-11-07T16:33:56.816Z"
   },
   {
    "duration": 176,
    "start_time": "2024-11-07T16:33:56.991Z"
   },
   {
    "duration": 193,
    "start_time": "2024-11-07T16:33:57.169Z"
   },
   {
    "duration": 3,
    "start_time": "2024-11-07T16:33:57.364Z"
   },
   {
    "duration": 6,
    "start_time": "2024-11-07T16:33:57.369Z"
   },
   {
    "duration": 4,
    "start_time": "2024-11-07T16:33:57.377Z"
   },
   {
    "duration": 24,
    "start_time": "2024-11-07T16:33:57.382Z"
   },
   {
    "duration": 19,
    "start_time": "2024-11-07T16:33:57.420Z"
   },
   {
    "duration": 3,
    "start_time": "2024-11-07T16:33:57.441Z"
   },
   {
    "duration": 127,
    "start_time": "2024-11-07T16:33:57.446Z"
   },
   {
    "duration": 143,
    "start_time": "2024-11-07T16:33:57.575Z"
   },
   {
    "duration": 116,
    "start_time": "2024-11-07T16:33:57.719Z"
   },
   {
    "duration": 110,
    "start_time": "2024-11-07T16:33:57.837Z"
   },
   {
    "duration": 15,
    "start_time": "2024-11-07T16:33:57.949Z"
   },
   {
    "duration": 119,
    "start_time": "2024-11-07T16:33:57.965Z"
   },
   {
    "duration": 147,
    "start_time": "2024-11-07T16:33:58.085Z"
   },
   {
    "duration": 117,
    "start_time": "2024-11-07T16:33:58.233Z"
   },
   {
    "duration": 190,
    "start_time": "2024-11-07T16:33:58.351Z"
   },
   {
    "duration": 159,
    "start_time": "2024-11-07T16:33:58.542Z"
   },
   {
    "duration": 199,
    "start_time": "2024-11-07T16:33:58.703Z"
   },
   {
    "duration": 7947,
    "start_time": "2024-11-08T13:27:03.874Z"
   },
   {
    "duration": 809,
    "start_time": "2024-11-08T13:27:11.824Z"
   },
   {
    "duration": 290,
    "start_time": "2024-11-08T13:27:12.635Z"
   },
   {
    "duration": 16,
    "start_time": "2024-11-08T13:27:12.927Z"
   },
   {
    "duration": 15,
    "start_time": "2024-11-08T13:27:12.945Z"
   },
   {
    "duration": 14,
    "start_time": "2024-11-08T13:27:12.962Z"
   },
   {
    "duration": 38,
    "start_time": "2024-11-08T13:27:12.977Z"
   },
   {
    "duration": 14,
    "start_time": "2024-11-08T13:27:13.016Z"
   },
   {
    "duration": 21,
    "start_time": "2024-11-08T13:27:13.031Z"
   },
   {
    "duration": 52,
    "start_time": "2024-11-08T13:27:13.054Z"
   },
   {
    "duration": 32,
    "start_time": "2024-11-08T13:27:13.109Z"
   },
   {
    "duration": 6,
    "start_time": "2024-11-08T13:27:13.143Z"
   },
   {
    "duration": 10,
    "start_time": "2024-11-08T13:27:13.150Z"
   },
   {
    "duration": 60,
    "start_time": "2024-11-08T13:27:13.161Z"
   },
   {
    "duration": 4,
    "start_time": "2024-11-08T13:27:13.222Z"
   },
   {
    "duration": 266,
    "start_time": "2024-11-08T13:27:13.228Z"
   },
   {
    "duration": 25,
    "start_time": "2024-11-08T13:27:13.499Z"
   },
   {
    "duration": 7,
    "start_time": "2024-11-08T13:27:13.526Z"
   },
   {
    "duration": 19,
    "start_time": "2024-11-08T13:27:13.534Z"
   },
   {
    "duration": 16,
    "start_time": "2024-11-08T13:27:13.554Z"
   },
   {
    "duration": 29,
    "start_time": "2024-11-08T13:27:13.571Z"
   },
   {
    "duration": 24,
    "start_time": "2024-11-08T13:27:13.601Z"
   },
   {
    "duration": 18,
    "start_time": "2024-11-08T13:27:13.627Z"
   },
   {
    "duration": 8,
    "start_time": "2024-11-08T13:27:13.646Z"
   },
   {
    "duration": 18,
    "start_time": "2024-11-08T13:27:13.655Z"
   },
   {
    "duration": 26,
    "start_time": "2024-11-08T13:27:13.674Z"
   },
   {
    "duration": 11,
    "start_time": "2024-11-08T13:27:13.702Z"
   },
   {
    "duration": 4,
    "start_time": "2024-11-08T13:27:13.717Z"
   },
   {
    "duration": 12493,
    "start_time": "2024-11-08T13:27:13.722Z"
   },
   {
    "duration": 4,
    "start_time": "2024-11-08T13:27:26.218Z"
   },
   {
    "duration": 7,
    "start_time": "2024-11-08T13:27:26.223Z"
   },
   {
    "duration": 13,
    "start_time": "2024-11-08T13:27:26.232Z"
   },
   {
    "duration": 7,
    "start_time": "2024-11-08T13:27:26.246Z"
   },
   {
    "duration": 8,
    "start_time": "2024-11-08T13:27:26.254Z"
   },
   {
    "duration": 163457,
    "start_time": "2024-11-08T13:27:26.264Z"
   },
   {
    "duration": 5,
    "start_time": "2024-11-08T13:30:09.723Z"
   },
   {
    "duration": 24,
    "start_time": "2024-11-08T13:30:09.729Z"
   },
   {
    "duration": 34,
    "start_time": "2024-11-08T13:30:09.754Z"
   },
   {
    "duration": 14,
    "start_time": "2024-11-08T13:30:09.790Z"
   },
   {
    "duration": 32,
    "start_time": "2024-11-08T13:30:09.805Z"
   },
   {
    "duration": 42,
    "start_time": "2024-11-08T13:30:09.838Z"
   },
   {
    "duration": 19,
    "start_time": "2024-11-08T13:30:09.881Z"
   },
   {
    "duration": 9,
    "start_time": "2024-11-08T13:30:09.902Z"
   },
   {
    "duration": 9,
    "start_time": "2024-11-08T13:30:09.913Z"
   },
   {
    "duration": 35,
    "start_time": "2024-11-08T13:30:09.924Z"
   },
   {
    "duration": 9,
    "start_time": "2024-11-08T13:30:09.961Z"
   },
   {
    "duration": 15,
    "start_time": "2024-11-08T13:30:09.972Z"
   },
   {
    "duration": 23,
    "start_time": "2024-11-08T13:30:09.989Z"
   },
   {
    "duration": 64,
    "start_time": "2024-11-08T13:30:10.014Z"
   },
   {
    "duration": 100,
    "start_time": "2024-11-08T13:30:10.080Z"
   },
   {
    "duration": 21,
    "start_time": "2024-11-08T13:30:10.182Z"
   },
   {
    "duration": 21,
    "start_time": "2024-11-08T13:30:10.206Z"
   },
   {
    "duration": 1085,
    "start_time": "2024-11-08T13:30:10.229Z"
   },
   {
    "duration": 541,
    "start_time": "2024-11-08T13:30:11.316Z"
   },
   {
    "duration": 224,
    "start_time": "2024-11-08T13:30:11.858Z"
   },
   {
    "duration": 124,
    "start_time": "2024-11-08T13:30:12.084Z"
   },
   {
    "duration": 136,
    "start_time": "2024-11-08T13:30:12.210Z"
   },
   {
    "duration": 21,
    "start_time": "2024-11-08T13:30:12.348Z"
   },
   {
    "duration": 29,
    "start_time": "2024-11-08T13:30:12.371Z"
   },
   {
    "duration": 505,
    "start_time": "2024-11-08T13:30:12.402Z"
   },
   {
    "duration": 1126,
    "start_time": "2024-11-08T13:30:12.909Z"
   },
   {
    "duration": 1149,
    "start_time": "2024-11-08T13:30:14.037Z"
   },
   {
    "duration": 284,
    "start_time": "2024-11-08T13:30:15.188Z"
   },
   {
    "duration": 10,
    "start_time": "2024-11-08T13:30:15.474Z"
   },
   {
    "duration": 61,
    "start_time": "2024-11-08T13:30:15.486Z"
   },
   {
    "duration": 7,
    "start_time": "2024-11-08T13:30:15.548Z"
   },
   {
    "duration": 172,
    "start_time": "2024-11-08T13:30:15.557Z"
   },
   {
    "duration": 5,
    "start_time": "2024-11-08T13:30:15.730Z"
   },
   {
    "duration": 310,
    "start_time": "2024-11-08T13:30:15.737Z"
   },
   {
    "duration": 153,
    "start_time": "2024-11-08T13:30:16.049Z"
   },
   {
    "duration": 180,
    "start_time": "2024-11-08T13:30:16.204Z"
   },
   {
    "duration": 192,
    "start_time": "2024-11-08T13:30:16.386Z"
   },
   {
    "duration": 39,
    "start_time": "2024-11-08T13:30:16.580Z"
   },
   {
    "duration": 616,
    "start_time": "2024-11-08T13:30:16.621Z"
   },
   {
    "duration": 19,
    "start_time": "2024-11-08T13:30:17.238Z"
   },
   {
    "duration": 171,
    "start_time": "2024-11-08T13:30:17.259Z"
   },
   {
    "duration": 186,
    "start_time": "2024-11-08T13:30:17.432Z"
   },
   {
    "duration": 181,
    "start_time": "2024-11-08T13:30:17.619Z"
   },
   {
    "duration": 187,
    "start_time": "2024-11-08T13:30:17.801Z"
   },
   {
    "duration": 189,
    "start_time": "2024-11-08T13:30:17.990Z"
   },
   {
    "duration": 260,
    "start_time": "2024-11-08T13:30:18.181Z"
   },
   {
    "duration": 195,
    "start_time": "2024-11-08T13:30:18.447Z"
   },
   {
    "duration": 192,
    "start_time": "2024-11-08T13:30:18.644Z"
   },
   {
    "duration": 4,
    "start_time": "2024-11-08T13:30:18.838Z"
   },
   {
    "duration": 42,
    "start_time": "2024-11-08T13:30:18.843Z"
   },
   {
    "duration": 10,
    "start_time": "2024-11-08T13:30:18.886Z"
   },
   {
    "duration": 20,
    "start_time": "2024-11-08T13:30:18.898Z"
   },
   {
    "duration": 70,
    "start_time": "2024-11-08T13:30:18.920Z"
   },
   {
    "duration": 8,
    "start_time": "2024-11-08T13:30:18.991Z"
   },
   {
    "duration": 122,
    "start_time": "2024-11-08T13:30:19.001Z"
   },
   {
    "duration": 151,
    "start_time": "2024-11-08T13:30:19.124Z"
   },
   {
    "duration": 123,
    "start_time": "2024-11-08T13:30:19.277Z"
   },
   {
    "duration": 183,
    "start_time": "2024-11-08T13:30:19.401Z"
   },
   {
    "duration": 20,
    "start_time": "2024-11-08T13:30:19.586Z"
   },
   {
    "duration": 132,
    "start_time": "2024-11-08T13:30:19.608Z"
   },
   {
    "duration": 144,
    "start_time": "2024-11-08T13:30:19.742Z"
   },
   {
    "duration": 119,
    "start_time": "2024-11-08T13:30:19.888Z"
   },
   {
    "duration": 184,
    "start_time": "2024-11-08T13:30:20.008Z"
   },
   {
    "duration": 183,
    "start_time": "2024-11-08T13:30:20.194Z"
   },
   {
    "duration": 212,
    "start_time": "2024-11-08T13:30:20.379Z"
   },
   {
    "duration": 312,
    "start_time": "2024-11-08T13:30:20.600Z"
   },
   {
    "duration": 230,
    "start_time": "2024-11-08T13:30:20.914Z"
   },
   {
    "duration": 14,
    "start_time": "2024-11-08T13:30:21.146Z"
   },
   {
    "duration": 648,
    "start_time": "2024-11-08T13:50:57.484Z"
   },
   {
    "duration": 43,
    "start_time": "2024-11-08T13:51:06.980Z"
   },
   {
    "duration": 16,
    "start_time": "2024-11-08T13:51:13.110Z"
   },
   {
    "duration": 4,
    "start_time": "2024-11-08T13:53:17.697Z"
   },
   {
    "duration": 8,
    "start_time": "2024-11-08T13:53:17.954Z"
   },
   {
    "duration": 13,
    "start_time": "2024-11-08T13:53:18.185Z"
   },
   {
    "duration": 14,
    "start_time": "2024-11-08T13:53:18.394Z"
   },
   {
    "duration": 14,
    "start_time": "2024-11-08T13:53:18.721Z"
   },
   {
    "duration": 5,
    "start_time": "2024-11-08T13:53:19.090Z"
   },
   {
    "duration": 2465,
    "start_time": "2024-11-08T13:53:23.712Z"
   },
   {
    "duration": 717,
    "start_time": "2024-11-08T13:53:26.179Z"
   },
   {
    "duration": 178,
    "start_time": "2024-11-08T13:53:26.899Z"
   },
   {
    "duration": 17,
    "start_time": "2024-11-08T13:53:27.078Z"
   },
   {
    "duration": 9,
    "start_time": "2024-11-08T13:53:27.097Z"
   },
   {
    "duration": 16,
    "start_time": "2024-11-08T13:53:27.108Z"
   },
   {
    "duration": 31,
    "start_time": "2024-11-08T13:53:27.126Z"
   },
   {
    "duration": 13,
    "start_time": "2024-11-08T13:53:27.158Z"
   },
   {
    "duration": 46,
    "start_time": "2024-11-08T13:53:27.173Z"
   },
   {
    "duration": 28,
    "start_time": "2024-11-08T13:53:27.220Z"
   },
   {
    "duration": 22,
    "start_time": "2024-11-08T13:53:27.250Z"
   },
   {
    "duration": 29,
    "start_time": "2024-11-08T13:53:27.274Z"
   },
   {
    "duration": 18,
    "start_time": "2024-11-08T13:53:27.305Z"
   },
   {
    "duration": 35,
    "start_time": "2024-11-08T13:53:27.326Z"
   },
   {
    "duration": 4,
    "start_time": "2024-11-08T13:53:27.363Z"
   },
   {
    "duration": 251,
    "start_time": "2024-11-08T13:53:27.369Z"
   },
   {
    "duration": 21,
    "start_time": "2024-11-08T13:53:27.621Z"
   },
   {
    "duration": 14,
    "start_time": "2024-11-08T13:53:27.643Z"
   },
   {
    "duration": 44,
    "start_time": "2024-11-08T13:53:27.658Z"
   },
   {
    "duration": 24,
    "start_time": "2024-11-08T13:53:27.704Z"
   },
   {
    "duration": 16,
    "start_time": "2024-11-08T13:53:27.729Z"
   },
   {
    "duration": 47,
    "start_time": "2024-11-08T13:53:27.747Z"
   },
   {
    "duration": 43,
    "start_time": "2024-11-08T13:53:27.796Z"
   },
   {
    "duration": 8,
    "start_time": "2024-11-08T13:53:27.841Z"
   },
   {
    "duration": 16,
    "start_time": "2024-11-08T13:53:27.850Z"
   },
   {
    "duration": 26,
    "start_time": "2024-11-08T13:53:27.868Z"
   },
   {
    "duration": 7,
    "start_time": "2024-11-08T13:53:27.896Z"
   },
   {
    "duration": 5,
    "start_time": "2024-11-08T13:53:27.905Z"
   },
   {
    "duration": 12595,
    "start_time": "2024-11-08T13:53:27.912Z"
   },
   {
    "duration": 3,
    "start_time": "2024-11-08T13:53:40.509Z"
   },
   {
    "duration": 15,
    "start_time": "2024-11-08T13:53:40.513Z"
   },
   {
    "duration": 7,
    "start_time": "2024-11-08T13:53:40.529Z"
   },
   {
    "duration": 5,
    "start_time": "2024-11-08T13:53:40.537Z"
   },
   {
    "duration": 6,
    "start_time": "2024-11-08T13:53:40.544Z"
   },
   {
    "duration": 160955,
    "start_time": "2024-11-08T13:53:40.551Z"
   },
   {
    "duration": 5,
    "start_time": "2024-11-08T13:56:21.508Z"
   },
   {
    "duration": 19,
    "start_time": "2024-11-08T13:56:21.515Z"
   },
   {
    "duration": 40,
    "start_time": "2024-11-08T13:56:21.536Z"
   },
   {
    "duration": 17,
    "start_time": "2024-11-08T13:56:21.578Z"
   },
   {
    "duration": 22,
    "start_time": "2024-11-08T13:56:21.597Z"
   },
   {
    "duration": 30,
    "start_time": "2024-11-08T13:56:21.624Z"
   },
   {
    "duration": 17,
    "start_time": "2024-11-08T13:56:21.656Z"
   },
   {
    "duration": 10,
    "start_time": "2024-11-08T13:56:21.675Z"
   },
   {
    "duration": 16,
    "start_time": "2024-11-08T13:56:21.699Z"
   },
   {
    "duration": 10,
    "start_time": "2024-11-08T13:56:21.716Z"
   },
   {
    "duration": 28,
    "start_time": "2024-11-08T13:56:21.727Z"
   },
   {
    "duration": 31,
    "start_time": "2024-11-08T13:56:21.756Z"
   },
   {
    "duration": 11,
    "start_time": "2024-11-08T13:56:21.789Z"
   },
   {
    "duration": 11,
    "start_time": "2024-11-08T13:56:21.802Z"
   },
   {
    "duration": 14,
    "start_time": "2024-11-08T13:56:21.815Z"
   },
   {
    "duration": 108,
    "start_time": "2024-11-08T13:56:21.830Z"
   },
   {
    "duration": 15,
    "start_time": "2024-11-08T13:56:21.940Z"
   },
   {
    "duration": 4,
    "start_time": "2024-11-08T13:56:21.957Z"
   },
   {
    "duration": 1105,
    "start_time": "2024-11-08T13:56:21.962Z"
   },
   {
    "duration": 503,
    "start_time": "2024-11-08T13:56:23.069Z"
   },
   {
    "duration": 220,
    "start_time": "2024-11-08T13:56:23.574Z"
   },
   {
    "duration": 123,
    "start_time": "2024-11-08T13:56:23.796Z"
   },
   {
    "duration": 164,
    "start_time": "2024-11-08T13:56:23.921Z"
   },
   {
    "duration": 31,
    "start_time": "2024-11-08T13:56:24.087Z"
   },
   {
    "duration": 11,
    "start_time": "2024-11-08T13:56:24.120Z"
   },
   {
    "duration": 533,
    "start_time": "2024-11-08T13:56:24.132Z"
   },
   {
    "duration": 1135,
    "start_time": "2024-11-08T13:56:24.666Z"
   },
   {
    "duration": 1109,
    "start_time": "2024-11-08T13:56:25.803Z"
   },
   {
    "duration": 323,
    "start_time": "2024-11-08T13:56:26.914Z"
   },
   {
    "duration": 11,
    "start_time": "2024-11-08T13:56:27.239Z"
   },
   {
    "duration": 54,
    "start_time": "2024-11-08T13:56:27.252Z"
   },
   {
    "duration": 8,
    "start_time": "2024-11-08T13:56:27.308Z"
   },
   {
    "duration": 155,
    "start_time": "2024-11-08T13:56:27.318Z"
   },
   {
    "duration": 5,
    "start_time": "2024-11-08T13:56:27.475Z"
   },
   {
    "duration": 264,
    "start_time": "2024-11-08T13:56:27.482Z"
   },
   {
    "duration": 152,
    "start_time": "2024-11-08T13:56:27.749Z"
   },
   {
    "duration": 170,
    "start_time": "2024-11-08T13:56:27.903Z"
   },
   {
    "duration": 180,
    "start_time": "2024-11-08T13:56:28.074Z"
   },
   {
    "duration": 31,
    "start_time": "2024-11-08T13:56:28.256Z"
   },
   {
    "duration": 672,
    "start_time": "2024-11-08T13:56:28.289Z"
   },
   {
    "duration": 18,
    "start_time": "2024-11-08T13:56:28.963Z"
   },
   {
    "duration": 162,
    "start_time": "2024-11-08T13:56:28.983Z"
   },
   {
    "duration": 180,
    "start_time": "2024-11-08T13:56:29.147Z"
   },
   {
    "duration": 164,
    "start_time": "2024-11-08T13:56:29.329Z"
   },
   {
    "duration": 181,
    "start_time": "2024-11-08T13:56:29.494Z"
   },
   {
    "duration": 179,
    "start_time": "2024-11-08T13:56:29.676Z"
   },
   {
    "duration": 279,
    "start_time": "2024-11-08T13:56:29.856Z"
   },
   {
    "duration": 212,
    "start_time": "2024-11-08T13:56:30.138Z"
   },
   {
    "duration": 172,
    "start_time": "2024-11-08T13:56:30.352Z"
   },
   {
    "duration": 4,
    "start_time": "2024-11-08T13:56:30.525Z"
   },
   {
    "duration": 31,
    "start_time": "2024-11-08T13:56:30.531Z"
   },
   {
    "duration": 34,
    "start_time": "2024-11-08T13:56:30.564Z"
   },
   {
    "duration": 35,
    "start_time": "2024-11-08T13:56:30.599Z"
   },
   {
    "duration": 47,
    "start_time": "2024-11-08T13:56:30.635Z"
   },
   {
    "duration": 28,
    "start_time": "2024-11-08T13:56:30.684Z"
   },
   {
    "duration": 121,
    "start_time": "2024-11-08T13:56:30.713Z"
   },
   {
    "duration": 135,
    "start_time": "2024-11-08T13:56:30.836Z"
   },
   {
    "duration": 110,
    "start_time": "2024-11-08T13:56:30.972Z"
   },
   {
    "duration": 175,
    "start_time": "2024-11-08T13:56:31.084Z"
   },
   {
    "duration": 14,
    "start_time": "2024-11-08T13:56:31.261Z"
   },
   {
    "duration": 126,
    "start_time": "2024-11-08T13:56:31.276Z"
   },
   {
    "duration": 146,
    "start_time": "2024-11-08T13:56:31.404Z"
   },
   {
    "duration": 122,
    "start_time": "2024-11-08T13:56:31.551Z"
   },
   {
    "duration": 184,
    "start_time": "2024-11-08T13:56:31.675Z"
   },
   {
    "duration": 176,
    "start_time": "2024-11-08T13:56:31.861Z"
   },
   {
    "duration": 203,
    "start_time": "2024-11-08T13:56:32.039Z"
   },
   {
    "duration": 324,
    "start_time": "2024-11-08T13:56:32.244Z"
   },
   {
    "duration": 221,
    "start_time": "2024-11-08T13:56:32.570Z"
   },
   {
    "duration": 12,
    "start_time": "2024-11-08T13:56:32.799Z"
   },
   {
    "duration": 60,
    "start_time": "2024-11-08T13:56:32.813Z"
   },
   {
    "duration": 66,
    "start_time": "2024-11-08T13:56:32.874Z"
   },
   {
    "duration": 71,
    "start_time": "2024-11-08T13:56:32.942Z"
   },
   {
    "duration": 37,
    "start_time": "2024-11-08T13:56:33.015Z"
   },
   {
    "duration": 35,
    "start_time": "2024-11-08T13:56:33.053Z"
   },
   {
    "duration": 39,
    "start_time": "2024-11-08T13:56:33.089Z"
   },
   {
    "duration": 1087,
    "start_time": "2025-04-10T19:52:14.943Z"
   },
   {
    "duration": 89,
    "start_time": "2025-04-10T19:52:16.032Z"
   },
   {
    "duration": 21,
    "start_time": "2025-04-10T19:52:16.122Z"
   },
   {
    "duration": 24,
    "start_time": "2025-04-10T19:52:16.146Z"
   },
   {
    "duration": 5,
    "start_time": "2025-04-10T19:52:16.172Z"
   },
   {
    "duration": 4,
    "start_time": "2025-04-10T19:52:16.179Z"
   },
   {
    "duration": 172,
    "start_time": "2025-04-10T19:52:16.185Z"
   },
   {
    "duration": 136,
    "start_time": "2025-04-10T19:52:16.359Z"
   },
   {
    "duration": 125,
    "start_time": "2025-04-10T19:52:16.497Z"
   },
   {
    "duration": 6,
    "start_time": "2025-04-10T19:52:16.624Z"
   },
   {
    "duration": 13,
    "start_time": "2025-04-10T19:52:16.631Z"
   },
   {
    "duration": 24,
    "start_time": "2025-04-10T19:52:16.646Z"
   },
   {
    "duration": 9,
    "start_time": "2025-04-10T19:52:16.671Z"
   },
   {
    "duration": 5,
    "start_time": "2025-04-10T19:52:16.681Z"
   },
   {
    "duration": 160,
    "start_time": "2025-04-10T19:52:16.687Z"
   },
   {
    "duration": 122,
    "start_time": "2025-04-10T19:52:16.848Z"
   },
   {
    "duration": 68,
    "start_time": "2025-04-10T19:52:16.971Z"
   },
   {
    "duration": 4,
    "start_time": "2025-04-10T19:52:17.040Z"
   },
   {
    "duration": 460,
    "start_time": "2025-04-10T19:52:17.045Z"
   },
   {
    "duration": 25,
    "start_time": "2025-04-10T19:52:17.506Z"
   },
   {
    "duration": 15,
    "start_time": "2025-04-10T19:52:17.532Z"
   },
   {
    "duration": 34,
    "start_time": "2025-04-10T19:52:17.549Z"
   },
   {
    "duration": 515,
    "start_time": "2025-04-10T19:52:17.584Z"
   },
   {
    "duration": 462,
    "start_time": "2025-04-10T19:52:18.101Z"
   },
   {
    "duration": 20,
    "start_time": "2025-04-10T19:52:18.565Z"
   },
   {
    "duration": 835,
    "start_time": "2025-04-10T19:52:18.587Z"
   },
   {
    "duration": 6,
    "start_time": "2025-04-10T19:52:19.424Z"
   },
   {
    "duration": 5,
    "start_time": "2025-04-10T19:52:19.433Z"
   },
   {
    "duration": 4,
    "start_time": "2025-04-10T19:52:19.440Z"
   },
   {
    "duration": 14,
    "start_time": "2025-04-10T19:52:19.472Z"
   },
   {
    "duration": 10,
    "start_time": "2025-04-10T19:52:19.488Z"
   },
   {
    "duration": 5,
    "start_time": "2025-04-10T19:52:19.499Z"
   },
   {
    "duration": 1121,
    "start_time": "2025-04-10T19:52:19.505Z"
   },
   {
    "duration": 4,
    "start_time": "2025-04-10T19:52:20.627Z"
   },
   {
    "duration": 163,
    "start_time": "2025-04-10T19:52:20.632Z"
   },
   {
    "duration": 4,
    "start_time": "2025-04-10T19:52:20.797Z"
   },
   {
    "duration": 7,
    "start_time": "2025-04-10T20:00:52.394Z"
   },
   {
    "duration": 13,
    "start_time": "2025-04-10T20:15:08.482Z"
   },
   {
    "duration": 4,
    "start_time": "2025-04-10T20:18:06.668Z"
   },
   {
    "duration": 5,
    "start_time": "2025-04-10T20:20:31.777Z"
   },
   {
    "duration": 13,
    "start_time": "2025-04-10T20:21:33.533Z"
   },
   {
    "duration": 5,
    "start_time": "2025-04-10T20:21:46.288Z"
   },
   {
    "duration": 6,
    "start_time": "2025-04-10T20:27:42.298Z"
   },
   {
    "duration": 91,
    "start_time": "2025-04-10T20:28:44.875Z"
   },
   {
    "duration": 6,
    "start_time": "2025-04-10T20:28:58.601Z"
   }
  ],
  "colab": {
   "provenance": []
  },
  "kernelspec": {
   "display_name": "practicum",
   "language": "python",
   "name": "python3"
  },
  "language_info": {
   "codemirror_mode": {
    "name": "ipython",
    "version": 3
   },
   "file_extension": ".py",
   "mimetype": "text/x-python",
   "name": "python",
   "nbconvert_exporter": "python",
   "pygments_lexer": "ipython3",
   "version": "3.9.21"
  },
  "toc": {
   "base_numbering": 1,
   "nav_menu": {},
   "number_sections": true,
   "sideBar": true,
   "skip_h1_title": true,
   "title_cell": "Table of Contents",
   "title_sidebar": "Contents",
   "toc_cell": false,
   "toc_position": {
    "height": "calc(100% - 180px)",
    "left": "10px",
    "top": "150px",
    "width": "175.136px"
   },
   "toc_section_display": true,
   "toc_window_display": true
  }
 },
 "nbformat": 4,
 "nbformat_minor": 1
}
